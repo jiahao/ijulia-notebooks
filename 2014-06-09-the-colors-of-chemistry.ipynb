{
 "metadata": {
  "language": "Julia",
  "name": "",
  "signature": "sha256:c77788a780a3a8c18287ebe3310c4e43a2a8aca188299301b4d9b059e36df1ed"
 },
 "nbformat": 3,
 "nbformat_minor": 0,
 "worksheets": [
  {
   "cells": [
    {
     "cell_type": "markdown",
     "metadata": {},
     "source": [
      "<script>\n",
      "  (function(i,s,o,g,r,a,m){i['GoogleAnalyticsObject']=r;i[r]=i[r]||function(){\n",
      "  (i[r].q=i[r].q||[]).push(arguments)},i[r].l=1*new Date();a=s.createElement(o),\n",
      "  m=s.getElementsByTagName(o)[0];a.async=1;a.src=g;m.parentNode.insertBefore(a,m)\n",
      "  })(window,document,'script','//www.google-analytics.com/analytics.js','ga');\n",
      "\n",
      "  ga('create', 'UA-142140-8', 'jiahao.github.io');\n",
      "  ga('require', 'displayfeatures');\n",
      "  ga('send', 'pageview');\n",
      "\n",
      "</script>\n",
      "\n",
      "\n",
      "<a rel=\"license\" href=\"http://creativecommons.org/licenses/by/4.0/\"><img alt=\"Creative Commons License\" style=\"border-width:0\" src=\"https://i.creativecommons.org/l/by/4.0/88x31.png\" /></a> _Copyright &copy; 2014 <a xmlns:cc=\"http://creativecommons.org/ns#\" href=\"http://jiahao.github.io/julia-blog/2014/06/09/the-colors-of-chemistry.html\" property=\"cc:attributionName\" rel=\"cc:attributionURL\">Jiahao Chen</a> (jiahao@mit.edu), Research Scientist at [MIT CSAIL](http://csail.mit.edu).\n",
      "<span xmlns:dct=\"http://purl.org/dc/terms/\" property=\"dct:title\"><b>The Colors of Chemistry</b></span> is licensed under a <a rel=\"license\" href=\"http://creativecommons.org/licenses/by/4.0/\">Creative Commons Attribution 4.0 International License</a>. Follow the discussion [on Hacker News](https://news.ycombinator.com/item?id=7870138)\n",
      ", or get this IJulia notebook [on Github](https://github.com/jiahao/ijulia-notebooks)_."
     ]
    },
    {
     "cell_type": "markdown",
     "metadata": {},
     "source": [
      "# The colors of chemistry\n",
      "\n",
      "This notebook documents my exploration of color theory and its applications to photochemistry. It also shows off the functionality of several Julia packages: [Color.jl](http://github.com/JuliaLang/Color.jl) for color theory and colorimetry, [SIUnits.jl](http://github.com/Keno/SIUnits.jl) for unitful computations, and [Gadfly.jl](http://github.com/dcjones/Gadfly.jl) for graph plotting."
     ]
    },
    {
     "cell_type": "code",
     "collapsed": false,
     "input": [
      "using Color, Gadfly, SIUnits, SIUnits.ShortUnits"
     ],
     "language": "python",
     "metadata": {},
     "outputs": [
      {
       "html": [
        "<script charset=\"utf-8\">d3=function(){function n(n){return null!=n&&!isNaN(n)}function t(n){return n.length}function e(n){for(var t=1;n*t%1;)t*=10;return t}function r(n,t){try{for(var e in t)Object.defineProperty(n.prototype,e,{value:t[e],enumerable:!1})}catch(r){n.prototype=t}}function u(){}function i(){}function o(n,t,e){return function(){var r=e.apply(t,arguments);return r===t?n:r}}function a(n,t){if(t in n)return t;t=t.charAt(0).toUpperCase()+t.substring(1);for(var e=0,r=la.length;r>e;++e){var u=la[e]+t;if(u in n)return u}}function c(){}function s(){}function l(n){function t(){for(var t,r=e,u=-1,i=r.length;++u<i;)(t=r[u].on)&&t.apply(this,arguments);return n}var e=[],r=new u;return t.on=function(t,u){var i,o=r.get(t);return arguments.length<2?o&&o.on:(o&&(o.on=null,e=e.slice(0,i=e.indexOf(o)).concat(e.slice(i+1)),r.remove(t)),u&&e.push(r.set(t,{on:u})),n)},t}function f(){$o.event.preventDefault()}function h(){for(var n,t=$o.event;n=t.sourceEvent;)t=n;return t}function g(n){for(var t=new s,e=0,r=arguments.length;++e<r;)t[arguments[e]]=l(t);return t.of=function(e,r){return function(u){try{var i=u.sourceEvent=$o.event;u.target=n,$o.event=u,t[u.type].apply(e,r)}finally{$o.event=i}}},t}function p(n){return ha(n,ma),n}function v(n){return\"function\"==typeof n?n:function(){return ga(n,this)}}function d(n){return\"function\"==typeof n?n:function(){return pa(n,this)}}function m(n,t){function e(){this.removeAttribute(n)}function r(){this.removeAttributeNS(n.space,n.local)}function u(){this.setAttribute(n,t)}function i(){this.setAttributeNS(n.space,n.local,t)}function o(){var e=t.apply(this,arguments);null==e?this.removeAttribute(n):this.setAttribute(n,e)}function a(){var e=t.apply(this,arguments);null==e?this.removeAttributeNS(n.space,n.local):this.setAttributeNS(n.space,n.local,e)}return n=$o.ns.qualify(n),null==t?n.local?r:e:\"function\"==typeof t?n.local?a:o:n.local?i:u}function y(n){return n.trim().replace(/\\s+/g,\" \")}function x(n){return new RegExp(\"(?:^|\\\\s+)\"+$o.requote(n)+\"(?:\\\\s+|$)\",\"g\")}function M(n,t){function e(){for(var e=-1;++e<u;)n[e](this,t)}function r(){for(var e=-1,r=t.apply(this,arguments);++e<u;)n[e](this,r)}n=n.trim().split(/\\s+/).map(_);var u=n.length;return\"function\"==typeof t?r:e}function _(n){var t=x(n);return function(e,r){if(u=e.classList)return r?u.add(n):u.remove(n);var u=e.getAttribute(\"class\")||\"\";r?(t.lastIndex=0,t.test(u)||e.setAttribute(\"class\",y(u+\" \"+n))):e.setAttribute(\"class\",y(u.replace(t,\" \")))}}function b(n,t,e){function r(){this.style.removeProperty(n)}function u(){this.style.setProperty(n,t,e)}function i(){var r=t.apply(this,arguments);null==r?this.style.removeProperty(n):this.style.setProperty(n,r,e)}return null==t?r:\"function\"==typeof t?i:u}function w(n,t){function e(){delete this[n]}function r(){this[n]=t}function u(){var e=t.apply(this,arguments);null==e?delete this[n]:this[n]=e}return null==t?e:\"function\"==typeof t?u:r}function S(n){return\"function\"==typeof n?n:(n=$o.ns.qualify(n)).local?function(){return this.ownerDocument.createElementNS(n.space,n.local)}:function(){return this.ownerDocument.createElementNS(this.namespaceURI,n)}}function k(n){return{__data__:n}}function E(n){return function(){return da(this,n)}}function A(n){return arguments.length||(n=$o.ascending),function(t,e){return t&&e?n(t.__data__,e.__data__):!t-!e}}function C(n,t){for(var e=0,r=n.length;r>e;e++)for(var u,i=n[e],o=0,a=i.length;a>o;o++)(u=i[o])&&t(u,o,e);return n}function N(n){return ha(n,xa),n}function L(n){var t,e;return function(r,u,i){var o,a=n[i].update,c=a.length;for(i!=e&&(e=i,t=0),u>=t&&(t=u+1);!(o=a[t])&&++t<c;);return o}}function T(){var n=this.__transition__;n&&++n.active}function q(n,t,e){function r(){var t=this[o];t&&(this.removeEventListener(n,t,t.$),delete this[o])}function u(){var u=s(t,Wo(arguments));r.call(this),this.addEventListener(n,this[o]=u,u.$=e),u._=t}function i(){var t,e=new RegExp(\"^__on([^.]+)\"+$o.requote(n)+\"$\");for(var r in this)if(t=r.match(e)){var u=this[r];this.removeEventListener(t[1],u,u.$),delete this[r]}}var o=\"__on\"+n,a=n.indexOf(\".\"),s=z;a>0&&(n=n.substring(0,a));var l=_a.get(n);return l&&(n=l,s=R),a?t?u:r:t?c:i}function z(n,t){return function(e){var r=$o.event;$o.event=e,t[0]=this.__data__;try{n.apply(this,t)}finally{$o.event=r}}}function R(n,t){var e=z(n,t);return function(n){var t=this,r=n.relatedTarget;r&&(r===t||8&r.compareDocumentPosition(t))||e.call(t,n)}}function D(){var n=\".dragsuppress-\"+ ++wa,t=\"click\"+n,e=$o.select(Ko).on(\"touchmove\"+n,f).on(\"dragstart\"+n,f).on(\"selectstart\"+n,f);if(ba){var r=Go.style,u=r[ba];r[ba]=\"none\"}return function(i){function o(){e.on(t,null)}e.on(n,null),ba&&(r[ba]=u),i&&(e.on(t,function(){f(),o()},!0),setTimeout(o,0))}}function P(n,t){t.changedTouches&&(t=t.changedTouches[0]);var e=n.ownerSVGElement||n;if(e.createSVGPoint){var r=e.createSVGPoint();if(0>Sa&&(Ko.scrollX||Ko.scrollY)){e=$o.select(\"body\").append(\"svg\").style({position:\"absolute\",top:0,left:0,margin:0,padding:0,border:\"none\"},\"important\");var u=e[0][0].getScreenCTM();Sa=!(u.f||u.e),e.remove()}return Sa?(r.x=t.pageX,r.y=t.pageY):(r.x=t.clientX,r.y=t.clientY),r=r.matrixTransform(n.getScreenCTM().inverse()),[r.x,r.y]}var i=n.getBoundingClientRect();return[t.clientX-i.left-n.clientLeft,t.clientY-i.top-n.clientTop]}function U(n){return n>0?1:0>n?-1:0}function j(n){return n>1?0:-1>n?ka:Math.acos(n)}function H(n){return n>1?Aa:-1>n?-Aa:Math.asin(n)}function F(n){return((n=Math.exp(n))-1/n)/2}function O(n){return((n=Math.exp(n))+1/n)/2}function Y(n){return((n=Math.exp(2*n))-1)/(n+1)}function I(n){return(n=Math.sin(n/2))*n}function Z(){}function V(n,t,e){return new X(n,t,e)}function X(n,t,e){this.h=n,this.s=t,this.l=e}function $(n,t,e){function r(n){return n>360?n-=360:0>n&&(n+=360),60>n?i+(o-i)*n/60:180>n?o:240>n?i+(o-i)*(240-n)/60:i}function u(n){return Math.round(255*r(n))}var i,o;return n=isNaN(n)?0:(n%=360)<0?n+360:n,t=isNaN(t)?0:0>t?0:t>1?1:t,e=0>e?0:e>1?1:e,o=.5>=e?e*(1+t):e+t-e*t,i=2*e-o,ot(u(n+120),u(n),u(n-120))}function B(n,t,e){return new W(n,t,e)}function W(n,t,e){this.h=n,this.c=t,this.l=e}function J(n,t,e){return isNaN(n)&&(n=0),isNaN(t)&&(t=0),G(e,Math.cos(n*=La)*t,Math.sin(n)*t)}function G(n,t,e){return new K(n,t,e)}function K(n,t,e){this.l=n,this.a=t,this.b=e}function Q(n,t,e){var r=(n+16)/116,u=r+t/500,i=r-e/200;return u=tt(u)*Oa,r=tt(r)*Ya,i=tt(i)*Ia,ot(rt(3.2404542*u-1.5371385*r-.4985314*i),rt(-.969266*u+1.8760108*r+.041556*i),rt(.0556434*u-.2040259*r+1.0572252*i))}function nt(n,t,e){return n>0?B(Math.atan2(e,t)*Ta,Math.sqrt(t*t+e*e),n):B(0/0,0/0,n)}function tt(n){return n>.206893034?n*n*n:(n-4/29)/7.787037}function et(n){return n>.008856?Math.pow(n,1/3):7.787037*n+4/29}function rt(n){return Math.round(255*(.00304>=n?12.92*n:1.055*Math.pow(n,1/2.4)-.055))}function ut(n){return ot(n>>16,255&n>>8,255&n)}function it(n){return ut(n)+\"\"}function ot(n,t,e){return new at(n,t,e)}function at(n,t,e){this.r=n,this.g=t,this.b=e}function ct(n){return 16>n?\"0\"+Math.max(0,n).toString(16):Math.min(255,n).toString(16)}function st(n,t,e){var r,u,i,o=0,a=0,c=0;if(r=/([a-z]+)\\((.*)\\)/i.exec(n))switch(u=r[2].split(\",\"),r[1]){case\"hsl\":return e(parseFloat(u[0]),parseFloat(u[1])/100,parseFloat(u[2])/100);case\"rgb\":return t(gt(u[0]),gt(u[1]),gt(u[2]))}return(i=Xa.get(n))?t(i.r,i.g,i.b):(null!=n&&\"#\"===n.charAt(0)&&(4===n.length?(o=n.charAt(1),o+=o,a=n.charAt(2),a+=a,c=n.charAt(3),c+=c):7===n.length&&(o=n.substring(1,3),a=n.substring(3,5),c=n.substring(5,7)),o=parseInt(o,16),a=parseInt(a,16),c=parseInt(c,16)),t(o,a,c))}function lt(n,t,e){var r,u,i=Math.min(n/=255,t/=255,e/=255),o=Math.max(n,t,e),a=o-i,c=(o+i)/2;return a?(u=.5>c?a/(o+i):a/(2-o-i),r=n==o?(t-e)/a+(e>t?6:0):t==o?(e-n)/a+2:(n-t)/a+4,r*=60):(r=0/0,u=c>0&&1>c?0:r),V(r,u,c)}function ft(n,t,e){n=ht(n),t=ht(t),e=ht(e);var r=et((.4124564*n+.3575761*t+.1804375*e)/Oa),u=et((.2126729*n+.7151522*t+.072175*e)/Ya),i=et((.0193339*n+.119192*t+.9503041*e)/Ia);return G(116*u-16,500*(r-u),200*(u-i))}function ht(n){return(n/=255)<=.04045?n/12.92:Math.pow((n+.055)/1.055,2.4)}function gt(n){var t=parseFloat(n);return\"%\"===n.charAt(n.length-1)?Math.round(2.55*t):t}function pt(n){return\"function\"==typeof n?n:function(){return n}}function vt(n){return n}function dt(n){return function(t,e,r){return 2===arguments.length&&\"function\"==typeof e&&(r=e,e=null),mt(t,e,n,r)}}function mt(n,t,e,r){function u(){var n,t=c.status;if(!t&&c.responseText||t>=200&&300>t||304===t){try{n=e.call(i,c)}catch(r){return o.error.call(i,r),void 0}o.load.call(i,n)}else o.error.call(i,c)}var i={},o=$o.dispatch(\"beforesend\",\"progress\",\"load\",\"error\"),a={},c=new XMLHttpRequest,s=null;return!Ko.XDomainRequest||\"withCredentials\"in c||!/^(http(s)?:)?\\/\\//.test(n)||(c=new XDomainRequest),\"onload\"in c?c.onload=c.onerror=u:c.onreadystatechange=function(){c.readyState>3&&u()},c.onprogress=function(n){var t=$o.event;$o.event=n;try{o.progress.call(i,c)}finally{$o.event=t}},i.header=function(n,t){return n=(n+\"\").toLowerCase(),arguments.length<2?a[n]:(null==t?delete a[n]:a[n]=t+\"\",i)},i.mimeType=function(n){return arguments.length?(t=null==n?null:n+\"\",i):t},i.responseType=function(n){return arguments.length?(s=n,i):s},i.response=function(n){return e=n,i},[\"get\",\"post\"].forEach(function(n){i[n]=function(){return i.send.apply(i,[n].concat(Wo(arguments)))}}),i.send=function(e,r,u){if(2===arguments.length&&\"function\"==typeof r&&(u=r,r=null),c.open(e,n,!0),null==t||\"accept\"in a||(a.accept=t+\",*/*\"),c.setRequestHeader)for(var l in a)c.setRequestHeader(l,a[l]);return null!=t&&c.overrideMimeType&&c.overrideMimeType(t),null!=s&&(c.responseType=s),null!=u&&i.on(\"error\",u).on(\"load\",function(n){u(null,n)}),o.beforesend.call(i,c),c.send(null==r?null:r),i},i.abort=function(){return c.abort(),i},$o.rebind(i,o,\"on\"),null==r?i:i.get(yt(r))}function yt(n){return 1===n.length?function(t,e){n(null==t?e:null)}:n}function xt(){var n=Mt(),t=_t()-n;t>24?(isFinite(t)&&(clearTimeout(Ja),Ja=setTimeout(xt,t)),Wa=0):(Wa=1,Ka(xt))}function Mt(){var n=Date.now();for(Ga=$a;Ga;)n>=Ga.t&&(Ga.f=Ga.c(n-Ga.t)),Ga=Ga.n;return n}function _t(){for(var n,t=$a,e=1/0;t;)t.f?t=n?n.n=t.n:$a=t.n:(t.t<e&&(e=t.t),t=(n=t).n);return Ba=n,e}function bt(n,t){var e=Math.pow(10,3*aa(8-t));return{scale:t>8?function(n){return n/e}:function(n){return n*e},symbol:n}}function wt(n,t){return t-(n?Math.ceil(Math.log(n)/Math.LN10):1)}function St(n){return n+\"\"}function kt(){}function Et(n,t,e){var r=e.s=n+t,u=r-n,i=r-u;e.t=n-i+(t-u)}function At(n,t){n&&lc.hasOwnProperty(n.type)&&lc[n.type](n,t)}function Ct(n,t,e){var r,u=-1,i=n.length-e;for(t.lineStart();++u<i;)r=n[u],t.point(r[0],r[1],r[2]);t.lineEnd()}function Nt(n,t){var e=-1,r=n.length;for(t.polygonStart();++e<r;)Ct(n[e],t,1);t.polygonEnd()}function Lt(){function n(n,t){n*=La,t=t*La/2+ka/4;var e=n-r,o=Math.cos(t),a=Math.sin(t),c=i*a,s=u*o+c*Math.cos(e),l=c*Math.sin(e);hc.add(Math.atan2(l,s)),r=n,u=o,i=a}var t,e,r,u,i;gc.point=function(o,a){gc.point=n,r=(t=o)*La,u=Math.cos(a=(e=a)*La/2+ka/4),i=Math.sin(a)},gc.lineEnd=function(){n(t,e)}}function Tt(n){var t=n[0],e=n[1],r=Math.cos(e);return[r*Math.cos(t),r*Math.sin(t),Math.sin(e)]}function qt(n,t){return n[0]*t[0]+n[1]*t[1]+n[2]*t[2]}function zt(n,t){return[n[1]*t[2]-n[2]*t[1],n[2]*t[0]-n[0]*t[2],n[0]*t[1]-n[1]*t[0]]}function Rt(n,t){n[0]+=t[0],n[1]+=t[1],n[2]+=t[2]}function Dt(n,t){return[n[0]*t,n[1]*t,n[2]*t]}function Pt(n){var t=Math.sqrt(n[0]*n[0]+n[1]*n[1]+n[2]*n[2]);n[0]/=t,n[1]/=t,n[2]/=t}function Ut(n){return[Math.atan2(n[1],n[0]),H(n[2])]}function jt(n,t){return aa(n[0]-t[0])<Ca&&aa(n[1]-t[1])<Ca}function Ht(n,t){n*=La;var e=Math.cos(t*=La);Ft(e*Math.cos(n),e*Math.sin(n),Math.sin(t))}function Ft(n,t,e){++pc,dc+=(n-dc)/pc,mc+=(t-mc)/pc,yc+=(e-yc)/pc}function Ot(){function n(n,u){n*=La;var i=Math.cos(u*=La),o=i*Math.cos(n),a=i*Math.sin(n),c=Math.sin(u),s=Math.atan2(Math.sqrt((s=e*c-r*a)*s+(s=r*o-t*c)*s+(s=t*a-e*o)*s),t*o+e*a+r*c);vc+=s,xc+=s*(t+(t=o)),Mc+=s*(e+(e=a)),_c+=s*(r+(r=c)),Ft(t,e,r)}var t,e,r;kc.point=function(u,i){u*=La;var o=Math.cos(i*=La);t=o*Math.cos(u),e=o*Math.sin(u),r=Math.sin(i),kc.point=n,Ft(t,e,r)}}function Yt(){kc.point=Ht}function It(){function n(n,t){n*=La;var e=Math.cos(t*=La),o=e*Math.cos(n),a=e*Math.sin(n),c=Math.sin(t),s=u*c-i*a,l=i*o-r*c,f=r*a-u*o,h=Math.sqrt(s*s+l*l+f*f),g=r*o+u*a+i*c,p=h&&-j(g)/h,v=Math.atan2(h,g);bc+=p*s,wc+=p*l,Sc+=p*f,vc+=v,xc+=v*(r+(r=o)),Mc+=v*(u+(u=a)),_c+=v*(i+(i=c)),Ft(r,u,i)}var t,e,r,u,i;kc.point=function(o,a){t=o,e=a,kc.point=n,o*=La;var c=Math.cos(a*=La);r=c*Math.cos(o),u=c*Math.sin(o),i=Math.sin(a),Ft(r,u,i)},kc.lineEnd=function(){n(t,e),kc.lineEnd=Yt,kc.point=Ht}}function Zt(){return!0}function Vt(n,t,e,r,u){var i=[],o=[];if(n.forEach(function(n){if(!((t=n.length-1)<=0)){var t,e=n[0],r=n[t];if(jt(e,r)){u.lineStart();for(var a=0;t>a;++a)u.point((e=n[a])[0],e[1]);return u.lineEnd(),void 0}var c=new $t(e,n,null,!0),s=new $t(e,null,c,!1);c.o=s,i.push(c),o.push(s),c=new $t(r,n,null,!1),s=new $t(r,null,c,!0),c.o=s,i.push(c),o.push(s)}}),o.sort(t),Xt(i),Xt(o),i.length){for(var a=0,c=e,s=o.length;s>a;++a)o[a].e=c=!c;for(var l,f,h=i[0];;){for(var g=h,p=!0;g.v;)if((g=g.n)===h)return;l=g.z,u.lineStart();do{if(g.v=g.o.v=!0,g.e){if(p)for(var a=0,s=l.length;s>a;++a)u.point((f=l[a])[0],f[1]);else r(g.x,g.n.x,1,u);g=g.n}else{if(p){l=g.p.z;for(var a=l.length-1;a>=0;--a)u.point((f=l[a])[0],f[1])}else r(g.x,g.p.x,-1,u);g=g.p}g=g.o,l=g.z,p=!p}while(!g.v);u.lineEnd()}}}function Xt(n){if(t=n.length){for(var t,e,r=0,u=n[0];++r<t;)u.n=e=n[r],e.p=u,u=e;u.n=e=n[0],e.p=u}}function $t(n,t,e,r){this.x=n,this.z=t,this.o=e,this.e=r,this.v=!1,this.n=this.p=null}function Bt(n,t,e,r){return function(u,i){function o(t,e){var r=u(t,e);n(t=r[0],e=r[1])&&i.point(t,e)}function a(n,t){var e=u(n,t);d.point(e[0],e[1])}function c(){y.point=a,d.lineStart()}function s(){y.point=o,d.lineEnd()}function l(n,t){v.push([n,t]);var e=u(n,t);M.point(e[0],e[1])}function f(){M.lineStart(),v=[]}function h(){l(v[0][0],v[0][1]),M.lineEnd();var n,t=M.clean(),e=x.buffer(),r=e.length;if(v.pop(),p.push(v),v=null,r){if(1&t){n=e[0];var u,r=n.length-1,o=-1;for(i.lineStart();++o<r;)i.point((u=n[o])[0],u[1]);return i.lineEnd(),void 0}r>1&&2&t&&e.push(e.pop().concat(e.shift())),g.push(e.filter(Wt))}}var g,p,v,d=t(i),m=u.invert(r[0],r[1]),y={point:o,lineStart:c,lineEnd:s,polygonStart:function(){y.point=l,y.lineStart=f,y.lineEnd=h,g=[],p=[],i.polygonStart()},polygonEnd:function(){y.point=o,y.lineStart=c,y.lineEnd=s,g=$o.merge(g);var n=Kt(m,p);g.length?Vt(g,Gt,n,e,i):n&&(i.lineStart(),e(null,null,1,i),i.lineEnd()),i.polygonEnd(),g=p=null},sphere:function(){i.polygonStart(),i.lineStart(),e(null,null,1,i),i.lineEnd(),i.polygonEnd()}},x=Jt(),M=t(x);return y}}function Wt(n){return n.length>1}function Jt(){var n,t=[];return{lineStart:function(){t.push(n=[])},point:function(t,e){n.push([t,e])},lineEnd:c,buffer:function(){var e=t;return t=[],n=null,e},rejoin:function(){t.length>1&&t.push(t.pop().concat(t.shift()))}}}function Gt(n,t){return((n=n.x)[0]<0?n[1]-Aa-Ca:Aa-n[1])-((t=t.x)[0]<0?t[1]-Aa-Ca:Aa-t[1])}function Kt(n,t){var e=n[0],r=n[1],u=[Math.sin(e),-Math.cos(e),0],i=0,o=0;hc.reset();for(var a=0,c=t.length;c>a;++a){var s=t[a],l=s.length;if(l)for(var f=s[0],h=f[0],g=f[1]/2+ka/4,p=Math.sin(g),v=Math.cos(g),d=1;;){d===l&&(d=0),n=s[d];var m=n[0],y=n[1]/2+ka/4,x=Math.sin(y),M=Math.cos(y),_=m-h,b=aa(_)>ka,w=p*x;if(hc.add(Math.atan2(w*Math.sin(_),v*M+w*Math.cos(_))),i+=b?_+(_>=0?Ea:-Ea):_,b^h>=e^m>=e){var S=zt(Tt(f),Tt(n));Pt(S);var k=zt(u,S);Pt(k);var E=(b^_>=0?-1:1)*H(k[2]);(r>E||r===E&&(S[0]||S[1]))&&(o+=b^_>=0?1:-1)}if(!d++)break;h=m,p=x,v=M,f=n}}return(-Ca>i||Ca>i&&0>hc)^1&o}function Qt(n){var t,e=0/0,r=0/0,u=0/0;return{lineStart:function(){n.lineStart(),t=1},point:function(i,o){var a=i>0?ka:-ka,c=aa(i-e);aa(c-ka)<Ca?(n.point(e,r=(r+o)/2>0?Aa:-Aa),n.point(u,r),n.lineEnd(),n.lineStart(),n.point(a,r),n.point(i,r),t=0):u!==a&&c>=ka&&(aa(e-u)<Ca&&(e-=u*Ca),aa(i-a)<Ca&&(i-=a*Ca),r=ne(e,r,i,o),n.point(u,r),n.lineEnd(),n.lineStart(),n.point(a,r),t=0),n.point(e=i,r=o),u=a},lineEnd:function(){n.lineEnd(),e=r=0/0},clean:function(){return 2-t}}}function ne(n,t,e,r){var u,i,o=Math.sin(n-e);return aa(o)>Ca?Math.atan((Math.sin(t)*(i=Math.cos(r))*Math.sin(e)-Math.sin(r)*(u=Math.cos(t))*Math.sin(n))/(u*i*o)):(t+r)/2}function te(n,t,e,r){var u;if(null==n)u=e*Aa,r.point(-ka,u),r.point(0,u),r.point(ka,u),r.point(ka,0),r.point(ka,-u),r.point(0,-u),r.point(-ka,-u),r.point(-ka,0),r.point(-ka,u);else if(aa(n[0]-t[0])>Ca){var i=n[0]<t[0]?ka:-ka;u=e*i/2,r.point(-i,u),r.point(0,u),r.point(i,u)}else r.point(t[0],t[1])}function ee(n){function t(n,t){return Math.cos(n)*Math.cos(t)>i}function e(n){var e,i,c,s,l;return{lineStart:function(){s=c=!1,l=1},point:function(f,h){var g,p=[f,h],v=t(f,h),d=o?v?0:u(f,h):v?u(f+(0>f?ka:-ka),h):0;if(!e&&(s=c=v)&&n.lineStart(),v!==c&&(g=r(e,p),(jt(e,g)||jt(p,g))&&(p[0]+=Ca,p[1]+=Ca,v=t(p[0],p[1]))),v!==c)l=0,v?(n.lineStart(),g=r(p,e),n.point(g[0],g[1])):(g=r(e,p),n.point(g[0],g[1]),n.lineEnd()),e=g;else if(a&&e&&o^v){var m;d&i||!(m=r(p,e,!0))||(l=0,o?(n.lineStart(),n.point(m[0][0],m[0][1]),n.point(m[1][0],m[1][1]),n.lineEnd()):(n.point(m[1][0],m[1][1]),n.lineEnd(),n.lineStart(),n.point(m[0][0],m[0][1])))}!v||e&&jt(e,p)||n.point(p[0],p[1]),e=p,c=v,i=d},lineEnd:function(){c&&n.lineEnd(),e=null},clean:function(){return l|(s&&c)<<1}}}function r(n,t,e){var r=Tt(n),u=Tt(t),o=[1,0,0],a=zt(r,u),c=qt(a,a),s=a[0],l=c-s*s;if(!l)return!e&&n;var f=i*c/l,h=-i*s/l,g=zt(o,a),p=Dt(o,f),v=Dt(a,h);Rt(p,v);var d=g,m=qt(p,d),y=qt(d,d),x=m*m-y*(qt(p,p)-1);if(!(0>x)){var M=Math.sqrt(x),_=Dt(d,(-m-M)/y);if(Rt(_,p),_=Ut(_),!e)return _;var b,w=n[0],S=t[0],k=n[1],E=t[1];w>S&&(b=w,w=S,S=b);var A=S-w,C=aa(A-ka)<Ca,N=C||Ca>A;if(!C&&k>E&&(b=k,k=E,E=b),N?C?k+E>0^_[1]<(aa(_[0]-w)<Ca?k:E):k<=_[1]&&_[1]<=E:A>ka^(w<=_[0]&&_[0]<=S)){var L=Dt(d,(-m+M)/y);return Rt(L,p),[_,Ut(L)]}}}function u(t,e){var r=o?n:ka-n,u=0;return-r>t?u|=1:t>r&&(u|=2),-r>e?u|=4:e>r&&(u|=8),u}var i=Math.cos(n),o=i>0,a=aa(i)>Ca,c=Le(n,6*La);return Bt(t,e,c,o?[0,-n]:[-ka,n-ka])}function re(n,t,e,r){return function(u){var i,o=u.a,a=u.b,c=o.x,s=o.y,l=a.x,f=a.y,h=0,g=1,p=l-c,v=f-s;if(i=n-c,p||!(i>0)){if(i/=p,0>p){if(h>i)return;g>i&&(g=i)}else if(p>0){if(i>g)return;i>h&&(h=i)}if(i=e-c,p||!(0>i)){if(i/=p,0>p){if(i>g)return;i>h&&(h=i)}else if(p>0){if(h>i)return;g>i&&(g=i)}if(i=t-s,v||!(i>0)){if(i/=v,0>v){if(h>i)return;g>i&&(g=i)}else if(v>0){if(i>g)return;i>h&&(h=i)}if(i=r-s,v||!(0>i)){if(i/=v,0>v){if(i>g)return;i>h&&(h=i)}else if(v>0){if(h>i)return;g>i&&(g=i)}return h>0&&(u.a={x:c+h*p,y:s+h*v}),1>g&&(u.b={x:c+g*p,y:s+g*v}),u}}}}}}function ue(n,t,e,r){function u(r,u){return aa(r[0]-n)<Ca?u>0?0:3:aa(r[0]-e)<Ca?u>0?2:1:aa(r[1]-t)<Ca?u>0?1:0:u>0?3:2}function i(n,t){return o(n.x,t.x)}function o(n,t){var e=u(n,1),r=u(t,1);return e!==r?e-r:0===e?t[1]-n[1]:1===e?n[0]-t[0]:2===e?n[1]-t[1]:t[0]-n[0]}return function(a){function c(n){for(var t=0,e=m.length,r=n[1],u=0;e>u;++u)for(var i,o=1,a=m[u],c=a.length,l=a[0];c>o;++o)i=a[o],l[1]<=r?i[1]>r&&s(l,i,n)>0&&++t:i[1]<=r&&s(l,i,n)<0&&--t,l=i;return 0!==t}function s(n,t,e){return(t[0]-n[0])*(e[1]-n[1])-(e[0]-n[0])*(t[1]-n[1])}function l(i,a,c,s){var l=0,f=0;if(null==i||(l=u(i,c))!==(f=u(a,c))||o(i,a)<0^c>0){do s.point(0===l||3===l?n:e,l>1?r:t);while((l=(l+c+4)%4)!==f)}else s.point(a[0],a[1])}function f(u,i){return u>=n&&e>=u&&i>=t&&r>=i}function h(n,t){f(n,t)&&a.point(n,t)}function g(){L.point=v,m&&m.push(y=[]),k=!0,S=!1,b=w=0/0}function p(){d&&(v(x,M),_&&S&&C.rejoin(),d.push(C.buffer())),L.point=h,S&&a.lineEnd()}function v(n,t){n=Math.max(-Ac,Math.min(Ac,n)),t=Math.max(-Ac,Math.min(Ac,t));var e=f(n,t);if(m&&y.push([n,t]),k)x=n,M=t,_=e,k=!1,e&&(a.lineStart(),a.point(n,t));else if(e&&S)a.point(n,t);else{var r={a:{x:b,y:w},b:{x:n,y:t}};N(r)?(S||(a.lineStart(),a.point(r.a.x,r.a.y)),a.point(r.b.x,r.b.y),e||a.lineEnd(),E=!1):e&&(a.lineStart(),a.point(n,t),E=!1)}b=n,w=t,S=e}var d,m,y,x,M,_,b,w,S,k,E,A=a,C=Jt(),N=re(n,t,e,r),L={point:h,lineStart:g,lineEnd:p,polygonStart:function(){a=C,d=[],m=[],E=!0},polygonEnd:function(){a=A,d=$o.merge(d);var t=c([n,r]),e=E&&t,u=d.length;(e||u)&&(a.polygonStart(),e&&(a.lineStart(),l(null,null,1,a),a.lineEnd()),u&&Vt(d,i,t,l,a),a.polygonEnd()),d=m=y=null}};return L}}function ie(n,t){function e(e,r){return e=n(e,r),t(e[0],e[1])}return n.invert&&t.invert&&(e.invert=function(e,r){return e=t.invert(e,r),e&&n.invert(e[0],e[1])}),e}function oe(n){var t=0,e=ka/3,r=be(n),u=r(t,e);return u.parallels=function(n){return arguments.length?r(t=n[0]*ka/180,e=n[1]*ka/180):[180*(t/ka),180*(e/ka)]},u}function ae(n,t){function e(n,t){var e=Math.sqrt(i-2*u*Math.sin(t))/u;return[e*Math.sin(n*=u),o-e*Math.cos(n)]}var r=Math.sin(n),u=(r+Math.sin(t))/2,i=1+r*(2*u-r),o=Math.sqrt(i)/u;return e.invert=function(n,t){var e=o-t;return[Math.atan2(n,e)/u,H((i-(n*n+e*e)*u*u)/(2*u))]},e}function ce(){function n(n,t){Nc+=u*n-r*t,r=n,u=t}var t,e,r,u;Rc.point=function(i,o){Rc.point=n,t=r=i,e=u=o},Rc.lineEnd=function(){n(t,e)}}function se(n,t){Lc>n&&(Lc=n),n>qc&&(qc=n),Tc>t&&(Tc=t),t>zc&&(zc=t)}function le(){function n(n,t){o.push(\"M\",n,\",\",t,i)}function t(n,t){o.push(\"M\",n,\",\",t),a.point=e}function e(n,t){o.push(\"L\",n,\",\",t)}function r(){a.point=n}function u(){o.push(\"Z\")}var i=fe(4.5),o=[],a={point:n,lineStart:function(){a.point=t},lineEnd:r,polygonStart:function(){a.lineEnd=u},polygonEnd:function(){a.lineEnd=r,a.point=n},pointRadius:function(n){return i=fe(n),a},result:function(){if(o.length){var n=o.join(\"\");return o=[],n}}};return a}function fe(n){return\"m0,\"+n+\"a\"+n+\",\"+n+\" 0 1,1 0,\"+-2*n+\"a\"+n+\",\"+n+\" 0 1,1 0,\"+2*n+\"z\"}function he(n,t){dc+=n,mc+=t,++yc}function ge(){function n(n,r){var u=n-t,i=r-e,o=Math.sqrt(u*u+i*i);xc+=o*(t+n)/2,Mc+=o*(e+r)/2,_c+=o,he(t=n,e=r)}var t,e;Pc.point=function(r,u){Pc.point=n,he(t=r,e=u)}}function pe(){Pc.point=he}function ve(){function n(n,t){var e=n-r,i=t-u,o=Math.sqrt(e*e+i*i);xc+=o*(r+n)/2,Mc+=o*(u+t)/2,_c+=o,o=u*n-r*t,bc+=o*(r+n),wc+=o*(u+t),Sc+=3*o,he(r=n,u=t)}var t,e,r,u;Pc.point=function(i,o){Pc.point=n,he(t=r=i,e=u=o)},Pc.lineEnd=function(){n(t,e)}}function de(n){function t(t,e){n.moveTo(t,e),n.arc(t,e,o,0,Ea)}function e(t,e){n.moveTo(t,e),a.point=r}function r(t,e){n.lineTo(t,e)}function u(){a.point=t}function i(){n.closePath()}var o=4.5,a={point:t,lineStart:function(){a.point=e},lineEnd:u,polygonStart:function(){a.lineEnd=i},polygonEnd:function(){a.lineEnd=u,a.point=t},pointRadius:function(n){return o=n,a},result:c};return a}function me(n){function t(n){return(a?r:e)(n)}function e(t){return Me(t,function(e,r){e=n(e,r),t.point(e[0],e[1])})}function r(t){function e(e,r){e=n(e,r),t.point(e[0],e[1])}function r(){x=0/0,S.point=i,t.lineStart()}function i(e,r){var i=Tt([e,r]),o=n(e,r);u(x,M,y,_,b,w,x=o[0],M=o[1],y=e,_=i[0],b=i[1],w=i[2],a,t),t.point(x,M)}function o(){S.point=e,t.lineEnd()}function c(){r(),S.point=s,S.lineEnd=l}function s(n,t){i(f=n,h=t),g=x,p=M,v=_,d=b,m=w,S.point=i}function l(){u(x,M,y,_,b,w,g,p,f,v,d,m,a,t),S.lineEnd=o,o()}var f,h,g,p,v,d,m,y,x,M,_,b,w,S={point:e,lineStart:r,lineEnd:o,polygonStart:function(){t.polygonStart(),S.lineStart=c},polygonEnd:function(){t.polygonEnd(),S.lineStart=r}};return S}function u(t,e,r,a,c,s,l,f,h,g,p,v,d,m){var y=l-t,x=f-e,M=y*y+x*x;if(M>4*i&&d--){var _=a+g,b=c+p,w=s+v,S=Math.sqrt(_*_+b*b+w*w),k=Math.asin(w/=S),E=aa(aa(w)-1)<Ca||aa(r-h)<Ca?(r+h)/2:Math.atan2(b,_),A=n(E,k),C=A[0],N=A[1],L=C-t,T=N-e,q=x*L-y*T;(q*q/M>i||aa((y*L+x*T)/M-.5)>.3||o>a*g+c*p+s*v)&&(u(t,e,r,a,c,s,C,N,E,_/=S,b/=S,w,d,m),m.point(C,N),u(C,N,E,_,b,w,l,f,h,g,p,v,d,m))}}var i=.5,o=Math.cos(30*La),a=16;return t.precision=function(n){return arguments.length?(a=(i=n*n)>0&&16,t):Math.sqrt(i)},t}function ye(n){var t=me(function(t,e){return n([t*Ta,e*Ta])});return function(n){return we(t(n))}}function xe(n){this.stream=n}function Me(n,t){return{point:t,sphere:function(){n.sphere()},lineStart:function(){n.lineStart()},lineEnd:function(){n.lineEnd()},polygonStart:function(){n.polygonStart()},polygonEnd:function(){n.polygonEnd()}}}function _e(n){return be(function(){return n})()}function be(n){function t(n){return n=a(n[0]*La,n[1]*La),[n[0]*h+c,s-n[1]*h]}function e(n){return n=a.invert((n[0]-c)/h,(s-n[1])/h),n&&[n[0]*Ta,n[1]*Ta]}function r(){a=ie(o=Ee(m,y,x),i);var n=i(v,d);return c=g-n[0]*h,s=p+n[1]*h,u()}function u(){return l&&(l.valid=!1,l=null),t}var i,o,a,c,s,l,f=me(function(n,t){return n=i(n,t),[n[0]*h+c,s-n[1]*h]}),h=150,g=480,p=250,v=0,d=0,m=0,y=0,x=0,M=Ec,_=vt,b=null,w=null;return t.stream=function(n){return l&&(l.valid=!1),l=we(M(o,f(_(n)))),l.valid=!0,l},t.clipAngle=function(n){return arguments.length?(M=null==n?(b=n,Ec):ee((b=+n)*La),u()):b},t.clipExtent=function(n){return arguments.length?(w=n,_=n?ue(n[0][0],n[0][1],n[1][0],n[1][1]):vt,u()):w},t.scale=function(n){return arguments.length?(h=+n,r()):h},t.translate=function(n){return arguments.length?(g=+n[0],p=+n[1],r()):[g,p]},t.center=function(n){return arguments.length?(v=n[0]%360*La,d=n[1]%360*La,r()):[v*Ta,d*Ta]},t.rotate=function(n){return arguments.length?(m=n[0]%360*La,y=n[1]%360*La,x=n.length>2?n[2]%360*La:0,r()):[m*Ta,y*Ta,x*Ta]},$o.rebind(t,f,\"precision\"),function(){return i=n.apply(this,arguments),t.invert=i.invert&&e,r()}}function we(n){return Me(n,function(t,e){n.point(t*La,e*La)})}function Se(n,t){return[n,t]}function ke(n,t){return[n>ka?n-Ea:-ka>n?n+Ea:n,t]}function Ee(n,t,e){return n?t||e?ie(Ce(n),Ne(t,e)):Ce(n):t||e?Ne(t,e):ke}function Ae(n){return function(t,e){return t+=n,[t>ka?t-Ea:-ka>t?t+Ea:t,e]}}function Ce(n){var t=Ae(n);return t.invert=Ae(-n),t}function Ne(n,t){function e(n,t){var e=Math.cos(t),a=Math.cos(n)*e,c=Math.sin(n)*e,s=Math.sin(t),l=s*r+a*u;return[Math.atan2(c*i-l*o,a*r-s*u),H(l*i+c*o)]}var r=Math.cos(n),u=Math.sin(n),i=Math.cos(t),o=Math.sin(t);return e.invert=function(n,t){var e=Math.cos(t),a=Math.cos(n)*e,c=Math.sin(n)*e,s=Math.sin(t),l=s*i-c*o;return[Math.atan2(c*i+s*o,a*r+l*u),H(l*r-a*u)]},e}function Le(n,t){var e=Math.cos(n),r=Math.sin(n);return function(u,i,o,a){var c=o*t;null!=u?(u=Te(e,u),i=Te(e,i),(o>0?i>u:u>i)&&(u+=o*Ea)):(u=n+o*Ea,i=n-.5*c);for(var s,l=u;o>0?l>i:i>l;l-=c)a.point((s=Ut([e,-r*Math.cos(l),-r*Math.sin(l)]))[0],s[1])}}function Te(n,t){var e=Tt(t);e[0]-=n,Pt(e);var r=j(-e[1]);return((-e[2]<0?-r:r)+2*Math.PI-Ca)%(2*Math.PI)}function qe(n,t,e){var r=$o.range(n,t-Ca,e).concat(t);return function(n){return r.map(function(t){return[n,t]})}}function ze(n,t,e){var r=$o.range(n,t-Ca,e).concat(t);return function(n){return r.map(function(t){return[t,n]})}}function Re(n){return n.source}function De(n){return n.target}function Pe(n,t,e,r){var u=Math.cos(t),i=Math.sin(t),o=Math.cos(r),a=Math.sin(r),c=u*Math.cos(n),s=u*Math.sin(n),l=o*Math.cos(e),f=o*Math.sin(e),h=2*Math.asin(Math.sqrt(I(r-t)+u*o*I(e-n))),g=1/Math.sin(h),p=h?function(n){var t=Math.sin(n*=h)*g,e=Math.sin(h-n)*g,r=e*c+t*l,u=e*s+t*f,o=e*i+t*a;return[Math.atan2(u,r)*Ta,Math.atan2(o,Math.sqrt(r*r+u*u))*Ta]}:function(){return[n*Ta,t*Ta]};return p.distance=h,p}function Ue(){function n(n,u){var i=Math.sin(u*=La),o=Math.cos(u),a=aa((n*=La)-t),c=Math.cos(a);Uc+=Math.atan2(Math.sqrt((a=o*Math.sin(a))*a+(a=r*i-e*o*c)*a),e*i+r*o*c),t=n,e=i,r=o}var t,e,r;jc.point=function(u,i){t=u*La,e=Math.sin(i*=La),r=Math.cos(i),jc.point=n},jc.lineEnd=function(){jc.point=jc.lineEnd=c}}function je(n,t){function e(t,e){var r=Math.cos(t),u=Math.cos(e),i=n(r*u);return[i*u*Math.sin(t),i*Math.sin(e)]}return e.invert=function(n,e){var r=Math.sqrt(n*n+e*e),u=t(r),i=Math.sin(u),o=Math.cos(u);return[Math.atan2(n*i,r*o),Math.asin(r&&e*i/r)]},e}function He(n,t){function e(n,t){var e=aa(aa(t)-Aa)<Ca?0:o/Math.pow(u(t),i);return[e*Math.sin(i*n),o-e*Math.cos(i*n)]}var r=Math.cos(n),u=function(n){return Math.tan(ka/4+n/2)},i=n===t?Math.sin(n):Math.log(r/Math.cos(t))/Math.log(u(t)/u(n)),o=r*Math.pow(u(n),i)/i;return i?(e.invert=function(n,t){var e=o-t,r=U(i)*Math.sqrt(n*n+e*e);return[Math.atan2(n,e)/i,2*Math.atan(Math.pow(o/r,1/i))-Aa]},e):Oe}function Fe(n,t){function e(n,t){var e=i-t;return[e*Math.sin(u*n),i-e*Math.cos(u*n)]}var r=Math.cos(n),u=n===t?Math.sin(n):(r-Math.cos(t))/(t-n),i=r/u+n;return aa(u)<Ca?Se:(e.invert=function(n,t){var e=i-t;return[Math.atan2(n,e)/u,i-U(u)*Math.sqrt(n*n+e*e)]},e)}function Oe(n,t){return[n,Math.log(Math.tan(ka/4+t/2))]}function Ye(n){var t,e=_e(n),r=e.scale,u=e.translate,i=e.clipExtent;return e.scale=function(){var n=r.apply(e,arguments);return n===e?t?e.clipExtent(null):e:n},e.translate=function(){var n=u.apply(e,arguments);return n===e?t?e.clipExtent(null):e:n},e.clipExtent=function(n){var o=i.apply(e,arguments);if(o===e){if(t=null==n){var a=ka*r(),c=u();i([[c[0]-a,c[1]-a],[c[0]+a,c[1]+a]])}}else t&&(o=null);return o},e.clipExtent(null)}function Ie(n,t){var e=Math.cos(t)*Math.sin(n);return[Math.log((1+e)/(1-e))/2,Math.atan2(Math.tan(t),Math.cos(n))]}function Ze(n){return n[0]}function Ve(n){return n[1]}function Xe(n,t,e,r){var u,i,o,a,c,s,l;return u=r[n],i=u[0],o=u[1],u=r[t],a=u[0],c=u[1],u=r[e],s=u[0],l=u[1],(l-o)*(a-i)-(c-o)*(s-i)>0}function $e(n,t,e){return(e[0]-t[0])*(n[1]-t[1])<(e[1]-t[1])*(n[0]-t[0])}function Be(n,t,e,r){var u=n[0],i=e[0],o=t[0]-u,a=r[0]-i,c=n[1],s=e[1],l=t[1]-c,f=r[1]-s,h=(a*(c-s)-f*(u-i))/(f*o-a*l);return[u+h*o,c+h*l]}function We(n){var t=n[0],e=n[n.length-1];return!(t[0]-e[0]||t[1]-e[1])}function Je(){mr(this),this.edge=this.site=this.circle=null}function Ge(n){var t=Jc.pop()||new Je;return t.site=n,t}function Ke(n){cr(n),$c.remove(n),Jc.push(n),mr(n)}function Qe(n){var t=n.circle,e=t.x,r=t.cy,u={x:e,y:r},i=n.P,o=n.N,a=[n];Ke(n);for(var c=i;c.circle&&aa(e-c.circle.x)<Ca&&aa(r-c.circle.cy)<Ca;)i=c.P,a.unshift(c),Ke(c),c=i;a.unshift(c),cr(c);for(var s=o;s.circle&&aa(e-s.circle.x)<Ca&&aa(r-s.circle.cy)<Ca;)o=s.N,a.push(s),Ke(s),s=o;a.push(s),cr(s);var l,f=a.length;for(l=1;f>l;++l)s=a[l],c=a[l-1],pr(s.edge,c.site,s.site,u);c=a[0],s=a[f-1],s.edge=hr(c.site,s.site,null,u),ar(c),ar(s)}function nr(n){for(var t,e,r,u,i=n.x,o=n.y,a=$c._;a;)if(r=tr(a,o)-i,r>Ca)a=a.L;else{if(u=i-er(a,o),!(u>Ca)){r>-Ca?(t=a.P,e=a):u>-Ca?(t=a,e=a.N):t=e=a;break}if(!a.R){t=a;break}a=a.R}var c=Ge(n);if($c.insert(t,c),t||e){if(t===e)return cr(t),e=Ge(t.site),$c.insert(c,e),c.edge=e.edge=hr(t.site,c.site),ar(t),ar(e),void 0;if(!e)return c.edge=hr(t.site,c.site),void 0;cr(t),cr(e);var s=t.site,l=s.x,f=s.y,h=n.x-l,g=n.y-f,p=e.site,v=p.x-l,d=p.y-f,m=2*(h*d-g*v),y=h*h+g*g,x=v*v+d*d,M={x:(d*y-g*x)/m+l,y:(h*x-v*y)/m+f};pr(e.edge,s,p,M),c.edge=hr(s,n,null,M),e.edge=hr(n,p,null,M),ar(t),ar(e)}}function tr(n,t){var e=n.site,r=e.x,u=e.y,i=u-t;if(!i)return r;var o=n.P;if(!o)return-1/0;e=o.site;var a=e.x,c=e.y,s=c-t;if(!s)return a;var l=a-r,f=1/i-1/s,h=l/s;return f?(-h+Math.sqrt(h*h-2*f*(l*l/(-2*s)-c+s/2+u-i/2)))/f+r:(r+a)/2}function er(n,t){var e=n.N;if(e)return tr(e,t);var r=n.site;return r.y===t?r.x:1/0}function rr(n){this.site=n,this.edges=[]}function ur(n){for(var t,e,r,u,i,o,a,c,s,l,f=n[0][0],h=n[1][0],g=n[0][1],p=n[1][1],v=Xc,d=v.length;d--;)if(i=v[d],i&&i.prepare())for(a=i.edges,c=a.length,o=0;c>o;)l=a[o].end(),r=l.x,u=l.y,s=a[++o%c].start(),t=s.x,e=s.y,(aa(r-t)>Ca||aa(u-e)>Ca)&&(a.splice(o,0,new vr(gr(i.site,l,aa(r-f)<Ca&&p-u>Ca?{x:f,y:aa(t-f)<Ca?e:p}:aa(u-p)<Ca&&h-r>Ca?{x:aa(e-p)<Ca?t:h,y:p}:aa(r-h)<Ca&&u-g>Ca?{x:h,y:aa(t-h)<Ca?e:g}:aa(u-g)<Ca&&r-f>Ca?{x:aa(e-g)<Ca?t:f,y:g}:null),i.site,null)),++c)}function ir(n,t){return t.angle-n.angle}function or(){mr(this),this.x=this.y=this.arc=this.site=this.cy=null}function ar(n){var t=n.P,e=n.N;if(t&&e){var r=t.site,u=n.site,i=e.site;if(r!==i){var o=u.x,a=u.y,c=r.x-o,s=r.y-a,l=i.x-o,f=i.y-a,h=2*(c*f-s*l);if(!(h>=-Na)){var g=c*c+s*s,p=l*l+f*f,v=(f*g-s*p)/h,d=(c*p-l*g)/h,f=d+a,m=Gc.pop()||new or;m.arc=n,m.site=u,m.x=v+o,m.y=f+Math.sqrt(v*v+d*d),m.cy=f,n.circle=m;for(var y=null,x=Wc._;x;)if(m.y<x.y||m.y===x.y&&m.x<=x.x){if(!x.L){y=x.P;break}x=x.L}else{if(!x.R){y=x;break}x=x.R}Wc.insert(y,m),y||(Bc=m)}}}}function cr(n){var t=n.circle;t&&(t.P||(Bc=t.N),Wc.remove(t),Gc.push(t),mr(t),n.circle=null)}function sr(n){for(var t,e=Vc,r=re(n[0][0],n[0][1],n[1][0],n[1][1]),u=e.length;u--;)t=e[u],(!lr(t,n)||!r(t)||aa(t.a.x-t.b.x)<Ca&&aa(t.a.y-t.b.y)<Ca)&&(t.a=t.b=null,e.splice(u,1))}function lr(n,t){var e=n.b;if(e)return!0;var r,u,i=n.a,o=t[0][0],a=t[1][0],c=t[0][1],s=t[1][1],l=n.l,f=n.r,h=l.x,g=l.y,p=f.x,v=f.y,d=(h+p)/2,m=(g+v)/2;\n",
        "if(v===g){if(o>d||d>=a)return;if(h>p){if(i){if(i.y>=s)return}else i={x:d,y:c};e={x:d,y:s}}else{if(i){if(i.y<c)return}else i={x:d,y:s};e={x:d,y:c}}}else if(r=(h-p)/(v-g),u=m-r*d,-1>r||r>1)if(h>p){if(i){if(i.y>=s)return}else i={x:(c-u)/r,y:c};e={x:(s-u)/r,y:s}}else{if(i){if(i.y<c)return}else i={x:(s-u)/r,y:s};e={x:(c-u)/r,y:c}}else if(v>g){if(i){if(i.x>=a)return}else i={x:o,y:r*o+u};e={x:a,y:r*a+u}}else{if(i){if(i.x<o)return}else i={x:a,y:r*a+u};e={x:o,y:r*o+u}}return n.a=i,n.b=e,!0}function fr(n,t){this.l=n,this.r=t,this.a=this.b=null}function hr(n,t,e,r){var u=new fr(n,t);return Vc.push(u),e&&pr(u,n,t,e),r&&pr(u,t,n,r),Xc[n.i].edges.push(new vr(u,n,t)),Xc[t.i].edges.push(new vr(u,t,n)),u}function gr(n,t,e){var r=new fr(n,null);return r.a=t,r.b=e,Vc.push(r),r}function pr(n,t,e,r){n.a||n.b?n.l===e?n.b=r:n.a=r:(n.a=r,n.l=t,n.r=e)}function vr(n,t,e){var r=n.a,u=n.b;this.edge=n,this.site=t,this.angle=e?Math.atan2(e.y-t.y,e.x-t.x):n.l===t?Math.atan2(u.x-r.x,r.y-u.y):Math.atan2(r.x-u.x,u.y-r.y)}function dr(){this._=null}function mr(n){n.U=n.C=n.L=n.R=n.P=n.N=null}function yr(n,t){var e=t,r=t.R,u=e.U;u?u.L===e?u.L=r:u.R=r:n._=r,r.U=u,e.U=r,e.R=r.L,e.R&&(e.R.U=e),r.L=e}function xr(n,t){var e=t,r=t.L,u=e.U;u?u.L===e?u.L=r:u.R=r:n._=r,r.U=u,e.U=r,e.L=r.R,e.L&&(e.L.U=e),r.R=e}function Mr(n){for(;n.L;)n=n.L;return n}function _r(n,t){var e,r,u,i=n.sort(br).pop();for(Vc=[],Xc=new Array(n.length),$c=new dr,Wc=new dr;;)if(u=Bc,i&&(!u||i.y<u.y||i.y===u.y&&i.x<u.x))(i.x!==e||i.y!==r)&&(Xc[i.i]=new rr(i),nr(i),e=i.x,r=i.y),i=n.pop();else{if(!u)break;Qe(u.arc)}t&&(sr(t),ur(t));var o={cells:Xc,edges:Vc};return $c=Wc=Vc=Xc=null,o}function br(n,t){return t.y-n.y||t.x-n.x}function wr(n,t,e){return(n.x-e.x)*(t.y-n.y)-(n.x-t.x)*(e.y-n.y)}function Sr(n){return n.x}function kr(n){return n.y}function Er(){return{leaf:!0,nodes:[],point:null,x:null,y:null}}function Ar(n,t,e,r,u,i){if(!n(t,e,r,u,i)){var o=.5*(e+u),a=.5*(r+i),c=t.nodes;c[0]&&Ar(n,c[0],e,r,o,a),c[1]&&Ar(n,c[1],o,r,u,a),c[2]&&Ar(n,c[2],e,a,o,i),c[3]&&Ar(n,c[3],o,a,u,i)}}function Cr(n,t){n=$o.rgb(n),t=$o.rgb(t);var e=n.r,r=n.g,u=n.b,i=t.r-e,o=t.g-r,a=t.b-u;return function(n){return\"#\"+ct(Math.round(e+i*n))+ct(Math.round(r+o*n))+ct(Math.round(u+a*n))}}function Nr(n,t){var e,r={},u={};for(e in n)e in t?r[e]=qr(n[e],t[e]):u[e]=n[e];for(e in t)e in n||(u[e]=t[e]);return function(n){for(e in r)u[e]=r[e](n);return u}}function Lr(n,t){return t-=n=+n,function(e){return n+t*e}}function Tr(n,t){var e,r,u,i,o,a=0,c=0,s=[],l=[];for(n+=\"\",t+=\"\",Qc.lastIndex=0,r=0;e=Qc.exec(t);++r)e.index&&s.push(t.substring(a,c=e.index)),l.push({i:s.length,x:e[0]}),s.push(null),a=Qc.lastIndex;for(a<t.length&&s.push(t.substring(a)),r=0,i=l.length;(e=Qc.exec(n))&&i>r;++r)if(o=l[r],o.x==e[0]){if(o.i)if(null==s[o.i+1])for(s[o.i-1]+=o.x,s.splice(o.i,1),u=r+1;i>u;++u)l[u].i--;else for(s[o.i-1]+=o.x+s[o.i+1],s.splice(o.i,2),u=r+1;i>u;++u)l[u].i-=2;else if(null==s[o.i+1])s[o.i]=o.x;else for(s[o.i]=o.x+s[o.i+1],s.splice(o.i+1,1),u=r+1;i>u;++u)l[u].i--;l.splice(r,1),i--,r--}else o.x=Lr(parseFloat(e[0]),parseFloat(o.x));for(;i>r;)o=l.pop(),null==s[o.i+1]?s[o.i]=o.x:(s[o.i]=o.x+s[o.i+1],s.splice(o.i+1,1)),i--;return 1===s.length?null==s[0]?(o=l[0].x,function(n){return o(n)+\"\"}):function(){return t}:function(n){for(r=0;i>r;++r)s[(o=l[r]).i]=o.x(n);return s.join(\"\")}}function qr(n,t){for(var e,r=$o.interpolators.length;--r>=0&&!(e=$o.interpolators[r](n,t)););return e}function zr(n,t){var e,r=[],u=[],i=n.length,o=t.length,a=Math.min(n.length,t.length);for(e=0;a>e;++e)r.push(qr(n[e],t[e]));for(;i>e;++e)u[e]=n[e];for(;o>e;++e)u[e]=t[e];return function(n){for(e=0;a>e;++e)u[e]=r[e](n);return u}}function Rr(n){return function(t){return 0>=t?0:t>=1?1:n(t)}}function Dr(n){return function(t){return 1-n(1-t)}}function Pr(n){return function(t){return.5*(.5>t?n(2*t):2-n(2-2*t))}}function Ur(n){return n*n}function jr(n){return n*n*n}function Hr(n){if(0>=n)return 0;if(n>=1)return 1;var t=n*n,e=t*n;return 4*(.5>n?e:3*(n-t)+e-.75)}function Fr(n){return function(t){return Math.pow(t,n)}}function Or(n){return 1-Math.cos(n*Aa)}function Yr(n){return Math.pow(2,10*(n-1))}function Ir(n){return 1-Math.sqrt(1-n*n)}function Zr(n,t){var e;return arguments.length<2&&(t=.45),arguments.length?e=t/Ea*Math.asin(1/n):(n=1,e=t/4),function(r){return 1+n*Math.pow(2,-10*r)*Math.sin((r-e)*Ea/t)}}function Vr(n){return n||(n=1.70158),function(t){return t*t*((n+1)*t-n)}}function Xr(n){return 1/2.75>n?7.5625*n*n:2/2.75>n?7.5625*(n-=1.5/2.75)*n+.75:2.5/2.75>n?7.5625*(n-=2.25/2.75)*n+.9375:7.5625*(n-=2.625/2.75)*n+.984375}function $r(n,t){n=$o.hcl(n),t=$o.hcl(t);var e=n.h,r=n.c,u=n.l,i=t.h-e,o=t.c-r,a=t.l-u;return isNaN(o)&&(o=0,r=isNaN(r)?t.c:r),isNaN(i)?(i=0,e=isNaN(e)?t.h:e):i>180?i-=360:-180>i&&(i+=360),function(n){return J(e+i*n,r+o*n,u+a*n)+\"\"}}function Br(n,t){n=$o.hsl(n),t=$o.hsl(t);var e=n.h,r=n.s,u=n.l,i=t.h-e,o=t.s-r,a=t.l-u;return isNaN(o)&&(o=0,r=isNaN(r)?t.s:r),isNaN(i)?(i=0,e=isNaN(e)?t.h:e):i>180?i-=360:-180>i&&(i+=360),function(n){return $(e+i*n,r+o*n,u+a*n)+\"\"}}function Wr(n,t){n=$o.lab(n),t=$o.lab(t);var e=n.l,r=n.a,u=n.b,i=t.l-e,o=t.a-r,a=t.b-u;return function(n){return Q(e+i*n,r+o*n,u+a*n)+\"\"}}function Jr(n,t){return t-=n,function(e){return Math.round(n+t*e)}}function Gr(n){var t=[n.a,n.b],e=[n.c,n.d],r=Qr(t),u=Kr(t,e),i=Qr(nu(e,t,-u))||0;t[0]*e[1]<e[0]*t[1]&&(t[0]*=-1,t[1]*=-1,r*=-1,u*=-1),this.rotate=(r?Math.atan2(t[1],t[0]):Math.atan2(-e[0],e[1]))*Ta,this.translate=[n.e,n.f],this.scale=[r,i],this.skew=i?Math.atan2(u,i)*Ta:0}function Kr(n,t){return n[0]*t[0]+n[1]*t[1]}function Qr(n){var t=Math.sqrt(Kr(n,n));return t&&(n[0]/=t,n[1]/=t),t}function nu(n,t,e){return n[0]+=e*t[0],n[1]+=e*t[1],n}function tu(n,t){var e,r=[],u=[],i=$o.transform(n),o=$o.transform(t),a=i.translate,c=o.translate,s=i.rotate,l=o.rotate,f=i.skew,h=o.skew,g=i.scale,p=o.scale;return a[0]!=c[0]||a[1]!=c[1]?(r.push(\"translate(\",null,\",\",null,\")\"),u.push({i:1,x:Lr(a[0],c[0])},{i:3,x:Lr(a[1],c[1])})):c[0]||c[1]?r.push(\"translate(\"+c+\")\"):r.push(\"\"),s!=l?(s-l>180?l+=360:l-s>180&&(s+=360),u.push({i:r.push(r.pop()+\"rotate(\",null,\")\")-2,x:Lr(s,l)})):l&&r.push(r.pop()+\"rotate(\"+l+\")\"),f!=h?u.push({i:r.push(r.pop()+\"skewX(\",null,\")\")-2,x:Lr(f,h)}):h&&r.push(r.pop()+\"skewX(\"+h+\")\"),g[0]!=p[0]||g[1]!=p[1]?(e=r.push(r.pop()+\"scale(\",null,\",\",null,\")\"),u.push({i:e-4,x:Lr(g[0],p[0])},{i:e-2,x:Lr(g[1],p[1])})):(1!=p[0]||1!=p[1])&&r.push(r.pop()+\"scale(\"+p+\")\"),e=u.length,function(n){for(var t,i=-1;++i<e;)r[(t=u[i]).i]=t.x(n);return r.join(\"\")}}function eu(n,t){return t=t-(n=+n)?1/(t-n):0,function(e){return(e-n)*t}}function ru(n,t){return t=t-(n=+n)?1/(t-n):0,function(e){return Math.max(0,Math.min(1,(e-n)*t))}}function uu(n){for(var t=n.source,e=n.target,r=ou(t,e),u=[t];t!==r;)t=t.parent,u.push(t);for(var i=u.length;e!==r;)u.splice(i,0,e),e=e.parent;return u}function iu(n){for(var t=[],e=n.parent;null!=e;)t.push(n),n=e,e=e.parent;return t.push(n),t}function ou(n,t){if(n===t)return n;for(var e=iu(n),r=iu(t),u=e.pop(),i=r.pop(),o=null;u===i;)o=u,u=e.pop(),i=r.pop();return o}function au(n){n.fixed|=2}function cu(n){n.fixed&=-7}function su(n){n.fixed|=4,n.px=n.x,n.py=n.y}function lu(n){n.fixed&=-5}function fu(n,t,e){var r=0,u=0;if(n.charge=0,!n.leaf)for(var i,o=n.nodes,a=o.length,c=-1;++c<a;)i=o[c],null!=i&&(fu(i,t,e),n.charge+=i.charge,r+=i.charge*i.cx,u+=i.charge*i.cy);if(n.point){n.leaf||(n.point.x+=Math.random()-.5,n.point.y+=Math.random()-.5);var s=t*e[n.point.index];n.charge+=n.pointCharge=s,r+=s*n.point.x,u+=s*n.point.y}n.cx=r/n.charge,n.cy=u/n.charge}function hu(n,t){return $o.rebind(n,t,\"sort\",\"children\",\"value\"),n.nodes=n,n.links=du,n}function gu(n){return n.children}function pu(n){return n.value}function vu(n,t){return t.value-n.value}function du(n){return $o.merge(n.map(function(n){return(n.children||[]).map(function(t){return{source:n,target:t}})}))}function mu(n){return n.x}function yu(n){return n.y}function xu(n,t,e){n.y0=t,n.y=e}function Mu(n){return $o.range(n.length)}function _u(n){for(var t=-1,e=n[0].length,r=[];++t<e;)r[t]=0;return r}function bu(n){for(var t,e=1,r=0,u=n[0][1],i=n.length;i>e;++e)(t=n[e][1])>u&&(r=e,u=t);return r}function wu(n){return n.reduce(Su,0)}function Su(n,t){return n+t[1]}function ku(n,t){return Eu(n,Math.ceil(Math.log(t.length)/Math.LN2+1))}function Eu(n,t){for(var e=-1,r=+n[0],u=(n[1]-r)/t,i=[];++e<=t;)i[e]=u*e+r;return i}function Au(n){return[$o.min(n),$o.max(n)]}function Cu(n,t){return n.parent==t.parent?1:2}function Nu(n){var t=n.children;return t&&t.length?t[0]:n._tree.thread}function Lu(n){var t,e=n.children;return e&&(t=e.length)?e[t-1]:n._tree.thread}function Tu(n,t){var e=n.children;if(e&&(u=e.length))for(var r,u,i=-1;++i<u;)t(r=Tu(e[i],t),n)>0&&(n=r);return n}function qu(n,t){return n.x-t.x}function zu(n,t){return t.x-n.x}function Ru(n,t){return n.depth-t.depth}function Du(n,t){function e(n,r){var u=n.children;if(u&&(o=u.length))for(var i,o,a=null,c=-1;++c<o;)i=u[c],e(i,a),a=i;t(n,r)}e(n,null)}function Pu(n){for(var t,e=0,r=0,u=n.children,i=u.length;--i>=0;)t=u[i]._tree,t.prelim+=e,t.mod+=e,e+=t.shift+(r+=t.change)}function Uu(n,t,e){n=n._tree,t=t._tree;var r=e/(t.number-n.number);n.change+=r,t.change-=r,t.shift+=e,t.prelim+=e,t.mod+=e}function ju(n,t,e){return n._tree.ancestor.parent==t.parent?n._tree.ancestor:e}function Hu(n,t){return n.value-t.value}function Fu(n,t){var e=n._pack_next;n._pack_next=t,t._pack_prev=n,t._pack_next=e,e._pack_prev=t}function Ou(n,t){n._pack_next=t,t._pack_prev=n}function Yu(n,t){var e=t.x-n.x,r=t.y-n.y,u=n.r+t.r;return.999*u*u>e*e+r*r}function Iu(n){function t(n){l=Math.min(n.x-n.r,l),f=Math.max(n.x+n.r,f),h=Math.min(n.y-n.r,h),g=Math.max(n.y+n.r,g)}if((e=n.children)&&(s=e.length)){var e,r,u,i,o,a,c,s,l=1/0,f=-1/0,h=1/0,g=-1/0;if(e.forEach(Zu),r=e[0],r.x=-r.r,r.y=0,t(r),s>1&&(u=e[1],u.x=u.r,u.y=0,t(u),s>2))for(i=e[2],$u(r,u,i),t(i),Fu(r,i),r._pack_prev=i,Fu(i,u),u=r._pack_next,o=3;s>o;o++){$u(r,u,i=e[o]);var p=0,v=1,d=1;for(a=u._pack_next;a!==u;a=a._pack_next,v++)if(Yu(a,i)){p=1;break}if(1==p)for(c=r._pack_prev;c!==a._pack_prev&&!Yu(c,i);c=c._pack_prev,d++);p?(d>v||v==d&&u.r<r.r?Ou(r,u=a):Ou(r=c,u),o--):(Fu(r,i),u=i,t(i))}var m=(l+f)/2,y=(h+g)/2,x=0;for(o=0;s>o;o++)i=e[o],i.x-=m,i.y-=y,x=Math.max(x,i.r+Math.sqrt(i.x*i.x+i.y*i.y));n.r=x,e.forEach(Vu)}}function Zu(n){n._pack_next=n._pack_prev=n}function Vu(n){delete n._pack_next,delete n._pack_prev}function Xu(n,t,e,r){var u=n.children;if(n.x=t+=r*n.x,n.y=e+=r*n.y,n.r*=r,u)for(var i=-1,o=u.length;++i<o;)Xu(u[i],t,e,r)}function $u(n,t,e){var r=n.r+e.r,u=t.x-n.x,i=t.y-n.y;if(r&&(u||i)){var o=t.r+e.r,a=u*u+i*i;o*=o,r*=r;var c=.5+(r-o)/(2*a),s=Math.sqrt(Math.max(0,2*o*(r+a)-(r-=a)*r-o*o))/(2*a);e.x=n.x+c*u+s*i,e.y=n.y+c*i-s*u}else e.x=n.x+r,e.y=n.y}function Bu(n){return 1+$o.max(n,function(n){return n.y})}function Wu(n){return n.reduce(function(n,t){return n+t.x},0)/n.length}function Ju(n){var t=n.children;return t&&t.length?Ju(t[0]):n}function Gu(n){var t,e=n.children;return e&&(t=e.length)?Gu(e[t-1]):n}function Ku(n){return{x:n.x,y:n.y,dx:n.dx,dy:n.dy}}function Qu(n,t){var e=n.x+t[3],r=n.y+t[0],u=n.dx-t[1]-t[3],i=n.dy-t[0]-t[2];return 0>u&&(e+=u/2,u=0),0>i&&(r+=i/2,i=0),{x:e,y:r,dx:u,dy:i}}function ni(n){var t=n[0],e=n[n.length-1];return e>t?[t,e]:[e,t]}function ti(n){return n.rangeExtent?n.rangeExtent():ni(n.range())}function ei(n,t,e,r){var u=e(n[0],n[1]),i=r(t[0],t[1]);return function(n){return i(u(n))}}function ri(n,t){var e,r=0,u=n.length-1,i=n[r],o=n[u];return i>o&&(e=r,r=u,u=e,e=i,i=o,o=e),n[r]=t.floor(i),n[u]=t.ceil(o),n}function ui(n){return n?{floor:function(t){return Math.floor(t/n)*n},ceil:function(t){return Math.ceil(t/n)*n}}:ss}function ii(n,t,e,r){var u=[],i=[],o=0,a=Math.min(n.length,t.length)-1;for(n[a]<n[0]&&(n=n.slice().reverse(),t=t.slice().reverse());++o<=a;)u.push(e(n[o-1],n[o])),i.push(r(t[o-1],t[o]));return function(t){var e=$o.bisect(n,t,1,a)-1;return i[e](u[e](t))}}function oi(n,t,e,r){function u(){var u=Math.min(n.length,t.length)>2?ii:ei,c=r?ru:eu;return o=u(n,t,c,e),a=u(t,n,c,qr),i}function i(n){return o(n)}var o,a;return i.invert=function(n){return a(n)},i.domain=function(t){return arguments.length?(n=t.map(Number),u()):n},i.range=function(n){return arguments.length?(t=n,u()):t},i.rangeRound=function(n){return i.range(n).interpolate(Jr)},i.clamp=function(n){return arguments.length?(r=n,u()):r},i.interpolate=function(n){return arguments.length?(e=n,u()):e},i.ticks=function(t){return li(n,t)},i.tickFormat=function(t,e){return fi(n,t,e)},i.nice=function(t){return ci(n,t),u()},i.copy=function(){return oi(n,t,e,r)},u()}function ai(n,t){return $o.rebind(n,t,\"range\",\"rangeRound\",\"interpolate\",\"clamp\")}function ci(n,t){return ri(n,ui(si(n,t)[2]))}function si(n,t){null==t&&(t=10);var e=ni(n),r=e[1]-e[0],u=Math.pow(10,Math.floor(Math.log(r/t)/Math.LN10)),i=t/r*u;return.15>=i?u*=10:.35>=i?u*=5:.75>=i&&(u*=2),e[0]=Math.ceil(e[0]/u)*u,e[1]=Math.floor(e[1]/u)*u+.5*u,e[2]=u,e}function li(n,t){return $o.range.apply($o,si(n,t))}function fi(n,t,e){var r=si(n,t);return $o.format(e?e.replace(uc,function(n,t,e,u,i,o,a,c,s,l){return[t,e,u,i,o,a,c,s||\".\"+gi(l,r),l].join(\"\")}):\",.\"+hi(r[2])+\"f\")}function hi(n){return-Math.floor(Math.log(n)/Math.LN10+.01)}function gi(n,t){var e=hi(t[2]);return n in ls?Math.abs(e-hi(Math.max(Math.abs(t[0]),Math.abs(t[1]))))+ +(\"e\"!==n):e-2*(\"%\"===n)}function pi(n,t,e,r){function u(n){return(e?Math.log(0>n?0:n):-Math.log(n>0?0:-n))/Math.log(t)}function i(n){return e?Math.pow(t,n):-Math.pow(t,-n)}function o(t){return n(u(t))}return o.invert=function(t){return i(n.invert(t))},o.domain=function(t){return arguments.length?(e=t[0]>=0,n.domain((r=t.map(Number)).map(u)),o):r},o.base=function(e){return arguments.length?(t=+e,n.domain(r.map(u)),o):t},o.nice=function(){var t=ri(r.map(u),e?Math:hs);return n.domain(t),r=t.map(i),o},o.ticks=function(){var n=ni(r),o=[],a=n[0],c=n[1],s=Math.floor(u(a)),l=Math.ceil(u(c)),f=t%1?2:t;if(isFinite(l-s)){if(e){for(;l>s;s++)for(var h=1;f>h;h++)o.push(i(s)*h);o.push(i(s))}else for(o.push(i(s));s++<l;)for(var h=f-1;h>0;h--)o.push(i(s)*h);for(s=0;o[s]<a;s++);for(l=o.length;o[l-1]>c;l--);o=o.slice(s,l)}return o},o.tickFormat=function(n,t){if(!arguments.length)return fs;arguments.length<2?t=fs:\"function\"!=typeof t&&(t=$o.format(t));var r,a=Math.max(.1,n/o.ticks().length),c=e?(r=1e-12,Math.ceil):(r=-1e-12,Math.floor);return function(n){return n/i(c(u(n)+r))<=a?t(n):\"\"}},o.copy=function(){return pi(n.copy(),t,e,r)},ai(o,n)}function vi(n,t,e){function r(t){return n(u(t))}var u=di(t),i=di(1/t);return r.invert=function(t){return i(n.invert(t))},r.domain=function(t){return arguments.length?(n.domain((e=t.map(Number)).map(u)),r):e},r.ticks=function(n){return li(e,n)},r.tickFormat=function(n,t){return fi(e,n,t)},r.nice=function(n){return r.domain(ci(e,n))},r.exponent=function(o){return arguments.length?(u=di(t=o),i=di(1/t),n.domain(e.map(u)),r):t},r.copy=function(){return vi(n.copy(),t,e)},ai(r,n)}function di(n){return function(t){return 0>t?-Math.pow(-t,n):Math.pow(t,n)}}function mi(n,t){function e(e){return o[((i.get(e)||\"range\"===t.t&&i.set(e,n.push(e)))-1)%o.length]}function r(t,e){return $o.range(n.length).map(function(n){return t+e*n})}var i,o,a;return e.domain=function(r){if(!arguments.length)return n;n=[],i=new u;for(var o,a=-1,c=r.length;++a<c;)i.has(o=r[a])||i.set(o,n.push(o));return e[t.t].apply(e,t.a)},e.range=function(n){return arguments.length?(o=n,a=0,t={t:\"range\",a:arguments},e):o},e.rangePoints=function(u,i){arguments.length<2&&(i=0);var c=u[0],s=u[1],l=(s-c)/(Math.max(1,n.length-1)+i);return o=r(n.length<2?(c+s)/2:c+l*i/2,l),a=0,t={t:\"rangePoints\",a:arguments},e},e.rangeBands=function(u,i,c){arguments.length<2&&(i=0),arguments.length<3&&(c=i);var s=u[1]<u[0],l=u[s-0],f=u[1-s],h=(f-l)/(n.length-i+2*c);return o=r(l+h*c,h),s&&o.reverse(),a=h*(1-i),t={t:\"rangeBands\",a:arguments},e},e.rangeRoundBands=function(u,i,c){arguments.length<2&&(i=0),arguments.length<3&&(c=i);var s=u[1]<u[0],l=u[s-0],f=u[1-s],h=Math.floor((f-l)/(n.length-i+2*c)),g=f-l-(n.length-i)*h;return o=r(l+Math.round(g/2),h),s&&o.reverse(),a=Math.round(h*(1-i)),t={t:\"rangeRoundBands\",a:arguments},e},e.rangeBand=function(){return a},e.rangeExtent=function(){return ni(t.a[0])},e.copy=function(){return mi(n,t)},e.domain(n)}function yi(n,t){function e(){var e=0,i=t.length;for(u=[];++e<i;)u[e-1]=$o.quantile(n,e/i);return r}function r(n){return isNaN(n=+n)?void 0:t[$o.bisect(u,n)]}var u;return r.domain=function(t){return arguments.length?(n=t.filter(function(n){return!isNaN(n)}).sort($o.ascending),e()):n},r.range=function(n){return arguments.length?(t=n,e()):t},r.quantiles=function(){return u},r.invertExtent=function(e){return e=t.indexOf(e),0>e?[0/0,0/0]:[e>0?u[e-1]:n[0],e<u.length?u[e]:n[n.length-1]]},r.copy=function(){return yi(n,t)},e()}function xi(n,t,e){function r(t){return e[Math.max(0,Math.min(o,Math.floor(i*(t-n))))]}function u(){return i=e.length/(t-n),o=e.length-1,r}var i,o;return r.domain=function(e){return arguments.length?(n=+e[0],t=+e[e.length-1],u()):[n,t]},r.range=function(n){return arguments.length?(e=n,u()):e},r.invertExtent=function(t){return t=e.indexOf(t),t=0>t?0/0:t/i+n,[t,t+1/i]},r.copy=function(){return xi(n,t,e)},u()}function Mi(n,t){function e(e){return e>=e?t[$o.bisect(n,e)]:void 0}return e.domain=function(t){return arguments.length?(n=t,e):n},e.range=function(n){return arguments.length?(t=n,e):t},e.invertExtent=function(e){return e=t.indexOf(e),[n[e-1],n[e]]},e.copy=function(){return Mi(n,t)},e}function _i(n){function t(n){return+n}return t.invert=t,t.domain=t.range=function(e){return arguments.length?(n=e.map(t),t):n},t.ticks=function(t){return li(n,t)},t.tickFormat=function(t,e){return fi(n,t,e)},t.copy=function(){return _i(n)},t}function bi(n){return n.innerRadius}function wi(n){return n.outerRadius}function Si(n){return n.startAngle}function ki(n){return n.endAngle}function Ei(n){function t(t){function o(){s.push(\"M\",i(n(l),a))}for(var c,s=[],l=[],f=-1,h=t.length,g=pt(e),p=pt(r);++f<h;)u.call(this,c=t[f],f)?l.push([+g.call(this,c,f),+p.call(this,c,f)]):l.length&&(o(),l=[]);return l.length&&o(),s.length?s.join(\"\"):null}var e=Ze,r=Ve,u=Zt,i=Ai,o=i.key,a=.7;return t.x=function(n){return arguments.length?(e=n,t):e},t.y=function(n){return arguments.length?(r=n,t):r},t.defined=function(n){return arguments.length?(u=n,t):u},t.interpolate=function(n){return arguments.length?(o=\"function\"==typeof n?i=n:(i=xs.get(n)||Ai).key,t):o},t.tension=function(n){return arguments.length?(a=n,t):a},t}function Ai(n){return n.join(\"L\")}function Ci(n){return Ai(n)+\"Z\"}function Ni(n){for(var t=0,e=n.length,r=n[0],u=[r[0],\",\",r[1]];++t<e;)u.push(\"H\",(r[0]+(r=n[t])[0])/2,\"V\",r[1]);return e>1&&u.push(\"H\",r[0]),u.join(\"\")}function Li(n){for(var t=0,e=n.length,r=n[0],u=[r[0],\",\",r[1]];++t<e;)u.push(\"V\",(r=n[t])[1],\"H\",r[0]);return u.join(\"\")}function Ti(n){for(var t=0,e=n.length,r=n[0],u=[r[0],\",\",r[1]];++t<e;)u.push(\"H\",(r=n[t])[0],\"V\",r[1]);return u.join(\"\")}function qi(n,t){return n.length<4?Ai(n):n[1]+Di(n.slice(1,n.length-1),Pi(n,t))}function zi(n,t){return n.length<3?Ai(n):n[0]+Di((n.push(n[0]),n),Pi([n[n.length-2]].concat(n,[n[1]]),t))}function Ri(n,t){return n.length<3?Ai(n):n[0]+Di(n,Pi(n,t))}function Di(n,t){if(t.length<1||n.length!=t.length&&n.length!=t.length+2)return Ai(n);var e=n.length!=t.length,r=\"\",u=n[0],i=n[1],o=t[0],a=o,c=1;if(e&&(r+=\"Q\"+(i[0]-2*o[0]/3)+\",\"+(i[1]-2*o[1]/3)+\",\"+i[0]+\",\"+i[1],u=n[1],c=2),t.length>1){a=t[1],i=n[c],c++,r+=\"C\"+(u[0]+o[0])+\",\"+(u[1]+o[1])+\",\"+(i[0]-a[0])+\",\"+(i[1]-a[1])+\",\"+i[0]+\",\"+i[1];for(var s=2;s<t.length;s++,c++)i=n[c],a=t[s],r+=\"S\"+(i[0]-a[0])+\",\"+(i[1]-a[1])+\",\"+i[0]+\",\"+i[1]}if(e){var l=n[c];r+=\"Q\"+(i[0]+2*a[0]/3)+\",\"+(i[1]+2*a[1]/3)+\",\"+l[0]+\",\"+l[1]}return r}function Pi(n,t){for(var e,r=[],u=(1-t)/2,i=n[0],o=n[1],a=1,c=n.length;++a<c;)e=i,i=o,o=n[a],r.push([u*(o[0]-e[0]),u*(o[1]-e[1])]);return r}function Ui(n){if(n.length<3)return Ai(n);var t=1,e=n.length,r=n[0],u=r[0],i=r[1],o=[u,u,u,(r=n[1])[0]],a=[i,i,i,r[1]],c=[u,\",\",i,\"L\",Oi(bs,o),\",\",Oi(bs,a)];for(n.push(n[e-1]);++t<=e;)r=n[t],o.shift(),o.push(r[0]),a.shift(),a.push(r[1]),Yi(c,o,a);return n.pop(),c.push(\"L\",r),c.join(\"\")}function ji(n){if(n.length<4)return Ai(n);for(var t,e=[],r=-1,u=n.length,i=[0],o=[0];++r<3;)t=n[r],i.push(t[0]),o.push(t[1]);for(e.push(Oi(bs,i)+\",\"+Oi(bs,o)),--r;++r<u;)t=n[r],i.shift(),i.push(t[0]),o.shift(),o.push(t[1]),Yi(e,i,o);return e.join(\"\")}function Hi(n){for(var t,e,r=-1,u=n.length,i=u+4,o=[],a=[];++r<4;)e=n[r%u],o.push(e[0]),a.push(e[1]);for(t=[Oi(bs,o),\",\",Oi(bs,a)],--r;++r<i;)e=n[r%u],o.shift(),o.push(e[0]),a.shift(),a.push(e[1]),Yi(t,o,a);return t.join(\"\")}function Fi(n,t){var e=n.length-1;if(e)for(var r,u,i=n[0][0],o=n[0][1],a=n[e][0]-i,c=n[e][1]-o,s=-1;++s<=e;)r=n[s],u=s/e,r[0]=t*r[0]+(1-t)*(i+u*a),r[1]=t*r[1]+(1-t)*(o+u*c);return Ui(n)}function Oi(n,t){return n[0]*t[0]+n[1]*t[1]+n[2]*t[2]+n[3]*t[3]}function Yi(n,t,e){n.push(\"C\",Oi(Ms,t),\",\",Oi(Ms,e),\",\",Oi(_s,t),\",\",Oi(_s,e),\",\",Oi(bs,t),\",\",Oi(bs,e))}function Ii(n,t){return(t[1]-n[1])/(t[0]-n[0])}function Zi(n){for(var t=0,e=n.length-1,r=[],u=n[0],i=n[1],o=r[0]=Ii(u,i);++t<e;)r[t]=(o+(o=Ii(u=i,i=n[t+1])))/2;return r[t]=o,r}function Vi(n){for(var t,e,r,u,i=[],o=Zi(n),a=-1,c=n.length-1;++a<c;)t=Ii(n[a],n[a+1]),aa(t)<Ca?o[a]=o[a+1]=0:(e=o[a]/t,r=o[a+1]/t,u=e*e+r*r,u>9&&(u=3*t/Math.sqrt(u),o[a]=u*e,o[a+1]=u*r));for(a=-1;++a<=c;)u=(n[Math.min(c,a+1)][0]-n[Math.max(0,a-1)][0])/(6*(1+o[a]*o[a])),i.push([u||0,o[a]*u||0]);return i}function Xi(n){return n.length<3?Ai(n):n[0]+Di(n,Vi(n))}function $i(n){for(var t,e,r,u=-1,i=n.length;++u<i;)t=n[u],e=t[0],r=t[1]+ms,t[0]=e*Math.cos(r),t[1]=e*Math.sin(r);return n}function Bi(n){function t(t){function c(){v.push(\"M\",a(n(m),f),l,s(n(d.reverse()),f),\"Z\")}for(var h,g,p,v=[],d=[],m=[],y=-1,x=t.length,M=pt(e),_=pt(u),b=e===r?function(){return g}:pt(r),w=u===i?function(){return p}:pt(i);++y<x;)o.call(this,h=t[y],y)?(d.push([g=+M.call(this,h,y),p=+_.call(this,h,y)]),m.push([+b.call(this,h,y),+w.call(this,h,y)])):d.length&&(c(),d=[],m=[]);return d.length&&c(),v.length?v.join(\"\"):null}var e=Ze,r=Ze,u=0,i=Ve,o=Zt,a=Ai,c=a.key,s=a,l=\"L\",f=.7;return t.x=function(n){return arguments.length?(e=r=n,t):r},t.x0=function(n){return arguments.length?(e=n,t):e},t.x1=function(n){return arguments.length?(r=n,t):r},t.y=function(n){return arguments.length?(u=i=n,t):i},t.y0=function(n){return arguments.length?(u=n,t):u},t.y1=function(n){return arguments.length?(i=n,t):i},t.defined=function(n){return arguments.length?(o=n,t):o},t.interpolate=function(n){return arguments.length?(c=\"function\"==typeof n?a=n:(a=xs.get(n)||Ai).key,s=a.reverse||a,l=a.closed?\"M\":\"L\",t):c},t.tension=function(n){return arguments.length?(f=n,t):f},t}function Wi(n){return n.radius}function Ji(n){return[n.x,n.y]}function Gi(n){return function(){var t=n.apply(this,arguments),e=t[0],r=t[1]+ms;return[e*Math.cos(r),e*Math.sin(r)]}}function Ki(){return 64}function Qi(){return\"circle\"}function no(n){var t=Math.sqrt(n/ka);return\"M0,\"+t+\"A\"+t+\",\"+t+\" 0 1,1 0,\"+-t+\"A\"+t+\",\"+t+\" 0 1,1 0,\"+t+\"Z\"}function to(n,t){return ha(n,Cs),n.id=t,n}function eo(n,t,e,r){var u=n.id;return C(n,\"function\"==typeof e?function(n,i,o){n.__transition__[u].tween.set(t,r(e.call(n,n.__data__,i,o)))}:(e=r(e),function(n){n.__transition__[u].tween.set(t,e)}))}function ro(n){return null==n&&(n=\"\"),function(){this.textContent=n}}function uo(n,t,e,r){var i=n.__transition__||(n.__transition__={active:0,count:0}),o=i[e];if(!o){var a=r.time;o=i[e]={tween:new u,time:a,ease:r.ease,delay:r.delay,duration:r.duration},++i.count,$o.timer(function(r){function u(r){return i.active>e?s():(i.active=e,o.event&&o.event.start.call(n,l,t),o.tween.forEach(function(e,r){(r=r.call(n,l,t))&&v.push(r)}),$o.timer(function(){return p.c=c(r||1)?Zt:c,1},0,a),void 0)}function c(r){if(i.active!==e)return s();for(var u=r/g,a=f(u),c=v.length;c>0;)v[--c].call(n,a);return u>=1?(o.event&&o.event.end.call(n,l,t),s()):void 0}function s(){return--i.count?delete i[e]:delete n.__transition__,1}var l=n.__data__,f=o.ease,h=o.delay,g=o.duration,p=Ga,v=[];return p.t=h+a,r>=h?u(r-h):(p.c=u,void 0)},0,a)}}function io(n,t){n.attr(\"transform\",function(n){return\"translate(\"+t(n)+\",0)\"})}function oo(n,t){n.attr(\"transform\",function(n){return\"translate(0,\"+t(n)+\")\"})}function ao(){this._=new Date(arguments.length>1?Date.UTC.apply(this,arguments):arguments[0])}function co(n,t,e){function r(t){var e=n(t),r=i(e,1);return r-t>t-e?e:r}function u(e){return t(e=n(new Ds(e-1)),1),e}function i(n,e){return t(n=new Ds(+n),e),n}function o(n,r,i){var o=u(n),a=[];if(i>1)for(;r>o;)e(o)%i||a.push(new Date(+o)),t(o,1);else for(;r>o;)a.push(new Date(+o)),t(o,1);return a}function a(n,t,e){try{Ds=ao;var r=new ao;return r._=n,o(r,t,e)}finally{Ds=Date}}n.floor=n,n.round=r,n.ceil=u,n.offset=i,n.range=o;var c=n.utc=so(n);return c.floor=c,c.round=so(r),c.ceil=so(u),c.offset=so(i),c.range=a,n}function so(n){return function(t,e){try{Ds=ao;var r=new ao;return r._=t,n(r,e)._}finally{Ds=Date}}}function lo(n){function t(t){for(var r,u,i,o=[],a=-1,c=0;++a<e;)37===n.charCodeAt(a)&&(o.push(n.substring(c,a)),null!=(u=nl[r=n.charAt(++a)])&&(r=n.charAt(++a)),(i=tl[r])&&(r=i(t,null==u?\"e\"===r?\" \":\"0\":u)),o.push(r),c=a+1);return o.push(n.substring(c,a)),o.join(\"\")}var e=n.length;return t.parse=function(t){var e={y:1900,m:0,d:1,H:0,M:0,S:0,L:0,Z:null},r=fo(e,n,t,0);if(r!=t.length)return null;\"p\"in e&&(e.H=e.H%12+12*e.p);var u=null!=e.Z&&Ds!==ao,i=new(u?ao:Ds);return\"j\"in e?i.setFullYear(e.y,0,e.j):\"w\"in e&&(\"W\"in e||\"U\"in e)?(i.setFullYear(e.y,0,1),i.setFullYear(e.y,0,\"W\"in e?(e.w+6)%7+7*e.W-(i.getDay()+5)%7:e.w+7*e.U-(i.getDay()+6)%7)):i.setFullYear(e.y,e.m,e.d),i.setHours(e.H+Math.floor(e.Z/100),e.M+e.Z%100,e.S,e.L),u?i._:i},t.toString=function(){return n},t}function fo(n,t,e,r){for(var u,i,o,a=0,c=t.length,s=e.length;c>a;){if(r>=s)return-1;if(u=t.charCodeAt(a++),37===u){if(o=t.charAt(a++),i=el[o in nl?t.charAt(a++):o],!i||(r=i(n,e,r))<0)return-1}else if(u!=e.charCodeAt(r++))return-1}return r}function ho(n){return new RegExp(\"^(?:\"+n.map($o.requote).join(\"|\")+\")\",\"i\")}function go(n){for(var t=new u,e=-1,r=n.length;++e<r;)t.set(n[e].toLowerCase(),e);return t}function po(n,t,e){var r=0>n?\"-\":\"\",u=(r?-n:n)+\"\",i=u.length;return r+(e>i?new Array(e-i+1).join(t)+u:u)}function vo(n,t,e){$s.lastIndex=0;var r=$s.exec(t.substring(e));return r?(n.w=Bs.get(r[0].toLowerCase()),e+r[0].length):-1}function mo(n,t,e){Vs.lastIndex=0;var r=Vs.exec(t.substring(e));return r?(n.w=Xs.get(r[0].toLowerCase()),e+r[0].length):-1}function yo(n,t,e){rl.lastIndex=0;var r=rl.exec(t.substring(e,e+1));return r?(n.w=+r[0],e+r[0].length):-1}function xo(n,t,e){rl.lastIndex=0;var r=rl.exec(t.substring(e));return r?(n.U=+r[0],e+r[0].length):-1}function Mo(n,t,e){rl.lastIndex=0;var r=rl.exec(t.substring(e));return r?(n.W=+r[0],e+r[0].length):-1}function _o(n,t,e){Gs.lastIndex=0;var r=Gs.exec(t.substring(e));return r?(n.m=Ks.get(r[0].toLowerCase()),e+r[0].length):-1}function bo(n,t,e){Ws.lastIndex=0;var r=Ws.exec(t.substring(e));return r?(n.m=Js.get(r[0].toLowerCase()),e+r[0].length):-1}function wo(n,t,e){return fo(n,tl.c.toString(),t,e)}function So(n,t,e){return fo(n,tl.x.toString(),t,e)}function ko(n,t,e){return fo(n,tl.X.toString(),t,e)}function Eo(n,t,e){rl.lastIndex=0;var r=rl.exec(t.substring(e,e+4));return r?(n.y=+r[0],e+r[0].length):-1}function Ao(n,t,e){rl.lastIndex=0;var r=rl.exec(t.substring(e,e+2));return r?(n.y=No(+r[0]),e+r[0].length):-1}function Co(n,t,e){return/^[+-]\\d{4}$/.test(t=t.substring(e,e+5))?(n.Z=+t,e+5):-1}function No(n){return n+(n>68?1900:2e3)}function Lo(n,t,e){rl.lastIndex=0;var r=rl.exec(t.substring(e,e+2));return r?(n.m=r[0]-1,e+r[0].length):-1}function To(n,t,e){rl.lastIndex=0;var r=rl.exec(t.substring(e,e+2));return r?(n.d=+r[0],e+r[0].length):-1}function qo(n,t,e){rl.lastIndex=0;var r=rl.exec(t.substring(e,e+3));return r?(n.j=+r[0],e+r[0].length):-1}function zo(n,t,e){rl.lastIndex=0;var r=rl.exec(t.substring(e,e+2));return r?(n.H=+r[0],e+r[0].length):-1}function Ro(n,t,e){rl.lastIndex=0;var r=rl.exec(t.substring(e,e+2));return r?(n.M=+r[0],e+r[0].length):-1}function Do(n,t,e){rl.lastIndex=0;var r=rl.exec(t.substring(e,e+2));return r?(n.S=+r[0],e+r[0].length):-1}function Po(n,t,e){rl.lastIndex=0;var r=rl.exec(t.substring(e,e+3));return r?(n.L=+r[0],e+r[0].length):-1}function Uo(n,t,e){var r=ul.get(t.substring(e,e+=2).toLowerCase());return null==r?-1:(n.p=r,e)}function jo(n){var t=n.getTimezoneOffset(),e=t>0?\"-\":\"+\",r=~~(aa(t)/60),u=aa(t)%60;return e+po(r,\"0\",2)+po(u,\"0\",2)}function Ho(n,t,e){Qs.lastIndex=0;var r=Qs.exec(t.substring(e,e+1));return r?e+r[0].length:-1}function Fo(n){function t(n){try{Ds=ao;var t=new Ds;return t._=n,e(t)}finally{Ds=Date}}var e=lo(n);return t.parse=function(n){try{Ds=ao;var t=e.parse(n);return t&&t._}finally{Ds=Date}},t.toString=e.toString,t}function Oo(n){return n.toISOString()}function Yo(n,t,e){function r(t){return n(t)}function u(n,e){var r=n[1]-n[0],u=r/e,i=$o.bisect(ol,u);return i==ol.length?[t.year,si(n.map(function(n){return n/31536e6}),e)[2]]:i?t[u/ol[i-1]<ol[i]/u?i-1:i]:[ll,si(n,e)[2]]}return r.invert=function(t){return Io(n.invert(t))},r.domain=function(t){return arguments.length?(n.domain(t),r):n.domain().map(Io)},r.nice=function(n,t){function e(e){return!isNaN(e)&&!n.range(e,Io(+e+1),t).length}var i=r.domain(),o=ni(i),a=null==n?u(o,10):\"number\"==typeof n&&u(o,n);return a&&(n=a[0],t=a[1]),r.domain(ri(i,t>1?{floor:function(t){for(;e(t=n.floor(t));)t=Io(t-1);return t},ceil:function(t){for(;e(t=n.ceil(t));)t=Io(+t+1);return t}}:n))},r.ticks=function(n,t){var e=ni(r.domain()),i=null==n?u(e,10):\"number\"==typeof n?u(e,n):!n.range&&[{range:n},t];return i&&(n=i[0],t=i[1]),n.range(e[0],Io(+e[1]+1),1>t?1:t)},r.tickFormat=function(){return e},r.copy=function(){return Yo(n.copy(),t,e)},ai(r,n)}function Io(n){return new Date(n)}function Zo(n){return function(t){for(var e=n.length-1,r=n[e];!r[1](t);)r=n[--e];return r[0](t)}}function Vo(n){return JSON.parse(n.responseText)}function Xo(n){var t=Jo.createRange();return t.selectNode(Jo.body),t.createContextualFragment(n.responseText)}var $o={version:\"3.3.10\"};Date.now||(Date.now=function(){return+new Date});var Bo=[].slice,Wo=function(n){return Bo.call(n)},Jo=document,Go=Jo.documentElement,Ko=window;try{Wo(Go.childNodes)[0].nodeType}catch(Qo){Wo=function(n){for(var t=n.length,e=new Array(t);t--;)e[t]=n[t];return e}}try{Jo.createElement(\"div\").style.setProperty(\"opacity\",0,\"\")}catch(na){var ta=Ko.Element.prototype,ea=ta.setAttribute,ra=ta.setAttributeNS,ua=Ko.CSSStyleDeclaration.prototype,ia=ua.setProperty;ta.setAttribute=function(n,t){ea.call(this,n,t+\"\")},ta.setAttributeNS=function(n,t,e){ra.call(this,n,t,e+\"\")},ua.setProperty=function(n,t,e){ia.call(this,n,t+\"\",e)}}$o.ascending=function(n,t){return t>n?-1:n>t?1:n>=t?0:0/0},$o.descending=function(n,t){return n>t?-1:t>n?1:t>=n?0:0/0},$o.min=function(n,t){var e,r,u=-1,i=n.length;if(1===arguments.length){for(;++u<i&&!(null!=(e=n[u])&&e>=e);)e=void 0;for(;++u<i;)null!=(r=n[u])&&e>r&&(e=r)}else{for(;++u<i&&!(null!=(e=t.call(n,n[u],u))&&e>=e);)e=void 0;for(;++u<i;)null!=(r=t.call(n,n[u],u))&&e>r&&(e=r)}return e},$o.max=function(n,t){var e,r,u=-1,i=n.length;if(1===arguments.length){for(;++u<i&&!(null!=(e=n[u])&&e>=e);)e=void 0;for(;++u<i;)null!=(r=n[u])&&r>e&&(e=r)}else{for(;++u<i&&!(null!=(e=t.call(n,n[u],u))&&e>=e);)e=void 0;for(;++u<i;)null!=(r=t.call(n,n[u],u))&&r>e&&(e=r)}return e},$o.extent=function(n,t){var e,r,u,i=-1,o=n.length;if(1===arguments.length){for(;++i<o&&!(null!=(e=u=n[i])&&e>=e);)e=u=void 0;for(;++i<o;)null!=(r=n[i])&&(e>r&&(e=r),r>u&&(u=r))}else{for(;++i<o&&!(null!=(e=u=t.call(n,n[i],i))&&e>=e);)e=void 0;for(;++i<o;)null!=(r=t.call(n,n[i],i))&&(e>r&&(e=r),r>u&&(u=r))}return[e,u]},$o.sum=function(n,t){var e,r=0,u=n.length,i=-1;if(1===arguments.length)for(;++i<u;)isNaN(e=+n[i])||(r+=e);else for(;++i<u;)isNaN(e=+t.call(n,n[i],i))||(r+=e);return r},$o.mean=function(t,e){var r,u=t.length,i=0,o=-1,a=0;if(1===arguments.length)for(;++o<u;)n(r=t[o])&&(i+=(r-i)/++a);else for(;++o<u;)n(r=e.call(t,t[o],o))&&(i+=(r-i)/++a);return a?i:void 0},$o.quantile=function(n,t){var e=(n.length-1)*t+1,r=Math.floor(e),u=+n[r-1],i=e-r;\n",
        "return i?u+i*(n[r]-u):u},$o.median=function(t,e){return arguments.length>1&&(t=t.map(e)),t=t.filter(n),t.length?$o.quantile(t.sort($o.ascending),.5):void 0},$o.bisector=function(n){return{left:function(t,e,r,u){for(arguments.length<3&&(r=0),arguments.length<4&&(u=t.length);u>r;){var i=r+u>>>1;n.call(t,t[i],i)<e?r=i+1:u=i}return r},right:function(t,e,r,u){for(arguments.length<3&&(r=0),arguments.length<4&&(u=t.length);u>r;){var i=r+u>>>1;e<n.call(t,t[i],i)?u=i:r=i+1}return r}}};var oa=$o.bisector(function(n){return n});$o.bisectLeft=oa.left,$o.bisect=$o.bisectRight=oa.right,$o.shuffle=function(n){for(var t,e,r=n.length;r;)e=0|Math.random()*r--,t=n[r],n[r]=n[e],n[e]=t;return n},$o.permute=function(n,t){for(var e=t.length,r=new Array(e);e--;)r[e]=n[t[e]];return r},$o.pairs=function(n){for(var t,e=0,r=n.length-1,u=n[0],i=new Array(0>r?0:r);r>e;)i[e]=[t=u,u=n[++e]];return i},$o.zip=function(){if(!(u=arguments.length))return[];for(var n=-1,e=$o.min(arguments,t),r=new Array(e);++n<e;)for(var u,i=-1,o=r[n]=new Array(u);++i<u;)o[i]=arguments[i][n];return r},$o.transpose=function(n){return $o.zip.apply($o,n)},$o.keys=function(n){var t=[];for(var e in n)t.push(e);return t},$o.values=function(n){var t=[];for(var e in n)t.push(n[e]);return t},$o.entries=function(n){var t=[];for(var e in n)t.push({key:e,value:n[e]});return t},$o.merge=function(n){for(var t,e,r,u=n.length,i=-1,o=0;++i<u;)o+=n[i].length;for(e=new Array(o);--u>=0;)for(r=n[u],t=r.length;--t>=0;)e[--o]=r[t];return e};var aa=Math.abs;$o.range=function(n,t,r){if(arguments.length<3&&(r=1,arguments.length<2&&(t=n,n=0)),1/0===(t-n)/r)throw new Error(\"infinite range\");var u,i=[],o=e(aa(r)),a=-1;if(n*=o,t*=o,r*=o,0>r)for(;(u=n+r*++a)>t;)i.push(u/o);else for(;(u=n+r*++a)<t;)i.push(u/o);return i},$o.map=function(n){var t=new u;if(n instanceof u)n.forEach(function(n,e){t.set(n,e)});else for(var e in n)t.set(e,n[e]);return t},r(u,{has:function(n){return ca+n in this},get:function(n){return this[ca+n]},set:function(n,t){return this[ca+n]=t},remove:function(n){return n=ca+n,n in this&&delete this[n]},keys:function(){var n=[];return this.forEach(function(t){n.push(t)}),n},values:function(){var n=[];return this.forEach(function(t,e){n.push(e)}),n},entries:function(){var n=[];return this.forEach(function(t,e){n.push({key:t,value:e})}),n},forEach:function(n){for(var t in this)t.charCodeAt(0)===sa&&n.call(this,t.substring(1),this[t])}});var ca=\"\\x00\",sa=ca.charCodeAt(0);$o.nest=function(){function n(t,a,c){if(c>=o.length)return r?r.call(i,a):e?a.sort(e):a;for(var s,l,f,h,g=-1,p=a.length,v=o[c++],d=new u;++g<p;)(h=d.get(s=v(l=a[g])))?h.push(l):d.set(s,[l]);return t?(l=t(),f=function(e,r){l.set(e,n(t,r,c))}):(l={},f=function(e,r){l[e]=n(t,r,c)}),d.forEach(f),l}function t(n,e){if(e>=o.length)return n;var r=[],u=a[e++];return n.forEach(function(n,u){r.push({key:n,values:t(u,e)})}),u?r.sort(function(n,t){return u(n.key,t.key)}):r}var e,r,i={},o=[],a=[];return i.map=function(t,e){return n(e,t,0)},i.entries=function(e){return t(n($o.map,e,0),0)},i.key=function(n){return o.push(n),i},i.sortKeys=function(n){return a[o.length-1]=n,i},i.sortValues=function(n){return e=n,i},i.rollup=function(n){return r=n,i},i},$o.set=function(n){var t=new i;if(n)for(var e=0,r=n.length;r>e;++e)t.add(n[e]);return t},r(i,{has:function(n){return ca+n in this},add:function(n){return this[ca+n]=!0,n},remove:function(n){return n=ca+n,n in this&&delete this[n]},values:function(){var n=[];return this.forEach(function(t){n.push(t)}),n},forEach:function(n){for(var t in this)t.charCodeAt(0)===sa&&n.call(this,t.substring(1))}}),$o.behavior={},$o.rebind=function(n,t){for(var e,r=1,u=arguments.length;++r<u;)n[e=arguments[r]]=o(n,t,t[e]);return n};var la=[\"webkit\",\"ms\",\"moz\",\"Moz\",\"o\",\"O\"];$o.dispatch=function(){for(var n=new s,t=-1,e=arguments.length;++t<e;)n[arguments[t]]=l(n);return n},s.prototype.on=function(n,t){var e=n.indexOf(\".\"),r=\"\";if(e>=0&&(r=n.substring(e+1),n=n.substring(0,e)),n)return arguments.length<2?this[n].on(r):this[n].on(r,t);if(2===arguments.length){if(null==t)for(n in this)this.hasOwnProperty(n)&&this[n].on(r,null);return this}},$o.event=null,$o.requote=function(n){return n.replace(fa,\"\\\\$&\")};var fa=/[\\\\\\^\\$\\*\\+\\?\\|\\[\\]\\(\\)\\.\\{\\}]/g,ha={}.__proto__?function(n,t){n.__proto__=t}:function(n,t){for(var e in t)n[e]=t[e]},ga=function(n,t){return t.querySelector(n)},pa=function(n,t){return t.querySelectorAll(n)},va=Go[a(Go,\"matchesSelector\")],da=function(n,t){return va.call(n,t)};\"function\"==typeof Sizzle&&(ga=function(n,t){return Sizzle(n,t)[0]||null},pa=function(n,t){return Sizzle.uniqueSort(Sizzle(n,t))},da=Sizzle.matchesSelector),$o.selection=function(){return Ma};var ma=$o.selection.prototype=[];ma.select=function(n){var t,e,r,u,i=[];n=v(n);for(var o=-1,a=this.length;++o<a;){i.push(t=[]),t.parentNode=(r=this[o]).parentNode;for(var c=-1,s=r.length;++c<s;)(u=r[c])?(t.push(e=n.call(u,u.__data__,c,o)),e&&\"__data__\"in u&&(e.__data__=u.__data__)):t.push(null)}return p(i)},ma.selectAll=function(n){var t,e,r=[];n=d(n);for(var u=-1,i=this.length;++u<i;)for(var o=this[u],a=-1,c=o.length;++a<c;)(e=o[a])&&(r.push(t=Wo(n.call(e,e.__data__,a,u))),t.parentNode=e);return p(r)};var ya={svg:\"http://www.w3.org/2000/svg\",xhtml:\"http://www.w3.org/1999/xhtml\",xlink:\"http://www.w3.org/1999/xlink\",xml:\"http://www.w3.org/XML/1998/namespace\",xmlns:\"http://www.w3.org/2000/xmlns/\"};$o.ns={prefix:ya,qualify:function(n){var t=n.indexOf(\":\"),e=n;return t>=0&&(e=n.substring(0,t),n=n.substring(t+1)),ya.hasOwnProperty(e)?{space:ya[e],local:n}:n}},ma.attr=function(n,t){if(arguments.length<2){if(\"string\"==typeof n){var e=this.node();return n=$o.ns.qualify(n),n.local?e.getAttributeNS(n.space,n.local):e.getAttribute(n)}for(t in n)this.each(m(t,n[t]));return this}return this.each(m(n,t))},ma.classed=function(n,t){if(arguments.length<2){if(\"string\"==typeof n){var e=this.node(),r=(n=n.trim().split(/^|\\s+/g)).length,u=-1;if(t=e.classList){for(;++u<r;)if(!t.contains(n[u]))return!1}else for(t=e.getAttribute(\"class\");++u<r;)if(!x(n[u]).test(t))return!1;return!0}for(t in n)this.each(M(t,n[t]));return this}return this.each(M(n,t))},ma.style=function(n,t,e){var r=arguments.length;if(3>r){if(\"string\"!=typeof n){2>r&&(t=\"\");for(e in n)this.each(b(e,n[e],t));return this}if(2>r)return Ko.getComputedStyle(this.node(),null).getPropertyValue(n);e=\"\"}return this.each(b(n,t,e))},ma.property=function(n,t){if(arguments.length<2){if(\"string\"==typeof n)return this.node()[n];for(t in n)this.each(w(t,n[t]));return this}return this.each(w(n,t))},ma.text=function(n){return arguments.length?this.each(\"function\"==typeof n?function(){var t=n.apply(this,arguments);this.textContent=null==t?\"\":t}:null==n?function(){this.textContent=\"\"}:function(){this.textContent=n}):this.node().textContent},ma.html=function(n){return arguments.length?this.each(\"function\"==typeof n?function(){var t=n.apply(this,arguments);this.innerHTML=null==t?\"\":t}:null==n?function(){this.innerHTML=\"\"}:function(){this.innerHTML=n}):this.node().innerHTML},ma.append=function(n){return n=S(n),this.select(function(){return this.appendChild(n.apply(this,arguments))})},ma.insert=function(n,t){return n=S(n),t=v(t),this.select(function(){return this.insertBefore(n.apply(this,arguments),t.apply(this,arguments)||null)})},ma.remove=function(){return this.each(function(){var n=this.parentNode;n&&n.removeChild(this)})},ma.data=function(n,t){function e(n,e){var r,i,o,a=n.length,f=e.length,h=Math.min(a,f),g=new Array(f),p=new Array(f),v=new Array(a);if(t){var d,m=new u,y=new u,x=[];for(r=-1;++r<a;)d=t.call(i=n[r],i.__data__,r),m.has(d)?v[r]=i:m.set(d,i),x.push(d);for(r=-1;++r<f;)d=t.call(e,o=e[r],r),(i=m.get(d))?(g[r]=i,i.__data__=o):y.has(d)||(p[r]=k(o)),y.set(d,o),m.remove(d);for(r=-1;++r<a;)m.has(x[r])&&(v[r]=n[r])}else{for(r=-1;++r<h;)i=n[r],o=e[r],i?(i.__data__=o,g[r]=i):p[r]=k(o);for(;f>r;++r)p[r]=k(e[r]);for(;a>r;++r)v[r]=n[r]}p.update=g,p.parentNode=g.parentNode=v.parentNode=n.parentNode,c.push(p),s.push(g),l.push(v)}var r,i,o=-1,a=this.length;if(!arguments.length){for(n=new Array(a=(r=this[0]).length);++o<a;)(i=r[o])&&(n[o]=i.__data__);return n}var c=N([]),s=p([]),l=p([]);if(\"function\"==typeof n)for(;++o<a;)e(r=this[o],n.call(r,r.parentNode.__data__,o));else for(;++o<a;)e(r=this[o],n);return s.enter=function(){return c},s.exit=function(){return l},s},ma.datum=function(n){return arguments.length?this.property(\"__data__\",n):this.property(\"__data__\")},ma.filter=function(n){var t,e,r,u=[];\"function\"!=typeof n&&(n=E(n));for(var i=0,o=this.length;o>i;i++){u.push(t=[]),t.parentNode=(e=this[i]).parentNode;for(var a=0,c=e.length;c>a;a++)(r=e[a])&&n.call(r,r.__data__,a,i)&&t.push(r)}return p(u)},ma.order=function(){for(var n=-1,t=this.length;++n<t;)for(var e,r=this[n],u=r.length-1,i=r[u];--u>=0;)(e=r[u])&&(i&&i!==e.nextSibling&&i.parentNode.insertBefore(e,i),i=e);return this},ma.sort=function(n){n=A.apply(this,arguments);for(var t=-1,e=this.length;++t<e;)this[t].sort(n);return this.order()},ma.each=function(n){return C(this,function(t,e,r){n.call(t,t.__data__,e,r)})},ma.call=function(n){var t=Wo(arguments);return n.apply(t[0]=this,t),this},ma.empty=function(){return!this.node()},ma.node=function(){for(var n=0,t=this.length;t>n;n++)for(var e=this[n],r=0,u=e.length;u>r;r++){var i=e[r];if(i)return i}return null},ma.size=function(){var n=0;return this.each(function(){++n}),n};var xa=[];$o.selection.enter=N,$o.selection.enter.prototype=xa,xa.append=ma.append,xa.empty=ma.empty,xa.node=ma.node,xa.call=ma.call,xa.size=ma.size,xa.select=function(n){for(var t,e,r,u,i,o=[],a=-1,c=this.length;++a<c;){r=(u=this[a]).update,o.push(t=[]),t.parentNode=u.parentNode;for(var s=-1,l=u.length;++s<l;)(i=u[s])?(t.push(r[s]=e=n.call(u.parentNode,i.__data__,s,a)),e.__data__=i.__data__):t.push(null)}return p(o)},xa.insert=function(n,t){return arguments.length<2&&(t=L(this)),ma.insert.call(this,n,t)},ma.transition=function(){for(var n,t,e=Ss||++Ns,r=[],u=ks||{time:Date.now(),ease:Hr,delay:0,duration:250},i=-1,o=this.length;++i<o;){r.push(n=[]);for(var a=this[i],c=-1,s=a.length;++c<s;)(t=a[c])&&uo(t,c,e,u),n.push(t)}return to(r,e)},ma.interrupt=function(){return this.each(T)},$o.select=function(n){var t=[\"string\"==typeof n?ga(n,Jo):n];return t.parentNode=Go,p([t])},$o.selectAll=function(n){var t=Wo(\"string\"==typeof n?pa(n,Jo):n);return t.parentNode=Go,p([t])};var Ma=$o.select(Go);ma.on=function(n,t,e){var r=arguments.length;if(3>r){if(\"string\"!=typeof n){2>r&&(t=!1);for(e in n)this.each(q(e,n[e],t));return this}if(2>r)return(r=this.node()[\"__on\"+n])&&r._;e=!1}return this.each(q(n,t,e))};var _a=$o.map({mouseenter:\"mouseover\",mouseleave:\"mouseout\"});_a.forEach(function(n){\"on\"+n in Jo&&_a.remove(n)});var ba=\"onselectstart\"in Jo?null:a(Go.style,\"userSelect\"),wa=0;$o.mouse=function(n){return P(n,h())};var Sa=/WebKit/.test(Ko.navigator.userAgent)?-1:0;$o.touches=function(n,t){return arguments.length<2&&(t=h().touches),t?Wo(t).map(function(t){var e=P(n,t);return e.identifier=t.identifier,e}):[]},$o.behavior.drag=function(){function n(){this.on(\"mousedown.drag\",o).on(\"touchstart.drag\",a)}function t(){return $o.event.changedTouches[0].identifier}function e(n,t){return $o.touches(n).filter(function(n){return n.identifier===t})[0]}function r(n,t,e,r){return function(){function o(){var n=t(l,g),e=n[0]-v[0],r=n[1]-v[1];d|=e|r,v=n,f({type:\"drag\",x:n[0]+c[0],y:n[1]+c[1],dx:e,dy:r})}function a(){m.on(e+\".\"+p,null).on(r+\".\"+p,null),y(d&&$o.event.target===h),f({type:\"dragend\"})}var c,s=this,l=s.parentNode,f=u.of(s,arguments),h=$o.event.target,g=n(),p=null==g?\"drag\":\"drag-\"+g,v=t(l,g),d=0,m=$o.select(Ko).on(e+\".\"+p,o).on(r+\".\"+p,a),y=D();i?(c=i.apply(s,arguments),c=[c.x-v[0],c.y-v[1]]):c=[0,0],f({type:\"dragstart\"})}}var u=g(n,\"drag\",\"dragstart\",\"dragend\"),i=null,o=r(c,$o.mouse,\"mousemove\",\"mouseup\"),a=r(t,e,\"touchmove\",\"touchend\");return n.origin=function(t){return arguments.length?(i=t,n):i},$o.rebind(n,u,\"on\")};var ka=Math.PI,Ea=2*ka,Aa=ka/2,Ca=1e-6,Na=Ca*Ca,La=ka/180,Ta=180/ka,qa=Math.SQRT2,za=2,Ra=4;$o.interpolateZoom=function(n,t){function e(n){var t=n*y;if(m){var e=O(v),o=i/(za*h)*(e*Y(qa*t+v)-F(v));return[r+o*s,u+o*l,i*e/O(qa*t+v)]}return[r+n*s,u+n*l,i*Math.exp(qa*t)]}var r=n[0],u=n[1],i=n[2],o=t[0],a=t[1],c=t[2],s=o-r,l=a-u,f=s*s+l*l,h=Math.sqrt(f),g=(c*c-i*i+Ra*f)/(2*i*za*h),p=(c*c-i*i-Ra*f)/(2*c*za*h),v=Math.log(Math.sqrt(g*g+1)-g),d=Math.log(Math.sqrt(p*p+1)-p),m=d-v,y=(m||Math.log(c/i))/qa;return e.duration=1e3*y,e},$o.behavior.zoom=function(){function n(n){n.on(A,s).on(Ua+\".zoom\",h).on(C,p).on(\"dblclick.zoom\",v).on(L,l)}function t(n){return[(n[0]-S.x)/S.k,(n[1]-S.y)/S.k]}function e(n){return[n[0]*S.k+S.x,n[1]*S.k+S.y]}function r(n){S.k=Math.max(E[0],Math.min(E[1],n))}function u(n,t){t=e(t),S.x+=n[0]-t[0],S.y+=n[1]-t[1]}function i(){_&&_.domain(M.range().map(function(n){return(n-S.x)/S.k}).map(M.invert)),w&&w.domain(b.range().map(function(n){return(n-S.y)/S.k}).map(b.invert))}function o(n){n({type:\"zoomstart\"})}function a(n){i(),n({type:\"zoom\",scale:S.k,translate:[S.x,S.y]})}function c(n){n({type:\"zoomend\"})}function s(){function n(){l=1,u($o.mouse(r),h),a(i)}function e(){f.on(C,Ko===r?p:null).on(N,null),g(l&&$o.event.target===s),c(i)}var r=this,i=q.of(r,arguments),s=$o.event.target,l=0,f=$o.select(Ko).on(C,n).on(N,e),h=t($o.mouse(r)),g=D();T.call(r),o(i)}function l(){function n(){var n=$o.touches(p);return g=S.k,n.forEach(function(n){n.identifier in d&&(d[n.identifier]=t(n))}),n}function e(){for(var t=$o.event.changedTouches,e=0,i=t.length;i>e;++e)d[t[e].identifier]=null;var o=n(),c=Date.now();if(1===o.length){if(500>c-x){var s=o[0],l=d[s.identifier];r(2*S.k),u(s,l),f(),a(v)}x=c}else if(o.length>1){var s=o[0],h=o[1],g=s[0]-h[0],p=s[1]-h[1];m=g*g+p*p}}function i(){for(var n,t,e,i,o=$o.touches(p),c=0,s=o.length;s>c;++c,i=null)if(e=o[c],i=d[e.identifier]){if(t)break;n=e,t=i}if(i){var l=(l=e[0]-n[0])*l+(l=e[1]-n[1])*l,f=m&&Math.sqrt(l/m);n=[(n[0]+e[0])/2,(n[1]+e[1])/2],t=[(t[0]+i[0])/2,(t[1]+i[1])/2],r(f*g)}x=null,u(n,t),a(v)}function h(){if($o.event.touches.length){for(var t=$o.event.changedTouches,e=0,r=t.length;r>e;++e)delete d[t[e].identifier];for(var u in d)return void n()}b.on(M,null).on(_,null),w.on(A,s).on(L,l),k(),c(v)}var g,p=this,v=q.of(p,arguments),d={},m=0,y=$o.event.changedTouches[0].identifier,M=\"touchmove.zoom-\"+y,_=\"touchend.zoom-\"+y,b=$o.select(Ko).on(M,i).on(_,h),w=$o.select(p).on(A,null).on(L,e),k=D();T.call(p),e(),o(v)}function h(){var n=q.of(this,arguments);y?clearTimeout(y):(T.call(this),o(n)),y=setTimeout(function(){y=null,c(n)},50),f();var e=m||$o.mouse(this);d||(d=t(e)),r(Math.pow(2,.002*Da())*S.k),u(e,d),a(n)}function p(){d=null}function v(){var n=q.of(this,arguments),e=$o.mouse(this),i=t(e),s=Math.log(S.k)/Math.LN2;o(n),r(Math.pow(2,$o.event.shiftKey?Math.ceil(s)-1:Math.floor(s)+1)),u(e,i),a(n),c(n)}var d,m,y,x,M,_,b,w,S={x:0,y:0,k:1},k=[960,500],E=Pa,A=\"mousedown.zoom\",C=\"mousemove.zoom\",N=\"mouseup.zoom\",L=\"touchstart.zoom\",q=g(n,\"zoomstart\",\"zoom\",\"zoomend\");return n.event=function(n){n.each(function(){var n=q.of(this,arguments),t=S;Ss?$o.select(this).transition().each(\"start.zoom\",function(){S=this.__chart__||{x:0,y:0,k:1},o(n)}).tween(\"zoom:zoom\",function(){var e=k[0],r=k[1],u=e/2,i=r/2,o=$o.interpolateZoom([(u-S.x)/S.k,(i-S.y)/S.k,e/S.k],[(u-t.x)/t.k,(i-t.y)/t.k,e/t.k]);return function(t){var r=o(t),c=e/r[2];this.__chart__=S={x:u-r[0]*c,y:i-r[1]*c,k:c},a(n)}}).each(\"end.zoom\",function(){c(n)}):(this.__chart__=S,o(n),a(n),c(n))})},n.translate=function(t){return arguments.length?(S={x:+t[0],y:+t[1],k:S.k},i(),n):[S.x,S.y]},n.scale=function(t){return arguments.length?(S={x:S.x,y:S.y,k:+t},i(),n):S.k},n.scaleExtent=function(t){return arguments.length?(E=null==t?Pa:[+t[0],+t[1]],n):E},n.center=function(t){return arguments.length?(m=t&&[+t[0],+t[1]],n):m},n.size=function(t){return arguments.length?(k=t&&[+t[0],+t[1]],n):k},n.x=function(t){return arguments.length?(_=t,M=t.copy(),S={x:0,y:0,k:1},n):_},n.y=function(t){return arguments.length?(w=t,b=t.copy(),S={x:0,y:0,k:1},n):w},$o.rebind(n,q,\"on\")};var Da,Pa=[0,1/0],Ua=\"onwheel\"in Jo?(Da=function(){return-$o.event.deltaY*($o.event.deltaMode?120:1)},\"wheel\"):\"onmousewheel\"in Jo?(Da=function(){return $o.event.wheelDelta},\"mousewheel\"):(Da=function(){return-$o.event.detail},\"MozMousePixelScroll\");Z.prototype.toString=function(){return this.rgb()+\"\"},$o.hsl=function(n,t,e){return 1===arguments.length?n instanceof X?V(n.h,n.s,n.l):st(\"\"+n,lt,V):V(+n,+t,+e)};var ja=X.prototype=new Z;ja.brighter=function(n){return n=Math.pow(.7,arguments.length?n:1),V(this.h,this.s,this.l/n)},ja.darker=function(n){return n=Math.pow(.7,arguments.length?n:1),V(this.h,this.s,n*this.l)},ja.rgb=function(){return $(this.h,this.s,this.l)},$o.hcl=function(n,t,e){return 1===arguments.length?n instanceof W?B(n.h,n.c,n.l):n instanceof K?nt(n.l,n.a,n.b):nt((n=ft((n=$o.rgb(n)).r,n.g,n.b)).l,n.a,n.b):B(+n,+t,+e)};var Ha=W.prototype=new Z;Ha.brighter=function(n){return B(this.h,this.c,Math.min(100,this.l+Fa*(arguments.length?n:1)))},Ha.darker=function(n){return B(this.h,this.c,Math.max(0,this.l-Fa*(arguments.length?n:1)))},Ha.rgb=function(){return J(this.h,this.c,this.l).rgb()},$o.lab=function(n,t,e){return 1===arguments.length?n instanceof K?G(n.l,n.a,n.b):n instanceof W?J(n.l,n.c,n.h):ft((n=$o.rgb(n)).r,n.g,n.b):G(+n,+t,+e)};var Fa=18,Oa=.95047,Ya=1,Ia=1.08883,Za=K.prototype=new Z;Za.brighter=function(n){return G(Math.min(100,this.l+Fa*(arguments.length?n:1)),this.a,this.b)},Za.darker=function(n){return G(Math.max(0,this.l-Fa*(arguments.length?n:1)),this.a,this.b)},Za.rgb=function(){return Q(this.l,this.a,this.b)},$o.rgb=function(n,t,e){return 1===arguments.length?n instanceof at?ot(n.r,n.g,n.b):st(\"\"+n,ot,$):ot(~~n,~~t,~~e)};var Va=at.prototype=new Z;Va.brighter=function(n){n=Math.pow(.7,arguments.length?n:1);var t=this.r,e=this.g,r=this.b,u=30;return t||e||r?(t&&u>t&&(t=u),e&&u>e&&(e=u),r&&u>r&&(r=u),ot(Math.min(255,~~(t/n)),Math.min(255,~~(e/n)),Math.min(255,~~(r/n)))):ot(u,u,u)},Va.darker=function(n){return n=Math.pow(.7,arguments.length?n:1),ot(~~(n*this.r),~~(n*this.g),~~(n*this.b))},Va.hsl=function(){return lt(this.r,this.g,this.b)},Va.toString=function(){return\"#\"+ct(this.r)+ct(this.g)+ct(this.b)};var Xa=$o.map({aliceblue:15792383,antiquewhite:16444375,aqua:65535,aquamarine:8388564,azure:15794175,beige:16119260,bisque:16770244,black:0,blanchedalmond:16772045,blue:255,blueviolet:9055202,brown:10824234,burlywood:14596231,cadetblue:6266528,chartreuse:8388352,chocolate:13789470,coral:16744272,cornflowerblue:6591981,cornsilk:16775388,crimson:14423100,cyan:65535,darkblue:139,darkcyan:35723,darkgoldenrod:12092939,darkgray:11119017,darkgreen:25600,darkgrey:11119017,darkkhaki:12433259,darkmagenta:9109643,darkolivegreen:5597999,darkorange:16747520,darkorchid:10040012,darkred:9109504,darksalmon:15308410,darkseagreen:9419919,darkslateblue:4734347,darkslategray:3100495,darkslategrey:3100495,darkturquoise:52945,darkviolet:9699539,deeppink:16716947,deepskyblue:49151,dimgray:6908265,dimgrey:6908265,dodgerblue:2003199,firebrick:11674146,floralwhite:16775920,forestgreen:2263842,fuchsia:16711935,gainsboro:14474460,ghostwhite:16316671,gold:16766720,goldenrod:14329120,gray:8421504,green:32768,greenyellow:11403055,grey:8421504,honeydew:15794160,hotpink:16738740,indianred:13458524,indigo:4915330,ivory:16777200,khaki:15787660,lavender:15132410,lavenderblush:16773365,lawngreen:8190976,lemonchiffon:16775885,lightblue:11393254,lightcoral:15761536,lightcyan:14745599,lightgoldenrodyellow:16448210,lightgray:13882323,lightgreen:9498256,lightgrey:13882323,lightpink:16758465,lightsalmon:16752762,lightseagreen:2142890,lightskyblue:8900346,lightslategray:7833753,lightslategrey:7833753,lightsteelblue:11584734,lightyellow:16777184,lime:65280,limegreen:3329330,linen:16445670,magenta:16711935,maroon:8388608,mediumaquamarine:6737322,mediumblue:205,mediumorchid:12211667,mediumpurple:9662683,mediumseagreen:3978097,mediumslateblue:8087790,mediumspringgreen:64154,mediumturquoise:4772300,mediumvioletred:13047173,midnightblue:1644912,mintcream:16121850,mistyrose:16770273,moccasin:16770229,navajowhite:16768685,navy:128,oldlace:16643558,olive:8421376,olivedrab:7048739,orange:16753920,orangered:16729344,orchid:14315734,palegoldenrod:15657130,palegreen:10025880,paleturquoise:11529966,palevioletred:14381203,papayawhip:16773077,peachpuff:16767673,peru:13468991,pink:16761035,plum:14524637,powderblue:11591910,purple:8388736,red:16711680,rosybrown:12357519,royalblue:4286945,saddlebrown:9127187,salmon:16416882,sandybrown:16032864,seagreen:3050327,seashell:16774638,sienna:10506797,silver:12632256,skyblue:8900331,slateblue:6970061,slategray:7372944,slategrey:7372944,snow:16775930,springgreen:65407,steelblue:4620980,tan:13808780,teal:32896,thistle:14204888,tomato:16737095,turquoise:4251856,violet:15631086,wheat:16113331,white:16777215,whitesmoke:16119285,yellow:16776960,yellowgreen:10145074});Xa.forEach(function(n,t){Xa.set(n,ut(t))}),$o.functor=pt,$o.xhr=dt(vt),$o.dsv=function(n,t){function e(n,e,i){arguments.length<3&&(i=e,e=null);var o=$o.xhr(n,t,i);return o.row=function(n){return arguments.length?o.response(null==(e=n)?r:u(n)):e},o.row(e)}function r(n){return e.parse(n.responseText)}function u(n){return function(t){return e.parse(t.responseText,n)}}function o(t){return t.map(a).join(n)}function a(n){return c.test(n)?'\"'+n.replace(/\\\"/g,'\"\"')+'\"':n}var c=new RegExp('[\"'+n+\"\\n]\"),s=n.charCodeAt(0);return e.parse=function(n,t){var r;return e.parseRows(n,function(n,e){if(r)return r(n,e-1);var u=new Function(\"d\",\"return {\"+n.map(function(n,t){return JSON.stringify(n)+\": d[\"+t+\"]\"}).join(\",\")+\"}\");r=t?function(n,e){return t(u(n),e)}:u})},e.parseRows=function(n,t){function e(){if(l>=c)return o;if(u)return u=!1,i;var t=l;if(34===n.charCodeAt(t)){for(var e=t;e++<c;)if(34===n.charCodeAt(e)){if(34!==n.charCodeAt(e+1))break;++e}l=e+2;var r=n.charCodeAt(e+1);return 13===r?(u=!0,10===n.charCodeAt(e+2)&&++l):10===r&&(u=!0),n.substring(t+1,e).replace(/\"\"/g,'\"')}for(;c>l;){var r=n.charCodeAt(l++),a=1;if(10===r)u=!0;else if(13===r)u=!0,10===n.charCodeAt(l)&&(++l,++a);else if(r!==s)continue;return n.substring(t,l-a)}return n.substring(t)}for(var r,u,i={},o={},a=[],c=n.length,l=0,f=0;(r=e())!==o;){for(var h=[];r!==i&&r!==o;)h.push(r),r=e();(!t||(h=t(h,f++)))&&a.push(h)}return a},e.format=function(t){if(Array.isArray(t[0]))return e.formatRows(t);var r=new i,u=[];return t.forEach(function(n){for(var t in n)r.has(t)||u.push(r.add(t))}),[u.map(a).join(n)].concat(t.map(function(t){return u.map(function(n){return a(t[n])}).join(n)})).join(\"\\n\")},e.formatRows=function(n){return n.map(o).join(\"\\n\")},e},$o.csv=$o.dsv(\",\",\"text/csv\"),$o.tsv=$o.dsv(\"\t\",\"text/tab-separated-values\");var $a,Ba,Wa,Ja,Ga,Ka=Ko[a(Ko,\"requestAnimationFrame\")]||function(n){setTimeout(n,17)};$o.timer=function(n,t,e){var r=arguments.length;2>r&&(t=0),3>r&&(e=Date.now());var u=e+t,i={c:n,t:u,f:!1,n:null};Ba?Ba.n=i:$a=i,Ba=i,Wa||(Ja=clearTimeout(Ja),Wa=1,Ka(xt))},$o.timer.flush=function(){Mt(),_t()};var Qa=\".\",nc=\",\",tc=[3,3],ec=\"$\",rc=[\"y\",\"z\",\"a\",\"f\",\"p\",\"n\",\"\\xb5\",\"m\",\"\",\"k\",\"M\",\"G\",\"T\",\"P\",\"E\",\"Z\",\"Y\"].map(bt);$o.formatPrefix=function(n,t){var e=0;return n&&(0>n&&(n*=-1),t&&(n=$o.round(n,wt(n,t))),e=1+Math.floor(1e-12+Math.log(n)/Math.LN10),e=Math.max(-24,Math.min(24,3*Math.floor((0>=e?e+1:e-1)/3)))),rc[8+e/3]},$o.round=function(n,t){return t?Math.round(n*(t=Math.pow(10,t)))/t:Math.round(n)},$o.format=function(n){var t=uc.exec(n),e=t[1]||\" \",r=t[2]||\">\",u=t[3]||\"\",i=t[4]||\"\",o=t[5],a=+t[6],c=t[7],s=t[8],l=t[9],f=1,h=\"\",g=!1;switch(s&&(s=+s.substring(1)),(o||\"0\"===e&&\"=\"===r)&&(o=e=\"0\",r=\"=\",c&&(a-=Math.floor((a-1)/4))),l){case\"n\":c=!0,l=\"g\";break;case\"%\":f=100,h=\"%\",l=\"f\";break;case\"p\":f=100,h=\"%\",l=\"r\";break;case\"b\":case\"o\":case\"x\":case\"X\":\"#\"===i&&(i=\"0\"+l.toLowerCase());case\"c\":case\"d\":g=!0,s=0;break;case\"s\":f=-1,l=\"r\"}\"#\"===i?i=\"\":\"$\"===i&&(i=ec),\"r\"!=l||s||(l=\"g\"),null!=s&&(\"g\"==l?s=Math.max(1,Math.min(21,s)):(\"e\"==l||\"f\"==l)&&(s=Math.max(0,Math.min(20,s)))),l=ic.get(l)||St;var p=o&&c;return function(n){if(g&&n%1)return\"\";var t=0>n||0===n&&0>1/n?(n=-n,\"-\"):u;if(0>f){var v=$o.formatPrefix(n,s);n=v.scale(n),h=v.symbol}else n*=f;n=l(n,s);var d=n.lastIndexOf(\".\"),m=0>d?n:n.substring(0,d),y=0>d?\"\":Qa+n.substring(d+1);!o&&c&&(m=oc(m));var x=i.length+m.length+y.length+(p?0:t.length),M=a>x?new Array(x=a-x+1).join(e):\"\";return p&&(m=oc(M+m)),t+=i,n=m+y,(\"<\"===r?t+n+M:\">\"===r?M+t+n:\"^\"===r?M.substring(0,x>>=1)+t+n+M.substring(x):t+(p?n:M+n))+h}};var uc=/(?:([^{])?([<>=^]))?([+\\- ])?([$#])?(0)?(\\d+)?(,)?(\\.-?\\d+)?([a-z%])?/i,ic=$o.map({b:function(n){return n.toString(2)},c:function(n){return String.fromCharCode(n)},o:function(n){return n.toString(8)},x:function(n){return n.toString(16)},X:function(n){return n.toString(16).toUpperCase()},g:function(n,t){return n.toPrecision(t)},e:function(n,t){return n.toExponential(t)},f:function(n,t){return n.toFixed(t)},r:function(n,t){return(n=$o.round(n,wt(n,t))).toFixed(Math.max(0,Math.min(20,wt(n*(1+1e-15),t))))}}),oc=vt;if(tc){var ac=tc.length;oc=function(n){for(var t=n.length,e=[],r=0,u=tc[0];t>0&&u>0;)e.push(n.substring(t-=u,t+u)),u=tc[r=(r+1)%ac];return e.reverse().join(nc)}}$o.geo={},kt.prototype={s:0,t:0,add:function(n){Et(n,this.t,cc),Et(cc.s,this.s,this),this.s?this.t+=cc.t:this.s=cc.t},reset:function(){this.s=this.t=0},valueOf:function(){return this.s}};var cc=new kt;$o.geo.stream=function(n,t){n&&sc.hasOwnProperty(n.type)?sc[n.type](n,t):At(n,t)};var sc={Feature:function(n,t){At(n.geometry,t)},FeatureCollection:function(n,t){for(var e=n.features,r=-1,u=e.length;++r<u;)At(e[r].geometry,t)}},lc={Sphere:function(n,t){t.sphere()},Point:function(n,t){n=n.coordinates,t.point(n[0],n[1],n[2])},MultiPoint:function(n,t){for(var e=n.coordinates,r=-1,u=e.length;++r<u;)n=e[r],t.point(n[0],n[1],n[2])},LineString:function(n,t){Ct(n.coordinates,t,0)},MultiLineString:function(n,t){for(var e=n.coordinates,r=-1,u=e.length;++r<u;)Ct(e[r],t,0)},Polygon:function(n,t){Nt(n.coordinates,t)},MultiPolygon:function(n,t){for(var e=n.coordinates,r=-1,u=e.length;++r<u;)Nt(e[r],t)},GeometryCollection:function(n,t){for(var e=n.geometries,r=-1,u=e.length;++r<u;)At(e[r],t)}};$o.geo.area=function(n){return fc=0,$o.geo.stream(n,gc),fc};var fc,hc=new kt,gc={sphere:function(){fc+=4*ka},point:c,lineStart:c,lineEnd:c,polygonStart:function(){hc.reset(),gc.lineStart=Lt},polygonEnd:function(){var n=2*hc;fc+=0>n?4*ka+n:n,gc.lineStart=gc.lineEnd=gc.point=c}};$o.geo.bounds=function(){function n(n,t){x.push(M=[l=n,h=n]),f>t&&(f=t),t>g&&(g=t)}function t(t,e){var r=Tt([t*La,e*La]);if(m){var u=zt(m,r),i=[u[1],-u[0],0],o=zt(i,u);Pt(o),o=Ut(o);var c=t-p,s=c>0?1:-1,v=o[0]*Ta*s,d=aa(c)>180;if(d^(v>s*p&&s*t>v)){var y=o[1]*Ta;y>g&&(g=y)}else if(v=(v+360)%360-180,d^(v>s*p&&s*t>v)){var y=-o[1]*Ta;f>y&&(f=y)}else f>e&&(f=e),e>g&&(g=e);d?p>t?a(l,t)>a(l,h)&&(h=t):a(t,h)>a(l,h)&&(l=t):h>=l?(l>t&&(l=t),t>h&&(h=t)):t>p?a(l,t)>a(l,h)&&(h=t):a(t,h)>a(l,h)&&(l=t)}else n(t,e);m=r,p=t}function e(){_.point=t}function r(){M[0]=l,M[1]=h,_.point=n,m=null}function u(n,e){if(m){var r=n-p;y+=aa(r)>180?r+(r>0?360:-360):r}else v=n,d=e;gc.point(n,e),t(n,e)}function i(){gc.lineStart()}function o(){u(v,d),gc.lineEnd(),aa(y)>Ca&&(l=-(h=180)),M[0]=l,M[1]=h,m=null}function a(n,t){return(t-=n)<0?t+360:t}function c(n,t){return n[0]-t[0]}function s(n,t){return t[0]<=t[1]?t[0]<=n&&n<=t[1]:n<t[0]||t[1]<n}var l,f,h,g,p,v,d,m,y,x,M,_={point:n,lineStart:e,lineEnd:r,polygonStart:function(){_.point=u,_.lineStart=i,_.lineEnd=o,y=0,gc.polygonStart()},polygonEnd:function(){gc.polygonEnd(),_.point=n,_.lineStart=e,_.lineEnd=r,0>hc?(l=-(h=180),f=-(g=90)):y>Ca?g=90:-Ca>y&&(f=-90),M[0]=l,M[1]=h}};return function(n){g=h=-(l=f=1/0),x=[],$o.geo.stream(n,_);var t=x.length;if(t){x.sort(c);for(var e,r=1,u=x[0],i=[u];t>r;++r)e=x[r],s(e[0],u)||s(e[1],u)?(a(u[0],e[1])>a(u[0],u[1])&&(u[1]=e[1]),a(e[0],u[1])>a(u[0],u[1])&&(u[0]=e[0])):i.push(u=e);for(var o,e,p=-1/0,t=i.length-1,r=0,u=i[t];t>=r;u=e,++r)e=i[r],(o=a(u[1],e[0]))>p&&(p=o,l=e[0],h=u[1])}return x=M=null,1/0===l||1/0===f?[[0/0,0/0],[0/0,0/0]]:[[l,f],[h,g]]}}(),$o.geo.centroid=function(n){pc=vc=dc=mc=yc=xc=Mc=_c=bc=wc=Sc=0,$o.geo.stream(n,kc);var t=bc,e=wc,r=Sc,u=t*t+e*e+r*r;return Na>u&&(t=xc,e=Mc,r=_c,Ca>vc&&(t=dc,e=mc,r=yc),u=t*t+e*e+r*r,Na>u)?[0/0,0/0]:[Math.atan2(e,t)*Ta,H(r/Math.sqrt(u))*Ta]};var pc,vc,dc,mc,yc,xc,Mc,_c,bc,wc,Sc,kc={sphere:c,point:Ht,lineStart:Ot,lineEnd:Yt,polygonStart:function(){kc.lineStart=It},polygonEnd:function(){kc.lineStart=Ot}},Ec=Bt(Zt,Qt,te,[-ka,-ka/2]),Ac=1e9;$o.geo.clipExtent=function(){var n,t,e,r,u,i,o={stream:function(n){return u&&(u.valid=!1),u=i(n),u.valid=!0,u},extent:function(a){return arguments.length?(i=ue(n=+a[0][0],t=+a[0][1],e=+a[1][0],r=+a[1][1]),u&&(u.valid=!1,u=null),o):[[n,t],[e,r]]}};return o.extent([[0,0],[960,500]])},($o.geo.conicEqualArea=function(){return oe(ae)}).raw=ae,$o.geo.albers=function(){return $o.geo.conicEqualArea().rotate([96,0]).center([-.6,38.7]).parallels([29.5,45.5]).scale(1070)},$o.geo.albersUsa=function(){function n(n){var i=n[0],o=n[1];return t=null,e(i,o),t||(r(i,o),t)||u(i,o),t}var t,e,r,u,i=$o.geo.albers(),o=$o.geo.conicEqualArea().rotate([154,0]).center([-2,58.5]).parallels([55,65]),a=$o.geo.conicEqualArea().rotate([157,0]).center([-3,19.9]).parallels([8,18]),c={point:function(n,e){t=[n,e]}};return n.invert=function(n){var t=i.scale(),e=i.translate(),r=(n[0]-e[0])/t,u=(n[1]-e[1])/t;return(u>=.12&&.234>u&&r>=-.425&&-.214>r?o:u>=.166&&.234>u&&r>=-.214&&-.115>r?a:i).invert(n)},n.stream=function(n){var t=i.stream(n),e=o.stream(n),r=a.stream(n);return{point:function(n,u){t.point(n,u),e.point(n,u),r.point(n,u)},sphere:function(){t.sphere(),e.sphere(),r.sphere()},lineStart:function(){t.lineStart(),e.lineStart(),r.lineStart()},lineEnd:function(){t.lineEnd(),e.lineEnd(),r.lineEnd()},polygonStart:function(){t.polygonStart(),e.polygonStart(),r.polygonStart()},polygonEnd:function(){t.polygonEnd(),e.polygonEnd(),r.polygonEnd()}}},n.precision=function(t){return arguments.length?(i.precision(t),o.precision(t),a.precision(t),n):i.precision()},n.scale=function(t){return arguments.length?(i.scale(t),o.scale(.35*t),a.scale(t),n.translate(i.translate())):i.scale()},n.translate=function(t){if(!arguments.length)return i.translate();var s=i.scale(),l=+t[0],f=+t[1];return e=i.translate(t).clipExtent([[l-.455*s,f-.238*s],[l+.455*s,f+.238*s]]).stream(c).point,r=o.translate([l-.307*s,f+.201*s]).clipExtent([[l-.425*s+Ca,f+.12*s+Ca],[l-.214*s-Ca,f+.234*s-Ca]]).stream(c).point,u=a.translate([l-.205*s,f+.212*s]).clipExtent([[l-.214*s+Ca,f+.166*s+Ca],[l-.115*s-Ca,f+.234*s-Ca]]).stream(c).point,n},n.scale(1070)};var Cc,Nc,Lc,Tc,qc,zc,Rc={point:c,lineStart:c,lineEnd:c,polygonStart:function(){Nc=0,Rc.lineStart=ce},polygonEnd:function(){Rc.lineStart=Rc.lineEnd=Rc.point=c,Cc+=aa(Nc/2)}},Dc={point:se,lineStart:c,lineEnd:c,polygonStart:c,polygonEnd:c},Pc={point:he,lineStart:ge,lineEnd:pe,polygonStart:function(){Pc.lineStart=ve},polygonEnd:function(){Pc.point=he,Pc.lineStart=ge,Pc.lineEnd=pe}};$o.geo.path=function(){function n(n){return n&&(\"function\"==typeof a&&i.pointRadius(+a.apply(this,arguments)),o&&o.valid||(o=u(i)),$o.geo.stream(n,o)),i.result()}function t(){return o=null,n}var e,r,u,i,o,a=4.5;return n.area=function(n){return Cc=0,$o.geo.stream(n,u(Rc)),Cc},n.centroid=function(n){return dc=mc=yc=xc=Mc=_c=bc=wc=Sc=0,$o.geo.stream(n,u(Pc)),Sc?[bc/Sc,wc/Sc]:_c?[xc/_c,Mc/_c]:yc?[dc/yc,mc/yc]:[0/0,0/0]},n.bounds=function(n){return qc=zc=-(Lc=Tc=1/0),$o.geo.stream(n,u(Dc)),[[Lc,Tc],[qc,zc]]},n.projection=function(n){return arguments.length?(u=(e=n)?n.stream||ye(n):vt,t()):e},n.context=function(n){return arguments.length?(i=null==(r=n)?new le:new de(n),\"function\"!=typeof a&&i.pointRadius(a),t()):r},n.pointRadius=function(t){return arguments.length?(a=\"function\"==typeof t?t:(i.pointRadius(+t),+t),n):a},n.projection($o.geo.albersUsa()).context(null)},$o.geo.transform=function(n){return{stream:function(t){var e=new xe(t);for(var r in n)e[r]=n[r];return e}}},xe.prototype={point:function(n,t){this.stream.point(n,t)},sphere:function(){this.stream.sphere()},lineStart:function(){this.stream.lineStart()\n",
        "},lineEnd:function(){this.stream.lineEnd()},polygonStart:function(){this.stream.polygonStart()},polygonEnd:function(){this.stream.polygonEnd()}},$o.geo.projection=_e,$o.geo.projectionMutator=be,($o.geo.equirectangular=function(){return _e(Se)}).raw=Se.invert=Se,$o.geo.rotation=function(n){function t(t){return t=n(t[0]*La,t[1]*La),t[0]*=Ta,t[1]*=Ta,t}return n=Ee(n[0]%360*La,n[1]*La,n.length>2?n[2]*La:0),t.invert=function(t){return t=n.invert(t[0]*La,t[1]*La),t[0]*=Ta,t[1]*=Ta,t},t},ke.invert=Se,$o.geo.circle=function(){function n(){var n=\"function\"==typeof r?r.apply(this,arguments):r,t=Ee(-n[0]*La,-n[1]*La,0).invert,u=[];return e(null,null,1,{point:function(n,e){u.push(n=t(n,e)),n[0]*=Ta,n[1]*=Ta}}),{type:\"Polygon\",coordinates:[u]}}var t,e,r=[0,0],u=6;return n.origin=function(t){return arguments.length?(r=t,n):r},n.angle=function(r){return arguments.length?(e=Le((t=+r)*La,u*La),n):t},n.precision=function(r){return arguments.length?(e=Le(t*La,(u=+r)*La),n):u},n.angle(90)},$o.geo.distance=function(n,t){var e,r=(t[0]-n[0])*La,u=n[1]*La,i=t[1]*La,o=Math.sin(r),a=Math.cos(r),c=Math.sin(u),s=Math.cos(u),l=Math.sin(i),f=Math.cos(i);return Math.atan2(Math.sqrt((e=f*o)*e+(e=s*l-c*f*a)*e),c*l+s*f*a)},$o.geo.graticule=function(){function n(){return{type:\"MultiLineString\",coordinates:t()}}function t(){return $o.range(Math.ceil(i/d)*d,u,d).map(h).concat($o.range(Math.ceil(s/m)*m,c,m).map(g)).concat($o.range(Math.ceil(r/p)*p,e,p).filter(function(n){return aa(n%d)>Ca}).map(l)).concat($o.range(Math.ceil(a/v)*v,o,v).filter(function(n){return aa(n%m)>Ca}).map(f))}var e,r,u,i,o,a,c,s,l,f,h,g,p=10,v=p,d=90,m=360,y=2.5;return n.lines=function(){return t().map(function(n){return{type:\"LineString\",coordinates:n}})},n.outline=function(){return{type:\"Polygon\",coordinates:[h(i).concat(g(c).slice(1),h(u).reverse().slice(1),g(s).reverse().slice(1))]}},n.extent=function(t){return arguments.length?n.majorExtent(t).minorExtent(t):n.minorExtent()},n.majorExtent=function(t){return arguments.length?(i=+t[0][0],u=+t[1][0],s=+t[0][1],c=+t[1][1],i>u&&(t=i,i=u,u=t),s>c&&(t=s,s=c,c=t),n.precision(y)):[[i,s],[u,c]]},n.minorExtent=function(t){return arguments.length?(r=+t[0][0],e=+t[1][0],a=+t[0][1],o=+t[1][1],r>e&&(t=r,r=e,e=t),a>o&&(t=a,a=o,o=t),n.precision(y)):[[r,a],[e,o]]},n.step=function(t){return arguments.length?n.majorStep(t).minorStep(t):n.minorStep()},n.majorStep=function(t){return arguments.length?(d=+t[0],m=+t[1],n):[d,m]},n.minorStep=function(t){return arguments.length?(p=+t[0],v=+t[1],n):[p,v]},n.precision=function(t){return arguments.length?(y=+t,l=qe(a,o,90),f=ze(r,e,y),h=qe(s,c,90),g=ze(i,u,y),n):y},n.majorExtent([[-180,-90+Ca],[180,90-Ca]]).minorExtent([[-180,-80-Ca],[180,80+Ca]])},$o.geo.greatArc=function(){function n(){return{type:\"LineString\",coordinates:[t||r.apply(this,arguments),e||u.apply(this,arguments)]}}var t,e,r=Re,u=De;return n.distance=function(){return $o.geo.distance(t||r.apply(this,arguments),e||u.apply(this,arguments))},n.source=function(e){return arguments.length?(r=e,t=\"function\"==typeof e?null:e,n):r},n.target=function(t){return arguments.length?(u=t,e=\"function\"==typeof t?null:t,n):u},n.precision=function(){return arguments.length?n:0},n},$o.geo.interpolate=function(n,t){return Pe(n[0]*La,n[1]*La,t[0]*La,t[1]*La)},$o.geo.length=function(n){return Uc=0,$o.geo.stream(n,jc),Uc};var Uc,jc={sphere:c,point:c,lineStart:Ue,lineEnd:c,polygonStart:c,polygonEnd:c},Hc=je(function(n){return Math.sqrt(2/(1+n))},function(n){return 2*Math.asin(n/2)});($o.geo.azimuthalEqualArea=function(){return _e(Hc)}).raw=Hc;var Fc=je(function(n){var t=Math.acos(n);return t&&t/Math.sin(t)},vt);($o.geo.azimuthalEquidistant=function(){return _e(Fc)}).raw=Fc,($o.geo.conicConformal=function(){return oe(He)}).raw=He,($o.geo.conicEquidistant=function(){return oe(Fe)}).raw=Fe;var Oc=je(function(n){return 1/n},Math.atan);($o.geo.gnomonic=function(){return _e(Oc)}).raw=Oc,Oe.invert=function(n,t){return[n,2*Math.atan(Math.exp(t))-Aa]},($o.geo.mercator=function(){return Ye(Oe)}).raw=Oe;var Yc=je(function(){return 1},Math.asin);($o.geo.orthographic=function(){return _e(Yc)}).raw=Yc;var Ic=je(function(n){return 1/(1+n)},function(n){return 2*Math.atan(n)});($o.geo.stereographic=function(){return _e(Ic)}).raw=Ic,Ie.invert=function(n,t){return[Math.atan2(F(n),Math.cos(t)),H(Math.sin(t)/O(n))]},($o.geo.transverseMercator=function(){return Ye(Ie)}).raw=Ie,$o.geom={},$o.geom.hull=function(n){function t(n){if(n.length<3)return[];var t,u,i,o,a,c,s,l,f,h,g,p,v=pt(e),d=pt(r),m=n.length,y=m-1,x=[],M=[],_=0;if(v===Ze&&r===Ve)t=n;else for(i=0,t=[];m>i;++i)t.push([+v.call(this,u=n[i],i),+d.call(this,u,i)]);for(i=1;m>i;++i)(t[i][1]<t[_][1]||t[i][1]==t[_][1]&&t[i][0]<t[_][0])&&(_=i);for(i=0;m>i;++i)i!==_&&(c=t[i][1]-t[_][1],a=t[i][0]-t[_][0],x.push({angle:Math.atan2(c,a),index:i}));for(x.sort(function(n,t){return n.angle-t.angle}),g=x[0].angle,h=x[0].index,f=0,i=1;y>i;++i){if(o=x[i].index,g==x[i].angle){if(a=t[h][0]-t[_][0],c=t[h][1]-t[_][1],s=t[o][0]-t[_][0],l=t[o][1]-t[_][1],a*a+c*c>=s*s+l*l){x[i].index=-1;continue}x[f].index=-1}g=x[i].angle,f=i,h=o}for(M.push(_),i=0,o=0;2>i;++o)x[o].index>-1&&(M.push(x[o].index),i++);for(p=M.length;y>o;++o)if(!(x[o].index<0)){for(;!Xe(M[p-2],M[p-1],x[o].index,t);)--p;M[p++]=x[o].index}var b=[];for(i=p-1;i>=0;--i)b.push(n[M[i]]);return b}var e=Ze,r=Ve;return arguments.length?t(n):(t.x=function(n){return arguments.length?(e=n,t):e},t.y=function(n){return arguments.length?(r=n,t):r},t)},$o.geom.polygon=function(n){return ha(n,Zc),n};var Zc=$o.geom.polygon.prototype=[];Zc.area=function(){for(var n,t=-1,e=this.length,r=this[e-1],u=0;++t<e;)n=r,r=this[t],u+=n[1]*r[0]-n[0]*r[1];return.5*u},Zc.centroid=function(n){var t,e,r=-1,u=this.length,i=0,o=0,a=this[u-1];for(arguments.length||(n=-1/(6*this.area()));++r<u;)t=a,a=this[r],e=t[0]*a[1]-a[0]*t[1],i+=(t[0]+a[0])*e,o+=(t[1]+a[1])*e;return[i*n,o*n]},Zc.clip=function(n){for(var t,e,r,u,i,o,a=We(n),c=-1,s=this.length-We(this),l=this[s-1];++c<s;){for(t=n.slice(),n.length=0,u=this[c],i=t[(r=t.length-a)-1],e=-1;++e<r;)o=t[e],$e(o,l,u)?($e(i,l,u)||n.push(Be(i,o,l,u)),n.push(o)):$e(i,l,u)&&n.push(Be(i,o,l,u)),i=o;a&&n.push(n[0]),l=u}return n};var Vc,Xc,$c,Bc,Wc,Jc=[],Gc=[];rr.prototype.prepare=function(){for(var n,t=this.edges,e=t.length;e--;)n=t[e].edge,n.b&&n.a||t.splice(e,1);return t.sort(ir),t.length},vr.prototype={start:function(){return this.edge.l===this.site?this.edge.a:this.edge.b},end:function(){return this.edge.l===this.site?this.edge.b:this.edge.a}},dr.prototype={insert:function(n,t){var e,r,u;if(n){if(t.P=n,t.N=n.N,n.N&&(n.N.P=t),n.N=t,n.R){for(n=n.R;n.L;)n=n.L;n.L=t}else n.R=t;e=n}else this._?(n=Mr(this._),t.P=null,t.N=n,n.P=n.L=t,e=n):(t.P=t.N=null,this._=t,e=null);for(t.L=t.R=null,t.U=e,t.C=!0,n=t;e&&e.C;)r=e.U,e===r.L?(u=r.R,u&&u.C?(e.C=u.C=!1,r.C=!0,n=r):(n===e.R&&(yr(this,e),n=e,e=n.U),e.C=!1,r.C=!0,xr(this,r))):(u=r.L,u&&u.C?(e.C=u.C=!1,r.C=!0,n=r):(n===e.L&&(xr(this,e),n=e,e=n.U),e.C=!1,r.C=!0,yr(this,r))),e=n.U;this._.C=!1},remove:function(n){n.N&&(n.N.P=n.P),n.P&&(n.P.N=n.N),n.N=n.P=null;var t,e,r,u=n.U,i=n.L,o=n.R;if(e=i?o?Mr(o):i:o,u?u.L===n?u.L=e:u.R=e:this._=e,i&&o?(r=e.C,e.C=n.C,e.L=i,i.U=e,e!==o?(u=e.U,e.U=n.U,n=e.R,u.L=n,e.R=o,o.U=e):(e.U=u,u=e,n=e.R)):(r=n.C,n=e),n&&(n.U=u),!r){if(n&&n.C)return n.C=!1,void 0;do{if(n===this._)break;if(n===u.L){if(t=u.R,t.C&&(t.C=!1,u.C=!0,yr(this,u),t=u.R),t.L&&t.L.C||t.R&&t.R.C){t.R&&t.R.C||(t.L.C=!1,t.C=!0,xr(this,t),t=u.R),t.C=u.C,u.C=t.R.C=!1,yr(this,u),n=this._;break}}else if(t=u.L,t.C&&(t.C=!1,u.C=!0,xr(this,u),t=u.L),t.L&&t.L.C||t.R&&t.R.C){t.L&&t.L.C||(t.R.C=!1,t.C=!0,yr(this,t),t=u.L),t.C=u.C,u.C=t.L.C=!1,xr(this,u),n=this._;break}t.C=!0,n=u,u=u.U}while(!n.C);n&&(n.C=!1)}}},$o.geom.voronoi=function(n){function t(n){var t=new Array(n.length),r=a[0][0],u=a[0][1],i=a[1][0],o=a[1][1];return _r(e(n),a).cells.forEach(function(e,a){var c=e.edges,s=e.site,l=t[a]=c.length?c.map(function(n){var t=n.start();return[t.x,t.y]}):s.x>=r&&s.x<=i&&s.y>=u&&s.y<=o?[[r,o],[i,o],[i,u],[r,u]]:[];l.point=n[a]}),t}function e(n){return n.map(function(n,t){return{x:Math.round(i(n,t)/Ca)*Ca,y:Math.round(o(n,t)/Ca)*Ca,i:t}})}var r=Ze,u=Ve,i=r,o=u,a=Kc;return n?t(n):(t.links=function(n){return _r(e(n)).edges.filter(function(n){return n.l&&n.r}).map(function(t){return{source:n[t.l.i],target:n[t.r.i]}})},t.triangles=function(n){var t=[];return _r(e(n)).cells.forEach(function(e,r){for(var u,i,o=e.site,a=e.edges.sort(ir),c=-1,s=a.length,l=a[s-1].edge,f=l.l===o?l.r:l.l;++c<s;)u=l,i=f,l=a[c].edge,f=l.l===o?l.r:l.l,r<i.i&&r<f.i&&wr(o,i,f)<0&&t.push([n[r],n[i.i],n[f.i]])}),t},t.x=function(n){return arguments.length?(i=pt(r=n),t):r},t.y=function(n){return arguments.length?(o=pt(u=n),t):u},t.clipExtent=function(n){return arguments.length?(a=null==n?Kc:n,t):a===Kc?null:a},t.size=function(n){return arguments.length?t.clipExtent(n&&[[0,0],n]):a===Kc?null:a&&a[1]},t)};var Kc=[[-1e6,-1e6],[1e6,1e6]];$o.geom.delaunay=function(n){return $o.geom.voronoi().triangles(n)},$o.geom.quadtree=function(n,t,e,r,u){function i(n){function i(n,t,e,r,u,i,o,a){if(!isNaN(e)&&!isNaN(r))if(n.leaf){var c=n.x,l=n.y;if(null!=c)if(aa(c-e)+aa(l-r)<.01)s(n,t,e,r,u,i,o,a);else{var f=n.point;n.x=n.y=n.point=null,s(n,f,c,l,u,i,o,a),s(n,t,e,r,u,i,o,a)}else n.x=e,n.y=r,n.point=t}else s(n,t,e,r,u,i,o,a)}function s(n,t,e,r,u,o,a,c){var s=.5*(u+a),l=.5*(o+c),f=e>=s,h=r>=l,g=(h<<1)+f;n.leaf=!1,n=n.nodes[g]||(n.nodes[g]=Er()),f?u=s:a=s,h?o=l:c=l,i(n,t,e,r,u,o,a,c)}var l,f,h,g,p,v,d,m,y,x=pt(a),M=pt(c);if(null!=t)v=t,d=e,m=r,y=u;else if(m=y=-(v=d=1/0),f=[],h=[],p=n.length,o)for(g=0;p>g;++g)l=n[g],l.x<v&&(v=l.x),l.y<d&&(d=l.y),l.x>m&&(m=l.x),l.y>y&&(y=l.y),f.push(l.x),h.push(l.y);else for(g=0;p>g;++g){var _=+x(l=n[g],g),b=+M(l,g);v>_&&(v=_),d>b&&(d=b),_>m&&(m=_),b>y&&(y=b),f.push(_),h.push(b)}var w=m-v,S=y-d;w>S?y=d+w:m=v+S;var k=Er();if(k.add=function(n){i(k,n,+x(n,++g),+M(n,g),v,d,m,y)},k.visit=function(n){Ar(n,k,v,d,m,y)},g=-1,null==t){for(;++g<p;)i(k,n[g],f[g],h[g],v,d,m,y);--g}else n.forEach(k.add);return f=h=n=l=null,k}var o,a=Ze,c=Ve;return(o=arguments.length)?(a=Sr,c=kr,3===o&&(u=e,r=t,e=t=0),i(n)):(i.x=function(n){return arguments.length?(a=n,i):a},i.y=function(n){return arguments.length?(c=n,i):c},i.extent=function(n){return arguments.length?(null==n?t=e=r=u=null:(t=+n[0][0],e=+n[0][1],r=+n[1][0],u=+n[1][1]),i):null==t?null:[[t,e],[r,u]]},i.size=function(n){return arguments.length?(null==n?t=e=r=u=null:(t=e=0,r=+n[0],u=+n[1]),i):null==t?null:[r-t,u-e]},i)},$o.interpolateRgb=Cr,$o.interpolateObject=Nr,$o.interpolateNumber=Lr,$o.interpolateString=Tr;var Qc=/[-+]?(?:\\d+\\.?\\d*|\\.?\\d+)(?:[eE][-+]?\\d+)?/g;$o.interpolate=qr,$o.interpolators=[function(n,t){var e=typeof t;return(\"string\"===e?Xa.has(t)||/^(#|rgb\\(|hsl\\()/.test(t)?Cr:Tr:t instanceof Z?Cr:\"object\"===e?Array.isArray(t)?zr:Nr:Lr)(n,t)}],$o.interpolateArray=zr;var ns=function(){return vt},ts=$o.map({linear:ns,poly:Fr,quad:function(){return Ur},cubic:function(){return jr},sin:function(){return Or},exp:function(){return Yr},circle:function(){return Ir},elastic:Zr,back:Vr,bounce:function(){return Xr}}),es=$o.map({\"in\":vt,out:Dr,\"in-out\":Pr,\"out-in\":function(n){return Pr(Dr(n))}});$o.ease=function(n){var t=n.indexOf(\"-\"),e=t>=0?n.substring(0,t):n,r=t>=0?n.substring(t+1):\"in\";return e=ts.get(e)||ns,r=es.get(r)||vt,Rr(r(e.apply(null,Bo.call(arguments,1))))},$o.interpolateHcl=$r,$o.interpolateHsl=Br,$o.interpolateLab=Wr,$o.interpolateRound=Jr,$o.transform=function(n){var t=Jo.createElementNS($o.ns.prefix.svg,\"g\");return($o.transform=function(n){if(null!=n){t.setAttribute(\"transform\",n);var e=t.transform.baseVal.consolidate()}return new Gr(e?e.matrix:rs)})(n)},Gr.prototype.toString=function(){return\"translate(\"+this.translate+\")rotate(\"+this.rotate+\")skewX(\"+this.skew+\")scale(\"+this.scale+\")\"};var rs={a:1,b:0,c:0,d:1,e:0,f:0};$o.interpolateTransform=tu,$o.layout={},$o.layout.bundle=function(){return function(n){for(var t=[],e=-1,r=n.length;++e<r;)t.push(uu(n[e]));return t}},$o.layout.chord=function(){function n(){var n,s,f,h,g,p={},v=[],d=$o.range(i),m=[];for(e=[],r=[],n=0,h=-1;++h<i;){for(s=0,g=-1;++g<i;)s+=u[h][g];v.push(s),m.push($o.range(i)),n+=s}for(o&&d.sort(function(n,t){return o(v[n],v[t])}),a&&m.forEach(function(n,t){n.sort(function(n,e){return a(u[t][n],u[t][e])})}),n=(Ea-l*i)/n,s=0,h=-1;++h<i;){for(f=s,g=-1;++g<i;){var y=d[h],x=m[y][g],M=u[y][x],_=s,b=s+=M*n;p[y+\"-\"+x]={index:y,subindex:x,startAngle:_,endAngle:b,value:M}}r[y]={index:y,startAngle:f,endAngle:s,value:(s-f)/n},s+=l}for(h=-1;++h<i;)for(g=h-1;++g<i;){var w=p[h+\"-\"+g],S=p[g+\"-\"+h];(w.value||S.value)&&e.push(w.value<S.value?{source:S,target:w}:{source:w,target:S})}c&&t()}function t(){e.sort(function(n,t){return c((n.source.value+n.target.value)/2,(t.source.value+t.target.value)/2)})}var e,r,u,i,o,a,c,s={},l=0;return s.matrix=function(n){return arguments.length?(i=(u=n)&&u.length,e=r=null,s):u},s.padding=function(n){return arguments.length?(l=n,e=r=null,s):l},s.sortGroups=function(n){return arguments.length?(o=n,e=r=null,s):o},s.sortSubgroups=function(n){return arguments.length?(a=n,e=null,s):a},s.sortChords=function(n){return arguments.length?(c=n,e&&t(),s):c},s.chords=function(){return e||n(),e},s.groups=function(){return r||n(),r},s},$o.layout.force=function(){function n(n){return function(t,e,r,u){if(t.point!==n){var i=t.cx-n.x,o=t.cy-n.y,a=1/Math.sqrt(i*i+o*o);if(v>(u-e)*a){var c=t.charge*a*a;return n.px-=i*c,n.py-=o*c,!0}if(t.point&&isFinite(a)){var c=t.pointCharge*a*a;n.px-=i*c,n.py-=o*c}}return!t.charge}}function t(n){n.px=$o.event.x,n.py=$o.event.y,a.resume()}var e,r,u,i,o,a={},c=$o.dispatch(\"start\",\"tick\",\"end\"),s=[1,1],l=.9,f=us,h=is,g=-30,p=.1,v=.8,d=[],m=[];return a.tick=function(){if((r*=.99)<.005)return c.end({type:\"end\",alpha:r=0}),!0;var t,e,a,f,h,v,y,x,M,_=d.length,b=m.length;for(e=0;b>e;++e)a=m[e],f=a.source,h=a.target,x=h.x-f.x,M=h.y-f.y,(v=x*x+M*M)&&(v=r*i[e]*((v=Math.sqrt(v))-u[e])/v,x*=v,M*=v,h.x-=x*(y=f.weight/(h.weight+f.weight)),h.y-=M*y,f.x+=x*(y=1-y),f.y+=M*y);if((y=r*p)&&(x=s[0]/2,M=s[1]/2,e=-1,y))for(;++e<_;)a=d[e],a.x+=(x-a.x)*y,a.y+=(M-a.y)*y;if(g)for(fu(t=$o.geom.quadtree(d),r,o),e=-1;++e<_;)(a=d[e]).fixed||t.visit(n(a));for(e=-1;++e<_;)a=d[e],a.fixed?(a.x=a.px,a.y=a.py):(a.x-=(a.px-(a.px=a.x))*l,a.y-=(a.py-(a.py=a.y))*l);c.tick({type:\"tick\",alpha:r})},a.nodes=function(n){return arguments.length?(d=n,a):d},a.links=function(n){return arguments.length?(m=n,a):m},a.size=function(n){return arguments.length?(s=n,a):s},a.linkDistance=function(n){return arguments.length?(f=\"function\"==typeof n?n:+n,a):f},a.distance=a.linkDistance,a.linkStrength=function(n){return arguments.length?(h=\"function\"==typeof n?n:+n,a):h},a.friction=function(n){return arguments.length?(l=+n,a):l},a.charge=function(n){return arguments.length?(g=\"function\"==typeof n?n:+n,a):g},a.gravity=function(n){return arguments.length?(p=+n,a):p},a.theta=function(n){return arguments.length?(v=+n,a):v},a.alpha=function(n){return arguments.length?(n=+n,r?r=n>0?n:0:n>0&&(c.start({type:\"start\",alpha:r=n}),$o.timer(a.tick)),a):r},a.start=function(){function n(n,r){if(!e){for(e=new Array(c),a=0;c>a;++a)e[a]=[];for(a=0;s>a;++a){var u=m[a];e[u.source.index].push(u.target),e[u.target.index].push(u.source)}}for(var i,o=e[t],a=-1,s=o.length;++a<s;)if(!isNaN(i=o[a][n]))return i;return Math.random()*r}var t,e,r,c=d.length,l=m.length,p=s[0],v=s[1];for(t=0;c>t;++t)(r=d[t]).index=t,r.weight=0;for(t=0;l>t;++t)r=m[t],\"number\"==typeof r.source&&(r.source=d[r.source]),\"number\"==typeof r.target&&(r.target=d[r.target]),++r.source.weight,++r.target.weight;for(t=0;c>t;++t)r=d[t],isNaN(r.x)&&(r.x=n(\"x\",p)),isNaN(r.y)&&(r.y=n(\"y\",v)),isNaN(r.px)&&(r.px=r.x),isNaN(r.py)&&(r.py=r.y);if(u=[],\"function\"==typeof f)for(t=0;l>t;++t)u[t]=+f.call(this,m[t],t);else for(t=0;l>t;++t)u[t]=f;if(i=[],\"function\"==typeof h)for(t=0;l>t;++t)i[t]=+h.call(this,m[t],t);else for(t=0;l>t;++t)i[t]=h;if(o=[],\"function\"==typeof g)for(t=0;c>t;++t)o[t]=+g.call(this,d[t],t);else for(t=0;c>t;++t)o[t]=g;return a.resume()},a.resume=function(){return a.alpha(.1)},a.stop=function(){return a.alpha(0)},a.drag=function(){return e||(e=$o.behavior.drag().origin(vt).on(\"dragstart.force\",au).on(\"drag.force\",t).on(\"dragend.force\",cu)),arguments.length?(this.on(\"mouseover.force\",su).on(\"mouseout.force\",lu).call(e),void 0):e},$o.rebind(a,c,\"on\")};var us=20,is=1;$o.layout.hierarchy=function(){function n(t,o,a){var c=u.call(e,t,o);if(t.depth=o,a.push(t),c&&(s=c.length)){for(var s,l,f=-1,h=t.children=new Array(s),g=0,p=o+1;++f<s;)l=h[f]=n(c[f],p,a),l.parent=t,g+=l.value;r&&h.sort(r),i&&(t.value=g)}else delete t.children,i&&(t.value=+i.call(e,t,o)||0);return t}function t(n,r){var u=n.children,o=0;if(u&&(a=u.length))for(var a,c=-1,s=r+1;++c<a;)o+=t(u[c],s);else i&&(o=+i.call(e,n,r)||0);return i&&(n.value=o),o}function e(t){var e=[];return n(t,0,e),e}var r=vu,u=gu,i=pu;return e.sort=function(n){return arguments.length?(r=n,e):r},e.children=function(n){return arguments.length?(u=n,e):u},e.value=function(n){return arguments.length?(i=n,e):i},e.revalue=function(n){return t(n,0),n},e},$o.layout.partition=function(){function n(t,e,r,u){var i=t.children;if(t.x=e,t.y=t.depth*u,t.dx=r,t.dy=u,i&&(o=i.length)){var o,a,c,s=-1;for(r=t.value?r/t.value:0;++s<o;)n(a=i[s],e,c=a.value*r,u),e+=c}}function t(n){var e=n.children,r=0;if(e&&(u=e.length))for(var u,i=-1;++i<u;)r=Math.max(r,t(e[i]));return 1+r}function e(e,i){var o=r.call(this,e,i);return n(o[0],0,u[0],u[1]/t(o[0])),o}var r=$o.layout.hierarchy(),u=[1,1];return e.size=function(n){return arguments.length?(u=n,e):u},hu(e,r)},$o.layout.pie=function(){function n(i){var o=i.map(function(e,r){return+t.call(n,e,r)}),a=+(\"function\"==typeof r?r.apply(this,arguments):r),c=((\"function\"==typeof u?u.apply(this,arguments):u)-a)/$o.sum(o),s=$o.range(i.length);null!=e&&s.sort(e===os?function(n,t){return o[t]-o[n]}:function(n,t){return e(i[n],i[t])});var l=[];return s.forEach(function(n){var t;l[n]={data:i[n],value:t=o[n],startAngle:a,endAngle:a+=t*c}}),l}var t=Number,e=os,r=0,u=Ea;return n.value=function(e){return arguments.length?(t=e,n):t},n.sort=function(t){return arguments.length?(e=t,n):e},n.startAngle=function(t){return arguments.length?(r=t,n):r},n.endAngle=function(t){return arguments.length?(u=t,n):u},n};var os={};$o.layout.stack=function(){function n(a,c){var s=a.map(function(e,r){return t.call(n,e,r)}),l=s.map(function(t){return t.map(function(t,e){return[i.call(n,t,e),o.call(n,t,e)]})}),f=e.call(n,l,c);s=$o.permute(s,f),l=$o.permute(l,f);var h,g,p,v=r.call(n,l,c),d=s.length,m=s[0].length;for(g=0;m>g;++g)for(u.call(n,s[0][g],p=v[g],l[0][g][1]),h=1;d>h;++h)u.call(n,s[h][g],p+=l[h-1][g][1],l[h][g][1]);return a}var t=vt,e=Mu,r=_u,u=xu,i=mu,o=yu;return n.values=function(e){return arguments.length?(t=e,n):t},n.order=function(t){return arguments.length?(e=\"function\"==typeof t?t:as.get(t)||Mu,n):e},n.offset=function(t){return arguments.length?(r=\"function\"==typeof t?t:cs.get(t)||_u,n):r},n.x=function(t){return arguments.length?(i=t,n):i},n.y=function(t){return arguments.length?(o=t,n):o},n.out=function(t){return arguments.length?(u=t,n):u},n};var as=$o.map({\"inside-out\":function(n){var t,e,r=n.length,u=n.map(bu),i=n.map(wu),o=$o.range(r).sort(function(n,t){return u[n]-u[t]}),a=0,c=0,s=[],l=[];for(t=0;r>t;++t)e=o[t],c>a?(a+=i[e],s.push(e)):(c+=i[e],l.push(e));return l.reverse().concat(s)},reverse:function(n){return $o.range(n.length).reverse()},\"default\":Mu}),cs=$o.map({silhouette:function(n){var t,e,r,u=n.length,i=n[0].length,o=[],a=0,c=[];for(e=0;i>e;++e){for(t=0,r=0;u>t;t++)r+=n[t][e][1];r>a&&(a=r),o.push(r)}for(e=0;i>e;++e)c[e]=(a-o[e])/2;return c},wiggle:function(n){var t,e,r,u,i,o,a,c,s,l=n.length,f=n[0],h=f.length,g=[];for(g[0]=c=s=0,e=1;h>e;++e){for(t=0,u=0;l>t;++t)u+=n[t][e][1];for(t=0,i=0,a=f[e][0]-f[e-1][0];l>t;++t){for(r=0,o=(n[t][e][1]-n[t][e-1][1])/(2*a);t>r;++r)o+=(n[r][e][1]-n[r][e-1][1])/a;i+=o*n[t][e][1]}g[e]=c-=u?i/u*a:0,s>c&&(s=c)}for(e=0;h>e;++e)g[e]-=s;return g},expand:function(n){var t,e,r,u=n.length,i=n[0].length,o=1/u,a=[];for(e=0;i>e;++e){for(t=0,r=0;u>t;t++)r+=n[t][e][1];if(r)for(t=0;u>t;t++)n[t][e][1]/=r;else for(t=0;u>t;t++)n[t][e][1]=o}for(e=0;i>e;++e)a[e]=0;return a},zero:_u});$o.layout.histogram=function(){function n(n,i){for(var o,a,c=[],s=n.map(e,this),l=r.call(this,s,i),f=u.call(this,l,s,i),i=-1,h=s.length,g=f.length-1,p=t?1:1/h;++i<g;)o=c[i]=[],o.dx=f[i+1]-(o.x=f[i]),o.y=0;if(g>0)for(i=-1;++i<h;)a=s[i],a>=l[0]&&a<=l[1]&&(o=c[$o.bisect(f,a,1,g)-1],o.y+=p,o.push(n[i]));return c}var t=!0,e=Number,r=Au,u=ku;return n.value=function(t){return arguments.length?(e=t,n):e},n.range=function(t){return arguments.length?(r=pt(t),n):r},n.bins=function(t){return arguments.length?(u=\"number\"==typeof t?function(n){return Eu(n,t)}:pt(t),n):u},n.frequency=function(e){return arguments.length?(t=!!e,n):t},n},$o.layout.tree=function(){function n(n,i){function o(n,t){var r=n.children,u=n._tree;if(r&&(i=r.length)){for(var i,a,s,l=r[0],f=l,h=-1;++h<i;)s=r[h],o(s,a),f=c(s,a,f),a=s;Pu(n);var g=.5*(l._tree.prelim+s._tree.prelim);t?(u.prelim=t._tree.prelim+e(n,t),u.mod=u.prelim-g):u.prelim=g}else t&&(u.prelim=t._tree.prelim+e(n,t))}function a(n,t){n.x=n._tree.prelim+t;var e=n.children;if(e&&(r=e.length)){var r,u=-1;for(t+=n._tree.mod;++u<r;)a(e[u],t)}}function c(n,t,r){if(t){for(var u,i=n,o=n,a=t,c=n.parent.children[0],s=i._tree.mod,l=o._tree.mod,f=a._tree.mod,h=c._tree.mod;a=Lu(a),i=Nu(i),a&&i;)c=Nu(c),o=Lu(o),o._tree.ancestor=n,u=a._tree.prelim+f-i._tree.prelim-s+e(a,i),u>0&&(Uu(ju(a,n,r),n,u),s+=u,l+=u),f+=a._tree.mod,s+=i._tree.mod,h+=c._tree.mod,l+=o._tree.mod;a&&!Lu(o)&&(o._tree.thread=a,o._tree.mod+=f-l),i&&!Nu(c)&&(c._tree.thread=i,c._tree.mod+=s-h,r=n)}return r}var s=t.call(this,n,i),l=s[0];Du(l,function(n,t){n._tree={ancestor:n,prelim:0,mod:0,change:0,shift:0,number:t?t._tree.number+1:0}}),o(l),a(l,-l._tree.prelim);var f=Tu(l,zu),h=Tu(l,qu),g=Tu(l,Ru),p=f.x-e(f,h)/2,v=h.x+e(h,f)/2,d=g.depth||1;return Du(l,u?function(n){n.x*=r[0],n.y=n.depth*r[1],delete n._tree}:function(n){n.x=(n.x-p)/(v-p)*r[0],n.y=n.depth/d*r[1],delete n._tree}),s}var t=$o.layout.hierarchy().sort(null).value(null),e=Cu,r=[1,1],u=!1;return n.separation=function(t){return arguments.length?(e=t,n):e},n.size=function(t){return arguments.length?(u=null==(r=t),n):u?null:r},n.nodeSize=function(t){return arguments.length?(u=null!=(r=t),n):u?r:null},hu(n,t)},$o.layout.pack=function(){function n(n,i){var o=e.call(this,n,i),a=o[0],c=u[0],s=u[1],l=null==t?Math.sqrt:\"function\"==typeof t?t:function(){return t};if(a.x=a.y=0,Du(a,function(n){n.r=+l(n.value)}),Du(a,Iu),r){var f=r*(t?1:Math.max(2*a.r/c,2*a.r/s))/2;Du(a,function(n){n.r+=f}),Du(a,Iu),Du(a,function(n){n.r-=f})}return Xu(a,c/2,s/2,t?1:1/Math.max(2*a.r/c,2*a.r/s)),o}var t,e=$o.layout.hierarchy().sort(Hu),r=0,u=[1,1];return n.size=function(t){return arguments.length?(u=t,n):u},n.radius=function(e){return arguments.length?(t=null==e||\"function\"==typeof e?e:+e,n):t},n.padding=function(t){return arguments.length?(r=+t,n):r},hu(n,e)},$o.layout.cluster=function(){function n(n,i){var o,a=t.call(this,n,i),c=a[0],s=0;Du(c,function(n){var t=n.children;t&&t.length?(n.x=Wu(t),n.y=Bu(t)):(n.x=o?s+=e(n,o):0,n.y=0,o=n)});var l=Ju(c),f=Gu(c),h=l.x-e(l,f)/2,g=f.x+e(f,l)/2;return Du(c,u?function(n){n.x=(n.x-c.x)*r[0],n.y=(c.y-n.y)*r[1]}:function(n){n.x=(n.x-h)/(g-h)*r[0],n.y=(1-(c.y?n.y/c.y:1))*r[1]}),a}var t=$o.layout.hierarchy().sort(null).value(null),e=Cu,r=[1,1],u=!1;return n.separation=function(t){return arguments.length?(e=t,n):e},n.size=function(t){return arguments.length?(u=null==(r=t),n):u?null:r},n.nodeSize=function(t){return arguments.length?(u=null!=(r=t),n):u?r:null},hu(n,t)},$o.layout.treemap=function(){function n(n,t){for(var e,r,u=-1,i=n.length;++u<i;)r=(e=n[u]).value*(0>t?0:t),e.area=isNaN(r)||0>=r?0:r}function t(e){var i=e.children;if(i&&i.length){var o,a,c,s=f(e),l=[],h=i.slice(),p=1/0,v=\"slice\"===g?s.dx:\"dice\"===g?s.dy:\"slice-dice\"===g?1&e.depth?s.dy:s.dx:Math.min(s.dx,s.dy);for(n(h,s.dx*s.dy/e.value),l.area=0;(c=h.length)>0;)l.push(o=h[c-1]),l.area+=o.area,\"squarify\"!==g||(a=r(l,v))<=p?(h.pop(),p=a):(l.area-=l.pop().area,u(l,v,s,!1),v=Math.min(s.dx,s.dy),l.length=l.area=0,p=1/0);l.length&&(u(l,v,s,!0),l.length=l.area=0),i.forEach(t)}}function e(t){var r=t.children;if(r&&r.length){var i,o=f(t),a=r.slice(),c=[];for(n(a,o.dx*o.dy/t.value),c.area=0;i=a.pop();)c.push(i),c.area+=i.area,null!=i.z&&(u(c,i.z?o.dx:o.dy,o,!a.length),c.length=c.area=0);r.forEach(e)}}function r(n,t){for(var e,r=n.area,u=0,i=1/0,o=-1,a=n.length;++o<a;)(e=n[o].area)&&(i>e&&(i=e),e>u&&(u=e));return r*=r,t*=t,r?Math.max(t*u*p/r,r/(t*i*p)):1/0}function u(n,t,e,r){var u,i=-1,o=n.length,a=e.x,s=e.y,l=t?c(n.area/t):0;if(t==e.dx){for((r||l>e.dy)&&(l=e.dy);++i<o;)u=n[i],u.x=a,u.y=s,u.dy=l,a+=u.dx=Math.min(e.x+e.dx-a,l?c(u.area/l):0);u.z=!0,u.dx+=e.x+e.dx-a,e.y+=l,e.dy-=l}else{for((r||l>e.dx)&&(l=e.dx);++i<o;)u=n[i],u.x=a,u.y=s,u.dx=l,s+=u.dy=Math.min(e.y+e.dy-s,l?c(u.area/l):0);u.z=!1,u.dy+=e.y+e.dy-s,e.x+=l,e.dx-=l}}function i(r){var u=o||a(r),i=u[0];return i.x=0,i.y=0,i.dx=s[0],i.dy=s[1],o&&a.revalue(i),n([i],i.dx*i.dy/i.value),(o?e:t)(i),h&&(o=u),u}var o,a=$o.layout.hierarchy(),c=Math.round,s=[1,1],l=null,f=Ku,h=!1,g=\"squarify\",p=.5*(1+Math.sqrt(5));return i.size=function(n){return arguments.length?(s=n,i):s},i.padding=function(n){function t(t){var e=n.call(i,t,t.depth);return null==e?Ku(t):Qu(t,\"number\"==typeof e?[e,e,e,e]:e)}function e(t){return Qu(t,n)}if(!arguments.length)return l;var r;return f=null==(l=n)?Ku:\"function\"==(r=typeof n)?t:\"number\"===r?(n=[n,n,n,n],e):e,i},i.round=function(n){return arguments.length?(c=n?Math.round:Number,i):c!=Number},i.sticky=function(n){return arguments.length?(h=n,o=null,i):h},i.ratio=function(n){return arguments.length?(p=n,i):p},i.mode=function(n){return arguments.length?(g=n+\"\",i):g},hu(i,a)},$o.random={normal:function(n,t){var e=arguments.length;return 2>e&&(t=1),1>e&&(n=0),function(){var e,r,u;do e=2*Math.random()-1,r=2*Math.random()-1,u=e*e+r*r;while(!u||u>1);return n+t*e*Math.sqrt(-2*Math.log(u)/u)}},logNormal:function(){var n=$o.random.normal.apply($o,arguments);return function(){return Math.exp(n())}},irwinHall:function(n){return function(){for(var t=0,e=0;n>e;e++)t+=Math.random();return t/n}}},$o.scale={};var ss={floor:vt,ceil:vt};$o.scale.linear=function(){return oi([0,1],[0,1],qr,!1)};var ls={s:1,g:1,p:1,r:1,e:1};$o.scale.log=function(){return pi($o.scale.linear().domain([0,1]),10,!0,[1,10])};var fs=$o.format(\".0e\"),hs={floor:function(n){return-Math.ceil(-n)},ceil:function(n){return-Math.floor(-n)}};$o.scale.pow=function(){return vi($o.scale.linear(),1,[0,1])},$o.scale.sqrt=function(){return $o.scale.pow().exponent(.5)},$o.scale.ordinal=function(){return mi([],{t:\"range\",a:[[]]})},$o.scale.category10=function(){return $o.scale.ordinal().range(gs)},$o.scale.category20=function(){return $o.scale.ordinal().range(ps)},$o.scale.category20b=function(){return $o.scale.ordinal().range(vs)},$o.scale.category20c=function(){return $o.scale.ordinal().range(ds)};var gs=[2062260,16744206,2924588,14034728,9725885,9197131,14907330,8355711,12369186,1556175].map(it),ps=[2062260,11454440,16744206,16759672,2924588,10018698,14034728,16750742,9725885,12955861,9197131,12885140,14907330,16234194,8355711,13092807,12369186,14408589,1556175,10410725].map(it),vs=[3750777,5395619,7040719,10264286,6519097,9216594,11915115,13556636,9202993,12426809,15186514,15190932,8666169,11356490,14049643,15177372,8077683,10834324,13528509,14589654].map(it),ds=[3244733,7057110,10406625,13032431,15095053,16616764,16625259,16634018,3253076,7652470,10607003,13101504,7695281,10394312,12369372,14342891,6513507,9868950,12434877,14277081].map(it);$o.scale.quantile=function(){return yi([],[])},$o.scale.quantize=function(){return xi(0,1,[0,1])},$o.scale.threshold=function(){return Mi([.5],[0,1])},$o.scale.identity=function(){return _i([0,1])},$o.svg={},$o.svg.arc=function(){function n(){var n=t.apply(this,arguments),i=e.apply(this,arguments),o=r.apply(this,arguments)+ms,a=u.apply(this,arguments)+ms,c=(o>a&&(c=o,o=a,a=c),a-o),s=ka>c?\"0\":\"1\",l=Math.cos(o),f=Math.sin(o),h=Math.cos(a),g=Math.sin(a);return c>=ys?n?\"M0,\"+i+\"A\"+i+\",\"+i+\" 0 1,1 0,\"+-i+\"A\"+i+\",\"+i+\" 0 1,1 0,\"+i+\"M0,\"+n+\"A\"+n+\",\"+n+\" 0 1,0 0,\"+-n+\"A\"+n+\",\"+n+\" 0 1,0 0,\"+n+\"Z\":\"M0,\"+i+\"A\"+i+\",\"+i+\" 0 1,1 0,\"+-i+\"A\"+i+\",\"+i+\" 0 1,1 0,\"+i+\"Z\":n?\"M\"+i*l+\",\"+i*f+\"A\"+i+\",\"+i+\" 0 \"+s+\",1 \"+i*h+\",\"+i*g+\"L\"+n*h+\",\"+n*g+\"A\"+n+\",\"+n+\" 0 \"+s+\",0 \"+n*l+\",\"+n*f+\"Z\":\"M\"+i*l+\",\"+i*f+\"A\"+i+\",\"+i+\" 0 \"+s+\",1 \"+i*h+\",\"+i*g+\"L0,0\"+\"Z\"}var t=bi,e=wi,r=Si,u=ki;return n.innerRadius=function(e){return arguments.length?(t=pt(e),n):t},n.outerRadius=function(t){return arguments.length?(e=pt(t),n):e},n.startAngle=function(t){return arguments.length?(r=pt(t),n):r},n.endAngle=function(t){return arguments.length?(u=pt(t),n):u},n.centroid=function(){var n=(t.apply(this,arguments)+e.apply(this,arguments))/2,i=(r.apply(this,arguments)+u.apply(this,arguments))/2+ms;return[Math.cos(i)*n,Math.sin(i)*n]},n};var ms=-Aa,ys=Ea-Ca;$o.svg.line=function(){return Ei(vt)};var xs=$o.map({linear:Ai,\"linear-closed\":Ci,step:Ni,\"step-before\":Li,\"step-after\":Ti,basis:Ui,\"basis-open\":ji,\"basis-closed\":Hi,bundle:Fi,cardinal:Ri,\"cardinal-open\":qi,\"cardinal-closed\":zi,monotone:Xi});xs.forEach(function(n,t){t.key=n,t.closed=/-closed$/.test(n)});var Ms=[0,2/3,1/3,0],_s=[0,1/3,2/3,0],bs=[0,1/6,2/3,1/6];$o.svg.line.radial=function(){var n=Ei($i);return n.radius=n.x,delete n.x,n.angle=n.y,delete n.y,n},Li.reverse=Ti,Ti.reverse=Li,$o.svg.area=function(){return Bi(vt)},$o.svg.area.radial=function(){var n=Bi($i);return n.radius=n.x,delete n.x,n.innerRadius=n.x0,delete n.x0,n.outerRadius=n.x1,delete n.x1,n.angle=n.y,delete n.y,n.startAngle=n.y0,delete n.y0,n.endAngle=n.y1,delete n.y1,n},$o.svg.chord=function(){function n(n,a){var c=t(this,i,n,a),s=t(this,o,n,a);return\"M\"+c.p0+r(c.r,c.p1,c.a1-c.a0)+(e(c,s)?u(c.r,c.p1,c.r,c.p0):u(c.r,c.p1,s.r,s.p0)+r(s.r,s.p1,s.a1-s.a0)+u(s.r,s.p1,c.r,c.p0))+\"Z\"}function t(n,t,e,r){var u=t.call(n,e,r),i=a.call(n,u,r),o=c.call(n,u,r)+ms,l=s.call(n,u,r)+ms;return{r:i,a0:o,a1:l,p0:[i*Math.cos(o),i*Math.sin(o)],p1:[i*Math.cos(l),i*Math.sin(l)]}}function e(n,t){return n.a0==t.a0&&n.a1==t.a1}function r(n,t,e){return\"A\"+n+\",\"+n+\" 0 \"+ +(e>ka)+\",1 \"+t}function u(n,t,e,r){return\"Q 0,0 \"+r}var i=Re,o=De,a=Wi,c=Si,s=ki;return n.radius=function(t){return arguments.length?(a=pt(t),n):a},n.source=function(t){return arguments.length?(i=pt(t),n):i},n.target=function(t){return arguments.length?(o=pt(t),n):o},n.startAngle=function(t){return arguments.length?(c=pt(t),n):c},n.endAngle=function(t){return arguments.length?(s=pt(t),n):s},n},$o.svg.diagonal=function(){function n(n,u){var i=t.call(this,n,u),o=e.call(this,n,u),a=(i.y+o.y)/2,c=[i,{x:i.x,y:a},{x:o.x,y:a},o];return c=c.map(r),\"M\"+c[0]+\"C\"+c[1]+\" \"+c[2]+\" \"+c[3]}var t=Re,e=De,r=Ji;return n.source=function(e){return arguments.length?(t=pt(e),n):t},n.target=function(t){return arguments.length?(e=pt(t),n):e},n.projection=function(t){return arguments.length?(r=t,n):r},n},$o.svg.diagonal.radial=function(){var n=$o.svg.diagonal(),t=Ji,e=n.projection;return n.projection=function(n){return arguments.length?e(Gi(t=n)):t},n},$o.svg.symbol=function(){function n(n,r){return(ws.get(t.call(this,n,r))||no)(e.call(this,n,r))}var t=Qi,e=Ki;return n.type=function(e){return arguments.length?(t=pt(e),n):t},n.size=function(t){return arguments.length?(e=pt(t),n):e},n};var ws=$o.map({circle:no,cross:function(n){var t=Math.sqrt(n/5)/2;return\"M\"+-3*t+\",\"+-t+\"H\"+-t+\"V\"+-3*t+\"H\"+t+\"V\"+-t+\"H\"+3*t+\"V\"+t+\"H\"+t+\"V\"+3*t+\"H\"+-t+\"V\"+t+\"H\"+-3*t+\"Z\"},diamond:function(n){var t=Math.sqrt(n/(2*As)),e=t*As;return\"M0,\"+-t+\"L\"+e+\",0\"+\" 0,\"+t+\" \"+-e+\",0\"+\"Z\"},square:function(n){var t=Math.sqrt(n)/2;return\"M\"+-t+\",\"+-t+\"L\"+t+\",\"+-t+\" \"+t+\",\"+t+\" \"+-t+\",\"+t+\"Z\"},\"triangle-down\":function(n){var t=Math.sqrt(n/Es),e=t*Es/2;return\"M0,\"+e+\"L\"+t+\",\"+-e+\" \"+-t+\",\"+-e+\"Z\"},\"triangle-up\":function(n){var t=Math.sqrt(n/Es),e=t*Es/2;return\"M0,\"+-e+\"L\"+t+\",\"+e+\" \"+-t+\",\"+e+\"Z\"}});$o.svg.symbolTypes=ws.keys();var Ss,ks,Es=Math.sqrt(3),As=Math.tan(30*La),Cs=[],Ns=0;\n",
        "Cs.call=ma.call,Cs.empty=ma.empty,Cs.node=ma.node,Cs.size=ma.size,$o.transition=function(n){return arguments.length?Ss?n.transition():n:Ma.transition()},$o.transition.prototype=Cs,Cs.select=function(n){var t,e,r,u=this.id,i=[];n=v(n);for(var o=-1,a=this.length;++o<a;){i.push(t=[]);for(var c=this[o],s=-1,l=c.length;++s<l;)(r=c[s])&&(e=n.call(r,r.__data__,s,o))?(\"__data__\"in r&&(e.__data__=r.__data__),uo(e,s,u,r.__transition__[u]),t.push(e)):t.push(null)}return to(i,u)},Cs.selectAll=function(n){var t,e,r,u,i,o=this.id,a=[];n=d(n);for(var c=-1,s=this.length;++c<s;)for(var l=this[c],f=-1,h=l.length;++f<h;)if(r=l[f]){i=r.__transition__[o],e=n.call(r,r.__data__,f,c),a.push(t=[]);for(var g=-1,p=e.length;++g<p;)(u=e[g])&&uo(u,g,o,i),t.push(u)}return to(a,o)},Cs.filter=function(n){var t,e,r,u=[];\"function\"!=typeof n&&(n=E(n));for(var i=0,o=this.length;o>i;i++){u.push(t=[]);for(var e=this[i],a=0,c=e.length;c>a;a++)(r=e[a])&&n.call(r,r.__data__,a,i)&&t.push(r)}return to(u,this.id)},Cs.tween=function(n,t){var e=this.id;return arguments.length<2?this.node().__transition__[e].tween.get(n):C(this,null==t?function(t){t.__transition__[e].tween.remove(n)}:function(r){r.__transition__[e].tween.set(n,t)})},Cs.attr=function(n,t){function e(){this.removeAttribute(a)}function r(){this.removeAttributeNS(a.space,a.local)}function u(n){return null==n?e:(n+=\"\",function(){var t,e=this.getAttribute(a);return e!==n&&(t=o(e,n),function(n){this.setAttribute(a,t(n))})})}function i(n){return null==n?r:(n+=\"\",function(){var t,e=this.getAttributeNS(a.space,a.local);return e!==n&&(t=o(e,n),function(n){this.setAttributeNS(a.space,a.local,t(n))})})}if(arguments.length<2){for(t in n)this.attr(t,n[t]);return this}var o=\"transform\"==n?tu:qr,a=$o.ns.qualify(n);return eo(this,\"attr.\"+n,t,a.local?i:u)},Cs.attrTween=function(n,t){function e(n,e){var r=t.call(this,n,e,this.getAttribute(u));return r&&function(n){this.setAttribute(u,r(n))}}function r(n,e){var r=t.call(this,n,e,this.getAttributeNS(u.space,u.local));return r&&function(n){this.setAttributeNS(u.space,u.local,r(n))}}var u=$o.ns.qualify(n);return this.tween(\"attr.\"+n,u.local?r:e)},Cs.style=function(n,t,e){function r(){this.style.removeProperty(n)}function u(t){return null==t?r:(t+=\"\",function(){var r,u=Ko.getComputedStyle(this,null).getPropertyValue(n);return u!==t&&(r=qr(u,t),function(t){this.style.setProperty(n,r(t),e)})})}var i=arguments.length;if(3>i){if(\"string\"!=typeof n){2>i&&(t=\"\");for(e in n)this.style(e,n[e],t);return this}e=\"\"}return eo(this,\"style.\"+n,t,u)},Cs.styleTween=function(n,t,e){function r(r,u){var i=t.call(this,r,u,Ko.getComputedStyle(this,null).getPropertyValue(n));return i&&function(t){this.style.setProperty(n,i(t),e)}}return arguments.length<3&&(e=\"\"),this.tween(\"style.\"+n,r)},Cs.text=function(n){return eo(this,\"text\",n,ro)},Cs.remove=function(){return this.each(\"end.transition\",function(){var n;this.__transition__.count<2&&(n=this.parentNode)&&n.removeChild(this)})},Cs.ease=function(n){var t=this.id;return arguments.length<1?this.node().__transition__[t].ease:(\"function\"!=typeof n&&(n=$o.ease.apply($o,arguments)),C(this,function(e){e.__transition__[t].ease=n}))},Cs.delay=function(n){var t=this.id;return C(this,\"function\"==typeof n?function(e,r,u){e.__transition__[t].delay=+n.call(e,e.__data__,r,u)}:(n=+n,function(e){e.__transition__[t].delay=n}))},Cs.duration=function(n){var t=this.id;return C(this,\"function\"==typeof n?function(e,r,u){e.__transition__[t].duration=Math.max(1,n.call(e,e.__data__,r,u))}:(n=Math.max(1,n),function(e){e.__transition__[t].duration=n}))},Cs.each=function(n,t){var e=this.id;if(arguments.length<2){var r=ks,u=Ss;Ss=e,C(this,function(t,r,u){ks=t.__transition__[e],n.call(t,t.__data__,r,u)}),ks=r,Ss=u}else C(this,function(r){var u=r.__transition__[e];(u.event||(u.event=$o.dispatch(\"start\",\"end\"))).on(n,t)});return this},Cs.transition=function(){for(var n,t,e,r,u=this.id,i=++Ns,o=[],a=0,c=this.length;c>a;a++){o.push(n=[]);for(var t=this[a],s=0,l=t.length;l>s;s++)(e=t[s])&&(r=Object.create(e.__transition__[u]),r.delay+=r.duration,uo(e,s,i,r)),n.push(e)}return to(o,i)},$o.svg.axis=function(){function n(n){n.each(function(){var n,s=$o.select(this),l=this.__chart__||e,f=this.__chart__=e.copy(),h=null==c?f.ticks?f.ticks.apply(f,a):f.domain():c,g=null==t?f.tickFormat?f.tickFormat.apply(f,a):vt:t,p=s.selectAll(\".tick\").data(h,f),v=p.enter().insert(\"g\",\".domain\").attr(\"class\",\"tick\").style(\"opacity\",Ca),d=$o.transition(p.exit()).style(\"opacity\",Ca).remove(),m=$o.transition(p).style(\"opacity\",1),y=ti(f),x=s.selectAll(\".domain\").data([0]),M=(x.enter().append(\"path\").attr(\"class\",\"domain\"),$o.transition(x));v.append(\"line\"),v.append(\"text\");var _=v.select(\"line\"),b=m.select(\"line\"),w=p.select(\"text\").text(g),S=v.select(\"text\"),k=m.select(\"text\");switch(r){case\"bottom\":n=io,_.attr(\"y2\",u),S.attr(\"y\",Math.max(u,0)+o),b.attr(\"x2\",0).attr(\"y2\",u),k.attr(\"x\",0).attr(\"y\",Math.max(u,0)+o),w.attr(\"dy\",\".71em\").style(\"text-anchor\",\"middle\"),M.attr(\"d\",\"M\"+y[0]+\",\"+i+\"V0H\"+y[1]+\"V\"+i);break;case\"top\":n=io,_.attr(\"y2\",-u),S.attr(\"y\",-(Math.max(u,0)+o)),b.attr(\"x2\",0).attr(\"y2\",-u),k.attr(\"x\",0).attr(\"y\",-(Math.max(u,0)+o)),w.attr(\"dy\",\"0em\").style(\"text-anchor\",\"middle\"),M.attr(\"d\",\"M\"+y[0]+\",\"+-i+\"V0H\"+y[1]+\"V\"+-i);break;case\"left\":n=oo,_.attr(\"x2\",-u),S.attr(\"x\",-(Math.max(u,0)+o)),b.attr(\"x2\",-u).attr(\"y2\",0),k.attr(\"x\",-(Math.max(u,0)+o)).attr(\"y\",0),w.attr(\"dy\",\".32em\").style(\"text-anchor\",\"end\"),M.attr(\"d\",\"M\"+-i+\",\"+y[0]+\"H0V\"+y[1]+\"H\"+-i);break;case\"right\":n=oo,_.attr(\"x2\",u),S.attr(\"x\",Math.max(u,0)+o),b.attr(\"x2\",u).attr(\"y2\",0),k.attr(\"x\",Math.max(u,0)+o).attr(\"y\",0),w.attr(\"dy\",\".32em\").style(\"text-anchor\",\"start\"),M.attr(\"d\",\"M\"+i+\",\"+y[0]+\"H0V\"+y[1]+\"H\"+i)}if(f.rangeBand){var E=f,A=E.rangeBand()/2;l=f=function(n){return E(n)+A}}else l.rangeBand?l=f:d.call(n,f);v.call(n,l),m.call(n,f)})}var t,e=$o.scale.linear(),r=Ls,u=6,i=6,o=3,a=[10],c=null;return n.scale=function(t){return arguments.length?(e=t,n):e},n.orient=function(t){return arguments.length?(r=t in Ts?t+\"\":Ls,n):r},n.ticks=function(){return arguments.length?(a=arguments,n):a},n.tickValues=function(t){return arguments.length?(c=t,n):c},n.tickFormat=function(e){return arguments.length?(t=e,n):t},n.tickSize=function(t){var e=arguments.length;return e?(u=+t,i=+arguments[e-1],n):u},n.innerTickSize=function(t){return arguments.length?(u=+t,n):u},n.outerTickSize=function(t){return arguments.length?(i=+t,n):i},n.tickPadding=function(t){return arguments.length?(o=+t,n):o},n.tickSubdivide=function(){return arguments.length&&n},n};var Ls=\"bottom\",Ts={top:1,right:1,bottom:1,left:1};$o.svg.brush=function(){function n(i){i.each(function(){var i=$o.select(this).style(\"pointer-events\",\"all\").style(\"-webkit-tap-highlight-color\",\"rgba(0,0,0,0)\").on(\"mousedown.brush\",u).on(\"touchstart.brush\",u),o=i.selectAll(\".background\").data([0]);o.enter().append(\"rect\").attr(\"class\",\"background\").style(\"visibility\",\"hidden\").style(\"cursor\",\"crosshair\"),i.selectAll(\".extent\").data([0]).enter().append(\"rect\").attr(\"class\",\"extent\").style(\"cursor\",\"move\");var a=i.selectAll(\".resize\").data(d,vt);a.exit().remove(),a.enter().append(\"g\").attr(\"class\",function(n){return\"resize \"+n}).style(\"cursor\",function(n){return qs[n]}).append(\"rect\").attr(\"x\",function(n){return/[ew]$/.test(n)?-3:null}).attr(\"y\",function(n){return/^[ns]/.test(n)?-3:null}).attr(\"width\",6).attr(\"height\",6).style(\"visibility\",\"hidden\"),a.style(\"display\",n.empty()?\"none\":null);var l,f=$o.transition(i),h=$o.transition(o);c&&(l=ti(c),h.attr(\"x\",l[0]).attr(\"width\",l[1]-l[0]),e(f)),s&&(l=ti(s),h.attr(\"y\",l[0]).attr(\"height\",l[1]-l[0]),r(f)),t(f)})}function t(n){n.selectAll(\".resize\").attr(\"transform\",function(n){return\"translate(\"+l[+/e$/.test(n)]+\",\"+h[+/^s/.test(n)]+\")\"})}function e(n){n.select(\".extent\").attr(\"x\",l[0]),n.selectAll(\".extent,.n>rect,.s>rect\").attr(\"width\",l[1]-l[0])}function r(n){n.select(\".extent\").attr(\"y\",h[0]),n.selectAll(\".extent,.e>rect,.w>rect\").attr(\"height\",h[1]-h[0])}function u(){function u(){32==$o.event.keyCode&&(C||(x=null,L[0]-=l[1],L[1]-=h[1],C=2),f())}function g(){32==$o.event.keyCode&&2==C&&(L[0]+=l[1],L[1]+=h[1],C=0,f())}function d(){var n=$o.mouse(_),u=!1;M&&(n[0]+=M[0],n[1]+=M[1]),C||($o.event.altKey?(x||(x=[(l[0]+l[1])/2,(h[0]+h[1])/2]),L[0]=l[+(n[0]<x[0])],L[1]=h[+(n[1]<x[1])]):x=null),E&&m(n,c,0)&&(e(S),u=!0),A&&m(n,s,1)&&(r(S),u=!0),u&&(t(S),w({type:\"brush\",mode:C?\"move\":\"resize\"}))}function m(n,t,e){var r,u,a=ti(t),c=a[0],s=a[1],f=L[e],g=e?h:l,d=g[1]-g[0];return C&&(c-=f,s-=d+f),r=(e?v:p)?Math.max(c,Math.min(s,n[e])):n[e],C?u=(r+=f)+d:(x&&(f=Math.max(c,Math.min(s,2*x[e]-r))),r>f?(u=r,r=f):u=f),g[0]!=r||g[1]!=u?(e?o=null:i=null,g[0]=r,g[1]=u,!0):void 0}function y(){d(),S.style(\"pointer-events\",\"all\").selectAll(\".resize\").style(\"display\",n.empty()?\"none\":null),$o.select(\"body\").style(\"cursor\",null),T.on(\"mousemove.brush\",null).on(\"mouseup.brush\",null).on(\"touchmove.brush\",null).on(\"touchend.brush\",null).on(\"keydown.brush\",null).on(\"keyup.brush\",null),N(),w({type:\"brushend\"})}var x,M,_=this,b=$o.select($o.event.target),w=a.of(_,arguments),S=$o.select(_),k=b.datum(),E=!/^(n|s)$/.test(k)&&c,A=!/^(e|w)$/.test(k)&&s,C=b.classed(\"extent\"),N=D(),L=$o.mouse(_),T=$o.select(Ko).on(\"keydown.brush\",u).on(\"keyup.brush\",g);if($o.event.changedTouches?T.on(\"touchmove.brush\",d).on(\"touchend.brush\",y):T.on(\"mousemove.brush\",d).on(\"mouseup.brush\",y),S.interrupt().selectAll(\"*\").interrupt(),C)L[0]=l[0]-L[0],L[1]=h[0]-L[1];else if(k){var q=+/w$/.test(k),z=+/^n/.test(k);M=[l[1-q]-L[0],h[1-z]-L[1]],L[0]=l[q],L[1]=h[z]}else $o.event.altKey&&(x=L.slice());S.style(\"pointer-events\",\"none\").selectAll(\".resize\").style(\"display\",null),$o.select(\"body\").style(\"cursor\",b.style(\"cursor\")),w({type:\"brushstart\"}),d()}var i,o,a=g(n,\"brushstart\",\"brush\",\"brushend\"),c=null,s=null,l=[0,0],h=[0,0],p=!0,v=!0,d=zs[0];return n.event=function(n){n.each(function(){var n=a.of(this,arguments),t={x:l,y:h,i:i,j:o},e=this.__chart__||t;this.__chart__=t,Ss?$o.select(this).transition().each(\"start.brush\",function(){i=e.i,o=e.j,l=e.x,h=e.y,n({type:\"brushstart\"})}).tween(\"brush:brush\",function(){var e=zr(l,t.x),r=zr(h,t.y);return i=o=null,function(u){l=t.x=e(u),h=t.y=r(u),n({type:\"brush\",mode:\"resize\"})}}).each(\"end.brush\",function(){i=t.i,o=t.j,n({type:\"brush\",mode:\"resize\"}),n({type:\"brushend\"})}):(n({type:\"brushstart\"}),n({type:\"brush\",mode:\"resize\"}),n({type:\"brushend\"}))})},n.x=function(t){return arguments.length?(c=t,d=zs[!c<<1|!s],n):c},n.y=function(t){return arguments.length?(s=t,d=zs[!c<<1|!s],n):s},n.clamp=function(t){return arguments.length?(c&&s?(p=!!t[0],v=!!t[1]):c?p=!!t:s&&(v=!!t),n):c&&s?[p,v]:c?p:s?v:null},n.extent=function(t){var e,r,u,a,f;return arguments.length?(c&&(e=t[0],r=t[1],s&&(e=e[0],r=r[0]),i=[e,r],c.invert&&(e=c(e),r=c(r)),e>r&&(f=e,e=r,r=f),(e!=l[0]||r!=l[1])&&(l=[e,r])),s&&(u=t[0],a=t[1],c&&(u=u[1],a=a[1]),o=[u,a],s.invert&&(u=s(u),a=s(a)),u>a&&(f=u,u=a,a=f),(u!=h[0]||a!=h[1])&&(h=[u,a])),n):(c&&(i?(e=i[0],r=i[1]):(e=l[0],r=l[1],c.invert&&(e=c.invert(e),r=c.invert(r)),e>r&&(f=e,e=r,r=f))),s&&(o?(u=o[0],a=o[1]):(u=h[0],a=h[1],s.invert&&(u=s.invert(u),a=s.invert(a)),u>a&&(f=u,u=a,a=f))),c&&s?[[e,u],[r,a]]:c?[e,r]:s&&[u,a])},n.clear=function(){return n.empty()||(l=[0,0],h=[0,0],i=o=null),n},n.empty=function(){return!!c&&l[0]==l[1]||!!s&&h[0]==h[1]},$o.rebind(n,a,\"on\")};var qs={n:\"ns-resize\",e:\"ew-resize\",s:\"ns-resize\",w:\"ew-resize\",nw:\"nwse-resize\",ne:\"nesw-resize\",se:\"nwse-resize\",sw:\"nesw-resize\"},zs=[[\"n\",\"e\",\"s\",\"w\",\"nw\",\"ne\",\"se\",\"sw\"],[\"e\",\"w\"],[\"n\",\"s\"],[]],Rs=$o.time={},Ds=Date,Ps=[\"Sunday\",\"Monday\",\"Tuesday\",\"Wednesday\",\"Thursday\",\"Friday\",\"Saturday\"];ao.prototype={getDate:function(){return this._.getUTCDate()},getDay:function(){return this._.getUTCDay()},getFullYear:function(){return this._.getUTCFullYear()},getHours:function(){return this._.getUTCHours()},getMilliseconds:function(){return this._.getUTCMilliseconds()},getMinutes:function(){return this._.getUTCMinutes()},getMonth:function(){return this._.getUTCMonth()},getSeconds:function(){return this._.getUTCSeconds()},getTime:function(){return this._.getTime()},getTimezoneOffset:function(){return 0},valueOf:function(){return this._.valueOf()},setDate:function(){Us.setUTCDate.apply(this._,arguments)},setDay:function(){Us.setUTCDay.apply(this._,arguments)},setFullYear:function(){Us.setUTCFullYear.apply(this._,arguments)},setHours:function(){Us.setUTCHours.apply(this._,arguments)},setMilliseconds:function(){Us.setUTCMilliseconds.apply(this._,arguments)},setMinutes:function(){Us.setUTCMinutes.apply(this._,arguments)},setMonth:function(){Us.setUTCMonth.apply(this._,arguments)},setSeconds:function(){Us.setUTCSeconds.apply(this._,arguments)},setTime:function(){Us.setTime.apply(this._,arguments)}};var Us=Date.prototype,js=\"%a %b %e %X %Y\",Hs=\"%m/%d/%Y\",Fs=\"%H:%M:%S\",Os=[\"Sunday\",\"Monday\",\"Tuesday\",\"Wednesday\",\"Thursday\",\"Friday\",\"Saturday\"],Ys=[\"Sun\",\"Mon\",\"Tue\",\"Wed\",\"Thu\",\"Fri\",\"Sat\"],Is=[\"January\",\"February\",\"March\",\"April\",\"May\",\"June\",\"July\",\"August\",\"September\",\"October\",\"November\",\"December\"],Zs=[\"Jan\",\"Feb\",\"Mar\",\"Apr\",\"May\",\"Jun\",\"Jul\",\"Aug\",\"Sep\",\"Oct\",\"Nov\",\"Dec\"];Rs.year=co(function(n){return n=Rs.day(n),n.setMonth(0,1),n},function(n,t){n.setFullYear(n.getFullYear()+t)},function(n){return n.getFullYear()}),Rs.years=Rs.year.range,Rs.years.utc=Rs.year.utc.range,Rs.day=co(function(n){var t=new Ds(2e3,0);return t.setFullYear(n.getFullYear(),n.getMonth(),n.getDate()),t},function(n,t){n.setDate(n.getDate()+t)},function(n){return n.getDate()-1}),Rs.days=Rs.day.range,Rs.days.utc=Rs.day.utc.range,Rs.dayOfYear=function(n){var t=Rs.year(n);return Math.floor((n-t-6e4*(n.getTimezoneOffset()-t.getTimezoneOffset()))/864e5)},Ps.forEach(function(n,t){n=n.toLowerCase(),t=7-t;var e=Rs[n]=co(function(n){return(n=Rs.day(n)).setDate(n.getDate()-(n.getDay()+t)%7),n},function(n,t){n.setDate(n.getDate()+7*Math.floor(t))},function(n){var e=Rs.year(n).getDay();return Math.floor((Rs.dayOfYear(n)+(e+t)%7)/7)-(e!==t)});Rs[n+\"s\"]=e.range,Rs[n+\"s\"].utc=e.utc.range,Rs[n+\"OfYear\"]=function(n){var e=Rs.year(n).getDay();return Math.floor((Rs.dayOfYear(n)+(e+t)%7)/7)}}),Rs.week=Rs.sunday,Rs.weeks=Rs.sunday.range,Rs.weeks.utc=Rs.sunday.utc.range,Rs.weekOfYear=Rs.sundayOfYear,Rs.format=lo;var Vs=ho(Os),Xs=go(Os),$s=ho(Ys),Bs=go(Ys),Ws=ho(Is),Js=go(Is),Gs=ho(Zs),Ks=go(Zs),Qs=/^%/,nl={\"-\":\"\",_:\" \",0:\"0\"},tl={a:function(n){return Ys[n.getDay()]},A:function(n){return Os[n.getDay()]},b:function(n){return Zs[n.getMonth()]},B:function(n){return Is[n.getMonth()]},c:lo(js),d:function(n,t){return po(n.getDate(),t,2)},e:function(n,t){return po(n.getDate(),t,2)},H:function(n,t){return po(n.getHours(),t,2)},I:function(n,t){return po(n.getHours()%12||12,t,2)},j:function(n,t){return po(1+Rs.dayOfYear(n),t,3)},L:function(n,t){return po(n.getMilliseconds(),t,3)},m:function(n,t){return po(n.getMonth()+1,t,2)},M:function(n,t){return po(n.getMinutes(),t,2)},p:function(n){return n.getHours()>=12?\"PM\":\"AM\"},S:function(n,t){return po(n.getSeconds(),t,2)},U:function(n,t){return po(Rs.sundayOfYear(n),t,2)},w:function(n){return n.getDay()},W:function(n,t){return po(Rs.mondayOfYear(n),t,2)},x:lo(Hs),X:lo(Fs),y:function(n,t){return po(n.getFullYear()%100,t,2)},Y:function(n,t){return po(n.getFullYear()%1e4,t,4)},Z:jo,\"%\":function(){return\"%\"}},el={a:vo,A:mo,b:_o,B:bo,c:wo,d:To,e:To,H:zo,I:zo,j:qo,L:Po,m:Lo,M:Ro,p:Uo,S:Do,U:xo,w:yo,W:Mo,x:So,X:ko,y:Ao,Y:Eo,Z:Co,\"%\":Ho},rl=/^\\s*\\d+/,ul=$o.map({am:0,pm:1});lo.utc=Fo;var il=Fo(\"%Y-%m-%dT%H:%M:%S.%LZ\");lo.iso=Date.prototype.toISOString&&+new Date(\"2000-01-01T00:00:00.000Z\")?Oo:il,Oo.parse=function(n){var t=new Date(n);return isNaN(t)?null:t},Oo.toString=il.toString,Rs.second=co(function(n){return new Ds(1e3*Math.floor(n/1e3))},function(n,t){n.setTime(n.getTime()+1e3*Math.floor(t))},function(n){return n.getSeconds()}),Rs.seconds=Rs.second.range,Rs.seconds.utc=Rs.second.utc.range,Rs.minute=co(function(n){return new Ds(6e4*Math.floor(n/6e4))},function(n,t){n.setTime(n.getTime()+6e4*Math.floor(t))},function(n){return n.getMinutes()}),Rs.minutes=Rs.minute.range,Rs.minutes.utc=Rs.minute.utc.range,Rs.hour=co(function(n){var t=n.getTimezoneOffset()/60;return new Ds(36e5*(Math.floor(n/36e5-t)+t))},function(n,t){n.setTime(n.getTime()+36e5*Math.floor(t))},function(n){return n.getHours()}),Rs.hours=Rs.hour.range,Rs.hours.utc=Rs.hour.utc.range,Rs.month=co(function(n){return n=Rs.day(n),n.setDate(1),n},function(n,t){n.setMonth(n.getMonth()+t)},function(n){return n.getMonth()}),Rs.months=Rs.month.range,Rs.months.utc=Rs.month.utc.range;var ol=[1e3,5e3,15e3,3e4,6e4,3e5,9e5,18e5,36e5,108e5,216e5,432e5,864e5,1728e5,6048e5,2592e6,7776e6,31536e6],al=[[Rs.second,1],[Rs.second,5],[Rs.second,15],[Rs.second,30],[Rs.minute,1],[Rs.minute,5],[Rs.minute,15],[Rs.minute,30],[Rs.hour,1],[Rs.hour,3],[Rs.hour,6],[Rs.hour,12],[Rs.day,1],[Rs.day,2],[Rs.week,1],[Rs.month,1],[Rs.month,3],[Rs.year,1]],cl=[[lo(\"%Y\"),Zt],[lo(\"%B\"),function(n){return n.getMonth()}],[lo(\"%b %d\"),function(n){return 1!=n.getDate()}],[lo(\"%a %d\"),function(n){return n.getDay()&&1!=n.getDate()}],[lo(\"%I %p\"),function(n){return n.getHours()}],[lo(\"%I:%M\"),function(n){return n.getMinutes()}],[lo(\":%S\"),function(n){return n.getSeconds()}],[lo(\".%L\"),function(n){return n.getMilliseconds()}]],sl=Zo(cl);al.year=Rs.year,Rs.scale=function(){return Yo($o.scale.linear(),al,sl)};var ll={range:function(n,t,e){return $o.range(+n,+t,e).map(Io)}},fl=al.map(function(n){return[n[0].utc,n[1]]}),hl=[[Fo(\"%Y\"),Zt],[Fo(\"%B\"),function(n){return n.getUTCMonth()}],[Fo(\"%b %d\"),function(n){return 1!=n.getUTCDate()}],[Fo(\"%a %d\"),function(n){return n.getUTCDay()&&1!=n.getUTCDate()}],[Fo(\"%I %p\"),function(n){return n.getUTCHours()}],[Fo(\"%I:%M\"),function(n){return n.getUTCMinutes()}],[Fo(\":%S\"),function(n){return n.getUTCSeconds()}],[Fo(\".%L\"),function(n){return n.getUTCMilliseconds()}]],gl=Zo(hl);return fl.year=Rs.year.utc,Rs.scale.utc=function(){return Yo($o.scale.linear(),fl,gl)},$o.text=dt(function(n){return n.responseText}),$o.json=function(n,t){return mt(n,\"application/json\",Vo,t)},$o.html=function(n,t){return mt(n,\"text/html\",Xo,t)},$o.xml=dt(function(n){return n.responseXML}),$o}();</script>"
       ],
       "metadata": {},
       "output_type": "display_data"
      },
      {
       "html": [
        "<script charset=\"utf-8\">\n",
        "\n",
        "// Minimum and maximum scale extents\n",
        "var MIN_SCALE = 1.0/3.0;\n",
        "var MAX_SCALE = 10.0;\n",
        "\n",
        "\n",
        "// Traverse upwards from a d3 selection to find and return the first\n",
        "// node with \"plotroot\" class.\n",
        "var getplotroot = function(selection)  {\n",
        "    var node = selection.node();\n",
        "    while (node && node.classList && !node.classList.contains(\"plotroot\")) {\n",
        "        node = node.parentNode;\n",
        "    }\n",
        "    return d3.select(node);\n",
        "};\n",
        "\n",
        "\n",
        "// Construct a callback for toggling geometries on/off using color groupings.\n",
        "//\n",
        "// Args:\n",
        "//   colorclass: class names assigned to geometries belonging to a paricular\n",
        "//               color group.\n",
        "//\n",
        "// Returns:\n",
        "//   A callback function.\n",
        "//\n",
        "var guide_toggle_color = function(colorclass) {\n",
        "    var visible = true;\n",
        "    return (function() {\n",
        "        var root = getplotroot(d3.select(this));\n",
        "        if (visible) {\n",
        "            d3.select(this)\n",
        "              .transition()\n",
        "              .duration(250)\n",
        "              .style(\"opacity\", 0.5);\n",
        "            root.selectAll(\".geometry.\" + colorclass)\n",
        "                .transition()\n",
        "                .duration(250)\n",
        "                .style(\"opacity\", 0);\n",
        "            visible = false;\n",
        "        } else {\n",
        "            d3.select(this)\n",
        "              .transition()\n",
        "              .duration(250)\n",
        "              .style(\"opacity\", 1.0);\n",
        "            root.selectAll(\".geometry.\" + colorclass)\n",
        "                .transition()\n",
        "                .duration(250)\n",
        "                .style(\"opacity\", 1.0);\n",
        "            visible = true;\n",
        "        }\n",
        "    });\n",
        "};\n",
        "\n",
        "\n",
        "// Construct a callback used to toggle highly-visibility grid lines.\n",
        "//\n",
        "// Args:\n",
        "//   color: Faded-in/faded-out color, respectively.\n",
        "//\n",
        "// Returns:\n",
        "//   Callback function.\n",
        "//\n",
        "var guide_background_mouseover = function(color) {\n",
        "    return (function () {\n",
        "        var root = getplotroot(d3.select(this));\n",
        "        root.selectAll(\".xgridlines, .ygridlines\")\n",
        "            .transition()\n",
        "            .duration(250)\n",
        "            .attr(\"stroke\", color);\n",
        "\n",
        "        root.selectAll(\".zoomslider\")\n",
        "            .transition()\n",
        "            .duration(250)\n",
        "            .attr(\"opacity\", 1.0);\n",
        "    });\n",
        "};\n",
        "\n",
        "var guide_background_mouseout = function(color) {\n",
        "    return (function () {\n",
        "        var root = getplotroot(d3.select(this));\n",
        "        root.selectAll(\".xgridlines, .ygridlines\")\n",
        "            .transition()\n",
        "            .duration(250)\n",
        "            .attr(\"stroke\", color);\n",
        "\n",
        "        root.selectAll(\".zoomslider\")\n",
        "            .transition()\n",
        "            .duration(250)\n",
        "            .attr(\"opacity\", 0.0);\n",
        "    });\n",
        "};\n",
        "\n",
        "\n",
        "// Construct a call back used for mouseover effects in the point geometry.\n",
        "//\n",
        "// Args:\n",
        "//   scale: Scale for expanded width\n",
        "//   ratio: radius / line-width. This is necessary to maintain relative width\n",
        "//          at arbitraty levels of zoom\n",
        "//\n",
        "// Returns:\n",
        "//  Callback function.\n",
        "//\n",
        "var geom_point_mouseover = function(scale, ratio) {\n",
        "    return (function() {\n",
        "        var lw = this.getAttribute('r') * ratio * scale\n",
        "        d3.select(this)\n",
        "          .transition()\n",
        "          .duration(100)\n",
        "          .style(\"stroke-width\", lw + 'px', 'important');\n",
        "    });\n",
        "};\n",
        "\n",
        "// Construct a call back used for mouseout effects in the point geometry.\n",
        "//\n",
        "// Args:\n",
        "//   scale: Scale for expanded width\n",
        "//   ratio: radius / line-width. This is necessary to maintain relative width\n",
        "//          at arbitraty levels of zoom\n",
        "//\n",
        "// Returns:\n",
        "//  Callback function.\n",
        "//\n",
        "var geom_point_mouseout = function(scale, ratio) {\n",
        "    return (function() {\n",
        "        var lw = this.getAttribute('r') * ratio\n",
        "        d3.select(this)\n",
        "          .transition()\n",
        "          .duration(100)\n",
        "          .style(\"stroke-width\", lw + 'px', 'important');\n",
        "    });\n",
        "};\n",
        "\n",
        "// Translate and scale geometry while trying to maintain scale invariance for\n",
        "// certain ellements.\n",
        "//\n",
        "// Args:\n",
        "//   root: d3 selection of the root plot group node.\n",
        "//   t: A transform of the form {\"scale\": scale}\n",
        "//   old_scale: The scaling factor applied prior to t.scale.\n",
        "//\n",
        "var set_geometry_transform = function(root, ctx, old_scale) {\n",
        "    var xscalable = root.node().classList.contains(\"xscalable\");\n",
        "    var yscalable = root.node().classList.contains(\"yscalable\");\n",
        "\n",
        "    var xscale = 1.0;\n",
        "    var tx = 0.0;\n",
        "    if (xscalable) {\n",
        "        xscale = ctx.scale;\n",
        "        tx = ctx.tx;\n",
        "    }\n",
        "\n",
        "    var yscale = 1.0;\n",
        "    var ty = 0.0;\n",
        "    if (yscalable) {\n",
        "        yscale = ctx.scale;\n",
        "        ty = ctx.ty;\n",
        "    }\n",
        "\n",
        "    root.selectAll(\".geometry\")\n",
        "        .attr(\"transform\",\n",
        "          \"translate(\" + tx + \" \" + ty + \") \" +\n",
        "              \"scale(\" + xscale + \" \" + yscale + \")\");\n",
        "\n",
        "    var unscale_factor = old_scale / ctx.scale;\n",
        "\n",
        "    // unscale geometry widths, radiuses, etc.\n",
        "    var size_attribs = [\"r\"];\n",
        "    var size_styles = [\"font-size\", \"stroke-width\"];\n",
        "    root.select(\".plotpanel\")\n",
        "        .selectAll(\"g, .geometry\")\n",
        "        .each(function() {\n",
        "          sel = d3.select(this);\n",
        "          var i;\n",
        "          var key;\n",
        "          var val;\n",
        "          for (i in size_styles) {\n",
        "              key = size_styles[i];\n",
        "              val = sel.style(key);\n",
        "              if (val !== null) {\n",
        "                  // For some reason d3 rounds things like font-sizes to the\n",
        "                  // nearest integer, so we are setting styles directly instead.\n",
        "                  val = parseFloat(val);\n",
        "                  sel.node().style.setProperty(key, unscale_factor * val + \"px\", \"important\");\n",
        "              }\n",
        "          }\n",
        "\n",
        "          for (i in size_attribs) {\n",
        "              key = size_attribs[i];\n",
        "              val = sel.attr(key);\n",
        "              if (val !== null) {\n",
        "                  sel.attr(key, unscale_factor * val);\n",
        "              }\n",
        "          }\n",
        "      });\n",
        "\n",
        "    // TODO:\n",
        "    // Is this going to work when we do things other than circles. Suppose we\n",
        "    // have plots where we have a path drawing some sort of symbol which we want\n",
        "    // to remain size-invariant. Should we be trying to place things using\n",
        "    // translate?\n",
        "\n",
        "    // move axis labels and grid lines around\n",
        "    if (xscalable) {\n",
        "        root.selectAll(\".yfixed\")\n",
        "            .attr(\"transform\", function() {\n",
        "                return \"translate(\" + [ctx.tx, 0.0] + \") \" +\n",
        "                       \"scale(\" + [ctx.scale, 1.0] + \")\";\n",
        "          });\n",
        "\n",
        "        root.selectAll(\".xlabels\")\n",
        "            .attr(\"transform\", function() {\n",
        "              return \"translate(\" + [ctx.tx, 0.0] + \")\";\n",
        "          })\n",
        "          .selectAll(\"text\")\n",
        "            .each(function() {\n",
        "                d3.select(this).attr(\"x\",\n",
        "                    ctx.scale / old_scale * d3.select(this).attr(\"x\"));\n",
        "            });\n",
        "    }\n",
        "\n",
        "    if (yscalable) {\n",
        "        root.selectAll(\".xfixed\")\n",
        "            .attr(\"transform\", function() {\n",
        "              return \"translate(\" + [0.0, ctx.ty] + \") \" +\n",
        "                     \"scale(\" + [1.0, ctx.scale] + \")\";\n",
        "            });\n",
        "\n",
        "        root.selectAll(\".ylabels\")\n",
        "            .attr(\"transform\", function() {\n",
        "              return \"translate(\" + [0.0, ctx.ty] + \")\";\n",
        "            })\n",
        "            .selectAll(\"text\")\n",
        "              .each(function() {\n",
        "                  d3.select(this).attr(\"y\",\n",
        "                      ctx.scale / old_scale * d3.select(this).attr(\"y\"));\n",
        "            });\n",
        "    }\n",
        "\n",
        "    var bbox = root.select(\".guide.background\")\n",
        "                   .select(\"path\").node().getBBox();\n",
        "\n",
        "    // hide/show ticks labels based on their position\n",
        "    root.selectAll(\".xlabels\")\n",
        "        .selectAll(\"text\")\n",
        "        .attr(\"visibility\", function() {\n",
        "            var x = parseInt(d3.select(this).attr(\"x\"), 10) + ctx.tx;\n",
        "            return bbox.x <= x && x <= bbox.x + bbox.width ? \"visible\" : \"hidden\";\n",
        "        });\n",
        "\n",
        "    root.selectAll(\".ylabels\")\n",
        "        .selectAll(\"text\")\n",
        "        .attr(\"visibility\", function() {\n",
        "            var y = parseInt(d3.select(this).attr(\"y\"), 10) + ctx.ty;\n",
        "            return bbox.y <= y && y <= bbox.y + bbox.height ? \"visible\" : \"hidden\";\n",
        "        });\n",
        "};\n",
        "\n",
        "\n",
        "// Construct a callback used for zoombehavior.\n",
        "//\n",
        "// Args:\n",
        "//   t: A transform of the form {\"scale\": scale} to close arround.\n",
        "//\n",
        "// Returns:\n",
        "//   A zoom behavior.\n",
        "//\n",
        "var zoom_behavior = function(ctx) {\n",
        "    var zm = d3.behavior.zoom();\n",
        "    ctx.zoom_behavior = zm;\n",
        "\n",
        "    zm.scaleExtent([MIN_SCALE, MAX_SCALE])\n",
        "      .on(\"zoom\", function(d, i) {\n",
        "        var root = getplotroot(d3.select(this));\n",
        "        old_scale = ctx.scale;\n",
        "        ctx.scale = d3.event.scale;\n",
        "        var bbox = root.select(\".guide.background\")\n",
        "                       .select(\"path\").node().getBBox();\n",
        "\n",
        "        var x_min = -bbox.width * ctx.scale - (ctx.scale * bbox.width - bbox.width);\n",
        "        var x_max = bbox.width * ctx.scale;\n",
        "        var y_min = -bbox.height * ctx.scale - (ctx.scale * bbox.height - bbox.height);\n",
        "        var y_max = bbox.height * ctx.scale;\n",
        "\n",
        "        var x0 = bbox.x - ctx.scale * bbox.x;\n",
        "        var y0 = bbox.y - ctx.scale * bbox.y;\n",
        "\n",
        "        var tx = Math.max(Math.min(d3.event.translate[0] - x0, x_max), x_min);\n",
        "        var ty = Math.max(Math.min(d3.event.translate[1] - y0, y_max), y_min);\n",
        "\n",
        "        tx += x0;\n",
        "        ty += y0;\n",
        "\n",
        "        ctx.tx = tx;\n",
        "        ctx.ty = ty;\n",
        "\n",
        "        set_geometry_transform(\n",
        "            root,\n",
        "            {\"tx\": tx,\n",
        "             \"ty\": ty,\n",
        "             \"scale\": ctx.scale}, old_scale);\n",
        "        zm.translate([tx, ty]);\n",
        "\n",
        "        update_zoomslider(root, ctx);\n",
        "      });\n",
        "\n",
        "\n",
        "    return (function (g) {\n",
        "        zm(g);\n",
        "        default_handler = g.on(\"wheel.zoom\");\n",
        "        function wheelhandler() {\n",
        "        if (d3.event.shiftKey) {\n",
        "                default_handler.call(this);\n",
        "                d3.event.stopPropagation();\n",
        "            }\n",
        "        }\n",
        "        g.on(\"wheel.zoom\", wheelhandler)\n",
        "         .on(\"mousewheel.zoom\", wheelhandler)\n",
        "         .on(\"DOMMouseScroll.zoom\", wheelhandler);\n",
        "    });\n",
        "};\n",
        "\n",
        "\n",
        "var slider_position_from_scale = function(scale) {\n",
        "    if (scale >= 1.0) {\n",
        "        return 0.5 + 0.5 * (Math.log(scale) / Math.log(MAX_SCALE));\n",
        "    }\n",
        "    else {\n",
        "        return 0.5 * (Math.log(scale) - Math.log(MIN_SCALE)) / (0 - Math.log(MIN_SCALE));\n",
        "    }\n",
        "};\n",
        "\n",
        "\n",
        "// Construct a call\n",
        "var zoomslider_behavior = function(ctx, min_extent, max_extent) {\n",
        "    var drag = d3.behavior.drag();\n",
        "    ctx.zoomslider_behavior = drag;\n",
        "    ctx.min_zoomslider_extent = min_extent;\n",
        "    ctx.max_zoomslider_extent = max_extent;\n",
        "\n",
        "    drag.on(\"drag\", function() {\n",
        "        var xmid = (min_extent + max_extent) / 2;\n",
        "        var new_scale;\n",
        "\n",
        "        // current slider posisition\n",
        "        var xpos = slider_position_from_scale(ctx.scale) +\n",
        "            (d3.event.dx / (max_extent - min_extent));\n",
        "\n",
        "        // new scale\n",
        "        if (xpos >= 0.5) {\n",
        "            new_scale = Math.exp(2.0 * (xpos - 0.5) * Math.log(MAX_SCALE));\n",
        "        }\n",
        "        else {\n",
        "            new_scale = Math.exp(2.0 * xpos * (0 - Math.log(MIN_SCALE)) +\n",
        "                Math.log(MIN_SCALE));\n",
        "        }\n",
        "        new_scale = Math.min(MAX_SCALE, Math.max(MIN_SCALE, new_scale));\n",
        "\n",
        "        // update scale\n",
        "        var root = getplotroot(d3.select(this));\n",
        "        var new_trans = scale_centered_translation(root, ctx, new_scale);\n",
        "\n",
        "        ctx.zoom_behavior.scale(new_scale);\n",
        "        ctx.zoom_behavior.translate(new_trans);\n",
        "        ctx.zoom_behavior.event(root);\n",
        "\n",
        "        // Note: the zoom event will take care of repositioning the slider thumb\n",
        "    });\n",
        "\n",
        "    drag.on(\"dragstart\", function() {\n",
        "        d3.event.sourceEvent.stopPropagation();\n",
        "    });\n",
        "\n",
        "    return drag;\n",
        "};\n",
        "\n",
        "\n",
        "// Reposition the zoom slider thumb based on the current scale\n",
        "var update_zoomslider = function(root, ctx) {\n",
        "    var xmid = (ctx.min_zoomslider_extent + ctx.max_zoomslider_extent) / 2;\n",
        "    var xpos = ctx.min_zoomslider_extent +\n",
        "        ((ctx.max_zoomslider_extent - ctx.min_zoomslider_extent) *\n",
        "            slider_position_from_scale(ctx.scale));\n",
        "    root.select(\".zoomslider_thumb\")\n",
        "        .attr(\"transform\", \"translate(\" + (xpos - xmid) + \" \" + 0 + \")\");\n",
        "};\n",
        "\n",
        "\n",
        "// Compute the translation needed to change the scale when keeping the plot\n",
        "// centered.\n",
        "scale_centered_translation = function(root, ctx, new_scale) {\n",
        "    var bbox = root.select(\".guide.background\")\n",
        "                   .select(\"path\").node().getBBox();\n",
        "\n",
        "    // how off from center the current view is\n",
        "    var xoff = ctx.zoom_behavior.translate()[0] -\n",
        "              (bbox.x * (1 - ctx.scale) + (bbox.width * (1 - ctx.scale)) / 2);\n",
        "    var yoff = ctx.zoom_behavior.translate()[1] -\n",
        "              (bbox.y * (1 - ctx.scale) + (bbox.height * (1 - ctx.scale)) / 2);\n",
        "\n",
        "    // rescale offsets\n",
        "    xoff = xoff * new_scale / ctx.scale;\n",
        "    yoff = yoff * new_scale / ctx.scale;\n",
        "\n",
        "    // adjust for the panel position being scaled\n",
        "    var x_edge_adjust = bbox.x * (1 - new_scale);\n",
        "    var y_edge_adjust = bbox.y * (1 - new_scale);\n",
        "\n",
        "    return [xoff + x_edge_adjust + (bbox.width - bbox.width * new_scale) / 2,\n",
        "            yoff + y_edge_adjust + (bbox.height - bbox.height * new_scale) / 2];\n",
        "};\n",
        "\n",
        "\n",
        "// jump to a new scale with a nice transition\n",
        "var zoom_step = function(root, ctx, new_scale) {\n",
        "    var bbox = root.select(\".guide.background\")\n",
        "                   .select(\"path\").node().getBBox();\n",
        "    ctx.zoom_behavior.size([bbox.width, bbox.height]);\n",
        "    new_trans = scale_centered_translation(root, ctx, new_scale);\n",
        "\n",
        "    root.transition()\n",
        "        .duration(250)\n",
        "        .tween(\"zoom\", function()  {\n",
        "            var trans_interp = d3.interpolate(ctx.zoom_behavior.translate(), new_trans);\n",
        "            var scale_interp = d3.interpolate(ctx.zoom_behavior.scale(), new_scale);\n",
        "            return function (t) {\n",
        "                ctx.zoom_behavior.translate(trans_interp(t))\n",
        "                                 .scale(scale_interp(t));\n",
        "                ctx.zoom_behavior.event(root);\n",
        "            };\n",
        "        });\n",
        "};\n",
        "\n",
        "\n",
        "// Handlers for clicking the zoom in or zoom out buttons.\n",
        "var zoomout_behavior = function(ctx) {\n",
        "    return (function() {\n",
        "        var new_scale = Math.max(MIN_SCALE, ctx.scale / 1.5);\n",
        "        var root = getplotroot(d3.select(this));\n",
        "        zoom_step(root, ctx, new_scale);\n",
        "        d3.event.stopPropagation();\n",
        "    });\n",
        "};\n",
        "\n",
        "\n",
        "var zoomin_behavior = function(ctx) {\n",
        "    return (function() {\n",
        "        var new_scale = Math.min(MAX_SCALE, ctx.scale * 1.5);\n",
        "        var root = getplotroot(d3.select(this));\n",
        "        zoom_step(root, ctx, new_scale);\n",
        "        d3.event.stopPropagation();\n",
        "    });\n",
        "};\n",
        "\n",
        "\n",
        "var zoomslider_track_behavior = function(ctx, min_extent, max_extent) {\n",
        "    return (function() {\n",
        "        var xpos = slider_position_from_scale(ctx.scale);\n",
        "        var bbox = this.getBBox();\n",
        "        var xclick = (d3.mouse(this)[0] - bbox.x) / bbox.width;\n",
        "        var root = getplotroot(d3.select(this));\n",
        "        var new_scale;\n",
        "        if (xclick < xpos) {\n",
        "            new_scale = Math.max(MIN_SCALE, ctx.scale / 1.5);\n",
        "            zoom_step(root, ctx, new_scale);\n",
        "        }\n",
        "        else {\n",
        "            new_scale = Math.min(MAX_SCALE, ctx.scale * 1.5);\n",
        "            zoom_step(root, ctx, new_scale);\n",
        "        }\n",
        "        d3.event.stopPropagation();\n",
        "    });\n",
        "};\n",
        "\n",
        "\n",
        "// Mouseover effects for zoom slider\n",
        "var zoomslider_button_mouseover = function(destcolor) {\n",
        "    return (function() {\n",
        "        d3.select(this)\n",
        "          .selectAll(\".button_logo\")\n",
        "          .transition()\n",
        "          .duration(150)\n",
        "          .attr(\"fill\", destcolor);\n",
        "    });\n",
        "};\n",
        "\n",
        "\n",
        "var zoomslider_thumb_mouseover = function(destcolor) {\n",
        "    return (function() {\n",
        "        d3.select(this)\n",
        "          .transition()\n",
        "          .duration(150)\n",
        "          .attr(\"fill\", destcolor);\n",
        "    });\n",
        "};\n",
        "\n",
        "//@ sourceURL=gadfly.js\n",
        "</script>"
       ],
       "metadata": {},
       "output_type": "display_data"
      },
      {
       "output_type": "stream",
       "stream": "stderr",
       "text": [
        "Warning: New definition \n",
        "    *(Any"
       ]
      },
      {
       "output_type": "stream",
       "stream": "stderr",
       "text": [
        ",T<:NonSIUnit{BaseUnit<:SIUnit{m,kg,s,A,K,mol,cd},Unit}) at /Users/jiahao/.julia/v0.3/SIUnits/src/SIUnits.jl:448\n",
        "is ambiguous with: \n",
        "    *(MeasureNil,Any) at /Users/jiahao/.julia/v0.3/Compose/src/measure.jl:39.\n",
        "To fix, define \n",
        "    *(MeasureNil,T<:NonSIUnit{BaseUnit<:SIUnit{m,kg,s,A,K,mol,cd},Unit})"
       ]
      }
     ],
     "prompt_number": 1
    },
    {
     "cell_type": "markdown",
     "metadata": {},
     "source": [
      "## Color vision and the visible spectrum\n",
      "\n",
      "Physically speaking, light is radiation in the form of electromagnetic waves, and can therefore be quantified by certain characteristics such as wavelength and amplitude. Color theory studies how such characteristics get translated into a sensory perception, of color.\n",
      "\n",
      "The human eye supports two types of vision: [photoptic vision](http://en.wikipedia.org/wiki/Photopic_vision) occurs under bright light, and [scotopic vision](http://en.wikipedia.org/wiki/Scotopic_vision) occurs under dim light. These two modes come from using different types of vision cells, namely cones and rods respectively. Only cones sense color, and are sensitive to light with wavelengths in the range of 350-800 nm. The actual range can vary from person to person.\n",
      "\n",
      "[Color theory](http://en.wikipedia.org/wiki/Color_theory) focuses mainly on photoptic vision in the 380-780 nm region. Computations for color theory are provided by functions in the Julia package `Color.jl`. For example, `cie_color_match` calculates the perceived color produced by monochromatic light, i.e. light waves of a single, pure wavelength."
     ]
    },
    {
     "cell_type": "code",
     "collapsed": false,
     "input": [
      "#Define custom type to plot nicely with rainbow-like swatch\n",
      "type ColorVector{T<:ColorValue} <: AbstractVector{T}\n",
      "    C :: Vector{T}\n",
      "end\n",
      "import Base: size, writemime\n",
      "size(C::ColorVector) = size(C.C)\n",
      "\n",
      "function writemime(io::IO, ::MIME\"image/svg+xml\", cs::ColorVector)\n",
      "    n = length(cs.C)\n",
      "    width=0.5\n",
      "    pad=0\n",
      "    write(io, \"\"\"\n",
      "        <?xml version=\"1.0\" encoding=\"UTF-8\"?>\n",
      "        <!DOCTYPE svg PUBLIC \"-//W3C//DTD SVG 1.1//EN\"\n",
      "         \"http://www.w3.org/Graphics/SVG/1.1/DTD/svg11.dtd\">\n",
      "        <svg xmlns=\"http://www.w3.org/2000/svg\" version=\"1.1\"\n",
      "             width=\"$(n*width)mm\" height=\"25mm\"\n",
      "             shape-rendering=\"crispEdges\">\n",
      "        \"\"\")\n",
      "    for (i, c) in enumerate(cs.C)\n",
      "        write(io,\n",
      "            \"\"\"\n",
      "            <rect x=\"$((i-1)*width)mm\" width=\"$(width - pad)mm\" height=\"100%\"\n",
      "                  fill=\"#$(hex(c))\" stroke=\"none\" />\n",
      "            \"\"\")\n",
      "    end\n",
      "    write(io, \"</svg>\")\n",
      "end\n",
      "\n",
      "rainbow = ColorVector([cie_color_match(\u03bb) for \u03bb=380:1.5:780])"
     ],
     "language": "python",
     "metadata": {},
     "outputs": [
      {
       "metadata": {},
       "output_type": "pyout",
       "prompt_number": 2,
       "svg": [
        "<?xml version=\"1.0\" encoding=\"UTF-8\"?>\n",
        "<!DOCTYPE svg PUBLIC \"-//W3C//DTD SVG 1.1//EN\"\n",
        " \"http://www.w3.org/Graphics/SVG/1.1/DTD/svg11.dtd\">\n",
        "<svg xmlns=\"http://www.w3.org/2000/svg\" version=\"1.1\"\n",
        "     width=\"133.5mm\" height=\"25mm\"\n",
        "     shape-rendering=\"crispEdges\">\n",
        "<rect x=\"0.0mm\" width=\"0.5mm\" height=\"100%\"\n",
        "      fill=\"#040014\" stroke=\"none\" />\n",
        "<rect x=\"0.5mm\" width=\"0.5mm\" height=\"100%\"\n",
        "      fill=\"#040016\" stroke=\"none\" />\n",
        "<rect x=\"1.0mm\" width=\"0.5mm\" height=\"100%\"\n",
        "      fill=\"#050018\" stroke=\"none\" />\n",
        "<rect x=\"1.5mm\" width=\"0.5mm\" height=\"100%\"\n",
        "      fill=\"#06001B\" stroke=\"none\" />\n",
        "<rect x=\"2.0mm\" width=\"0.5mm\" height=\"100%\"\n",
        "      fill=\"#07001E\" stroke=\"none\" />\n",
        "<rect x=\"2.5mm\" width=\"0.5mm\" height=\"100%\"\n",
        "      fill=\"#090022\" stroke=\"none\" />\n",
        "<rect x=\"3.0mm\" width=\"0.5mm\" height=\"100%\"\n",
        "      fill=\"#0A0025\" stroke=\"none\" />\n",
        "<rect x=\"3.5mm\" width=\"0.5mm\" height=\"100%\"\n",
        "      fill=\"#0C002A\" stroke=\"none\" />\n",
        "<rect x=\"4.0mm\" width=\"0.5mm\" height=\"100%\"\n",
        "      fill=\"#0E002E\" stroke=\"none\" />\n",
        "<rect x=\"4.5mm\" width=\"0.5mm\" height=\"100%\"\n",
        "      fill=\"#100032\" stroke=\"none\" />\n",
        "<rect x=\"5.0mm\" width=\"0.5mm\" height=\"100%\"\n",
        "      fill=\"#130037\" stroke=\"none\" />\n",
        "<rect x=\"5.5mm\" width=\"0.5mm\" height=\"100%\"\n",
        "      fill=\"#16003E\" stroke=\"none\" />\n",
        "<rect x=\"6.0mm\" width=\"0.5mm\" height=\"100%\"\n",
        "      fill=\"#190044\" stroke=\"none\" />\n",
        "<rect x=\"6.5mm\" width=\"0.5mm\" height=\"100%\"\n",
        "      fill=\"#1C004A\" stroke=\"none\" />\n",
        "<rect x=\"7.0mm\" width=\"0.5mm\" height=\"100%\"\n",
        "      fill=\"#1E0050\" stroke=\"none\" />\n",
        "<rect x=\"7.5mm\" width=\"0.5mm\" height=\"100%\"\n",
        "      fill=\"#210055\" stroke=\"none\" />\n",
        "<rect x=\"8.0mm\" width=\"0.5mm\" height=\"100%\"\n",
        "      fill=\"#24005B\" stroke=\"none\" />\n",
        "<rect x=\"8.5mm\" width=\"0.5mm\" height=\"100%\"\n",
        "      fill=\"#270063\" stroke=\"none\" />\n",
        "<rect x=\"9.0mm\" width=\"0.5mm\" height=\"100%\"\n",
        "      fill=\"#2B006C\" stroke=\"none\" />\n",
        "<rect x=\"9.5mm\" width=\"0.5mm\" height=\"100%\"\n",
        "      fill=\"#300077\" stroke=\"none\" />\n",
        "<rect x=\"10.0mm\" width=\"0.5mm\" height=\"100%\"\n",
        "      fill=\"#350082\" stroke=\"none\" />\n",
        "<rect x=\"10.5mm\" width=\"0.5mm\" height=\"100%\"\n",
        "      fill=\"#3A008D\" stroke=\"none\" />\n",
        "<rect x=\"11.0mm\" width=\"0.5mm\" height=\"100%\"\n",
        "      fill=\"#3F0098\" stroke=\"none\" />\n",
        "<rect x=\"11.5mm\" width=\"0.5mm\" height=\"100%\"\n",
        "      fill=\"#4500A5\" stroke=\"none\" />\n",
        "<rect x=\"12.0mm\" width=\"0.5mm\" height=\"100%\"\n",
        "      fill=\"#4B00B2\" stroke=\"none\" />\n",
        "<rect x=\"12.5mm\" width=\"0.5mm\" height=\"100%\"\n",
        "      fill=\"#5100C0\" stroke=\"none\" />\n",
        "<rect x=\"13.0mm\" width=\"0.5mm\" height=\"100%\"\n",
        "      fill=\"#5800CE\" stroke=\"none\" />\n",
        "<rect x=\"13.5mm\" width=\"0.5mm\" height=\"100%\"\n",
        "      fill=\"#5E00DE\" stroke=\"none\" />\n",
        "<rect x=\"14.0mm\" width=\"0.5mm\" height=\"100%\"\n",
        "      fill=\"#6500ED\" stroke=\"none\" />\n",
        "<rect x=\"14.5mm\" width=\"0.5mm\" height=\"100%\"\n",
        "      fill=\"#6C00FD\" stroke=\"none\" />\n",
        "<rect x=\"15.0mm\" width=\"0.5mm\" height=\"100%\"\n",
        "      fill=\"#7200FF\" stroke=\"none\" />\n",
        "<rect x=\"15.5mm\" width=\"0.5mm\" height=\"100%\"\n",
        "      fill=\"#7600FF\" stroke=\"none\" />\n",
        "<rect x=\"16.0mm\" width=\"0.5mm\" height=\"100%\"\n",
        "      fill=\"#7A00FF\" stroke=\"none\" />\n",
        "<rect x=\"16.5mm\" width=\"0.5mm\" height=\"100%\"\n",
        "      fill=\"#7E00FF\" stroke=\"none\" />\n",
        "<rect x=\"17.0mm\" width=\"0.5mm\" height=\"100%\"\n",
        "      fill=\"#8000FF\" stroke=\"none\" />\n",
        "<rect x=\"17.5mm\" width=\"0.5mm\" height=\"100%\"\n",
        "      fill=\"#8200FF\" stroke=\"none\" />\n",
        "<rect x=\"18.0mm\" width=\"0.5mm\" height=\"100%\"\n",
        "      fill=\"#8300FF\" stroke=\"none\" />\n",
        "<rect x=\"18.5mm\" width=\"0.5mm\" height=\"100%\"\n",
        "      fill=\"#8400FF\" stroke=\"none\" />\n",
        "<rect x=\"19.0mm\" width=\"0.5mm\" height=\"100%\"\n",
        "      fill=\"#8400FF\" stroke=\"none\" />\n",
        "<rect x=\"19.5mm\" width=\"0.5mm\" height=\"100%\"\n",
        "      fill=\"#8300FF\" stroke=\"none\" />\n",
        "<rect x=\"20.0mm\" width=\"0.5mm\" height=\"100%\"\n",
        "      fill=\"#8200FF\" stroke=\"none\" />\n",
        "<rect x=\"20.5mm\" width=\"0.5mm\" height=\"100%\"\n",
        "      fill=\"#8000FF\" stroke=\"none\" />\n",
        "<rect x=\"21.0mm\" width=\"0.5mm\" height=\"100%\"\n",
        "      fill=\"#7E00FF\" stroke=\"none\" />\n",
        "<rect x=\"21.5mm\" width=\"0.5mm\" height=\"100%\"\n",
        "      fill=\"#7B00FF\" stroke=\"none\" />\n",
        "<rect x=\"22.0mm\" width=\"0.5mm\" height=\"100%\"\n",
        "      fill=\"#7700FF\" stroke=\"none\" />\n",
        "<rect x=\"22.5mm\" width=\"0.5mm\" height=\"100%\"\n",
        "      fill=\"#7300FF\" stroke=\"none\" />\n",
        "<rect x=\"23.0mm\" width=\"0.5mm\" height=\"100%\"\n",
        "      fill=\"#6F00FF\" stroke=\"none\" />\n",
        "<rect x=\"23.5mm\" width=\"0.5mm\" height=\"100%\"\n",
        "      fill=\"#6900FF\" stroke=\"none\" />\n",
        "<rect x=\"24.0mm\" width=\"0.5mm\" height=\"100%\"\n",
        "      fill=\"#6300FF\" stroke=\"none\" />\n",
        "<rect x=\"24.5mm\" width=\"0.5mm\" height=\"100%\"\n",
        "      fill=\"#5C00FF\" stroke=\"none\" />\n",
        "<rect x=\"25.0mm\" width=\"0.5mm\" height=\"100%\"\n",
        "      fill=\"#5400FF\" stroke=\"none\" />\n",
        "<rect x=\"25.5mm\" width=\"0.5mm\" height=\"100%\"\n",
        "      fill=\"#4A00FF\" stroke=\"none\" />\n",
        "<rect x=\"26.0mm\" width=\"0.5mm\" height=\"100%\"\n",
        "      fill=\"#3E00FF\" stroke=\"none\" />\n",
        "<rect x=\"26.5mm\" width=\"0.5mm\" height=\"100%\"\n",
        "      fill=\"#2C00FF\" stroke=\"none\" />\n",
        "<rect x=\"27.0mm\" width=\"0.5mm\" height=\"100%\"\n",
        "      fill=\"#0900FF\" stroke=\"none\" />\n",
        "<rect x=\"27.5mm\" width=\"0.5mm\" height=\"100%\"\n",
        "      fill=\"#0000FF\" stroke=\"none\" />\n",
        "<rect x=\"28.0mm\" width=\"0.5mm\" height=\"100%\"\n",
        "      fill=\"#0000FF\" stroke=\"none\" />\n",
        "<rect x=\"28.5mm\" width=\"0.5mm\" height=\"100%\"\n",
        "      fill=\"#0000FF\" stroke=\"none\" />\n",
        "<rect x=\"29.0mm\" width=\"0.5mm\" height=\"100%\"\n",
        "      fill=\"#0000FF\" stroke=\"none\" />\n",
        "<rect x=\"29.5mm\" width=\"0.5mm\" height=\"100%\"\n",
        "      fill=\"#001BFF\" stroke=\"none\" />\n",
        "<rect x=\"30.0mm\" width=\"0.5mm\" height=\"100%\"\n",
        "      fill=\"#0034FF\" stroke=\"none\" />\n",
        "<rect x=\"30.5mm\" width=\"0.5mm\" height=\"100%\"\n",
        "      fill=\"#0045FF\" stroke=\"none\" />\n",
        "<rect x=\"31.0mm\" width=\"0.5mm\" height=\"100%\"\n",
        "      fill=\"#0052FF\" stroke=\"none\" />\n",
        "<rect x=\"31.5mm\" width=\"0.5mm\" height=\"100%\"\n",
        "      fill=\"#005DFF\" stroke=\"none\" />\n",
        "<rect x=\"32.0mm\" width=\"0.5mm\" height=\"100%\"\n",
        "      fill=\"#0066FF\" stroke=\"none\" />\n",
        "<rect x=\"32.5mm\" width=\"0.5mm\" height=\"100%\"\n",
        "      fill=\"#006FFA\" stroke=\"none\" />\n",
        "<rect x=\"33.0mm\" width=\"0.5mm\" height=\"100%\"\n",
        "      fill=\"#0077F2\" stroke=\"none\" />\n",
        "<rect x=\"33.5mm\" width=\"0.5mm\" height=\"100%\"\n",
        "      fill=\"#007EE9\" stroke=\"none\" />\n",
        "<rect x=\"34.0mm\" width=\"0.5mm\" height=\"100%\"\n",
        "      fill=\"#0085E0\" stroke=\"none\" />\n",
        "<rect x=\"34.5mm\" width=\"0.5mm\" height=\"100%\"\n",
        "      fill=\"#008CD7\" stroke=\"none\" />\n",
        "<rect x=\"35.0mm\" width=\"0.5mm\" height=\"100%\"\n",
        "      fill=\"#0092CE\" stroke=\"none\" />\n",
        "<rect x=\"35.5mm\" width=\"0.5mm\" height=\"100%\"\n",
        "      fill=\"#0098C6\" stroke=\"none\" />\n",
        "<rect x=\"36.0mm\" width=\"0.5mm\" height=\"100%\"\n",
        "      fill=\"#009EBE\" stroke=\"none\" />\n",
        "<rect x=\"36.5mm\" width=\"0.5mm\" height=\"100%\"\n",
        "      fill=\"#00A4B6\" stroke=\"none\" />\n",
        "<rect x=\"37.0mm\" width=\"0.5mm\" height=\"100%\"\n",
        "      fill=\"#00A9AE\" stroke=\"none\" />\n",
        "<rect x=\"37.5mm\" width=\"0.5mm\" height=\"100%\"\n",
        "      fill=\"#00AFA6\" stroke=\"none\" />\n",
        "<rect x=\"38.0mm\" width=\"0.5mm\" height=\"100%\"\n",
        "      fill=\"#00B59F\" stroke=\"none\" />\n",
        "<rect x=\"38.5mm\" width=\"0.5mm\" height=\"100%\"\n",
        "      fill=\"#00BB97\" stroke=\"none\" />\n",
        "<rect x=\"39.0mm\" width=\"0.5mm\" height=\"100%\"\n",
        "      fill=\"#00C190\" stroke=\"none\" />\n",
        "<rect x=\"39.5mm\" width=\"0.5mm\" height=\"100%\"\n",
        "      fill=\"#00C789\" stroke=\"none\" />\n",
        "<rect x=\"40.0mm\" width=\"0.5mm\" height=\"100%\"\n",
        "      fill=\"#00CD82\" stroke=\"none\" />\n",
        "<rect x=\"40.5mm\" width=\"0.5mm\" height=\"100%\"\n",
        "      fill=\"#00D47B\" stroke=\"none\" />\n",
        "<rect x=\"41.0mm\" width=\"0.5mm\" height=\"100%\"\n",
        "      fill=\"#00DA73\" stroke=\"none\" />\n",
        "<rect x=\"41.5mm\" width=\"0.5mm\" height=\"100%\"\n",
        "      fill=\"#00E16C\" stroke=\"none\" />\n",
        "<rect x=\"42.0mm\" width=\"0.5mm\" height=\"100%\"\n",
        "      fill=\"#00E863\" stroke=\"none\" />\n",
        "<rect x=\"42.5mm\" width=\"0.5mm\" height=\"100%\"\n",
        "      fill=\"#00EE5A\" stroke=\"none\" />\n",
        "<rect x=\"43.0mm\" width=\"0.5mm\" height=\"100%\"\n",
        "      fill=\"#00F450\" stroke=\"none\" />\n",
        "<rect x=\"43.5mm\" width=\"0.5mm\" height=\"100%\"\n",
        "      fill=\"#00FA44\" stroke=\"none\" />\n",
        "<rect x=\"44.0mm\" width=\"0.5mm\" height=\"100%\"\n",
        "      fill=\"#00FF35\" stroke=\"none\" />\n",
        "<rect x=\"44.5mm\" width=\"0.5mm\" height=\"100%\"\n",
        "      fill=\"#00FF21\" stroke=\"none\" />\n",
        "<rect x=\"45.0mm\" width=\"0.5mm\" height=\"100%\"\n",
        "      fill=\"#00FF00\" stroke=\"none\" />\n",
        "<rect x=\"45.5mm\" width=\"0.5mm\" height=\"100%\"\n",
        "      fill=\"#00FF00\" stroke=\"none\" />\n",
        "<rect x=\"46.0mm\" width=\"0.5mm\" height=\"100%\"\n",
        "      fill=\"#00FF00\" stroke=\"none\" />\n",
        "<rect x=\"46.5mm\" width=\"0.5mm\" height=\"100%\"\n",
        "      fill=\"#00FF00\" stroke=\"none\" />\n",
        "<rect x=\"47.0mm\" width=\"0.5mm\" height=\"100%\"\n",
        "      fill=\"#00FF00\" stroke=\"none\" />\n",
        "<rect x=\"47.5mm\" width=\"0.5mm\" height=\"100%\"\n",
        "      fill=\"#00FF00\" stroke=\"none\" />\n",
        "<rect x=\"48.0mm\" width=\"0.5mm\" height=\"100%\"\n",
        "      fill=\"#00FF00\" stroke=\"none\" />\n",
        "<rect x=\"48.5mm\" width=\"0.5mm\" height=\"100%\"\n",
        "      fill=\"#00FF00\" stroke=\"none\" />\n",
        "<rect x=\"49.0mm\" width=\"0.5mm\" height=\"100%\"\n",
        "      fill=\"#00FF00\" stroke=\"none\" />\n",
        "<rect x=\"49.5mm\" width=\"0.5mm\" height=\"100%\"\n",
        "      fill=\"#00FF00\" stroke=\"none\" />\n",
        "<rect x=\"50.0mm\" width=\"0.5mm\" height=\"100%\"\n",
        "      fill=\"#00FF00\" stroke=\"none\" />\n",
        "<rect x=\"50.5mm\" width=\"0.5mm\" height=\"100%\"\n",
        "      fill=\"#00FF00\" stroke=\"none\" />\n",
        "<rect x=\"51.0mm\" width=\"0.5mm\" height=\"100%\"\n",
        "      fill=\"#00FF00\" stroke=\"none\" />\n",
        "<rect x=\"51.5mm\" width=\"0.5mm\" height=\"100%\"\n",
        "      fill=\"#00FF00\" stroke=\"none\" />\n",
        "<rect x=\"52.0mm\" width=\"0.5mm\" height=\"100%\"\n",
        "      fill=\"#00FF00\" stroke=\"none\" />\n",
        "<rect x=\"52.5mm\" width=\"0.5mm\" height=\"100%\"\n",
        "      fill=\"#00FF00\" stroke=\"none\" />\n",
        "<rect x=\"53.0mm\" width=\"0.5mm\" height=\"100%\"\n",
        "      fill=\"#00FF00\" stroke=\"none\" />\n",
        "<rect x=\"53.5mm\" width=\"0.5mm\" height=\"100%\"\n",
        "      fill=\"#00FF00\" stroke=\"none\" />\n",
        "<rect x=\"54.0mm\" width=\"0.5mm\" height=\"100%\"\n",
        "      fill=\"#00FF00\" stroke=\"none\" />\n",
        "<rect x=\"54.5mm\" width=\"0.5mm\" height=\"100%\"\n",
        "      fill=\"#00FF00\" stroke=\"none\" />\n",
        "<rect x=\"55.0mm\" width=\"0.5mm\" height=\"100%\"\n",
        "      fill=\"#00FF00\" stroke=\"none\" />\n",
        "<rect x=\"55.5mm\" width=\"0.5mm\" height=\"100%\"\n",
        "      fill=\"#00FF00\" stroke=\"none\" />\n",
        "<rect x=\"56.0mm\" width=\"0.5mm\" height=\"100%\"\n",
        "      fill=\"#00FF00\" stroke=\"none\" />\n",
        "<rect x=\"56.5mm\" width=\"0.5mm\" height=\"100%\"\n",
        "      fill=\"#00FF00\" stroke=\"none\" />\n",
        "<rect x=\"57.0mm\" width=\"0.5mm\" height=\"100%\"\n",
        "      fill=\"#00FF00\" stroke=\"none\" />\n",
        "<rect x=\"57.5mm\" width=\"0.5mm\" height=\"100%\"\n",
        "      fill=\"#00FF00\" stroke=\"none\" />\n",
        "<rect x=\"58.0mm\" width=\"0.5mm\" height=\"100%\"\n",
        "      fill=\"#49FF00\" stroke=\"none\" />\n",
        "<rect x=\"58.5mm\" width=\"0.5mm\" height=\"100%\"\n",
        "      fill=\"#6BFF00\" stroke=\"none\" />\n",
        "<rect x=\"59.0mm\" width=\"0.5mm\" height=\"100%\"\n",
        "      fill=\"#83FF00\" stroke=\"none\" />\n",
        "<rect x=\"59.5mm\" width=\"0.5mm\" height=\"100%\"\n",
        "      fill=\"#97FF00\" stroke=\"none\" />\n",
        "<rect x=\"60.0mm\" width=\"0.5mm\" height=\"100%\"\n",
        "      fill=\"#A9FF00\" stroke=\"none\" />\n",
        "<rect x=\"60.5mm\" width=\"0.5mm\" height=\"100%\"\n",
        "      fill=\"#B9FF00\" stroke=\"none\" />\n",
        "<rect x=\"61.0mm\" width=\"0.5mm\" height=\"100%\"\n",
        "      fill=\"#C7FF00\" stroke=\"none\" />\n",
        "<rect x=\"61.5mm\" width=\"0.5mm\" height=\"100%\"\n",
        "      fill=\"#D5FF00\" stroke=\"none\" />\n",
        "<rect x=\"62.0mm\" width=\"0.5mm\" height=\"100%\"\n",
        "      fill=\"#E1FF00\" stroke=\"none\" />\n",
        "<rect x=\"62.5mm\" width=\"0.5mm\" height=\"100%\"\n",
        "      fill=\"#EDFF00\" stroke=\"none\" />\n",
        "<rect x=\"63.0mm\" width=\"0.5mm\" height=\"100%\"\n",
        "      fill=\"#F8FF00\" stroke=\"none\" />\n",
        "<rect x=\"63.5mm\" width=\"0.5mm\" height=\"100%\"\n",
        "      fill=\"#FFFF00\" stroke=\"none\" />\n",
        "<rect x=\"64.0mm\" width=\"0.5mm\" height=\"100%\"\n",
        "      fill=\"#FFFE00\" stroke=\"none\" />\n",
        "<rect x=\"64.5mm\" width=\"0.5mm\" height=\"100%\"\n",
        "      fill=\"#FFF900\" stroke=\"none\" />\n",
        "<rect x=\"65.0mm\" width=\"0.5mm\" height=\"100%\"\n",
        "      fill=\"#FFF400\" stroke=\"none\" />\n",
        "<rect x=\"65.5mm\" width=\"0.5mm\" height=\"100%\"\n",
        "      fill=\"#FFEE00\" stroke=\"none\" />\n",
        "<rect x=\"66.0mm\" width=\"0.5mm\" height=\"100%\"\n",
        "      fill=\"#FFE800\" stroke=\"none\" />\n",
        "<rect x=\"66.5mm\" width=\"0.5mm\" height=\"100%\"\n",
        "      fill=\"#FFE200\" stroke=\"none\" />\n",
        "<rect x=\"67.0mm\" width=\"0.5mm\" height=\"100%\"\n",
        "      fill=\"#FFDB00\" stroke=\"none\" />\n",
        "<rect x=\"67.5mm\" width=\"0.5mm\" height=\"100%\"\n",
        "      fill=\"#FFD500\" stroke=\"none\" />\n",
        "<rect x=\"68.0mm\" width=\"0.5mm\" height=\"100%\"\n",
        "      fill=\"#FFCE00\" stroke=\"none\" />\n",
        "<rect x=\"68.5mm\" width=\"0.5mm\" height=\"100%\"\n",
        "      fill=\"#FFC600\" stroke=\"none\" />\n",
        "<rect x=\"69.0mm\" width=\"0.5mm\" height=\"100%\"\n",
        "      fill=\"#FFBF00\" stroke=\"none\" />\n",
        "<rect x=\"69.5mm\" width=\"0.5mm\" height=\"100%\"\n",
        "      fill=\"#FFB700\" stroke=\"none\" />\n",
        "<rect x=\"70.0mm\" width=\"0.5mm\" height=\"100%\"\n",
        "      fill=\"#FFAE00\" stroke=\"none\" />\n",
        "<rect x=\"70.5mm\" width=\"0.5mm\" height=\"100%\"\n",
        "      fill=\"#FFA600\" stroke=\"none\" />\n",
        "<rect x=\"71.0mm\" width=\"0.5mm\" height=\"100%\"\n",
        "      fill=\"#FF9D00\" stroke=\"none\" />\n",
        "<rect x=\"71.5mm\" width=\"0.5mm\" height=\"100%\"\n",
        "      fill=\"#FF9300\" stroke=\"none\" />\n",
        "<rect x=\"72.0mm\" width=\"0.5mm\" height=\"100%\"\n",
        "      fill=\"#FF8A00\" stroke=\"none\" />\n",
        "<rect x=\"72.5mm\" width=\"0.5mm\" height=\"100%\"\n",
        "      fill=\"#FF8000\" stroke=\"none\" />\n",
        "<rect x=\"73.0mm\" width=\"0.5mm\" height=\"100%\"\n",
        "      fill=\"#FF7500\" stroke=\"none\" />\n",
        "<rect x=\"73.5mm\" width=\"0.5mm\" height=\"100%\"\n",
        "      fill=\"#FF6A00\" stroke=\"none\" />\n",
        "<rect x=\"74.0mm\" width=\"0.5mm\" height=\"100%\"\n",
        "      fill=\"#FF5D00\" stroke=\"none\" />\n",
        "<rect x=\"74.5mm\" width=\"0.5mm\" height=\"100%\"\n",
        "      fill=\"#FF4F00\" stroke=\"none\" />\n",
        "<rect x=\"75.0mm\" width=\"0.5mm\" height=\"100%\"\n",
        "      fill=\"#FF3F00\" stroke=\"none\" />\n",
        "<rect x=\"75.5mm\" width=\"0.5mm\" height=\"100%\"\n",
        "      fill=\"#FF2B00\" stroke=\"none\" />\n",
        "<rect x=\"76.0mm\" width=\"0.5mm\" height=\"100%\"\n",
        "      fill=\"#FF0000\" stroke=\"none\" />\n",
        "<rect x=\"76.5mm\" width=\"0.5mm\" height=\"100%\"\n",
        "      fill=\"#FF0000\" stroke=\"none\" />\n",
        "<rect x=\"77.0mm\" width=\"0.5mm\" height=\"100%\"\n",
        "      fill=\"#FF0000\" stroke=\"none\" />\n",
        "<rect x=\"77.5mm\" width=\"0.5mm\" height=\"100%\"\n",
        "      fill=\"#FF0000\" stroke=\"none\" />\n",
        "<rect x=\"78.0mm\" width=\"0.5mm\" height=\"100%\"\n",
        "      fill=\"#FF0000\" stroke=\"none\" />\n",
        "<rect x=\"78.5mm\" width=\"0.5mm\" height=\"100%\"\n",
        "      fill=\"#FF0000\" stroke=\"none\" />\n",
        "<rect x=\"79.0mm\" width=\"0.5mm\" height=\"100%\"\n",
        "      fill=\"#FF0000\" stroke=\"none\" />\n",
        "<rect x=\"79.5mm\" width=\"0.5mm\" height=\"100%\"\n",
        "      fill=\"#FF0000\" stroke=\"none\" />\n",
        "<rect x=\"80.0mm\" width=\"0.5mm\" height=\"100%\"\n",
        "      fill=\"#FF0000\" stroke=\"none\" />\n",
        "<rect x=\"80.5mm\" width=\"0.5mm\" height=\"100%\"\n",
        "      fill=\"#FF0000\" stroke=\"none\" />\n",
        "<rect x=\"81.0mm\" width=\"0.5mm\" height=\"100%\"\n",
        "      fill=\"#FF0000\" stroke=\"none\" />\n",
        "<rect x=\"81.5mm\" width=\"0.5mm\" height=\"100%\"\n",
        "      fill=\"#FF0000\" stroke=\"none\" />\n",
        "<rect x=\"82.0mm\" width=\"0.5mm\" height=\"100%\"\n",
        "      fill=\"#FF0000\" stroke=\"none\" />\n",
        "<rect x=\"82.5mm\" width=\"0.5mm\" height=\"100%\"\n",
        "      fill=\"#FF0000\" stroke=\"none\" />\n",
        "<rect x=\"83.0mm\" width=\"0.5mm\" height=\"100%\"\n",
        "      fill=\"#FF0000\" stroke=\"none\" />\n",
        "<rect x=\"83.5mm\" width=\"0.5mm\" height=\"100%\"\n",
        "      fill=\"#FF0000\" stroke=\"none\" />\n",
        "<rect x=\"84.0mm\" width=\"0.5mm\" height=\"100%\"\n",
        "      fill=\"#FF0000\" stroke=\"none\" />\n",
        "<rect x=\"84.5mm\" width=\"0.5mm\" height=\"100%\"\n",
        "      fill=\"#FF0000\" stroke=\"none\" />\n",
        "<rect x=\"85.0mm\" width=\"0.5mm\" height=\"100%\"\n",
        "      fill=\"#FF0000\" stroke=\"none\" />\n",
        "<rect x=\"85.5mm\" width=\"0.5mm\" height=\"100%\"\n",
        "      fill=\"#FF0000\" stroke=\"none\" />\n",
        "<rect x=\"86.0mm\" width=\"0.5mm\" height=\"100%\"\n",
        "      fill=\"#FF0000\" stroke=\"none\" />\n",
        "<rect x=\"86.5mm\" width=\"0.5mm\" height=\"100%\"\n",
        "      fill=\"#FF0000\" stroke=\"none\" />\n",
        "<rect x=\"87.0mm\" width=\"0.5mm\" height=\"100%\"\n",
        "      fill=\"#FF0000\" stroke=\"none\" />\n",
        "<rect x=\"87.5mm\" width=\"0.5mm\" height=\"100%\"\n",
        "      fill=\"#FF0000\" stroke=\"none\" />\n",
        "<rect x=\"88.0mm\" width=\"0.5mm\" height=\"100%\"\n",
        "      fill=\"#FF0000\" stroke=\"none\" />\n",
        "<rect x=\"88.5mm\" width=\"0.5mm\" height=\"100%\"\n",
        "      fill=\"#F80000\" stroke=\"none\" />\n",
        "<rect x=\"89.0mm\" width=\"0.5mm\" height=\"100%\"\n",
        "      fill=\"#F00000\" stroke=\"none\" />\n",
        "<rect x=\"89.5mm\" width=\"0.5mm\" height=\"100%\"\n",
        "      fill=\"#E90000\" stroke=\"none\" />\n",
        "<rect x=\"90.0mm\" width=\"0.5mm\" height=\"100%\"\n",
        "      fill=\"#E10000\" stroke=\"none\" />\n",
        "<rect x=\"90.5mm\" width=\"0.5mm\" height=\"100%\"\n",
        "      fill=\"#DA0000\" stroke=\"none\" />\n",
        "<rect x=\"91.0mm\" width=\"0.5mm\" height=\"100%\"\n",
        "      fill=\"#D30000\" stroke=\"none\" />\n",
        "<rect x=\"91.5mm\" width=\"0.5mm\" height=\"100%\"\n",
        "      fill=\"#CB0000\" stroke=\"none\" />\n",
        "<rect x=\"92.0mm\" width=\"0.5mm\" height=\"100%\"\n",
        "      fill=\"#C40000\" stroke=\"none\" />\n",
        "<rect x=\"92.5mm\" width=\"0.5mm\" height=\"100%\"\n",
        "      fill=\"#BD0000\" stroke=\"none\" />\n",
        "<rect x=\"93.0mm\" width=\"0.5mm\" height=\"100%\"\n",
        "      fill=\"#B60000\" stroke=\"none\" />\n",
        "<rect x=\"93.5mm\" width=\"0.5mm\" height=\"100%\"\n",
        "      fill=\"#AF0000\" stroke=\"none\" />\n",
        "<rect x=\"94.0mm\" width=\"0.5mm\" height=\"100%\"\n",
        "      fill=\"#A80000\" stroke=\"none\" />\n",
        "<rect x=\"94.5mm\" width=\"0.5mm\" height=\"100%\"\n",
        "      fill=\"#A10000\" stroke=\"none\" />\n",
        "<rect x=\"95.0mm\" width=\"0.5mm\" height=\"100%\"\n",
        "      fill=\"#9A0000\" stroke=\"none\" />\n",
        "<rect x=\"95.5mm\" width=\"0.5mm\" height=\"100%\"\n",
        "      fill=\"#940000\" stroke=\"none\" />\n",
        "<rect x=\"96.0mm\" width=\"0.5mm\" height=\"100%\"\n",
        "      fill=\"#8D0000\" stroke=\"none\" />\n",
        "<rect x=\"96.5mm\" width=\"0.5mm\" height=\"100%\"\n",
        "      fill=\"#870000\" stroke=\"none\" />\n",
        "<rect x=\"97.0mm\" width=\"0.5mm\" height=\"100%\"\n",
        "      fill=\"#810000\" stroke=\"none\" />\n",
        "<rect x=\"97.5mm\" width=\"0.5mm\" height=\"100%\"\n",
        "      fill=\"#7B0000\" stroke=\"none\" />\n",
        "<rect x=\"98.0mm\" width=\"0.5mm\" height=\"100%\"\n",
        "      fill=\"#760000\" stroke=\"none\" />\n",
        "<rect x=\"98.5mm\" width=\"0.5mm\" height=\"100%\"\n",
        "      fill=\"#710000\" stroke=\"none\" />\n",
        "<rect x=\"99.0mm\" width=\"0.5mm\" height=\"100%\"\n",
        "      fill=\"#6C0000\" stroke=\"none\" />\n",
        "<rect x=\"99.5mm\" width=\"0.5mm\" height=\"100%\"\n",
        "      fill=\"#680000\" stroke=\"none\" />\n",
        "<rect x=\"100.0mm\" width=\"0.5mm\" height=\"100%\"\n",
        "      fill=\"#630000\" stroke=\"none\" />\n",
        "<rect x=\"100.5mm\" width=\"0.5mm\" height=\"100%\"\n",
        "      fill=\"#5F0000\" stroke=\"none\" />\n",
        "<rect x=\"101.0mm\" width=\"0.5mm\" height=\"100%\"\n",
        "      fill=\"#5A0000\" stroke=\"none\" />\n",
        "<rect x=\"101.5mm\" width=\"0.5mm\" height=\"100%\"\n",
        "      fill=\"#550000\" stroke=\"none\" />\n",
        "<rect x=\"102.0mm\" width=\"0.5mm\" height=\"100%\"\n",
        "      fill=\"#510000\" stroke=\"none\" />\n",
        "<rect x=\"102.5mm\" width=\"0.5mm\" height=\"100%\"\n",
        "      fill=\"#4D0000\" stroke=\"none\" />\n",
        "<rect x=\"103.0mm\" width=\"0.5mm\" height=\"100%\"\n",
        "      fill=\"#480000\" stroke=\"none\" />\n",
        "<rect x=\"103.5mm\" width=\"0.5mm\" height=\"100%\"\n",
        "      fill=\"#450000\" stroke=\"none\" />\n",
        "<rect x=\"104.0mm\" width=\"0.5mm\" height=\"100%\"\n",
        "      fill=\"#410000\" stroke=\"none\" />\n",
        "<rect x=\"104.5mm\" width=\"0.5mm\" height=\"100%\"\n",
        "      fill=\"#3D0000\" stroke=\"none\" />\n",
        "<rect x=\"105.0mm\" width=\"0.5mm\" height=\"100%\"\n",
        "      fill=\"#3A0000\" stroke=\"none\" />\n",
        "<rect x=\"105.5mm\" width=\"0.5mm\" height=\"100%\"\n",
        "      fill=\"#370000\" stroke=\"none\" />\n",
        "<rect x=\"106.0mm\" width=\"0.5mm\" height=\"100%\"\n",
        "      fill=\"#340000\" stroke=\"none\" />\n",
        "<rect x=\"106.5mm\" width=\"0.5mm\" height=\"100%\"\n",
        "      fill=\"#320000\" stroke=\"none\" />\n",
        "<rect x=\"107.0mm\" width=\"0.5mm\" height=\"100%\"\n",
        "      fill=\"#2F0000\" stroke=\"none\" />\n",
        "<rect x=\"107.5mm\" width=\"0.5mm\" height=\"100%\"\n",
        "      fill=\"#2D0000\" stroke=\"none\" />\n",
        "<rect x=\"108.0mm\" width=\"0.5mm\" height=\"100%\"\n",
        "      fill=\"#2A0000\" stroke=\"none\" />\n",
        "<rect x=\"108.5mm\" width=\"0.5mm\" height=\"100%\"\n",
        "      fill=\"#280000\" stroke=\"none\" />\n",
        "<rect x=\"109.0mm\" width=\"0.5mm\" height=\"100%\"\n",
        "      fill=\"#260000\" stroke=\"none\" />\n",
        "<rect x=\"109.5mm\" width=\"0.5mm\" height=\"100%\"\n",
        "      fill=\"#230000\" stroke=\"none\" />\n",
        "<rect x=\"110.0mm\" width=\"0.5mm\" height=\"100%\"\n",
        "      fill=\"#210000\" stroke=\"none\" />\n",
        "<rect x=\"110.5mm\" width=\"0.5mm\" height=\"100%\"\n",
        "      fill=\"#1F0000\" stroke=\"none\" />\n",
        "<rect x=\"111.0mm\" width=\"0.5mm\" height=\"100%\"\n",
        "      fill=\"#1E0000\" stroke=\"none\" />\n",
        "<rect x=\"111.5mm\" width=\"0.5mm\" height=\"100%\"\n",
        "      fill=\"#1C0000\" stroke=\"none\" />\n",
        "<rect x=\"112.0mm\" width=\"0.5mm\" height=\"100%\"\n",
        "      fill=\"#1A0000\" stroke=\"none\" />\n",
        "<rect x=\"112.5mm\" width=\"0.5mm\" height=\"100%\"\n",
        "      fill=\"#180000\" stroke=\"none\" />\n",
        "<rect x=\"113.0mm\" width=\"0.5mm\" height=\"100%\"\n",
        "      fill=\"#170000\" stroke=\"none\" />\n",
        "<rect x=\"113.5mm\" width=\"0.5mm\" height=\"100%\"\n",
        "      fill=\"#150000\" stroke=\"none\" />\n",
        "<rect x=\"114.0mm\" width=\"0.5mm\" height=\"100%\"\n",
        "      fill=\"#140000\" stroke=\"none\" />\n",
        "<rect x=\"114.5mm\" width=\"0.5mm\" height=\"100%\"\n",
        "      fill=\"#120000\" stroke=\"none\" />\n",
        "<rect x=\"115.0mm\" width=\"0.5mm\" height=\"100%\"\n",
        "      fill=\"#110000\" stroke=\"none\" />\n",
        "<rect x=\"115.5mm\" width=\"0.5mm\" height=\"100%\"\n",
        "      fill=\"#0F0000\" stroke=\"none\" />\n",
        "<rect x=\"116.0mm\" width=\"0.5mm\" height=\"100%\"\n",
        "      fill=\"#0E0000\" stroke=\"none\" />\n",
        "<rect x=\"116.5mm\" width=\"0.5mm\" height=\"100%\"\n",
        "      fill=\"#0D0000\" stroke=\"none\" />\n",
        "<rect x=\"117.0mm\" width=\"0.5mm\" height=\"100%\"\n",
        "      fill=\"#0C0000\" stroke=\"none\" />\n",
        "<rect x=\"117.5mm\" width=\"0.5mm\" height=\"100%\"\n",
        "      fill=\"#0B0000\" stroke=\"none\" />\n",
        "<rect x=\"118.0mm\" width=\"0.5mm\" height=\"100%\"\n",
        "      fill=\"#0A0000\" stroke=\"none\" />\n",
        "<rect x=\"118.5mm\" width=\"0.5mm\" height=\"100%\"\n",
        "      fill=\"#090000\" stroke=\"none\" />\n",
        "<rect x=\"119.0mm\" width=\"0.5mm\" height=\"100%\"\n",
        "      fill=\"#080000\" stroke=\"none\" />\n",
        "<rect x=\"119.5mm\" width=\"0.5mm\" height=\"100%\"\n",
        "      fill=\"#070000\" stroke=\"none\" />\n",
        "<rect x=\"120.0mm\" width=\"0.5mm\" height=\"100%\"\n",
        "      fill=\"#060000\" stroke=\"none\" />\n",
        "<rect x=\"120.5mm\" width=\"0.5mm\" height=\"100%\"\n",
        "      fill=\"#050000\" stroke=\"none\" />\n",
        "<rect x=\"121.0mm\" width=\"0.5mm\" height=\"100%\"\n",
        "      fill=\"#050000\" stroke=\"none\" />\n",
        "<rect x=\"121.5mm\" width=\"0.5mm\" height=\"100%\"\n",
        "      fill=\"#040000\" stroke=\"none\" />\n",
        "<rect x=\"122.0mm\" width=\"0.5mm\" height=\"100%\"\n",
        "      fill=\"#040000\" stroke=\"none\" />\n",
        "<rect x=\"122.5mm\" width=\"0.5mm\" height=\"100%\"\n",
        "      fill=\"#040000\" stroke=\"none\" />\n",
        "<rect x=\"123.0mm\" width=\"0.5mm\" height=\"100%\"\n",
        "      fill=\"#030000\" stroke=\"none\" />\n",
        "<rect x=\"123.5mm\" width=\"0.5mm\" height=\"100%\"\n",
        "      fill=\"#030000\" stroke=\"none\" />\n",
        "<rect x=\"124.0mm\" width=\"0.5mm\" height=\"100%\"\n",
        "      fill=\"#030000\" stroke=\"none\" />\n",
        "<rect x=\"124.5mm\" width=\"0.5mm\" height=\"100%\"\n",
        "      fill=\"#020000\" stroke=\"none\" />\n",
        "<rect x=\"125.0mm\" width=\"0.5mm\" height=\"100%\"\n",
        "      fill=\"#020000\" stroke=\"none\" />\n",
        "<rect x=\"125.5mm\" width=\"0.5mm\" height=\"100%\"\n",
        "      fill=\"#020000\" stroke=\"none\" />\n",
        "<rect x=\"126.0mm\" width=\"0.5mm\" height=\"100%\"\n",
        "      fill=\"#020000\" stroke=\"none\" />\n",
        "<rect x=\"126.5mm\" width=\"0.5mm\" height=\"100%\"\n",
        "      fill=\"#020000\" stroke=\"none\" />\n",
        "<rect x=\"127.0mm\" width=\"0.5mm\" height=\"100%\"\n",
        "      fill=\"#010000\" stroke=\"none\" />\n",
        "<rect x=\"127.5mm\" width=\"0.5mm\" height=\"100%\"\n",
        "      fill=\"#010000\" stroke=\"none\" />\n",
        "<rect x=\"128.0mm\" width=\"0.5mm\" height=\"100%\"\n",
        "      fill=\"#010000\" stroke=\"none\" />\n",
        "<rect x=\"128.5mm\" width=\"0.5mm\" height=\"100%\"\n",
        "      fill=\"#010000\" stroke=\"none\" />\n",
        "<rect x=\"129.0mm\" width=\"0.5mm\" height=\"100%\"\n",
        "      fill=\"#010000\" stroke=\"none\" />\n",
        "<rect x=\"129.5mm\" width=\"0.5mm\" height=\"100%\"\n",
        "      fill=\"#010000\" stroke=\"none\" />\n",
        "<rect x=\"130.0mm\" width=\"0.5mm\" height=\"100%\"\n",
        "      fill=\"#010000\" stroke=\"none\" />\n",
        "<rect x=\"130.5mm\" width=\"0.5mm\" height=\"100%\"\n",
        "      fill=\"#010000\" stroke=\"none\" />\n",
        "<rect x=\"131.0mm\" width=\"0.5mm\" height=\"100%\"\n",
        "      fill=\"#010000\" stroke=\"none\" />\n",
        "<rect x=\"131.5mm\" width=\"0.5mm\" height=\"100%\"\n",
        "      fill=\"#010000\" stroke=\"none\" />\n",
        "<rect x=\"132.0mm\" width=\"0.5mm\" height=\"100%\"\n",
        "      fill=\"#000000\" stroke=\"none\" />\n",
        "<rect x=\"132.5mm\" width=\"0.5mm\" height=\"100%\"\n",
        "      fill=\"#000000\" stroke=\"none\" />\n",
        "<rect x=\"133.0mm\" width=\"0.5mm\" height=\"100%\"\n",
        "      fill=\"#000000\" stroke=\"none\" />\n",
        "</svg>"
       ],
       "text": [
        "267-element ColorVector{XYZ}:\n",
        " #undef\n",
        " #undef\n",
        " #undef\n",
        " #undef\n",
        " #undef\n",
        " #undef\n",
        " #undef\n",
        " #undef\n",
        " #undef\n",
        " #undef\n",
        " #undef\n",
        " #undef\n",
        " #undef\n",
        "   \u22ee   \n",
        " #undef\n",
        " #undef\n",
        " #undef\n",
        " #undef\n",
        " #undef\n",
        " #undef\n",
        " #undef\n",
        " #undef\n",
        " #undef\n",
        " #undef\n",
        " #undef\n",
        " #undef"
       ]
      }
     ],
     "prompt_number": 2
    },
    {
     "cell_type": "markdown",
     "metadata": {},
     "source": [
      "## Raw light power and the XYZ color space\n",
      "\n",
      "The modern foundations of color theory can be traced back to the [CIE 1931 color space](http://en.wikipedia.org/wiki/CIE_1931_color_space) model. Building upon centuries of empirical evidence that three coordinates are sufficient to quantify perceived colors, the CIE model defines three basis functions $\\overline{x}(\\lambda)$, $\\overline{y}(\\lambda)$ and $\\overline{z}(\\lambda)$ over (most of) the visible wavelength range  380nm $\\le\\lambda\\le$780 nm.\n",
      "\n",
      "These basis functions define a linear vector space known as the XYZ color space. An arbitrary function $f(\\lambda)$ has a three-dimensional projection as a vector in this vector space, with components known as _tristimulus values_ that are given by the projections\n",
      "\n",
      "$$ X = \\int f(\\lambda) \\overline{x}(\\lambda) d\\lambda $$\n",
      "$$ Y = \\int f(\\lambda) \\overline{y}(\\lambda) d\\lambda $$\n",
      "$$ Z = \\int f(\\lambda) \\overline{z}(\\lambda) d\\lambda $$\n",
      "\n",
      "The CIE standard defines the basis functions in discrete tabular form; the raw data for $\\overline{x}(\\lambda)$, $\\overline{y}(\\lambda)$ and $\\overline{z}(\\lambda)$ are available in `Color.cie_color_match_table[:,i] for i=1:3` respectively."
     ]
    },
    {
     "cell_type": "code",
     "collapsed": false,
     "input": [
      "#Creates a plot layer for each color transfer function (ctf)\n",
      "ctf_layer(i)=layer(Geom.line,\n",
      "  x=380:780, y=Color.cie_color_match_table[:,i],\n",
      "  color=fill(string('x'+i-1, '\u0304'), 401), #Generate name of ctf\n",
      ")\n",
      "\n",
      "#Plot the X, Y and Z ctfs\n",
      "plot(Guide.XLabel(\"\u03bb (nm)\"), Guide.YLabel(\"Sensitivity\"),\n",
      "  Guide.colorkey(\"ctf\"),\n",
      "  #color each ctf by wavelength of peak sensitivity\n",
      "  Scale.discrete_color_manual( \n",
      "    map(cie_color_match, 379.+\n",
      "    [indmax(Color.cie_color_match_table[:,i]) for i=1:3])...),\n",
      "  [ctf_layer(i) for i=1:3]...,\n",
      ")"
     ],
     "language": "python",
     "metadata": {},
     "outputs": [
      {
       "html": [
        "<div id=\"gadflyplot-4upULmjJ5s6glW97RilO\"></div>\n",
        "<script>\n",
        "(function (module) {\n",
        "function draw_with_data(data, parent_id) {\n",
        "  var g = d3.select(parent_id)\n",
        "            .append(\"svg\")\n",
        "              .attr(\"width\", \"120mm\")\n",
        "              .attr(\"height\", \"80mm\")\n",
        "              .attr(\"viewBox\", \"0 0 120 80\")\n",
        "              .attr(\"stroke-width\", \"0.5\")\n",
        "              .attr(\"style\", \"stroke:black;fill:black\");\n",
        "  g.append(\"defs\");\n",
        "  var ctx = {\n",
        "      \"scale\": 1.0,\n",
        "      \"tx\": 0.0,\n",
        "      \"ty\": 0.0\n",
        "  };\n",
        "(function (g) {\n",
        "  g.attr(\"stroke\", \"none\")\n",
        "   .attr(\"fill\", \"#000000\")\n",
        "   .attr(\"stroke-width\", 0.3)\n",
        "   .attr(\"font-family\", \"Helvetic,Arial,sans\")\n",
        "   .style(\"font-size\", \"3.88px\");\n",
        "  (function (g) {\n",
        "    g.attr(\"class\", \"plotroot xscalable yscalable\");\n",
        "    (function (g) {\n",
        "      g.attr(\"stroke\", \"none\")\n",
        "       .attr(\"fill\", \"#4C404B\")\n",
        "       .attr(\"font-family\", \"'PT Sans','Helvetica Neue','Helvetica',sans-serif\")\n",
        "       .style(\"font-size\", \"3.18px\")\n",
        "       .attr(\"class\", \"guide ylabels\");\n",
        "      g.append(\"svg:text\")\n",
        "         .attr(\"x\", 18.09)\n",
        "         .attr(\"y\", 32.89)\n",
        "         .attr(\"text-anchor\", \"end\")\n",
        "         .style(\"dominant-baseline\", \"central\")\n",
        "         .call(function(text) {\n",
        "     text.text(\"1.0\");\n",
        "   })\n",
        ";\n",
        "      (function (g) {\n",
        "        g.attr(\"visibility\", \"hidden\");\n",
        "        g.append(\"svg:text\")\n",
        "           .attr(\"x\", 18.09)\n",
        "           .attr(\"y\", 98.68)\n",
        "           .attr(\"text-anchor\", \"end\")\n",
        "           .style(\"dominant-baseline\", \"central\")\n",
        "            .call(function(text) {\n",
        "      text.text(\"-1.5\");\n",
        "    })\n",
        ";\n",
        "      }(g.append(\"g\")));\n",
        "      (function (g) {\n",
        "        g.attr(\"visibility\", \"hidden\");\n",
        "        g.append(\"svg:text\")\n",
        "           .attr(\"x\", 18.09)\n",
        "           .attr(\"y\", 111.84)\n",
        "           .attr(\"text-anchor\", \"end\")\n",
        "           .style(\"dominant-baseline\", \"central\")\n",
        "            .call(function(text) {\n",
        "      text.text(\"-2.0\");\n",
        "    })\n",
        ";\n",
        "      }(g.append(\"g\")));\n",
        "      (function (g) {\n",
        "        g.attr(\"visibility\", \"hidden\");\n",
        "        g.append(\"svg:text\")\n",
        "           .attr(\"x\", 18.09)\n",
        "           .attr(\"y\", -6.58)\n",
        "           .attr(\"text-anchor\", \"end\")\n",
        "           .style(\"dominant-baseline\", \"central\")\n",
        "            .call(function(text) {\n",
        "      text.text(\"2.5\");\n",
        "    })\n",
        ";\n",
        "      }(g.append(\"g\")));\n",
        "      (function (g) {\n",
        "        g.attr(\"visibility\", \"hidden\");\n",
        "        g.append(\"svg:text\")\n",
        "           .attr(\"x\", 18.09)\n",
        "           .attr(\"y\", -19.74)\n",
        "           .attr(\"text-anchor\", \"end\")\n",
        "           .style(\"dominant-baseline\", \"central\")\n",
        "            .call(function(text) {\n",
        "      text.text(\"3.0\");\n",
        "    })\n",
        ";\n",
        "      }(g.append(\"g\")));\n",
        "      g.append(\"svg:text\")\n",
        "         .attr(\"x\", 18.09)\n",
        "         .attr(\"y\", 46.05)\n",
        "         .attr(\"text-anchor\", \"end\")\n",
        "         .style(\"dominant-baseline\", \"central\")\n",
        "         .call(function(text) {\n",
        "     text.text(\"0.5\");\n",
        "   })\n",
        ";\n",
        "      (function (g) {\n",
        "        g.attr(\"visibility\", \"hidden\");\n",
        "        g.append(\"svg:text\")\n",
        "           .attr(\"x\", 18.09)\n",
        "           .attr(\"y\", 85.52)\n",
        "           .attr(\"text-anchor\", \"end\")\n",
        "           .style(\"dominant-baseline\", \"central\")\n",
        "            .call(function(text) {\n",
        "      text.text(\"-1.0\");\n",
        "    })\n",
        ";\n",
        "      }(g.append(\"g\")));\n",
        "      (function (g) {\n",
        "        g.attr(\"visibility\", \"hidden\");\n",
        "        g.append(\"svg:text\")\n",
        "           .attr(\"x\", 18.09)\n",
        "           .attr(\"y\", -46.05)\n",
        "           .attr(\"text-anchor\", \"end\")\n",
        "           .style(\"dominant-baseline\", \"central\")\n",
        "            .call(function(text) {\n",
        "      text.text(\"4.0\");\n",
        "    })\n",
        ";\n",
        "      }(g.append(\"g\")));\n",
        "      (function (g) {\n",
        "        g.attr(\"visibility\", \"hidden\");\n",
        "        g.append(\"svg:text\")\n",
        "           .attr(\"x\", 18.09)\n",
        "           .attr(\"y\", 124.99)\n",
        "           .attr(\"text-anchor\", \"end\")\n",
        "           .style(\"dominant-baseline\", \"central\")\n",
        "            .call(function(text) {\n",
        "      text.text(\"-2.5\");\n",
        "    })\n",
        ";\n",
        "      }(g.append(\"g\")));\n",
        "      (function (g) {\n",
        "        g.attr(\"visibility\", \"hidden\");\n",
        "        g.append(\"svg:text\")\n",
        "           .attr(\"x\", 18.09)\n",
        "           .attr(\"y\", 72.37)\n",
        "           .attr(\"text-anchor\", \"end\")\n",
        "           .style(\"dominant-baseline\", \"central\")\n",
        "            .call(function(text) {\n",
        "      text.text(\"-0.5\");\n",
        "    })\n",
        ";\n",
        "      }(g.append(\"g\")));\n",
        "      (function (g) {\n",
        "        g.attr(\"visibility\", \"hidden\");\n",
        "        g.append(\"svg:text\")\n",
        "           .attr(\"x\", 18.09)\n",
        "           .attr(\"y\", -32.89)\n",
        "           .attr(\"text-anchor\", \"end\")\n",
        "           .style(\"dominant-baseline\", \"central\")\n",
        "            .call(function(text) {\n",
        "      text.text(\"3.5\");\n",
        "    })\n",
        ";\n",
        "      }(g.append(\"g\")));\n",
        "      g.append(\"svg:text\")\n",
        "         .attr(\"x\", 18.09)\n",
        "         .attr(\"y\", 59.21)\n",
        "         .attr(\"text-anchor\", \"end\")\n",
        "         .style(\"dominant-baseline\", \"central\")\n",
        "         .call(function(text) {\n",
        "     text.text(\"0.0\");\n",
        "   })\n",
        ";\n",
        "      (function (g) {\n",
        "        g.attr(\"visibility\", \"hidden\");\n",
        "        g.append(\"svg:text\")\n",
        "           .attr(\"x\", 18.09)\n",
        "           .attr(\"y\", -59.21)\n",
        "           .attr(\"text-anchor\", \"end\")\n",
        "           .style(\"dominant-baseline\", \"central\")\n",
        "            .call(function(text) {\n",
        "      text.text(\"4.5\");\n",
        "    })\n",
        ";\n",
        "      }(g.append(\"g\")));\n",
        "      g.append(\"svg:text\")\n",
        "         .attr(\"x\", 18.09)\n",
        "         .attr(\"y\", 19.74)\n",
        "         .attr(\"text-anchor\", \"end\")\n",
        "         .style(\"dominant-baseline\", \"central\")\n",
        "         .call(function(text) {\n",
        "     text.text(\"1.5\");\n",
        "   })\n",
        ";\n",
        "      g.append(\"svg:text\")\n",
        "         .attr(\"x\", 18.09)\n",
        "         .attr(\"y\", 6.58)\n",
        "         .attr(\"text-anchor\", \"end\")\n",
        "         .style(\"dominant-baseline\", \"central\")\n",
        "         .call(function(text) {\n",
        "     text.text(\"2.0\");\n",
        "   })\n",
        ";\n",
        "    }(g.append(\"g\")));\n",
        "    (function (g) {\n",
        "      g.attr(\"stroke\", \"none\")\n",
        "       .attr(\"fill\", \"#362A35\")\n",
        "       .attr(\"font-family\", \"'PT Sans','Helvetica Neue','Helvetica',sans-serif\")\n",
        "       .style(\"font-size\", \"3.88px\");\n",
        "      g.append(\"svg:text\")\n",
        "         .attr(\"x\", 8.26)\n",
        "         .attr(\"y\", 32.89)\n",
        "         .attr(\"text-anchor\", \"middle\")\n",
        "         .style(\"dominant-baseline\", \"central\")\n",
        "         .attr(\"transform\", \"rotate(-90, 8.26, 32.89)\")\n",
        "         .call(function(text) {\n",
        "     text.text(\"Sensitivity\");\n",
        "   })\n",
        ";\n",
        "    }(g.append(\"g\")));\n",
        "    (function (g) {\n",
        "      g.attr(\"stroke\", \"none\")\n",
        "       .attr(\"fill\", \"#4C404B\")\n",
        "       .attr(\"font-family\", \"'PT Sans','Helvetica Neue','Helvetica',sans-serif\")\n",
        "       .style(\"font-size\", \"3.18px\")\n",
        "       .attr(\"class\", \"guide xlabels\");\n",
        "      (function (g) {\n",
        "        g.attr(\"visibility\", \"hidden\");\n",
        "        g.append(\"svg:text\")\n",
        "           .attr(\"x\", 203.22)\n",
        "           .attr(\"y\", 65.48)\n",
        "           .attr(\"text-anchor\", \"middle\")\n",
        "            .call(function(text) {\n",
        "      text.text(\"1400\");\n",
        "    })\n",
        ";\n",
        "      }(g.append(\"g\")));\n",
        "      (function (g) {\n",
        "        g.attr(\"visibility\", \"hidden\");\n",
        "        g.append(\"svg:text\")\n",
        "           .attr(\"x\", -61)\n",
        "           .attr(\"y\", 65.48)\n",
        "           .attr(\"text-anchor\", \"middle\")\n",
        "            .call(function(text) {\n",
        "      text.text(\"-200\");\n",
        "    })\n",
        ";\n",
        "      }(g.append(\"g\")));\n",
        "      (function (g) {\n",
        "        g.attr(\"visibility\", \"hidden\");\n",
        "        g.append(\"svg:text\")\n",
        "           .attr(\"x\", -77.52)\n",
        "           .attr(\"y\", 65.48)\n",
        "           .attr(\"text-anchor\", \"middle\")\n",
        "            .call(function(text) {\n",
        "      text.text(\"-300\");\n",
        "    })\n",
        ";\n",
        "      }(g.append(\"g\")));\n",
        "      g.append(\"svg:text\")\n",
        "         .attr(\"x\", 54.59)\n",
        "         .attr(\"y\", 65.48)\n",
        "         .attr(\"text-anchor\", \"middle\")\n",
        "         .call(function(text) {\n",
        "     text.text(\"500\");\n",
        "   })\n",
        ";\n",
        "      (function (g) {\n",
        "        g.attr(\"visibility\", \"hidden\");\n",
        "        g.append(\"svg:text\")\n",
        "           .attr(\"x\", -44.49)\n",
        "           .attr(\"y\", 65.48)\n",
        "           .attr(\"text-anchor\", \"middle\")\n",
        "            .call(function(text) {\n",
        "      text.text(\"-100\");\n",
        "    })\n",
        ";\n",
        "      }(g.append(\"g\")));\n",
        "      (function (g) {\n",
        "        g.attr(\"visibility\", \"hidden\");\n",
        "        g.append(\"svg:text\")\n",
        "           .attr(\"x\", 120.65)\n",
        "           .attr(\"y\", 65.48)\n",
        "           .attr(\"text-anchor\", \"middle\")\n",
        "            .call(function(text) {\n",
        "      text.text(\"900\");\n",
        "    })\n",
        ";\n",
        "      }(g.append(\"g\")));\n",
        "      (function (g) {\n",
        "        g.attr(\"visibility\", \"hidden\");\n",
        "        g.append(\"svg:text\")\n",
        "           .attr(\"x\", 170.19)\n",
        "           .attr(\"y\", 65.48)\n",
        "           .attr(\"text-anchor\", \"middle\")\n",
        "            .call(function(text) {\n",
        "      text.text(\"1200\");\n",
        "    })\n",
        ";\n",
        "      }(g.append(\"g\")));\n",
        "      (function (g) {\n",
        "        g.attr(\"visibility\", \"hidden\");\n",
        "        g.append(\"svg:text\")\n",
        "           .attr(\"x\", 153.68)\n",
        "           .attr(\"y\", 65.48)\n",
        "           .attr(\"text-anchor\", \"middle\")\n",
        "            .call(function(text) {\n",
        "      text.text(\"1100\");\n",
        "    })\n",
        ";\n",
        "      }(g.append(\"g\")));\n",
        "      (function (g) {\n",
        "        g.attr(\"visibility\", \"hidden\");\n",
        "        g.append(\"svg:text\")\n",
        "           .attr(\"x\", 186.71)\n",
        "           .attr(\"y\", 65.48)\n",
        "           .attr(\"text-anchor\", \"middle\")\n",
        "            .call(function(text) {\n",
        "      text.text(\"1300\");\n",
        "    })\n",
        ";\n",
        "      }(g.append(\"g\")));\n",
        "      (function (g) {\n",
        "        g.attr(\"visibility\", \"hidden\");\n",
        "        g.append(\"svg:text\")\n",
        "           .attr(\"x\", 137.17)\n",
        "           .attr(\"y\", 65.48)\n",
        "           .attr(\"text-anchor\", \"middle\")\n",
        "            .call(function(text) {\n",
        "      text.text(\"1000\");\n",
        "    })\n",
        ";\n",
        "      }(g.append(\"g\")));\n",
        "      g.append(\"svg:text\")\n",
        "         .attr(\"x\", 38.08)\n",
        "         .attr(\"y\", 65.48)\n",
        "         .attr(\"text-anchor\", \"middle\")\n",
        "         .call(function(text) {\n",
        "     text.text(\"400\");\n",
        "   })\n",
        ";\n",
        "      g.append(\"svg:text\")\n",
        "         .attr(\"x\", 21.57)\n",
        "         .attr(\"y\", 65.48)\n",
        "         .attr(\"text-anchor\", \"middle\")\n",
        "         .call(function(text) {\n",
        "     text.text(\"300\");\n",
        "   })\n",
        ";\n",
        "      g.append(\"svg:text\")\n",
        "         .attr(\"x\", 71.11)\n",
        "         .attr(\"y\", 65.48)\n",
        "         .attr(\"text-anchor\", \"middle\")\n",
        "         .call(function(text) {\n",
        "     text.text(\"600\");\n",
        "   })\n",
        ";\n",
        "      g.append(\"svg:text\")\n",
        "         .attr(\"x\", 87.62)\n",
        "         .attr(\"y\", 65.48)\n",
        "         .attr(\"text-anchor\", \"middle\")\n",
        "         .call(function(text) {\n",
        "     text.text(\"700\");\n",
        "   })\n",
        ";\n",
        "      (function (g) {\n",
        "        g.attr(\"visibility\", \"hidden\");\n",
        "        g.append(\"svg:text\")\n",
        "           .attr(\"x\", -27.98)\n",
        "           .attr(\"y\", 65.48)\n",
        "           .attr(\"text-anchor\", \"middle\")\n",
        "            .call(function(text) {\n",
        "      text.text(\"0\");\n",
        "    })\n",
        ";\n",
        "      }(g.append(\"g\")));\n",
        "      g.append(\"svg:text\")\n",
        "         .attr(\"x\", 104.14)\n",
        "         .attr(\"y\", 65.48)\n",
        "         .attr(\"text-anchor\", \"middle\")\n",
        "         .call(function(text) {\n",
        "     text.text(\"800\");\n",
        "   })\n",
        ";\n",
        "      (function (g) {\n",
        "        g.attr(\"visibility\", \"hidden\");\n",
        "        g.append(\"svg:text\")\n",
        "           .attr(\"x\", -11.46)\n",
        "           .attr(\"y\", 65.48)\n",
        "           .attr(\"text-anchor\", \"middle\")\n",
        "            .call(function(text) {\n",
        "      text.text(\"100\");\n",
        "    })\n",
        ";\n",
        "      }(g.append(\"g\")));\n",
        "      (function (g) {\n",
        "        g.attr(\"visibility\", \"hidden\");\n",
        "        g.append(\"svg:text\")\n",
        "           .attr(\"x\", 5.05)\n",
        "           .attr(\"y\", 65.48)\n",
        "           .attr(\"text-anchor\", \"middle\")\n",
        "            .call(function(text) {\n",
        "      text.text(\"200\");\n",
        "    })\n",
        ";\n",
        "      }(g.append(\"g\")));\n",
        "    }(g.append(\"g\")));\n",
        "    (function (g) {\n",
        "      g.attr(\"stroke\", \"none\")\n",
        "       .attr(\"fill\", \"#362A35\")\n",
        "       .attr(\"font-family\", \"'PT Sans','Helvetica Neue','Helvetica',sans-serif\")\n",
        "       .style(\"font-size\", \"3.88px\");\n",
        "      g.append(\"svg:text\")\n",
        "         .attr(\"x\", 62.85)\n",
        "         .attr(\"y\", 73)\n",
        "         .attr(\"text-anchor\", \"middle\")\n",
        "         .call(function(text) {\n",
        "     text.text(\"\u03bb (nm)\");\n",
        "   })\n",
        ";\n",
        "    }(g.append(\"g\")));\n",
        "    (function (g) {\n",
        "      g.attr(\"stroke\", \"none\")\n",
        "       .attr(\"font-family\", \"'PT Sans','Helvetica Neue','Helvetica',sans-serif\")\n",
        "       .style(\"font-size\", \"3.88px\")\n",
        "       .attr(\"fill\", \"#362A35\");\n",
        "      g.append(\"svg:text\")\n",
        "         .attr(\"x\", 112.81)\n",
        "         .attr(\"y\", 29.11)\n",
        "         .attr(\"text-anchor\", \"middle\")\n",
        "         .call(function(text) {\n",
        "     text.text(\"ctf\");\n",
        "   })\n",
        ";\n",
        "    }(g.append(\"g\")));\n",
        "    (function (g) {\n",
        "      g.attr(\"font-family\", \"'PT Sans','Helvetica Neue','Helvetica',sans-serif\")\n",
        "       .style(\"font-size\", \"3.18px\");\n",
        "      (function (g) {\n",
        "        g.attr(\"class\", \"guide color_\u0233\")\n",
        "         .on(\"click\", guide_toggle_color(\"color_\u0233\"));\n",
        "        (function (g) {\n",
        "          g.attr(\"fill\", \"#61FF00\")\n",
        "           .attr(\"stroke\", \"#00F800\")\n",
        "           .attr(\"stroke-width\", 0.3);\n",
        "          g.append(\"svg:path\")\n",
        "             .attr(\"d\", \"M108.61,35.8 L 112.31 35.8 112.31 39.5 108.61 39.5 z\");\n",
        "        }(g.append(\"g\")));\n",
        "        (function (g) {\n",
        "          g.attr(\"stroke\", \"none\")\n",
        "           .attr(\"fill\", \"#4C404B\");\n",
        "          g.append(\"svg:text\")\n",
        "             .attr(\"x\", 113.31)\n",
        "             .attr(\"y\", 37.65)\n",
        "             .style(\"dominant-baseline\", \"central\")\n",
        "               .call(function(text) {\n",
        "       text.text(\"\u0233\");\n",
        "     })\n",
        ";\n",
        "        }(g.append(\"g\")));\n",
        "      }(g.append(\"g\")));\n",
        "      (function (g) {\n",
        "        g.attr(\"class\", \"guide color_x\u0304\")\n",
        "         .on(\"click\", guide_toggle_color(\"color_x\u0304\"));\n",
        "        (function (g) {\n",
        "          g.attr(\"fill\", \"#FF7500\")\n",
        "           .attr(\"stroke\", \"#FF4000\")\n",
        "           .attr(\"stroke-width\", 0.3);\n",
        "          g.append(\"svg:path\")\n",
        "             .attr(\"d\", \"M108.61,31.11 L 112.31 31.11 112.31 34.8 108.61 34.8 z\");\n",
        "        }(g.append(\"g\")));\n",
        "        (function (g) {\n",
        "          g.attr(\"stroke\", \"none\")\n",
        "           .attr(\"fill\", \"#4C404B\");\n",
        "          g.append(\"svg:text\")\n",
        "             .attr(\"x\", 113.31)\n",
        "             .attr(\"y\", 32.96)\n",
        "             .style(\"dominant-baseline\", \"central\")\n",
        "               .call(function(text) {\n",
        "       text.text(\"x\u0304\");\n",
        "     })\n",
        ";\n",
        "        }(g.append(\"g\")));\n",
        "      }(g.append(\"g\")));\n",
        "      (function (g) {\n",
        "        g.attr(\"class\", \"guide color_z\u0304\")\n",
        "         .on(\"click\", guide_toggle_color(\"color_z\u0304\"));\n",
        "        (function (g) {\n",
        "          g.attr(\"fill\", \"#7700FF\")\n",
        "           .attr(\"stroke\", \"#0000FF\")\n",
        "           .attr(\"stroke-width\", 0.3);\n",
        "          g.append(\"svg:path\")\n",
        "             .attr(\"d\", \"M108.61,40.5 L 112.31 40.5 112.31 44.2 108.61 44.2 z\");\n",
        "        }(g.append(\"g\")));\n",
        "        (function (g) {\n",
        "          g.attr(\"stroke\", \"none\")\n",
        "           .attr(\"fill\", \"#4C404B\");\n",
        "          g.append(\"svg:text\")\n",
        "             .attr(\"x\", 113.31)\n",
        "             .attr(\"y\", 42.35)\n",
        "             .style(\"dominant-baseline\", \"central\")\n",
        "               .call(function(text) {\n",
        "       text.text(\"z\u0304\");\n",
        "     })\n",
        ";\n",
        "        }(g.append(\"g\")));\n",
        "      }(g.append(\"g\")));\n",
        "    }(g.append(\"g\")));\n",
        "    (function (g) {\n",
        "      g.on(\"mouseover\", guide_background_mouseover(\"#C6C6C9\"))\n",
        "       .on(\"mouseout\", guide_background_mouseout(\"#F0F0F3\"))\n",
        "       .call(zoom_behavior(ctx))\n",
        ";\n",
        "      (function (g) {\n",
        "        d3.select(\"defs\")\n",
        "  .append(\"svg:clipPath\")\n",
        "    .attr(\"id\", parent_id + \"_clippath0\")\n",
        "    .append(\"svg:path\")\n",
        "      .attr(\"d\", \" M19.09,5 L 106.61 5 106.61 60.79 19.09 60.79 z\");g.attr(\"clip-path\", \"url(#\" + parent_id + \"_clippath0)\");\n",
        "        (function (g) {\n",
        "          g.attr(\"class\", \"guide background\")\n",
        "           .attr(\"stroke\", \"#F1F1F5\")\n",
        "           .attr(\"fill\", \"#FAFAFA\")\n",
        "           .attr(\"opacity\", 1.00);\n",
        "          g.append(\"svg:path\")\n",
        "             .attr(\"d\", \"M19.09,5 L 106.61 5 106.61 60.79 19.09 60.79 z\");\n",
        "        }(g.append(\"g\")));\n",
        "        (function (g) {\n",
        "          g.attr(\"stroke\", \"#F0F0F3\")\n",
        "           .attr(\"stroke-width\", 0.2)\n",
        "           .attr(\"class\", \"guide ygridlines xfixed\");\n",
        "          g.append(\"svg:path\")\n",
        "             .attr(\"d\", \"M19.09,98.68 L 106.61 98.68\");\n",
        "          g.append(\"svg:path\")\n",
        "             .attr(\"d\", \"M19.09,-6.58 L 106.61 -6.58\");\n",
        "          g.append(\"svg:path\")\n",
        "             .attr(\"d\", \"M19.09,46.05 L 106.61 46.05\");\n",
        "          g.append(\"svg:path\")\n",
        "             .attr(\"d\", \"M19.09,-46.05 L 106.61 -46.05\");\n",
        "          g.append(\"svg:path\")\n",
        "             .attr(\"d\", \"M19.09,72.37 L 106.61 72.37\");\n",
        "          g.append(\"svg:path\")\n",
        "             .attr(\"d\", \"M19.09,59.21 L 106.61 59.21\");\n",
        "          g.append(\"svg:path\")\n",
        "             .attr(\"d\", \"M19.09,19.74 L 106.61 19.74\");\n",
        "          g.append(\"svg:path\")\n",
        "             .attr(\"d\", \"M19.09,6.58 L 106.61 6.58\");\n",
        "          g.append(\"svg:path\")\n",
        "             .attr(\"d\", \"M19.09,-59.21 L 106.61 -59.21\");\n",
        "          g.append(\"svg:path\")\n",
        "             .attr(\"d\", \"M19.09,-32.89 L 106.61 -32.89\");\n",
        "          g.append(\"svg:path\")\n",
        "             .attr(\"d\", \"M19.09,124.99 L 106.61 124.99\");\n",
        "          g.append(\"svg:path\")\n",
        "             .attr(\"d\", \"M19.09,85.52 L 106.61 85.52\");\n",
        "          g.append(\"svg:path\")\n",
        "             .attr(\"d\", \"M19.09,-19.74 L 106.61 -19.74\");\n",
        "          g.append(\"svg:path\")\n",
        "             .attr(\"d\", \"M19.09,111.84 L 106.61 111.84\");\n",
        "          g.append(\"svg:path\")\n",
        "             .attr(\"d\", \"M19.09,32.89 L 106.61 32.89\");\n",
        "        }(g.append(\"g\")));\n",
        "        (function (g) {\n",
        "          g.attr(\"stroke\", \"#F0F0F3\")\n",
        "           .attr(\"stroke-width\", 0.2)\n",
        "           .attr(\"class\", \"guide xgridlines yfixed\");\n",
        "          g.append(\"svg:path\")\n",
        "             .attr(\"d\", \"M-61,5 L -61 60.79\");\n",
        "          g.append(\"svg:path\")\n",
        "             .attr(\"d\", \"M54.59,5 L 54.59 60.79\");\n",
        "          g.append(\"svg:path\")\n",
        "             .attr(\"d\", \"M120.65,5 L 120.65 60.79\");\n",
        "          g.append(\"svg:path\")\n",
        "             .attr(\"d\", \"M153.68,5 L 153.68 60.79\");\n",
        "          g.append(\"svg:path\")\n",
        "             .attr(\"d\", \"M137.17,5 L 137.17 60.79\");\n",
        "          g.append(\"svg:path\")\n",
        "             .attr(\"d\", \"M21.57,5 L 21.57 60.79\");\n",
        "          g.append(\"svg:path\")\n",
        "             .attr(\"d\", \"M87.62,5 L 87.62 60.79\");\n",
        "          g.append(\"svg:path\")\n",
        "             .attr(\"d\", \"M104.14,5 L 104.14 60.79\");\n",
        "          g.append(\"svg:path\")\n",
        "             .attr(\"d\", \"M5.05,5 L 5.05 60.79\");\n",
        "          g.append(\"svg:path\")\n",
        "             .attr(\"d\", \"M-11.46,5 L -11.46 60.79\");\n",
        "          g.append(\"svg:path\")\n",
        "             .attr(\"d\", \"M-27.98,5 L -27.98 60.79\");\n",
        "          g.append(\"svg:path\")\n",
        "             .attr(\"d\", \"M71.11,5 L 71.11 60.79\");\n",
        "          g.append(\"svg:path\")\n",
        "             .attr(\"d\", \"M38.08,5 L 38.08 60.79\");\n",
        "          g.append(\"svg:path\")\n",
        "             .attr(\"d\", \"M186.71,5 L 186.71 60.79\");\n",
        "          g.append(\"svg:path\")\n",
        "             .attr(\"d\", \"M170.19,5 L 170.19 60.79\");\n",
        "          g.append(\"svg:path\")\n",
        "             .attr(\"d\", \"M-44.49,5 L -44.49 60.79\");\n",
        "          g.append(\"svg:path\")\n",
        "             .attr(\"d\", \"M-77.52,5 L -77.52 60.79\");\n",
        "          g.append(\"svg:path\")\n",
        "             .attr(\"d\", \"M203.22,5 L 203.22 60.79\");\n",
        "        }(g.append(\"g\")));\n",
        "      }(g.append(\"g\")));\n",
        "      (function (g) {\n",
        "        d3.select(\"defs\")\n",
        "  .append(\"svg:clipPath\")\n",
        "    .attr(\"id\", parent_id + \"_clippath1\")\n",
        "    .append(\"svg:path\")\n",
        "      .attr(\"d\", \" M19.09,5 L 106.61 5 106.61 60.79 19.09 60.79 z\");g.attr(\"clip-path\", \"url(#\" + parent_id + \"_clippath1)\");\n",
        "        (function (g) {\n",
        "          g.attr(\"class\", \"plotpanel\");\n",
        "          (function (g) {\n",
        "            g.attr(\"fill\", \"none\")\n",
        "             .attr(\"stroke-width\", 0.3);\n",
        "            (function (g) {\n",
        "              g.attr(\"stroke\", \"#7700FF\")\n",
        "               .attr(\"class\", \"geometry color_z\u0304\");\n",
        "              g.append(\"svg:path\")\n",
        "                 .attr(\"d\", \"M34.78,59.04 L 34.94 59.02 35.11 59 35.27 58.98 35.44 58.96 35.6 58.93 35.77 58.89 35.93 58.85 36.1 58.8 36.26 58.74 36.43 58.68 36.59 58.62 36.76 58.54 36.92 58.46 37.09 58.37 37.25 58.26 37.42 58.12 37.59 57.96 37.75 57.78 37.92 57.6 38.08 57.42 38.25 57.25 38.41 57.07 38.58 56.86 38.74 56.61 38.91 56.31 39.07 55.93 39.24 55.48 39.4 54.96 39.57 54.39 39.73 53.75 39.9 53.06 40.06 52.3 40.23 51.45 40.39 50.5 40.56 49.44 40.72 48.26 40.89 46.96 41.05 45.53 41.22 43.96 41.38 42.22 41.55 40.3 41.71 38.24 41.88 36.11 42.04 33.96 42.21 31.87 42.37 29.86 42.54 27.93 42.7 26.1 42.87 24.37 43.03 22.75 43.2 21.25 43.37 19.87 43.53 18.63 43.7 17.5 43.86 16.5 44.03 15.62 44.19 14.86 44.36 14.21 44.52 13.67 44.69 13.23 44.85 12.89 45.02 12.64 45.18 12.47 45.35 12.36 45.51 12.3 45.68 12.29 45.84 12.32 46.01 12.39 46.17 12.48 46.34 12.58 46.5 12.68 46.67 12.79 46.83 12.92 47 13.09 47.16 13.31 47.33 13.59 47.49 13.92 47.66 14.32 47.82 14.77 47.99 15.28 48.15 15.85 48.32 16.49 48.48 17.21 48.65 18.04 48.81 19 48.98 20.1 49.15 21.33 49.31 22.63 49.48 23.98 49.64 25.32 49.81 26.65 49.97 27.95 50.14 29.24 50.3 30.52 50.47 31.79 50.63 33.05 50.8 34.28 50.96 35.49 51.13 36.67 51.29 37.82 51.46 38.93 51.62 40.01 51.79 41.05 51.95 42.05 52.12 42.99 52.28 43.88 52.45 44.72 52.61 45.52 52.78 46.26 52.94 46.97 53.11 47.63 53.27 48.26 53.44 48.84 53.6 49.39 53.77 49.91 53.93 50.4 54.1 50.85 54.26 51.28 54.43 51.68 54.59 52.05 54.76 52.4 54.93 52.72 55.09 53.03 55.26 53.33 55.42 53.62 55.59 53.91 55.75 54.21 55.92 54.49 56.08 54.77 56.25 55.05 56.41 55.31 56.58 55.57 56.74 55.81 56.91 56.05 57.07 56.27 57.24 56.47 57.4 56.66 57.57 56.84 57.73 57 57.9 57.15 58.06 57.28 58.23 57.4 58.39 57.51 58.56 57.61 58.72 57.7 58.89 57.79 59.05 57.87 59.22 57.95 59.38 58.03 59.55 58.1 59.71 58.17 59.88 58.24 60.04 58.3 60.21 58.36 60.37 58.42 60.54 58.48 60.7 58.53 60.87 58.58 61.04 58.63 61.2 58.67 61.37 58.72 61.53 58.75 61.7 58.79 61.86 58.82 62.03 58.86 62.19 58.88 62.36 58.91 62.52 58.93 62.69 58.96 62.85 58.98 63.02 59 63.18 59.01 63.35 59.03 63.51 59.04 63.68 59.06 63.84 59.07 64.01 59.08 64.17 59.09 64.34 59.1 64.5 59.11 64.67 59.11 64.83 59.12 65 59.13 65.16 59.13 65.33 59.14 65.49 59.14 65.66 59.14 65.82 59.15 65.99 59.15 66.15 59.15 66.32 59.15 66.48 59.16 66.65 59.16 66.82 59.16 66.98 59.16 67.15 59.16 67.31 59.16 67.48 59.16 67.64 59.16 67.81 59.16 67.97 59.17 68.14 59.17 68.3 59.17 68.47 59.17 68.63 59.17 68.8 59.17 68.96 59.17 69.13 59.18 69.29 59.18 69.46 59.18 69.62 59.18 69.79 59.18 69.95 59.18 70.12 59.18 70.28 59.18 70.45 59.18 70.61 59.18 70.78 59.18 70.94 59.19 71.11 59.19 71.27 59.19 71.44 59.19 71.6 59.19 71.77 59.19 71.93 59.19 72.1 59.19 72.26 59.2 72.43 59.2 72.6 59.2 72.76 59.2 72.93 59.2 73.09 59.2 73.26 59.2 73.42 59.2 73.59 59.2 73.75 59.2 73.92 59.2 74.08 59.2 74.25 59.2 74.41 59.2 74.58 59.2 74.74 59.2 74.91 59.2 75.07 59.2 75.24 59.21 75.4 59.21 75.57 59.21 75.73 59.21 75.9 59.21 76.06 59.21 76.23 59.21 76.39 59.21 76.56 59.21 76.72 59.21 76.89 59.21 77.05 59.21 77.22 59.21 77.38 59.21 77.55 59.21 77.71 59.21 77.88 59.21 78.04 59.21 78.21 59.21 78.38 59.21 78.54 59.21 78.71 59.21 78.87 59.21 79.04 59.21 79.2 59.21 79.37 59.21 79.53 59.21 79.7 59.21 79.86 59.21 80.03 59.21 80.19 59.21 80.36 59.21 80.52 59.21 80.69 59.21 80.85 59.21 81.02 59.21 81.18 59.21 81.35 59.21 81.51 59.21 81.68 59.21 81.84 59.21 82.01 59.21 82.17 59.21 82.34 59.21 82.5 59.21 82.67 59.21 82.83 59.21 83 59.21 83.16 59.21 83.33 59.21 83.49 59.21 83.66 59.21 83.82 59.21 83.99 59.21 84.16 59.21 84.32 59.21 84.49 59.21 84.65 59.21 84.82 59.21 84.98 59.21 85.15 59.21 85.31 59.21 85.48 59.21 85.64 59.21 85.81 59.21 85.97 59.21 86.14 59.21 86.3 59.21 86.47 59.21 86.63 59.21 86.8 59.21 86.96 59.21 87.13 59.21 87.29 59.21 87.46 59.21 87.62 59.21 87.79 59.21 87.95 59.21 88.12 59.21 88.28 59.21 88.45 59.21 88.61 59.21 88.78 59.21 88.94 59.21 89.11 59.21 89.27 59.21 89.44 59.21 89.6 59.21 89.77 59.21 89.93 59.21 90.1 59.21 90.27 59.21 90.43 59.21 90.6 59.21 90.76 59.21 90.93 59.21 91.09 59.21 91.26 59.21 91.42 59.21 91.59 59.21 91.75 59.21 91.92 59.21 92.08 59.21 92.25 59.21 92.41 59.21 92.58 59.21 92.74 59.21 92.91 59.21 93.07 59.21 93.24 59.21 93.4 59.21 93.57 59.21 93.73 59.21 93.9 59.21 94.06 59.21 94.23 59.21 94.39 59.21 94.56 59.21 94.72 59.21 94.89 59.21 95.05 59.21 95.22 59.21 95.38 59.21 95.55 59.21 95.71 59.21 95.88 59.21 96.05 59.21 96.21 59.21 96.38 59.21 96.54 59.21 96.71 59.21 96.87 59.21 97.04 59.21 97.2 59.21 97.37 59.21 97.53 59.21 97.7 59.21 97.86 59.21 98.03 59.21 98.19 59.21 98.36 59.21 98.52 59.21 98.69 59.21 98.85 59.21 99.02 59.21 99.18 59.21 99.35 59.21 99.51 59.21 99.68 59.21 99.84 59.21 100.01 59.21 100.17 59.21 100.34 59.21 100.5 59.21 100.67 59.21 100.83 59.21\");\n",
        "            }(g.append(\"g\")));\n",
        "          }(g.append(\"g\")));\n",
        "          (function (g) {\n",
        "            g.attr(\"fill\", \"none\")\n",
        "             .attr(\"stroke-width\", 0.3);\n",
        "            (function (g) {\n",
        "              g.attr(\"stroke\", \"#61FF00\")\n",
        "               .attr(\"class\", \"geometry color_\u0233\");\n",
        "              g.append(\"svg:path\")\n",
        "                 .attr(\"d\", \"M34.78,59.21 L 34.94 59.21 35.11 59.21 35.27 59.21 35.44 59.21 35.6 59.21 35.77 59.21 35.93 59.21 36.1 59.21 36.26 59.21 36.43 59.2 36.59 59.2 36.76 59.2 36.92 59.2 37.09 59.2 37.25 59.2 37.42 59.2 37.59 59.2 37.75 59.2 37.92 59.2 38.08 59.2 38.25 59.2 38.41 59.2 38.58 59.19 38.74 59.19 38.91 59.19 39.07 59.19 39.24 59.19 39.4 59.18 39.57 59.18 39.73 59.18 39.9 59.17 40.06 59.17 40.23 59.16 40.39 59.16 40.56 59.15 40.72 59.14 40.89 59.14 41.05 59.13 41.22 59.12 41.38 59.1 41.55 59.09 41.71 59.07 41.88 59.05 42.04 59.04 42.21 59.02 42.37 59 42.54 58.97 42.7 58.95 42.87 58.93 43.03 58.9 43.2 58.88 43.37 58.85 43.53 58.82 43.7 58.79 43.86 58.76 44.03 58.73 44.19 58.7 44.36 58.67 44.52 58.64 44.69 58.6 44.85 58.57 45.02 58.53 45.18 58.5 45.35 58.46 45.51 58.42 45.68 58.38 45.84 58.34 46.01 58.3 46.17 58.25 46.34 58.21 46.5 58.16 46.67 58.11 46.83 58.06 47 58 47.16 57.94 47.33 57.89 47.49 57.82 47.66 57.76 47.82 57.7 47.99 57.63 48.15 57.56 48.32 57.49 48.48 57.42 48.65 57.34 48.81 57.26 48.98 57.18 49.15 57.1 49.31 57.01 49.48 56.91 49.64 56.81 49.81 56.71 49.97 56.6 50.14 56.49 50.3 56.37 50.47 56.24 50.63 56.12 50.8 55.98 50.96 55.84 51.13 55.7 51.29 55.55 51.46 55.4 51.62 55.25 51.79 55.09 51.95 54.93 52.12 54.75 52.28 54.57 52.45 54.38 52.61 54.17 52.78 53.96 52.94 53.73 53.11 53.49 53.27 53.24 53.44 52.98 53.6 52.7 53.77 52.4 53.93 52.1 54.1 51.78 54.26 51.44 54.43 51.09 54.59 50.71 54.76 50.3 54.93 49.87 55.09 49.43 55.26 48.96 55.42 48.49 55.59 48.01 55.75 47.52 55.92 47.01 56.08 46.5 56.25 45.97 56.41 45.43 56.58 44.88 56.74 44.32 56.91 43.76 57.07 43.2 57.24 42.65 57.4 42.1 57.57 41.55 57.73 41.03 57.9 40.52 58.06 40.05 58.23 39.59 58.39 39.16 58.56 38.74 58.72 38.34 58.89 37.94 59.05 37.56 59.22 37.2 59.38 36.85 59.55 36.52 59.71 36.21 59.88 35.92 60.04 35.64 60.21 35.38 60.37 35.13 60.54 34.9 60.7 34.68 60.87 34.47 61.04 34.28 61.2 34.1 61.37 33.94 61.53 33.79 61.7 33.65 61.86 33.52 62.03 33.41 62.19 33.31 62.36 33.22 62.52 33.15 62.69 33.08 62.85 33.03 63.02 32.98 63.18 32.94 63.35 32.92 63.51 32.9 63.68 32.89 63.84 32.9 64.01 32.91 64.17 32.94 64.34 32.98 64.5 33.03 64.67 33.09 64.83 33.16 65 33.25 65.16 33.35 65.33 33.46 65.49 33.58 65.66 33.7 65.82 33.84 65.99 34 66.15 34.16 66.32 34.33 66.48 34.51 66.65 34.7 66.82 34.91 66.98 35.12 67.15 35.34 67.31 35.57 67.48 35.81 67.64 36.06 67.81 36.31 67.97 36.58 68.14 36.86 68.3 37.14 68.47 37.43 68.63 37.73 68.8 38.03 68.96 38.34 69.13 38.65 69.29 38.97 69.46 39.29 69.62 39.61 69.79 39.93 69.95 40.26 70.12 40.59 70.28 40.92 70.45 41.26 70.61 41.59 70.78 41.93 70.94 42.27 71.11 42.6 71.27 42.94 71.44 43.28 71.6 43.62 71.77 43.96 71.93 44.29 72.1 44.63 72.26 44.97 72.43 45.3 72.6 45.64 72.76 45.97 72.93 46.3 73.09 46.63 73.26 46.95 73.42 47.28 73.59 47.6 73.75 47.92 73.92 48.23 74.08 48.55 74.25 48.87 74.41 49.18 74.58 49.5 74.74 49.82 74.91 50.14 75.07 50.45 75.24 50.76 75.4 51.07 75.57 51.37 75.73 51.67 75.9 51.96 76.06 52.23 76.23 52.5 76.39 52.76 76.56 53.02 76.72 53.26 76.89 53.5 77.05 53.73 77.22 53.96 77.38 54.18 77.55 54.39 77.71 54.6 77.88 54.81 78.04 55.01 78.21 55.2 78.38 55.39 78.54 55.57 78.71 55.75 78.87 55.92 79.04 56.08 79.2 56.24 79.37 56.39 79.53 56.54 79.7 56.68 79.86 56.81 80.03 56.94 80.19 57.06 80.36 57.18 80.52 57.29 80.69 57.4 80.85 57.5 81.02 57.6 81.18 57.7 81.35 57.79 81.51 57.87 81.68 57.96 81.84 58.03 82.01 58.11 82.17 58.18 82.34 58.25 82.5 58.31 82.67 58.37 82.83 58.42 83 58.47 83.16 58.52 83.33 58.56 83.49 58.6 83.66 58.63 83.82 58.67 83.99 58.7 84.16 58.73 84.32 58.76 84.49 58.79 84.65 58.82 84.82 58.84 84.98 58.87 85.15 58.89 85.31 58.92 85.48 58.94 85.64 58.96 85.81 58.98 85.97 58.99 86.14 59.01 86.3 59.02 86.47 59.03 86.63 59.05 86.8 59.06 86.96 59.07 87.13 59.08 87.29 59.08 87.46 59.09 87.62 59.1 87.79 59.11 87.95 59.11 88.12 59.12 88.28 59.13 88.45 59.13 88.61 59.14 88.78 59.14 88.94 59.15 89.11 59.15 89.27 59.15 89.44 59.16 89.6 59.16 89.77 59.16 89.93 59.17 90.1 59.17 90.27 59.17 90.43 59.17 90.6 59.18 90.76 59.18 90.93 59.18 91.09 59.18 91.26 59.18 91.42 59.19 91.59 59.19 91.75 59.19 91.92 59.19 92.08 59.19 92.25 59.19 92.41 59.19 92.58 59.19 92.74 59.2 92.91 59.2 93.07 59.2 93.24 59.2 93.4 59.2 93.57 59.2 93.73 59.2 93.9 59.2 94.06 59.2 94.23 59.2 94.39 59.2 94.56 59.2 94.72 59.2 94.89 59.2 95.05 59.2 95.22 59.2 95.38 59.2 95.55 59.2 95.71 59.2 95.88 59.2 96.05 59.21 96.21 59.21 96.38 59.21 96.54 59.21 96.71 59.21 96.87 59.21 97.04 59.21 97.2 59.21 97.37 59.21 97.53 59.21 97.7 59.21 97.86 59.21 98.03 59.21 98.19 59.21 98.36 59.21 98.52 59.21 98.69 59.21 98.85 59.21 99.02 59.21 99.18 59.21 99.35 59.21 99.51 59.21 99.68 59.21 99.84 59.21 100.01 59.21 100.17 59.21 100.34 59.21 100.5 59.21 100.67 59.21 100.83 59.21\");\n",
        "            }(g.append(\"g\")));\n",
        "          }(g.append(\"g\")));\n",
        "          (function (g) {\n",
        "            g.attr(\"fill\", \"none\")\n",
        "             .attr(\"stroke-width\", 0.3);\n",
        "            (function (g) {\n",
        "              g.attr(\"stroke\", \"#FF7500\")\n",
        "               .attr(\"class\", \"geometry color_x\u0304\");\n",
        "              g.append(\"svg:path\")\n",
        "                 .attr(\"d\", \"M34.78,59.17 L 34.94 59.17 35.11 59.16 35.27 59.16 35.44 59.16 35.6 59.15 35.77 59.14 35.93 59.13 36.1 59.12 36.26 59.11 36.43 59.1 36.59 59.08 36.76 59.07 36.92 59.05 37.09 59.03 37.25 59.01 37.42 58.98 37.59 58.94 37.75 58.91 37.92 58.87 38.08 58.83 38.25 58.79 38.41 58.76 38.58 58.71 38.74 58.66 38.91 58.6 39.07 58.52 39.24 58.42 39.4 58.32 39.57 58.2 39.73 58.06 39.9 57.92 40.06 57.76 40.23 57.58 40.39 57.39 40.56 57.17 40.72 56.92 40.89 56.65 41.05 56.36 41.22 56.03 41.38 55.67 41.55 55.28 41.71 54.86 41.88 54.42 42.04 53.98 42.21 53.56 42.37 53.15 42.54 52.76 42.7 52.4 42.87 52.06 43.03 51.74 43.2 51.45 43.37 51.18 43.53 50.95 43.7 50.74 43.86 50.56 44.03 50.41 44.19 50.28 44.36 50.18 44.52 50.1 44.69 50.04 44.85 50.01 45.02 49.99 45.18 50 45.35 50.02 45.51 50.05 45.68 50.09 45.84 50.15 46.01 50.21 46.17 50.28 46.34 50.36 46.5 50.44 46.67 50.52 46.83 50.61 47 50.71 47.16 50.82 47.33 50.94 47.49 51.08 47.66 51.23 47.82 51.39 47.99 51.56 48.15 51.74 48.32 51.93 48.48 52.13 48.65 52.36 48.81 52.6 48.98 52.87 49.15 53.16 49.31 53.46 49.48 53.77 49.64 54.07 49.81 54.36 49.97 54.65 50.14 54.93 50.3 55.2 50.47 55.47 50.63 55.73 50.8 55.98 50.96 56.23 51.13 56.46 51.29 56.69 51.46 56.91 51.62 57.12 51.79 57.32 51.95 57.51 52.12 57.68 52.28 57.84 52.45 57.99 52.61 58.13 52.78 58.25 52.94 58.37 53.11 58.47 53.27 58.57 53.44 58.66 53.6 58.75 53.77 58.82 53.93 58.89 54.1 58.95 54.26 59 54.43 59.04 54.59 59.08 54.76 59.11 54.93 59.13 55.09 59.14 55.26 59.15 55.42 59.14 55.59 59.13 55.75 59.11 55.92 59.07 56.08 59.02 56.25 58.96 56.41 58.89 56.58 58.8 56.74 58.7 56.91 58.58 57.07 58.44 57.24 58.29 57.4 58.13 57.57 57.95 57.73 57.75 57.9 57.54 58.06 57.32 58.23 57.09 58.39 56.85 58.56 56.59 58.72 56.32 58.89 56.05 59.05 55.76 59.22 55.46 59.38 55.16 59.55 54.85 59.71 54.54 59.88 54.23 60.04 53.91 60.21 53.59 60.37 53.27 60.54 52.94 60.7 52.6 60.87 52.26 61.04 51.92 61.2 51.57 61.37 51.21 61.53 50.85 61.7 50.49 61.86 50.12 62.03 49.74 62.19 49.36 62.36 48.98 62.52 48.59 62.69 48.2 62.85 47.8 63.02 47.4 63.18 46.99 63.35 46.58 63.51 46.16 63.68 45.73 63.84 45.31 64.01 44.87 64.17 44.44 64.34 44 64.5 43.56 64.67 43.12 64.83 42.68 65 42.24 65.16 41.8 65.33 41.36 65.49 40.91 65.66 40.47 65.82 40.03 65.99 39.59 66.15 39.15 66.32 38.72 66.48 38.29 66.65 37.87 66.82 37.45 66.98 37.04 67.15 36.63 67.31 36.23 67.48 35.84 67.64 35.46 67.81 35.1 67.97 34.74 68.14 34.4 68.3 34.07 68.47 33.76 68.63 33.46 68.8 33.17 68.96 32.91 69.13 32.65 69.29 32.42 69.46 32.2 69.62 32 69.79 31.81 69.95 31.65 70.12 31.51 70.28 31.4 70.45 31.32 70.61 31.27 70.78 31.24 70.94 31.24 71.11 31.26 71.27 31.3 71.44 31.36 71.6 31.44 71.77 31.55 71.93 31.69 72.1 31.87 72.26 32.07 72.43 32.3 72.6 32.55 72.76 32.83 72.93 33.12 73.09 33.44 73.26 33.78 73.42 34.13 73.59 34.51 73.75 34.91 73.92 35.33 74.08 35.77 74.25 36.24 74.41 36.72 74.58 37.23 74.74 37.76 74.91 38.31 75.07 38.87 75.24 39.44 75.4 40.01 75.57 40.59 75.73 41.17 75.9 41.74 76.06 42.3 76.23 42.85 76.39 43.39 76.56 43.92 76.72 44.44 76.89 44.95 77.05 45.46 77.22 45.96 77.38 46.45 77.55 46.94 77.71 47.42 77.88 47.9 78.04 48.36 78.21 48.82 78.38 49.27 78.54 49.71 78.71 50.14 78.87 50.56 79.04 50.97 79.2 51.37 79.37 51.75 79.53 52.12 79.7 52.47 79.86 52.81 80.03 53.14 80.19 53.45 80.36 53.76 80.52 54.05 80.69 54.34 80.85 54.61 81.02 54.87 81.18 55.12 81.35 55.36 81.51 55.59 81.68 55.81 81.84 56.02 82.01 56.22 82.17 56.41 82.34 56.58 82.5 56.75 82.67 56.91 82.83 57.05 83 57.19 83.16 57.31 83.33 57.43 83.49 57.53 83.66 57.63 83.82 57.73 83.99 57.81 84.16 57.9 84.32 57.98 84.49 58.06 84.65 58.13 84.82 58.21 84.98 58.28 85.15 58.34 85.31 58.4 85.48 58.46 85.64 58.51 85.81 58.56 85.97 58.61 86.14 58.65 86.3 58.69 86.47 58.73 86.63 58.76 86.8 58.79 86.96 58.82 87.13 58.84 87.29 58.87 87.46 58.89 87.62 58.91 87.79 58.93 87.95 58.95 88.12 58.96 88.28 58.98 88.45 58.99 88.61 59.01 88.78 59.02 88.94 59.03 89.11 59.04 89.27 59.06 89.44 59.07 89.6 59.08 89.77 59.08 89.93 59.09 90.1 59.1 90.27 59.11 90.43 59.11 90.6 59.12 90.76 59.13 90.93 59.13 91.09 59.14 91.26 59.14 91.42 59.15 91.59 59.15 91.75 59.15 91.92 59.16 92.08 59.16 92.25 59.16 92.41 59.17 92.58 59.17 92.74 59.17 92.91 59.18 93.07 59.18 93.24 59.18 93.4 59.18 93.57 59.18 93.73 59.19 93.9 59.19 94.06 59.19 94.23 59.19 94.39 59.19 94.56 59.19 94.72 59.19 94.89 59.19 95.05 59.2 95.22 59.2 95.38 59.2 95.55 59.2 95.71 59.2 95.88 59.2 96.05 59.2 96.21 59.2 96.38 59.2 96.54 59.2 96.71 59.2 96.87 59.2 97.04 59.2 97.2 59.2 97.37 59.2 97.53 59.2 97.7 59.2 97.86 59.2 98.03 59.2 98.19 59.2 98.36 59.2 98.52 59.21 98.69 59.21 98.85 59.21 99.02 59.21 99.18 59.21 99.35 59.21 99.51 59.21 99.68 59.21 99.84 59.21 100.01 59.21 100.17 59.21 100.34 59.21 100.5 59.21 100.67 59.21 100.83 59.21\");\n",
        "            }(g.append(\"g\")));\n",
        "          }(g.append(\"g\")));\n",
        "        }(g.append(\"g\")));\n",
        "      }(g.append(\"g\")));\n",
        "      (function (g) {\n",
        "        d3.select(\"defs\")\n",
        "  .append(\"svg:clipPath\")\n",
        "    .attr(\"id\", parent_id + \"_clippath2\")\n",
        "    .append(\"svg:path\")\n",
        "      .attr(\"d\", \" M19.09,5 L 106.61 5 106.61 60.79 19.09 60.79 z\");g.attr(\"clip-path\", \"url(#\" + parent_id + \"_clippath2)\");\n",
        "        (function (g) {\n",
        "          g.attr(\"stroke\", \"none\")\n",
        "           .attr(\"class\", \"guide zoomslider\")\n",
        "           .attr(\"opacity\", 0.00);\n",
        "          (function (g) {\n",
        "            g.attr(\"stroke\", \"#6A6A6A\")\n",
        "             .attr(\"stroke-opacity\", 0.00)\n",
        "             .attr(\"stroke-width\", 0.3)\n",
        "             .attr(\"fill\", \"#EAEAEA\")\n",
        "             .on(\"click\", zoomin_behavior(ctx))\n",
        ".on(\"dblclick\", function() { d3.event.stopPropagation(); })\n",
        ".on(\"mouseover\", zoomslider_button_mouseover(\"#cd5c5c\"))\n",
        ".on(\"mouseout\", zoomslider_button_mouseover(\"#6a6a6a\"))\n",
        ";\n",
        "            g.append(\"svg:path\")\n",
        "               .attr(\"d\", \"M99.61,8 L 103.61 8 103.61 12 99.61 12 z\");\n",
        "            (function (g) {\n",
        "              g.attr(\"fill\", \"#6A6A6A\")\n",
        "               .attr(\"class\", \"button_logo\");\n",
        "              g.append(\"svg:path\")\n",
        "                 .attr(\"d\", \"M100.41,9.6 L 101.21 9.6 101.21 8.8 102.01 8.8 102.01 9.6 102.81 9.6 102.81 10.4 102.01 10.4 102.01 11.2 101.21 11.2 101.21 10.4 100.41 10.4 z\");\n",
        "            }(g.append(\"g\")));\n",
        "          }(g.append(\"g\")));\n",
        "          (function (g) {\n",
        "            g.attr(\"fill\", \"#EAEAEA\")\n",
        "             .on(\"click\", zoomslider_track_behavior(ctx, 73.61, 90.61));\n",
        "            g.append(\"svg:path\")\n",
        "               .attr(\"d\", \"M80.11,8 L 99.11 8 99.11 12 80.11 12 z\");\n",
        "          }(g.append(\"g\")));\n",
        "          (function (g) {\n",
        "            g.attr(\"fill\", \"#6A6A6A\")\n",
        "             .attr(\"class\", \"zoomslider_thumb\")\n",
        "             .call(zoomslider_behavior(ctx, 73.61, 90.61))\n",
        ".on(\"mouseover\", zoomslider_thumb_mouseover(\"#cd5c5c\"))\n",
        ".on(\"mouseout\", zoomslider_thumb_mouseover(\"#6a6a6a\"))\n",
        ";\n",
        "            g.append(\"svg:path\")\n",
        "               .attr(\"d\", \"M88.61,8 L 90.61 8 90.61 12 88.61 12 z\");\n",
        "          }(g.append(\"g\")));\n",
        "          (function (g) {\n",
        "            g.attr(\"stroke\", \"#6A6A6A\")\n",
        "             .attr(\"stroke-opacity\", 0.00)\n",
        "             .attr(\"stroke-width\", 0.3)\n",
        "             .attr(\"fill\", \"#EAEAEA\")\n",
        "             .on(\"click\", zoomout_behavior(ctx))\n",
        ".on(\"dblclick\", function() { d3.event.stopPropagation(); })\n",
        ".on(\"mouseover\", zoomslider_button_mouseover(\"#cd5c5c\"))\n",
        ".on(\"mouseout\", zoomslider_button_mouseover(\"#6a6a6a\"))\n",
        ";\n",
        "            g.append(\"svg:path\")\n",
        "               .attr(\"d\", \"M75.61,8 L 79.61 8 79.61 12 75.61 12 z\");\n",
        "            (function (g) {\n",
        "              g.attr(\"fill\", \"#6A6A6A\")\n",
        "               .attr(\"class\", \"button_logo\");\n",
        "              g.append(\"svg:path\")\n",
        "                 .attr(\"d\", \"M76.41,9.6 L 78.81 9.6 78.81 10.4 76.41 10.4 z\");\n",
        "            }(g.append(\"g\")));\n",
        "          }(g.append(\"g\")));\n",
        "        }(g.append(\"g\")));\n",
        "      }(g.append(\"g\")));\n",
        "    }(g.append(\"g\")));\n",
        "  }(g.append(\"g\")));\n",
        "}(g.append(\"g\")));\n",
        "    d3.select(parent_id)\n",
        "      .selectAll(\"path\")\n",
        "      .each(function() {\n",
        "          var sw = parseFloat(window.getComputedStyle(this).getPropertyValue(\"stroke-width\"));\n",
        "          d3.select(this)\n",
        "            .attr(\"vector-effect\", \"non-scaling-stroke\")\n",
        "            .style(\"stroke-width\", sw + \"mm\");\n",
        "      });\n",
        "}\n",
        "\n",
        "var data = [\n",
        "];\n",
        "\n",
        "var draw = function(parent_id) {\n",
        "    draw_with_data(data, parent_id);\n",
        "};\n",
        "\n",
        "if ('undefined' !== typeof module) {\n",
        "    module.exports = draw;\n",
        "} else if ('undefined' !== typeof window) {\n",
        "    window.draw = draw\n",
        "}\n",
        "\n",
        "return module;\n",
        "})({}).exports(\"#gadflyplot-4upULmjJ5s6glW97RilO\");\n",
        "//@ sourceURL=gadflyplot-4upULmjJ5s6glW97RilO.js\n",
        "</script>\n"
       ],
       "metadata": {},
       "output_type": "pyout",
       "png": "[encoded data removed]",
       "prompt_number": 3,
       "svg": [
        "<?xml version=\"1.0\" encoding=\"UTF-8\"?>\n",
        "<svg xmlns=\"http://www.w3.org/2000/svg\" xmlns:xlink=\"http://www.w3.org/1999/xlink\" version=\"1.1\" width=\"120mm\" height=\"80mm\" viewBox=\"0 0 120 80\" style=\"stroke:black;fill:black\" stroke-width=\"0.5\">\n",
        "<g font-family=\"Helvetic,Arial,sans\" stroke-width=\"0.3\" font-size=\"3.88\" stroke=\"none\" fill=\"#000000\">\n",
        "  <g class=\"plotroot xscalable yscalable\">\n",
        "    <g font-family=\"'PT Sans','Helvetica Neue','Helvetica',sans-serif\" font-size=\"3.18\" stroke=\"none\" class=\"guide ylabels\" fill=\"#4C404B\">\n",
        "      <text x=\"18.09\" y=\"32.89\" text-anchor=\"end\" style=\"dominant-baseline:central\">1.0</text>\n",
        "      <text x=\"18.09\" y=\"46.05\" text-anchor=\"end\" style=\"dominant-baseline:central\">0.5</text>\n",
        "      <text x=\"18.09\" y=\"59.21\" text-anchor=\"end\" style=\"dominant-baseline:central\">0.0</text>\n",
        "      <text x=\"18.09\" y=\"19.74\" text-anchor=\"end\" style=\"dominant-baseline:central\">1.5</text>\n",
        "      <text x=\"18.09\" y=\"6.58\" text-anchor=\"end\" style=\"dominant-baseline:central\">2.0</text>\n",
        "    </g>\n",
        "    <g font-family=\"'PT Sans','Helvetica Neue','Helvetica',sans-serif\" font-size=\"3.88\" stroke=\"none\" fill=\"#362A35\">\n",
        "      <text x=\"8.26\" y=\"32.89\" text-anchor=\"middle\" style=\"dominant-baseline:central\" transform=\"rotate(-90, 8.26, 32.89)\">Sensitivity</text>\n",
        "    </g>\n",
        "    <g font-family=\"'PT Sans','Helvetica Neue','Helvetica',sans-serif\" font-size=\"3.18\" stroke=\"none\" class=\"guide xlabels\" fill=\"#4C404B\">\n",
        "      <text x=\"54.59\" y=\"65.48\" text-anchor=\"middle\">500</text>\n",
        "      <text x=\"38.08\" y=\"65.48\" text-anchor=\"middle\">400</text>\n",
        "      <text x=\"21.57\" y=\"65.48\" text-anchor=\"middle\">300</text>\n",
        "      <text x=\"71.11\" y=\"65.48\" text-anchor=\"middle\">600</text>\n",
        "      <text x=\"87.62\" y=\"65.48\" text-anchor=\"middle\">700</text>\n",
        "      <text x=\"104.14\" y=\"65.48\" text-anchor=\"middle\">800</text>\n",
        "    </g>\n",
        "    <g font-family=\"'PT Sans','Helvetica Neue','Helvetica',sans-serif\" font-size=\"3.88\" stroke=\"none\" fill=\"#362A35\">\n",
        "      <text x=\"62.85\" y=\"73\" text-anchor=\"middle\">\u03bb (nm)</text>\n",
        "    </g>\n",
        "    <g font-family=\"'PT Sans','Helvetica Neue','Helvetica',sans-serif\" font-size=\"3.88\" stroke=\"none\" fill=\"#362A35\">\n",
        "      <text x=\"112.81\" y=\"29.11\" text-anchor=\"middle\">ctf</text>\n",
        "    </g>\n",
        "    <g font-family=\"'PT Sans','Helvetica Neue','Helvetica',sans-serif\" font-size=\"3.18\">\n",
        "      <g class=\"guide color_\u0233\">\n",
        "        <g stroke-width=\"0.3\" stroke=\"#00F800\" fill=\"#61FF00\">\n",
        "          <path d=\"M108.61,35.8 L 112.31 35.8 112.31 39.5 108.61 39.5 z\" />\n",
        "        </g>\n",
        "        <g stroke=\"none\" fill=\"#4C404B\">\n",
        "          <text x=\"113.31\" y=\"37.65\" style=\"dominant-baseline:central\">\u0233</text>\n",
        "        </g>\n",
        "      </g>\n",
        "      <g class=\"guide color_x\u0304\">\n",
        "        <g stroke-width=\"0.3\" stroke=\"#FF4000\" fill=\"#FF7500\">\n",
        "          <path d=\"M108.61,31.11 L 112.31 31.11 112.31 34.8 108.61 34.8 z\" />\n",
        "        </g>\n",
        "        <g stroke=\"none\" fill=\"#4C404B\">\n",
        "          <text x=\"113.31\" y=\"32.96\" style=\"dominant-baseline:central\">x\u0304</text>\n",
        "        </g>\n",
        "      </g>\n",
        "      <g class=\"guide color_z\u0304\">\n",
        "        <g stroke-width=\"0.3\" stroke=\"#0000FF\" fill=\"#7700FF\">\n",
        "          <path d=\"M108.61,40.5 L 112.31 40.5 112.31 44.2 108.61 44.2 z\" />\n",
        "        </g>\n",
        "        <g stroke=\"none\" fill=\"#4C404B\">\n",
        "          <text x=\"113.31\" y=\"42.35\" style=\"dominant-baseline:central\">z\u0304</text>\n",
        "        </g>\n",
        "      </g>\n",
        "    </g>\n",
        "    <g>\n",
        "      <g clip-path=\"url(#clippath1)\">\n",
        "        <g stroke=\"#F1F1F5\" class=\"guide background\" fill=\"#FAFAFA\" opacity=\"1\">\n",
        "          <path d=\"M19.09,5 L 106.61 5 106.61 60.79 19.09 60.79 z\" />\n",
        "        </g>\n",
        "        <g stroke-width=\"0.2\" stroke=\"#F0F0F3\" class=\"guide ygridlines xfixed\">\n",
        "          <path d=\"M19.09,98.68 L 106.61 98.68\" />\n",
        "          <path d=\"M19.09,-6.58 L 106.61 -6.58\" />\n",
        "          <path d=\"M19.09,46.05 L 106.61 46.05\" />\n",
        "          <path d=\"M19.09,-46.05 L 106.61 -46.05\" />\n",
        "          <path d=\"M19.09,72.37 L 106.61 72.37\" />\n",
        "          <path d=\"M19.09,59.21 L 106.61 59.21\" />\n",
        "          <path d=\"M19.09,19.74 L 106.61 19.74\" />\n",
        "          <path d=\"M19.09,6.58 L 106.61 6.58\" />\n",
        "          <path d=\"M19.09,-59.21 L 106.61 -59.21\" />\n",
        "          <path d=\"M19.09,-32.89 L 106.61 -32.89\" />\n",
        "          <path d=\"M19.09,124.99 L 106.61 124.99\" />\n",
        "          <path d=\"M19.09,85.52 L 106.61 85.52\" />\n",
        "          <path d=\"M19.09,-19.74 L 106.61 -19.74\" />\n",
        "          <path d=\"M19.09,111.84 L 106.61 111.84\" />\n",
        "          <path d=\"M19.09,32.89 L 106.61 32.89\" />\n",
        "        </g>\n",
        "        <g stroke-width=\"0.2\" stroke=\"#F0F0F3\" class=\"guide xgridlines yfixed\">\n",
        "          <path d=\"M-61,5 L -61 60.79\" />\n",
        "          <path d=\"M54.59,5 L 54.59 60.79\" />\n",
        "          <path d=\"M120.65,5 L 120.65 60.79\" />\n",
        "          <path d=\"M153.68,5 L 153.68 60.79\" />\n",
        "          <path d=\"M137.17,5 L 137.17 60.79\" />\n",
        "          <path d=\"M21.57,5 L 21.57 60.79\" />\n",
        "          <path d=\"M87.62,5 L 87.62 60.79\" />\n",
        "          <path d=\"M104.14,5 L 104.14 60.79\" />\n",
        "          <path d=\"M5.05,5 L 5.05 60.79\" />\n",
        "          <path d=\"M-11.46,5 L -11.46 60.79\" />\n",
        "          <path d=\"M-27.98,5 L -27.98 60.79\" />\n",
        "          <path d=\"M71.11,5 L 71.11 60.79\" />\n",
        "          <path d=\"M38.08,5 L 38.08 60.79\" />\n",
        "          <path d=\"M186.71,5 L 186.71 60.79\" />\n",
        "          <path d=\"M170.19,5 L 170.19 60.79\" />\n",
        "          <path d=\"M-44.49,5 L -44.49 60.79\" />\n",
        "          <path d=\"M-77.52,5 L -77.52 60.79\" />\n",
        "          <path d=\"M203.22,5 L 203.22 60.79\" />\n",
        "        </g>\n",
        "      </g>\n",
        "      <g clip-path=\"url(#clippath2)\">\n",
        "        <g class=\"plotpanel\">\n",
        "          <g stroke-width=\"0.3\" fill=\"none\">\n",
        "            <g stroke=\"#7700FF\" class=\"geometry color_z\u0304\">\n",
        "              <path d=\"M34.78,59.04 L 34.94 59.02 35.11 59 35.27 58.98 35.44 58.96 35.6 58.93 35.77 58.89 35.93 58.85 36.1 58.8 36.26 58.74 36.43 58.68 36.59 58.62 36.76 58.54 36.92 58.46 37.09 58.37 37.25 58.26 37.42 58.12 37.59 57.96 37.75 57.78 37.92 57.6 38.08 57.42 38.25 57.25 38.41 57.07 38.58 56.86 38.74 56.61 38.91 56.31 39.07 55.93 39.24 55.48 39.4 54.96 39.57 54.39 39.73 53.75 39.9 53.06 40.06 52.3 40.23 51.45 40.39 50.5 40.56 49.44 40.72 48.26 40.89 46.96 41.05 45.53 41.22 43.96 41.38 42.22 41.55 40.3 41.71 38.24 41.88 36.11 42.04 33.96 42.21 31.87 42.37 29.86 42.54 27.93 42.7 26.1 42.87 24.37 43.03 22.75 43.2 21.25 43.37 19.87 43.53 18.63 43.7 17.5 43.86 16.5 44.03 15.62 44.19 14.86 44.36 14.21 44.52 13.67 44.69 13.23 44.85 12.89 45.02 12.64 45.18 12.47 45.35 12.36 45.51 12.3 45.68 12.29 45.84 12.32 46.01 12.39 46.17 12.48 46.34 12.58 46.5 12.68 46.67 12.79 46.83 12.92 47 13.09 47.16 13.31 47.33 13.59 47.49 13.92 47.66 14.32 47.82 14.77 47.99 15.28 48.15 15.85 48.32 16.49 48.48 17.21 48.65 18.04 48.81 19 48.98 20.1 49.15 21.33 49.31 22.63 49.48 23.98 49.64 25.32 49.81 26.65 49.97 27.95 50.14 29.24 50.3 30.52 50.47 31.79 50.63 33.05 50.8 34.28 50.96 35.49 51.13 36.67 51.29 37.82 51.46 38.93 51.62 40.01 51.79 41.05 51.95 42.05 52.12 42.99 52.28 43.88 52.45 44.72 52.61 45.52 52.78 46.26 52.94 46.97 53.11 47.63 53.27 48.26 53.44 48.84 53.6 49.39 53.77 49.91 53.93 50.4 54.1 50.85 54.26 51.28 54.43 51.68 54.59 52.05 54.76 52.4 54.93 52.72 55.09 53.03 55.26 53.33 55.42 53.62 55.59 53.91 55.75 54.21 55.92 54.49 56.08 54.77 56.25 55.05 56.41 55.31 56.58 55.57 56.74 55.81 56.91 56.05 57.07 56.27 57.24 56.47 57.4 56.66 57.57 56.84 57.73 57 57.9 57.15 58.06 57.28 58.23 57.4 58.39 57.51 58.56 57.61 58.72 57.7 58.89 57.79 59.05 57.87 59.22 57.95 59.38 58.03 59.55 58.1 59.71 58.17 59.88 58.24 60.04 58.3 60.21 58.36 60.37 58.42 60.54 58.48 60.7 58.53 60.87 58.58 61.04 58.63 61.2 58.67 61.37 58.72 61.53 58.75 61.7 58.79 61.86 58.82 62.03 58.86 62.19 58.88 62.36 58.91 62.52 58.93 62.69 58.96 62.85 58.98 63.02 59 63.18 59.01 63.35 59.03 63.51 59.04 63.68 59.06 63.84 59.07 64.01 59.08 64.17 59.09 64.34 59.1 64.5 59.11 64.67 59.11 64.83 59.12 65 59.13 65.16 59.13 65.33 59.14 65.49 59.14 65.66 59.14 65.82 59.15 65.99 59.15 66.15 59.15 66.32 59.15 66.48 59.16 66.65 59.16 66.82 59.16 66.98 59.16 67.15 59.16 67.31 59.16 67.48 59.16 67.64 59.16 67.81 59.16 67.97 59.17 68.14 59.17 68.3 59.17 68.47 59.17 68.63 59.17 68.8 59.17 68.96 59.17 69.13 59.18 69.29 59.18 69.46 59.18 69.62 59.18 69.79 59.18 69.95 59.18 70.12 59.18 70.28 59.18 70.45 59.18 70.61 59.18 70.78 59.18 70.94 59.19 71.11 59.19 71.27 59.19 71.44 59.19 71.6 59.19 71.77 59.19 71.93 59.19 72.1 59.19 72.26 59.2 72.43 59.2 72.6 59.2 72.76 59.2 72.93 59.2 73.09 59.2 73.26 59.2 73.42 59.2 73.59 59.2 73.75 59.2 73.92 59.2 74.08 59.2 74.25 59.2 74.41 59.2 74.58 59.2 74.74 59.2 74.91 59.2 75.07 59.2 75.24 59.21 75.4 59.21 75.57 59.21 75.73 59.21 75.9 59.21 76.06 59.21 76.23 59.21 76.39 59.21 76.56 59.21 76.72 59.21 76.89 59.21 77.05 59.21 77.22 59.21 77.38 59.21 77.55 59.21 77.71 59.21 77.88 59.21 78.04 59.21 78.21 59.21 78.38 59.21 78.54 59.21 78.71 59.21 78.87 59.21 79.04 59.21 79.2 59.21 79.37 59.21 79.53 59.21 79.7 59.21 79.86 59.21 80.03 59.21 80.19 59.21 80.36 59.21 80.52 59.21 80.69 59.21 80.85 59.21 81.02 59.21 81.18 59.21 81.35 59.21 81.51 59.21 81.68 59.21 81.84 59.21 82.01 59.21 82.17 59.21 82.34 59.21 82.5 59.21 82.67 59.21 82.83 59.21 83 59.21 83.16 59.21 83.33 59.21 83.49 59.21 83.66 59.21 83.82 59.21 83.99 59.21 84.16 59.21 84.32 59.21 84.49 59.21 84.65 59.21 84.82 59.21 84.98 59.21 85.15 59.21 85.31 59.21 85.48 59.21 85.64 59.21 85.81 59.21 85.97 59.21 86.14 59.21 86.3 59.21 86.47 59.21 86.63 59.21 86.8 59.21 86.96 59.21 87.13 59.21 87.29 59.21 87.46 59.21 87.62 59.21 87.79 59.21 87.95 59.21 88.12 59.21 88.28 59.21 88.45 59.21 88.61 59.21 88.78 59.21 88.94 59.21 89.11 59.21 89.27 59.21 89.44 59.21 89.6 59.21 89.77 59.21 89.93 59.21 90.1 59.21 90.27 59.21 90.43 59.21 90.6 59.21 90.76 59.21 90.93 59.21 91.09 59.21 91.26 59.21 91.42 59.21 91.59 59.21 91.75 59.21 91.92 59.21 92.08 59.21 92.25 59.21 92.41 59.21 92.58 59.21 92.74 59.21 92.91 59.21 93.07 59.21 93.24 59.21 93.4 59.21 93.57 59.21 93.73 59.21 93.9 59.21 94.06 59.21 94.23 59.21 94.39 59.21 94.56 59.21 94.72 59.21 94.89 59.21 95.05 59.21 95.22 59.21 95.38 59.21 95.55 59.21 95.71 59.21 95.88 59.21 96.05 59.21 96.21 59.21 96.38 59.21 96.54 59.21 96.71 59.21 96.87 59.21 97.04 59.21 97.2 59.21 97.37 59.21 97.53 59.21 97.7 59.21 97.86 59.21 98.03 59.21 98.19 59.21 98.36 59.21 98.52 59.21 98.69 59.21 98.85 59.21 99.02 59.21 99.18 59.21 99.35 59.21 99.51 59.21 99.68 59.21 99.84 59.21 100.01 59.21 100.17 59.21 100.34 59.21 100.5 59.21 100.67 59.21 100.83 59.21\" />\n",
        "            </g>\n",
        "          </g>\n",
        "          <g stroke-width=\"0.3\" fill=\"none\">\n",
        "            <g stroke=\"#61FF00\" class=\"geometry color_\u0233\">\n",
        "              <path d=\"M34.78,59.21 L 34.94 59.21 35.11 59.21 35.27 59.21 35.44 59.21 35.6 59.21 35.77 59.21 35.93 59.21 36.1 59.21 36.26 59.21 36.43 59.2 36.59 59.2 36.76 59.2 36.92 59.2 37.09 59.2 37.25 59.2 37.42 59.2 37.59 59.2 37.75 59.2 37.92 59.2 38.08 59.2 38.25 59.2 38.41 59.2 38.58 59.19 38.74 59.19 38.91 59.19 39.07 59.19 39.24 59.19 39.4 59.18 39.57 59.18 39.73 59.18 39.9 59.17 40.06 59.17 40.23 59.16 40.39 59.16 40.56 59.15 40.72 59.14 40.89 59.14 41.05 59.13 41.22 59.12 41.38 59.1 41.55 59.09 41.71 59.07 41.88 59.05 42.04 59.04 42.21 59.02 42.37 59 42.54 58.97 42.7 58.95 42.87 58.93 43.03 58.9 43.2 58.88 43.37 58.85 43.53 58.82 43.7 58.79 43.86 58.76 44.03 58.73 44.19 58.7 44.36 58.67 44.52 58.64 44.69 58.6 44.85 58.57 45.02 58.53 45.18 58.5 45.35 58.46 45.51 58.42 45.68 58.38 45.84 58.34 46.01 58.3 46.17 58.25 46.34 58.21 46.5 58.16 46.67 58.11 46.83 58.06 47 58 47.16 57.94 47.33 57.89 47.49 57.82 47.66 57.76 47.82 57.7 47.99 57.63 48.15 57.56 48.32 57.49 48.48 57.42 48.65 57.34 48.81 57.26 48.98 57.18 49.15 57.1 49.31 57.01 49.48 56.91 49.64 56.81 49.81 56.71 49.97 56.6 50.14 56.49 50.3 56.37 50.47 56.24 50.63 56.12 50.8 55.98 50.96 55.84 51.13 55.7 51.29 55.55 51.46 55.4 51.62 55.25 51.79 55.09 51.95 54.93 52.12 54.75 52.28 54.57 52.45 54.38 52.61 54.17 52.78 53.96 52.94 53.73 53.11 53.49 53.27 53.24 53.44 52.98 53.6 52.7 53.77 52.4 53.93 52.1 54.1 51.78 54.26 51.44 54.43 51.09 54.59 50.71 54.76 50.3 54.93 49.87 55.09 49.43 55.26 48.96 55.42 48.49 55.59 48.01 55.75 47.52 55.92 47.01 56.08 46.5 56.25 45.97 56.41 45.43 56.58 44.88 56.74 44.32 56.91 43.76 57.07 43.2 57.24 42.65 57.4 42.1 57.57 41.55 57.73 41.03 57.9 40.52 58.06 40.05 58.23 39.59 58.39 39.16 58.56 38.74 58.72 38.34 58.89 37.94 59.05 37.56 59.22 37.2 59.38 36.85 59.55 36.52 59.71 36.21 59.88 35.92 60.04 35.64 60.21 35.38 60.37 35.13 60.54 34.9 60.7 34.68 60.87 34.47 61.04 34.28 61.2 34.1 61.37 33.94 61.53 33.79 61.7 33.65 61.86 33.52 62.03 33.41 62.19 33.31 62.36 33.22 62.52 33.15 62.69 33.08 62.85 33.03 63.02 32.98 63.18 32.94 63.35 32.92 63.51 32.9 63.68 32.89 63.84 32.9 64.01 32.91 64.17 32.94 64.34 32.98 64.5 33.03 64.67 33.09 64.83 33.16 65 33.25 65.16 33.35 65.33 33.46 65.49 33.58 65.66 33.7 65.82 33.84 65.99 34 66.15 34.16 66.32 34.33 66.48 34.51 66.65 34.7 66.82 34.91 66.98 35.12 67.15 35.34 67.31 35.57 67.48 35.81 67.64 36.06 67.81 36.31 67.97 36.58 68.14 36.86 68.3 37.14 68.47 37.43 68.63 37.73 68.8 38.03 68.96 38.34 69.13 38.65 69.29 38.97 69.46 39.29 69.62 39.61 69.79 39.93 69.95 40.26 70.12 40.59 70.28 40.92 70.45 41.26 70.61 41.59 70.78 41.93 70.94 42.27 71.11 42.6 71.27 42.94 71.44 43.28 71.6 43.62 71.77 43.96 71.93 44.29 72.1 44.63 72.26 44.97 72.43 45.3 72.6 45.64 72.76 45.97 72.93 46.3 73.09 46.63 73.26 46.95 73.42 47.28 73.59 47.6 73.75 47.92 73.92 48.23 74.08 48.55 74.25 48.87 74.41 49.18 74.58 49.5 74.74 49.82 74.91 50.14 75.07 50.45 75.24 50.76 75.4 51.07 75.57 51.37 75.73 51.67 75.9 51.96 76.06 52.23 76.23 52.5 76.39 52.76 76.56 53.02 76.72 53.26 76.89 53.5 77.05 53.73 77.22 53.96 77.38 54.18 77.55 54.39 77.71 54.6 77.88 54.81 78.04 55.01 78.21 55.2 78.38 55.39 78.54 55.57 78.71 55.75 78.87 55.92 79.04 56.08 79.2 56.24 79.37 56.39 79.53 56.54 79.7 56.68 79.86 56.81 80.03 56.94 80.19 57.06 80.36 57.18 80.52 57.29 80.69 57.4 80.85 57.5 81.02 57.6 81.18 57.7 81.35 57.79 81.51 57.87 81.68 57.96 81.84 58.03 82.01 58.11 82.17 58.18 82.34 58.25 82.5 58.31 82.67 58.37 82.83 58.42 83 58.47 83.16 58.52 83.33 58.56 83.49 58.6 83.66 58.63 83.82 58.67 83.99 58.7 84.16 58.73 84.32 58.76 84.49 58.79 84.65 58.82 84.82 58.84 84.98 58.87 85.15 58.89 85.31 58.92 85.48 58.94 85.64 58.96 85.81 58.98 85.97 58.99 86.14 59.01 86.3 59.02 86.47 59.03 86.63 59.05 86.8 59.06 86.96 59.07 87.13 59.08 87.29 59.08 87.46 59.09 87.62 59.1 87.79 59.11 87.95 59.11 88.12 59.12 88.28 59.13 88.45 59.13 88.61 59.14 88.78 59.14 88.94 59.15 89.11 59.15 89.27 59.15 89.44 59.16 89.6 59.16 89.77 59.16 89.93 59.17 90.1 59.17 90.27 59.17 90.43 59.17 90.6 59.18 90.76 59.18 90.93 59.18 91.09 59.18 91.26 59.18 91.42 59.19 91.59 59.19 91.75 59.19 91.92 59.19 92.08 59.19 92.25 59.19 92.41 59.19 92.58 59.19 92.74 59.2 92.91 59.2 93.07 59.2 93.24 59.2 93.4 59.2 93.57 59.2 93.73 59.2 93.9 59.2 94.06 59.2 94.23 59.2 94.39 59.2 94.56 59.2 94.72 59.2 94.89 59.2 95.05 59.2 95.22 59.2 95.38 59.2 95.55 59.2 95.71 59.2 95.88 59.2 96.05 59.21 96.21 59.21 96.38 59.21 96.54 59.21 96.71 59.21 96.87 59.21 97.04 59.21 97.2 59.21 97.37 59.21 97.53 59.21 97.7 59.21 97.86 59.21 98.03 59.21 98.19 59.21 98.36 59.21 98.52 59.21 98.69 59.21 98.85 59.21 99.02 59.21 99.18 59.21 99.35 59.21 99.51 59.21 99.68 59.21 99.84 59.21 100.01 59.21 100.17 59.21 100.34 59.21 100.5 59.21 100.67 59.21 100.83 59.21\" />\n",
        "            </g>\n",
        "          </g>\n",
        "          <g stroke-width=\"0.3\" fill=\"none\">\n",
        "            <g stroke=\"#FF7500\" class=\"geometry color_x\u0304\">\n",
        "              <path d=\"M34.78,59.17 L 34.94 59.17 35.11 59.16 35.27 59.16 35.44 59.16 35.6 59.15 35.77 59.14 35.93 59.13 36.1 59.12 36.26 59.11 36.43 59.1 36.59 59.08 36.76 59.07 36.92 59.05 37.09 59.03 37.25 59.01 37.42 58.98 37.59 58.94 37.75 58.91 37.92 58.87 38.08 58.83 38.25 58.79 38.41 58.76 38.58 58.71 38.74 58.66 38.91 58.6 39.07 58.52 39.24 58.42 39.4 58.32 39.57 58.2 39.73 58.06 39.9 57.92 40.06 57.76 40.23 57.58 40.39 57.39 40.56 57.17 40.72 56.92 40.89 56.65 41.05 56.36 41.22 56.03 41.38 55.67 41.55 55.28 41.71 54.86 41.88 54.42 42.04 53.98 42.21 53.56 42.37 53.15 42.54 52.76 42.7 52.4 42.87 52.06 43.03 51.74 43.2 51.45 43.37 51.18 43.53 50.95 43.7 50.74 43.86 50.56 44.03 50.41 44.19 50.28 44.36 50.18 44.52 50.1 44.69 50.04 44.85 50.01 45.02 49.99 45.18 50 45.35 50.02 45.51 50.05 45.68 50.09 45.84 50.15 46.01 50.21 46.17 50.28 46.34 50.36 46.5 50.44 46.67 50.52 46.83 50.61 47 50.71 47.16 50.82 47.33 50.94 47.49 51.08 47.66 51.23 47.82 51.39 47.99 51.56 48.15 51.74 48.32 51.93 48.48 52.13 48.65 52.36 48.81 52.6 48.98 52.87 49.15 53.16 49.31 53.46 49.48 53.77 49.64 54.07 49.81 54.36 49.97 54.65 50.14 54.93 50.3 55.2 50.47 55.47 50.63 55.73 50.8 55.98 50.96 56.23 51.13 56.46 51.29 56.69 51.46 56.91 51.62 57.12 51.79 57.32 51.95 57.51 52.12 57.68 52.28 57.84 52.45 57.99 52.61 58.13 52.78 58.25 52.94 58.37 53.11 58.47 53.27 58.57 53.44 58.66 53.6 58.75 53.77 58.82 53.93 58.89 54.1 58.95 54.26 59 54.43 59.04 54.59 59.08 54.76 59.11 54.93 59.13 55.09 59.14 55.26 59.15 55.42 59.14 55.59 59.13 55.75 59.11 55.92 59.07 56.08 59.02 56.25 58.96 56.41 58.89 56.58 58.8 56.74 58.7 56.91 58.58 57.07 58.44 57.24 58.29 57.4 58.13 57.57 57.95 57.73 57.75 57.9 57.54 58.06 57.32 58.23 57.09 58.39 56.85 58.56 56.59 58.72 56.32 58.89 56.05 59.05 55.76 59.22 55.46 59.38 55.16 59.55 54.85 59.71 54.54 59.88 54.23 60.04 53.91 60.21 53.59 60.37 53.27 60.54 52.94 60.7 52.6 60.87 52.26 61.04 51.92 61.2 51.57 61.37 51.21 61.53 50.85 61.7 50.49 61.86 50.12 62.03 49.74 62.19 49.36 62.36 48.98 62.52 48.59 62.69 48.2 62.85 47.8 63.02 47.4 63.18 46.99 63.35 46.58 63.51 46.16 63.68 45.73 63.84 45.31 64.01 44.87 64.17 44.44 64.34 44 64.5 43.56 64.67 43.12 64.83 42.68 65 42.24 65.16 41.8 65.33 41.36 65.49 40.91 65.66 40.47 65.82 40.03 65.99 39.59 66.15 39.15 66.32 38.72 66.48 38.29 66.65 37.87 66.82 37.45 66.98 37.04 67.15 36.63 67.31 36.23 67.48 35.84 67.64 35.46 67.81 35.1 67.97 34.74 68.14 34.4 68.3 34.07 68.47 33.76 68.63 33.46 68.8 33.17 68.96 32.91 69.13 32.65 69.29 32.42 69.46 32.2 69.62 32 69.79 31.81 69.95 31.65 70.12 31.51 70.28 31.4 70.45 31.32 70.61 31.27 70.78 31.24 70.94 31.24 71.11 31.26 71.27 31.3 71.44 31.36 71.6 31.44 71.77 31.55 71.93 31.69 72.1 31.87 72.26 32.07 72.43 32.3 72.6 32.55 72.76 32.83 72.93 33.12 73.09 33.44 73.26 33.78 73.42 34.13 73.59 34.51 73.75 34.91 73.92 35.33 74.08 35.77 74.25 36.24 74.41 36.72 74.58 37.23 74.74 37.76 74.91 38.31 75.07 38.87 75.24 39.44 75.4 40.01 75.57 40.59 75.73 41.17 75.9 41.74 76.06 42.3 76.23 42.85 76.39 43.39 76.56 43.92 76.72 44.44 76.89 44.95 77.05 45.46 77.22 45.96 77.38 46.45 77.55 46.94 77.71 47.42 77.88 47.9 78.04 48.36 78.21 48.82 78.38 49.27 78.54 49.71 78.71 50.14 78.87 50.56 79.04 50.97 79.2 51.37 79.37 51.75 79.53 52.12 79.7 52.47 79.86 52.81 80.03 53.14 80.19 53.45 80.36 53.76 80.52 54.05 80.69 54.34 80.85 54.61 81.02 54.87 81.18 55.12 81.35 55.36 81.51 55.59 81.68 55.81 81.84 56.02 82.01 56.22 82.17 56.41 82.34 56.58 82.5 56.75 82.67 56.91 82.83 57.05 83 57.19 83.16 57.31 83.33 57.43 83.49 57.53 83.66 57.63 83.82 57.73 83.99 57.81 84.16 57.9 84.32 57.98 84.49 58.06 84.65 58.13 84.82 58.21 84.98 58.28 85.15 58.34 85.31 58.4 85.48 58.46 85.64 58.51 85.81 58.56 85.97 58.61 86.14 58.65 86.3 58.69 86.47 58.73 86.63 58.76 86.8 58.79 86.96 58.82 87.13 58.84 87.29 58.87 87.46 58.89 87.62 58.91 87.79 58.93 87.95 58.95 88.12 58.96 88.28 58.98 88.45 58.99 88.61 59.01 88.78 59.02 88.94 59.03 89.11 59.04 89.27 59.06 89.44 59.07 89.6 59.08 89.77 59.08 89.93 59.09 90.1 59.1 90.27 59.11 90.43 59.11 90.6 59.12 90.76 59.13 90.93 59.13 91.09 59.14 91.26 59.14 91.42 59.15 91.59 59.15 91.75 59.15 91.92 59.16 92.08 59.16 92.25 59.16 92.41 59.17 92.58 59.17 92.74 59.17 92.91 59.18 93.07 59.18 93.24 59.18 93.4 59.18 93.57 59.18 93.73 59.19 93.9 59.19 94.06 59.19 94.23 59.19 94.39 59.19 94.56 59.19 94.72 59.19 94.89 59.19 95.05 59.2 95.22 59.2 95.38 59.2 95.55 59.2 95.71 59.2 95.88 59.2 96.05 59.2 96.21 59.2 96.38 59.2 96.54 59.2 96.71 59.2 96.87 59.2 97.04 59.2 97.2 59.2 97.37 59.2 97.53 59.2 97.7 59.2 97.86 59.2 98.03 59.2 98.19 59.2 98.36 59.2 98.52 59.21 98.69 59.21 98.85 59.21 99.02 59.21 99.18 59.21 99.35 59.21 99.51 59.21 99.68 59.21 99.84 59.21 100.01 59.21 100.17 59.21 100.34 59.21 100.5 59.21 100.67 59.21 100.83 59.21\" />\n",
        "            </g>\n",
        "          </g>\n",
        "        </g>\n",
        "      </g>\n",
        "      <g clip-path=\"url(#clippath3)\">\n",
        "      </g>\n",
        "    </g>\n",
        "  </g>\n",
        "</g>\n",
        "<defs>\n",
        "<clipPath id=\"clippath1\">\n",
        "  <path d=\"M19.09,5 L 106.61 5 106.61 60.79 19.09 60.79\" />\n",
        "</clipPath\n",
        "><clipPath id=\"clippath2\">\n",
        "  <path d=\"M19.09,5 L 106.61 5 106.61 60.79 19.09 60.79\" />\n",
        "</clipPath\n",
        "><clipPath id=\"clippath3\">\n",
        "  <path d=\"M19.09,5 L 106.61 5 106.61 60.79 19.09 60.79\" />\n",
        "</clipPath\n",
        "></defs>\n",
        "</svg>\n"
       ],
       "text": [
        "Plot(...)"
       ]
      }
     ],
     "prompt_number": 3
    },
    {
     "cell_type": "markdown",
     "metadata": {},
     "source": [
      "### Computing white\n",
      "\n",
      "As a sanity check, I wanted to make sure that projecting a flat power spectrum into the XYZ space produced a white color. This is white in the purely technical sense, of having the same intensity of light at every wavelength.\n",
      "\n",
      "To do this, we'll have to imbue the XYZ color space with vector space operations; in particular, we want to add and scale vectors. It follows by the definition of the XYZ color space that the usual notions of these operations apply (the color space has no curvature). These operations are not currently in `Color.jl`, but Julia makes it very easy to extend:"
     ]
    },
    {
     "cell_type": "code",
     "collapsed": false,
     "input": [
      "#The XYZ color space is a linear vector space\n",
      "#So these operations make sense!\n",
      "+(a::XYZ, b::XYZ) = XYZ(a.x+b.x,a.y+b.y,a.z+b.z)\n",
      "*(a::Real,c::XYZ) = XYZ(a*c.x,  a*c.y,  a*c.z)"
     ],
     "language": "python",
     "metadata": {},
     "outputs": [
      {
       "metadata": {},
       "output_type": "pyout",
       "prompt_number": 4,
       "text": [
        "* (generic function with 173 methods)"
       ]
      }
     ],
     "prompt_number": 4
    },
    {
     "cell_type": "markdown",
     "metadata": {},
     "source": [
      "With these two operations defined, we can now proceed to compute the projections, which are convolutions against the basis functions."
     ]
    },
    {
     "cell_type": "code",
     "collapsed": false,
     "input": [
      "@show mapreduce(cie_color_match, +, 380:780)"
     ],
     "language": "python",
     "metadata": {},
     "outputs": [
      {
       "output_type": "stream",
       "stream": "stderr",
       "text": [
        "\n",
        "before the new definition.\n"
       ]
      },
      {
       "output_type": "stream",
       "stream": "stdout",
       "text": [
        "mapreduce(cie_color_match,+,380:780) => XYZ(106.85508570329999,106.85642627788,106.846078631636)"
       ]
      },
      {
       "output_type": "stream",
       "stream": "stdout",
       "text": [
        "\n"
       ]
      },
      {
       "metadata": {},
       "output_type": "pyout",
       "prompt_number": 5,
       "svg": [
        "<?xml version\"1.0\" encoding=\"UTF-8\"?>\n",
        "<!DOCTYPE svg PUBLIC \"-//W3C//DTD SVG 1.1//EN\"\n",
        " \"http://www.w3.org/Graphics/SVG/1.1/DTD/svg11.dtd\">\n",
        "<svg xmlns=\"http://www.w3.org/2000/svg\" version=\"1.1\"\n",
        "     width=\"25mm\" height=\"25mm\" viewBox=\"0 0 1 1\">\n",
        "     <rect width=\"1\" height=\"1\"\n",
        "           fill=\"#FFFFFF\" stroke=\"none\"/>\n",
        "</svg>\n"
       ],
       "text": [
        "XYZ(106.85508570329999,106.85642627788,106.846078631636)"
       ]
      }
     ],
     "prompt_number": 5
    },
    {
     "cell_type": "markdown",
     "metadata": {},
     "source": [
      "Ok, this looks like white. However, there's some built-in assumption on the normalization in `Color.jl` which I haven't figured out yet, which means that any `XYZ(X,Y,Z)` for sufficiently positive `(X,Y,Z)` will render as white.\n",
      "\n",
      "The easy solution to this is to convert to the xyY color space, where $x$ and $y$ are (normalized) _chromaticity coordinates_ (such that $x+y+z=1$) and $Y$ is the _luminosity_. Here's what the monochromatic rainbow looks like in this coordinate system:"
     ]
    },
    {
     "cell_type": "code",
     "collapsed": false,
     "input": [
      "rainbowxyY = map(\u03bb->convert(xyY, cie_color_match(\u03bb)), 380:780)\n",
      "plot(Geom.point, Theme(key_position=:none),\n",
      "    x=[c.x for c in rainbowxyY], y=[c.y for c in rainbowxyY],\n",
      "    color=[1:length(rainbowxyY)],\n",
      "    Scale.discrete_color_manual(rainbow.C...))"
     ],
     "language": "python",
     "metadata": {},
     "outputs": [
      {
       "html": [
        "<div id=\"gadflyplot-fNWBIGy5M2VykNedf9Xq\"></div>\n",
        "<script>\n",
        "(function (module) {\n",
        "function draw_with_data(data, parent_id) {\n",
        "  var g = d3.select(parent_id)\n",
        "            .append(\"svg\")\n",
        "              .attr(\"width\", \"120mm\")\n",
        "              .attr(\"height\", \"80mm\")\n",
        "              .attr(\"viewBox\", \"0 0 120 80\")\n",
        "              .attr(\"stroke-width\", \"0.5\")\n",
        "              .attr(\"style\", \"stroke:black;fill:black\");\n",
        "  g.append(\"defs\");\n",
        "  var ctx = {\n",
        "      \"scale\": 1.0,\n",
        "      \"tx\": 0.0,\n",
        "      \"ty\": 0.0\n",
        "  };\n",
        "(function (g) {\n",
        "  g.attr(\"stroke\", \"none\")\n",
        "   .attr(\"fill\", \"#000000\")\n",
        "   .attr(\"stroke-width\", 0.3)\n",
        "   .attr(\"font-family\", \"Helvetic,Arial,sans\")\n",
        "   .style(\"font-size\", \"3.88px\");\n",
        "  (function (g) {\n",
        "    g.attr(\"class\", \"plotroot xscalable yscalable\");\n",
        "    (function (g) {\n",
        "      g.attr(\"stroke\", \"none\")\n",
        "       .attr(\"fill\", \"#4C404B\")\n",
        "       .attr(\"font-family\", \"'PT Sans','Helvetica Neue','Helvetica',sans-serif\")\n",
        "       .style(\"font-size\", \"3.18px\")\n",
        "       .attr(\"class\", \"guide ylabels\");\n",
        "      g.append(\"svg:text\")\n",
        "         .attr(\"x\", 18.09)\n",
        "         .attr(\"y\", 6.58)\n",
        "         .attr(\"text-anchor\", \"end\")\n",
        "         .style(\"dominant-baseline\", \"central\")\n",
        "         .call(function(text) {\n",
        "     text.text(\"1.0\");\n",
        "   })\n",
        ";\n",
        "      (function (g) {\n",
        "        g.attr(\"visibility\", \"hidden\");\n",
        "        g.append(\"svg:text\")\n",
        "           .attr(\"x\", 18.09)\n",
        "           .attr(\"y\", -14.47)\n",
        "           .attr(\"text-anchor\", \"end\")\n",
        "           .style(\"dominant-baseline\", \"central\")\n",
        "            .call(function(text) {\n",
        "      text.text(\"1.4\");\n",
        "    })\n",
        ";\n",
        "      }(g.append(\"g\")));\n",
        "      (function (g) {\n",
        "        g.attr(\"visibility\", \"hidden\");\n",
        "        g.append(\"svg:text\")\n",
        "           .attr(\"x\", 18.09)\n",
        "           .attr(\"y\", -35.52)\n",
        "           .attr(\"text-anchor\", \"end\")\n",
        "           .style(\"dominant-baseline\", \"central\")\n",
        "            .call(function(text) {\n",
        "      text.text(\"1.8\");\n",
        "    })\n",
        ";\n",
        "      }(g.append(\"g\")));\n",
        "      (function (g) {\n",
        "        g.attr(\"visibility\", \"hidden\");\n",
        "        g.append(\"svg:text\")\n",
        "           .attr(\"x\", 18.09)\n",
        "           .attr(\"y\", 80.26)\n",
        "           .attr(\"text-anchor\", \"end\")\n",
        "           .style(\"dominant-baseline\", \"central\")\n",
        "            .call(function(text) {\n",
        "      text.text(\"-0.4\");\n",
        "    })\n",
        ";\n",
        "      }(g.append(\"g\")));\n",
        "      g.append(\"svg:text\")\n",
        "         .attr(\"x\", 18.09)\n",
        "         .attr(\"y\", 38.16)\n",
        "         .attr(\"text-anchor\", \"end\")\n",
        "         .style(\"dominant-baseline\", \"central\")\n",
        "         .call(function(text) {\n",
        "     text.text(\"0.4\");\n",
        "   })\n",
        ";\n",
        "      (function (g) {\n",
        "        g.attr(\"visibility\", \"hidden\");\n",
        "        g.append(\"svg:text\")\n",
        "           .attr(\"x\", 18.09)\n",
        "           .attr(\"y\", -25)\n",
        "           .attr(\"text-anchor\", \"end\")\n",
        "           .style(\"dominant-baseline\", \"central\")\n",
        "            .call(function(text) {\n",
        "      text.text(\"1.6\");\n",
        "    })\n",
        ";\n",
        "      }(g.append(\"g\")));\n",
        "      (function (g) {\n",
        "        g.attr(\"visibility\", \"hidden\");\n",
        "        g.append(\"svg:text\")\n",
        "           .attr(\"x\", 18.09)\n",
        "           .attr(\"y\", 111.84)\n",
        "           .attr(\"text-anchor\", \"end\")\n",
        "           .style(\"dominant-baseline\", \"central\")\n",
        "            .call(function(text) {\n",
        "      text.text(\"-1.0\");\n",
        "    })\n",
        ";\n",
        "      }(g.append(\"g\")));\n",
        "      (function (g) {\n",
        "        g.attr(\"visibility\", \"hidden\");\n",
        "        g.append(\"svg:text\")\n",
        "           .attr(\"x\", 18.09)\n",
        "           .attr(\"y\", 101.31)\n",
        "           .attr(\"text-anchor\", \"end\")\n",
        "           .style(\"dominant-baseline\", \"central\")\n",
        "            .call(function(text) {\n",
        "      text.text(\"-0.8\");\n",
        "    })\n",
        ";\n",
        "      }(g.append(\"g\")));\n",
        "      g.append(\"svg:text\")\n",
        "         .attr(\"x\", 18.09)\n",
        "         .attr(\"y\", 17.1)\n",
        "         .attr(\"text-anchor\", \"end\")\n",
        "         .style(\"dominant-baseline\", \"central\")\n",
        "         .call(function(text) {\n",
        "     text.text(\"0.8\");\n",
        "   })\n",
        ";\n",
        "      (function (g) {\n",
        "        g.attr(\"visibility\", \"hidden\");\n",
        "        g.append(\"svg:text\")\n",
        "           .attr(\"x\", 18.09)\n",
        "           .attr(\"y\", 90.79)\n",
        "           .attr(\"text-anchor\", \"end\")\n",
        "           .style(\"dominant-baseline\", \"central\")\n",
        "            .call(function(text) {\n",
        "      text.text(\"-0.6\");\n",
        "    })\n",
        ";\n",
        "      }(g.append(\"g\")));\n",
        "      (function (g) {\n",
        "        g.attr(\"visibility\", \"hidden\");\n",
        "        g.append(\"svg:text\")\n",
        "           .attr(\"x\", 18.09)\n",
        "           .attr(\"y\", -3.95)\n",
        "           .attr(\"text-anchor\", \"end\")\n",
        "           .style(\"dominant-baseline\", \"central\")\n",
        "            .call(function(text) {\n",
        "      text.text(\"1.2\");\n",
        "    })\n",
        ";\n",
        "      }(g.append(\"g\")));\n",
        "      g.append(\"svg:text\")\n",
        "         .attr(\"x\", 18.09)\n",
        "         .attr(\"y\", 48.68)\n",
        "         .attr(\"text-anchor\", \"end\")\n",
        "         .style(\"dominant-baseline\", \"central\")\n",
        "         .call(function(text) {\n",
        "     text.text(\"0.2\");\n",
        "   })\n",
        ";\n",
        "      g.append(\"svg:text\")\n",
        "         .attr(\"x\", 18.09)\n",
        "         .attr(\"y\", 27.63)\n",
        "         .attr(\"text-anchor\", \"end\")\n",
        "         .style(\"dominant-baseline\", \"central\")\n",
        "         .call(function(text) {\n",
        "     text.text(\"0.6\");\n",
        "   })\n",
        ";\n",
        "      g.append(\"svg:text\")\n",
        "         .attr(\"x\", 18.09)\n",
        "         .attr(\"y\", 59.21)\n",
        "         .attr(\"text-anchor\", \"end\")\n",
        "         .style(\"dominant-baseline\", \"central\")\n",
        "         .call(function(text) {\n",
        "     text.text(\"0.0\");\n",
        "   })\n",
        ";\n",
        "      (function (g) {\n",
        "        g.attr(\"visibility\", \"hidden\");\n",
        "        g.append(\"svg:text\")\n",
        "           .attr(\"x\", 18.09)\n",
        "           .attr(\"y\", -56.58)\n",
        "           .attr(\"text-anchor\", \"end\")\n",
        "           .style(\"dominant-baseline\", \"central\")\n",
        "            .call(function(text) {\n",
        "      text.text(\"2.2\");\n",
        "    })\n",
        ";\n",
        "      }(g.append(\"g\")));\n",
        "      (function (g) {\n",
        "        g.attr(\"visibility\", \"hidden\");\n",
        "        g.append(\"svg:text\")\n",
        "           .attr(\"x\", 18.09)\n",
        "           .attr(\"y\", -46.05)\n",
        "           .attr(\"text-anchor\", \"end\")\n",
        "           .style(\"dominant-baseline\", \"central\")\n",
        "            .call(function(text) {\n",
        "      text.text(\"2.0\");\n",
        "    })\n",
        ";\n",
        "      }(g.append(\"g\")));\n",
        "      (function (g) {\n",
        "        g.attr(\"visibility\", \"hidden\");\n",
        "        g.append(\"svg:text\")\n",
        "           .attr(\"x\", 18.09)\n",
        "           .attr(\"y\", 69.73)\n",
        "           .attr(\"text-anchor\", \"end\")\n",
        "           .style(\"dominant-baseline\", \"central\")\n",
        "            .call(function(text) {\n",
        "      text.text(\"-0.2\");\n",
        "    })\n",
        ";\n",
        "      }(g.append(\"g\")));\n",
        "      (function (g) {\n",
        "        g.attr(\"visibility\", \"hidden\");\n",
        "        g.append(\"svg:text\")\n",
        "           .attr(\"x\", 18.09)\n",
        "           .attr(\"y\", 122.36)\n",
        "           .attr(\"text-anchor\", \"end\")\n",
        "           .style(\"dominant-baseline\", \"central\")\n",
        "            .call(function(text) {\n",
        "      text.text(\"-1.2\");\n",
        "    })\n",
        ";\n",
        "      }(g.append(\"g\")));\n",
        "    }(g.append(\"g\")));\n",
        "    (function (g) {\n",
        "      g.attr(\"stroke\", \"none\")\n",
        "       .attr(\"fill\", \"#362A35\")\n",
        "       .attr(\"font-family\", \"'PT Sans','Helvetica Neue','Helvetica',sans-serif\")\n",
        "       .style(\"font-size\", \"3.88px\");\n",
        "      g.append(\"svg:text\")\n",
        "         .attr(\"x\", 8.26)\n",
        "         .attr(\"y\", 32.89)\n",
        "         .attr(\"text-anchor\", \"middle\")\n",
        "         .style(\"dominant-baseline\", \"central\")\n",
        "         .attr(\"transform\", \"rotate(-90, 8.26, 32.89)\")\n",
        "         .call(function(text) {\n",
        "     text.text(\"y\");\n",
        "   })\n",
        ";\n",
        "    }(g.append(\"g\")));\n",
        "    (function (g) {\n",
        "      g.attr(\"stroke\", \"none\")\n",
        "       .attr(\"fill\", \"#4C404B\")\n",
        "       .attr(\"font-family\", \"'PT Sans','Helvetica Neue','Helvetica',sans-serif\")\n",
        "       .style(\"font-size\", \"3.18px\")\n",
        "       .attr(\"class\", \"guide xlabels\");\n",
        "      (function (g) {\n",
        "        g.attr(\"visibility\", \"hidden\");\n",
        "        g.append(\"svg:text\")\n",
        "           .attr(\"x\", 134.91)\n",
        "           .attr(\"y\", 65.48)\n",
        "           .attr(\"text-anchor\", \"middle\")\n",
        "            .call(function(text) {\n",
        "      text.text(\"1.0\");\n",
        "    })\n",
        ";\n",
        "      }(g.append(\"g\")));\n",
        "      (function (g) {\n",
        "        g.attr(\"visibility\", \"hidden\");\n",
        "        g.append(\"svg:text\")\n",
        "           .attr(\"x\", 180.15)\n",
        "           .attr(\"y\", 65.48)\n",
        "           .attr(\"text-anchor\", \"middle\")\n",
        "            .call(function(text) {\n",
        "      text.text(\"1.4\");\n",
        "    })\n",
        ";\n",
        "      }(g.append(\"g\")));\n",
        "      (function (g) {\n",
        "        g.attr(\"visibility\", \"hidden\");\n",
        "        g.append(\"svg:text\")\n",
        "           .attr(\"x\", 225.39)\n",
        "           .attr(\"y\", 65.48)\n",
        "           .attr(\"text-anchor\", \"middle\")\n",
        "            .call(function(text) {\n",
        "      text.text(\"1.8\");\n",
        "    })\n",
        ";\n",
        "      }(g.append(\"g\")));\n",
        "      (function (g) {\n",
        "        g.attr(\"visibility\", \"hidden\");\n",
        "        g.append(\"svg:text\")\n",
        "           .attr(\"x\", -23.44)\n",
        "           .attr(\"y\", 65.48)\n",
        "           .attr(\"text-anchor\", \"middle\")\n",
        "            .call(function(text) {\n",
        "      text.text(\"-0.4\");\n",
        "    })\n",
        ";\n",
        "      }(g.append(\"g\")));\n",
        "      g.append(\"svg:text\")\n",
        "         .attr(\"x\", 67.04)\n",
        "         .attr(\"y\", 65.48)\n",
        "         .attr(\"text-anchor\", \"middle\")\n",
        "         .call(function(text) {\n",
        "     text.text(\"0.4\");\n",
        "   })\n",
        ";\n",
        "      (function (g) {\n",
        "        g.attr(\"visibility\", \"hidden\");\n",
        "        g.append(\"svg:text\")\n",
        "           .attr(\"x\", 202.77)\n",
        "           .attr(\"y\", 65.48)\n",
        "           .attr(\"text-anchor\", \"middle\")\n",
        "            .call(function(text) {\n",
        "      text.text(\"1.6\");\n",
        "    })\n",
        ";\n",
        "      }(g.append(\"g\")));\n",
        "      (function (g) {\n",
        "        g.attr(\"visibility\", \"hidden\");\n",
        "        g.append(\"svg:text\")\n",
        "           .attr(\"x\", -91.3)\n",
        "           .attr(\"y\", 65.48)\n",
        "           .attr(\"text-anchor\", \"middle\")\n",
        "            .call(function(text) {\n",
        "      text.text(\"-1.0\");\n",
        "    })\n",
        ";\n",
        "      }(g.append(\"g\")));\n",
        "      (function (g) {\n",
        "        g.attr(\"visibility\", \"hidden\");\n",
        "        g.append(\"svg:text\")\n",
        "           .attr(\"x\", -68.68)\n",
        "           .attr(\"y\", 65.48)\n",
        "           .attr(\"text-anchor\", \"middle\")\n",
        "            .call(function(text) {\n",
        "      text.text(\"-0.8\");\n",
        "    })\n",
        ";\n",
        "      }(g.append(\"g\")));\n",
        "      g.append(\"svg:text\")\n",
        "         .attr(\"x\", 112.29)\n",
        "         .attr(\"y\", 65.48)\n",
        "         .attr(\"text-anchor\", \"middle\")\n",
        "         .call(function(text) {\n",
        "     text.text(\"0.8\");\n",
        "   })\n",
        ";\n",
        "      (function (g) {\n",
        "        g.attr(\"visibility\", \"hidden\");\n",
        "        g.append(\"svg:text\")\n",
        "           .attr(\"x\", -46.06)\n",
        "           .attr(\"y\", 65.48)\n",
        "           .attr(\"text-anchor\", \"middle\")\n",
        "            .call(function(text) {\n",
        "      text.text(\"-0.6\");\n",
        "    })\n",
        ";\n",
        "      }(g.append(\"g\")));\n",
        "      (function (g) {\n",
        "        g.attr(\"visibility\", \"hidden\");\n",
        "        g.append(\"svg:text\")\n",
        "           .attr(\"x\", 157.53)\n",
        "           .attr(\"y\", 65.48)\n",
        "           .attr(\"text-anchor\", \"middle\")\n",
        "            .call(function(text) {\n",
        "      text.text(\"1.2\");\n",
        "    })\n",
        ";\n",
        "      }(g.append(\"g\")));\n",
        "      g.append(\"svg:text\")\n",
        "         .attr(\"x\", 44.42)\n",
        "         .attr(\"y\", 65.48)\n",
        "         .attr(\"text-anchor\", \"middle\")\n",
        "         .call(function(text) {\n",
        "     text.text(\"0.2\");\n",
        "   })\n",
        ";\n",
        "      g.append(\"svg:text\")\n",
        "         .attr(\"x\", 89.67)\n",
        "         .attr(\"y\", 65.48)\n",
        "         .attr(\"text-anchor\", \"middle\")\n",
        "         .call(function(text) {\n",
        "     text.text(\"0.6\");\n",
        "   })\n",
        ";\n",
        "      g.append(\"svg:text\")\n",
        "         .attr(\"x\", 21.8)\n",
        "         .attr(\"y\", 65.48)\n",
        "         .attr(\"text-anchor\", \"middle\")\n",
        "         .call(function(text) {\n",
        "     text.text(\"0.0\");\n",
        "   })\n",
        ";\n",
        "      (function (g) {\n",
        "        g.attr(\"visibility\", \"hidden\");\n",
        "        g.append(\"svg:text\")\n",
        "           .attr(\"x\", -0.82)\n",
        "           .attr(\"y\", 65.48)\n",
        "           .attr(\"text-anchor\", \"middle\")\n",
        "            .call(function(text) {\n",
        "      text.text(\"-0.2\");\n",
        "    })\n",
        ";\n",
        "      }(g.append(\"g\")));\n",
        "    }(g.append(\"g\")));\n",
        "    (function (g) {\n",
        "      g.attr(\"stroke\", \"none\")\n",
        "       .attr(\"fill\", \"#362A35\")\n",
        "       .attr(\"font-family\", \"'PT Sans','Helvetica Neue','Helvetica',sans-serif\")\n",
        "       .style(\"font-size\", \"3.88px\");\n",
        "      g.append(\"svg:text\")\n",
        "         .attr(\"x\", 67.04)\n",
        "         .attr(\"y\", 73)\n",
        "         .attr(\"text-anchor\", \"middle\")\n",
        "         .call(function(text) {\n",
        "     text.text(\"x\");\n",
        "   })\n",
        ";\n",
        "    }(g.append(\"g\")));\n",
        "    (function (g) {\n",
        "      g.on(\"mouseover\", guide_background_mouseover(\"#C6C6C9\"))\n",
        "       .on(\"mouseout\", guide_background_mouseout(\"#F0F0F3\"))\n",
        "       .call(zoom_behavior(ctx))\n",
        ";\n",
        "      (function (g) {\n",
        "        d3.select(\"defs\")\n",
        "  .append(\"svg:clipPath\")\n",
        "    .attr(\"id\", parent_id + \"_clippath0\")\n",
        "    .append(\"svg:path\")\n",
        "      .attr(\"d\", \" M19.09,5 L 115 5 115 60.79 19.09 60.79 z\");g.attr(\"clip-path\", \"url(#\" + parent_id + \"_clippath0)\");\n",
        "        (function (g) {\n",
        "          g.attr(\"class\", \"guide background\")\n",
        "           .attr(\"stroke\", \"#F1F1F5\")\n",
        "           .attr(\"fill\", \"#FAFAFA\")\n",
        "           .attr(\"opacity\", 1.00);\n",
        "          g.append(\"svg:path\")\n",
        "             .attr(\"d\", \"M19.09,5 L 115 5 115 60.79 19.09 60.79 z\");\n",
        "        }(g.append(\"g\")));\n",
        "        (function (g) {\n",
        "          g.attr(\"stroke\", \"#F0F0F3\")\n",
        "           .attr(\"stroke-width\", 0.2)\n",
        "           .attr(\"class\", \"guide ygridlines xfixed\");\n",
        "          g.append(\"svg:path\")\n",
        "             .attr(\"d\", \"M19.09,-14.47 L 115 -14.47\");\n",
        "          g.append(\"svg:path\")\n",
        "             .attr(\"d\", \"M19.09,80.26 L 115 80.26\");\n",
        "          g.append(\"svg:path\")\n",
        "             .attr(\"d\", \"M19.09,-25 L 115 -25\");\n",
        "          g.append(\"svg:path\")\n",
        "             .attr(\"d\", \"M19.09,101.31 L 115 101.31\");\n",
        "          g.append(\"svg:path\")\n",
        "             .attr(\"d\", \"M19.09,90.79 L 115 90.79\");\n",
        "          g.append(\"svg:path\")\n",
        "             .attr(\"d\", \"M19.09,48.68 L 115 48.68\");\n",
        "          g.append(\"svg:path\")\n",
        "             .attr(\"d\", \"M19.09,59.21 L 115 59.21\");\n",
        "          g.append(\"svg:path\")\n",
        "             .attr(\"d\", \"M19.09,-46.05 L 115 -46.05\");\n",
        "          g.append(\"svg:path\")\n",
        "             .attr(\"d\", \"M19.09,122.36 L 115 122.36\");\n",
        "          g.append(\"svg:path\")\n",
        "             .attr(\"d\", \"M19.09,69.73 L 115 69.73\");\n",
        "          g.append(\"svg:path\")\n",
        "             .attr(\"d\", \"M19.09,-56.58 L 115 -56.58\");\n",
        "          g.append(\"svg:path\")\n",
        "             .attr(\"d\", \"M19.09,27.63 L 115 27.63\");\n",
        "          g.append(\"svg:path\")\n",
        "             .attr(\"d\", \"M19.09,-3.95 L 115 -3.95\");\n",
        "          g.append(\"svg:path\")\n",
        "             .attr(\"d\", \"M19.09,17.1 L 115 17.1\");\n",
        "          g.append(\"svg:path\")\n",
        "             .attr(\"d\", \"M19.09,111.84 L 115 111.84\");\n",
        "          g.append(\"svg:path\")\n",
        "             .attr(\"d\", \"M19.09,38.16 L 115 38.16\");\n",
        "          g.append(\"svg:path\")\n",
        "             .attr(\"d\", \"M19.09,-35.52 L 115 -35.52\");\n",
        "          g.append(\"svg:path\")\n",
        "             .attr(\"d\", \"M19.09,6.58 L 115 6.58\");\n",
        "        }(g.append(\"g\")));\n",
        "        (function (g) {\n",
        "          g.attr(\"stroke\", \"#F0F0F3\")\n",
        "           .attr(\"stroke-width\", 0.2)\n",
        "           .attr(\"class\", \"guide xgridlines yfixed\");\n",
        "          g.append(\"svg:path\")\n",
        "             .attr(\"d\", \"M180.15,5 L 180.15 60.79\");\n",
        "          g.append(\"svg:path\")\n",
        "             .attr(\"d\", \"M-23.44,5 L -23.44 60.79\");\n",
        "          g.append(\"svg:path\")\n",
        "             .attr(\"d\", \"M202.77,5 L 202.77 60.79\");\n",
        "          g.append(\"svg:path\")\n",
        "             .attr(\"d\", \"M-68.68,5 L -68.68 60.79\");\n",
        "          g.append(\"svg:path\")\n",
        "             .attr(\"d\", \"M-46.06,5 L -46.06 60.79\");\n",
        "          g.append(\"svg:path\")\n",
        "             .attr(\"d\", \"M44.42,5 L 44.42 60.79\");\n",
        "          g.append(\"svg:path\")\n",
        "             .attr(\"d\", \"M21.8,5 L 21.8 60.79\");\n",
        "          g.append(\"svg:path\")\n",
        "             .attr(\"d\", \"M-0.82,5 L -0.82 60.79\");\n",
        "          g.append(\"svg:path\")\n",
        "             .attr(\"d\", \"M89.67,5 L 89.67 60.79\");\n",
        "          g.append(\"svg:path\")\n",
        "             .attr(\"d\", \"M157.53,5 L 157.53 60.79\");\n",
        "          g.append(\"svg:path\")\n",
        "             .attr(\"d\", \"M112.29,5 L 112.29 60.79\");\n",
        "          g.append(\"svg:path\")\n",
        "             .attr(\"d\", \"M-91.3,5 L -91.3 60.79\");\n",
        "          g.append(\"svg:path\")\n",
        "             .attr(\"d\", \"M67.04,5 L 67.04 60.79\");\n",
        "          g.append(\"svg:path\")\n",
        "             .attr(\"d\", \"M225.39,5 L 225.39 60.79\");\n",
        "          g.append(\"svg:path\")\n",
        "             .attr(\"d\", \"M134.91,5 L 134.91 60.79\");\n",
        "        }(g.append(\"g\")));\n",
        "      }(g.append(\"g\")));\n",
        "      (function (g) {\n",
        "        d3.select(\"defs\")\n",
        "  .append(\"svg:clipPath\")\n",
        "    .attr(\"id\", parent_id + \"_clippath1\")\n",
        "    .append(\"svg:path\")\n",
        "      .attr(\"d\", \" M19.09,5 L 115 5 115 60.79 19.09 60.79 z\");g.attr(\"clip-path\", \"url(#\" + parent_id + \"_clippath1)\");\n",
        "        (function (g) {\n",
        "          g.attr(\"class\", \"plotpanel\");\n",
        "          (function (g) {\n",
        "            g.attr(\"stroke-width\", 0.3);\n",
        "            (function (g) {\n",
        "              g.attr(\"stroke-width\", 0.3);\n",
        "g.selectAll(\"form0\")\n",
        "                  .data(d3.zip(data[0],data[1],data[2],data[3],data[4]))\n",
        "                  .enter()\n",
        "                  .append(\"circle\")\n",
        ".attr(\"cx\", function(d) { return d[0]; })\n",
        ".attr(\"cy\", function(d) { return d[1]; })\n",
        ".attr(\"r\", 0.6)\n",
        ".attr(\"class\", function(d) { return d[2]; })\n",
        ".on(\"mouseout\", geom_point_mouseout(10.00, 0.50), false)\n",
        ".on(\"mouseover\", geom_point_mouseover(10.00, 0.50), false)\n",
        ".attr(\"stroke\", function(d) { return d[3]; })\n",
        ".attr(\"fill\", function(d, i) { return d[4]; })\n",
        ";\n",
        "            }(g.append(\"g\")));\n",
        "          }(g.append(\"g\")));\n",
        "        }(g.append(\"g\")));\n",
        "      }(g.append(\"g\")));\n",
        "      (function (g) {\n",
        "        d3.select(\"defs\")\n",
        "  .append(\"svg:clipPath\")\n",
        "    .attr(\"id\", parent_id + \"_clippath2\")\n",
        "    .append(\"svg:path\")\n",
        "      .attr(\"d\", \" M19.09,5 L 115 5 115 60.79 19.09 60.79 z\");g.attr(\"clip-path\", \"url(#\" + parent_id + \"_clippath2)\");\n",
        "        (function (g) {\n",
        "          g.attr(\"stroke\", \"none\")\n",
        "           .attr(\"class\", \"guide zoomslider\")\n",
        "           .attr(\"opacity\", 0.00);\n",
        "          (function (g) {\n",
        "            g.attr(\"stroke\", \"#6A6A6A\")\n",
        "             .attr(\"stroke-opacity\", 0.00)\n",
        "             .attr(\"stroke-width\", 0.3)\n",
        "             .attr(\"fill\", \"#EAEAEA\")\n",
        "             .on(\"click\", zoomin_behavior(ctx))\n",
        ".on(\"dblclick\", function() { d3.event.stopPropagation(); })\n",
        ".on(\"mouseover\", zoomslider_button_mouseover(\"#cd5c5c\"))\n",
        ".on(\"mouseout\", zoomslider_button_mouseover(\"#6a6a6a\"))\n",
        ";\n",
        "            g.append(\"svg:path\")\n",
        "               .attr(\"d\", \"M108,8 L 112 8 112 12 108 12 z\");\n",
        "            (function (g) {\n",
        "              g.attr(\"fill\", \"#6A6A6A\")\n",
        "               .attr(\"class\", \"button_logo\");\n",
        "              g.append(\"svg:path\")\n",
        "                 .attr(\"d\", \"M108.8,9.6 L 109.6 9.6 109.6 8.8 110.4 8.8 110.4 9.6 111.2 9.6 111.2 10.4 110.4 10.4 110.4 11.2 109.6 11.2 109.6 10.4 108.8 10.4 z\");\n",
        "            }(g.append(\"g\")));\n",
        "          }(g.append(\"g\")));\n",
        "          (function (g) {\n",
        "            g.attr(\"fill\", \"#EAEAEA\")\n",
        "             .on(\"click\", zoomslider_track_behavior(ctx, 82, 99));\n",
        "            g.append(\"svg:path\")\n",
        "               .attr(\"d\", \"M88.5,8 L 107.5 8 107.5 12 88.5 12 z\");\n",
        "          }(g.append(\"g\")));\n",
        "          (function (g) {\n",
        "            g.attr(\"fill\", \"#6A6A6A\")\n",
        "             .attr(\"class\", \"zoomslider_thumb\")\n",
        "             .call(zoomslider_behavior(ctx, 82, 99))\n",
        ".on(\"mouseover\", zoomslider_thumb_mouseover(\"#cd5c5c\"))\n",
        ".on(\"mouseout\", zoomslider_thumb_mouseover(\"#6a6a6a\"))\n",
        ";\n",
        "            g.append(\"svg:path\")\n",
        "               .attr(\"d\", \"M97,8 L 99 8 99 12 97 12 z\");\n",
        "          }(g.append(\"g\")));\n",
        "          (function (g) {\n",
        "            g.attr(\"stroke\", \"#6A6A6A\")\n",
        "             .attr(\"stroke-opacity\", 0.00)\n",
        "             .attr(\"stroke-width\", 0.3)\n",
        "             .attr(\"fill\", \"#EAEAEA\")\n",
        "             .on(\"click\", zoomout_behavior(ctx))\n",
        ".on(\"dblclick\", function() { d3.event.stopPropagation(); })\n",
        ".on(\"mouseover\", zoomslider_button_mouseover(\"#cd5c5c\"))\n",
        ".on(\"mouseout\", zoomslider_button_mouseover(\"#6a6a6a\"))\n",
        ";\n",
        "            g.append(\"svg:path\")\n",
        "               .attr(\"d\", \"M84,8 L 88 8 88 12 84 12 z\");\n",
        "            (function (g) {\n",
        "              g.attr(\"fill\", \"#6A6A6A\")\n",
        "               .attr(\"class\", \"button_logo\");\n",
        "              g.append(\"svg:path\")\n",
        "                 .attr(\"d\", \"M84.8,9.6 L 87.2 9.6 87.2 10.4 84.8 10.4 z\");\n",
        "            }(g.append(\"g\")));\n",
        "          }(g.append(\"g\")));\n",
        "        }(g.append(\"g\")));\n",
        "      }(g.append(\"g\")));\n",
        "    }(g.append(\"g\")));\n",
        "  }(g.append(\"g\")));\n",
        "}(g.append(\"g\")));\n",
        "    d3.select(parent_id)\n",
        "      .selectAll(\"path\")\n",
        "      .each(function() {\n",
        "          var sw = parseFloat(window.getComputedStyle(this).getPropertyValue(\"stroke-width\"));\n",
        "          d3.select(this)\n",
        "            .attr(\"vector-effect\", \"non-scaling-stroke\")\n",
        "            .style(\"stroke-width\", sw + \"mm\");\n",
        "      });\n",
        "}\n",
        "\n",
        "var data = [\n",
        "  [41.496242686386154,41.49353645997782,41.49175891521712,41.4899982970114,41.487651009146305,41.484444210901955,41.48037391475886,41.47582141887572,41.470998420813444,41.46604684917542,41.46101566077086,41.45577511703762,41.45022346022545,41.444549873497635,41.438988502852375,41.4337731677929,41.42863190391765,41.42343468194318,41.41836408551826,41.41342488737908,41.40854672744977,41.40339154781165,41.39735582390236,41.3901532840633,41.381871195758656,41.37281772926886,41.36301079248723,41.35266185726612,41.342301293270324,41.332229876249585,41.3225534449918,41.31270524146206,41.30208788273451,41.29082271609312,41.2791006431342,41.26714238854905,41.25535885312626,41.24275626803332,41.22807494902452,41.21066010728596,41.190323703581335,41.16755391667485,41.14340215187812,41.11829596098479,41.09228986194271,41.065183821579794,41.03681711111315,41.006922400301455,40.97511299883576,40.940983691974466,40.904184872926606,40.864277760284075,40.821469947769884,40.77623526424836,40.728964514194175,40.67999019806278,40.629209581463236,40.57610124575315,40.52029533821714,40.461406700169334,40.399096960212574,40.33311828383131,40.26316644445485,40.18876757886068,40.10952263580309,40.02504788064827,39.935135030146355,39.83971306582734,39.73873480479662,39.6321978305794,39.52019943847126,39.403043139741094,39.28083891194406,39.1533277300301,39.02009814381734,38.880547024012714,38.73410135506465,38.58098623917318,38.42166989033332,38.25655947705306,38.08600244377787,37.91009145651623,37.728059792735166,37.538622470405386,37.339907945615025,37.1294148805155,36.903968127582196,36.66207663335014,36.40365003735248,36.12953473818311,35.84183706786128,35.542130991692446,35.22914237976826,34.901832002498374,34.558983828589845,34.1991229222876,33.822086642800095,33.42793979679582,33.01531310081981,32.582861772895825,32.129259702443136,31.652977686605247,31.15500017767829,30.638852625008212,30.109678287443607,29.57455332640894,29.041514084727737,28.512512807407987,27.986666019430444,27.462434250621207,26.937553663472112,26.413503591061176,25.897507885669373,25.395487929910082,24.913414562996373,24.457132108179824,24.032398587365087,23.64376064977936,23.294791614919987,22.988585362993923,22.727582430638495,22.514590971542052,22.355182243984746,22.25418142531971,22.215043401249133,22.240167555149146,22.32920076551677,22.483607915453177,22.707265630460235,23.003016062293504,23.372516027067896,23.813148541000103,24.319629555762315,24.888427099959543,25.515815941195115,26.19798582385348,26.930456515857685,27.70506046437753,28.513610506578786,29.349475894826558,30.207530365769095,31.084182430934007,31.976371789449203,32.88096463729051,33.794984182593055,34.715592504430234,35.641520607041556,36.568766766617,37.49130560800285,38.40413863198896,39.30317080314355,40.186879653349294,41.05796712949765,41.91893893528159,42.771868816589134,43.61847753747395,44.459132532947464,45.293961774289514,46.12408243594652,46.95052653006243,47.774257882847536,48.59595102676945,49.415697446788,50.233522997457044,51.04945376763884,51.86351574187268,52.67587462537934,53.48696907466152,54.297173141094206,55.10674442490482,55.91582333931998,56.725196907168616,57.53438359160955,58.343276162380704,59.15187568997544,59.960306414658326,60.768972166984,61.57779031741683,62.386389326179305,63.19458063275977,64.00237787470756,64.81018700101602,65.61718754803604,66.42333172381923,67.22854837036513,68.03274334645384,68.83571479660148,69.63706130754832,70.43643393552867,71.2335554082027,72.02821633128393,72.82021215633092,73.6091821944681,74.39475267735025,75.17656178621498,75.95425808347737,76.72751496390043,77.49586313816994,78.25881528610017,79.0159912418979,79.76711255559445,80.5120201039993,81.25034905718886,81.98156745294912,82.70510084216153,83.42033037300298,84.1266023116516,84.82352196989473,85.51077157240239,86.18796713746164,86.85465770219542,87.51080497207359,88.15520619809824,88.78570739539646,89.40024052506025,89.99680446408173,90.5738787028178,91.1328224389434,91.67591845189261,92.20530628890504,92.72299966619448,93.23018392031136,93.72545951250027,94.20684129414545,94.67247550028081,95.12037184922686,95.54961196203776,95.96141328664854,96.35691683397553,96.73718887922705,97.10310717250944,97.45491929340214,97.79247556309642,98.11604340292332,98.42587307643575,98.72219656571944,99.005260290666,99.27546460802922,99.53332108485044,99.77941440504796,100.0144035134367,100.23898632033045,100.45376781422719,100.65926684359356,100.8558770475111,101.04386994856435,101.2233098002625,101.39478437567134,101.55925339034961,101.71764099591162,101.87084305158768,102.01936820151172,102.16294120287206,102.30135025015697,102.43448118666386,102.56232810361766,102.68509564217047,102.802964581616,102.91600065440919,103.02429931769831,103.12799133468718,103.22736423584307,103.32250059710505,103.41318775965561,103.49918991400106,103.58024881533086,103.65606276511937,103.72687639944103,103.79319798879236,103.85567237811611,103.91511228876259,103.97193588785886,104.02625252884704,104.07792527097556,104.12683890512018,104.17291873165895,104.21643581424037,104.25755336287462,104.29611221963908,104.33194668766507,104.36488540563896,104.39485029307644,104.42201927727085,104.44680466134143,104.46975825266547,104.49160319583926,104.51311980243527,104.53431685537086,104.55500551812729,104.57495251773146,104.59383678446527,104.61160767069576,104.6285061534841,104.64467884378757,104.66036281173817,104.67590310591198,104.69170951156646,104.70772003567949,104.7237201430276,104.73949878642036,104.75485674533918,104.76996930982276,104.78497917359066,104.79961689311429,104.81352548482245,104.82614882477695,104.83692255714341,104.84584783368713,104.85319677747928,104.85935786235557,104.86492758592614,104.8703053325061,104.87533360389409,104.87994366684664,104.88408183665723,104.88771730664493,104.89104625260875,104.89419073478581,104.8969596103098,104.89884473426218,104.89884222499063,104.89883813982256,104.89884032974513,104.89884034330451,104.8988392935028,104.8988407619297,104.89883979574323,104.89883845527226,104.89883931444743,104.89884129417632,104.89883826355026,104.89884117697086,104.8988414944404,104.89883815922424,104.89883874790975,104.89884114472925,104.89884158385607,104.89883994207536,104.89883771388982,104.89883689209825,104.89884006359341,104.89883820116592,104.89883669379631,104.89883787800441,104.89883470938325,104.8988395498219,104.89883693050237,104.89883455117588,104.89884299108901,104.89883710913874,104.89883417063318,104.89884332962008,104.89883483505011,104.89883285355167,104.89884901253441,104.89883874540166,104.89883883240118,104.89884005844674,104.89883828991532,104.89883925562899,104.89884024056832,104.89883971442882,104.89883801318021,104.8988399603159,104.89883800769935,104.898839612407,104.898838153398,104.89884009742582,104.89883801706276,104.89884213306809,104.89884080496567,104.89883908768866,104.89884317408959,104.89884152121134,104.8988418774195,104.8988398035572,104.89883619272732,104.8988420231789,104.89883829470926,104.89884083185578,104.89883417063318,104.89883490198538,104.89884546938278,104.89883820365579,104.89883456700744,104.89883041534935,104.89884565288992,104.89884982210285,104.89884030896447,104.89883888373492,104.89883947809942,104.89883993897406,104.8988410262086,104.89883822243864,104.89884051281362,104.89883792591608,104.8988397268749,104.8988380972282,104.89884065253715,104.89883862423642,104.89883775556305],\n",
        "  [58.94678140085574,58.94678802771538,58.94631738881162,58.945817752937316,58.94561116831059,58.94589603963598,58.94676260622444,58.94785078990138,58.948764333877,58.94928828015147,58.94932412931024,58.94882721598826,58.94818278918862,58.94783056273783,58.94803559073576,58.9489141129172,58.950374880282894,58.95199941428688,58.95348708316787,58.95469617450419,58.95556954864897,58.95614309048535,58.956509269117035,58.95670700377718,58.95676490243206,58.95671123715898,58.956390367273244,58.955882718274026,58.9554633087229,58.955288461178625,58.95543489843444,58.955647917805145,58.955602434407936,58.955259772129814,58.95461476299886,58.953686437320926,58.95250302099872,58.950738799844515,58.94806521118058,58.94432792357112,58.93949515945652,58.93375401442433,58.92729905071771,58.920130251611376,58.912191214434586,58.90337396336655,58.89361699502285,58.88293793733547,58.871294778829885,58.858628727997626,58.84486412160666,58.829927927402665,58.81378988345254,58.796415002625736,58.77775383155237,58.75774381208434,58.73622937787597,58.71321379853775,58.688848210997264,58.66326725341336,58.63659405382465,58.60884243238989,58.57976356727435,58.54909968668529,58.5166126974104,58.48208538496064,58.44534915394631,58.40636760372644,58.365154001834405,58.321750017934804,58.276229322304836,58.22866306724526,58.17881841837376,58.12629275433314,58.07061204242191,58.011221147653494,57.94753237815915,57.879269024146915,57.80623109195017,57.72816883480077,57.64477615582902,57.555800853542316,57.460038428086776,57.35544175456037,57.23952542584201,57.1092140329464,56.961153620465495,56.793604064971554,56.60551700984696,56.396257293578614,56.165921264303684,55.9140818080593,55.63815915316926,55.335528117180814,55.00316930183498,54.637571045476015,54.23529697385973,53.79438755342903,53.31318380774624,52.79016431279852,52.22402318077654,51.61275987550842,50.95229699393105,50.23893377052028,49.46994861283402,48.64412697185937,47.76288418602239,46.826815139204996,45.835184680667204,44.78753776318018,43.68368560880997,42.525575183599074,41.319375544570896,40.07218278873814,38.79205070430431,37.487787327073725,36.169300463461006,34.8431187044273,33.51409807216506,32.18799223533415,30.871272879779628,29.57420732754102,28.30858264085967,27.080688951949142,25.893170999120013,24.74523630617741,23.63606091983682,22.57181528280327,21.56020656900604,20.609122871694662,19.726348698281853,18.914505926571287,18.176762759284617,17.520288943997816,16.950727395187446,16.472310144089747,16.084181835109792,15.780367359980541,15.55604964920542,15.406163795788522,15.325675306590053,15.310558997369625,15.352735762065066,15.442008073292289,15.569080081296253,15.725453206255102,15.90631642789293,16.10854636808652,16.32713995427298,16.557643817393146,16.796109684472057,17.03952289578313,17.287929200066515,17.542231285087368,17.803209011415493,18.071541672073437,18.346781584433018,18.62806422128561,18.915403694166642,19.208816239727092,19.508323951589787,19.813816380736817,20.1248795397742,20.441097030079312,20.762081096343714,21.08747009179982,21.417020028044245,21.75055469225709,22.087826490564964,22.428560822604393,22.772453312980893,23.119579449208047,23.4694885540839,23.82189761730327,24.176585024017935,24.53339668643353,24.892331705566555,25.25315895559661,25.615502068917483,25.979077647855945,26.34370399213663,26.709408524410872,27.0757257702148,27.442575409527983,27.80986972119286,28.177513399533986,28.545333264434564,28.913067813874044,29.280513814485783,29.64750300302702,30.013900325238776,30.37956017832402,30.744249354531853,31.10773654122702,31.46979788495015,31.83021605050686,32.188812418365,32.545308372397955,32.89937535682127,33.250736063737946,33.599161523099234,33.94452322094662,34.28667782069058,34.62539953036778,34.96044244139605,35.291539714411286,35.61834625895582,35.940718891132164,36.258653078184295,36.57211439553001,36.88103877931621,37.18552077694573,37.48489577147059,37.77798182092022,38.063635027475534,38.34073972949608,38.60848481641981,38.86758017396499,39.11917324308811,39.364346866791855,39.6041280265826,39.839121920248054,40.06862391169168,40.29164009331549,40.507234607868554,40.714404490372225,40.91265728390219,41.10263206355017,41.284991088239174,41.460369440042534,41.629323479725656,41.79205795783026,41.94844433757963,42.09853698712946,42.24237797963344,42.37999580242555,42.5114903025695,42.63705770015854,42.75688641974333,42.87119443109102,42.98022889800813,43.08425407091319,43.18357240259908,43.27848814209122,43.369254875104275,43.456078524953824,43.53903192016917,43.61836476558596,43.69450997743035,43.767882314673436,43.83888135780196,43.90774589607279,43.974357601354924,44.03860917595157,44.10043707485395,44.15982626464107,44.216864015801065,44.271632899850914,44.324158745775044,44.37448038408681,44.42265210481068,44.46880119638307,44.51296327839182,44.55503739147593,44.59491156316551,44.63246312136907,44.66754157741292,44.700264343485614,44.73088876149422,44.75974037789969,44.787228343887655,44.81366970841394,44.83894452604346,44.862989075005906,44.885749745771086,44.9071917788383,44.92744130653376,44.9465742743351,44.96451662229687,44.9811912477474,44.996518412214755,45.01046178300304,45.02310415388975,45.034637379267174,45.04531822815811,45.05548319684543,45.065495382757994,45.07535887279501,45.08498579685832,45.094267607516706,45.103054903437084,45.11132411707804,45.11918738076521,45.12671291604432,45.134011037254446,45.14124230365838,45.14859739802776,45.156047473543246,45.16349270189168,45.170834877824085,45.17798129932168,45.185013532985025,45.19199797757651,45.19880925465,45.20528125130725,45.211155189927545,45.21616846239428,45.220321604651076,45.22374124199862,45.22660814049999,45.229199864600226,45.23170225726652,45.23404203086097,45.236187202179856,45.23811279045961,45.23980446062303,45.24135349790891,45.24281669983227,45.24410512309693,45.24498231585478,45.244981148231375,45.24497924730607,45.24498026632883,45.24498027263834,45.24497978414077,45.24498046743454,45.24498001784511,45.24497939409227,45.244979793886806,45.24498071510147,45.24497930487951,45.244980660563,45.24498080828909,45.244979256334126,45.244979530263414,45.24498064556021,45.24498084989632,45.244980085936916,45.244979049109496,45.24497866671044,45.24498014248215,45.244979275850575,45.244978574435855,45.24497912547589,45.24497765104154,45.244979903412116,45.24497868458078,45.24497757742389,45.244981504715064,45.24497876770452,45.24497740034838,45.24498166224159,45.244977709517286,45.2449767874792,45.24498430663603,45.244979529096355,45.24497956957928,45.24498014008727,45.24497931714778,45.24497976651719,45.24498022483275,45.24497998000759,45.24497918837639,45.24498009442466,45.24497918582602,45.24497993253443,45.244979253623036,45.24498015822516,45.244979190183024,45.244981105457654,45.24498048746019,45.24497968837058,45.24498158986958,45.244980820746235,45.24498098649831,45.244980021481126,45.24497834127661,45.24498105432362,45.244979319378515,45.24498049997279,45.24497740034838,45.24497774066386,45.24498265792378,45.24497927700918,45.24497758479069,45.244975652926,45.24498274331399,45.24498468334737,45.24498025665909,45.244979593466084,45.24497987003793,45.24498008449381,45.24498059040975,45.24497928574928,45.244980351514926,45.24497914777032,45.24497998579904,45.244979227485906,45.244980416531575,45.2449794727153,45.24497906850103],\n",
        "  [\"geometry color_1\",\"geometry color_2\",\"geometry color_3\",\"geometry color_4\",\"geometry color_5\",\"geometry color_6\",\"geometry color_7\",\"geometry color_8\",\"geometry color_9\",\"geometry color_10\",\"geometry color_11\",\"geometry color_12\",\"geometry color_13\",\"geometry color_14\",\"geometry color_15\",\"geometry color_16\",\"geometry color_17\",\"geometry color_18\",\"geometry color_19\",\"geometry color_20\",\"geometry color_21\",\"geometry color_22\",\"geometry color_23\",\"geometry color_24\",\"geometry color_25\",\"geometry color_26\",\"geometry color_27\",\"geometry color_28\",\"geometry color_29\",\"geometry color_30\",\"geometry color_31\",\"geometry color_32\",\"geometry color_33\",\"geometry color_34\",\"geometry color_35\",\"geometry color_36\",\"geometry color_37\",\"geometry color_38\",\"geometry color_39\",\"geometry color_40\",\"geometry color_41\",\"geometry color_42\",\"geometry color_43\",\"geometry color_44\",\"geometry color_45\",\"geometry color_46\",\"geometry color_47\",\"geometry color_48\",\"geometry color_49\",\"geometry color_50\",\"geometry color_51\",\"geometry color_52\",\"geometry color_53\",\"geometry color_54\",\"geometry color_55\",\"geometry color_56\",\"geometry color_57\",\"geometry color_58\",\"geometry color_59\",\"geometry color_60\",\"geometry color_61\",\"geometry color_62\",\"geometry color_63\",\"geometry color_64\",\"geometry color_65\",\"geometry color_66\",\"geometry color_67\",\"geometry color_68\",\"geometry color_69\",\"geometry color_70\",\"geometry color_71\",\"geometry color_72\",\"geometry color_73\",\"geometry color_74\",\"geometry color_75\",\"geometry color_76\",\"geometry color_77\",\"geometry color_78\",\"geometry color_79\",\"geometry color_80\",\"geometry color_81\",\"geometry color_82\",\"geometry color_83\",\"geometry color_84\",\"geometry color_85\",\"geometry color_86\",\"geometry color_87\",\"geometry color_88\",\"geometry color_89\",\"geometry color_90\",\"geometry color_91\",\"geometry color_92\",\"geometry color_93\",\"geometry color_94\",\"geometry color_95\",\"geometry color_96\",\"geometry color_97\",\"geometry color_98\",\"geometry color_99\",\"geometry color_100\",\"geometry color_101\",\"geometry color_102\",\"geometry color_103\",\"geometry color_104\",\"geometry color_105\",\"geometry color_106\",\"geometry color_107\",\"geometry color_108\",\"geometry color_109\",\"geometry color_110\",\"geometry color_111\",\"geometry color_112\",\"geometry color_113\",\"geometry color_114\",\"geometry color_115\",\"geometry color_116\",\"geometry color_117\",\"geometry color_118\",\"geometry color_119\",\"geometry color_120\",\"geometry color_121\",\"geometry color_122\",\"geometry color_123\",\"geometry color_124\",\"geometry color_125\",\"geometry color_126\",\"geometry color_127\",\"geometry color_128\",\"geometry color_129\",\"geometry color_130\",\"geometry color_131\",\"geometry color_132\",\"geometry color_133\",\"geometry color_134\",\"geometry color_135\",\"geometry color_136\",\"geometry color_137\",\"geometry color_138\",\"geometry color_139\",\"geometry color_140\",\"geometry color_141\",\"geometry color_142\",\"geometry color_143\",\"geometry color_144\",\"geometry color_145\",\"geometry color_146\",\"geometry color_147\",\"geometry color_148\",\"geometry color_149\",\"geometry color_150\",\"geometry color_151\",\"geometry color_152\",\"geometry color_153\",\"geometry color_154\",\"geometry color_155\",\"geometry color_156\",\"geometry color_157\",\"geometry color_158\",\"geometry color_159\",\"geometry color_160\",\"geometry color_161\",\"geometry color_162\",\"geometry color_163\",\"geometry color_164\",\"geometry color_165\",\"geometry color_166\",\"geometry color_167\",\"geometry color_168\",\"geometry color_169\",\"geometry color_170\",\"geometry color_171\",\"geometry color_172\",\"geometry color_173\",\"geometry color_174\",\"geometry color_175\",\"geometry color_176\",\"geometry color_177\",\"geometry color_178\",\"geometry color_179\",\"geometry color_180\",\"geometry color_181\",\"geometry color_182\",\"geometry color_183\",\"geometry color_184\",\"geometry color_185\",\"geometry color_186\",\"geometry color_187\",\"geometry color_188\",\"geometry color_189\",\"geometry color_190\",\"geometry color_191\",\"geometry color_192\",\"geometry color_193\",\"geometry color_194\",\"geometry color_195\",\"geometry color_196\",\"geometry color_197\",\"geometry color_198\",\"geometry color_199\",\"geometry color_200\",\"geometry color_201\",\"geometry color_202\",\"geometry color_203\",\"geometry color_204\",\"geometry color_205\",\"geometry color_206\",\"geometry color_207\",\"geometry color_208\",\"geometry color_209\",\"geometry color_210\",\"geometry color_211\",\"geometry color_212\",\"geometry color_213\",\"geometry color_214\",\"geometry color_215\",\"geometry color_216\",\"geometry color_217\",\"geometry color_218\",\"geometry color_219\",\"geometry color_220\",\"geometry color_221\",\"geometry color_222\",\"geometry color_223\",\"geometry color_224\",\"geometry color_225\",\"geometry color_226\",\"geometry color_227\",\"geometry color_228\",\"geometry color_229\",\"geometry color_230\",\"geometry color_231\",\"geometry color_232\",\"geometry color_233\",\"geometry color_234\",\"geometry color_235\",\"geometry color_236\",\"geometry color_237\",\"geometry color_238\",\"geometry color_239\",\"geometry color_240\",\"geometry color_241\",\"geometry color_242\",\"geometry color_243\",\"geometry color_244\",\"geometry color_245\",\"geometry color_246\",\"geometry color_247\",\"geometry color_248\",\"geometry color_249\",\"geometry color_250\",\"geometry color_251\",\"geometry color_252\",\"geometry color_253\",\"geometry color_254\",\"geometry color_255\",\"geometry color_256\",\"geometry color_257\",\"geometry color_258\",\"geometry color_259\",\"geometry color_260\",\"geometry color_261\",\"geometry color_262\",\"geometry color_263\",\"geometry color_264\",\"geometry color_265\",\"geometry color_266\",\"geometry color_267\",\"geometry color_268\",\"geometry color_269\",\"geometry color_270\",\"geometry color_271\",\"geometry color_272\",\"geometry color_273\",\"geometry color_274\",\"geometry color_275\",\"geometry color_276\",\"geometry color_277\",\"geometry color_278\",\"geometry color_279\",\"geometry color_280\",\"geometry color_281\",\"geometry color_282\",\"geometry color_283\",\"geometry color_284\",\"geometry color_285\",\"geometry color_286\",\"geometry color_287\",\"geometry color_288\",\"geometry color_289\",\"geometry color_290\",\"geometry color_291\",\"geometry color_292\",\"geometry color_293\",\"geometry color_294\",\"geometry color_295\",\"geometry color_296\",\"geometry color_297\",\"geometry color_298\",\"geometry color_299\",\"geometry color_300\",\"geometry color_301\",\"geometry color_302\",\"geometry color_303\",\"geometry color_304\",\"geometry color_305\",\"geometry color_306\",\"geometry color_307\",\"geometry color_308\",\"geometry color_309\",\"geometry color_310\",\"geometry color_311\",\"geometry color_312\",\"geometry color_313\",\"geometry color_314\",\"geometry color_315\",\"geometry color_316\",\"geometry color_317\",\"geometry color_318\",\"geometry color_319\",\"geometry color_320\",\"geometry color_321\",\"geometry color_322\",\"geometry color_323\",\"geometry color_324\",\"geometry color_325\",\"geometry color_326\",\"geometry color_327\",\"geometry color_328\",\"geometry color_329\",\"geometry color_330\",\"geometry color_331\",\"geometry color_332\",\"geometry color_333\",\"geometry color_334\",\"geometry color_335\",\"geometry color_336\",\"geometry color_337\",\"geometry color_338\",\"geometry color_339\",\"geometry color_340\",\"geometry color_341\",\"geometry color_342\",\"geometry color_343\",\"geometry color_344\",\"geometry color_345\",\"geometry color_346\",\"geometry color_347\",\"geometry color_348\",\"geometry color_349\",\"geometry color_350\",\"geometry color_351\",\"geometry color_352\",\"geometry color_353\",\"geometry color_354\",\"geometry color_355\",\"geometry color_356\",\"geometry color_357\",\"geometry color_358\",\"geometry color_359\",\"geometry color_360\",\"geometry color_361\",\"geometry color_362\",\"geometry color_363\",\"geometry color_364\",\"geometry color_365\",\"geometry color_366\",\"geometry color_367\",\"geometry color_368\",\"geometry color_369\",\"geometry color_370\",\"geometry color_371\",\"geometry color_372\",\"geometry color_373\",\"geometry color_374\",\"geometry color_375\",\"geometry color_376\",\"geometry color_377\",\"geometry color_378\",\"geometry color_379\",\"geometry color_380\",\"geometry color_381\",\"geometry color_382\",\"geometry color_383\",\"geometry color_384\",\"geometry color_385\",\"geometry color_386\",\"geometry color_387\",\"geometry color_388\",\"geometry color_389\",\"geometry color_390\",\"geometry color_391\",\"geometry color_392\",\"geometry color_393\",\"geometry color_394\",\"geometry color_395\",\"geometry color_396\",\"geometry color_397\",\"geometry color_398\",\"geometry color_399\",\"geometry color_400\",\"geometry color_401\"],\n",
        "  [\"#000000\",\"#000000\",\"#000000\",\"#000000\",\"#000000\",\"#000000\",\"#000002\",\"#00000A\",\"#000011\",\"#000016\",\"#00001B\",\"#000020\",\"#080025\",\"#11002A\",\"#16002F\",\"#190034\",\"#1C0039\",\"#1E0040\",\"#1F0048\",\"#1F0052\",\"#1D005C\",\"#1B0066\",\"#190071\",\"#18007C\",\"#170089\",\"#170096\",\"#1800A4\",\"#1900B2\",\"#1B00C1\",\"#1E00D0\",\"#2100DE\",\"#2300EA\",\"#2400F4\",\"#2500FD\",\"#2600FF\",\"#2500FF\",\"#2300FF\",\"#2100FF\",\"#1D00FF\",\"#1700FF\",\"#0E00FF\",\"#0000FF\",\"#0000FF\",\"#0000FF\",\"#0000FF\",\"#0000FF\",\"#0000FF\",\"#0000FF\",\"#0000FF\",\"#0000FF\",\"#0000FF\",\"#0000FF\",\"#0000FF\",\"#0000FF\",\"#0000FF\",\"#0000FF\",\"#0000FF\",\"#0000FF\",\"#0000FF\",\"#0000FD\",\"#0015F6\",\"#0028EE\",\"#0034E7\",\"#003DDF\",\"#0046D7\",\"#004DCF\",\"#0054C6\",\"#0059BE\",\"#005FB6\",\"#0064AD\",\"#0069A5\",\"#006E9D\",\"#007395\",\"#00778E\",\"#007C86\",\"#00817F\",\"#008778\",\"#008C71\",\"#00926A\",\"#009863\",\"#009E5D\",\"#00A456\",\"#00AA4F\",\"#00B047\",\"#00B63E\",\"#00BC34\",\"#00C227\",\"#00C813\",\"#00CD00\",\"#00D300\",\"#00D900\",\"#00DE00\",\"#00E300\",\"#00E800\",\"#00EC00\",\"#00EF00\",\"#00F200\",\"#00F500\",\"#00F800\",\"#00FA00\",\"#00FC00\",\"#00FD00\",\"#00FF00\",\"#00FF00\",\"#00FF00\",\"#00FF00\",\"#00FF00\",\"#00FF00\",\"#00FF00\",\"#00FF00\",\"#00FF00\",\"#00FF00\",\"#00FF00\",\"#00FE00\",\"#00FD00\",\"#00FB00\",\"#00FA00\",\"#00F800\",\"#42F600\",\"#5FF300\",\"#75F100\",\"#86EE00\",\"#96EB00\",\"#A4E800\",\"#B1E400\",\"#BDE000\",\"#C8DC00\",\"#D2D800\",\"#DCD400\",\"#E6CF00\",\"#EFCA00\",\"#F7C400\",\"#FFBF00\",\"#FFB900\",\"#FFB200\",\"#FFAC00\",\"#FFA500\",\"#FF9D00\",\"#FF9500\",\"#FF8D00\",\"#FF8400\",\"#FF7B00\",\"#FF7100\",\"#FF6700\",\"#FF5B00\",\"#FF4E00\",\"#FF4000\",\"#FF2C00\",\"#FF0600\",\"#FF0000\",\"#FF0000\",\"#FF0000\",\"#FF0000\",\"#FF0000\",\"#FF0000\",\"#FF0000\",\"#FF0000\",\"#FF0000\",\"#FF0000\",\"#FF0000\",\"#FF0000\",\"#FF0000\",\"#FF0000\",\"#FF0000\",\"#FF0000\",\"#FF0000\",\"#FF0000\",\"#FF0000\",\"#FF0000\",\"#FA0000\",\"#F40000\",\"#ED0000\",\"#E70000\",\"#E00000\",\"#D90000\",\"#D20000\",\"#CB0000\",\"#C40000\",\"#BD0000\",\"#B60000\",\"#AF0000\",\"#A80000\",\"#A10000\",\"#9A0000\",\"#930000\",\"#8D0000\",\"#860000\",\"#800000\",\"#790000\",\"#730000\",\"#6D0000\",\"#670000\",\"#610000\",\"#5C0000\",\"#570000\",\"#520000\",\"#4E0000\",\"#4A0000\",\"#470000\",\"#430000\",\"#410000\",\"#3E0000\",\"#3B0000\",\"#390000\",\"#370000\",\"#340000\",\"#320000\",\"#300000\",\"#2D0000\",\"#2B0000\",\"#280000\",\"#250000\",\"#220000\",\"#1F0000\",\"#1C0000\",\"#180000\",\"#130000\",\"#0E0000\",\"#080000\",\"#020000\",\"#000000\",\"#000000\",\"#000000\",\"#000000\",\"#000000\",\"#000000\",\"#000000\",\"#000000\",\"#000000\",\"#000000\",\"#000000\",\"#000000\",\"#000000\",\"#000000\",\"#000000\",\"#000000\",\"#000000\",\"#000000\",\"#000000\",\"#000000\",\"#000000\",\"#000000\",\"#000000\",\"#000000\",\"#000000\",\"#000000\",\"#000000\",\"#000000\",\"#000000\",\"#000000\",\"#000000\",\"#000000\",\"#000000\",\"#000000\",\"#000000\",\"#000000\",\"#000000\",\"#000000\",\"#000000\",\"#000000\",\"#000000\",\"#000000\",\"#000000\",\"#000000\",\"#000000\",\"#000000\",\"#000000\",\"#FF97FF\",\"#4DDCFF\",\"#334B00\",\"#84897D\",\"#00140C\",\"#8F4D78\",\"#580000\",\"#00FCFF\",\"#001700\",\"#FFC4B6\",\"#00006D\",\"#0D3927\",\"#905600\",\"#5072C7\",\"#008E00\",\"#4C3F39\",\"#A0E5A2\",\"#0C0000\",\"#FF009E\",\"#00BBFF\",\"#85005F\",\"#440000\",\"#CFD3EE\",\"#001D32\",\"#00391E\",\"#007261\",\"#EDD291\",\"#7C9100\",\"#362B55\",\"#B55B4D\",\"#0081FF\",\"#8ACBD6\",\"#005400\",\"#001B60\",\"#000041\",\"#000000\",\"#312100\",\"#535525\",\"#D59CBF\",\"#345764\",\"#00A5AD\",\"#BF26DF\",\"#7B1E30\",\"#FF6E59\",\"#782700\",\"#E70038\",\"#000B00\",\"#180B00\",\"#350300\",\"#00D06E\",\"#66626D\",\"#A07BFF\",\"#CA8E44\",\"#D1D6C9\",\"#7E6000\",\"#004146\",\"#0094B8\",\"#00F0FF\",\"#4C2F00\",\"#390000\",\"#2EC1AA\",\"#470000\",\"#003B75\",\"#B19486\",\"#3D1523\",\"#00006F\",\"#003000\",\"#FFB268\",\"#0095FF\",\"#5E9461\",\"#0D170D\",\"#8F80B0\",\"#68C300\",\"#FF9FD7\",\"#360020\",\"#BD2D00\",\"#73604D\",\"#002400\",\"#584595\",\"#BB9600\",\"#6E0000\",\"#000003\",\"#28333C\",\"#A3BCFF\",\"#002079\",\"#D3DD49\",\"#4A0000\",\"#9C9E5C\",\"#9899A6\",\"#ED7581\",\"#6A2B55\",\"#193A00\",\"#0E1326\",\"#007691\",\"#FFC03E\",\"#001600\",\"#00694E\",\"#000000\",\"#003AB1\",\"#D05EAA\",\"#3F7003\",\"#3D584B\",\"#009470\",\"#B00055\",\"#1D120A\",\"#00166A\",\"#F77323\",\"#E3B7FF\",\"#B7001C\",\"#6D0019\",\"#8F6D6E\",\"#00C5E7\",\"#008EFF\",\"#887337\",\"#00F558\",\"#FF538E\",\"#557C7C\",\"#8D00A8\",\"#5A44F0\",\"#FF302C\",\"#42006A\",\"#E3D0CD\",\"#004FB6\",\"#A11C19\",\"#72473F\",\"#6E3100\",\"#33331E\",\"#0096D5\",\"#002D31\",\"#320000\",\"#340000\",\"#524000\",\"#00FECE\",\"#000000\"],\n",
        "  [\"#040014\",\"#040016\",\"#050018\",\"#06001B\",\"#07001E\",\"#090022\",\"#0A0025\",\"#0C002A\",\"#0E002E\",\"#100032\",\"#130037\",\"#16003E\",\"#190044\",\"#1C004A\",\"#1E0050\",\"#210055\",\"#24005B\",\"#270063\",\"#2B006C\",\"#300077\",\"#350082\",\"#3A008D\",\"#3F0098\",\"#4500A5\",\"#4B00B2\",\"#5100C0\",\"#5800CE\",\"#5E00DE\",\"#6500ED\",\"#6C00FD\",\"#7200FF\",\"#7600FF\",\"#7A00FF\",\"#7E00FF\",\"#8000FF\",\"#8200FF\",\"#8300FF\",\"#8400FF\",\"#8400FF\",\"#8300FF\",\"#8200FF\",\"#8000FF\",\"#7E00FF\",\"#7B00FF\",\"#7700FF\",\"#7300FF\",\"#6F00FF\",\"#6900FF\",\"#6300FF\",\"#5C00FF\",\"#5400FF\",\"#4A00FF\",\"#3E00FF\",\"#2C00FF\",\"#0900FF\",\"#0000FF\",\"#0000FF\",\"#0000FF\",\"#0000FF\",\"#001BFF\",\"#0034FF\",\"#0045FF\",\"#0052FF\",\"#005DFF\",\"#0066FF\",\"#006FFA\",\"#0077F2\",\"#007EE9\",\"#0085E0\",\"#008CD7\",\"#0092CE\",\"#0098C6\",\"#009EBE\",\"#00A4B6\",\"#00A9AE\",\"#00AFA6\",\"#00B59F\",\"#00BB97\",\"#00C190\",\"#00C789\",\"#00CD82\",\"#00D47B\",\"#00DA73\",\"#00E16C\",\"#00E863\",\"#00EE5A\",\"#00F450\",\"#00FA44\",\"#00FF35\",\"#00FF21\",\"#00FF00\",\"#00FF00\",\"#00FF00\",\"#00FF00\",\"#00FF00\",\"#00FF00\",\"#00FF00\",\"#00FF00\",\"#00FF00\",\"#00FF00\",\"#00FF00\",\"#00FF00\",\"#00FF00\",\"#00FF00\",\"#00FF00\",\"#00FF00\",\"#00FF00\",\"#00FF00\",\"#00FF00\",\"#00FF00\",\"#00FF00\",\"#00FF00\",\"#00FF00\",\"#00FF00\",\"#00FF00\",\"#00FF00\",\"#49FF00\",\"#6BFF00\",\"#83FF00\",\"#97FF00\",\"#A9FF00\",\"#B9FF00\",\"#C7FF00\",\"#D5FF00\",\"#E1FF00\",\"#EDFF00\",\"#F8FF00\",\"#FFFF00\",\"#FFFE00\",\"#FFF900\",\"#FFF400\",\"#FFEE00\",\"#FFE800\",\"#FFE200\",\"#FFDB00\",\"#FFD500\",\"#FFCE00\",\"#FFC600\",\"#FFBF00\",\"#FFB700\",\"#FFAE00\",\"#FFA600\",\"#FF9D00\",\"#FF9300\",\"#FF8A00\",\"#FF8000\",\"#FF7500\",\"#FF6A00\",\"#FF5D00\",\"#FF4F00\",\"#FF3F00\",\"#FF2B00\",\"#FF0000\",\"#FF0000\",\"#FF0000\",\"#FF0000\",\"#FF0000\",\"#FF0000\",\"#FF0000\",\"#FF0000\",\"#FF0000\",\"#FF0000\",\"#FF0000\",\"#FF0000\",\"#FF0000\",\"#FF0000\",\"#FF0000\",\"#FF0000\",\"#FF0000\",\"#FF0000\",\"#FF0000\",\"#FF0000\",\"#FF0000\",\"#FF0000\",\"#FF0000\",\"#FF0000\",\"#FF0000\",\"#F80000\",\"#F00000\",\"#E90000\",\"#E10000\",\"#DA0000\",\"#D30000\",\"#CB0000\",\"#C40000\",\"#BD0000\",\"#B60000\",\"#AF0000\",\"#A80000\",\"#A10000\",\"#9A0000\",\"#940000\",\"#8D0000\",\"#870000\",\"#810000\",\"#7B0000\",\"#760000\",\"#710000\",\"#6C0000\",\"#680000\",\"#630000\",\"#5F0000\",\"#5A0000\",\"#550000\",\"#510000\",\"#4D0000\",\"#480000\",\"#450000\",\"#410000\",\"#3D0000\",\"#3A0000\",\"#370000\",\"#340000\",\"#320000\",\"#2F0000\",\"#2D0000\",\"#2A0000\",\"#280000\",\"#260000\",\"#230000\",\"#210000\",\"#1F0000\",\"#1E0000\",\"#1C0000\",\"#1A0000\",\"#180000\",\"#170000\",\"#150000\",\"#140000\",\"#120000\",\"#110000\",\"#0F0000\",\"#0E0000\",\"#0D0000\",\"#0C0000\",\"#0B0000\",\"#0A0000\",\"#090000\",\"#080000\",\"#070000\",\"#060000\",\"#050000\",\"#050000\",\"#040000\",\"#040000\",\"#040000\",\"#030000\",\"#030000\",\"#030000\",\"#020000\",\"#020000\",\"#020000\",\"#020000\",\"#020000\",\"#010000\",\"#010000\",\"#010000\",\"#010000\",\"#010000\",\"#010000\",\"#010000\",\"#010000\",\"#010000\",\"#010000\",\"#000000\",\"#000000\",\"#000000\",\"#FFC3FF\",\"#8BFFFF\",\"#517000\",\"#ACB1A4\",\"#002B2C\",\"#B8739F\",\"#7D2900\",\"#00FFFF\",\"#002C00\",\"#FFEEE0\",\"#001D95\",\"#315C48\",\"#BC7B24\",\"#7C98F2\",\"#00B829\",\"#70635C\",\"#CAFFCC\",\"#270000\",\"#FF4EC7\",\"#00E6FF\",\"#B10085\",\"#500000\",\"#FAFEFF\",\"#003C55\",\"#005A3F\",\"#269987\",\"#FFFDB9\",\"#A7B900\",\"#5A4D7A\",\"#E18271\",\"#00A7FF\",\"#B4F5FF\",\"#007B00\",\"#003287\",\"#000164\",\"#001300\",\"#524205\",\"#797A48\",\"#FFC5E9\",\"#597C8A\",\"#00D0D6\",\"#EC5AFF\",\"#A64651\",\"#FF9C7F\",\"#A44B16\",\"#FF005A\",\"#142A00\",\"#292B00\",\"#572506\",\"#00FD95\",\"#8C8793\",\"#CEA3FF\",\"#F7B66A\",\"#FCFFF4\",\"#A88600\",\"#00666A\",\"#43BCE2\",\"#00FFFF\",\"#6D5100\",\"#440000\",\"#64ECD3\",\"#610007\",\"#005D9C\",\"#DBBCAE\",\"#623644\",\"#211C97\",\"#005400\",\"#FFDC90\",\"#2DBCFF\",\"#85BC87\",\"#2D362D\",\"#B8A7DA\",\"#95ED2F\",\"#FFCBFF\",\"#5A0041\",\"#EE5800\",\"#9A8672\",\"#004119\",\"#8069BE\",\"#EABE00\",\"#980000\",\"#001826\",\"#4A565F\",\"#CFE6FF\",\"#003DA1\",\"#FFFF73\",\"#5B0000\",\"#C6C682\",\"#C0C2CF\",\"#FF9EA8\",\"#914F7A\",\"#3C5D16\",\"#2E3248\",\"#009DBA\",\"#FFEA69\",\"#002C12\",\"#009273\",\"#1D0000\",\"#005BDB\",\"#FC87D4\",\"#679731\",\"#617D6F\",\"#00C096\",\"#DE287A\",\"#3D312B\",\"#003291\",\"#FF9C4C\",\"#FFE1FF\",\"#EA003A\",\"#9C0037\",\"#B79395\",\"#00F0FF\",\"#00B6FF\",\"#B19A5C\",\"#5AFF82\",\"#FF88B5\",\"#7BA3A3\",\"#B83FD2\",\"#8B6AFF\",\"#FF6450\",\"#6E0092\",\"#FFFBF7\",\"#3373E1\",\"#CF493A\",\"#9A6C63\",\"#995500\",\"#56553E\",\"#00C0FF\",\"#004754\",\"#471700\",\"#422000\",\"#7A6300\",\"#00FFF8\",\"#000816\"]];\n",
        "\n",
        "var draw = function(parent_id) {\n",
        "    draw_with_data(data, parent_id);\n",
        "};\n",
        "\n",
        "if ('undefined' !== typeof module) {\n",
        "    module.exports = draw;\n",
        "} else if ('undefined' !== typeof window) {\n",
        "    window.draw = draw\n",
        "}\n",
        "\n",
        "return module;\n",
        "})({}).exports(\"#gadflyplot-fNWBIGy5M2VykNedf9Xq\");\n",
        "//@ sourceURL=gadflyplot-fNWBIGy5M2VykNedf9Xq.js\n",
        "</script>\n"
       ],
       "metadata": {},
       "output_type": "pyout",
       "png": "[encoded data removed]",
       "prompt_number": 6,
       "svg": [
        "<?xml version=\"1.0\" encoding=\"UTF-8\"?>\n",
        "<svg xmlns=\"http://www.w3.org/2000/svg\" xmlns:xlink=\"http://www.w3.org/1999/xlink\" version=\"1.1\" width=\"120mm\" height=\"80mm\" viewBox=\"0 0 120 80\" style=\"stroke:black;fill:black\" stroke-width=\"0.5\">\n",
        "<g font-family=\"Helvetic,Arial,sans\" stroke-width=\"0.3\" font-size=\"3.88\" stroke=\"none\" fill=\"#000000\">\n",
        "  <g class=\"plotroot xscalable yscalable\">\n",
        "    <g font-family=\"'PT Sans','Helvetica Neue','Helvetica',sans-serif\" font-size=\"3.18\" stroke=\"none\" class=\"guide ylabels\" fill=\"#4C404B\">\n",
        "      <text x=\"18.09\" y=\"6.58\" text-anchor=\"end\" style=\"dominant-baseline:central\">1.0</text>\n",
        "      <text x=\"18.09\" y=\"38.16\" text-anchor=\"end\" style=\"dominant-baseline:central\">0.4</text>\n",
        "      <text x=\"18.09\" y=\"17.1\" text-anchor=\"end\" style=\"dominant-baseline:central\">0.8</text>\n",
        "      <text x=\"18.09\" y=\"48.68\" text-anchor=\"end\" style=\"dominant-baseline:central\">0.2</text>\n",
        "      <text x=\"18.09\" y=\"27.63\" text-anchor=\"end\" style=\"dominant-baseline:central\">0.6</text>\n",
        "      <text x=\"18.09\" y=\"59.21\" text-anchor=\"end\" style=\"dominant-baseline:central\">0.0</text>\n",
        "    </g>\n",
        "    <g font-family=\"'PT Sans','Helvetica Neue','Helvetica',sans-serif\" font-size=\"3.88\" stroke=\"none\" fill=\"#362A35\">\n",
        "      <text x=\"8.26\" y=\"32.89\" text-anchor=\"middle\" style=\"dominant-baseline:central\" transform=\"rotate(-90, 8.26, 32.89)\">y</text>\n",
        "    </g>\n",
        "    <g font-family=\"'PT Sans','Helvetica Neue','Helvetica',sans-serif\" font-size=\"3.18\" stroke=\"none\" class=\"guide xlabels\" fill=\"#4C404B\">\n",
        "      <text x=\"67.04\" y=\"65.48\" text-anchor=\"middle\">0.4</text>\n",
        "      <text x=\"112.29\" y=\"65.48\" text-anchor=\"middle\">0.8</text>\n",
        "      <text x=\"44.42\" y=\"65.48\" text-anchor=\"middle\">0.2</text>\n",
        "      <text x=\"89.67\" y=\"65.48\" text-anchor=\"middle\">0.6</text>\n",
        "      <text x=\"21.8\" y=\"65.48\" text-anchor=\"middle\">0.0</text>\n",
        "    </g>\n",
        "    <g font-family=\"'PT Sans','Helvetica Neue','Helvetica',sans-serif\" font-size=\"3.88\" stroke=\"none\" fill=\"#362A35\">\n",
        "      <text x=\"67.04\" y=\"73\" text-anchor=\"middle\">x</text>\n",
        "    </g>\n",
        "    <g>\n",
        "      <g clip-path=\"url(#clippath1)\">\n",
        "        <g stroke=\"#F1F1F5\" class=\"guide background\" fill=\"#FAFAFA\" opacity=\"1\">\n",
        "          <path d=\"M19.09,5 L 115 5 115 60.79 19.09 60.79 z\" />\n",
        "        </g>\n",
        "        <g stroke-width=\"0.2\" stroke=\"#F0F0F3\" class=\"guide ygridlines xfixed\">\n",
        "          <path d=\"M19.09,-14.47 L 115 -14.47\" />\n",
        "          <path d=\"M19.09,80.26 L 115 80.26\" />\n",
        "          <path d=\"M19.09,-25 L 115 -25\" />\n",
        "          <path d=\"M19.09,101.31 L 115 101.31\" />\n",
        "          <path d=\"M19.09,90.79 L 115 90.79\" />\n",
        "          <path d=\"M19.09,48.68 L 115 48.68\" />\n",
        "          <path d=\"M19.09,59.21 L 115 59.21\" />\n",
        "          <path d=\"M19.09,-46.05 L 115 -46.05\" />\n",
        "          <path d=\"M19.09,122.36 L 115 122.36\" />\n",
        "          <path d=\"M19.09,69.73 L 115 69.73\" />\n",
        "          <path d=\"M19.09,-56.58 L 115 -56.58\" />\n",
        "          <path d=\"M19.09,27.63 L 115 27.63\" />\n",
        "          <path d=\"M19.09,-3.95 L 115 -3.95\" />\n",
        "          <path d=\"M19.09,17.1 L 115 17.1\" />\n",
        "          <path d=\"M19.09,111.84 L 115 111.84\" />\n",
        "          <path d=\"M19.09,38.16 L 115 38.16\" />\n",
        "          <path d=\"M19.09,-35.52 L 115 -35.52\" />\n",
        "          <path d=\"M19.09,6.58 L 115 6.58\" />\n",
        "        </g>\n",
        "        <g stroke-width=\"0.2\" stroke=\"#F0F0F3\" class=\"guide xgridlines yfixed\">\n",
        "          <path d=\"M180.15,5 L 180.15 60.79\" />\n",
        "          <path d=\"M-23.44,5 L -23.44 60.79\" />\n",
        "          <path d=\"M202.77,5 L 202.77 60.79\" />\n",
        "          <path d=\"M-68.68,5 L -68.68 60.79\" />\n",
        "          <path d=\"M-46.06,5 L -46.06 60.79\" />\n",
        "          <path d=\"M44.42,5 L 44.42 60.79\" />\n",
        "          <path d=\"M21.8,5 L 21.8 60.79\" />\n",
        "          <path d=\"M-0.82,5 L -0.82 60.79\" />\n",
        "          <path d=\"M89.67,5 L 89.67 60.79\" />\n",
        "          <path d=\"M157.53,5 L 157.53 60.79\" />\n",
        "          <path d=\"M112.29,5 L 112.29 60.79\" />\n",
        "          <path d=\"M-91.3,5 L -91.3 60.79\" />\n",
        "          <path d=\"M67.04,5 L 67.04 60.79\" />\n",
        "          <path d=\"M225.39,5 L 225.39 60.79\" />\n",
        "          <path d=\"M134.91,5 L 134.91 60.79\" />\n",
        "        </g>\n",
        "      </g>\n",
        "      <g clip-path=\"url(#clippath2)\">\n",
        "        <g class=\"plotpanel\">\n",
        "          <g stroke-width=\"0.3\">\n",
        "            <g stroke-width=\"0.3\" stroke=\"#000000\" class=\"geometry color_1\" fill=\"#040014\">\n",
        "              <circle cx=\"41.5\" cy=\"58.95\" r=\"0.6\" />\n",
        "            </g>\n",
        "            <g stroke-width=\"0.3\" stroke=\"#000000\" class=\"geometry color_2\" fill=\"#040016\">\n",
        "              <circle cx=\"41.49\" cy=\"58.95\" r=\"0.6\" />\n",
        "            </g>\n",
        "            <g stroke-width=\"0.3\" stroke=\"#000000\" class=\"geometry color_3\" fill=\"#050018\">\n",
        "              <circle cx=\"41.49\" cy=\"58.95\" r=\"0.6\" />\n",
        "            </g>\n",
        "            <g stroke-width=\"0.3\" stroke=\"#000000\" class=\"geometry color_4\" fill=\"#06001B\">\n",
        "              <circle cx=\"41.49\" cy=\"58.95\" r=\"0.6\" />\n",
        "            </g>\n",
        "            <g stroke-width=\"0.3\" stroke=\"#000000\" class=\"geometry color_5\" fill=\"#07001E\">\n",
        "              <circle cx=\"41.49\" cy=\"58.95\" r=\"0.6\" />\n",
        "            </g>\n",
        "            <g stroke-width=\"0.3\" stroke=\"#000000\" class=\"geometry color_6\" fill=\"#090022\">\n",
        "              <circle cx=\"41.48\" cy=\"58.95\" r=\"0.6\" />\n",
        "            </g>\n",
        "            <g stroke-width=\"0.3\" stroke=\"#000002\" class=\"geometry color_7\" fill=\"#0A0025\">\n",
        "              <circle cx=\"41.48\" cy=\"58.95\" r=\"0.6\" />\n",
        "            </g>\n",
        "            <g stroke-width=\"0.3\" stroke=\"#00000A\" class=\"geometry color_8\" fill=\"#0C002A\">\n",
        "              <circle cx=\"41.48\" cy=\"58.95\" r=\"0.6\" />\n",
        "            </g>\n",
        "            <g stroke-width=\"0.3\" stroke=\"#000011\" class=\"geometry color_9\" fill=\"#0E002E\">\n",
        "              <circle cx=\"41.47\" cy=\"58.95\" r=\"0.6\" />\n",
        "            </g>\n",
        "            <g stroke-width=\"0.3\" stroke=\"#000016\" class=\"geometry color_10\" fill=\"#100032\">\n",
        "              <circle cx=\"41.47\" cy=\"58.95\" r=\"0.6\" />\n",
        "            </g>\n",
        "            <g stroke-width=\"0.3\" stroke=\"#00001B\" class=\"geometry color_11\" fill=\"#130037\">\n",
        "              <circle cx=\"41.46\" cy=\"58.95\" r=\"0.6\" />\n",
        "            </g>\n",
        "            <g stroke-width=\"0.3\" stroke=\"#000020\" class=\"geometry color_12\" fill=\"#16003E\">\n",
        "              <circle cx=\"41.46\" cy=\"58.95\" r=\"0.6\" />\n",
        "            </g>\n",
        "            <g stroke-width=\"0.3\" stroke=\"#080025\" class=\"geometry color_13\" fill=\"#190044\">\n",
        "              <circle cx=\"41.45\" cy=\"58.95\" r=\"0.6\" />\n",
        "            </g>\n",
        "            <g stroke-width=\"0.3\" stroke=\"#11002A\" class=\"geometry color_14\" fill=\"#1C004A\">\n",
        "              <circle cx=\"41.44\" cy=\"58.95\" r=\"0.6\" />\n",
        "            </g>\n",
        "            <g stroke-width=\"0.3\" stroke=\"#16002F\" class=\"geometry color_15\" fill=\"#1E0050\">\n",
        "              <circle cx=\"41.44\" cy=\"58.95\" r=\"0.6\" />\n",
        "            </g>\n",
        "            <g stroke-width=\"0.3\" stroke=\"#190034\" class=\"geometry color_16\" fill=\"#210055\">\n",
        "              <circle cx=\"41.43\" cy=\"58.95\" r=\"0.6\" />\n",
        "            </g>\n",
        "            <g stroke-width=\"0.3\" stroke=\"#1C0039\" class=\"geometry color_17\" fill=\"#24005B\">\n",
        "              <circle cx=\"41.43\" cy=\"58.95\" r=\"0.6\" />\n",
        "            </g>\n",
        "            <g stroke-width=\"0.3\" stroke=\"#1E0040\" class=\"geometry color_18\" fill=\"#270063\">\n",
        "              <circle cx=\"41.42\" cy=\"58.95\" r=\"0.6\" />\n",
        "            </g>\n",
        "            <g stroke-width=\"0.3\" stroke=\"#1F0048\" class=\"geometry color_19\" fill=\"#2B006C\">\n",
        "              <circle cx=\"41.42\" cy=\"58.95\" r=\"0.6\" />\n",
        "            </g>\n",
        "            <g stroke-width=\"0.3\" stroke=\"#1F0052\" class=\"geometry color_20\" fill=\"#300077\">\n",
        "              <circle cx=\"41.41\" cy=\"58.95\" r=\"0.6\" />\n",
        "            </g>\n",
        "            <g stroke-width=\"0.3\" stroke=\"#1D005C\" class=\"geometry color_21\" fill=\"#350082\">\n",
        "              <circle cx=\"41.41\" cy=\"58.96\" r=\"0.6\" />\n",
        "            </g>\n",
        "            <g stroke-width=\"0.3\" stroke=\"#1B0066\" class=\"geometry color_22\" fill=\"#3A008D\">\n",
        "              <circle cx=\"41.4\" cy=\"58.96\" r=\"0.6\" />\n",
        "            </g>\n",
        "            <g stroke-width=\"0.3\" stroke=\"#190071\" class=\"geometry color_23\" fill=\"#3F0098\">\n",
        "              <circle cx=\"41.4\" cy=\"58.96\" r=\"0.6\" />\n",
        "            </g>\n",
        "            <g stroke-width=\"0.3\" stroke=\"#18007C\" class=\"geometry color_24\" fill=\"#4500A5\">\n",
        "              <circle cx=\"41.39\" cy=\"58.96\" r=\"0.6\" />\n",
        "            </g>\n",
        "            <g stroke-width=\"0.3\" stroke=\"#170089\" class=\"geometry color_25\" fill=\"#4B00B2\">\n",
        "              <circle cx=\"41.38\" cy=\"58.96\" r=\"0.6\" />\n",
        "            </g>\n",
        "            <g stroke-width=\"0.3\" stroke=\"#170096\" class=\"geometry color_26\" fill=\"#5100C0\">\n",
        "              <circle cx=\"41.37\" cy=\"58.96\" r=\"0.6\" />\n",
        "            </g>\n",
        "            <g stroke-width=\"0.3\" stroke=\"#1800A4\" class=\"geometry color_27\" fill=\"#5800CE\">\n",
        "              <circle cx=\"41.36\" cy=\"58.96\" r=\"0.6\" />\n",
        "            </g>\n",
        "            <g stroke-width=\"0.3\" stroke=\"#1900B2\" class=\"geometry color_28\" fill=\"#5E00DE\">\n",
        "              <circle cx=\"41.35\" cy=\"58.96\" r=\"0.6\" />\n",
        "            </g>\n",
        "            <g stroke-width=\"0.3\" stroke=\"#1B00C1\" class=\"geometry color_29\" fill=\"#6500ED\">\n",
        "              <circle cx=\"41.34\" cy=\"58.96\" r=\"0.6\" />\n",
        "            </g>\n",
        "            <g stroke-width=\"0.3\" stroke=\"#1E00D0\" class=\"geometry color_30\" fill=\"#6C00FD\">\n",
        "              <circle cx=\"41.33\" cy=\"58.96\" r=\"0.6\" />\n",
        "            </g>\n",
        "            <g stroke-width=\"0.3\" stroke=\"#2100DE\" class=\"geometry color_31\" fill=\"#7200FF\">\n",
        "              <circle cx=\"41.32\" cy=\"58.96\" r=\"0.6\" />\n",
        "            </g>\n",
        "            <g stroke-width=\"0.3\" stroke=\"#2300EA\" class=\"geometry color_32\" fill=\"#7600FF\">\n",
        "              <circle cx=\"41.31\" cy=\"58.96\" r=\"0.6\" />\n",
        "            </g>\n",
        "            <g stroke-width=\"0.3\" stroke=\"#2400F4\" class=\"geometry color_33\" fill=\"#7A00FF\">\n",
        "              <circle cx=\"41.3\" cy=\"58.96\" r=\"0.6\" />\n",
        "            </g>\n",
        "            <g stroke-width=\"0.3\" stroke=\"#2500FD\" class=\"geometry color_34\" fill=\"#7E00FF\">\n",
        "              <circle cx=\"41.29\" cy=\"58.96\" r=\"0.6\" />\n",
        "            </g>\n",
        "            <g stroke-width=\"0.3\" stroke=\"#2600FF\" class=\"geometry color_35\" fill=\"#8000FF\">\n",
        "              <circle cx=\"41.28\" cy=\"58.95\" r=\"0.6\" />\n",
        "            </g>\n",
        "            <g stroke-width=\"0.3\" stroke=\"#2500FF\" class=\"geometry color_36\" fill=\"#8200FF\">\n",
        "              <circle cx=\"41.27\" cy=\"58.95\" r=\"0.6\" />\n",
        "            </g>\n",
        "            <g stroke-width=\"0.3\" stroke=\"#2300FF\" class=\"geometry color_37\" fill=\"#8300FF\">\n",
        "              <circle cx=\"41.26\" cy=\"58.95\" r=\"0.6\" />\n",
        "            </g>\n",
        "            <g stroke-width=\"0.3\" stroke=\"#2100FF\" class=\"geometry color_38\" fill=\"#8400FF\">\n",
        "              <circle cx=\"41.24\" cy=\"58.95\" r=\"0.6\" />\n",
        "            </g>\n",
        "            <g stroke-width=\"0.3\" stroke=\"#1D00FF\" class=\"geometry color_39\" fill=\"#8400FF\">\n",
        "              <circle cx=\"41.23\" cy=\"58.95\" r=\"0.6\" />\n",
        "            </g>\n",
        "            <g stroke-width=\"0.3\" stroke=\"#1700FF\" class=\"geometry color_40\" fill=\"#8300FF\">\n",
        "              <circle cx=\"41.21\" cy=\"58.94\" r=\"0.6\" />\n",
        "            </g>\n",
        "            <g stroke-width=\"0.3\" stroke=\"#0E00FF\" class=\"geometry color_41\" fill=\"#8200FF\">\n",
        "              <circle cx=\"41.19\" cy=\"58.94\" r=\"0.6\" />\n",
        "            </g>\n",
        "            <g stroke-width=\"0.3\" stroke=\"#0000FF\" class=\"geometry color_42\" fill=\"#8000FF\">\n",
        "              <circle cx=\"41.17\" cy=\"58.93\" r=\"0.6\" />\n",
        "            </g>\n",
        "            <g stroke-width=\"0.3\" stroke=\"#0000FF\" class=\"geometry color_43\" fill=\"#7E00FF\">\n",
        "              <circle cx=\"41.14\" cy=\"58.93\" r=\"0.6\" />\n",
        "            </g>\n",
        "            <g stroke-width=\"0.3\" stroke=\"#0000FF\" class=\"geometry color_44\" fill=\"#7B00FF\">\n",
        "              <circle cx=\"41.12\" cy=\"58.92\" r=\"0.6\" />\n",
        "            </g>\n",
        "            <g stroke-width=\"0.3\" stroke=\"#0000FF\" class=\"geometry color_45\" fill=\"#7700FF\">\n",
        "              <circle cx=\"41.09\" cy=\"58.91\" r=\"0.6\" />\n",
        "            </g>\n",
        "            <g stroke-width=\"0.3\" stroke=\"#0000FF\" class=\"geometry color_46\" fill=\"#7300FF\">\n",
        "              <circle cx=\"41.07\" cy=\"58.9\" r=\"0.6\" />\n",
        "            </g>\n",
        "            <g stroke-width=\"0.3\" stroke=\"#0000FF\" class=\"geometry color_47\" fill=\"#6F00FF\">\n",
        "              <circle cx=\"41.04\" cy=\"58.89\" r=\"0.6\" />\n",
        "            </g>\n",
        "            <g stroke-width=\"0.3\" stroke=\"#0000FF\" class=\"geometry color_48\" fill=\"#6900FF\">\n",
        "              <circle cx=\"41.01\" cy=\"58.88\" r=\"0.6\" />\n",
        "            </g>\n",
        "            <g stroke-width=\"0.3\" stroke=\"#0000FF\" class=\"geometry color_49\" fill=\"#6300FF\">\n",
        "              <circle cx=\"40.98\" cy=\"58.87\" r=\"0.6\" />\n",
        "            </g>\n",
        "            <g stroke-width=\"0.3\" stroke=\"#0000FF\" class=\"geometry color_50\" fill=\"#5C00FF\">\n",
        "              <circle cx=\"40.94\" cy=\"58.86\" r=\"0.6\" />\n",
        "            </g>\n",
        "            <g stroke-width=\"0.3\" stroke=\"#0000FF\" class=\"geometry color_51\" fill=\"#5400FF\">\n",
        "              <circle cx=\"40.9\" cy=\"58.84\" r=\"0.6\" />\n",
        "            </g>\n",
        "            <g stroke-width=\"0.3\" stroke=\"#0000FF\" class=\"geometry color_52\" fill=\"#4A00FF\">\n",
        "              <circle cx=\"40.86\" cy=\"58.83\" r=\"0.6\" />\n",
        "            </g>\n",
        "            <g stroke-width=\"0.3\" stroke=\"#0000FF\" class=\"geometry color_53\" fill=\"#3E00FF\">\n",
        "              <circle cx=\"40.82\" cy=\"58.81\" r=\"0.6\" />\n",
        "            </g>\n",
        "            <g stroke-width=\"0.3\" stroke=\"#0000FF\" class=\"geometry color_54\" fill=\"#2C00FF\">\n",
        "              <circle cx=\"40.78\" cy=\"58.8\" r=\"0.6\" />\n",
        "            </g>\n",
        "            <g stroke-width=\"0.3\" stroke=\"#0000FF\" class=\"geometry color_55\" fill=\"#0900FF\">\n",
        "              <circle cx=\"40.73\" cy=\"58.78\" r=\"0.6\" />\n",
        "            </g>\n",
        "            <g stroke-width=\"0.3\" stroke=\"#0000FF\" class=\"geometry color_56\" fill=\"#0000FF\">\n",
        "              <circle cx=\"40.68\" cy=\"58.76\" r=\"0.6\" />\n",
        "            </g>\n",
        "            <g stroke-width=\"0.3\" stroke=\"#0000FF\" class=\"geometry color_57\" fill=\"#0000FF\">\n",
        "              <circle cx=\"40.63\" cy=\"58.74\" r=\"0.6\" />\n",
        "            </g>\n",
        "            <g stroke-width=\"0.3\" stroke=\"#0000FF\" class=\"geometry color_58\" fill=\"#0000FF\">\n",
        "              <circle cx=\"40.58\" cy=\"58.71\" r=\"0.6\" />\n",
        "            </g>\n",
        "            <g stroke-width=\"0.3\" stroke=\"#0000FF\" class=\"geometry color_59\" fill=\"#0000FF\">\n",
        "              <circle cx=\"40.52\" cy=\"58.69\" r=\"0.6\" />\n",
        "            </g>\n",
        "            <g stroke-width=\"0.3\" stroke=\"#0000FD\" class=\"geometry color_60\" fill=\"#001BFF\">\n",
        "              <circle cx=\"40.46\" cy=\"58.66\" r=\"0.6\" />\n",
        "            </g>\n",
        "            <g stroke-width=\"0.3\" stroke=\"#0015F6\" class=\"geometry color_61\" fill=\"#0034FF\">\n",
        "              <circle cx=\"40.4\" cy=\"58.64\" r=\"0.6\" />\n",
        "            </g>\n",
        "            <g stroke-width=\"0.3\" stroke=\"#0028EE\" class=\"geometry color_62\" fill=\"#0045FF\">\n",
        "              <circle cx=\"40.33\" cy=\"58.61\" r=\"0.6\" />\n",
        "            </g>\n",
        "            <g stroke-width=\"0.3\" stroke=\"#0034E7\" class=\"geometry color_63\" fill=\"#0052FF\">\n",
        "              <circle cx=\"40.26\" cy=\"58.58\" r=\"0.6\" />\n",
        "            </g>\n",
        "            <g stroke-width=\"0.3\" stroke=\"#003DDF\" class=\"geometry color_64\" fill=\"#005DFF\">\n",
        "              <circle cx=\"40.19\" cy=\"58.55\" r=\"0.6\" />\n",
        "            </g>\n",
        "            <g stroke-width=\"0.3\" stroke=\"#0046D7\" class=\"geometry color_65\" fill=\"#0066FF\">\n",
        "              <circle cx=\"40.11\" cy=\"58.52\" r=\"0.6\" />\n",
        "            </g>\n",
        "            <g stroke-width=\"0.3\" stroke=\"#004DCF\" class=\"geometry color_66\" fill=\"#006FFA\">\n",
        "              <circle cx=\"40.03\" cy=\"58.48\" r=\"0.6\" />\n",
        "            </g>\n",
        "            <g stroke-width=\"0.3\" stroke=\"#0054C6\" class=\"geometry color_67\" fill=\"#0077F2\">\n",
        "              <circle cx=\"39.94\" cy=\"58.45\" r=\"0.6\" />\n",
        "            </g>\n",
        "            <g stroke-width=\"0.3\" stroke=\"#0059BE\" class=\"geometry color_68\" fill=\"#007EE9\">\n",
        "              <circle cx=\"39.84\" cy=\"58.41\" r=\"0.6\" />\n",
        "            </g>\n",
        "            <g stroke-width=\"0.3\" stroke=\"#005FB6\" class=\"geometry color_69\" fill=\"#0085E0\">\n",
        "              <circle cx=\"39.74\" cy=\"58.37\" r=\"0.6\" />\n",
        "            </g>\n",
        "            <g stroke-width=\"0.3\" stroke=\"#0064AD\" class=\"geometry color_70\" fill=\"#008CD7\">\n",
        "              <circle cx=\"39.63\" cy=\"58.32\" r=\"0.6\" />\n",
        "            </g>\n",
        "            <g stroke-width=\"0.3\" stroke=\"#0069A5\" class=\"geometry color_71\" fill=\"#0092CE\">\n",
        "              <circle cx=\"39.52\" cy=\"58.28\" r=\"0.6\" />\n",
        "            </g>\n",
        "            <g stroke-width=\"0.3\" stroke=\"#006E9D\" class=\"geometry color_72\" fill=\"#0098C6\">\n",
        "              <circle cx=\"39.4\" cy=\"58.23\" r=\"0.6\" />\n",
        "            </g>\n",
        "            <g stroke-width=\"0.3\" stroke=\"#007395\" class=\"geometry color_73\" fill=\"#009EBE\">\n",
        "              <circle cx=\"39.28\" cy=\"58.18\" r=\"0.6\" />\n",
        "            </g>\n",
        "            <g stroke-width=\"0.3\" stroke=\"#00778E\" class=\"geometry color_74\" fill=\"#00A4B6\">\n",
        "              <circle cx=\"39.15\" cy=\"58.13\" r=\"0.6\" />\n",
        "            </g>\n",
        "            <g stroke-width=\"0.3\" stroke=\"#007C86\" class=\"geometry color_75\" fill=\"#00A9AE\">\n",
        "              <circle cx=\"39.02\" cy=\"58.07\" r=\"0.6\" />\n",
        "            </g>\n",
        "            <g stroke-width=\"0.3\" stroke=\"#00817F\" class=\"geometry color_76\" fill=\"#00AFA6\">\n",
        "              <circle cx=\"38.88\" cy=\"58.01\" r=\"0.6\" />\n",
        "            </g>\n",
        "            <g stroke-width=\"0.3\" stroke=\"#008778\" class=\"geometry color_77\" fill=\"#00B59F\">\n",
        "              <circle cx=\"38.73\" cy=\"57.95\" r=\"0.6\" />\n",
        "            </g>\n",
        "            <g stroke-width=\"0.3\" stroke=\"#008C71\" class=\"geometry color_78\" fill=\"#00BB97\">\n",
        "              <circle cx=\"38.58\" cy=\"57.88\" r=\"0.6\" />\n",
        "            </g>\n",
        "            <g stroke-width=\"0.3\" stroke=\"#00926A\" class=\"geometry color_79\" fill=\"#00C190\">\n",
        "              <circle cx=\"38.42\" cy=\"57.81\" r=\"0.6\" />\n",
        "            </g>\n",
        "            <g stroke-width=\"0.3\" stroke=\"#009863\" class=\"geometry color_80\" fill=\"#00C789\">\n",
        "              <circle cx=\"38.26\" cy=\"57.73\" r=\"0.6\" />\n",
        "            </g>\n",
        "            <g stroke-width=\"0.3\" stroke=\"#009E5D\" class=\"geometry color_81\" fill=\"#00CD82\">\n",
        "              <circle cx=\"38.09\" cy=\"57.64\" r=\"0.6\" />\n",
        "            </g>\n",
        "            <g stroke-width=\"0.3\" stroke=\"#00A456\" class=\"geometry color_82\" fill=\"#00D47B\">\n",
        "              <circle cx=\"37.91\" cy=\"57.56\" r=\"0.6\" />\n",
        "            </g>\n",
        "            <g stroke-width=\"0.3\" stroke=\"#00AA4F\" class=\"geometry color_83\" fill=\"#00DA73\">\n",
        "              <circle cx=\"37.73\" cy=\"57.46\" r=\"0.6\" />\n",
        "            </g>\n",
        "            <g stroke-width=\"0.3\" stroke=\"#00B047\" class=\"geometry color_84\" fill=\"#00E16C\">\n",
        "              <circle cx=\"37.54\" cy=\"57.36\" r=\"0.6\" />\n",
        "            </g>\n",
        "            <g stroke-width=\"0.3\" stroke=\"#00B63E\" class=\"geometry color_85\" fill=\"#00E863\">\n",
        "              <circle cx=\"37.34\" cy=\"57.24\" r=\"0.6\" />\n",
        "            </g>\n",
        "            <g stroke-width=\"0.3\" stroke=\"#00BC34\" class=\"geometry color_86\" fill=\"#00EE5A\">\n",
        "              <circle cx=\"37.13\" cy=\"57.11\" r=\"0.6\" />\n",
        "            </g>\n",
        "            <g stroke-width=\"0.3\" stroke=\"#00C227\" class=\"geometry color_87\" fill=\"#00F450\">\n",
        "              <circle cx=\"36.9\" cy=\"56.96\" r=\"0.6\" />\n",
        "            </g>\n",
        "            <g stroke-width=\"0.3\" stroke=\"#00C813\" class=\"geometry color_88\" fill=\"#00FA44\">\n",
        "              <circle cx=\"36.66\" cy=\"56.79\" r=\"0.6\" />\n",
        "            </g>\n",
        "            <g stroke-width=\"0.3\" stroke=\"#00CD00\" class=\"geometry color_89\" fill=\"#00FF35\">\n",
        "              <circle cx=\"36.4\" cy=\"56.61\" r=\"0.6\" />\n",
        "            </g>\n",
        "            <g stroke-width=\"0.3\" stroke=\"#00D300\" class=\"geometry color_90\" fill=\"#00FF21\">\n",
        "              <circle cx=\"36.13\" cy=\"56.4\" r=\"0.6\" />\n",
        "            </g>\n",
        "            <g stroke-width=\"0.3\" stroke=\"#00D900\" class=\"geometry color_91\" fill=\"#00FF00\">\n",
        "              <circle cx=\"35.84\" cy=\"56.17\" r=\"0.6\" />\n",
        "            </g>\n",
        "            <g stroke-width=\"0.3\" stroke=\"#00DE00\" class=\"geometry color_92\" fill=\"#00FF00\">\n",
        "              <circle cx=\"35.54\" cy=\"55.91\" r=\"0.6\" />\n",
        "            </g>\n",
        "            <g stroke-width=\"0.3\" stroke=\"#00E300\" class=\"geometry color_93\" fill=\"#00FF00\">\n",
        "              <circle cx=\"35.23\" cy=\"55.64\" r=\"0.6\" />\n",
        "            </g>\n",
        "            <g stroke-width=\"0.3\" stroke=\"#00E800\" class=\"geometry color_94\" fill=\"#00FF00\">\n",
        "              <circle cx=\"34.9\" cy=\"55.34\" r=\"0.6\" />\n",
        "            </g>\n",
        "            <g stroke-width=\"0.3\" stroke=\"#00EC00\" class=\"geometry color_95\" fill=\"#00FF00\">\n",
        "              <circle cx=\"34.56\" cy=\"55\" r=\"0.6\" />\n",
        "            </g>\n",
        "            <g stroke-width=\"0.3\" stroke=\"#00EF00\" class=\"geometry color_96\" fill=\"#00FF00\">\n",
        "              <circle cx=\"34.2\" cy=\"54.64\" r=\"0.6\" />\n",
        "            </g>\n",
        "            <g stroke-width=\"0.3\" stroke=\"#00F200\" class=\"geometry color_97\" fill=\"#00FF00\">\n",
        "              <circle cx=\"33.82\" cy=\"54.24\" r=\"0.6\" />\n",
        "            </g>\n",
        "            <g stroke-width=\"0.3\" stroke=\"#00F500\" class=\"geometry color_98\" fill=\"#00FF00\">\n",
        "              <circle cx=\"33.43\" cy=\"53.79\" r=\"0.6\" />\n",
        "            </g>\n",
        "            <g stroke-width=\"0.3\" stroke=\"#00F800\" class=\"geometry color_99\" fill=\"#00FF00\">\n",
        "              <circle cx=\"33.02\" cy=\"53.31\" r=\"0.6\" />\n",
        "            </g>\n",
        "            <g stroke-width=\"0.3\" stroke=\"#00FA00\" class=\"geometry color_100\" fill=\"#00FF00\">\n",
        "              <circle cx=\"32.58\" cy=\"52.79\" r=\"0.6\" />\n",
        "            </g>\n",
        "            <g stroke-width=\"0.3\" stroke=\"#00FC00\" class=\"geometry color_101\" fill=\"#00FF00\">\n",
        "              <circle cx=\"32.13\" cy=\"52.22\" r=\"0.6\" />\n",
        "            </g>\n",
        "            <g stroke-width=\"0.3\" stroke=\"#00FD00\" class=\"geometry color_102\" fill=\"#00FF00\">\n",
        "              <circle cx=\"31.65\" cy=\"51.61\" r=\"0.6\" />\n",
        "            </g>\n",
        "            <g stroke-width=\"0.3\" stroke=\"#00FF00\" class=\"geometry color_103\" fill=\"#00FF00\">\n",
        "              <circle cx=\"31.16\" cy=\"50.95\" r=\"0.6\" />\n",
        "            </g>\n",
        "            <g stroke-width=\"0.3\" stroke=\"#00FF00\" class=\"geometry color_104\" fill=\"#00FF00\">\n",
        "              <circle cx=\"30.64\" cy=\"50.24\" r=\"0.6\" />\n",
        "            </g>\n",
        "            <g stroke-width=\"0.3\" stroke=\"#00FF00\" class=\"geometry color_105\" fill=\"#00FF00\">\n",
        "              <circle cx=\"30.11\" cy=\"49.47\" r=\"0.6\" />\n",
        "            </g>\n",
        "            <g stroke-width=\"0.3\" stroke=\"#00FF00\" class=\"geometry color_106\" fill=\"#00FF00\">\n",
        "              <circle cx=\"29.57\" cy=\"48.64\" r=\"0.6\" />\n",
        "            </g>\n",
        "            <g stroke-width=\"0.3\" stroke=\"#00FF00\" class=\"geometry color_107\" fill=\"#00FF00\">\n",
        "              <circle cx=\"29.04\" cy=\"47.76\" r=\"0.6\" />\n",
        "            </g>\n",
        "            <g stroke-width=\"0.3\" stroke=\"#00FF00\" class=\"geometry color_108\" fill=\"#00FF00\">\n",
        "              <circle cx=\"28.51\" cy=\"46.83\" r=\"0.6\" />\n",
        "            </g>\n",
        "            <g stroke-width=\"0.3\" stroke=\"#00FF00\" class=\"geometry color_109\" fill=\"#00FF00\">\n",
        "              <circle cx=\"27.99\" cy=\"45.84\" r=\"0.6\" />\n",
        "            </g>\n",
        "            <g stroke-width=\"0.3\" stroke=\"#00FF00\" class=\"geometry color_110\" fill=\"#00FF00\">\n",
        "              <circle cx=\"27.46\" cy=\"44.79\" r=\"0.6\" />\n",
        "            </g>\n",
        "            <g stroke-width=\"0.3\" stroke=\"#00FF00\" class=\"geometry color_111\" fill=\"#00FF00\">\n",
        "              <circle cx=\"26.94\" cy=\"43.68\" r=\"0.6\" />\n",
        "            </g>\n",
        "            <g stroke-width=\"0.3\" stroke=\"#00FF00\" class=\"geometry color_112\" fill=\"#00FF00\">\n",
        "              <circle cx=\"26.41\" cy=\"42.53\" r=\"0.6\" />\n",
        "            </g>\n",
        "            <g stroke-width=\"0.3\" stroke=\"#00FF00\" class=\"geometry color_113\" fill=\"#00FF00\">\n",
        "              <circle cx=\"25.9\" cy=\"41.32\" r=\"0.6\" />\n",
        "            </g>\n",
        "            <g stroke-width=\"0.3\" stroke=\"#00FE00\" class=\"geometry color_114\" fill=\"#00FF00\">\n",
        "              <circle cx=\"25.4\" cy=\"40.07\" r=\"0.6\" />\n",
        "            </g>\n",
        "            <g stroke-width=\"0.3\" stroke=\"#00FD00\" class=\"geometry color_115\" fill=\"#00FF00\">\n",
        "              <circle cx=\"24.91\" cy=\"38.79\" r=\"0.6\" />\n",
        "            </g>\n",
        "            <g stroke-width=\"0.3\" stroke=\"#00FB00\" class=\"geometry color_116\" fill=\"#00FF00\">\n",
        "              <circle cx=\"24.46\" cy=\"37.49\" r=\"0.6\" />\n",
        "            </g>\n",
        "            <g stroke-width=\"0.3\" stroke=\"#00FA00\" class=\"geometry color_117\" fill=\"#49FF00\">\n",
        "              <circle cx=\"24.03\" cy=\"36.17\" r=\"0.6\" />\n",
        "            </g>\n",
        "            <g stroke-width=\"0.3\" stroke=\"#00F800\" class=\"geometry color_118\" fill=\"#6BFF00\">\n",
        "              <circle cx=\"23.64\" cy=\"34.84\" r=\"0.6\" />\n",
        "            </g>\n",
        "            <g stroke-width=\"0.3\" stroke=\"#42F600\" class=\"geometry color_119\" fill=\"#83FF00\">\n",
        "              <circle cx=\"23.29\" cy=\"33.51\" r=\"0.6\" />\n",
        "            </g>\n",
        "            <g stroke-width=\"0.3\" stroke=\"#5FF300\" class=\"geometry color_120\" fill=\"#97FF00\">\n",
        "              <circle cx=\"22.99\" cy=\"32.19\" r=\"0.6\" />\n",
        "            </g>\n",
        "            <g stroke-width=\"0.3\" stroke=\"#75F100\" class=\"geometry color_121\" fill=\"#A9FF00\">\n",
        "              <circle cx=\"22.73\" cy=\"30.87\" r=\"0.6\" />\n",
        "            </g>\n",
        "            <g stroke-width=\"0.3\" stroke=\"#86EE00\" class=\"geometry color_122\" fill=\"#B9FF00\">\n",
        "              <circle cx=\"22.51\" cy=\"29.57\" r=\"0.6\" />\n",
        "            </g>\n",
        "            <g stroke-width=\"0.3\" stroke=\"#96EB00\" class=\"geometry color_123\" fill=\"#C7FF00\">\n",
        "              <circle cx=\"22.36\" cy=\"28.31\" r=\"0.6\" />\n",
        "            </g>\n",
        "            <g stroke-width=\"0.3\" stroke=\"#A4E800\" class=\"geometry color_124\" fill=\"#D5FF00\">\n",
        "              <circle cx=\"22.25\" cy=\"27.08\" r=\"0.6\" />\n",
        "            </g>\n",
        "            <g stroke-width=\"0.3\" stroke=\"#B1E400\" class=\"geometry color_125\" fill=\"#E1FF00\">\n",
        "              <circle cx=\"22.22\" cy=\"25.89\" r=\"0.6\" />\n",
        "            </g>\n",
        "            <g stroke-width=\"0.3\" stroke=\"#BDE000\" class=\"geometry color_126\" fill=\"#EDFF00\">\n",
        "              <circle cx=\"22.24\" cy=\"24.75\" r=\"0.6\" />\n",
        "            </g>\n",
        "            <g stroke-width=\"0.3\" stroke=\"#C8DC00\" class=\"geometry color_127\" fill=\"#F8FF00\">\n",
        "              <circle cx=\"22.33\" cy=\"23.64\" r=\"0.6\" />\n",
        "            </g>\n",
        "            <g stroke-width=\"0.3\" stroke=\"#D2D800\" class=\"geometry color_128\" fill=\"#FFFF00\">\n",
        "              <circle cx=\"22.48\" cy=\"22.57\" r=\"0.6\" />\n",
        "            </g>\n",
        "            <g stroke-width=\"0.3\" stroke=\"#DCD400\" class=\"geometry color_129\" fill=\"#FFFE00\">\n",
        "              <circle cx=\"22.71\" cy=\"21.56\" r=\"0.6\" />\n",
        "            </g>\n",
        "            <g stroke-width=\"0.3\" stroke=\"#E6CF00\" class=\"geometry color_130\" fill=\"#FFF900\">\n",
        "              <circle cx=\"23\" cy=\"20.61\" r=\"0.6\" />\n",
        "            </g>\n",
        "            <g stroke-width=\"0.3\" stroke=\"#EFCA00\" class=\"geometry color_131\" fill=\"#FFF400\">\n",
        "              <circle cx=\"23.37\" cy=\"19.73\" r=\"0.6\" />\n",
        "            </g>\n",
        "            <g stroke-width=\"0.3\" stroke=\"#F7C400\" class=\"geometry color_132\" fill=\"#FFEE00\">\n",
        "              <circle cx=\"23.81\" cy=\"18.91\" r=\"0.6\" />\n",
        "            </g>\n",
        "            <g stroke-width=\"0.3\" stroke=\"#FFBF00\" class=\"geometry color_133\" fill=\"#FFE800\">\n",
        "              <circle cx=\"24.32\" cy=\"18.18\" r=\"0.6\" />\n",
        "            </g>\n",
        "            <g stroke-width=\"0.3\" stroke=\"#FFB900\" class=\"geometry color_134\" fill=\"#FFE200\">\n",
        "              <circle cx=\"24.89\" cy=\"17.52\" r=\"0.6\" />\n",
        "            </g>\n",
        "            <g stroke-width=\"0.3\" stroke=\"#FFB200\" class=\"geometry color_135\" fill=\"#FFDB00\">\n",
        "              <circle cx=\"25.52\" cy=\"16.95\" r=\"0.6\" />\n",
        "            </g>\n",
        "            <g stroke-width=\"0.3\" stroke=\"#FFAC00\" class=\"geometry color_136\" fill=\"#FFD500\">\n",
        "              <circle cx=\"26.2\" cy=\"16.47\" r=\"0.6\" />\n",
        "            </g>\n",
        "            <g stroke-width=\"0.3\" stroke=\"#FFA500\" class=\"geometry color_137\" fill=\"#FFCE00\">\n",
        "              <circle cx=\"26.93\" cy=\"16.08\" r=\"0.6\" />\n",
        "            </g>\n",
        "            <g stroke-width=\"0.3\" stroke=\"#FF9D00\" class=\"geometry color_138\" fill=\"#FFC600\">\n",
        "              <circle cx=\"27.71\" cy=\"15.78\" r=\"0.6\" />\n",
        "            </g>\n",
        "            <g stroke-width=\"0.3\" stroke=\"#FF9500\" class=\"geometry color_139\" fill=\"#FFBF00\">\n",
        "              <circle cx=\"28.51\" cy=\"15.56\" r=\"0.6\" />\n",
        "            </g>\n",
        "            <g stroke-width=\"0.3\" stroke=\"#FF8D00\" class=\"geometry color_140\" fill=\"#FFB700\">\n",
        "              <circle cx=\"29.35\" cy=\"15.41\" r=\"0.6\" />\n",
        "            </g>\n",
        "            <g stroke-width=\"0.3\" stroke=\"#FF8400\" class=\"geometry color_141\" fill=\"#FFAE00\">\n",
        "              <circle cx=\"30.21\" cy=\"15.33\" r=\"0.6\" />\n",
        "            </g>\n",
        "            <g stroke-width=\"0.3\" stroke=\"#FF7B00\" class=\"geometry color_142\" fill=\"#FFA600\">\n",
        "              <circle cx=\"31.08\" cy=\"15.31\" r=\"0.6\" />\n",
        "            </g>\n",
        "            <g stroke-width=\"0.3\" stroke=\"#FF7100\" class=\"geometry color_143\" fill=\"#FF9D00\">\n",
        "              <circle cx=\"31.98\" cy=\"15.35\" r=\"0.6\" />\n",
        "            </g>\n",
        "            <g stroke-width=\"0.3\" stroke=\"#FF6700\" class=\"geometry color_144\" fill=\"#FF9300\">\n",
        "              <circle cx=\"32.88\" cy=\"15.44\" r=\"0.6\" />\n",
        "            </g>\n",
        "            <g stroke-width=\"0.3\" stroke=\"#FF5B00\" class=\"geometry color_145\" fill=\"#FF8A00\">\n",
        "              <circle cx=\"33.79\" cy=\"15.57\" r=\"0.6\" />\n",
        "            </g>\n",
        "            <g stroke-width=\"0.3\" stroke=\"#FF4E00\" class=\"geometry color_146\" fill=\"#FF8000\">\n",
        "              <circle cx=\"34.72\" cy=\"15.73\" r=\"0.6\" />\n",
        "            </g>\n",
        "            <g stroke-width=\"0.3\" stroke=\"#FF4000\" class=\"geometry color_147\" fill=\"#FF7500\">\n",
        "              <circle cx=\"35.64\" cy=\"15.91\" r=\"0.6\" />\n",
        "            </g>\n",
        "            <g stroke-width=\"0.3\" stroke=\"#FF2C00\" class=\"geometry color_148\" fill=\"#FF6A00\">\n",
        "              <circle cx=\"36.57\" cy=\"16.11\" r=\"0.6\" />\n",
        "            </g>\n",
        "            <g stroke-width=\"0.3\" stroke=\"#FF0600\" class=\"geometry color_149\" fill=\"#FF5D00\">\n",
        "              <circle cx=\"37.49\" cy=\"16.33\" r=\"0.6\" />\n",
        "            </g>\n",
        "            <g stroke-width=\"0.3\" stroke=\"#FF0000\" class=\"geometry color_150\" fill=\"#FF4F00\">\n",
        "              <circle cx=\"38.4\" cy=\"16.56\" r=\"0.6\" />\n",
        "            </g>\n",
        "            <g stroke-width=\"0.3\" stroke=\"#FF0000\" class=\"geometry color_151\" fill=\"#FF3F00\">\n",
        "              <circle cx=\"39.3\" cy=\"16.8\" r=\"0.6\" />\n",
        "            </g>\n",
        "            <g stroke-width=\"0.3\" stroke=\"#FF0000\" class=\"geometry color_152\" fill=\"#FF2B00\">\n",
        "              <circle cx=\"40.19\" cy=\"17.04\" r=\"0.6\" />\n",
        "            </g>\n",
        "            <g stroke-width=\"0.3\" stroke=\"#FF0000\" class=\"geometry color_153\" fill=\"#FF0000\">\n",
        "              <circle cx=\"41.06\" cy=\"17.29\" r=\"0.6\" />\n",
        "            </g>\n",
        "            <g stroke-width=\"0.3\" stroke=\"#FF0000\" class=\"geometry color_154\" fill=\"#FF0000\">\n",
        "              <circle cx=\"41.92\" cy=\"17.54\" r=\"0.6\" />\n",
        "            </g>\n",
        "            <g stroke-width=\"0.3\" stroke=\"#FF0000\" class=\"geometry color_155\" fill=\"#FF0000\">\n",
        "              <circle cx=\"42.77\" cy=\"17.8\" r=\"0.6\" />\n",
        "            </g>\n",
        "            <g stroke-width=\"0.3\" stroke=\"#FF0000\" class=\"geometry color_156\" fill=\"#FF0000\">\n",
        "              <circle cx=\"43.62\" cy=\"18.07\" r=\"0.6\" />\n",
        "            </g>\n",
        "            <g stroke-width=\"0.3\" stroke=\"#FF0000\" class=\"geometry color_157\" fill=\"#FF0000\">\n",
        "              <circle cx=\"44.46\" cy=\"18.35\" r=\"0.6\" />\n",
        "            </g>\n",
        "            <g stroke-width=\"0.3\" stroke=\"#FF0000\" class=\"geometry color_158\" fill=\"#FF0000\">\n",
        "              <circle cx=\"45.29\" cy=\"18.63\" r=\"0.6\" />\n",
        "            </g>\n",
        "            <g stroke-width=\"0.3\" stroke=\"#FF0000\" class=\"geometry color_159\" fill=\"#FF0000\">\n",
        "              <circle cx=\"46.12\" cy=\"18.92\" r=\"0.6\" />\n",
        "            </g>\n",
        "            <g stroke-width=\"0.3\" stroke=\"#FF0000\" class=\"geometry color_160\" fill=\"#FF0000\">\n",
        "              <circle cx=\"46.95\" cy=\"19.21\" r=\"0.6\" />\n",
        "            </g>\n",
        "            <g stroke-width=\"0.3\" stroke=\"#FF0000\" class=\"geometry color_161\" fill=\"#FF0000\">\n",
        "              <circle cx=\"47.77\" cy=\"19.51\" r=\"0.6\" />\n",
        "            </g>\n",
        "            <g stroke-width=\"0.3\" stroke=\"#FF0000\" class=\"geometry color_162\" fill=\"#FF0000\">\n",
        "              <circle cx=\"48.6\" cy=\"19.81\" r=\"0.6\" />\n",
        "            </g>\n",
        "            <g stroke-width=\"0.3\" stroke=\"#FF0000\" class=\"geometry color_163\" fill=\"#FF0000\">\n",
        "              <circle cx=\"49.42\" cy=\"20.12\" r=\"0.6\" />\n",
        "            </g>\n",
        "            <g stroke-width=\"0.3\" stroke=\"#FF0000\" class=\"geometry color_164\" fill=\"#FF0000\">\n",
        "              <circle cx=\"50.23\" cy=\"20.44\" r=\"0.6\" />\n",
        "            </g>\n",
        "            <g stroke-width=\"0.3\" stroke=\"#FF0000\" class=\"geometry color_165\" fill=\"#FF0000\">\n",
        "              <circle cx=\"51.05\" cy=\"20.76\" r=\"0.6\" />\n",
        "            </g>\n",
        "            <g stroke-width=\"0.3\" stroke=\"#FF0000\" class=\"geometry color_166\" fill=\"#FF0000\">\n",
        "              <circle cx=\"51.86\" cy=\"21.09\" r=\"0.6\" />\n",
        "            </g>\n",
        "            <g stroke-width=\"0.3\" stroke=\"#FF0000\" class=\"geometry color_167\" fill=\"#FF0000\">\n",
        "              <circle cx=\"52.68\" cy=\"21.42\" r=\"0.6\" />\n",
        "            </g>\n",
        "            <g stroke-width=\"0.3\" stroke=\"#FF0000\" class=\"geometry color_168\" fill=\"#FF0000\">\n",
        "              <circle cx=\"53.49\" cy=\"21.75\" r=\"0.6\" />\n",
        "            </g>\n",
        "            <g stroke-width=\"0.3\" stroke=\"#FF0000\" class=\"geometry color_169\" fill=\"#FF0000\">\n",
        "              <circle cx=\"54.3\" cy=\"22.09\" r=\"0.6\" />\n",
        "            </g>\n",
        "            <g stroke-width=\"0.3\" stroke=\"#FA0000\" class=\"geometry color_170\" fill=\"#FF0000\">\n",
        "              <circle cx=\"55.11\" cy=\"22.43\" r=\"0.6\" />\n",
        "            </g>\n",
        "            <g stroke-width=\"0.3\" stroke=\"#F40000\" class=\"geometry color_171\" fill=\"#FF0000\">\n",
        "              <circle cx=\"55.92\" cy=\"22.77\" r=\"0.6\" />\n",
        "            </g>\n",
        "            <g stroke-width=\"0.3\" stroke=\"#ED0000\" class=\"geometry color_172\" fill=\"#FF0000\">\n",
        "              <circle cx=\"56.73\" cy=\"23.12\" r=\"0.6\" />\n",
        "            </g>\n",
        "            <g stroke-width=\"0.3\" stroke=\"#E70000\" class=\"geometry color_173\" fill=\"#FF0000\">\n",
        "              <circle cx=\"57.53\" cy=\"23.47\" r=\"0.6\" />\n",
        "            </g>\n",
        "            <g stroke-width=\"0.3\" stroke=\"#E00000\" class=\"geometry color_174\" fill=\"#FF0000\">\n",
        "              <circle cx=\"58.34\" cy=\"23.82\" r=\"0.6\" />\n",
        "            </g>\n",
        "            <g stroke-width=\"0.3\" stroke=\"#D90000\" class=\"geometry color_175\" fill=\"#FF0000\">\n",
        "              <circle cx=\"59.15\" cy=\"24.18\" r=\"0.6\" />\n",
        "            </g>\n",
        "            <g stroke-width=\"0.3\" stroke=\"#D20000\" class=\"geometry color_176\" fill=\"#FF0000\">\n",
        "              <circle cx=\"59.96\" cy=\"24.53\" r=\"0.6\" />\n",
        "            </g>\n",
        "            <g stroke-width=\"0.3\" stroke=\"#CB0000\" class=\"geometry color_177\" fill=\"#FF0000\">\n",
        "              <circle cx=\"60.77\" cy=\"24.89\" r=\"0.6\" />\n",
        "            </g>\n",
        "            <g stroke-width=\"0.3\" stroke=\"#C40000\" class=\"geometry color_178\" fill=\"#F80000\">\n",
        "              <circle cx=\"61.58\" cy=\"25.25\" r=\"0.6\" />\n",
        "            </g>\n",
        "            <g stroke-width=\"0.3\" stroke=\"#BD0000\" class=\"geometry color_179\" fill=\"#F00000\">\n",
        "              <circle cx=\"62.39\" cy=\"25.62\" r=\"0.6\" />\n",
        "            </g>\n",
        "            <g stroke-width=\"0.3\" stroke=\"#B60000\" class=\"geometry color_180\" fill=\"#E90000\">\n",
        "              <circle cx=\"63.19\" cy=\"25.98\" r=\"0.6\" />\n",
        "            </g>\n",
        "            <g stroke-width=\"0.3\" stroke=\"#AF0000\" class=\"geometry color_181\" fill=\"#E10000\">\n",
        "              <circle cx=\"64\" cy=\"26.34\" r=\"0.6\" />\n",
        "            </g>\n",
        "            <g stroke-width=\"0.3\" stroke=\"#A80000\" class=\"geometry color_182\" fill=\"#DA0000\">\n",
        "              <circle cx=\"64.81\" cy=\"26.71\" r=\"0.6\" />\n",
        "            </g>\n",
        "            <g stroke-width=\"0.3\" stroke=\"#A10000\" class=\"geometry color_183\" fill=\"#D30000\">\n",
        "              <circle cx=\"65.62\" cy=\"27.08\" r=\"0.6\" />\n",
        "            </g>\n",
        "            <g stroke-width=\"0.3\" stroke=\"#9A0000\" class=\"geometry color_184\" fill=\"#CB0000\">\n",
        "              <circle cx=\"66.42\" cy=\"27.44\" r=\"0.6\" />\n",
        "            </g>\n",
        "            <g stroke-width=\"0.3\" stroke=\"#930000\" class=\"geometry color_185\" fill=\"#C40000\">\n",
        "              <circle cx=\"67.23\" cy=\"27.81\" r=\"0.6\" />\n",
        "            </g>\n",
        "            <g stroke-width=\"0.3\" stroke=\"#8D0000\" class=\"geometry color_186\" fill=\"#BD0000\">\n",
        "              <circle cx=\"68.03\" cy=\"28.18\" r=\"0.6\" />\n",
        "            </g>\n",
        "            <g stroke-width=\"0.3\" stroke=\"#860000\" class=\"geometry color_187\" fill=\"#B60000\">\n",
        "              <circle cx=\"68.84\" cy=\"28.55\" r=\"0.6\" />\n",
        "            </g>\n",
        "            <g stroke-width=\"0.3\" stroke=\"#800000\" class=\"geometry color_188\" fill=\"#AF0000\">\n",
        "              <circle cx=\"69.64\" cy=\"28.91\" r=\"0.6\" />\n",
        "            </g>\n",
        "            <g stroke-width=\"0.3\" stroke=\"#790000\" class=\"geometry color_189\" fill=\"#A80000\">\n",
        "              <circle cx=\"70.44\" cy=\"29.28\" r=\"0.6\" />\n",
        "            </g>\n",
        "            <g stroke-width=\"0.3\" stroke=\"#730000\" class=\"geometry color_190\" fill=\"#A10000\">\n",
        "              <circle cx=\"71.23\" cy=\"29.65\" r=\"0.6\" />\n",
        "            </g>\n",
        "            <g stroke-width=\"0.3\" stroke=\"#6D0000\" class=\"geometry color_191\" fill=\"#9A0000\">\n",
        "              <circle cx=\"72.03\" cy=\"30.01\" r=\"0.6\" />\n",
        "            </g>\n",
        "            <g stroke-width=\"0.3\" stroke=\"#670000\" class=\"geometry color_192\" fill=\"#940000\">\n",
        "              <circle cx=\"72.82\" cy=\"30.38\" r=\"0.6\" />\n",
        "            </g>\n",
        "            <g stroke-width=\"0.3\" stroke=\"#610000\" class=\"geometry color_193\" fill=\"#8D0000\">\n",
        "              <circle cx=\"73.61\" cy=\"30.74\" r=\"0.6\" />\n",
        "            </g>\n",
        "            <g stroke-width=\"0.3\" stroke=\"#5C0000\" class=\"geometry color_194\" fill=\"#870000\">\n",
        "              <circle cx=\"74.39\" cy=\"31.11\" r=\"0.6\" />\n",
        "            </g>\n",
        "            <g stroke-width=\"0.3\" stroke=\"#570000\" class=\"geometry color_195\" fill=\"#810000\">\n",
        "              <circle cx=\"75.18\" cy=\"31.47\" r=\"0.6\" />\n",
        "            </g>\n",
        "            <g stroke-width=\"0.3\" stroke=\"#520000\" class=\"geometry color_196\" fill=\"#7B0000\">\n",
        "              <circle cx=\"75.95\" cy=\"31.83\" r=\"0.6\" />\n",
        "            </g>\n",
        "            <g stroke-width=\"0.3\" stroke=\"#4E0000\" class=\"geometry color_197\" fill=\"#760000\">\n",
        "              <circle cx=\"76.73\" cy=\"32.19\" r=\"0.6\" />\n",
        "            </g>\n",
        "            <g stroke-width=\"0.3\" stroke=\"#4A0000\" class=\"geometry color_198\" fill=\"#710000\">\n",
        "              <circle cx=\"77.5\" cy=\"32.55\" r=\"0.6\" />\n",
        "            </g>\n",
        "            <g stroke-width=\"0.3\" stroke=\"#470000\" class=\"geometry color_199\" fill=\"#6C0000\">\n",
        "              <circle cx=\"78.26\" cy=\"32.9\" r=\"0.6\" />\n",
        "            </g>\n",
        "            <g stroke-width=\"0.3\" stroke=\"#430000\" class=\"geometry color_200\" fill=\"#680000\">\n",
        "              <circle cx=\"79.02\" cy=\"33.25\" r=\"0.6\" />\n",
        "            </g>\n",
        "            <g stroke-width=\"0.3\" stroke=\"#410000\" class=\"geometry color_201\" fill=\"#630000\">\n",
        "              <circle cx=\"79.77\" cy=\"33.6\" r=\"0.6\" />\n",
        "            </g>\n",
        "            <g stroke-width=\"0.3\" stroke=\"#3E0000\" class=\"geometry color_202\" fill=\"#5F0000\">\n",
        "              <circle cx=\"80.51\" cy=\"33.94\" r=\"0.6\" />\n",
        "            </g>\n",
        "            <g stroke-width=\"0.3\" stroke=\"#3B0000\" class=\"geometry color_203\" fill=\"#5A0000\">\n",
        "              <circle cx=\"81.25\" cy=\"34.29\" r=\"0.6\" />\n",
        "            </g>\n",
        "            <g stroke-width=\"0.3\" stroke=\"#390000\" class=\"geometry color_204\" fill=\"#550000\">\n",
        "              <circle cx=\"81.98\" cy=\"34.63\" r=\"0.6\" />\n",
        "            </g>\n",
        "            <g stroke-width=\"0.3\" stroke=\"#370000\" class=\"geometry color_205\" fill=\"#510000\">\n",
        "              <circle cx=\"82.71\" cy=\"34.96\" r=\"0.6\" />\n",
        "            </g>\n",
        "            <g stroke-width=\"0.3\" stroke=\"#340000\" class=\"geometry color_206\" fill=\"#4D0000\">\n",
        "              <circle cx=\"83.42\" cy=\"35.29\" r=\"0.6\" />\n",
        "            </g>\n",
        "            <g stroke-width=\"0.3\" stroke=\"#320000\" class=\"geometry color_207\" fill=\"#480000\">\n",
        "              <circle cx=\"84.13\" cy=\"35.62\" r=\"0.6\" />\n",
        "            </g>\n",
        "            <g stroke-width=\"0.3\" stroke=\"#300000\" class=\"geometry color_208\" fill=\"#450000\">\n",
        "              <circle cx=\"84.82\" cy=\"35.94\" r=\"0.6\" />\n",
        "            </g>\n",
        "            <g stroke-width=\"0.3\" stroke=\"#2D0000\" class=\"geometry color_209\" fill=\"#410000\">\n",
        "              <circle cx=\"85.51\" cy=\"36.26\" r=\"0.6\" />\n",
        "            </g>\n",
        "            <g stroke-width=\"0.3\" stroke=\"#2B0000\" class=\"geometry color_210\" fill=\"#3D0000\">\n",
        "              <circle cx=\"86.19\" cy=\"36.57\" r=\"0.6\" />\n",
        "            </g>\n",
        "            <g stroke-width=\"0.3\" stroke=\"#280000\" class=\"geometry color_211\" fill=\"#3A0000\">\n",
        "              <circle cx=\"86.85\" cy=\"36.88\" r=\"0.6\" />\n",
        "            </g>\n",
        "            <g stroke-width=\"0.3\" stroke=\"#250000\" class=\"geometry color_212\" fill=\"#370000\">\n",
        "              <circle cx=\"87.51\" cy=\"37.19\" r=\"0.6\" />\n",
        "            </g>\n",
        "            <g stroke-width=\"0.3\" stroke=\"#220000\" class=\"geometry color_213\" fill=\"#340000\">\n",
        "              <circle cx=\"88.16\" cy=\"37.48\" r=\"0.6\" />\n",
        "            </g>\n",
        "            <g stroke-width=\"0.3\" stroke=\"#1F0000\" class=\"geometry color_214\" fill=\"#320000\">\n",
        "              <circle cx=\"88.79\" cy=\"37.78\" r=\"0.6\" />\n",
        "            </g>\n",
        "            <g stroke-width=\"0.3\" stroke=\"#1C0000\" class=\"geometry color_215\" fill=\"#2F0000\">\n",
        "              <circle cx=\"89.4\" cy=\"38.06\" r=\"0.6\" />\n",
        "            </g>\n",
        "            <g stroke-width=\"0.3\" stroke=\"#180000\" class=\"geometry color_216\" fill=\"#2D0000\">\n",
        "              <circle cx=\"90\" cy=\"38.34\" r=\"0.6\" />\n",
        "            </g>\n",
        "            <g stroke-width=\"0.3\" stroke=\"#130000\" class=\"geometry color_217\" fill=\"#2A0000\">\n",
        "              <circle cx=\"90.57\" cy=\"38.61\" r=\"0.6\" />\n",
        "            </g>\n",
        "            <g stroke-width=\"0.3\" stroke=\"#0E0000\" class=\"geometry color_218\" fill=\"#280000\">\n",
        "              <circle cx=\"91.13\" cy=\"38.87\" r=\"0.6\" />\n",
        "            </g>\n",
        "            <g stroke-width=\"0.3\" stroke=\"#080000\" class=\"geometry color_219\" fill=\"#260000\">\n",
        "              <circle cx=\"91.68\" cy=\"39.12\" r=\"0.6\" />\n",
        "            </g>\n",
        "            <g stroke-width=\"0.3\" stroke=\"#020000\" class=\"geometry color_220\" fill=\"#230000\">\n",
        "              <circle cx=\"92.21\" cy=\"39.36\" r=\"0.6\" />\n",
        "            </g>\n",
        "            <g stroke-width=\"0.3\" stroke=\"#000000\" class=\"geometry color_221\" fill=\"#210000\">\n",
        "              <circle cx=\"92.72\" cy=\"39.6\" r=\"0.6\" />\n",
        "            </g>\n",
        "            <g stroke-width=\"0.3\" stroke=\"#000000\" class=\"geometry color_222\" fill=\"#1F0000\">\n",
        "              <circle cx=\"93.23\" cy=\"39.84\" r=\"0.6\" />\n",
        "            </g>\n",
        "            <g stroke-width=\"0.3\" stroke=\"#000000\" class=\"geometry color_223\" fill=\"#1E0000\">\n",
        "              <circle cx=\"93.73\" cy=\"40.07\" r=\"0.6\" />\n",
        "            </g>\n",
        "            <g stroke-width=\"0.3\" stroke=\"#000000\" class=\"geometry color_224\" fill=\"#1C0000\">\n",
        "              <circle cx=\"94.21\" cy=\"40.29\" r=\"0.6\" />\n",
        "            </g>\n",
        "            <g stroke-width=\"0.3\" stroke=\"#000000\" class=\"geometry color_225\" fill=\"#1A0000\">\n",
        "              <circle cx=\"94.67\" cy=\"40.51\" r=\"0.6\" />\n",
        "            </g>\n",
        "            <g stroke-width=\"0.3\" stroke=\"#000000\" class=\"geometry color_226\" fill=\"#180000\">\n",
        "              <circle cx=\"95.12\" cy=\"40.71\" r=\"0.6\" />\n",
        "            </g>\n",
        "            <g stroke-width=\"0.3\" stroke=\"#000000\" class=\"geometry color_227\" fill=\"#170000\">\n",
        "              <circle cx=\"95.55\" cy=\"40.91\" r=\"0.6\" />\n",
        "            </g>\n",
        "            <g stroke-width=\"0.3\" stroke=\"#000000\" class=\"geometry color_228\" fill=\"#150000\">\n",
        "              <circle cx=\"95.96\" cy=\"41.1\" r=\"0.6\" />\n",
        "            </g>\n",
        "            <g stroke-width=\"0.3\" stroke=\"#000000\" class=\"geometry color_229\" fill=\"#140000\">\n",
        "              <circle cx=\"96.36\" cy=\"41.28\" r=\"0.6\" />\n",
        "            </g>\n",
        "            <g stroke-width=\"0.3\" stroke=\"#000000\" class=\"geometry color_230\" fill=\"#120000\">\n",
        "              <circle cx=\"96.74\" cy=\"41.46\" r=\"0.6\" />\n",
        "            </g>\n",
        "            <g stroke-width=\"0.3\" stroke=\"#000000\" class=\"geometry color_231\" fill=\"#110000\">\n",
        "              <circle cx=\"97.1\" cy=\"41.63\" r=\"0.6\" />\n",
        "            </g>\n",
        "            <g stroke-width=\"0.3\" stroke=\"#000000\" class=\"geometry color_232\" fill=\"#0F0000\">\n",
        "              <circle cx=\"97.45\" cy=\"41.79\" r=\"0.6\" />\n",
        "            </g>\n",
        "            <g stroke-width=\"0.3\" stroke=\"#000000\" class=\"geometry color_233\" fill=\"#0E0000\">\n",
        "              <circle cx=\"97.79\" cy=\"41.95\" r=\"0.6\" />\n",
        "            </g>\n",
        "            <g stroke-width=\"0.3\" stroke=\"#000000\" class=\"geometry color_234\" fill=\"#0D0000\">\n",
        "              <circle cx=\"98.12\" cy=\"42.1\" r=\"0.6\" />\n",
        "            </g>\n",
        "            <g stroke-width=\"0.3\" stroke=\"#000000\" class=\"geometry color_235\" fill=\"#0C0000\">\n",
        "              <circle cx=\"98.43\" cy=\"42.24\" r=\"0.6\" />\n",
        "            </g>\n",
        "            <g stroke-width=\"0.3\" stroke=\"#000000\" class=\"geometry color_236\" fill=\"#0B0000\">\n",
        "              <circle cx=\"98.72\" cy=\"42.38\" r=\"0.6\" />\n",
        "            </g>\n",
        "            <g stroke-width=\"0.3\" stroke=\"#000000\" class=\"geometry color_237\" fill=\"#0A0000\">\n",
        "              <circle cx=\"99.01\" cy=\"42.51\" r=\"0.6\" />\n",
        "            </g>\n",
        "            <g stroke-width=\"0.3\" stroke=\"#000000\" class=\"geometry color_238\" fill=\"#090000\">\n",
        "              <circle cx=\"99.28\" cy=\"42.64\" r=\"0.6\" />\n",
        "            </g>\n",
        "            <g stroke-width=\"0.3\" stroke=\"#000000\" class=\"geometry color_239\" fill=\"#080000\">\n",
        "              <circle cx=\"99.53\" cy=\"42.76\" r=\"0.6\" />\n",
        "            </g>\n",
        "            <g stroke-width=\"0.3\" stroke=\"#000000\" class=\"geometry color_240\" fill=\"#070000\">\n",
        "              <circle cx=\"99.78\" cy=\"42.87\" r=\"0.6\" />\n",
        "            </g>\n",
        "            <g stroke-width=\"0.3\" stroke=\"#000000\" class=\"geometry color_241\" fill=\"#060000\">\n",
        "              <circle cx=\"100.01\" cy=\"42.98\" r=\"0.6\" />\n",
        "            </g>\n",
        "            <g stroke-width=\"0.3\" stroke=\"#000000\" class=\"geometry color_242\" fill=\"#050000\">\n",
        "              <circle cx=\"100.24\" cy=\"43.08\" r=\"0.6\" />\n",
        "            </g>\n",
        "            <g stroke-width=\"0.3\" stroke=\"#000000\" class=\"geometry color_243\" fill=\"#050000\">\n",
        "              <circle cx=\"100.45\" cy=\"43.18\" r=\"0.6\" />\n",
        "            </g>\n",
        "            <g stroke-width=\"0.3\" stroke=\"#000000\" class=\"geometry color_244\" fill=\"#040000\">\n",
        "              <circle cx=\"100.66\" cy=\"43.28\" r=\"0.6\" />\n",
        "            </g>\n",
        "            <g stroke-width=\"0.3\" stroke=\"#000000\" class=\"geometry color_245\" fill=\"#040000\">\n",
        "              <circle cx=\"100.86\" cy=\"43.37\" r=\"0.6\" />\n",
        "            </g>\n",
        "            <g stroke-width=\"0.3\" stroke=\"#000000\" class=\"geometry color_246\" fill=\"#040000\">\n",
        "              <circle cx=\"101.04\" cy=\"43.46\" r=\"0.6\" />\n",
        "            </g>\n",
        "            <g stroke-width=\"0.3\" stroke=\"#000000\" class=\"geometry color_247\" fill=\"#030000\">\n",
        "              <circle cx=\"101.22\" cy=\"43.54\" r=\"0.6\" />\n",
        "            </g>\n",
        "            <g stroke-width=\"0.3\" stroke=\"#000000\" class=\"geometry color_248\" fill=\"#030000\">\n",
        "              <circle cx=\"101.39\" cy=\"43.62\" r=\"0.6\" />\n",
        "            </g>\n",
        "            <g stroke-width=\"0.3\" stroke=\"#000000\" class=\"geometry color_249\" fill=\"#030000\">\n",
        "              <circle cx=\"101.56\" cy=\"43.69\" r=\"0.6\" />\n",
        "            </g>\n",
        "            <g stroke-width=\"0.3\" stroke=\"#000000\" class=\"geometry color_250\" fill=\"#020000\">\n",
        "              <circle cx=\"101.72\" cy=\"43.77\" r=\"0.6\" />\n",
        "            </g>\n",
        "            <g stroke-width=\"0.3\" stroke=\"#000000\" class=\"geometry color_251\" fill=\"#020000\">\n",
        "              <circle cx=\"101.87\" cy=\"43.84\" r=\"0.6\" />\n",
        "            </g>\n",
        "            <g stroke-width=\"0.3\" stroke=\"#000000\" class=\"geometry color_252\" fill=\"#020000\">\n",
        "              <circle cx=\"102.02\" cy=\"43.91\" r=\"0.6\" />\n",
        "            </g>\n",
        "            <g stroke-width=\"0.3\" stroke=\"#000000\" class=\"geometry color_253\" fill=\"#020000\">\n",
        "              <circle cx=\"102.16\" cy=\"43.97\" r=\"0.6\" />\n",
        "            </g>\n",
        "            <g stroke-width=\"0.3\" stroke=\"#000000\" class=\"geometry color_254\" fill=\"#020000\">\n",
        "              <circle cx=\"102.3\" cy=\"44.04\" r=\"0.6\" />\n",
        "            </g>\n",
        "            <g stroke-width=\"0.3\" stroke=\"#000000\" class=\"geometry color_255\" fill=\"#010000\">\n",
        "              <circle cx=\"102.43\" cy=\"44.1\" r=\"0.6\" />\n",
        "            </g>\n",
        "            <g stroke-width=\"0.3\" stroke=\"#000000\" class=\"geometry color_256\" fill=\"#010000\">\n",
        "              <circle cx=\"102.56\" cy=\"44.16\" r=\"0.6\" />\n",
        "            </g>\n",
        "            <g stroke-width=\"0.3\" stroke=\"#000000\" class=\"geometry color_257\" fill=\"#010000\">\n",
        "              <circle cx=\"102.69\" cy=\"44.22\" r=\"0.6\" />\n",
        "            </g>\n",
        "            <g stroke-width=\"0.3\" stroke=\"#000000\" class=\"geometry color_258\" fill=\"#010000\">\n",
        "              <circle cx=\"102.8\" cy=\"44.27\" r=\"0.6\" />\n",
        "            </g>\n",
        "            <g stroke-width=\"0.3\" stroke=\"#000000\" class=\"geometry color_259\" fill=\"#010000\">\n",
        "              <circle cx=\"102.92\" cy=\"44.32\" r=\"0.6\" />\n",
        "            </g>\n",
        "            <g stroke-width=\"0.3\" stroke=\"#000000\" class=\"geometry color_260\" fill=\"#010000\">\n",
        "              <circle cx=\"103.02\" cy=\"44.37\" r=\"0.6\" />\n",
        "            </g>\n",
        "            <g stroke-width=\"0.3\" stroke=\"#000000\" class=\"geometry color_261\" fill=\"#010000\">\n",
        "              <circle cx=\"103.13\" cy=\"44.42\" r=\"0.6\" />\n",
        "            </g>\n",
        "            <g stroke-width=\"0.3\" stroke=\"#000000\" class=\"geometry color_262\" fill=\"#010000\">\n",
        "              <circle cx=\"103.23\" cy=\"44.47\" r=\"0.6\" />\n",
        "            </g>\n",
        "            <g stroke-width=\"0.3\" stroke=\"#000000\" class=\"geometry color_263\" fill=\"#010000\">\n",
        "              <circle cx=\"103.32\" cy=\"44.51\" r=\"0.6\" />\n",
        "            </g>\n",
        "            <g stroke-width=\"0.3\" stroke=\"#000000\" class=\"geometry color_264\" fill=\"#010000\">\n",
        "              <circle cx=\"103.41\" cy=\"44.56\" r=\"0.6\" />\n",
        "            </g>\n",
        "            <g stroke-width=\"0.3\" stroke=\"#000000\" class=\"geometry color_265\" fill=\"#000000\">\n",
        "              <circle cx=\"103.5\" cy=\"44.59\" r=\"0.6\" />\n",
        "            </g>\n",
        "            <g stroke-width=\"0.3\" stroke=\"#000000\" class=\"geometry color_266\" fill=\"#000000\">\n",
        "              <circle cx=\"103.58\" cy=\"44.63\" r=\"0.6\" />\n",
        "            </g>\n",
        "            <g stroke-width=\"0.3\" stroke=\"#000000\" class=\"geometry color_267\" fill=\"#000000\">\n",
        "              <circle cx=\"103.66\" cy=\"44.67\" r=\"0.6\" />\n",
        "            </g>\n",
        "            <g stroke-width=\"0.3\" stroke=\"#FF97FF\" class=\"geometry color_268\" fill=\"#FFC3FF\">\n",
        "              <circle cx=\"103.73\" cy=\"44.7\" r=\"0.6\" />\n",
        "            </g>\n",
        "            <g stroke-width=\"0.3\" stroke=\"#4DDCFF\" class=\"geometry color_269\" fill=\"#8BFFFF\">\n",
        "              <circle cx=\"103.79\" cy=\"44.73\" r=\"0.6\" />\n",
        "            </g>\n",
        "            <g stroke-width=\"0.3\" stroke=\"#334B00\" class=\"geometry color_270\" fill=\"#517000\">\n",
        "              <circle cx=\"103.86\" cy=\"44.76\" r=\"0.6\" />\n",
        "            </g>\n",
        "            <g stroke-width=\"0.3\" stroke=\"#84897D\" class=\"geometry color_271\" fill=\"#ACB1A4\">\n",
        "              <circle cx=\"103.92\" cy=\"44.79\" r=\"0.6\" />\n",
        "            </g>\n",
        "            <g stroke-width=\"0.3\" stroke=\"#00140C\" class=\"geometry color_272\" fill=\"#002B2C\">\n",
        "              <circle cx=\"103.97\" cy=\"44.81\" r=\"0.6\" />\n",
        "            </g>\n",
        "            <g stroke-width=\"0.3\" stroke=\"#8F4D78\" class=\"geometry color_273\" fill=\"#B8739F\">\n",
        "              <circle cx=\"104.03\" cy=\"44.84\" r=\"0.6\" />\n",
        "            </g>\n",
        "            <g stroke-width=\"0.3\" stroke=\"#580000\" class=\"geometry color_274\" fill=\"#7D2900\">\n",
        "              <circle cx=\"104.08\" cy=\"44.86\" r=\"0.6\" />\n",
        "            </g>\n",
        "            <g stroke-width=\"0.3\" stroke=\"#00FCFF\" class=\"geometry color_275\" fill=\"#00FFFF\">\n",
        "              <circle cx=\"104.13\" cy=\"44.89\" r=\"0.6\" />\n",
        "            </g>\n",
        "            <g stroke-width=\"0.3\" stroke=\"#001700\" class=\"geometry color_276\" fill=\"#002C00\">\n",
        "              <circle cx=\"104.17\" cy=\"44.91\" r=\"0.6\" />\n",
        "            </g>\n",
        "            <g stroke-width=\"0.3\" stroke=\"#FFC4B6\" class=\"geometry color_277\" fill=\"#FFEEE0\">\n",
        "              <circle cx=\"104.22\" cy=\"44.93\" r=\"0.6\" />\n",
        "            </g>\n",
        "            <g stroke-width=\"0.3\" stroke=\"#00006D\" class=\"geometry color_278\" fill=\"#001D95\">\n",
        "              <circle cx=\"104.26\" cy=\"44.95\" r=\"0.6\" />\n",
        "            </g>\n",
        "            <g stroke-width=\"0.3\" stroke=\"#0D3927\" class=\"geometry color_279\" fill=\"#315C48\">\n",
        "              <circle cx=\"104.3\" cy=\"44.96\" r=\"0.6\" />\n",
        "            </g>\n",
        "            <g stroke-width=\"0.3\" stroke=\"#905600\" class=\"geometry color_280\" fill=\"#BC7B24\">\n",
        "              <circle cx=\"104.33\" cy=\"44.98\" r=\"0.6\" />\n",
        "            </g>\n",
        "            <g stroke-width=\"0.3\" stroke=\"#5072C7\" class=\"geometry color_281\" fill=\"#7C98F2\">\n",
        "              <circle cx=\"104.36\" cy=\"45\" r=\"0.6\" />\n",
        "            </g>\n",
        "            <g stroke-width=\"0.3\" stroke=\"#008E00\" class=\"geometry color_282\" fill=\"#00B829\">\n",
        "              <circle cx=\"104.39\" cy=\"45.01\" r=\"0.6\" />\n",
        "            </g>\n",
        "            <g stroke-width=\"0.3\" stroke=\"#4C3F39\" class=\"geometry color_283\" fill=\"#70635C\">\n",
        "              <circle cx=\"104.42\" cy=\"45.02\" r=\"0.6\" />\n",
        "            </g>\n",
        "            <g stroke-width=\"0.3\" stroke=\"#A0E5A2\" class=\"geometry color_284\" fill=\"#CAFFCC\">\n",
        "              <circle cx=\"104.45\" cy=\"45.03\" r=\"0.6\" />\n",
        "            </g>\n",
        "            <g stroke-width=\"0.3\" stroke=\"#0C0000\" class=\"geometry color_285\" fill=\"#270000\">\n",
        "              <circle cx=\"104.47\" cy=\"45.05\" r=\"0.6\" />\n",
        "            </g>\n",
        "            <g stroke-width=\"0.3\" stroke=\"#FF009E\" class=\"geometry color_286\" fill=\"#FF4EC7\">\n",
        "              <circle cx=\"104.49\" cy=\"45.06\" r=\"0.6\" />\n",
        "            </g>\n",
        "            <g stroke-width=\"0.3\" stroke=\"#00BBFF\" class=\"geometry color_287\" fill=\"#00E6FF\">\n",
        "              <circle cx=\"104.51\" cy=\"45.07\" r=\"0.6\" />\n",
        "            </g>\n",
        "            <g stroke-width=\"0.3\" stroke=\"#85005F\" class=\"geometry color_288\" fill=\"#B10085\">\n",
        "              <circle cx=\"104.53\" cy=\"45.08\" r=\"0.6\" />\n",
        "            </g>\n",
        "            <g stroke-width=\"0.3\" stroke=\"#440000\" class=\"geometry color_289\" fill=\"#500000\">\n",
        "              <circle cx=\"104.56\" cy=\"45.08\" r=\"0.6\" />\n",
        "            </g>\n",
        "            <g stroke-width=\"0.3\" stroke=\"#CFD3EE\" class=\"geometry color_290\" fill=\"#FAFEFF\">\n",
        "              <circle cx=\"104.57\" cy=\"45.09\" r=\"0.6\" />\n",
        "            </g>\n",
        "            <g stroke-width=\"0.3\" stroke=\"#001D32\" class=\"geometry color_291\" fill=\"#003C55\">\n",
        "              <circle cx=\"104.59\" cy=\"45.1\" r=\"0.6\" />\n",
        "            </g>\n",
        "            <g stroke-width=\"0.3\" stroke=\"#00391E\" class=\"geometry color_292\" fill=\"#005A3F\">\n",
        "              <circle cx=\"104.61\" cy=\"45.11\" r=\"0.6\" />\n",
        "            </g>\n",
        "            <g stroke-width=\"0.3\" stroke=\"#007261\" class=\"geometry color_293\" fill=\"#269987\">\n",
        "              <circle cx=\"104.63\" cy=\"45.12\" r=\"0.6\" />\n",
        "            </g>\n",
        "            <g stroke-width=\"0.3\" stroke=\"#EDD291\" class=\"geometry color_294\" fill=\"#FFFDB9\">\n",
        "              <circle cx=\"104.64\" cy=\"45.13\" r=\"0.6\" />\n",
        "            </g>\n",
        "            <g stroke-width=\"0.3\" stroke=\"#7C9100\" class=\"geometry color_295\" fill=\"#A7B900\">\n",
        "              <circle cx=\"104.66\" cy=\"45.13\" r=\"0.6\" />\n",
        "            </g>\n",
        "            <g stroke-width=\"0.3\" stroke=\"#362B55\" class=\"geometry color_296\" fill=\"#5A4D7A\">\n",
        "              <circle cx=\"104.68\" cy=\"45.14\" r=\"0.6\" />\n",
        "            </g>\n",
        "            <g stroke-width=\"0.3\" stroke=\"#B55B4D\" class=\"geometry color_297\" fill=\"#E18271\">\n",
        "              <circle cx=\"104.69\" cy=\"45.15\" r=\"0.6\" />\n",
        "            </g>\n",
        "            <g stroke-width=\"0.3\" stroke=\"#0081FF\" class=\"geometry color_298\" fill=\"#00A7FF\">\n",
        "              <circle cx=\"104.71\" cy=\"45.16\" r=\"0.6\" />\n",
        "            </g>\n",
        "            <g stroke-width=\"0.3\" stroke=\"#8ACBD6\" class=\"geometry color_299\" fill=\"#B4F5FF\">\n",
        "              <circle cx=\"104.72\" cy=\"45.16\" r=\"0.6\" />\n",
        "            </g>\n",
        "            <g stroke-width=\"0.3\" stroke=\"#005400\" class=\"geometry color_300\" fill=\"#007B00\">\n",
        "              <circle cx=\"104.74\" cy=\"45.17\" r=\"0.6\" />\n",
        "            </g>\n",
        "            <g stroke-width=\"0.3\" stroke=\"#001B60\" class=\"geometry color_301\" fill=\"#003287\">\n",
        "              <circle cx=\"104.75\" cy=\"45.18\" r=\"0.6\" />\n",
        "            </g>\n",
        "            <g stroke-width=\"0.3\" stroke=\"#000041\" class=\"geometry color_302\" fill=\"#000164\">\n",
        "              <circle cx=\"104.77\" cy=\"45.19\" r=\"0.6\" />\n",
        "            </g>\n",
        "            <g stroke-width=\"0.3\" stroke=\"#000000\" class=\"geometry color_303\" fill=\"#001300\">\n",
        "              <circle cx=\"104.78\" cy=\"45.19\" r=\"0.6\" />\n",
        "            </g>\n",
        "            <g stroke-width=\"0.3\" stroke=\"#312100\" class=\"geometry color_304\" fill=\"#524205\">\n",
        "              <circle cx=\"104.8\" cy=\"45.2\" r=\"0.6\" />\n",
        "            </g>\n",
        "            <g stroke-width=\"0.3\" stroke=\"#535525\" class=\"geometry color_305\" fill=\"#797A48\">\n",
        "              <circle cx=\"104.81\" cy=\"45.21\" r=\"0.6\" />\n",
        "            </g>\n",
        "            <g stroke-width=\"0.3\" stroke=\"#D59CBF\" class=\"geometry color_306\" fill=\"#FFC5E9\">\n",
        "              <circle cx=\"104.83\" cy=\"45.21\" r=\"0.6\" />\n",
        "            </g>\n",
        "            <g stroke-width=\"0.3\" stroke=\"#345764\" class=\"geometry color_307\" fill=\"#597C8A\">\n",
        "              <circle cx=\"104.84\" cy=\"45.22\" r=\"0.6\" />\n",
        "            </g>\n",
        "            <g stroke-width=\"0.3\" stroke=\"#00A5AD\" class=\"geometry color_308\" fill=\"#00D0D6\">\n",
        "              <circle cx=\"104.85\" cy=\"45.22\" r=\"0.6\" />\n",
        "            </g>\n",
        "            <g stroke-width=\"0.3\" stroke=\"#BF26DF\" class=\"geometry color_309\" fill=\"#EC5AFF\">\n",
        "              <circle cx=\"104.85\" cy=\"45.22\" r=\"0.6\" />\n",
        "            </g>\n",
        "            <g stroke-width=\"0.3\" stroke=\"#7B1E30\" class=\"geometry color_310\" fill=\"#A64651\">\n",
        "              <circle cx=\"104.86\" cy=\"45.23\" r=\"0.6\" />\n",
        "            </g>\n",
        "            <g stroke-width=\"0.3\" stroke=\"#FF6E59\" class=\"geometry color_311\" fill=\"#FF9C7F\">\n",
        "              <circle cx=\"104.86\" cy=\"45.23\" r=\"0.6\" />\n",
        "            </g>\n",
        "            <g stroke-width=\"0.3\" stroke=\"#782700\" class=\"geometry color_312\" fill=\"#A44B16\">\n",
        "              <circle cx=\"104.87\" cy=\"45.23\" r=\"0.6\" />\n",
        "            </g>\n",
        "            <g stroke-width=\"0.3\" stroke=\"#E70038\" class=\"geometry color_313\" fill=\"#FF005A\">\n",
        "              <circle cx=\"104.88\" cy=\"45.23\" r=\"0.6\" />\n",
        "            </g>\n",
        "            <g stroke-width=\"0.3\" stroke=\"#000B00\" class=\"geometry color_314\" fill=\"#142A00\">\n",
        "              <circle cx=\"104.88\" cy=\"45.24\" r=\"0.6\" />\n",
        "            </g>\n",
        "            <g stroke-width=\"0.3\" stroke=\"#180B00\" class=\"geometry color_315\" fill=\"#292B00\">\n",
        "              <circle cx=\"104.88\" cy=\"45.24\" r=\"0.6\" />\n",
        "            </g>\n",
        "            <g stroke-width=\"0.3\" stroke=\"#350300\" class=\"geometry color_316\" fill=\"#572506\">\n",
        "              <circle cx=\"104.89\" cy=\"45.24\" r=\"0.6\" />\n",
        "            </g>\n",
        "            <g stroke-width=\"0.3\" stroke=\"#00D06E\" class=\"geometry color_317\" fill=\"#00FD95\">\n",
        "              <circle cx=\"104.89\" cy=\"45.24\" r=\"0.6\" />\n",
        "            </g>\n",
        "            <g stroke-width=\"0.3\" stroke=\"#66626D\" class=\"geometry color_318\" fill=\"#8C8793\">\n",
        "              <circle cx=\"104.89\" cy=\"45.24\" r=\"0.6\" />\n",
        "            </g>\n",
        "            <g stroke-width=\"0.3\" stroke=\"#A07BFF\" class=\"geometry color_319\" fill=\"#CEA3FF\">\n",
        "              <circle cx=\"104.9\" cy=\"45.24\" r=\"0.6\" />\n",
        "            </g>\n",
        "            <g stroke-width=\"0.3\" stroke=\"#CA8E44\" class=\"geometry color_320\" fill=\"#F7B66A\">\n",
        "              <circle cx=\"104.9\" cy=\"45.24\" r=\"0.6\" />\n",
        "            </g>\n",
        "            <g stroke-width=\"0.3\" stroke=\"#D1D6C9\" class=\"geometry color_321\" fill=\"#FCFFF4\">\n",
        "              <circle cx=\"104.9\" cy=\"45.24\" r=\"0.6\" />\n",
        "            </g>\n",
        "            <g stroke-width=\"0.3\" stroke=\"#7E6000\" class=\"geometry color_322\" fill=\"#A88600\">\n",
        "              <circle cx=\"104.9\" cy=\"45.24\" r=\"0.6\" />\n",
        "            </g>\n",
        "            <g stroke-width=\"0.3\" stroke=\"#004146\" class=\"geometry color_323\" fill=\"#00666A\">\n",
        "              <circle cx=\"104.9\" cy=\"45.24\" r=\"0.6\" />\n",
        "            </g>\n",
        "            <g stroke-width=\"0.3\" stroke=\"#0094B8\" class=\"geometry color_324\" fill=\"#43BCE2\">\n",
        "              <circle cx=\"104.9\" cy=\"45.24\" r=\"0.6\" />\n",
        "            </g>\n",
        "            <g stroke-width=\"0.3\" stroke=\"#00F0FF\" class=\"geometry color_325\" fill=\"#00FFFF\">\n",
        "              <circle cx=\"104.9\" cy=\"45.24\" r=\"0.6\" />\n",
        "            </g>\n",
        "            <g stroke-width=\"0.3\" stroke=\"#4C2F00\" class=\"geometry color_326\" fill=\"#6D5100\">\n",
        "              <circle cx=\"104.9\" cy=\"45.24\" r=\"0.6\" />\n",
        "            </g>\n",
        "            <g stroke-width=\"0.3\" stroke=\"#390000\" class=\"geometry color_327\" fill=\"#440000\">\n",
        "              <circle cx=\"104.9\" cy=\"45.24\" r=\"0.6\" />\n",
        "            </g>\n",
        "            <g stroke-width=\"0.3\" stroke=\"#2EC1AA\" class=\"geometry color_328\" fill=\"#64ECD3\">\n",
        "              <circle cx=\"104.9\" cy=\"45.24\" r=\"0.6\" />\n",
        "            </g>\n",
        "            <g stroke-width=\"0.3\" stroke=\"#470000\" class=\"geometry color_329\" fill=\"#610007\">\n",
        "              <circle cx=\"104.9\" cy=\"45.24\" r=\"0.6\" />\n",
        "            </g>\n",
        "            <g stroke-width=\"0.3\" stroke=\"#003B75\" class=\"geometry color_330\" fill=\"#005D9C\">\n",
        "              <circle cx=\"104.9\" cy=\"45.24\" r=\"0.6\" />\n",
        "            </g>\n",
        "            <g stroke-width=\"0.3\" stroke=\"#B19486\" class=\"geometry color_331\" fill=\"#DBBCAE\">\n",
        "              <circle cx=\"104.9\" cy=\"45.24\" r=\"0.6\" />\n",
        "            </g>\n",
        "            <g stroke-width=\"0.3\" stroke=\"#3D1523\" class=\"geometry color_332\" fill=\"#623644\">\n",
        "              <circle cx=\"104.9\" cy=\"45.24\" r=\"0.6\" />\n",
        "            </g>\n",
        "            <g stroke-width=\"0.3\" stroke=\"#00006F\" class=\"geometry color_333\" fill=\"#211C97\">\n",
        "              <circle cx=\"104.9\" cy=\"45.24\" r=\"0.6\" />\n",
        "            </g>\n",
        "            <g stroke-width=\"0.3\" stroke=\"#003000\" class=\"geometry color_334\" fill=\"#005400\">\n",
        "              <circle cx=\"104.9\" cy=\"45.24\" r=\"0.6\" />\n",
        "            </g>\n",
        "            <g stroke-width=\"0.3\" stroke=\"#FFB268\" class=\"geometry color_335\" fill=\"#FFDC90\">\n",
        "              <circle cx=\"104.9\" cy=\"45.24\" r=\"0.6\" />\n",
        "            </g>\n",
        "            <g stroke-width=\"0.3\" stroke=\"#0095FF\" class=\"geometry color_336\" fill=\"#2DBCFF\">\n",
        "              <circle cx=\"104.9\" cy=\"45.24\" r=\"0.6\" />\n",
        "            </g>\n",
        "            <g stroke-width=\"0.3\" stroke=\"#5E9461\" class=\"geometry color_337\" fill=\"#85BC87\">\n",
        "              <circle cx=\"104.9\" cy=\"45.24\" r=\"0.6\" />\n",
        "            </g>\n",
        "            <g stroke-width=\"0.3\" stroke=\"#0D170D\" class=\"geometry color_338\" fill=\"#2D362D\">\n",
        "              <circle cx=\"104.9\" cy=\"45.24\" r=\"0.6\" />\n",
        "            </g>\n",
        "            <g stroke-width=\"0.3\" stroke=\"#8F80B0\" class=\"geometry color_339\" fill=\"#B8A7DA\">\n",
        "              <circle cx=\"104.9\" cy=\"45.24\" r=\"0.6\" />\n",
        "            </g>\n",
        "            <g stroke-width=\"0.3\" stroke=\"#68C300\" class=\"geometry color_340\" fill=\"#95ED2F\">\n",
        "              <circle cx=\"104.9\" cy=\"45.24\" r=\"0.6\" />\n",
        "            </g>\n",
        "            <g stroke-width=\"0.3\" stroke=\"#FF9FD7\" class=\"geometry color_341\" fill=\"#FFCBFF\">\n",
        "              <circle cx=\"104.9\" cy=\"45.24\" r=\"0.6\" />\n",
        "            </g>\n",
        "            <g stroke-width=\"0.3\" stroke=\"#360020\" class=\"geometry color_342\" fill=\"#5A0041\">\n",
        "              <circle cx=\"104.9\" cy=\"45.24\" r=\"0.6\" />\n",
        "            </g>\n",
        "            <g stroke-width=\"0.3\" stroke=\"#BD2D00\" class=\"geometry color_343\" fill=\"#EE5800\">\n",
        "              <circle cx=\"104.9\" cy=\"45.24\" r=\"0.6\" />\n",
        "            </g>\n",
        "            <g stroke-width=\"0.3\" stroke=\"#73604D\" class=\"geometry color_344\" fill=\"#9A8672\">\n",
        "              <circle cx=\"104.9\" cy=\"45.24\" r=\"0.6\" />\n",
        "            </g>\n",
        "            <g stroke-width=\"0.3\" stroke=\"#002400\" class=\"geometry color_345\" fill=\"#004119\">\n",
        "              <circle cx=\"104.9\" cy=\"45.24\" r=\"0.6\" />\n",
        "            </g>\n",
        "            <g stroke-width=\"0.3\" stroke=\"#584595\" class=\"geometry color_346\" fill=\"#8069BE\">\n",
        "              <circle cx=\"104.9\" cy=\"45.24\" r=\"0.6\" />\n",
        "            </g>\n",
        "            <g stroke-width=\"0.3\" stroke=\"#BB9600\" class=\"geometry color_347\" fill=\"#EABE00\">\n",
        "              <circle cx=\"104.9\" cy=\"45.24\" r=\"0.6\" />\n",
        "            </g>\n",
        "            <g stroke-width=\"0.3\" stroke=\"#6E0000\" class=\"geometry color_348\" fill=\"#980000\">\n",
        "              <circle cx=\"104.9\" cy=\"45.24\" r=\"0.6\" />\n",
        "            </g>\n",
        "            <g stroke-width=\"0.3\" stroke=\"#000003\" class=\"geometry color_349\" fill=\"#001826\">\n",
        "              <circle cx=\"104.9\" cy=\"45.24\" r=\"0.6\" />\n",
        "            </g>\n",
        "            <g stroke-width=\"0.3\" stroke=\"#28333C\" class=\"geometry color_350\" fill=\"#4A565F\">\n",
        "              <circle cx=\"104.9\" cy=\"45.24\" r=\"0.6\" />\n",
        "            </g>\n",
        "            <g stroke-width=\"0.3\" stroke=\"#A3BCFF\" class=\"geometry color_351\" fill=\"#CFE6FF\">\n",
        "              <circle cx=\"104.9\" cy=\"45.24\" r=\"0.6\" />\n",
        "            </g>\n",
        "            <g stroke-width=\"0.3\" stroke=\"#002079\" class=\"geometry color_352\" fill=\"#003DA1\">\n",
        "              <circle cx=\"104.9\" cy=\"45.24\" r=\"0.6\" />\n",
        "            </g>\n",
        "            <g stroke-width=\"0.3\" stroke=\"#D3DD49\" class=\"geometry color_353\" fill=\"#FFFF73\">\n",
        "              <circle cx=\"104.9\" cy=\"45.24\" r=\"0.6\" />\n",
        "            </g>\n",
        "            <g stroke-width=\"0.3\" stroke=\"#4A0000\" class=\"geometry color_354\" fill=\"#5B0000\">\n",
        "              <circle cx=\"104.9\" cy=\"45.24\" r=\"0.6\" />\n",
        "            </g>\n",
        "            <g stroke-width=\"0.3\" stroke=\"#9C9E5C\" class=\"geometry color_355\" fill=\"#C6C682\">\n",
        "              <circle cx=\"104.9\" cy=\"45.24\" r=\"0.6\" />\n",
        "            </g>\n",
        "            <g stroke-width=\"0.3\" stroke=\"#9899A6\" class=\"geometry color_356\" fill=\"#C0C2CF\">\n",
        "              <circle cx=\"104.9\" cy=\"45.24\" r=\"0.6\" />\n",
        "            </g>\n",
        "            <g stroke-width=\"0.3\" stroke=\"#ED7581\" class=\"geometry color_357\" fill=\"#FF9EA8\">\n",
        "              <circle cx=\"104.9\" cy=\"45.24\" r=\"0.6\" />\n",
        "            </g>\n",
        "            <g stroke-width=\"0.3\" stroke=\"#6A2B55\" class=\"geometry color_358\" fill=\"#914F7A\">\n",
        "              <circle cx=\"104.9\" cy=\"45.24\" r=\"0.6\" />\n",
        "            </g>\n",
        "            <g stroke-width=\"0.3\" stroke=\"#193A00\" class=\"geometry color_359\" fill=\"#3C5D16\">\n",
        "              <circle cx=\"104.9\" cy=\"45.24\" r=\"0.6\" />\n",
        "            </g>\n",
        "            <g stroke-width=\"0.3\" stroke=\"#0E1326\" class=\"geometry color_360\" fill=\"#2E3248\">\n",
        "              <circle cx=\"104.9\" cy=\"45.24\" r=\"0.6\" />\n",
        "            </g>\n",
        "            <g stroke-width=\"0.3\" stroke=\"#007691\" class=\"geometry color_361\" fill=\"#009DBA\">\n",
        "              <circle cx=\"104.9\" cy=\"45.24\" r=\"0.6\" />\n",
        "            </g>\n",
        "            <g stroke-width=\"0.3\" stroke=\"#FFC03E\" class=\"geometry color_362\" fill=\"#FFEA69\">\n",
        "              <circle cx=\"104.9\" cy=\"45.24\" r=\"0.6\" />\n",
        "            </g>\n",
        "            <g stroke-width=\"0.3\" stroke=\"#001600\" class=\"geometry color_363\" fill=\"#002C12\">\n",
        "              <circle cx=\"104.9\" cy=\"45.24\" r=\"0.6\" />\n",
        "            </g>\n",
        "            <g stroke-width=\"0.3\" stroke=\"#00694E\" class=\"geometry color_364\" fill=\"#009273\">\n",
        "              <circle cx=\"104.9\" cy=\"45.24\" r=\"0.6\" />\n",
        "            </g>\n",
        "            <g stroke-width=\"0.3\" stroke=\"#000000\" class=\"geometry color_365\" fill=\"#1D0000\">\n",
        "              <circle cx=\"104.9\" cy=\"45.24\" r=\"0.6\" />\n",
        "            </g>\n",
        "            <g stroke-width=\"0.3\" stroke=\"#003AB1\" class=\"geometry color_366\" fill=\"#005BDB\">\n",
        "              <circle cx=\"104.9\" cy=\"45.24\" r=\"0.6\" />\n",
        "            </g>\n",
        "            <g stroke-width=\"0.3\" stroke=\"#D05EAA\" class=\"geometry color_367\" fill=\"#FC87D4\">\n",
        "              <circle cx=\"104.9\" cy=\"45.24\" r=\"0.6\" />\n",
        "            </g>\n",
        "            <g stroke-width=\"0.3\" stroke=\"#3F7003\" class=\"geometry color_368\" fill=\"#679731\">\n",
        "              <circle cx=\"104.9\" cy=\"45.24\" r=\"0.6\" />\n",
        "            </g>\n",
        "            <g stroke-width=\"0.3\" stroke=\"#3D584B\" class=\"geometry color_369\" fill=\"#617D6F\">\n",
        "              <circle cx=\"104.9\" cy=\"45.24\" r=\"0.6\" />\n",
        "            </g>\n",
        "            <g stroke-width=\"0.3\" stroke=\"#009470\" class=\"geometry color_370\" fill=\"#00C096\">\n",
        "              <circle cx=\"104.9\" cy=\"45.24\" r=\"0.6\" />\n",
        "            </g>\n",
        "            <g stroke-width=\"0.3\" stroke=\"#B00055\" class=\"geometry color_371\" fill=\"#DE287A\">\n",
        "              <circle cx=\"104.9\" cy=\"45.24\" r=\"0.6\" />\n",
        "            </g>\n",
        "            <g stroke-width=\"0.3\" stroke=\"#1D120A\" class=\"geometry color_372\" fill=\"#3D312B\">\n",
        "              <circle cx=\"104.9\" cy=\"45.24\" r=\"0.6\" />\n",
        "            </g>\n",
        "            <g stroke-width=\"0.3\" stroke=\"#00166A\" class=\"geometry color_373\" fill=\"#003291\">\n",
        "              <circle cx=\"104.9\" cy=\"45.24\" r=\"0.6\" />\n",
        "            </g>\n",
        "            <g stroke-width=\"0.3\" stroke=\"#F77323\" class=\"geometry color_374\" fill=\"#FF9C4C\">\n",
        "              <circle cx=\"104.9\" cy=\"45.24\" r=\"0.6\" />\n",
        "            </g>\n",
        "            <g stroke-width=\"0.3\" stroke=\"#E3B7FF\" class=\"geometry color_375\" fill=\"#FFE1FF\">\n",
        "              <circle cx=\"104.9\" cy=\"45.24\" r=\"0.6\" />\n",
        "            </g>\n",
        "            <g stroke-width=\"0.3\" stroke=\"#B7001C\" class=\"geometry color_376\" fill=\"#EA003A\">\n",
        "              <circle cx=\"104.9\" cy=\"45.24\" r=\"0.6\" />\n",
        "            </g>\n",
        "            <g stroke-width=\"0.3\" stroke=\"#6D0019\" class=\"geometry color_377\" fill=\"#9C0037\">\n",
        "              <circle cx=\"104.9\" cy=\"45.24\" r=\"0.6\" />\n",
        "            </g>\n",
        "            <g stroke-width=\"0.3\" stroke=\"#8F6D6E\" class=\"geometry color_378\" fill=\"#B79395\">\n",
        "              <circle cx=\"104.9\" cy=\"45.24\" r=\"0.6\" />\n",
        "            </g>\n",
        "            <g stroke-width=\"0.3\" stroke=\"#00C5E7\" class=\"geometry color_379\" fill=\"#00F0FF\">\n",
        "              <circle cx=\"104.9\" cy=\"45.24\" r=\"0.6\" />\n",
        "            </g>\n",
        "            <g stroke-width=\"0.3\" stroke=\"#008EFF\" class=\"geometry color_380\" fill=\"#00B6FF\">\n",
        "              <circle cx=\"104.9\" cy=\"45.24\" r=\"0.6\" />\n",
        "            </g>\n",
        "            <g stroke-width=\"0.3\" stroke=\"#887337\" class=\"geometry color_381\" fill=\"#B19A5C\">\n",
        "              <circle cx=\"104.9\" cy=\"45.24\" r=\"0.6\" />\n",
        "            </g>\n",
        "            <g stroke-width=\"0.3\" stroke=\"#00F558\" class=\"geometry color_382\" fill=\"#5AFF82\">\n",
        "              <circle cx=\"104.9\" cy=\"45.24\" r=\"0.6\" />\n",
        "            </g>\n",
        "            <g stroke-width=\"0.3\" stroke=\"#FF538E\" class=\"geometry color_383\" fill=\"#FF88B5\">\n",
        "              <circle cx=\"104.9\" cy=\"45.24\" r=\"0.6\" />\n",
        "            </g>\n",
        "            <g stroke-width=\"0.3\" stroke=\"#557C7C\" class=\"geometry color_384\" fill=\"#7BA3A3\">\n",
        "              <circle cx=\"104.9\" cy=\"45.24\" r=\"0.6\" />\n",
        "            </g>\n",
        "            <g stroke-width=\"0.3\" stroke=\"#8D00A8\" class=\"geometry color_385\" fill=\"#B83FD2\">\n",
        "              <circle cx=\"104.9\" cy=\"45.24\" r=\"0.6\" />\n",
        "            </g>\n",
        "            <g stroke-width=\"0.3\" stroke=\"#5A44F0\" class=\"geometry color_386\" fill=\"#8B6AFF\">\n",
        "              <circle cx=\"104.9\" cy=\"45.24\" r=\"0.6\" />\n",
        "            </g>\n",
        "            <g stroke-width=\"0.3\" stroke=\"#FF302C\" class=\"geometry color_387\" fill=\"#FF6450\">\n",
        "              <circle cx=\"104.9\" cy=\"45.24\" r=\"0.6\" />\n",
        "            </g>\n",
        "            <g stroke-width=\"0.3\" stroke=\"#42006A\" class=\"geometry color_388\" fill=\"#6E0092\">\n",
        "              <circle cx=\"104.9\" cy=\"45.24\" r=\"0.6\" />\n",
        "            </g>\n",
        "            <g stroke-width=\"0.3\" stroke=\"#E3D0CD\" class=\"geometry color_389\" fill=\"#FFFBF7\">\n",
        "              <circle cx=\"104.9\" cy=\"45.24\" r=\"0.6\" />\n",
        "            </g>\n",
        "            <g stroke-width=\"0.3\" stroke=\"#004FB6\" class=\"geometry color_390\" fill=\"#3373E1\">\n",
        "              <circle cx=\"104.9\" cy=\"45.24\" r=\"0.6\" />\n",
        "            </g>\n",
        "            <g stroke-width=\"0.3\" stroke=\"#A11C19\" class=\"geometry color_391\" fill=\"#CF493A\">\n",
        "              <circle cx=\"104.9\" cy=\"45.24\" r=\"0.6\" />\n",
        "            </g>\n",
        "            <g stroke-width=\"0.3\" stroke=\"#72473F\" class=\"geometry color_392\" fill=\"#9A6C63\">\n",
        "              <circle cx=\"104.9\" cy=\"45.24\" r=\"0.6\" />\n",
        "            </g>\n",
        "            <g stroke-width=\"0.3\" stroke=\"#6E3100\" class=\"geometry color_393\" fill=\"#995500\">\n",
        "              <circle cx=\"104.9\" cy=\"45.24\" r=\"0.6\" />\n",
        "            </g>\n",
        "            <g stroke-width=\"0.3\" stroke=\"#33331E\" class=\"geometry color_394\" fill=\"#56553E\">\n",
        "              <circle cx=\"104.9\" cy=\"45.24\" r=\"0.6\" />\n",
        "            </g>\n",
        "            <g stroke-width=\"0.3\" stroke=\"#0096D5\" class=\"geometry color_395\" fill=\"#00C0FF\">\n",
        "              <circle cx=\"104.9\" cy=\"45.24\" r=\"0.6\" />\n",
        "            </g>\n",
        "            <g stroke-width=\"0.3\" stroke=\"#002D31\" class=\"geometry color_396\" fill=\"#004754\">\n",
        "              <circle cx=\"104.9\" cy=\"45.24\" r=\"0.6\" />\n",
        "            </g>\n",
        "            <g stroke-width=\"0.3\" stroke=\"#320000\" class=\"geometry color_397\" fill=\"#471700\">\n",
        "              <circle cx=\"104.9\" cy=\"45.24\" r=\"0.6\" />\n",
        "            </g>\n",
        "            <g stroke-width=\"0.3\" stroke=\"#340000\" class=\"geometry color_398\" fill=\"#422000\">\n",
        "              <circle cx=\"104.9\" cy=\"45.24\" r=\"0.6\" />\n",
        "            </g>\n",
        "            <g stroke-width=\"0.3\" stroke=\"#524000\" class=\"geometry color_399\" fill=\"#7A6300\">\n",
        "              <circle cx=\"104.9\" cy=\"45.24\" r=\"0.6\" />\n",
        "            </g>\n",
        "            <g stroke-width=\"0.3\" stroke=\"#00FECE\" class=\"geometry color_400\" fill=\"#00FFF8\">\n",
        "              <circle cx=\"104.9\" cy=\"45.24\" r=\"0.6\" />\n",
        "            </g>\n",
        "            <g stroke-width=\"0.3\" stroke=\"#000000\" class=\"geometry color_401\" fill=\"#000816\">\n",
        "              <circle cx=\"104.9\" cy=\"45.24\" r=\"0.6\" />\n",
        "            </g>\n",
        "          </g>\n",
        "        </g>\n",
        "      </g>\n",
        "      <g clip-path=\"url(#clippath3)\">\n",
        "      </g>\n",
        "    </g>\n",
        "  </g>\n",
        "</g>\n",
        "<defs>\n",
        "<clipPath id=\"clippath1\">\n",
        "  <path d=\"M19.09,5 L 115 5 115 60.79 19.09 60.79\" />\n",
        "</clipPath\n",
        "><clipPath id=\"clippath2\">\n",
        "  <path d=\"M19.09,5 L 115 5 115 60.79 19.09 60.79\" />\n",
        "</clipPath\n",
        "><clipPath id=\"clippath3\">\n",
        "  <path d=\"M19.09,5 L 115 5 115 60.79 19.09 60.79\" />\n",
        "</clipPath\n",
        "></defs>\n",
        "</svg>\n"
       ],
       "text": [
        "Plot(...)"
       ]
      }
     ],
     "prompt_number": 6
    },
    {
     "cell_type": "markdown",
     "metadata": {},
     "source": [
      "It is easy to normalize the perceptual color in the xyY coordinate system."
     ]
    },
    {
     "cell_type": "code",
     "collapsed": false,
     "input": [
      "#Convert XYZ to normalized xyY (with luminosity Y=1.0)\n",
      "function normalize0(c::XYZ)\n",
      "    d=convert(xyY, c)\n",
      "    xyY(d.x, d.y, 1.0)\n",
      "end\n",
      "\n",
      "#Convolution with flat power spectrum\n",
      "mapreduce(cie_color_match, +, 380:780) |> normalize0"
     ],
     "language": "python",
     "metadata": {},
     "outputs": [
      {
       "metadata": {},
       "output_type": "pyout",
       "prompt_number": 7,
       "svg": [
        "<?xml version\"1.0\" encoding=\"UTF-8\"?>\n",
        "<!DOCTYPE svg PUBLIC \"-//W3C//DTD SVG 1.1//EN\"\n",
        " \"http://www.w3.org/Graphics/SVG/1.1/DTD/svg11.dtd\">\n",
        "<svg xmlns=\"http://www.w3.org/2000/svg\" version=\"1.1\"\n",
        "     width=\"25mm\" height=\"25mm\" viewBox=\"0 0 1 1\">\n",
        "     <rect width=\"1\" height=\"1\"\n",
        "           fill=\"#FFF9F4\" stroke=\"none\"/>\n",
        "</svg>\n"
       ],
       "text": [
        "xyY(0.333341305376744,0.33334548738527936,1.0)"
       ]
      }
     ],
     "prompt_number": 7
    },
    {
     "cell_type": "markdown",
     "metadata": {},
     "source": [
      "Oops, this isn't white. What's going on?\n",
      "\n",
      "Turns out that this is a white point issue. The definition I wanted turns out to be the E white point (`Color.WP_E`), whereas the CIE standard uses a different default white point (`Color.WP_DEFAULT`), which is the D65 white point  (`Color.WP_D65`, the 'noon daylight' standard used by most displays). Conveniently, `Color.jl` provides `Color.whitebalance` to correct for the difference in white points. So let's try this again."
     ]
    },
    {
     "cell_type": "code",
     "collapsed": false,
     "input": [
      "#Convert XYZ to normalized xyY with white balancing\n",
      "function normalize(c::XYZ; docorrect::Bool=true)\n",
      "    d = convert(xyY, docorrect ?\n",
      "      Color.whitebalance(c, Color.WP_E, Color.WP_DEFAULT) : c)\n",
      "    xyY(d.x, d.y, 1.0)\n",
      "end\n",
      "\n",
      "#Convolution with flat power spectrum\n",
      "mapreduce(cie_color_match, +, 380:780) |> normalize"
     ],
     "language": "python",
     "metadata": {},
     "outputs": [
      {
       "metadata": {},
       "output_type": "pyout",
       "prompt_number": 8,
       "svg": [
        "<?xml version\"1.0\" encoding=\"UTF-8\"?>\n",
        "<!DOCTYPE svg PUBLIC \"-//W3C//DTD SVG 1.1//EN\"\n",
        " \"http://www.w3.org/Graphics/SVG/1.1/DTD/svg11.dtd\">\n",
        "<svg xmlns=\"http://www.w3.org/2000/svg\" version=\"1.1\"\n",
        "     width=\"25mm\" height=\"25mm\" viewBox=\"0 0 1 1\">\n",
        "     <rect width=\"1\" height=\"1\"\n",
        "           fill=\"#FFFFFF\" stroke=\"none\"/>\n",
        "</svg>\n"
       ],
       "text": [
        "xyY(0.3127342289058343,0.32903596264906737,1.0)"
       ]
      }
     ],
     "prompt_number": 8
    },
    {
     "cell_type": "markdown",
     "metadata": {},
     "source": [
      "Ok, this looks white now. We're ready to start visualizing some physical data!"
     ]
    },
    {
     "cell_type": "markdown",
     "metadata": {},
     "source": [
      "## Blackbody radiation"
     ]
    },
    {
     "cell_type": "markdown",
     "metadata": {},
     "source": [
      "Perhaps the easiest physically relevant power spectrum to look at is that of blackbody radiation, which is described by Planck's law:\n",
      "\n",
      "$$ B_\\lambda (T) = \\frac{2hc^2}{\\lambda^5}\n",
      "     \\frac{1}{\\left(\\exp\\left(\\frac{hc}{kT}\\right) - 1\\right)}\n",
      "$$\n",
      "\n",
      "The function definition below makes use of the [SIUnits.jl](http://github.com/Keno/SIUnits.jl) package for defining unitful physical quantities."
     ]
    },
    {
     "cell_type": "code",
     "collapsed": false,
     "input": [
      "#Power spectrum for blackbody using Planck's law \n",
      "const hc_k  = 0.0143877696*K*m\n",
      "const twohc\u00b2= 1.19104287e-16*Watt*m^2\n",
      "planck{S1<:Real, S2<:Real}(\u03bb::quantity(S1,Meter); T::quantity(S2,Kelvin)=5778.0K) =\n",
      "    \u03bb\u22640m ? zero(\u03bb)*Watt*m^-4 : twohc\u00b2*\u03bb^-5.0/(exp(hc_k/(\u03bb*T))-1)\n",
      "\n",
      "Trange = 1000K:1000K:9000K\n",
      "plot([\u03bb->planck(\u03bb*nm,T=T)*(1e-9m)^3/W for T in Trange], 0, 2000,\n",
      "  Guide.xlabel(\"\u03bb (nm)\"),\n",
      "  Guide.ylabel(\"spectral radiance, B (W\u00b7sr\u207b\u00b9\u00b7nm\u207b\u00b3)\"),\n",
      "  color=[string(T) for T in Trange],\n",
      ")"
     ],
     "language": "python",
     "metadata": {},
     "outputs": [
      {
       "html": [
        "<div id=\"gadflyplot-XRpfUttvAtQRGan4vaVh\"></div>\n",
        "<script>\n",
        "(function (module) {\n",
        "function draw_with_data(data, parent_id) {\n",
        "  var g = d3.select(parent_id)\n",
        "            .append(\"svg\")\n",
        "              .attr(\"width\", \"120mm\")\n",
        "              .attr(\"height\", \"80mm\")\n",
        "              .attr(\"viewBox\", \"0 0 120 80\")\n",
        "              .attr(\"stroke-width\", \"0.5\")\n",
        "              .attr(\"style\", \"stroke:black;fill:black\");\n",
        "  g.append(\"defs\");\n",
        "  var ctx = {\n",
        "      \"scale\": 1.0,\n",
        "      \"tx\": 0.0,\n",
        "      \"ty\": 0.0\n",
        "  };\n",
        "(function (g) {\n",
        "  g.attr(\"stroke\", \"none\")\n",
        "   .attr(\"fill\", \"#000000\")\n",
        "   .attr(\"stroke-width\", 0.3)\n",
        "   .attr(\"font-family\", \"Helvetic,Arial,sans\")\n",
        "   .style(\"font-size\", \"3.88px\");\n",
        "  (function (g) {\n",
        "    g.attr(\"class\", \"plotroot xscalable yscalable\");\n",
        "    (function (g) {\n",
        "      g.attr(\"stroke\", \"none\")\n",
        "       .attr(\"fill\", \"#4C404B\")\n",
        "       .attr(\"font-family\", \"'PT Sans','Helvetica Neue','Helvetica',sans-serif\")\n",
        "       .style(\"font-size\", \"3.18px\")\n",
        "       .attr(\"class\", \"guide ylabels\");\n",
        "      g.append(\"svg:text\")\n",
        "         .attr(\"x\", 28)\n",
        "         .attr(\"y\", 17.1)\n",
        "         .attr(\"text-anchor\", \"end\")\n",
        "         .style(\"dominant-baseline\", \"central\")\n",
        "         .call(function(text) {\n",
        "     text.append(\"tspan\").text(\"2.0\u00d710\")\n",
        "         .append(\"tspan\")\n",
        "           .attr(\"dy\", \"-1ex\")\n",
        "         .call(function(text) {\n",
        "           text.text(\"-13\");\n",
        "         })\n",
        ".append(\"tspan\").attr(\"font-style\", \"normal\")         ;\n",
        "   })\n",
        ";\n",
        "      g.append(\"svg:text\")\n",
        "         .attr(\"x\", 28)\n",
        "         .attr(\"y\", 48.68)\n",
        "         .attr(\"text-anchor\", \"end\")\n",
        "         .style(\"dominant-baseline\", \"central\")\n",
        "         .call(function(text) {\n",
        "     text.append(\"tspan\").text(\"5.0\u00d710\")\n",
        "         .append(\"tspan\")\n",
        "           .attr(\"dy\", \"-1ex\")\n",
        "         .call(function(text) {\n",
        "           text.text(\"-14\");\n",
        "         })\n",
        ".append(\"tspan\").attr(\"font-style\", \"normal\")         ;\n",
        "   })\n",
        ";\n",
        "      (function (g) {\n",
        "        g.attr(\"visibility\", \"hidden\");\n",
        "        g.append(\"svg:text\")\n",
        "           .attr(\"x\", 28)\n",
        "           .attr(\"y\", -25)\n",
        "           .attr(\"text-anchor\", \"end\")\n",
        "           .style(\"dominant-baseline\", \"central\")\n",
        "            .call(function(text) {\n",
        "      text.append(\"tspan\").text(\"4.0\u00d710\")\n",
        "          .append(\"tspan\")\n",
        "            .attr(\"dy\", \"-1ex\")\n",
        "          .call(function(text) {\n",
        "            text.text(\"-13\");\n",
        "          })\n",
        ".append(\"tspan\").attr(\"font-style\", \"normal\")          ;\n",
        "    })\n",
        ";\n",
        "      }(g.append(\"g\")));\n",
        "      (function (g) {\n",
        "        g.attr(\"visibility\", \"hidden\");\n",
        "        g.append(\"svg:text\")\n",
        "           .attr(\"x\", 28)\n",
        "           .attr(\"y\", 122.36)\n",
        "           .attr(\"text-anchor\", \"end\")\n",
        "           .style(\"dominant-baseline\", \"central\")\n",
        "            .call(function(text) {\n",
        "      text.append(\"tspan\").text(\"-3.0\u00d710\")\n",
        "          .append(\"tspan\")\n",
        "            .attr(\"dy\", \"-1ex\")\n",
        "          .call(function(text) {\n",
        "            text.text(\"-13\");\n",
        "          })\n",
        ".append(\"tspan\").attr(\"font-style\", \"normal\")          ;\n",
        "    })\n",
        ";\n",
        "      }(g.append(\"g\")));\n",
        "      (function (g) {\n",
        "        g.attr(\"visibility\", \"hidden\");\n",
        "        g.append(\"svg:text\")\n",
        "           .attr(\"x\", 28)\n",
        "           .attr(\"y\", -3.95)\n",
        "           .attr(\"text-anchor\", \"end\")\n",
        "           .style(\"dominant-baseline\", \"central\")\n",
        "            .call(function(text) {\n",
        "      text.append(\"tspan\").text(\"3.0\u00d710\")\n",
        "          .append(\"tspan\")\n",
        "            .attr(\"dy\", \"-1ex\")\n",
        "          .call(function(text) {\n",
        "            text.text(\"-13\");\n",
        "          })\n",
        ".append(\"tspan\").attr(\"font-style\", \"normal\")          ;\n",
        "    })\n",
        ";\n",
        "      }(g.append(\"g\")));\n",
        "      (function (g) {\n",
        "        g.attr(\"visibility\", \"hidden\");\n",
        "        g.append(\"svg:text\")\n",
        "           .attr(\"x\", 28)\n",
        "           .attr(\"y\", -14.47)\n",
        "           .attr(\"text-anchor\", \"end\")\n",
        "           .style(\"dominant-baseline\", \"central\")\n",
        "            .call(function(text) {\n",
        "      text.append(\"tspan\").text(\"3.5\u00d710\")\n",
        "          .append(\"tspan\")\n",
        "            .attr(\"dy\", \"-1ex\")\n",
        "          .call(function(text) {\n",
        "            text.text(\"-13\");\n",
        "          })\n",
        ".append(\"tspan\").attr(\"font-style\", \"normal\")          ;\n",
        "    })\n",
        ";\n",
        "      }(g.append(\"g\")));\n",
        "      (function (g) {\n",
        "        g.attr(\"visibility\", \"hidden\");\n",
        "        g.append(\"svg:text\")\n",
        "           .attr(\"x\", 28)\n",
        "           .attr(\"y\", -35.52)\n",
        "           .attr(\"text-anchor\", \"end\")\n",
        "           .style(\"dominant-baseline\", \"central\")\n",
        "            .call(function(text) {\n",
        "      text.append(\"tspan\").text(\"4.5\u00d710\")\n",
        "          .append(\"tspan\")\n",
        "            .attr(\"dy\", \"-1ex\")\n",
        "          .call(function(text) {\n",
        "            text.text(\"-13\");\n",
        "          })\n",
        ".append(\"tspan\").attr(\"font-style\", \"normal\")          ;\n",
        "    })\n",
        ";\n",
        "      }(g.append(\"g\")));\n",
        "      g.append(\"svg:text\")\n",
        "         .attr(\"x\", 28)\n",
        "         .attr(\"y\", 27.63)\n",
        "         .attr(\"text-anchor\", \"end\")\n",
        "         .style(\"dominant-baseline\", \"central\")\n",
        "         .call(function(text) {\n",
        "     text.append(\"tspan\").text(\"1.5\u00d710\")\n",
        "         .append(\"tspan\")\n",
        "           .attr(\"dy\", \"-1ex\")\n",
        "         .call(function(text) {\n",
        "           text.text(\"-13\");\n",
        "         })\n",
        ".append(\"tspan\").attr(\"font-style\", \"normal\")         ;\n",
        "   })\n",
        ";\n",
        "      (function (g) {\n",
        "        g.attr(\"visibility\", \"hidden\");\n",
        "        g.append(\"svg:text\")\n",
        "           .attr(\"x\", 28)\n",
        "           .attr(\"y\", 111.84)\n",
        "           .attr(\"text-anchor\", \"end\")\n",
        "           .style(\"dominant-baseline\", \"central\")\n",
        "            .call(function(text) {\n",
        "      text.append(\"tspan\").text(\"-2.5\u00d710\")\n",
        "          .append(\"tspan\")\n",
        "            .attr(\"dy\", \"-1ex\")\n",
        "          .call(function(text) {\n",
        "            text.text(\"-13\");\n",
        "          })\n",
        ".append(\"tspan\").attr(\"font-style\", \"normal\")          ;\n",
        "    })\n",
        ";\n",
        "      }(g.append(\"g\")));\n",
        "      g.append(\"svg:text\")\n",
        "         .attr(\"x\", 28)\n",
        "         .attr(\"y\", 59.21)\n",
        "         .attr(\"text-anchor\", \"end\")\n",
        "         .style(\"dominant-baseline\", \"central\")\n",
        "         .call(function(text) {\n",
        "     text.text(\"0\");\n",
        "   })\n",
        ";\n",
        "      (function (g) {\n",
        "        g.attr(\"visibility\", \"hidden\");\n",
        "        g.append(\"svg:text\")\n",
        "           .attr(\"x\", 28)\n",
        "           .attr(\"y\", 101.31)\n",
        "           .attr(\"text-anchor\", \"end\")\n",
        "           .style(\"dominant-baseline\", \"central\")\n",
        "            .call(function(text) {\n",
        "      text.append(\"tspan\").text(\"-2.0\u00d710\")\n",
        "          .append(\"tspan\")\n",
        "            .attr(\"dy\", \"-1ex\")\n",
        "          .call(function(text) {\n",
        "            text.text(\"-13\");\n",
        "          })\n",
        ".append(\"tspan\").attr(\"font-style\", \"normal\")          ;\n",
        "    })\n",
        ";\n",
        "      }(g.append(\"g\")));\n",
        "      (function (g) {\n",
        "        g.attr(\"visibility\", \"hidden\");\n",
        "        g.append(\"svg:text\")\n",
        "           .attr(\"x\", 28)\n",
        "           .attr(\"y\", -56.58)\n",
        "           .attr(\"text-anchor\", \"end\")\n",
        "           .style(\"dominant-baseline\", \"central\")\n",
        "            .call(function(text) {\n",
        "      text.append(\"tspan\").text(\"5.5\u00d710\")\n",
        "          .append(\"tspan\")\n",
        "            .attr(\"dy\", \"-1ex\")\n",
        "          .call(function(text) {\n",
        "            text.text(\"-13\");\n",
        "          })\n",
        ".append(\"tspan\").attr(\"font-style\", \"normal\")          ;\n",
        "    })\n",
        ";\n",
        "      }(g.append(\"g\")));\n",
        "      (function (g) {\n",
        "        g.attr(\"visibility\", \"hidden\");\n",
        "        g.append(\"svg:text\")\n",
        "           .attr(\"x\", 28)\n",
        "           .attr(\"y\", -46.05)\n",
        "           .attr(\"text-anchor\", \"end\")\n",
        "           .style(\"dominant-baseline\", \"central\")\n",
        "            .call(function(text) {\n",
        "      text.append(\"tspan\").text(\"5.0\u00d710\")\n",
        "          .append(\"tspan\")\n",
        "            .attr(\"dy\", \"-1ex\")\n",
        "          .call(function(text) {\n",
        "            text.text(\"-13\");\n",
        "          })\n",
        ".append(\"tspan\").attr(\"font-style\", \"normal\")          ;\n",
        "    })\n",
        ";\n",
        "      }(g.append(\"g\")));\n",
        "      (function (g) {\n",
        "        g.attr(\"visibility\", \"hidden\");\n",
        "        g.append(\"svg:text\")\n",
        "           .attr(\"x\", 28)\n",
        "           .attr(\"y\", 90.79)\n",
        "           .attr(\"text-anchor\", \"end\")\n",
        "           .style(\"dominant-baseline\", \"central\")\n",
        "            .call(function(text) {\n",
        "      text.append(\"tspan\").text(\"-1.5\u00d710\")\n",
        "          .append(\"tspan\")\n",
        "            .attr(\"dy\", \"-1ex\")\n",
        "          .call(function(text) {\n",
        "            text.text(\"-13\");\n",
        "          })\n",
        ".append(\"tspan\").attr(\"font-style\", \"normal\")          ;\n",
        "    })\n",
        ";\n",
        "      }(g.append(\"g\")));\n",
        "      (function (g) {\n",
        "        g.attr(\"visibility\", \"hidden\");\n",
        "        g.append(\"svg:text\")\n",
        "           .attr(\"x\", 28)\n",
        "           .attr(\"y\", 80.26)\n",
        "           .attr(\"text-anchor\", \"end\")\n",
        "           .style(\"dominant-baseline\", \"central\")\n",
        "            .call(function(text) {\n",
        "      text.append(\"tspan\").text(\"-1.0\u00d710\")\n",
        "          .append(\"tspan\")\n",
        "            .attr(\"dy\", \"-1ex\")\n",
        "          .call(function(text) {\n",
        "            text.text(\"-13\");\n",
        "          })\n",
        ".append(\"tspan\").attr(\"font-style\", \"normal\")          ;\n",
        "    })\n",
        ";\n",
        "      }(g.append(\"g\")));\n",
        "      g.append(\"svg:text\")\n",
        "         .attr(\"x\", 28)\n",
        "         .attr(\"y\", 6.58)\n",
        "         .attr(\"text-anchor\", \"end\")\n",
        "         .style(\"dominant-baseline\", \"central\")\n",
        "         .call(function(text) {\n",
        "     text.append(\"tspan\").text(\"2.5\u00d710\")\n",
        "         .append(\"tspan\")\n",
        "           .attr(\"dy\", \"-1ex\")\n",
        "         .call(function(text) {\n",
        "           text.text(\"-13\");\n",
        "         })\n",
        ".append(\"tspan\").attr(\"font-style\", \"normal\")         ;\n",
        "   })\n",
        ";\n",
        "      g.append(\"svg:text\")\n",
        "         .attr(\"x\", 28)\n",
        "         .attr(\"y\", 38.16)\n",
        "         .attr(\"text-anchor\", \"end\")\n",
        "         .style(\"dominant-baseline\", \"central\")\n",
        "         .call(function(text) {\n",
        "     text.append(\"tspan\").text(\"1.0\u00d710\")\n",
        "         .append(\"tspan\")\n",
        "           .attr(\"dy\", \"-1ex\")\n",
        "         .call(function(text) {\n",
        "           text.text(\"-13\");\n",
        "         })\n",
        ".append(\"tspan\").attr(\"font-style\", \"normal\")         ;\n",
        "   })\n",
        ";\n",
        "      (function (g) {\n",
        "        g.attr(\"visibility\", \"hidden\");\n",
        "        g.append(\"svg:text\")\n",
        "           .attr(\"x\", 28)\n",
        "           .attr(\"y\", 69.73)\n",
        "           .attr(\"text-anchor\", \"end\")\n",
        "           .style(\"dominant-baseline\", \"central\")\n",
        "            .call(function(text) {\n",
        "      text.append(\"tspan\").text(\"-5.0\u00d710\")\n",
        "          .append(\"tspan\")\n",
        "            .attr(\"dy\", \"-1ex\")\n",
        "          .call(function(text) {\n",
        "            text.text(\"-14\");\n",
        "          })\n",
        ".append(\"tspan\").attr(\"font-style\", \"normal\")          ;\n",
        "    })\n",
        ";\n",
        "      }(g.append(\"g\")));\n",
        "    }(g.append(\"g\")));\n",
        "    (function (g) {\n",
        "      g.attr(\"stroke\", \"none\")\n",
        "       .attr(\"fill\", \"#362A35\")\n",
        "       .attr(\"font-family\", \"'PT Sans','Helvetica Neue','Helvetica',sans-serif\")\n",
        "       .style(\"font-size\", \"3.88px\");\n",
        "      g.append(\"svg:text\")\n",
        "         .attr(\"x\", 8.26)\n",
        "         .attr(\"y\", 32.89)\n",
        "         .attr(\"text-anchor\", \"middle\")\n",
        "         .style(\"dominant-baseline\", \"central\")\n",
        "         .attr(\"transform\", \"rotate(-90, 8.26, 32.89)\")\n",
        "         .call(function(text) {\n",
        "     text.text(\"spectral radiance, B (W\u00b7sr\u207b\u00b9\u00b7nm\u207b\u00b3)\");\n",
        "   })\n",
        ";\n",
        "    }(g.append(\"g\")));\n",
        "    (function (g) {\n",
        "      g.attr(\"stroke\", \"none\")\n",
        "       .attr(\"fill\", \"#4C404B\")\n",
        "       .attr(\"font-family\", \"'PT Sans','Helvetica Neue','Helvetica',sans-serif\")\n",
        "       .style(\"font-size\", \"3.18px\")\n",
        "       .attr(\"class\", \"guide xlabels\");\n",
        "      (function (g) {\n",
        "        g.attr(\"visibility\", \"hidden\");\n",
        "        g.append(\"svg:text\")\n",
        "           .attr(\"x\", -1.3)\n",
        "           .attr(\"y\", 65.48)\n",
        "           .attr(\"text-anchor\", \"middle\")\n",
        "            .call(function(text) {\n",
        "      text.text(\"-1000\");\n",
        "    })\n",
        ";\n",
        "      }(g.append(\"g\")));\n",
        "      g.append(\"svg:text\")\n",
        "         .attr(\"x\", 79.3)\n",
        "         .attr(\"y\", 65.48)\n",
        "         .attr(\"text-anchor\", \"middle\")\n",
        "         .call(function(text) {\n",
        "     text.text(\"1500\");\n",
        "   })\n",
        ";\n",
        "      (function (g) {\n",
        "        g.attr(\"visibility\", \"hidden\");\n",
        "        g.append(\"svg:text\")\n",
        "           .attr(\"x\", 176.01)\n",
        "           .attr(\"y\", 65.48)\n",
        "           .attr(\"text-anchor\", \"middle\")\n",
        "            .call(function(text) {\n",
        "      text.text(\"4500\");\n",
        "    })\n",
        ";\n",
        "      }(g.append(\"g\")));\n",
        "      g.append(\"svg:text\")\n",
        "         .attr(\"x\", 47.06)\n",
        "         .attr(\"y\", 65.48)\n",
        "         .attr(\"text-anchor\", \"middle\")\n",
        "         .call(function(text) {\n",
        "     text.text(\"500\");\n",
        "   })\n",
        ";\n",
        "      (function (g) {\n",
        "        g.attr(\"visibility\", \"hidden\");\n",
        "        g.append(\"svg:text\")\n",
        "           .attr(\"x\", 127.65)\n",
        "           .attr(\"y\", 65.48)\n",
        "           .attr(\"text-anchor\", \"middle\")\n",
        "            .call(function(text) {\n",
        "      text.text(\"3000\");\n",
        "    })\n",
        ";\n",
        "      }(g.append(\"g\")));\n",
        "      (function (g) {\n",
        "        g.attr(\"visibility\", \"hidden\");\n",
        "        g.append(\"svg:text\")\n",
        "           .attr(\"x\", 159.89)\n",
        "           .attr(\"y\", 65.48)\n",
        "           .attr(\"text-anchor\", \"middle\")\n",
        "            .call(function(text) {\n",
        "      text.text(\"4000\");\n",
        "    })\n",
        ";\n",
        "      }(g.append(\"g\")));\n",
        "      g.append(\"svg:text\")\n",
        "         .attr(\"x\", 95.42)\n",
        "         .attr(\"y\", 65.48)\n",
        "         .attr(\"text-anchor\", \"middle\")\n",
        "         .call(function(text) {\n",
        "     text.text(\"2000\");\n",
        "   })\n",
        ";\n",
        "      g.append(\"svg:text\")\n",
        "         .attr(\"x\", 63.18)\n",
        "         .attr(\"y\", 65.48)\n",
        "         .attr(\"text-anchor\", \"middle\")\n",
        "         .call(function(text) {\n",
        "     text.text(\"1000\");\n",
        "   })\n",
        ";\n",
        "      (function (g) {\n",
        "        g.attr(\"visibility\", \"hidden\");\n",
        "        g.append(\"svg:text\")\n",
        "           .attr(\"x\", -17.42)\n",
        "           .attr(\"y\", 65.48)\n",
        "           .attr(\"text-anchor\", \"middle\")\n",
        "            .call(function(text) {\n",
        "      text.text(\"-1500\");\n",
        "    })\n",
        ";\n",
        "      }(g.append(\"g\")));\n",
        "      (function (g) {\n",
        "        g.attr(\"visibility\", \"hidden\");\n",
        "        g.append(\"svg:text\")\n",
        "           .attr(\"x\", -33.54)\n",
        "           .attr(\"y\", 65.48)\n",
        "           .attr(\"text-anchor\", \"middle\")\n",
        "            .call(function(text) {\n",
        "      text.text(\"-2000\");\n",
        "    })\n",
        ";\n",
        "      }(g.append(\"g\")));\n",
        "      (function (g) {\n",
        "        g.attr(\"visibility\", \"hidden\");\n",
        "        g.append(\"svg:text\")\n",
        "           .attr(\"x\", 14.82)\n",
        "           .attr(\"y\", 65.48)\n",
        "           .attr(\"text-anchor\", \"middle\")\n",
        "            .call(function(text) {\n",
        "      text.text(\"-500\");\n",
        "    })\n",
        ";\n",
        "      }(g.append(\"g\")));\n",
        "      (function (g) {\n",
        "        g.attr(\"visibility\", \"hidden\");\n",
        "        g.append(\"svg:text\")\n",
        "           .attr(\"x\", 143.77)\n",
        "           .attr(\"y\", 65.48)\n",
        "           .attr(\"text-anchor\", \"middle\")\n",
        "            .call(function(text) {\n",
        "      text.text(\"3500\");\n",
        "    })\n",
        ";\n",
        "      }(g.append(\"g\")));\n",
        "      (function (g) {\n",
        "        g.attr(\"visibility\", \"hidden\");\n",
        "        g.append(\"svg:text\")\n",
        "           .attr(\"x\", 111.53)\n",
        "           .attr(\"y\", 65.48)\n",
        "           .attr(\"text-anchor\", \"middle\")\n",
        "            .call(function(text) {\n",
        "      text.text(\"2500\");\n",
        "    })\n",
        ";\n",
        "      }(g.append(\"g\")));\n",
        "      g.append(\"svg:text\")\n",
        "         .attr(\"x\", 30.94)\n",
        "         .attr(\"y\", 65.48)\n",
        "         .attr(\"text-anchor\", \"middle\")\n",
        "         .call(function(text) {\n",
        "     text.text(\"0\");\n",
        "   })\n",
        ";\n",
        "      (function (g) {\n",
        "        g.attr(\"visibility\", \"hidden\");\n",
        "        g.append(\"svg:text\")\n",
        "           .attr(\"x\", -49.66)\n",
        "           .attr(\"y\", 65.48)\n",
        "           .attr(\"text-anchor\", \"middle\")\n",
        "            .call(function(text) {\n",
        "      text.text(\"-2500\");\n",
        "    })\n",
        ";\n",
        "      }(g.append(\"g\")));\n",
        "    }(g.append(\"g\")));\n",
        "    (function (g) {\n",
        "      g.attr(\"stroke\", \"none\")\n",
        "       .attr(\"fill\", \"#362A35\")\n",
        "       .attr(\"font-family\", \"'PT Sans','Helvetica Neue','Helvetica',sans-serif\")\n",
        "       .style(\"font-size\", \"3.88px\");\n",
        "      g.append(\"svg:text\")\n",
        "         .attr(\"x\", 63.18)\n",
        "         .attr(\"y\", 73)\n",
        "         .attr(\"text-anchor\", \"middle\")\n",
        "         .call(function(text) {\n",
        "     text.text(\"\u03bb (nm)\");\n",
        "   })\n",
        ";\n",
        "    }(g.append(\"g\")));\n",
        "    (function (g) {\n",
        "      g.attr(\"stroke\", \"none\")\n",
        "       .attr(\"font-family\", \"'PT Sans','Helvetica Neue','Helvetica',sans-serif\")\n",
        "       .style(\"font-size\", \"3.88px\")\n",
        "       .attr(\"fill\", \"#362A35\");\n",
        "      g.append(\"svg:text\")\n",
        "         .attr(\"x\", 108.17)\n",
        "         .attr(\"y\", 15.02)\n",
        "         .attr(\"text-anchor\", \"middle\")\n",
        "         .call(function(text) {\n",
        "     text.text(\"Color\");\n",
        "   })\n",
        ";\n",
        "    }(g.append(\"g\")));\n",
        "    (function (g) {\n",
        "      g.attr(\"font-family\", \"'PT Sans','Helvetica Neue','Helvetica',sans-serif\")\n",
        "       .style(\"font-size\", \"3.18px\");\n",
        "      (function (g) {\n",
        "        g.attr(\"class\", \"guide color_8000_K_\")\n",
        "         .on(\"click\", guide_toggle_color(\"color_8000_K_\"));\n",
        "        (function (g) {\n",
        "          g.attr(\"fill\", \"#32B44E\")\n",
        "           .attr(\"stroke\", \"#008B28\")\n",
        "           .attr(\"stroke-width\", 0.3);\n",
        "          g.append(\"svg:path\")\n",
        "             .attr(\"d\", \"M99.35,49.89 L 103.05 49.89 103.05 53.59 99.35 53.59 z\");\n",
        "        }(g.append(\"g\")));\n",
        "        (function (g) {\n",
        "          g.attr(\"stroke\", \"none\")\n",
        "           .attr(\"fill\", \"#4C404B\");\n",
        "          g.append(\"svg:text\")\n",
        "             .attr(\"x\", 104.05)\n",
        "             .attr(\"y\", 51.74)\n",
        "             .style(\"dominant-baseline\", \"central\")\n",
        "               .call(function(text) {\n",
        "       text.text(\"8000 K \");\n",
        "     })\n",
        ";\n",
        "        }(g.append(\"g\")));\n",
        "      }(g.append(\"g\")));\n",
        "      (function (g) {\n",
        "        g.attr(\"class\", \"guide color_6000_K_\")\n",
        "         .on(\"click\", guide_toggle_color(\"color_6000_K_\"));\n",
        "        (function (g) {\n",
        "          g.attr(\"fill\", \"#9E9E9E\")\n",
        "           .attr(\"stroke\", \"#777777\")\n",
        "           .attr(\"stroke-width\", 0.3);\n",
        "          g.append(\"svg:path\")\n",
        "             .attr(\"d\", \"M99.35,40.5 L 103.05 40.5 103.05 44.2 99.35 44.2 z\");\n",
        "        }(g.append(\"g\")));\n",
        "        (function (g) {\n",
        "          g.attr(\"stroke\", \"none\")\n",
        "           .attr(\"fill\", \"#4C404B\");\n",
        "          g.append(\"svg:text\")\n",
        "             .attr(\"x\", 104.05)\n",
        "             .attr(\"y\", 42.35)\n",
        "             .style(\"dominant-baseline\", \"central\")\n",
        "               .call(function(text) {\n",
        "       text.text(\"6000 K \");\n",
        "     })\n",
        ";\n",
        "        }(g.append(\"g\")));\n",
        "      }(g.append(\"g\")));\n",
        "      (function (g) {\n",
        "        g.attr(\"class\", \"guide color_4000_K_\")\n",
        "         .on(\"click\", guide_toggle_color(\"color_4000_K_\"));\n",
        "        (function (g) {\n",
        "          g.attr(\"fill\", \"#00E5B2\")\n",
        "           .attr(\"stroke\", \"#00BA8B\")\n",
        "           .attr(\"stroke-width\", 0.3);\n",
        "          g.append(\"svg:path\")\n",
        "             .attr(\"d\", \"M99.35,31.11 L 103.05 31.11 103.05 34.8 99.35 34.8 z\");\n",
        "        }(g.append(\"g\")));\n",
        "        (function (g) {\n",
        "          g.attr(\"stroke\", \"none\")\n",
        "           .attr(\"fill\", \"#4C404B\");\n",
        "          g.append(\"svg:text\")\n",
        "             .attr(\"x\", 104.05)\n",
        "             .attr(\"y\", 32.96)\n",
        "             .style(\"dominant-baseline\", \"central\")\n",
        "               .call(function(text) {\n",
        "       text.text(\"4000 K \");\n",
        "     })\n",
        ";\n",
        "        }(g.append(\"g\")));\n",
        "      }(g.append(\"g\")));\n",
        "      (function (g) {\n",
        "        g.attr(\"class\", \"guide color_2000_K_\")\n",
        "         .on(\"click\", guide_toggle_color(\"color_2000_K_\"));\n",
        "        (function (g) {\n",
        "          g.attr(\"fill\", \"#D4CA3A\")\n",
        "           .attr(\"stroke\", \"#A8A200\")\n",
        "           .attr(\"stroke-width\", 0.3);\n",
        "          g.append(\"svg:path\")\n",
        "             .attr(\"d\", \"M99.35,21.72 L 103.05 21.72 103.05 25.41 99.35 25.41 z\");\n",
        "        }(g.append(\"g\")));\n",
        "        (function (g) {\n",
        "          g.attr(\"stroke\", \"none\")\n",
        "           .attr(\"fill\", \"#4C404B\");\n",
        "          g.append(\"svg:text\")\n",
        "             .attr(\"x\", 104.05)\n",
        "             .attr(\"y\", 23.56)\n",
        "             .style(\"dominant-baseline\", \"central\")\n",
        "               .call(function(text) {\n",
        "       text.text(\"2000 K \");\n",
        "     })\n",
        ";\n",
        "        }(g.append(\"g\")));\n",
        "      }(g.append(\"g\")));\n",
        "      (function (g) {\n",
        "        g.attr(\"class\", \"guide color_1000_K_\")\n",
        "         .on(\"click\", guide_toggle_color(\"color_1000_K_\"));\n",
        "        (function (g) {\n",
        "          g.attr(\"fill\", \"#00BFFF\")\n",
        "           .attr(\"stroke\", \"#0096DD\")\n",
        "           .attr(\"stroke-width\", 0.3);\n",
        "          g.append(\"svg:path\")\n",
        "             .attr(\"d\", \"M99.35,17.02 L 103.05 17.02 103.05 20.72 99.35 20.72 z\");\n",
        "        }(g.append(\"g\")));\n",
        "        (function (g) {\n",
        "          g.attr(\"stroke\", \"none\")\n",
        "           .attr(\"fill\", \"#4C404B\");\n",
        "          g.append(\"svg:text\")\n",
        "             .attr(\"x\", 104.05)\n",
        "             .attr(\"y\", 18.87)\n",
        "             .style(\"dominant-baseline\", \"central\")\n",
        "               .call(function(text) {\n",
        "       text.text(\"1000 K \");\n",
        "     })\n",
        ";\n",
        "        }(g.append(\"g\")));\n",
        "      }(g.append(\"g\")));\n",
        "      (function (g) {\n",
        "        g.attr(\"class\", \"guide color_3000_K_\")\n",
        "         .on(\"click\", guide_toggle_color(\"color_3000_K_\"));\n",
        "        (function (g) {\n",
        "          g.attr(\"fill\", \"#FF5EA0\")\n",
        "           .attr(\"stroke\", \"#DC2C7A\")\n",
        "           .attr(\"stroke-width\", 0.3);\n",
        "          g.append(\"svg:path\")\n",
        "             .attr(\"d\", \"M99.35,26.41 L 103.05 26.41 103.05 30.11 99.35 30.11 z\");\n",
        "        }(g.append(\"g\")));\n",
        "        (function (g) {\n",
        "          g.attr(\"stroke\", \"none\")\n",
        "           .attr(\"fill\", \"#4C404B\");\n",
        "          g.append(\"svg:text\")\n",
        "             .attr(\"x\", 104.05)\n",
        "             .attr(\"y\", 28.26)\n",
        "             .style(\"dominant-baseline\", \"central\")\n",
        "               .call(function(text) {\n",
        "       text.text(\"3000 K \");\n",
        "     })\n",
        ";\n",
        "        }(g.append(\"g\")));\n",
        "      }(g.append(\"g\")));\n",
        "      (function (g) {\n",
        "        g.attr(\"class\", \"guide color_5000_K_\")\n",
        "         .on(\"click\", guide_toggle_color(\"color_5000_K_\"));\n",
        "        (function (g) {\n",
        "          g.attr(\"fill\", \"#F6A6FF\")\n",
        "           .attr(\"stroke\", \"#CA7EF6\")\n",
        "           .attr(\"stroke-width\", 0.3);\n",
        "          g.append(\"svg:path\")\n",
        "             .attr(\"d\", \"M99.35,35.8 L 103.05 35.8 103.05 39.5 99.35 39.5 z\");\n",
        "        }(g.append(\"g\")));\n",
        "        (function (g) {\n",
        "          g.attr(\"stroke\", \"none\")\n",
        "           .attr(\"fill\", \"#4C404B\");\n",
        "          g.append(\"svg:text\")\n",
        "             .attr(\"x\", 104.05)\n",
        "             .attr(\"y\", 37.65)\n",
        "             .style(\"dominant-baseline\", \"central\")\n",
        "               .call(function(text) {\n",
        "       text.text(\"5000 K \");\n",
        "     })\n",
        ";\n",
        "        }(g.append(\"g\")));\n",
        "      }(g.append(\"g\")));\n",
        "      (function (g) {\n",
        "        g.attr(\"class\", \"guide color_7000_K_\")\n",
        "         .on(\"click\", guide_toggle_color(\"color_7000_K_\"));\n",
        "        (function (g) {\n",
        "          g.attr(\"fill\", \"#FF928B\")\n",
        "           .attr(\"stroke\", \"#FF6765\")\n",
        "           .attr(\"stroke-width\", 0.3);\n",
        "          g.append(\"svg:path\")\n",
        "             .attr(\"d\", \"M99.35,45.2 L 103.05 45.2 103.05 48.89 99.35 48.89 z\");\n",
        "        }(g.append(\"g\")));\n",
        "        (function (g) {\n",
        "          g.attr(\"stroke\", \"none\")\n",
        "           .attr(\"fill\", \"#4C404B\");\n",
        "          g.append(\"svg:text\")\n",
        "             .attr(\"x\", 104.05)\n",
        "             .attr(\"y\", 47.04)\n",
        "             .style(\"dominant-baseline\", \"central\")\n",
        "               .call(function(text) {\n",
        "       text.text(\"7000 K \");\n",
        "     })\n",
        ";\n",
        "        }(g.append(\"g\")));\n",
        "      }(g.append(\"g\")));\n",
        "      (function (g) {\n",
        "        g.attr(\"class\", \"guide color_9000_K_\")\n",
        "         .on(\"click\", guide_toggle_color(\"color_9000_K_\"));\n",
        "        (function (g) {\n",
        "          g.attr(\"fill\", \"#F08031\")\n",
        "           .attr(\"stroke\", \"#C05901\")\n",
        "           .attr(\"stroke-width\", 0.3);\n",
        "          g.append(\"svg:path\")\n",
        "             .attr(\"d\", \"M99.35,54.59 L 103.05 54.59 103.05 58.28 99.35 58.28 z\");\n",
        "        }(g.append(\"g\")));\n",
        "        (function (g) {\n",
        "          g.attr(\"stroke\", \"none\")\n",
        "           .attr(\"fill\", \"#4C404B\");\n",
        "          g.append(\"svg:text\")\n",
        "             .attr(\"x\", 104.05)\n",
        "             .attr(\"y\", 56.44)\n",
        "             .style(\"dominant-baseline\", \"central\")\n",
        "               .call(function(text) {\n",
        "       text.text(\"9000 K \");\n",
        "     })\n",
        ";\n",
        "        }(g.append(\"g\")));\n",
        "      }(g.append(\"g\")));\n",
        "    }(g.append(\"g\")));\n",
        "    (function (g) {\n",
        "      g.on(\"mouseover\", guide_background_mouseover(\"#C6C6C9\"))\n",
        "       .on(\"mouseout\", guide_background_mouseout(\"#F0F0F3\"))\n",
        "       .call(zoom_behavior(ctx))\n",
        ";\n",
        "      (function (g) {\n",
        "        d3.select(\"defs\")\n",
        "  .append(\"svg:clipPath\")\n",
        "    .attr(\"id\", parent_id + \"_clippath0\")\n",
        "    .append(\"svg:path\")\n",
        "      .attr(\"d\", \" M29,5 L 97.35 5 97.35 60.79 29 60.79 z\");g.attr(\"clip-path\", \"url(#\" + parent_id + \"_clippath0)\");\n",
        "        (function (g) {\n",
        "          g.attr(\"class\", \"guide background\")\n",
        "           .attr(\"stroke\", \"#F1F1F5\")\n",
        "           .attr(\"fill\", \"#FAFAFA\")\n",
        "           .attr(\"opacity\", 1.00);\n",
        "          g.append(\"svg:path\")\n",
        "             .attr(\"d\", \"M29,5 L 97.35 5 97.35 60.79 29 60.79 z\");\n",
        "        }(g.append(\"g\")));\n",
        "        (function (g) {\n",
        "          g.attr(\"stroke\", \"#F0F0F3\")\n",
        "           .attr(\"stroke-width\", 0.2)\n",
        "           .attr(\"class\", \"guide ygridlines xfixed\");\n",
        "          g.append(\"svg:path\")\n",
        "             .attr(\"d\", \"M29,48.68 L 97.35 48.68\");\n",
        "          g.append(\"svg:path\")\n",
        "             .attr(\"d\", \"M29,122.36 L 97.35 122.36\");\n",
        "          g.append(\"svg:path\")\n",
        "             .attr(\"d\", \"M29,-14.47 L 97.35 -14.47\");\n",
        "          g.append(\"svg:path\")\n",
        "             .attr(\"d\", \"M29,27.63 L 97.35 27.63\");\n",
        "          g.append(\"svg:path\")\n",
        "             .attr(\"d\", \"M29,59.21 L 97.35 59.21\");\n",
        "          g.append(\"svg:path\")\n",
        "             .attr(\"d\", \"M29,-56.58 L 97.35 -56.58\");\n",
        "          g.append(\"svg:path\")\n",
        "             .attr(\"d\", \"M29,90.79 L 97.35 90.79\");\n",
        "          g.append(\"svg:path\")\n",
        "             .attr(\"d\", \"M29,6.58 L 97.35 6.58\");\n",
        "          g.append(\"svg:path\")\n",
        "             .attr(\"d\", \"M29,69.73 L 97.35 69.73\");\n",
        "          g.append(\"svg:path\")\n",
        "             .attr(\"d\", \"M29,38.16 L 97.35 38.16\");\n",
        "          g.append(\"svg:path\")\n",
        "             .attr(\"d\", \"M29,80.26 L 97.35 80.26\");\n",
        "          g.append(\"svg:path\")\n",
        "             .attr(\"d\", \"M29,-46.05 L 97.35 -46.05\");\n",
        "          g.append(\"svg:path\")\n",
        "             .attr(\"d\", \"M29,101.31 L 97.35 101.31\");\n",
        "          g.append(\"svg:path\")\n",
        "             .attr(\"d\", \"M29,111.84 L 97.35 111.84\");\n",
        "          g.append(\"svg:path\")\n",
        "             .attr(\"d\", \"M29,-35.52 L 97.35 -35.52\");\n",
        "          g.append(\"svg:path\")\n",
        "             .attr(\"d\", \"M29,-3.95 L 97.35 -3.95\");\n",
        "          g.append(\"svg:path\")\n",
        "             .attr(\"d\", \"M29,-25 L 97.35 -25\");\n",
        "          g.append(\"svg:path\")\n",
        "             .attr(\"d\", \"M29,17.1 L 97.35 17.1\");\n",
        "        }(g.append(\"g\")));\n",
        "        (function (g) {\n",
        "          g.attr(\"stroke\", \"#F0F0F3\")\n",
        "           .attr(\"stroke-width\", 0.2)\n",
        "           .attr(\"class\", \"guide xgridlines yfixed\");\n",
        "          g.append(\"svg:path\")\n",
        "             .attr(\"d\", \"M79.3,5 L 79.3 60.79\");\n",
        "          g.append(\"svg:path\")\n",
        "             .attr(\"d\", \"M47.06,5 L 47.06 60.79\");\n",
        "          g.append(\"svg:path\")\n",
        "             .attr(\"d\", \"M159.89,5 L 159.89 60.79\");\n",
        "          g.append(\"svg:path\")\n",
        "             .attr(\"d\", \"M63.18,5 L 63.18 60.79\");\n",
        "          g.append(\"svg:path\")\n",
        "             .attr(\"d\", \"M-33.54,5 L -33.54 60.79\");\n",
        "          g.append(\"svg:path\")\n",
        "             .attr(\"d\", \"M143.77,5 L 143.77 60.79\");\n",
        "          g.append(\"svg:path\")\n",
        "             .attr(\"d\", \"M30.94,5 L 30.94 60.79\");\n",
        "          g.append(\"svg:path\")\n",
        "             .attr(\"d\", \"M-49.66,5 L -49.66 60.79\");\n",
        "          g.append(\"svg:path\")\n",
        "             .attr(\"d\", \"M111.53,5 L 111.53 60.79\");\n",
        "          g.append(\"svg:path\")\n",
        "             .attr(\"d\", \"M14.82,5 L 14.82 60.79\");\n",
        "          g.append(\"svg:path\")\n",
        "             .attr(\"d\", \"M-17.42,5 L -17.42 60.79\");\n",
        "          g.append(\"svg:path\")\n",
        "             .attr(\"d\", \"M95.42,5 L 95.42 60.79\");\n",
        "          g.append(\"svg:path\")\n",
        "             .attr(\"d\", \"M127.65,5 L 127.65 60.79\");\n",
        "          g.append(\"svg:path\")\n",
        "             .attr(\"d\", \"M176.01,5 L 176.01 60.79\");\n",
        "          g.append(\"svg:path\")\n",
        "             .attr(\"d\", \"M-1.3,5 L -1.3 60.79\");\n",
        "        }(g.append(\"g\")));\n",
        "      }(g.append(\"g\")));\n",
        "      (function (g) {\n",
        "        d3.select(\"defs\")\n",
        "  .append(\"svg:clipPath\")\n",
        "    .attr(\"id\", parent_id + \"_clippath1\")\n",
        "    .append(\"svg:path\")\n",
        "      .attr(\"d\", \" M29,5 L 97.35 5 97.35 60.79 29 60.79 z\");g.attr(\"clip-path\", \"url(#\" + parent_id + \"_clippath1)\");\n",
        "        (function (g) {\n",
        "          g.attr(\"class\", \"plotpanel\");\n",
        "          (function (g) {\n",
        "            g.attr(\"fill\", \"none\")\n",
        "             .attr(\"stroke-width\", 0.3);\n",
        "            (function (g) {\n",
        "              g.attr(\"stroke\", \"#D4CA3A\")\n",
        "               .attr(\"class\", \"geometry color_2000_K_\");\n",
        "              g.append(\"svg:path\")\n",
        "                 .attr(\"d\", \"M30.94,59.21 L 31.2 59.21 31.46 59.21 31.72 59.21 31.97 59.21 32.23 59.21 32.49 59.21 32.75 59.21 33.01 59.21 33.27 59.21 33.53 59.21 33.79 59.21 34.05 59.21 34.3 59.21 34.56 59.21 34.82 59.21 35.08 59.21 35.34 59.21 35.6 59.21 35.86 59.21 36.12 59.21 36.38 59.21 36.64 59.21 36.89 59.21 37.15 59.21 37.41 59.21 37.67 59.21 37.93 59.21 38.19 59.21 38.45 59.21 38.71 59.21 38.97 59.21 39.22 59.21 39.48 59.21 39.74 59.21 40 59.21 40.26 59.21 40.52 59.21 40.78 59.21 41.04 59.21 41.3 59.21 41.56 59.21 41.81 59.21 42.07 59.21 42.33 59.21 42.59 59.21 42.85 59.21 43.11 59.21 43.37 59.21 43.63 59.21 43.89 59.21 44.14 59.21 44.4 59.21 44.66 59.21 44.92 59.21 45.18 59.21 45.44 59.21 45.7 59.21 45.96 59.21 46.22 59.21 46.48 59.21 46.73 59.21 46.99 59.21 47.25 59.21 47.51 59.21 47.77 59.21 48.03 59.21 48.29 59.21 48.55 59.21 48.81 59.21 49.06 59.21 49.32 59.21 49.58 59.21 49.84 59.21 50.1 59.21 50.36 59.21 50.62 59.21 50.88 59.21 51.14 59.21 51.39 59.21 51.65 59.2 51.91 59.2 52.17 59.2 52.43 59.2 52.69 59.2 52.95 59.2 53.21 59.2 53.47 59.2 53.73 59.2 53.98 59.2 54.24 59.2 54.5 59.2 54.76 59.2 55.02 59.2 55.28 59.2 55.54 59.2 55.8 59.2 56.06 59.2 56.31 59.2 56.57 59.2 56.83 59.2 57.09 59.2 57.35 59.2 57.61 59.2 57.87 59.2 58.13 59.2 58.39 59.2 58.65 59.2 58.9 59.2 59.16 59.19 59.42 59.19 59.68 59.19 59.94 59.19 60.2 59.19 60.46 59.19 60.72 59.19 60.98 59.19 61.23 59.19 61.49 59.19 61.75 59.19 62.01 59.19 62.27 59.19 62.53 59.19 62.79 59.19 63.05 59.19 63.31 59.19 63.57 59.19 63.82 59.19 64.08 59.19 64.34 59.19 64.6 59.19 64.86 59.19 65.12 59.19 65.38 59.19 65.64 59.19 65.9 59.19 66.15 59.19 66.41 59.19 66.67 59.19 66.93 59.18 67.19 59.18 67.45 59.18 67.71 59.18 67.97 59.18 68.23 59.18 68.49 59.18 68.74 59.18 69 59.18 69.26 59.18 69.52 59.18 69.78 59.18 70.04 59.18 70.3 59.18 70.56 59.18 70.82 59.18 71.07 59.18 71.33 59.18 71.59 59.18 71.85 59.18 72.11 59.18 72.37 59.18 72.63 59.18 72.89 59.18 73.15 59.18 73.41 59.18 73.66 59.18 73.92 59.18 74.18 59.18 74.44 59.18 74.7 59.18 74.96 59.18 75.22 59.18 75.48 59.18 75.74 59.18 75.99 59.18 76.25 59.18 76.51 59.18 76.77 59.18 77.03 59.18 77.29 59.18 77.55 59.18 77.81 59.18 78.07 59.18 78.32 59.18 78.58 59.18 78.84 59.18 79.1 59.18 79.36 59.18 79.62 59.18 79.88 59.18 80.14 59.18 80.4 59.18 80.66 59.18 80.91 59.18 81.17 59.18 81.43 59.18 81.69 59.18 81.95 59.18 82.21 59.18 82.47 59.18 82.73 59.18 82.99 59.18 83.24 59.18 83.5 59.18 83.76 59.18 84.02 59.18 84.28 59.18 84.54 59.18 84.8 59.18 85.06 59.18 85.32 59.18 85.58 59.18 85.83 59.18 86.09 59.18 86.35 59.18 86.61 59.18 86.87 59.18 87.13 59.18 87.39 59.18 87.65 59.18 87.91 59.18 88.16 59.18 88.42 59.18 88.68 59.18 88.94 59.18 89.2 59.18 89.46 59.18 89.72 59.18 89.98 59.18 90.24 59.18 90.5 59.18 90.75 59.18 91.01 59.18 91.27 59.18 91.53 59.18 91.79 59.18 92.05 59.18 92.31 59.18 92.57 59.18 92.83 59.18 93.08 59.18 93.34 59.19 93.6 59.19 93.86 59.19 94.12 59.19 94.38 59.19 94.64 59.19 94.9 59.19 95.16 59.19 95.42 59.19\");\n",
        "            }(g.append(\"g\")));\n",
        "            (function (g) {\n",
        "              g.attr(\"stroke\", \"#FF5EA0\")\n",
        "               .attr(\"class\", \"geometry color_3000_K_\");\n",
        "              g.append(\"svg:path\")\n",
        "                 .attr(\"d\", \"M30.94,59.21 L 31.2 59.21 31.46 59.21 31.72 59.21 31.97 59.21 32.23 59.21 32.49 59.21 32.75 59.21 33.01 59.21 33.27 59.21 33.53 59.21 33.79 59.21 34.05 59.21 34.3 59.21 34.56 59.21 34.82 59.21 35.08 59.21 35.34 59.21 35.6 59.21 35.86 59.21 36.12 59.21 36.38 59.21 36.64 59.21 36.89 59.21 37.15 59.21 37.41 59.21 37.67 59.21 37.93 59.21 38.19 59.21 38.45 59.21 38.71 59.21 38.97 59.21 39.22 59.21 39.48 59.21 39.74 59.21 40 59.21 40.26 59.21 40.52 59.21 40.78 59.21 41.04 59.21 41.3 59.21 41.56 59.2 41.81 59.2 42.07 59.2 42.33 59.2 42.59 59.2 42.85 59.2 43.11 59.2 43.37 59.2 43.63 59.19 43.89 59.19 44.14 59.19 44.4 59.19 44.66 59.19 44.92 59.18 45.18 59.18 45.44 59.18 45.7 59.17 45.96 59.17 46.22 59.17 46.48 59.16 46.73 59.16 46.99 59.15 47.25 59.15 47.51 59.15 47.77 59.14 48.03 59.14 48.29 59.13 48.55 59.13 48.81 59.12 49.06 59.12 49.32 59.12 49.58 59.11 49.84 59.11 50.1 59.1 50.36 59.1 50.62 59.09 50.88 59.09 51.14 59.08 51.39 59.08 51.65 59.08 51.91 59.07 52.17 59.07 52.43 59.06 52.69 59.06 52.95 59.06 53.21 59.05 53.47 59.05 53.73 59.05 53.98 59.04 54.24 59.04 54.5 59.04 54.76 59.03 55.02 59.03 55.28 59.03 55.54 59.03 55.8 59.02 56.06 59.02 56.31 59.02 56.57 59.02 56.83 59.02 57.09 59.01 57.35 59.01 57.61 59.01 57.87 59.01 58.13 59.01 58.39 59.01 58.65 59.01 58.9 59 59.16 59 59.42 59 59.68 59 59.94 59 60.2 59 60.46 59 60.72 59 60.98 59 61.23 59 61.49 59 61.75 59 62.01 59 62.27 59 62.53 59 62.79 59 63.05 59 63.31 59 63.57 59 63.82 59 64.08 59 64.34 59 64.6 59 64.86 59 65.12 59 65.38 59 65.64 59 65.9 59 66.15 59.01 66.41 59.01 66.67 59.01 66.93 59.01 67.19 59.01 67.45 59.01 67.71 59.01 67.97 59.01 68.23 59.01 68.49 59.01 68.74 59.02 69 59.02 69.26 59.02 69.52 59.02 69.78 59.02 70.04 59.02 70.3 59.02 70.56 59.02 70.82 59.02 71.07 59.03 71.33 59.03 71.59 59.03 71.85 59.03 72.11 59.03 72.37 59.03 72.63 59.03 72.89 59.04 73.15 59.04 73.41 59.04 73.66 59.04 73.92 59.04 74.18 59.04 74.44 59.04 74.7 59.04 74.96 59.05 75.22 59.05 75.48 59.05 75.74 59.05 75.99 59.05 76.25 59.05 76.51 59.05 76.77 59.05 77.03 59.06 77.29 59.06 77.55 59.06 77.81 59.06 78.07 59.06 78.32 59.06 78.58 59.06 78.84 59.07 79.1 59.07 79.36 59.07 79.62 59.07 79.88 59.07 80.14 59.07 80.4 59.07 80.66 59.07 80.91 59.08 81.17 59.08 81.43 59.08 81.69 59.08 81.95 59.08 82.21 59.08 82.47 59.08 82.73 59.08 82.99 59.08 83.24 59.09 83.5 59.09 83.76 59.09 84.02 59.09 84.28 59.09 84.54 59.09 84.8 59.09 85.06 59.09 85.32 59.09 85.58 59.1 85.83 59.1 86.09 59.1 86.35 59.1 86.61 59.1 86.87 59.1 87.13 59.1 87.39 59.1 87.65 59.1 87.91 59.1 88.16 59.11 88.42 59.11 88.68 59.11 88.94 59.11 89.2 59.11 89.46 59.11 89.72 59.11 89.98 59.11 90.24 59.11 90.5 59.11 90.75 59.12 91.01 59.12 91.27 59.12 91.53 59.12 91.79 59.12 92.05 59.12 92.31 59.12 92.57 59.12 92.83 59.12 93.08 59.12 93.34 59.12 93.6 59.12 93.86 59.13 94.12 59.13 94.38 59.13 94.64 59.13 94.9 59.13 95.16 59.13 95.42 59.13\");\n",
        "            }(g.append(\"g\")));\n",
        "            (function (g) {\n",
        "              g.attr(\"stroke\", \"#00E5B2\")\n",
        "               .attr(\"class\", \"geometry color_4000_K_\");\n",
        "              g.append(\"svg:path\")\n",
        "                 .attr(\"d\", \"M30.94,59.21 L 31.2 59.21 31.46 59.21 31.72 59.21 31.97 59.21 32.23 59.21 32.49 59.21 32.75 59.21 33.01 59.21 33.27 59.21 33.53 59.21 33.79 59.21 34.05 59.21 34.3 59.21 34.56 59.21 34.82 59.21 35.08 59.21 35.34 59.21 35.6 59.21 35.86 59.21 36.12 59.21 36.38 59.21 36.64 59.21 36.89 59.21 37.15 59.21 37.41 59.21 37.67 59.21 37.93 59.2 38.19 59.2 38.45 59.2 38.71 59.2 38.97 59.19 39.22 59.19 39.48 59.18 39.74 59.18 40 59.17 40.26 59.16 40.52 59.15 40.78 59.14 41.04 59.12 41.3 59.11 41.56 59.09 41.81 59.07 42.07 59.05 42.33 59.04 42.59 59.01 42.85 58.99 43.11 58.97 43.37 58.95 43.63 58.92 43.89 58.9 44.14 58.87 44.4 58.85 44.66 58.82 44.92 58.8 45.18 58.77 45.44 58.75 45.7 58.73 45.96 58.7 46.22 58.68 46.48 58.65 46.73 58.63 46.99 58.61 47.25 58.59 47.51 58.57 47.77 58.55 48.03 58.53 48.29 58.51 48.55 58.5 48.81 58.48 49.06 58.46 49.32 58.45 49.58 58.44 49.84 58.42 50.1 58.41 50.36 58.4 50.62 58.39 50.88 58.38 51.14 58.37 51.39 58.36 51.65 58.36 51.91 58.35 52.17 58.34 52.43 58.34 52.69 58.34 52.95 58.33 53.21 58.33 53.47 58.33 53.73 58.33 53.98 58.33 54.24 58.33 54.5 58.33 54.76 58.33 55.02 58.33 55.28 58.33 55.54 58.33 55.8 58.33 56.06 58.34 56.31 58.34 56.57 58.34 56.83 58.35 57.09 58.35 57.35 58.36 57.61 58.36 57.87 58.37 58.13 58.37 58.39 58.38 58.65 58.38 58.9 58.39 59.16 58.39 59.42 58.4 59.68 58.41 59.94 58.41 60.2 58.42 60.46 58.43 60.72 58.43 60.98 58.44 61.23 58.45 61.49 58.45 61.75 58.46 62.01 58.47 62.27 58.48 62.53 58.48 62.79 58.49 63.05 58.5 63.31 58.51 63.57 58.51 63.82 58.52 64.08 58.53 64.34 58.53 64.6 58.54 64.86 58.55 65.12 58.56 65.38 58.56 65.64 58.57 65.9 58.58 66.15 58.59 66.41 58.59 66.67 58.6 66.93 58.61 67.19 58.61 67.45 58.62 67.71 58.63 67.97 58.64 68.23 58.64 68.49 58.65 68.74 58.66 69 58.66 69.26 58.67 69.52 58.68 69.78 58.68 70.04 58.69 70.3 58.7 70.56 58.7 70.82 58.71 71.07 58.71 71.33 58.72 71.59 58.73 71.85 58.73 72.11 58.74 72.37 58.74 72.63 58.75 72.89 58.76 73.15 58.76 73.41 58.77 73.66 58.77 73.92 58.78 74.18 58.78 74.44 58.79 74.7 58.79 74.96 58.8 75.22 58.8 75.48 58.81 75.74 58.81 75.99 58.82 76.25 58.82 76.51 58.83 76.77 58.83 77.03 58.84 77.29 58.84 77.55 58.85 77.81 58.85 78.07 58.86 78.32 58.86 78.58 58.87 78.84 58.87 79.1 58.87 79.36 58.88 79.62 58.88 79.88 58.89 80.14 58.89 80.4 58.9 80.66 58.9 80.91 58.9 81.17 58.91 81.43 58.91 81.69 58.91 81.95 58.92 82.21 58.92 82.47 58.92 82.73 58.93 82.99 58.93 83.24 58.94 83.5 58.94 83.76 58.94 84.02 58.95 84.28 58.95 84.54 58.95 84.8 58.95 85.06 58.96 85.32 58.96 85.58 58.96 85.83 58.97 86.09 58.97 86.35 58.97 86.61 58.98 86.87 58.98 87.13 58.98 87.39 58.98 87.65 58.99 87.91 58.99 88.16 58.99 88.42 58.99 88.68 59 88.94 59 89.2 59 89.46 59 89.72 59.01 89.98 59.01 90.24 59.01 90.5 59.01 90.75 59.02 91.01 59.02 91.27 59.02 91.53 59.02 91.79 59.03 92.05 59.03 92.31 59.03 92.57 59.03 92.83 59.03 93.08 59.04 93.34 59.04 93.6 59.04 93.86 59.04 94.12 59.04 94.38 59.05 94.64 59.05 94.9 59.05 95.16 59.05 95.42 59.05\");\n",
        "            }(g.append(\"g\")));\n",
        "            (function (g) {\n",
        "              g.attr(\"stroke\", \"#00BFFF\")\n",
        "               .attr(\"class\", \"geometry color_1000_K_\");\n",
        "              g.append(\"svg:path\")\n",
        "                 .attr(\"d\", \"M30.94,59.21 L 31.2 59.21 31.46 59.21 31.72 59.21 31.97 59.21 32.23 59.21 32.49 59.21 32.75 59.21 33.01 59.21 33.27 59.21 33.53 59.21 33.79 59.21 34.05 59.21 34.3 59.21 34.56 59.21 34.82 59.21 35.08 59.21 35.34 59.21 35.6 59.21 35.86 59.21 36.12 59.21 36.38 59.21 36.64 59.21 36.89 59.21 37.15 59.21 37.41 59.21 37.67 59.21 37.93 59.21 38.19 59.21 38.45 59.21 38.71 59.21 38.97 59.21 39.22 59.21 39.48 59.21 39.74 59.21 40 59.21 40.26 59.21 40.52 59.21 40.78 59.21 41.04 59.21 41.3 59.21 41.56 59.21 41.81 59.21 42.07 59.21 42.33 59.21 42.59 59.21 42.85 59.21 43.11 59.21 43.37 59.21 43.63 59.21 43.89 59.21 44.14 59.21 44.4 59.21 44.66 59.21 44.92 59.21 45.18 59.21 45.44 59.21 45.7 59.21 45.96 59.21 46.22 59.21 46.48 59.21 46.73 59.21 46.99 59.21 47.25 59.21 47.51 59.21 47.77 59.21 48.03 59.21 48.29 59.21 48.55 59.21 48.81 59.21 49.06 59.21 49.32 59.21 49.58 59.21 49.84 59.21 50.1 59.21 50.36 59.21 50.62 59.21 50.88 59.21 51.14 59.21 51.39 59.21 51.65 59.21 51.91 59.21 52.17 59.21 52.43 59.21 52.69 59.21 52.95 59.21 53.21 59.21 53.47 59.21 53.73 59.21 53.98 59.21 54.24 59.21 54.5 59.21 54.76 59.21 55.02 59.21 55.28 59.21 55.54 59.21 55.8 59.21 56.06 59.21 56.31 59.21 56.57 59.21 56.83 59.21 57.09 59.21 57.35 59.21 57.61 59.21 57.87 59.21 58.13 59.21 58.39 59.21 58.65 59.21 58.9 59.21 59.16 59.21 59.42 59.21 59.68 59.21 59.94 59.21 60.2 59.21 60.46 59.21 60.72 59.21 60.98 59.21 61.23 59.21 61.49 59.21 61.75 59.21 62.01 59.21 62.27 59.21 62.53 59.21 62.79 59.21 63.05 59.21 63.31 59.21 63.57 59.21 63.82 59.21 64.08 59.21 64.34 59.21 64.6 59.21 64.86 59.21 65.12 59.21 65.38 59.21 65.64 59.21 65.9 59.21 66.15 59.21 66.41 59.21 66.67 59.21 66.93 59.21 67.19 59.21 67.45 59.21 67.71 59.21 67.97 59.21 68.23 59.21 68.49 59.21 68.74 59.21 69 59.21 69.26 59.21 69.52 59.21 69.78 59.21 70.04 59.21 70.3 59.21 70.56 59.21 70.82 59.21 71.07 59.21 71.33 59.21 71.59 59.21 71.85 59.21 72.11 59.21 72.37 59.21 72.63 59.21 72.89 59.21 73.15 59.21 73.41 59.21 73.66 59.21 73.92 59.21 74.18 59.21 74.44 59.21 74.7 59.21 74.96 59.21 75.22 59.21 75.48 59.21 75.74 59.21 75.99 59.21 76.25 59.21 76.51 59.21 76.77 59.21 77.03 59.21 77.29 59.21 77.55 59.21 77.81 59.21 78.07 59.21 78.32 59.21 78.58 59.21 78.84 59.21 79.1 59.21 79.36 59.21 79.62 59.21 79.88 59.21 80.14 59.21 80.4 59.21 80.66 59.21 80.91 59.21 81.17 59.21 81.43 59.21 81.69 59.21 81.95 59.21 82.21 59.21 82.47 59.21 82.73 59.21 82.99 59.21 83.24 59.21 83.5 59.21 83.76 59.21 84.02 59.21 84.28 59.21 84.54 59.21 84.8 59.21 85.06 59.21 85.32 59.21 85.58 59.21 85.83 59.21 86.09 59.21 86.35 59.21 86.61 59.21 86.87 59.21 87.13 59.21 87.39 59.21 87.65 59.21 87.91 59.21 88.16 59.21 88.42 59.21 88.68 59.21 88.94 59.21 89.2 59.21 89.46 59.21 89.72 59.21 89.98 59.21 90.24 59.21 90.5 59.21 90.75 59.21 91.01 59.21 91.27 59.21 91.53 59.21 91.79 59.21 92.05 59.21 92.31 59.21 92.57 59.21 92.83 59.21 93.08 59.21 93.34 59.21 93.6 59.21 93.86 59.21 94.12 59.21 94.38 59.21 94.64 59.21 94.9 59.21 95.16 59.21 95.42 59.21\");\n",
        "            }(g.append(\"g\")));\n",
        "            (function (g) {\n",
        "              g.attr(\"stroke\", \"#9E9E9E\")\n",
        "               .attr(\"class\", \"geometry color_6000_K_\");\n",
        "              g.append(\"svg:path\")\n",
        "                 .attr(\"d\", \"M30.94,59.21 L 31.2 59.21 31.46 59.21 31.72 59.21 31.97 59.21 32.23 59.21 32.49 59.21 32.75 59.21 33.01 59.21 33.27 59.21 33.53 59.21 33.79 59.21 34.05 59.21 34.3 59.21 34.56 59.21 34.82 59.21 35.08 59.2 35.34 59.2 35.6 59.18 35.86 59.16 36.12 59.13 36.38 59.09 36.64 59.02 36.89 58.94 37.15 58.84 37.41 58.71 37.67 58.56 37.93 58.38 38.19 58.19 38.45 57.97 38.71 57.74 38.97 57.49 39.22 57.22 39.48 56.95 39.74 56.67 40 56.39 40.26 56.1 40.52 55.82 40.78 55.54 41.04 55.27 41.3 55 41.56 54.75 41.81 54.51 42.07 54.28 42.33 54.06 42.59 53.86 42.85 53.67 43.11 53.5 43.37 53.34 43.63 53.2 43.89 53.07 44.14 52.95 44.4 52.85 44.66 52.77 44.92 52.7 45.18 52.64 45.44 52.59 45.7 52.55 45.96 52.52 46.22 52.51 46.48 52.5 46.73 52.51 46.99 52.52 47.25 52.54 47.51 52.56 47.77 52.6 48.03 52.64 48.29 52.68 48.55 52.73 48.81 52.79 49.06 52.85 49.32 52.91 49.58 52.98 49.84 53.05 50.1 53.12 50.36 53.19 50.62 53.27 50.88 53.35 51.14 53.43 51.39 53.51 51.65 53.59 51.91 53.67 52.17 53.76 52.43 53.84 52.69 53.93 52.95 54.01 53.21 54.1 53.47 54.18 53.73 54.26 53.98 54.35 54.24 54.43 54.5 54.51 54.76 54.59 55.02 54.68 55.28 54.76 55.54 54.83 55.8 54.91 56.06 54.99 56.31 55.07 56.57 55.14 56.83 55.22 57.09 55.29 57.35 55.36 57.61 55.44 57.87 55.51 58.13 55.57 58.39 55.64 58.65 55.71 58.9 55.77 59.16 55.84 59.42 55.9 59.68 55.97 59.94 56.03 60.2 56.09 60.46 56.15 60.72 56.2 60.98 56.26 61.23 56.32 61.49 56.37 61.75 56.42 62.01 56.48 62.27 56.53 62.53 56.58 62.79 56.63 63.05 56.68 63.31 56.72 63.57 56.77 63.82 56.82 64.08 56.86 64.34 56.91 64.6 56.95 64.86 56.99 65.12 57.03 65.38 57.07 65.64 57.11 65.9 57.15 66.15 57.19 66.41 57.23 66.67 57.26 66.93 57.3 67.19 57.33 67.45 57.37 67.71 57.4 67.97 57.43 68.23 57.47 68.49 57.5 68.74 57.53 69 57.56 69.26 57.59 69.52 57.62 69.78 57.64 70.04 57.67 70.3 57.7 70.56 57.73 70.82 57.75 71.07 57.78 71.33 57.8 71.59 57.83 71.85 57.85 72.11 57.88 72.37 57.9 72.63 57.92 72.89 57.94 73.15 57.96 73.41 57.99 73.66 58.01 73.92 58.03 74.18 58.05 74.44 58.07 74.7 58.09 74.96 58.11 75.22 58.12 75.48 58.14 75.74 58.16 75.99 58.18 76.25 58.19 76.51 58.21 76.77 58.23 77.03 58.24 77.29 58.26 77.55 58.27 77.81 58.29 78.07 58.3 78.32 58.32 78.58 58.33 78.84 58.35 79.1 58.36 79.36 58.37 79.62 58.39 79.88 58.4 80.14 58.41 80.4 58.43 80.66 58.44 80.91 58.45 81.17 58.46 81.43 58.47 81.69 58.49 81.95 58.5 82.21 58.51 82.47 58.52 82.73 58.53 82.99 58.54 83.24 58.55 83.5 58.56 83.76 58.57 84.02 58.58 84.28 58.59 84.54 58.6 84.8 58.61 85.06 58.62 85.32 58.62 85.58 58.63 85.83 58.64 86.09 58.65 86.35 58.66 86.61 58.67 86.87 58.67 87.13 58.68 87.39 58.69 87.65 58.7 87.91 58.7 88.16 58.71 88.42 58.72 88.68 58.72 88.94 58.73 89.2 58.74 89.46 58.74 89.72 58.75 89.98 58.76 90.24 58.76 90.5 58.77 90.75 58.78 91.01 58.78 91.27 58.79 91.53 58.79 91.79 58.8 92.05 58.81 92.31 58.81 92.57 58.82 92.83 58.82 93.08 58.83 93.34 58.83 93.6 58.84 93.86 58.84 94.12 58.85 94.38 58.85 94.64 58.86 94.9 58.86 95.16 58.87 95.42 58.87\");\n",
        "            }(g.append(\"g\")));\n",
        "            (function (g) {\n",
        "              g.attr(\"stroke\", \"#F08031\")\n",
        "               .attr(\"class\", \"geometry color_9000_K_\");\n",
        "              g.append(\"svg:path\")\n",
        "                 .attr(\"d\", \"M30.94,59.21 L 31.2 59.21 31.46 59.21 31.72 59.21 31.97 59.21 32.23 59.21 32.49 59.21 32.75 59.21 33.01 59.21 33.27 59.2 33.53 59.19 33.79 59.14 34.05 59.02 34.3 58.75 34.56 58.27 34.82 57.5 35.08 56.38 35.34 54.86 35.6 52.95 35.86 50.66 36.12 48.04 36.38 45.15 36.64 42.07 36.89 38.87 37.15 35.63 37.41 32.42 37.67 29.29 37.93 26.31 38.19 23.52 38.45 20.93 38.71 18.59 38.97 16.49 39.22 14.64 39.48 13.05 39.74 11.72 40 10.62 40.26 9.75 40.52 9.1 40.78 8.65 41.04 8.39 41.3 8.3 41.56 8.36 41.81 8.56 42.07 8.88 42.33 9.32 42.59 9.85 42.85 10.46 43.11 11.15 43.37 11.89 43.63 12.69 43.89 13.54 44.14 14.42 44.4 15.32 44.66 16.25 44.92 17.19 45.18 18.14 45.44 19.1 45.7 20.06 45.96 21.02 46.22 21.98 46.48 22.92 46.73 23.86 46.99 24.79 47.25 25.7 47.51 26.6 47.77 27.48 48.03 28.34 48.29 29.19 48.55 30.02 48.81 30.82 49.06 31.62 49.32 32.39 49.58 33.14 49.84 33.87 50.1 34.58 50.36 35.28 50.62 35.95 50.88 36.61 51.14 37.25 51.39 37.87 51.65 38.47 51.91 39.05 52.17 39.62 52.43 40.17 52.69 40.7 52.95 41.22 53.21 41.72 53.47 42.21 53.73 42.68 53.98 43.14 54.24 43.58 54.5 44.01 54.76 44.43 55.02 44.83 55.28 45.23 55.54 45.61 55.8 45.97 56.06 46.33 56.31 46.68 56.57 47.01 56.83 47.34 57.09 47.65 57.35 47.96 57.61 48.25 57.87 48.54 58.13 48.82 58.39 49.09 58.65 49.35 58.9 49.6 59.16 49.85 59.42 50.09 59.68 50.32 59.94 50.54 60.2 50.76 60.46 50.97 60.72 51.18 60.98 51.38 61.23 51.57 61.49 51.76 61.75 51.94 62.01 52.12 62.27 52.29 62.53 52.46 62.79 52.62 63.05 52.78 63.31 52.93 63.57 53.08 63.82 53.22 64.08 53.36 64.34 53.5 64.6 53.63 64.86 53.76 65.12 53.89 65.38 54.01 65.64 54.13 65.9 54.24 66.15 54.35 66.41 54.46 66.67 54.57 66.93 54.67 67.19 54.77 67.45 54.87 67.71 54.97 67.97 55.06 68.23 55.15 68.49 55.24 68.74 55.32 69 55.4 69.26 55.49 69.52 55.56 69.78 55.64 70.04 55.72 70.3 55.79 70.56 55.86 70.82 55.93 71.07 56 71.33 56.06 71.59 56.13 71.85 56.19 72.11 56.25 72.37 56.31 72.63 56.37 72.89 56.43 73.15 56.48 73.41 56.54 73.66 56.59 73.92 56.64 74.18 56.69 74.44 56.74 74.7 56.79 74.96 56.83 75.22 56.88 75.48 56.92 75.74 56.97 75.99 57.01 76.25 57.05 76.51 57.09 76.77 57.13 77.03 57.17 77.29 57.21 77.55 57.24 77.81 57.28 78.07 57.32 78.32 57.35 78.58 57.38 78.84 57.42 79.1 57.45 79.36 57.48 79.62 57.51 79.88 57.54 80.14 57.57 80.4 57.6 80.66 57.63 80.91 57.66 81.17 57.68 81.43 57.71 81.69 57.74 81.95 57.76 82.21 57.79 82.47 57.81 82.73 57.83 82.99 57.86 83.24 57.88 83.5 57.9 83.76 57.92 84.02 57.95 84.28 57.97 84.54 57.99 84.8 58.01 85.06 58.03 85.32 58.05 85.58 58.06 85.83 58.08 86.09 58.1 86.35 58.12 86.61 58.14 86.87 58.15 87.13 58.17 87.39 58.19 87.65 58.2 87.91 58.22 88.16 58.23 88.42 58.25 88.68 58.26 88.94 58.28 89.2 58.29 89.46 58.31 89.72 58.32 89.98 58.33 90.24 58.35 90.5 58.36 90.75 58.37 91.01 58.39 91.27 58.4 91.53 58.41 91.79 58.42 92.05 58.43 92.31 58.45 92.57 58.46 92.83 58.47 93.08 58.48 93.34 58.49 93.6 58.5 93.86 58.51 94.12 58.52 94.38 58.53 94.64 58.54 94.9 58.55 95.16 58.56 95.42 58.57\");\n",
        "            }(g.append(\"g\")));\n",
        "            (function (g) {\n",
        "              g.attr(\"stroke\", \"#F6A6FF\")\n",
        "               .attr(\"class\", \"geometry color_5000_K_\");\n",
        "              g.append(\"svg:path\")\n",
        "                 .attr(\"d\", \"M30.94,59.21 L 31.2 59.21 31.46 59.21 31.72 59.21 31.97 59.21 32.23 59.21 32.49 59.21 32.75 59.21 33.01 59.21 33.27 59.21 33.53 59.21 33.79 59.21 34.05 59.21 34.3 59.21 34.56 59.21 34.82 59.21 35.08 59.21 35.34 59.21 35.6 59.21 35.86 59.21 36.12 59.2 36.38 59.2 36.64 59.2 36.89 59.19 37.15 59.18 37.41 59.16 37.67 59.14 37.93 59.12 38.19 59.09 38.45 59.05 38.71 59.01 38.97 58.96 39.22 58.9 39.48 58.84 39.74 58.77 40 58.7 40.26 58.62 40.52 58.53 40.78 58.45 41.04 58.36 41.3 58.26 41.56 58.17 41.81 58.07 42.07 57.98 42.33 57.88 42.59 57.79 42.85 57.7 43.11 57.61 43.37 57.52 43.63 57.43 43.89 57.35 44.14 57.27 44.4 57.2 44.66 57.13 44.92 57.06 45.18 56.99 45.44 56.94 45.7 56.88 45.96 56.83 46.22 56.78 46.48 56.74 46.73 56.7 46.99 56.67 47.25 56.64 47.51 56.61 47.77 56.59 48.03 56.57 48.29 56.55 48.55 56.54 48.81 56.53 49.06 56.52 49.32 56.52 49.58 56.51 49.84 56.51 50.1 56.52 50.36 56.52 50.62 56.53 50.88 56.54 51.14 56.55 51.39 56.56 51.65 56.58 51.91 56.6 52.17 56.61 52.43 56.63 52.69 56.65 52.95 56.67 53.21 56.7 53.47 56.72 53.73 56.74 53.98 56.77 54.24 56.79 54.5 56.82 54.76 56.84 55.02 56.87 55.28 56.9 55.54 56.92 55.8 56.95 56.06 56.98 56.31 57.01 56.57 57.03 56.83 57.06 57.09 57.09 57.35 57.12 57.61 57.15 57.87 57.18 58.13 57.2 58.39 57.23 58.65 57.26 58.9 57.29 59.16 57.32 59.42 57.34 59.68 57.37 59.94 57.4 60.2 57.42 60.46 57.45 60.72 57.48 60.98 57.5 61.23 57.53 61.49 57.55 61.75 57.58 62.01 57.6 62.27 57.63 62.53 57.65 62.79 57.68 63.05 57.7 63.31 57.72 63.57 57.75 63.82 57.77 64.08 57.79 64.34 57.82 64.6 57.84 64.86 57.86 65.12 57.88 65.38 57.9 65.64 57.92 65.9 57.94 66.15 57.96 66.41 57.98 66.67 58 66.93 58.02 67.19 58.04 67.45 58.06 67.71 58.07 67.97 58.09 68.23 58.11 68.49 58.13 68.74 58.14 69 58.16 69.26 58.18 69.52 58.19 69.78 58.21 70.04 58.23 70.3 58.24 70.56 58.26 70.82 58.27 71.07 58.29 71.33 58.3 71.59 58.31 71.85 58.33 72.11 58.34 72.37 58.35 72.63 58.37 72.89 58.38 73.15 58.39 73.41 58.41 73.66 58.42 73.92 58.43 74.18 58.44 74.44 58.45 74.7 58.47 74.96 58.48 75.22 58.49 75.48 58.5 75.74 58.51 75.99 58.52 76.25 58.53 76.51 58.54 76.77 58.55 77.03 58.56 77.29 58.57 77.55 58.58 77.81 58.59 78.07 58.6 78.32 58.61 78.58 58.62 78.84 58.62 79.1 58.63 79.36 58.64 79.62 58.65 79.88 58.66 80.14 58.67 80.4 58.67 80.66 58.68 80.91 58.69 81.17 58.7 81.43 58.7 81.69 58.71 81.95 58.72 82.21 58.73 82.47 58.73 82.73 58.74 82.99 58.75 83.24 58.75 83.5 58.76 83.76 58.76 84.02 58.77 84.28 58.78 84.54 58.78 84.8 58.79 85.06 58.79 85.32 58.8 85.58 58.81 85.83 58.81 86.09 58.82 86.35 58.82 86.61 58.83 86.87 58.83 87.13 58.84 87.39 58.84 87.65 58.85 87.91 58.85 88.16 58.86 88.42 58.86 88.68 58.87 88.94 58.87 89.2 58.88 89.46 58.88 89.72 58.88 89.98 58.89 90.24 58.89 90.5 58.9 90.75 58.9 91.01 58.91 91.27 58.91 91.53 58.91 91.79 58.92 92.05 58.92 92.31 58.92 92.57 58.93 92.83 58.93 93.08 58.93 93.34 58.94 93.6 58.94 93.86 58.95 94.12 58.95 94.38 58.95 94.64 58.95 94.9 58.96 95.16 58.96 95.42 58.96\");\n",
        "            }(g.append(\"g\")));\n",
        "            (function (g) {\n",
        "              g.attr(\"stroke\", \"#FF928B\")\n",
        "               .attr(\"class\", \"geometry color_7000_K_\");\n",
        "              g.append(\"svg:path\")\n",
        "                 .attr(\"d\", \"M30.94,59.21 L 31.2 59.21 31.46 59.21 31.72 59.21 31.97 59.21 32.23 59.21 32.49 59.21 32.75 59.21 33.01 59.21 33.27 59.21 33.53 59.21 33.79 59.21 34.05 59.21 34.3 59.2 34.56 59.19 34.82 59.17 35.08 59.13 35.34 59.05 35.6 58.94 35.86 58.78 36.12 58.56 36.38 58.27 36.64 57.92 36.89 57.49 37.15 57 37.41 56.45 37.67 55.85 37.93 55.21 38.19 54.53 38.45 53.83 38.71 53.11 38.97 52.39 39.22 51.68 39.48 50.99 39.74 50.31 40 49.66 40.26 49.05 40.52 48.47 40.78 47.93 41.04 47.44 41.3 46.99 41.56 46.58 41.81 46.21 42.07 45.89 42.33 45.62 42.59 45.38 42.85 45.18 43.11 45.02 43.37 44.9 43.63 44.81 43.89 44.75 44.14 44.72 44.4 44.72 44.66 44.74 44.92 44.79 45.18 44.86 45.44 44.95 45.7 45.05 45.96 45.18 46.22 45.31 46.48 45.46 46.73 45.62 46.99 45.79 47.25 45.97 47.51 46.15 47.77 46.35 48.03 46.54 48.29 46.75 48.55 46.95 48.81 47.16 49.06 47.37 49.32 47.58 49.58 47.79 49.84 48.01 50.1 48.22 50.36 48.43 50.62 48.64 50.88 48.85 51.14 49.06 51.39 49.26 51.65 49.47 51.91 49.67 52.17 49.87 52.43 50.07 52.69 50.26 52.95 50.45 53.21 50.64 53.47 50.82 53.73 51 53.98 51.18 54.24 51.35 54.5 51.53 54.76 51.69 55.02 51.86 55.28 52.02 55.54 52.18 55.8 52.33 56.06 52.48 56.31 52.63 56.57 52.78 56.83 52.92 57.09 53.06 57.35 53.19 57.61 53.32 57.87 53.45 58.13 53.58 58.39 53.7 58.65 53.82 58.9 53.94 59.16 54.06 59.42 54.17 59.68 54.28 59.94 54.38 60.2 54.49 60.46 54.59 60.72 54.69 60.98 54.79 61.23 54.88 61.49 54.98 61.75 55.07 62.01 55.15 62.27 55.24 62.53 55.32 62.79 55.41 63.05 55.49 63.31 55.56 63.57 55.64 63.82 55.72 64.08 55.79 64.34 55.86 64.6 55.93 64.86 56 65.12 56.06 65.38 56.13 65.64 56.19 65.9 56.25 66.15 56.31 66.41 56.37 66.67 56.43 66.93 56.48 67.19 56.54 67.45 56.59 67.71 56.64 67.97 56.69 68.23 56.74 68.49 56.79 68.74 56.84 69 56.88 69.26 56.93 69.52 56.97 69.78 57.02 70.04 57.06 70.3 57.1 70.56 57.14 70.82 57.18 71.07 57.22 71.33 57.26 71.59 57.29 71.85 57.33 72.11 57.36 72.37 57.4 72.63 57.43 72.89 57.46 73.15 57.5 73.41 57.53 73.66 57.56 73.92 57.59 74.18 57.62 74.44 57.65 74.7 57.67 74.96 57.7 75.22 57.73 75.48 57.75 75.74 57.78 75.99 57.81 76.25 57.83 76.51 57.85 76.77 57.88 77.03 57.9 77.29 57.92 77.55 57.95 77.81 57.97 78.07 57.99 78.32 58.01 78.58 58.03 78.84 58.05 79.1 58.07 79.36 58.09 79.62 58.11 79.88 58.13 80.14 58.14 80.4 58.16 80.66 58.18 80.91 58.2 81.17 58.21 81.43 58.23 81.69 58.24 81.95 58.26 82.21 58.28 82.47 58.29 82.73 58.3 82.99 58.32 83.24 58.33 83.5 58.35 83.76 58.36 84.02 58.37 84.28 58.39 84.54 58.4 84.8 58.41 85.06 58.43 85.32 58.44 85.58 58.45 85.83 58.46 86.09 58.47 86.35 58.48 86.61 58.49 86.87 58.51 87.13 58.52 87.39 58.53 87.65 58.54 87.91 58.55 88.16 58.56 88.42 58.57 88.68 58.58 88.94 58.58 89.2 58.59 89.46 58.6 89.72 58.61 89.98 58.62 90.24 58.63 90.5 58.64 90.75 58.65 91.01 58.65 91.27 58.66 91.53 58.67 91.79 58.68 92.05 58.68 92.31 58.69 92.57 58.7 92.83 58.71 93.08 58.71 93.34 58.72 93.6 58.73 93.86 58.73 94.12 58.74 94.38 58.75 94.64 58.75 94.9 58.76 95.16 58.77 95.42 58.77\");\n",
        "            }(g.append(\"g\")));\n",
        "            (function (g) {\n",
        "              g.attr(\"stroke\", \"#32B44E\")\n",
        "               .attr(\"class\", \"geometry color_8000_K_\");\n",
        "              g.append(\"svg:path\")\n",
        "                 .attr(\"d\", \"M30.94,59.21 L 31.2 59.21 31.46 59.21 31.72 59.21 31.97 59.21 32.23 59.21 32.49 59.21 32.75 59.21 33.01 59.21 33.27 59.21 33.53 59.21 33.79 59.2 34.05 59.18 34.3 59.14 34.56 59.05 34.82 58.88 35.08 58.61 35.34 58.2 35.6 57.64 35.86 56.9 36.12 55.99 36.38 54.91 36.64 53.68 36.89 52.31 37.15 50.85 37.41 49.31 37.67 47.72 37.93 46.12 38.19 44.54 38.45 42.99 38.71 41.5 38.97 40.08 39.22 38.75 39.48 37.52 39.74 36.39 40 35.38 40.26 34.48 40.52 33.69 40.78 33.01 41.04 32.43 41.3 31.96 41.56 31.59 41.81 31.31 42.07 31.11 42.33 31 42.59 30.96 42.85 30.98 43.11 31.07 43.37 31.21 43.63 31.41 43.89 31.65 44.14 31.92 44.4 32.24 44.66 32.58 44.92 32.95 45.18 33.35 45.44 33.76 45.7 34.19 45.96 34.63 46.22 35.08 46.48 35.54 46.73 36.01 46.99 36.48 47.25 36.95 47.51 37.43 47.77 37.9 48.03 38.37 48.29 38.84 48.55 39.31 48.81 39.77 49.06 40.22 49.32 40.67 49.58 41.11 49.84 41.55 50.1 41.97 50.36 42.39 50.62 42.81 50.88 43.21 51.14 43.6 51.39 43.99 51.65 44.37 51.91 44.74 52.17 45.1 52.43 45.46 52.69 45.8 52.95 46.14 53.21 46.47 53.47 46.79 53.73 47.1 53.98 47.4 54.24 47.7 54.5 47.99 54.76 48.27 55.02 48.54 55.28 48.81 55.54 49.07 55.8 49.32 56.06 49.57 56.31 49.8 56.57 50.04 56.83 50.26 57.09 50.48 57.35 50.7 57.61 50.91 57.87 51.11 58.13 51.31 58.39 51.5 58.65 51.68 58.9 51.86 59.16 52.04 59.42 52.21 59.68 52.38 59.94 52.54 60.2 52.7 60.46 52.85 60.72 53 60.98 53.15 61.23 53.29 61.49 53.43 61.75 53.56 62.01 53.69 62.27 53.82 62.53 53.94 62.79 54.06 63.05 54.18 63.31 54.29 63.57 54.4 63.82 54.51 64.08 54.61 64.34 54.72 64.6 54.81 64.86 54.91 65.12 55.01 65.38 55.1 65.64 55.19 65.9 55.27 66.15 55.36 66.41 55.44 66.67 55.52 66.93 55.6 67.19 55.68 67.45 55.75 67.71 55.82 67.97 55.9 68.23 55.96 68.49 56.03 68.74 56.1 69 56.16 69.26 56.22 69.52 56.29 69.78 56.34 70.04 56.4 70.3 56.46 70.56 56.51 70.82 56.57 71.07 56.62 71.33 56.67 71.59 56.72 71.85 56.77 72.11 56.82 72.37 56.87 72.63 56.91 72.89 56.96 73.15 57 73.41 57.04 73.66 57.08 73.92 57.12 74.18 57.16 74.44 57.2 74.7 57.24 74.96 57.28 75.22 57.31 75.48 57.35 75.74 57.38 75.99 57.41 76.25 57.45 76.51 57.48 76.77 57.51 77.03 57.54 77.29 57.57 77.55 57.6 77.81 57.63 78.07 57.66 78.32 57.68 78.58 57.71 78.84 57.74 79.1 57.76 79.36 57.79 79.62 57.81 79.88 57.84 80.14 57.86 80.4 57.88 80.66 57.91 80.91 57.93 81.17 57.95 81.43 57.97 81.69 57.99 81.95 58.01 82.21 58.03 82.47 58.05 82.73 58.07 82.99 58.09 83.24 58.11 83.5 58.13 83.76 58.14 84.02 58.16 84.28 58.18 84.54 58.2 84.8 58.21 85.06 58.23 85.32 58.24 85.58 58.26 85.83 58.27 86.09 58.29 86.35 58.3 86.61 58.32 86.87 58.33 87.13 58.35 87.39 58.36 87.65 58.37 87.91 58.38 88.16 58.4 88.42 58.41 88.68 58.42 88.94 58.43 89.2 58.45 89.46 58.46 89.72 58.47 89.98 58.48 90.24 58.49 90.5 58.5 90.75 58.51 91.01 58.52 91.27 58.53 91.53 58.54 91.79 58.55 92.05 58.56 92.31 58.57 92.57 58.58 92.83 58.59 93.08 58.6 93.34 58.61 93.6 58.61 93.86 58.62 94.12 58.63 94.38 58.64 94.64 58.65 94.9 58.66 95.16 58.66 95.42 58.67\");\n",
        "            }(g.append(\"g\")));\n",
        "          }(g.append(\"g\")));\n",
        "        }(g.append(\"g\")));\n",
        "      }(g.append(\"g\")));\n",
        "      (function (g) {\n",
        "        d3.select(\"defs\")\n",
        "  .append(\"svg:clipPath\")\n",
        "    .attr(\"id\", parent_id + \"_clippath2\")\n",
        "    .append(\"svg:path\")\n",
        "      .attr(\"d\", \" M29,5 L 97.35 5 97.35 60.79 29 60.79 z\");g.attr(\"clip-path\", \"url(#\" + parent_id + \"_clippath2)\");\n",
        "        (function (g) {\n",
        "          g.attr(\"stroke\", \"none\")\n",
        "           .attr(\"class\", \"guide zoomslider\")\n",
        "           .attr(\"opacity\", 0.00);\n",
        "          (function (g) {\n",
        "            g.attr(\"stroke\", \"#6A6A6A\")\n",
        "             .attr(\"stroke-opacity\", 0.00)\n",
        "             .attr(\"stroke-width\", 0.3)\n",
        "             .attr(\"fill\", \"#EAEAEA\")\n",
        "             .on(\"click\", zoomin_behavior(ctx))\n",
        ".on(\"dblclick\", function() { d3.event.stopPropagation(); })\n",
        ".on(\"mouseover\", zoomslider_button_mouseover(\"#cd5c5c\"))\n",
        ".on(\"mouseout\", zoomslider_button_mouseover(\"#6a6a6a\"))\n",
        ";\n",
        "            g.append(\"svg:path\")\n",
        "               .attr(\"d\", \"M90.35,8 L 94.35 8 94.35 12 90.35 12 z\");\n",
        "            (function (g) {\n",
        "              g.attr(\"fill\", \"#6A6A6A\")\n",
        "               .attr(\"class\", \"button_logo\");\n",
        "              g.append(\"svg:path\")\n",
        "                 .attr(\"d\", \"M91.15,9.6 L 91.95 9.6 91.95 8.8 92.75 8.8 92.75 9.6 93.55 9.6 93.55 10.4 92.75 10.4 92.75 11.2 91.95 11.2 91.95 10.4 91.15 10.4 z\");\n",
        "            }(g.append(\"g\")));\n",
        "          }(g.append(\"g\")));\n",
        "          (function (g) {\n",
        "            g.attr(\"fill\", \"#EAEAEA\")\n",
        "             .on(\"click\", zoomslider_track_behavior(ctx, 64.35, 81.35));\n",
        "            g.append(\"svg:path\")\n",
        "               .attr(\"d\", \"M70.85,8 L 89.85 8 89.85 12 70.85 12 z\");\n",
        "          }(g.append(\"g\")));\n",
        "          (function (g) {\n",
        "            g.attr(\"fill\", \"#6A6A6A\")\n",
        "             .attr(\"class\", \"zoomslider_thumb\")\n",
        "             .call(zoomslider_behavior(ctx, 64.35, 81.35))\n",
        ".on(\"mouseover\", zoomslider_thumb_mouseover(\"#cd5c5c\"))\n",
        ".on(\"mouseout\", zoomslider_thumb_mouseover(\"#6a6a6a\"))\n",
        ";\n",
        "            g.append(\"svg:path\")\n",
        "               .attr(\"d\", \"M79.35,8 L 81.35 8 81.35 12 79.35 12 z\");\n",
        "          }(g.append(\"g\")));\n",
        "          (function (g) {\n",
        "            g.attr(\"stroke\", \"#6A6A6A\")\n",
        "             .attr(\"stroke-opacity\", 0.00)\n",
        "             .attr(\"stroke-width\", 0.3)\n",
        "             .attr(\"fill\", \"#EAEAEA\")\n",
        "             .on(\"click\", zoomout_behavior(ctx))\n",
        ".on(\"dblclick\", function() { d3.event.stopPropagation(); })\n",
        ".on(\"mouseover\", zoomslider_button_mouseover(\"#cd5c5c\"))\n",
        ".on(\"mouseout\", zoomslider_button_mouseover(\"#6a6a6a\"))\n",
        ";\n",
        "            g.append(\"svg:path\")\n",
        "               .attr(\"d\", \"M66.35,8 L 70.35 8 70.35 12 66.35 12 z\");\n",
        "            (function (g) {\n",
        "              g.attr(\"fill\", \"#6A6A6A\")\n",
        "               .attr(\"class\", \"button_logo\");\n",
        "              g.append(\"svg:path\")\n",
        "                 .attr(\"d\", \"M67.15,9.6 L 69.55 9.6 69.55 10.4 67.15 10.4 z\");\n",
        "            }(g.append(\"g\")));\n",
        "          }(g.append(\"g\")));\n",
        "        }(g.append(\"g\")));\n",
        "      }(g.append(\"g\")));\n",
        "    }(g.append(\"g\")));\n",
        "  }(g.append(\"g\")));\n",
        "}(g.append(\"g\")));\n",
        "    d3.select(parent_id)\n",
        "      .selectAll(\"path\")\n",
        "      .each(function() {\n",
        "          var sw = parseFloat(window.getComputedStyle(this).getPropertyValue(\"stroke-width\"));\n",
        "          d3.select(this)\n",
        "            .attr(\"vector-effect\", \"non-scaling-stroke\")\n",
        "            .style(\"stroke-width\", sw + \"mm\");\n",
        "      });\n",
        "}\n",
        "\n",
        "var data = [\n",
        "];\n",
        "\n",
        "var draw = function(parent_id) {\n",
        "    draw_with_data(data, parent_id);\n",
        "};\n",
        "\n",
        "if ('undefined' !== typeof module) {\n",
        "    module.exports = draw;\n",
        "} else if ('undefined' !== typeof window) {\n",
        "    window.draw = draw\n",
        "}\n",
        "\n",
        "return module;\n",
        "})({}).exports(\"#gadflyplot-XRpfUttvAtQRGan4vaVh\");\n",
        "//@ sourceURL=gadflyplot-XRpfUttvAtQRGan4vaVh.js\n",
        "</script>\n"
       ],
       "metadata": {},
       "output_type": "pyout",
       "png": "[encoded data removed]",
       "prompt_number": 9,
       "svg": [
        "<?xml version=\"1.0\" encoding=\"UTF-8\"?>\n",
        "<svg xmlns=\"http://www.w3.org/2000/svg\" xmlns:xlink=\"http://www.w3.org/1999/xlink\" version=\"1.1\" width=\"120mm\" height=\"80mm\" viewBox=\"0 0 120 80\" style=\"stroke:black;fill:black\" stroke-width=\"0.5\">\n",
        "<g font-family=\"Helvetic,Arial,sans\" stroke-width=\"0.3\" font-size=\"3.88\" stroke=\"none\" fill=\"#000000\">\n",
        "  <g class=\"plotroot xscalable yscalable\">\n",
        "    <g font-family=\"'PT Sans','Helvetica Neue','Helvetica',sans-serif\" font-size=\"3.18\" stroke=\"none\" class=\"guide ylabels\" fill=\"#4C404B\">\n",
        "      <text x=\"28\" y=\"17.1\" text-anchor=\"end\" style=\"dominant-baseline:central\">2.0\u00d710<tspan style=\"dominant-baseline:inherit\" dy=\"-1.722547743055555358\" font-size=\"83.333333%\">-13</tspan></text>\n",
        "      <text x=\"28\" y=\"48.68\" text-anchor=\"end\" style=\"dominant-baseline:central\">5.0\u00d710<tspan style=\"dominant-baseline:inherit\" dy=\"-1.722547743055555358\" font-size=\"83.333333%\">-14</tspan></text>\n",
        "      <text x=\"28\" y=\"27.63\" text-anchor=\"end\" style=\"dominant-baseline:central\">1.5\u00d710<tspan style=\"dominant-baseline:inherit\" dy=\"-1.722547743055555358\" font-size=\"83.333333%\">-13</tspan></text>\n",
        "      <text x=\"28\" y=\"59.21\" text-anchor=\"end\" style=\"dominant-baseline:central\">0</text>\n",
        "      <text x=\"28\" y=\"6.58\" text-anchor=\"end\" style=\"dominant-baseline:central\">2.5\u00d710<tspan style=\"dominant-baseline:inherit\" dy=\"-1.722547743055555358\" font-size=\"83.333333%\">-13</tspan></text>\n",
        "      <text x=\"28\" y=\"38.16\" text-anchor=\"end\" style=\"dominant-baseline:central\">1.0\u00d710<tspan style=\"dominant-baseline:inherit\" dy=\"-1.722547743055555358\" font-size=\"83.333333%\">-13</tspan></text>\n",
        "    </g>\n",
        "    <g font-family=\"'PT Sans','Helvetica Neue','Helvetica',sans-serif\" font-size=\"3.88\" stroke=\"none\" fill=\"#362A35\">\n",
        "      <text x=\"8.26\" y=\"32.89\" text-anchor=\"middle\" style=\"dominant-baseline:central\" transform=\"rotate(-90, 8.26, 32.89)\">spectral radiance, B (W\u00b7sr\u207b\u00b9\u00b7nm\u207b\u00b3)</text>\n",
        "    </g>\n",
        "    <g font-family=\"'PT Sans','Helvetica Neue','Helvetica',sans-serif\" font-size=\"3.18\" stroke=\"none\" class=\"guide xlabels\" fill=\"#4C404B\">\n",
        "      <text x=\"79.3\" y=\"65.48\" text-anchor=\"middle\">1500</text>\n",
        "      <text x=\"47.06\" y=\"65.48\" text-anchor=\"middle\">500</text>\n",
        "      <text x=\"95.42\" y=\"65.48\" text-anchor=\"middle\">2000</text>\n",
        "      <text x=\"63.18\" y=\"65.48\" text-anchor=\"middle\">1000</text>\n",
        "      <text x=\"30.94\" y=\"65.48\" text-anchor=\"middle\">0</text>\n",
        "    </g>\n",
        "    <g font-family=\"'PT Sans','Helvetica Neue','Helvetica',sans-serif\" font-size=\"3.88\" stroke=\"none\" fill=\"#362A35\">\n",
        "      <text x=\"63.18\" y=\"73\" text-anchor=\"middle\">\u03bb (nm)</text>\n",
        "    </g>\n",
        "    <g font-family=\"'PT Sans','Helvetica Neue','Helvetica',sans-serif\" font-size=\"3.88\" stroke=\"none\" fill=\"#362A35\">\n",
        "      <text x=\"108.17\" y=\"15.02\" text-anchor=\"middle\">Color</text>\n",
        "    </g>\n",
        "    <g font-family=\"'PT Sans','Helvetica Neue','Helvetica',sans-serif\" font-size=\"3.18\">\n",
        "      <g class=\"guide color_8000_K_\">\n",
        "        <g stroke-width=\"0.3\" stroke=\"#008B28\" fill=\"#32B44E\">\n",
        "          <path d=\"M99.35,49.89 L 103.05 49.89 103.05 53.59 99.35 53.59 z\" />\n",
        "        </g>\n",
        "        <g stroke=\"none\" fill=\"#4C404B\">\n",
        "          <text x=\"104.05\" y=\"51.74\" style=\"dominant-baseline:central\">8000 K </text>\n",
        "        </g>\n",
        "      </g>\n",
        "      <g class=\"guide color_6000_K_\">\n",
        "        <g stroke-width=\"0.3\" stroke=\"#777777\" fill=\"#9E9E9E\">\n",
        "          <path d=\"M99.35,40.5 L 103.05 40.5 103.05 44.2 99.35 44.2 z\" />\n",
        "        </g>\n",
        "        <g stroke=\"none\" fill=\"#4C404B\">\n",
        "          <text x=\"104.05\" y=\"42.35\" style=\"dominant-baseline:central\">6000 K </text>\n",
        "        </g>\n",
        "      </g>\n",
        "      <g class=\"guide color_4000_K_\">\n",
        "        <g stroke-width=\"0.3\" stroke=\"#00BA8B\" fill=\"#00E5B2\">\n",
        "          <path d=\"M99.35,31.11 L 103.05 31.11 103.05 34.8 99.35 34.8 z\" />\n",
        "        </g>\n",
        "        <g stroke=\"none\" fill=\"#4C404B\">\n",
        "          <text x=\"104.05\" y=\"32.96\" style=\"dominant-baseline:central\">4000 K </text>\n",
        "        </g>\n",
        "      </g>\n",
        "      <g class=\"guide color_2000_K_\">\n",
        "        <g stroke-width=\"0.3\" stroke=\"#A8A200\" fill=\"#D4CA3A\">\n",
        "          <path d=\"M99.35,21.72 L 103.05 21.72 103.05 25.41 99.35 25.41 z\" />\n",
        "        </g>\n",
        "        <g stroke=\"none\" fill=\"#4C404B\">\n",
        "          <text x=\"104.05\" y=\"23.56\" style=\"dominant-baseline:central\">2000 K </text>\n",
        "        </g>\n",
        "      </g>\n",
        "      <g class=\"guide color_1000_K_\">\n",
        "        <g stroke-width=\"0.3\" stroke=\"#0096DD\" fill=\"#00BFFF\">\n",
        "          <path d=\"M99.35,17.02 L 103.05 17.02 103.05 20.72 99.35 20.72 z\" />\n",
        "        </g>\n",
        "        <g stroke=\"none\" fill=\"#4C404B\">\n",
        "          <text x=\"104.05\" y=\"18.87\" style=\"dominant-baseline:central\">1000 K </text>\n",
        "        </g>\n",
        "      </g>\n",
        "      <g class=\"guide color_3000_K_\">\n",
        "        <g stroke-width=\"0.3\" stroke=\"#DC2C7A\" fill=\"#FF5EA0\">\n",
        "          <path d=\"M99.35,26.41 L 103.05 26.41 103.05 30.11 99.35 30.11 z\" />\n",
        "        </g>\n",
        "        <g stroke=\"none\" fill=\"#4C404B\">\n",
        "          <text x=\"104.05\" y=\"28.26\" style=\"dominant-baseline:central\">3000 K </text>\n",
        "        </g>\n",
        "      </g>\n",
        "      <g class=\"guide color_5000_K_\">\n",
        "        <g stroke-width=\"0.3\" stroke=\"#CA7EF6\" fill=\"#F6A6FF\">\n",
        "          <path d=\"M99.35,35.8 L 103.05 35.8 103.05 39.5 99.35 39.5 z\" />\n",
        "        </g>\n",
        "        <g stroke=\"none\" fill=\"#4C404B\">\n",
        "          <text x=\"104.05\" y=\"37.65\" style=\"dominant-baseline:central\">5000 K </text>\n",
        "        </g>\n",
        "      </g>\n",
        "      <g class=\"guide color_7000_K_\">\n",
        "        <g stroke-width=\"0.3\" stroke=\"#FF6765\" fill=\"#FF928B\">\n",
        "          <path d=\"M99.35,45.2 L 103.05 45.2 103.05 48.89 99.35 48.89 z\" />\n",
        "        </g>\n",
        "        <g stroke=\"none\" fill=\"#4C404B\">\n",
        "          <text x=\"104.05\" y=\"47.04\" style=\"dominant-baseline:central\">7000 K </text>\n",
        "        </g>\n",
        "      </g>\n",
        "      <g class=\"guide color_9000_K_\">\n",
        "        <g stroke-width=\"0.3\" stroke=\"#C05901\" fill=\"#F08031\">\n",
        "          <path d=\"M99.35,54.59 L 103.05 54.59 103.05 58.28 99.35 58.28 z\" />\n",
        "        </g>\n",
        "        <g stroke=\"none\" fill=\"#4C404B\">\n",
        "          <text x=\"104.05\" y=\"56.44\" style=\"dominant-baseline:central\">9000 K </text>\n",
        "        </g>\n",
        "      </g>\n",
        "    </g>\n",
        "    <g>\n",
        "      <g clip-path=\"url(#clippath1)\">\n",
        "        <g stroke=\"#F1F1F5\" class=\"guide background\" fill=\"#FAFAFA\" opacity=\"1\">\n",
        "          <path d=\"M29,5 L 97.35 5 97.35 60.79 29 60.79 z\" />\n",
        "        </g>\n",
        "        <g stroke-width=\"0.2\" stroke=\"#F0F0F3\" class=\"guide ygridlines xfixed\">\n",
        "          <path d=\"M29,48.68 L 97.35 48.68\" />\n",
        "          <path d=\"M29,122.36 L 97.35 122.36\" />\n",
        "          <path d=\"M29,-14.47 L 97.35 -14.47\" />\n",
        "          <path d=\"M29,27.63 L 97.35 27.63\" />\n",
        "          <path d=\"M29,59.21 L 97.35 59.21\" />\n",
        "          <path d=\"M29,-56.58 L 97.35 -56.58\" />\n",
        "          <path d=\"M29,90.79 L 97.35 90.79\" />\n",
        "          <path d=\"M29,6.58 L 97.35 6.58\" />\n",
        "          <path d=\"M29,69.73 L 97.35 69.73\" />\n",
        "          <path d=\"M29,38.16 L 97.35 38.16\" />\n",
        "          <path d=\"M29,80.26 L 97.35 80.26\" />\n",
        "          <path d=\"M29,-46.05 L 97.35 -46.05\" />\n",
        "          <path d=\"M29,101.31 L 97.35 101.31\" />\n",
        "          <path d=\"M29,111.84 L 97.35 111.84\" />\n",
        "          <path d=\"M29,-35.52 L 97.35 -35.52\" />\n",
        "          <path d=\"M29,-3.95 L 97.35 -3.95\" />\n",
        "          <path d=\"M29,-25 L 97.35 -25\" />\n",
        "          <path d=\"M29,17.1 L 97.35 17.1\" />\n",
        "        </g>\n",
        "        <g stroke-width=\"0.2\" stroke=\"#F0F0F3\" class=\"guide xgridlines yfixed\">\n",
        "          <path d=\"M79.3,5 L 79.3 60.79\" />\n",
        "          <path d=\"M47.06,5 L 47.06 60.79\" />\n",
        "          <path d=\"M159.89,5 L 159.89 60.79\" />\n",
        "          <path d=\"M63.18,5 L 63.18 60.79\" />\n",
        "          <path d=\"M-33.54,5 L -33.54 60.79\" />\n",
        "          <path d=\"M143.77,5 L 143.77 60.79\" />\n",
        "          <path d=\"M30.94,5 L 30.94 60.79\" />\n",
        "          <path d=\"M-49.66,5 L -49.66 60.79\" />\n",
        "          <path d=\"M111.53,5 L 111.53 60.79\" />\n",
        "          <path d=\"M14.82,5 L 14.82 60.79\" />\n",
        "          <path d=\"M-17.42,5 L -17.42 60.79\" />\n",
        "          <path d=\"M95.42,5 L 95.42 60.79\" />\n",
        "          <path d=\"M127.65,5 L 127.65 60.79\" />\n",
        "          <path d=\"M176.01,5 L 176.01 60.79\" />\n",
        "          <path d=\"M-1.3,5 L -1.3 60.79\" />\n",
        "        </g>\n",
        "      </g>\n",
        "      <g clip-path=\"url(#clippath2)\">\n",
        "        <g class=\"plotpanel\">\n",
        "          <g stroke-width=\"0.3\" fill=\"none\">\n",
        "            <g stroke=\"#D4CA3A\" class=\"geometry color_2000_K_\">\n",
        "              <path d=\"M30.94,59.21 L 31.2 59.21 31.46 59.21 31.72 59.21 31.97 59.21 32.23 59.21 32.49 59.21 32.75 59.21 33.01 59.21 33.27 59.21 33.53 59.21 33.79 59.21 34.05 59.21 34.3 59.21 34.56 59.21 34.82 59.21 35.08 59.21 35.34 59.21 35.6 59.21 35.86 59.21 36.12 59.21 36.38 59.21 36.64 59.21 36.89 59.21 37.15 59.21 37.41 59.21 37.67 59.21 37.93 59.21 38.19 59.21 38.45 59.21 38.71 59.21 38.97 59.21 39.22 59.21 39.48 59.21 39.74 59.21 40 59.21 40.26 59.21 40.52 59.21 40.78 59.21 41.04 59.21 41.3 59.21 41.56 59.21 41.81 59.21 42.07 59.21 42.33 59.21 42.59 59.21 42.85 59.21 43.11 59.21 43.37 59.21 43.63 59.21 43.89 59.21 44.14 59.21 44.4 59.21 44.66 59.21 44.92 59.21 45.18 59.21 45.44 59.21 45.7 59.21 45.96 59.21 46.22 59.21 46.48 59.21 46.73 59.21 46.99 59.21 47.25 59.21 47.51 59.21 47.77 59.21 48.03 59.21 48.29 59.21 48.55 59.21 48.81 59.21 49.06 59.21 49.32 59.21 49.58 59.21 49.84 59.21 50.1 59.21 50.36 59.21 50.62 59.21 50.88 59.21 51.14 59.21 51.39 59.21 51.65 59.2 51.91 59.2 52.17 59.2 52.43 59.2 52.69 59.2 52.95 59.2 53.21 59.2 53.47 59.2 53.73 59.2 53.98 59.2 54.24 59.2 54.5 59.2 54.76 59.2 55.02 59.2 55.28 59.2 55.54 59.2 55.8 59.2 56.06 59.2 56.31 59.2 56.57 59.2 56.83 59.2 57.09 59.2 57.35 59.2 57.61 59.2 57.87 59.2 58.13 59.2 58.39 59.2 58.65 59.2 58.9 59.2 59.16 59.19 59.42 59.19 59.68 59.19 59.94 59.19 60.2 59.19 60.46 59.19 60.72 59.19 60.98 59.19 61.23 59.19 61.49 59.19 61.75 59.19 62.01 59.19 62.27 59.19 62.53 59.19 62.79 59.19 63.05 59.19 63.31 59.19 63.57 59.19 63.82 59.19 64.08 59.19 64.34 59.19 64.6 59.19 64.86 59.19 65.12 59.19 65.38 59.19 65.64 59.19 65.9 59.19 66.15 59.19 66.41 59.19 66.67 59.19 66.93 59.18 67.19 59.18 67.45 59.18 67.71 59.18 67.97 59.18 68.23 59.18 68.49 59.18 68.74 59.18 69 59.18 69.26 59.18 69.52 59.18 69.78 59.18 70.04 59.18 70.3 59.18 70.56 59.18 70.82 59.18 71.07 59.18 71.33 59.18 71.59 59.18 71.85 59.18 72.11 59.18 72.37 59.18 72.63 59.18 72.89 59.18 73.15 59.18 73.41 59.18 73.66 59.18 73.92 59.18 74.18 59.18 74.44 59.18 74.7 59.18 74.96 59.18 75.22 59.18 75.48 59.18 75.74 59.18 75.99 59.18 76.25 59.18 76.51 59.18 76.77 59.18 77.03 59.18 77.29 59.18 77.55 59.18 77.81 59.18 78.07 59.18 78.32 59.18 78.58 59.18 78.84 59.18 79.1 59.18 79.36 59.18 79.62 59.18 79.88 59.18 80.14 59.18 80.4 59.18 80.66 59.18 80.91 59.18 81.17 59.18 81.43 59.18 81.69 59.18 81.95 59.18 82.21 59.18 82.47 59.18 82.73 59.18 82.99 59.18 83.24 59.18 83.5 59.18 83.76 59.18 84.02 59.18 84.28 59.18 84.54 59.18 84.8 59.18 85.06 59.18 85.32 59.18 85.58 59.18 85.83 59.18 86.09 59.18 86.35 59.18 86.61 59.18 86.87 59.18 87.13 59.18 87.39 59.18 87.65 59.18 87.91 59.18 88.16 59.18 88.42 59.18 88.68 59.18 88.94 59.18 89.2 59.18 89.46 59.18 89.72 59.18 89.98 59.18 90.24 59.18 90.5 59.18 90.75 59.18 91.01 59.18 91.27 59.18 91.53 59.18 91.79 59.18 92.05 59.18 92.31 59.18 92.57 59.18 92.83 59.18 93.08 59.18 93.34 59.19 93.6 59.19 93.86 59.19 94.12 59.19 94.38 59.19 94.64 59.19 94.9 59.19 95.16 59.19 95.42 59.19\" />\n",
        "            </g>\n",
        "            <g stroke=\"#FF5EA0\" class=\"geometry color_3000_K_\">\n",
        "              <path d=\"M30.94,59.21 L 31.2 59.21 31.46 59.21 31.72 59.21 31.97 59.21 32.23 59.21 32.49 59.21 32.75 59.21 33.01 59.21 33.27 59.21 33.53 59.21 33.79 59.21 34.05 59.21 34.3 59.21 34.56 59.21 34.82 59.21 35.08 59.21 35.34 59.21 35.6 59.21 35.86 59.21 36.12 59.21 36.38 59.21 36.64 59.21 36.89 59.21 37.15 59.21 37.41 59.21 37.67 59.21 37.93 59.21 38.19 59.21 38.45 59.21 38.71 59.21 38.97 59.21 39.22 59.21 39.48 59.21 39.74 59.21 40 59.21 40.26 59.21 40.52 59.21 40.78 59.21 41.04 59.21 41.3 59.21 41.56 59.2 41.81 59.2 42.07 59.2 42.33 59.2 42.59 59.2 42.85 59.2 43.11 59.2 43.37 59.2 43.63 59.19 43.89 59.19 44.14 59.19 44.4 59.19 44.66 59.19 44.92 59.18 45.18 59.18 45.44 59.18 45.7 59.17 45.96 59.17 46.22 59.17 46.48 59.16 46.73 59.16 46.99 59.15 47.25 59.15 47.51 59.15 47.77 59.14 48.03 59.14 48.29 59.13 48.55 59.13 48.81 59.12 49.06 59.12 49.32 59.12 49.58 59.11 49.84 59.11 50.1 59.1 50.36 59.1 50.62 59.09 50.88 59.09 51.14 59.08 51.39 59.08 51.65 59.08 51.91 59.07 52.17 59.07 52.43 59.06 52.69 59.06 52.95 59.06 53.21 59.05 53.47 59.05 53.73 59.05 53.98 59.04 54.24 59.04 54.5 59.04 54.76 59.03 55.02 59.03 55.28 59.03 55.54 59.03 55.8 59.02 56.06 59.02 56.31 59.02 56.57 59.02 56.83 59.02 57.09 59.01 57.35 59.01 57.61 59.01 57.87 59.01 58.13 59.01 58.39 59.01 58.65 59.01 58.9 59 59.16 59 59.42 59 59.68 59 59.94 59 60.2 59 60.46 59 60.72 59 60.98 59 61.23 59 61.49 59 61.75 59 62.01 59 62.27 59 62.53 59 62.79 59 63.05 59 63.31 59 63.57 59 63.82 59 64.08 59 64.34 59 64.6 59 64.86 59 65.12 59 65.38 59 65.64 59 65.9 59 66.15 59.01 66.41 59.01 66.67 59.01 66.93 59.01 67.19 59.01 67.45 59.01 67.71 59.01 67.97 59.01 68.23 59.01 68.49 59.01 68.74 59.02 69 59.02 69.26 59.02 69.52 59.02 69.78 59.02 70.04 59.02 70.3 59.02 70.56 59.02 70.82 59.02 71.07 59.03 71.33 59.03 71.59 59.03 71.85 59.03 72.11 59.03 72.37 59.03 72.63 59.03 72.89 59.04 73.15 59.04 73.41 59.04 73.66 59.04 73.92 59.04 74.18 59.04 74.44 59.04 74.7 59.04 74.96 59.05 75.22 59.05 75.48 59.05 75.74 59.05 75.99 59.05 76.25 59.05 76.51 59.05 76.77 59.05 77.03 59.06 77.29 59.06 77.55 59.06 77.81 59.06 78.07 59.06 78.32 59.06 78.58 59.06 78.84 59.07 79.1 59.07 79.36 59.07 79.62 59.07 79.88 59.07 80.14 59.07 80.4 59.07 80.66 59.07 80.91 59.08 81.17 59.08 81.43 59.08 81.69 59.08 81.95 59.08 82.21 59.08 82.47 59.08 82.73 59.08 82.99 59.08 83.24 59.09 83.5 59.09 83.76 59.09 84.02 59.09 84.28 59.09 84.54 59.09 84.8 59.09 85.06 59.09 85.32 59.09 85.58 59.1 85.83 59.1 86.09 59.1 86.35 59.1 86.61 59.1 86.87 59.1 87.13 59.1 87.39 59.1 87.65 59.1 87.91 59.1 88.16 59.11 88.42 59.11 88.68 59.11 88.94 59.11 89.2 59.11 89.46 59.11 89.72 59.11 89.98 59.11 90.24 59.11 90.5 59.11 90.75 59.12 91.01 59.12 91.27 59.12 91.53 59.12 91.79 59.12 92.05 59.12 92.31 59.12 92.57 59.12 92.83 59.12 93.08 59.12 93.34 59.12 93.6 59.12 93.86 59.13 94.12 59.13 94.38 59.13 94.64 59.13 94.9 59.13 95.16 59.13 95.42 59.13\" />\n",
        "            </g>\n",
        "            <g stroke=\"#00E5B2\" class=\"geometry color_4000_K_\">\n",
        "              <path d=\"M30.94,59.21 L 31.2 59.21 31.46 59.21 31.72 59.21 31.97 59.21 32.23 59.21 32.49 59.21 32.75 59.21 33.01 59.21 33.27 59.21 33.53 59.21 33.79 59.21 34.05 59.21 34.3 59.21 34.56 59.21 34.82 59.21 35.08 59.21 35.34 59.21 35.6 59.21 35.86 59.21 36.12 59.21 36.38 59.21 36.64 59.21 36.89 59.21 37.15 59.21 37.41 59.21 37.67 59.21 37.93 59.2 38.19 59.2 38.45 59.2 38.71 59.2 38.97 59.19 39.22 59.19 39.48 59.18 39.74 59.18 40 59.17 40.26 59.16 40.52 59.15 40.78 59.14 41.04 59.12 41.3 59.11 41.56 59.09 41.81 59.07 42.07 59.05 42.33 59.04 42.59 59.01 42.85 58.99 43.11 58.97 43.37 58.95 43.63 58.92 43.89 58.9 44.14 58.87 44.4 58.85 44.66 58.82 44.92 58.8 45.18 58.77 45.44 58.75 45.7 58.73 45.96 58.7 46.22 58.68 46.48 58.65 46.73 58.63 46.99 58.61 47.25 58.59 47.51 58.57 47.77 58.55 48.03 58.53 48.29 58.51 48.55 58.5 48.81 58.48 49.06 58.46 49.32 58.45 49.58 58.44 49.84 58.42 50.1 58.41 50.36 58.4 50.62 58.39 50.88 58.38 51.14 58.37 51.39 58.36 51.65 58.36 51.91 58.35 52.17 58.34 52.43 58.34 52.69 58.34 52.95 58.33 53.21 58.33 53.47 58.33 53.73 58.33 53.98 58.33 54.24 58.33 54.5 58.33 54.76 58.33 55.02 58.33 55.28 58.33 55.54 58.33 55.8 58.33 56.06 58.34 56.31 58.34 56.57 58.34 56.83 58.35 57.09 58.35 57.35 58.36 57.61 58.36 57.87 58.37 58.13 58.37 58.39 58.38 58.65 58.38 58.9 58.39 59.16 58.39 59.42 58.4 59.68 58.41 59.94 58.41 60.2 58.42 60.46 58.43 60.72 58.43 60.98 58.44 61.23 58.45 61.49 58.45 61.75 58.46 62.01 58.47 62.27 58.48 62.53 58.48 62.79 58.49 63.05 58.5 63.31 58.51 63.57 58.51 63.82 58.52 64.08 58.53 64.34 58.53 64.6 58.54 64.86 58.55 65.12 58.56 65.38 58.56 65.64 58.57 65.9 58.58 66.15 58.59 66.41 58.59 66.67 58.6 66.93 58.61 67.19 58.61 67.45 58.62 67.71 58.63 67.97 58.64 68.23 58.64 68.49 58.65 68.74 58.66 69 58.66 69.26 58.67 69.52 58.68 69.78 58.68 70.04 58.69 70.3 58.7 70.56 58.7 70.82 58.71 71.07 58.71 71.33 58.72 71.59 58.73 71.85 58.73 72.11 58.74 72.37 58.74 72.63 58.75 72.89 58.76 73.15 58.76 73.41 58.77 73.66 58.77 73.92 58.78 74.18 58.78 74.44 58.79 74.7 58.79 74.96 58.8 75.22 58.8 75.48 58.81 75.74 58.81 75.99 58.82 76.25 58.82 76.51 58.83 76.77 58.83 77.03 58.84 77.29 58.84 77.55 58.85 77.81 58.85 78.07 58.86 78.32 58.86 78.58 58.87 78.84 58.87 79.1 58.87 79.36 58.88 79.62 58.88 79.88 58.89 80.14 58.89 80.4 58.9 80.66 58.9 80.91 58.9 81.17 58.91 81.43 58.91 81.69 58.91 81.95 58.92 82.21 58.92 82.47 58.92 82.73 58.93 82.99 58.93 83.24 58.94 83.5 58.94 83.76 58.94 84.02 58.95 84.28 58.95 84.54 58.95 84.8 58.95 85.06 58.96 85.32 58.96 85.58 58.96 85.83 58.97 86.09 58.97 86.35 58.97 86.61 58.98 86.87 58.98 87.13 58.98 87.39 58.98 87.65 58.99 87.91 58.99 88.16 58.99 88.42 58.99 88.68 59 88.94 59 89.2 59 89.46 59 89.72 59.01 89.98 59.01 90.24 59.01 90.5 59.01 90.75 59.02 91.01 59.02 91.27 59.02 91.53 59.02 91.79 59.03 92.05 59.03 92.31 59.03 92.57 59.03 92.83 59.03 93.08 59.04 93.34 59.04 93.6 59.04 93.86 59.04 94.12 59.04 94.38 59.05 94.64 59.05 94.9 59.05 95.16 59.05 95.42 59.05\" />\n",
        "            </g>\n",
        "            <g stroke=\"#00BFFF\" class=\"geometry color_1000_K_\">\n",
        "              <path d=\"M30.94,59.21 L 31.2 59.21 31.46 59.21 31.72 59.21 31.97 59.21 32.23 59.21 32.49 59.21 32.75 59.21 33.01 59.21 33.27 59.21 33.53 59.21 33.79 59.21 34.05 59.21 34.3 59.21 34.56 59.21 34.82 59.21 35.08 59.21 35.34 59.21 35.6 59.21 35.86 59.21 36.12 59.21 36.38 59.21 36.64 59.21 36.89 59.21 37.15 59.21 37.41 59.21 37.67 59.21 37.93 59.21 38.19 59.21 38.45 59.21 38.71 59.21 38.97 59.21 39.22 59.21 39.48 59.21 39.74 59.21 40 59.21 40.26 59.21 40.52 59.21 40.78 59.21 41.04 59.21 41.3 59.21 41.56 59.21 41.81 59.21 42.07 59.21 42.33 59.21 42.59 59.21 42.85 59.21 43.11 59.21 43.37 59.21 43.63 59.21 43.89 59.21 44.14 59.21 44.4 59.21 44.66 59.21 44.92 59.21 45.18 59.21 45.44 59.21 45.7 59.21 45.96 59.21 46.22 59.21 46.48 59.21 46.73 59.21 46.99 59.21 47.25 59.21 47.51 59.21 47.77 59.21 48.03 59.21 48.29 59.21 48.55 59.21 48.81 59.21 49.06 59.21 49.32 59.21 49.58 59.21 49.84 59.21 50.1 59.21 50.36 59.21 50.62 59.21 50.88 59.21 51.14 59.21 51.39 59.21 51.65 59.21 51.91 59.21 52.17 59.21 52.43 59.21 52.69 59.21 52.95 59.21 53.21 59.21 53.47 59.21 53.73 59.21 53.98 59.21 54.24 59.21 54.5 59.21 54.76 59.21 55.02 59.21 55.28 59.21 55.54 59.21 55.8 59.21 56.06 59.21 56.31 59.21 56.57 59.21 56.83 59.21 57.09 59.21 57.35 59.21 57.61 59.21 57.87 59.21 58.13 59.21 58.39 59.21 58.65 59.21 58.9 59.21 59.16 59.21 59.42 59.21 59.68 59.21 59.94 59.21 60.2 59.21 60.46 59.21 60.72 59.21 60.98 59.21 61.23 59.21 61.49 59.21 61.75 59.21 62.01 59.21 62.27 59.21 62.53 59.21 62.79 59.21 63.05 59.21 63.31 59.21 63.57 59.21 63.82 59.21 64.08 59.21 64.34 59.21 64.6 59.21 64.86 59.21 65.12 59.21 65.38 59.21 65.64 59.21 65.9 59.21 66.15 59.21 66.41 59.21 66.67 59.21 66.93 59.21 67.19 59.21 67.45 59.21 67.71 59.21 67.97 59.21 68.23 59.21 68.49 59.21 68.74 59.21 69 59.21 69.26 59.21 69.52 59.21 69.78 59.21 70.04 59.21 70.3 59.21 70.56 59.21 70.82 59.21 71.07 59.21 71.33 59.21 71.59 59.21 71.85 59.21 72.11 59.21 72.37 59.21 72.63 59.21 72.89 59.21 73.15 59.21 73.41 59.21 73.66 59.21 73.92 59.21 74.18 59.21 74.44 59.21 74.7 59.21 74.96 59.21 75.22 59.21 75.48 59.21 75.74 59.21 75.99 59.21 76.25 59.21 76.51 59.21 76.77 59.21 77.03 59.21 77.29 59.21 77.55 59.21 77.81 59.21 78.07 59.21 78.32 59.21 78.58 59.21 78.84 59.21 79.1 59.21 79.36 59.21 79.62 59.21 79.88 59.21 80.14 59.21 80.4 59.21 80.66 59.21 80.91 59.21 81.17 59.21 81.43 59.21 81.69 59.21 81.95 59.21 82.21 59.21 82.47 59.21 82.73 59.21 82.99 59.21 83.24 59.21 83.5 59.21 83.76 59.21 84.02 59.21 84.28 59.21 84.54 59.21 84.8 59.21 85.06 59.21 85.32 59.21 85.58 59.21 85.83 59.21 86.09 59.21 86.35 59.21 86.61 59.21 86.87 59.21 87.13 59.21 87.39 59.21 87.65 59.21 87.91 59.21 88.16 59.21 88.42 59.21 88.68 59.21 88.94 59.21 89.2 59.21 89.46 59.21 89.72 59.21 89.98 59.21 90.24 59.21 90.5 59.21 90.75 59.21 91.01 59.21 91.27 59.21 91.53 59.21 91.79 59.21 92.05 59.21 92.31 59.21 92.57 59.21 92.83 59.21 93.08 59.21 93.34 59.21 93.6 59.21 93.86 59.21 94.12 59.21 94.38 59.21 94.64 59.21 94.9 59.21 95.16 59.21 95.42 59.21\" />\n",
        "            </g>\n",
        "            <g stroke=\"#9E9E9E\" class=\"geometry color_6000_K_\">\n",
        "              <path d=\"M30.94,59.21 L 31.2 59.21 31.46 59.21 31.72 59.21 31.97 59.21 32.23 59.21 32.49 59.21 32.75 59.21 33.01 59.21 33.27 59.21 33.53 59.21 33.79 59.21 34.05 59.21 34.3 59.21 34.56 59.21 34.82 59.21 35.08 59.2 35.34 59.2 35.6 59.18 35.86 59.16 36.12 59.13 36.38 59.09 36.64 59.02 36.89 58.94 37.15 58.84 37.41 58.71 37.67 58.56 37.93 58.38 38.19 58.19 38.45 57.97 38.71 57.74 38.97 57.49 39.22 57.22 39.48 56.95 39.74 56.67 40 56.39 40.26 56.1 40.52 55.82 40.78 55.54 41.04 55.27 41.3 55 41.56 54.75 41.81 54.51 42.07 54.28 42.33 54.06 42.59 53.86 42.85 53.67 43.11 53.5 43.37 53.34 43.63 53.2 43.89 53.07 44.14 52.95 44.4 52.85 44.66 52.77 44.92 52.7 45.18 52.64 45.44 52.59 45.7 52.55 45.96 52.52 46.22 52.51 46.48 52.5 46.73 52.51 46.99 52.52 47.25 52.54 47.51 52.56 47.77 52.6 48.03 52.64 48.29 52.68 48.55 52.73 48.81 52.79 49.06 52.85 49.32 52.91 49.58 52.98 49.84 53.05 50.1 53.12 50.36 53.19 50.62 53.27 50.88 53.35 51.14 53.43 51.39 53.51 51.65 53.59 51.91 53.67 52.17 53.76 52.43 53.84 52.69 53.93 52.95 54.01 53.21 54.1 53.47 54.18 53.73 54.26 53.98 54.35 54.24 54.43 54.5 54.51 54.76 54.59 55.02 54.68 55.28 54.76 55.54 54.83 55.8 54.91 56.06 54.99 56.31 55.07 56.57 55.14 56.83 55.22 57.09 55.29 57.35 55.36 57.61 55.44 57.87 55.51 58.13 55.57 58.39 55.64 58.65 55.71 58.9 55.77 59.16 55.84 59.42 55.9 59.68 55.97 59.94 56.03 60.2 56.09 60.46 56.15 60.72 56.2 60.98 56.26 61.23 56.32 61.49 56.37 61.75 56.42 62.01 56.48 62.27 56.53 62.53 56.58 62.79 56.63 63.05 56.68 63.31 56.72 63.57 56.77 63.82 56.82 64.08 56.86 64.34 56.91 64.6 56.95 64.86 56.99 65.12 57.03 65.38 57.07 65.64 57.11 65.9 57.15 66.15 57.19 66.41 57.23 66.67 57.26 66.93 57.3 67.19 57.33 67.45 57.37 67.71 57.4 67.97 57.43 68.23 57.47 68.49 57.5 68.74 57.53 69 57.56 69.26 57.59 69.52 57.62 69.78 57.64 70.04 57.67 70.3 57.7 70.56 57.73 70.82 57.75 71.07 57.78 71.33 57.8 71.59 57.83 71.85 57.85 72.11 57.88 72.37 57.9 72.63 57.92 72.89 57.94 73.15 57.96 73.41 57.99 73.66 58.01 73.92 58.03 74.18 58.05 74.44 58.07 74.7 58.09 74.96 58.11 75.22 58.12 75.48 58.14 75.74 58.16 75.99 58.18 76.25 58.19 76.51 58.21 76.77 58.23 77.03 58.24 77.29 58.26 77.55 58.27 77.81 58.29 78.07 58.3 78.32 58.32 78.58 58.33 78.84 58.35 79.1 58.36 79.36 58.37 79.62 58.39 79.88 58.4 80.14 58.41 80.4 58.43 80.66 58.44 80.91 58.45 81.17 58.46 81.43 58.47 81.69 58.49 81.95 58.5 82.21 58.51 82.47 58.52 82.73 58.53 82.99 58.54 83.24 58.55 83.5 58.56 83.76 58.57 84.02 58.58 84.28 58.59 84.54 58.6 84.8 58.61 85.06 58.62 85.32 58.62 85.58 58.63 85.83 58.64 86.09 58.65 86.35 58.66 86.61 58.67 86.87 58.67 87.13 58.68 87.39 58.69 87.65 58.7 87.91 58.7 88.16 58.71 88.42 58.72 88.68 58.72 88.94 58.73 89.2 58.74 89.46 58.74 89.72 58.75 89.98 58.76 90.24 58.76 90.5 58.77 90.75 58.78 91.01 58.78 91.27 58.79 91.53 58.79 91.79 58.8 92.05 58.81 92.31 58.81 92.57 58.82 92.83 58.82 93.08 58.83 93.34 58.83 93.6 58.84 93.86 58.84 94.12 58.85 94.38 58.85 94.64 58.86 94.9 58.86 95.16 58.87 95.42 58.87\" />\n",
        "            </g>\n",
        "            <g stroke=\"#F08031\" class=\"geometry color_9000_K_\">\n",
        "              <path d=\"M30.94,59.21 L 31.2 59.21 31.46 59.21 31.72 59.21 31.97 59.21 32.23 59.21 32.49 59.21 32.75 59.21 33.01 59.21 33.27 59.2 33.53 59.19 33.79 59.14 34.05 59.02 34.3 58.75 34.56 58.27 34.82 57.5 35.08 56.38 35.34 54.86 35.6 52.95 35.86 50.66 36.12 48.04 36.38 45.15 36.64 42.07 36.89 38.87 37.15 35.63 37.41 32.42 37.67 29.29 37.93 26.31 38.19 23.52 38.45 20.93 38.71 18.59 38.97 16.49 39.22 14.64 39.48 13.05 39.74 11.72 40 10.62 40.26 9.75 40.52 9.1 40.78 8.65 41.04 8.39 41.3 8.3 41.56 8.36 41.81 8.56 42.07 8.88 42.33 9.32 42.59 9.85 42.85 10.46 43.11 11.15 43.37 11.89 43.63 12.69 43.89 13.54 44.14 14.42 44.4 15.32 44.66 16.25 44.92 17.19 45.18 18.14 45.44 19.1 45.7 20.06 45.96 21.02 46.22 21.98 46.48 22.92 46.73 23.86 46.99 24.79 47.25 25.7 47.51 26.6 47.77 27.48 48.03 28.34 48.29 29.19 48.55 30.02 48.81 30.82 49.06 31.62 49.32 32.39 49.58 33.14 49.84 33.87 50.1 34.58 50.36 35.28 50.62 35.95 50.88 36.61 51.14 37.25 51.39 37.87 51.65 38.47 51.91 39.05 52.17 39.62 52.43 40.17 52.69 40.7 52.95 41.22 53.21 41.72 53.47 42.21 53.73 42.68 53.98 43.14 54.24 43.58 54.5 44.01 54.76 44.43 55.02 44.83 55.28 45.23 55.54 45.61 55.8 45.97 56.06 46.33 56.31 46.68 56.57 47.01 56.83 47.34 57.09 47.65 57.35 47.96 57.61 48.25 57.87 48.54 58.13 48.82 58.39 49.09 58.65 49.35 58.9 49.6 59.16 49.85 59.42 50.09 59.68 50.32 59.94 50.54 60.2 50.76 60.46 50.97 60.72 51.18 60.98 51.38 61.23 51.57 61.49 51.76 61.75 51.94 62.01 52.12 62.27 52.29 62.53 52.46 62.79 52.62 63.05 52.78 63.31 52.93 63.57 53.08 63.82 53.22 64.08 53.36 64.34 53.5 64.6 53.63 64.86 53.76 65.12 53.89 65.38 54.01 65.64 54.13 65.9 54.24 66.15 54.35 66.41 54.46 66.67 54.57 66.93 54.67 67.19 54.77 67.45 54.87 67.71 54.97 67.97 55.06 68.23 55.15 68.49 55.24 68.74 55.32 69 55.4 69.26 55.49 69.52 55.56 69.78 55.64 70.04 55.72 70.3 55.79 70.56 55.86 70.82 55.93 71.07 56 71.33 56.06 71.59 56.13 71.85 56.19 72.11 56.25 72.37 56.31 72.63 56.37 72.89 56.43 73.15 56.48 73.41 56.54 73.66 56.59 73.92 56.64 74.18 56.69 74.44 56.74 74.7 56.79 74.96 56.83 75.22 56.88 75.48 56.92 75.74 56.97 75.99 57.01 76.25 57.05 76.51 57.09 76.77 57.13 77.03 57.17 77.29 57.21 77.55 57.24 77.81 57.28 78.07 57.32 78.32 57.35 78.58 57.38 78.84 57.42 79.1 57.45 79.36 57.48 79.62 57.51 79.88 57.54 80.14 57.57 80.4 57.6 80.66 57.63 80.91 57.66 81.17 57.68 81.43 57.71 81.69 57.74 81.95 57.76 82.21 57.79 82.47 57.81 82.73 57.83 82.99 57.86 83.24 57.88 83.5 57.9 83.76 57.92 84.02 57.95 84.28 57.97 84.54 57.99 84.8 58.01 85.06 58.03 85.32 58.05 85.58 58.06 85.83 58.08 86.09 58.1 86.35 58.12 86.61 58.14 86.87 58.15 87.13 58.17 87.39 58.19 87.65 58.2 87.91 58.22 88.16 58.23 88.42 58.25 88.68 58.26 88.94 58.28 89.2 58.29 89.46 58.31 89.72 58.32 89.98 58.33 90.24 58.35 90.5 58.36 90.75 58.37 91.01 58.39 91.27 58.4 91.53 58.41 91.79 58.42 92.05 58.43 92.31 58.45 92.57 58.46 92.83 58.47 93.08 58.48 93.34 58.49 93.6 58.5 93.86 58.51 94.12 58.52 94.38 58.53 94.64 58.54 94.9 58.55 95.16 58.56 95.42 58.57\" />\n",
        "            </g>\n",
        "            <g stroke=\"#F6A6FF\" class=\"geometry color_5000_K_\">\n",
        "              <path d=\"M30.94,59.21 L 31.2 59.21 31.46 59.21 31.72 59.21 31.97 59.21 32.23 59.21 32.49 59.21 32.75 59.21 33.01 59.21 33.27 59.21 33.53 59.21 33.79 59.21 34.05 59.21 34.3 59.21 34.56 59.21 34.82 59.21 35.08 59.21 35.34 59.21 35.6 59.21 35.86 59.21 36.12 59.2 36.38 59.2 36.64 59.2 36.89 59.19 37.15 59.18 37.41 59.16 37.67 59.14 37.93 59.12 38.19 59.09 38.45 59.05 38.71 59.01 38.97 58.96 39.22 58.9 39.48 58.84 39.74 58.77 40 58.7 40.26 58.62 40.52 58.53 40.78 58.45 41.04 58.36 41.3 58.26 41.56 58.17 41.81 58.07 42.07 57.98 42.33 57.88 42.59 57.79 42.85 57.7 43.11 57.61 43.37 57.52 43.63 57.43 43.89 57.35 44.14 57.27 44.4 57.2 44.66 57.13 44.92 57.06 45.18 56.99 45.44 56.94 45.7 56.88 45.96 56.83 46.22 56.78 46.48 56.74 46.73 56.7 46.99 56.67 47.25 56.64 47.51 56.61 47.77 56.59 48.03 56.57 48.29 56.55 48.55 56.54 48.81 56.53 49.06 56.52 49.32 56.52 49.58 56.51 49.84 56.51 50.1 56.52 50.36 56.52 50.62 56.53 50.88 56.54 51.14 56.55 51.39 56.56 51.65 56.58 51.91 56.6 52.17 56.61 52.43 56.63 52.69 56.65 52.95 56.67 53.21 56.7 53.47 56.72 53.73 56.74 53.98 56.77 54.24 56.79 54.5 56.82 54.76 56.84 55.02 56.87 55.28 56.9 55.54 56.92 55.8 56.95 56.06 56.98 56.31 57.01 56.57 57.03 56.83 57.06 57.09 57.09 57.35 57.12 57.61 57.15 57.87 57.18 58.13 57.2 58.39 57.23 58.65 57.26 58.9 57.29 59.16 57.32 59.42 57.34 59.68 57.37 59.94 57.4 60.2 57.42 60.46 57.45 60.72 57.48 60.98 57.5 61.23 57.53 61.49 57.55 61.75 57.58 62.01 57.6 62.27 57.63 62.53 57.65 62.79 57.68 63.05 57.7 63.31 57.72 63.57 57.75 63.82 57.77 64.08 57.79 64.34 57.82 64.6 57.84 64.86 57.86 65.12 57.88 65.38 57.9 65.64 57.92 65.9 57.94 66.15 57.96 66.41 57.98 66.67 58 66.93 58.02 67.19 58.04 67.45 58.06 67.71 58.07 67.97 58.09 68.23 58.11 68.49 58.13 68.74 58.14 69 58.16 69.26 58.18 69.52 58.19 69.78 58.21 70.04 58.23 70.3 58.24 70.56 58.26 70.82 58.27 71.07 58.29 71.33 58.3 71.59 58.31 71.85 58.33 72.11 58.34 72.37 58.35 72.63 58.37 72.89 58.38 73.15 58.39 73.41 58.41 73.66 58.42 73.92 58.43 74.18 58.44 74.44 58.45 74.7 58.47 74.96 58.48 75.22 58.49 75.48 58.5 75.74 58.51 75.99 58.52 76.25 58.53 76.51 58.54 76.77 58.55 77.03 58.56 77.29 58.57 77.55 58.58 77.81 58.59 78.07 58.6 78.32 58.61 78.58 58.62 78.84 58.62 79.1 58.63 79.36 58.64 79.62 58.65 79.88 58.66 80.14 58.67 80.4 58.67 80.66 58.68 80.91 58.69 81.17 58.7 81.43 58.7 81.69 58.71 81.95 58.72 82.21 58.73 82.47 58.73 82.73 58.74 82.99 58.75 83.24 58.75 83.5 58.76 83.76 58.76 84.02 58.77 84.28 58.78 84.54 58.78 84.8 58.79 85.06 58.79 85.32 58.8 85.58 58.81 85.83 58.81 86.09 58.82 86.35 58.82 86.61 58.83 86.87 58.83 87.13 58.84 87.39 58.84 87.65 58.85 87.91 58.85 88.16 58.86 88.42 58.86 88.68 58.87 88.94 58.87 89.2 58.88 89.46 58.88 89.72 58.88 89.98 58.89 90.24 58.89 90.5 58.9 90.75 58.9 91.01 58.91 91.27 58.91 91.53 58.91 91.79 58.92 92.05 58.92 92.31 58.92 92.57 58.93 92.83 58.93 93.08 58.93 93.34 58.94 93.6 58.94 93.86 58.95 94.12 58.95 94.38 58.95 94.64 58.95 94.9 58.96 95.16 58.96 95.42 58.96\" />\n",
        "            </g>\n",
        "            <g stroke=\"#FF928B\" class=\"geometry color_7000_K_\">\n",
        "              <path d=\"M30.94,59.21 L 31.2 59.21 31.46 59.21 31.72 59.21 31.97 59.21 32.23 59.21 32.49 59.21 32.75 59.21 33.01 59.21 33.27 59.21 33.53 59.21 33.79 59.21 34.05 59.21 34.3 59.2 34.56 59.19 34.82 59.17 35.08 59.13 35.34 59.05 35.6 58.94 35.86 58.78 36.12 58.56 36.38 58.27 36.64 57.92 36.89 57.49 37.15 57 37.41 56.45 37.67 55.85 37.93 55.21 38.19 54.53 38.45 53.83 38.71 53.11 38.97 52.39 39.22 51.68 39.48 50.99 39.74 50.31 40 49.66 40.26 49.05 40.52 48.47 40.78 47.93 41.04 47.44 41.3 46.99 41.56 46.58 41.81 46.21 42.07 45.89 42.33 45.62 42.59 45.38 42.85 45.18 43.11 45.02 43.37 44.9 43.63 44.81 43.89 44.75 44.14 44.72 44.4 44.72 44.66 44.74 44.92 44.79 45.18 44.86 45.44 44.95 45.7 45.05 45.96 45.18 46.22 45.31 46.48 45.46 46.73 45.62 46.99 45.79 47.25 45.97 47.51 46.15 47.77 46.35 48.03 46.54 48.29 46.75 48.55 46.95 48.81 47.16 49.06 47.37 49.32 47.58 49.58 47.79 49.84 48.01 50.1 48.22 50.36 48.43 50.62 48.64 50.88 48.85 51.14 49.06 51.39 49.26 51.65 49.47 51.91 49.67 52.17 49.87 52.43 50.07 52.69 50.26 52.95 50.45 53.21 50.64 53.47 50.82 53.73 51 53.98 51.18 54.24 51.35 54.5 51.53 54.76 51.69 55.02 51.86 55.28 52.02 55.54 52.18 55.8 52.33 56.06 52.48 56.31 52.63 56.57 52.78 56.83 52.92 57.09 53.06 57.35 53.19 57.61 53.32 57.87 53.45 58.13 53.58 58.39 53.7 58.65 53.82 58.9 53.94 59.16 54.06 59.42 54.17 59.68 54.28 59.94 54.38 60.2 54.49 60.46 54.59 60.72 54.69 60.98 54.79 61.23 54.88 61.49 54.98 61.75 55.07 62.01 55.15 62.27 55.24 62.53 55.32 62.79 55.41 63.05 55.49 63.31 55.56 63.57 55.64 63.82 55.72 64.08 55.79 64.34 55.86 64.6 55.93 64.86 56 65.12 56.06 65.38 56.13 65.64 56.19 65.9 56.25 66.15 56.31 66.41 56.37 66.67 56.43 66.93 56.48 67.19 56.54 67.45 56.59 67.71 56.64 67.97 56.69 68.23 56.74 68.49 56.79 68.74 56.84 69 56.88 69.26 56.93 69.52 56.97 69.78 57.02 70.04 57.06 70.3 57.1 70.56 57.14 70.82 57.18 71.07 57.22 71.33 57.26 71.59 57.29 71.85 57.33 72.11 57.36 72.37 57.4 72.63 57.43 72.89 57.46 73.15 57.5 73.41 57.53 73.66 57.56 73.92 57.59 74.18 57.62 74.44 57.65 74.7 57.67 74.96 57.7 75.22 57.73 75.48 57.75 75.74 57.78 75.99 57.81 76.25 57.83 76.51 57.85 76.77 57.88 77.03 57.9 77.29 57.92 77.55 57.95 77.81 57.97 78.07 57.99 78.32 58.01 78.58 58.03 78.84 58.05 79.1 58.07 79.36 58.09 79.62 58.11 79.88 58.13 80.14 58.14 80.4 58.16 80.66 58.18 80.91 58.2 81.17 58.21 81.43 58.23 81.69 58.24 81.95 58.26 82.21 58.28 82.47 58.29 82.73 58.3 82.99 58.32 83.24 58.33 83.5 58.35 83.76 58.36 84.02 58.37 84.28 58.39 84.54 58.4 84.8 58.41 85.06 58.43 85.32 58.44 85.58 58.45 85.83 58.46 86.09 58.47 86.35 58.48 86.61 58.49 86.87 58.51 87.13 58.52 87.39 58.53 87.65 58.54 87.91 58.55 88.16 58.56 88.42 58.57 88.68 58.58 88.94 58.58 89.2 58.59 89.46 58.6 89.72 58.61 89.98 58.62 90.24 58.63 90.5 58.64 90.75 58.65 91.01 58.65 91.27 58.66 91.53 58.67 91.79 58.68 92.05 58.68 92.31 58.69 92.57 58.7 92.83 58.71 93.08 58.71 93.34 58.72 93.6 58.73 93.86 58.73 94.12 58.74 94.38 58.75 94.64 58.75 94.9 58.76 95.16 58.77 95.42 58.77\" />\n",
        "            </g>\n",
        "            <g stroke=\"#32B44E\" class=\"geometry color_8000_K_\">\n",
        "              <path d=\"M30.94,59.21 L 31.2 59.21 31.46 59.21 31.72 59.21 31.97 59.21 32.23 59.21 32.49 59.21 32.75 59.21 33.01 59.21 33.27 59.21 33.53 59.21 33.79 59.2 34.05 59.18 34.3 59.14 34.56 59.05 34.82 58.88 35.08 58.61 35.34 58.2 35.6 57.64 35.86 56.9 36.12 55.99 36.38 54.91 36.64 53.68 36.89 52.31 37.15 50.85 37.41 49.31 37.67 47.72 37.93 46.12 38.19 44.54 38.45 42.99 38.71 41.5 38.97 40.08 39.22 38.75 39.48 37.52 39.74 36.39 40 35.38 40.26 34.48 40.52 33.69 40.78 33.01 41.04 32.43 41.3 31.96 41.56 31.59 41.81 31.31 42.07 31.11 42.33 31 42.59 30.96 42.85 30.98 43.11 31.07 43.37 31.21 43.63 31.41 43.89 31.65 44.14 31.92 44.4 32.24 44.66 32.58 44.92 32.95 45.18 33.35 45.44 33.76 45.7 34.19 45.96 34.63 46.22 35.08 46.48 35.54 46.73 36.01 46.99 36.48 47.25 36.95 47.51 37.43 47.77 37.9 48.03 38.37 48.29 38.84 48.55 39.31 48.81 39.77 49.06 40.22 49.32 40.67 49.58 41.11 49.84 41.55 50.1 41.97 50.36 42.39 50.62 42.81 50.88 43.21 51.14 43.6 51.39 43.99 51.65 44.37 51.91 44.74 52.17 45.1 52.43 45.46 52.69 45.8 52.95 46.14 53.21 46.47 53.47 46.79 53.73 47.1 53.98 47.4 54.24 47.7 54.5 47.99 54.76 48.27 55.02 48.54 55.28 48.81 55.54 49.07 55.8 49.32 56.06 49.57 56.31 49.8 56.57 50.04 56.83 50.26 57.09 50.48 57.35 50.7 57.61 50.91 57.87 51.11 58.13 51.31 58.39 51.5 58.65 51.68 58.9 51.86 59.16 52.04 59.42 52.21 59.68 52.38 59.94 52.54 60.2 52.7 60.46 52.85 60.72 53 60.98 53.15 61.23 53.29 61.49 53.43 61.75 53.56 62.01 53.69 62.27 53.82 62.53 53.94 62.79 54.06 63.05 54.18 63.31 54.29 63.57 54.4 63.82 54.51 64.08 54.61 64.34 54.72 64.6 54.81 64.86 54.91 65.12 55.01 65.38 55.1 65.64 55.19 65.9 55.27 66.15 55.36 66.41 55.44 66.67 55.52 66.93 55.6 67.19 55.68 67.45 55.75 67.71 55.82 67.97 55.9 68.23 55.96 68.49 56.03 68.74 56.1 69 56.16 69.26 56.22 69.52 56.29 69.78 56.34 70.04 56.4 70.3 56.46 70.56 56.51 70.82 56.57 71.07 56.62 71.33 56.67 71.59 56.72 71.85 56.77 72.11 56.82 72.37 56.87 72.63 56.91 72.89 56.96 73.15 57 73.41 57.04 73.66 57.08 73.92 57.12 74.18 57.16 74.44 57.2 74.7 57.24 74.96 57.28 75.22 57.31 75.48 57.35 75.74 57.38 75.99 57.41 76.25 57.45 76.51 57.48 76.77 57.51 77.03 57.54 77.29 57.57 77.55 57.6 77.81 57.63 78.07 57.66 78.32 57.68 78.58 57.71 78.84 57.74 79.1 57.76 79.36 57.79 79.62 57.81 79.88 57.84 80.14 57.86 80.4 57.88 80.66 57.91 80.91 57.93 81.17 57.95 81.43 57.97 81.69 57.99 81.95 58.01 82.21 58.03 82.47 58.05 82.73 58.07 82.99 58.09 83.24 58.11 83.5 58.13 83.76 58.14 84.02 58.16 84.28 58.18 84.54 58.2 84.8 58.21 85.06 58.23 85.32 58.24 85.58 58.26 85.83 58.27 86.09 58.29 86.35 58.3 86.61 58.32 86.87 58.33 87.13 58.35 87.39 58.36 87.65 58.37 87.91 58.38 88.16 58.4 88.42 58.41 88.68 58.42 88.94 58.43 89.2 58.45 89.46 58.46 89.72 58.47 89.98 58.48 90.24 58.49 90.5 58.5 90.75 58.51 91.01 58.52 91.27 58.53 91.53 58.54 91.79 58.55 92.05 58.56 92.31 58.57 92.57 58.58 92.83 58.59 93.08 58.6 93.34 58.61 93.6 58.61 93.86 58.62 94.12 58.63 94.38 58.64 94.64 58.65 94.9 58.66 95.16 58.66 95.42 58.67\" />\n",
        "            </g>\n",
        "          </g>\n",
        "        </g>\n",
        "      </g>\n",
        "      <g clip-path=\"url(#clippath3)\">\n",
        "      </g>\n",
        "    </g>\n",
        "  </g>\n",
        "</g>\n",
        "<defs>\n",
        "<clipPath id=\"clippath1\">\n",
        "  <path d=\"M29,5 L 97.35 5 97.35 60.79 29 60.79\" />\n",
        "</clipPath\n",
        "><clipPath id=\"clippath2\">\n",
        "  <path d=\"M29,5 L 97.35 5 97.35 60.79 29 60.79\" />\n",
        "</clipPath\n",
        "><clipPath id=\"clippath3\">\n",
        "  <path d=\"M29,5 L 97.35 5 97.35 60.79 29 60.79\" />\n",
        "</clipPath\n",
        "></defs>\n",
        "</svg>\n"
       ],
       "text": [
        "Plot(...)"
       ]
      }
     ],
     "prompt_number": 9
    },
    {
     "cell_type": "markdown",
     "metadata": {},
     "source": [
      "Let's look at the computed colors for blackbodies at various temperatures. The code below defines a new conversion function from temperature to an xyY color. (Note: For some reason, I got better results by disabling color correction in `normalize`. I'm not sure why.)"
     ]
    },
    {
     "cell_type": "code",
     "collapsed": false,
     "input": [
      "import Base.convert\n",
      "convert{S<:Real}(::Type{xyY}, T::quantity(S, K)) = \n",
      "  mapreduce(\u03bb->planck(\u03bb*nm,T=T)*m^3/Watt*cie_color_match(\u03bb), +, 380:780) |>\n",
      "  normalize0\n",
      "\n",
      "blackbodies = xyY[convert(xyY, T) for T in 30K:30K:10000K]\n",
      "ColorVector(blackbodies)"
     ],
     "language": "python",
     "metadata": {},
     "outputs": [
      {
       "metadata": {},
       "output_type": "pyout",
       "prompt_number": 10,
       "svg": [
        "<?xml version=\"1.0\" encoding=\"UTF-8\"?>\n",
        "<!DOCTYPE svg PUBLIC \"-//W3C//DTD SVG 1.1//EN\"\n",
        " \"http://www.w3.org/Graphics/SVG/1.1/DTD/svg11.dtd\">\n",
        "<svg xmlns=\"http://www.w3.org/2000/svg\" version=\"1.1\"\n",
        "     width=\"166.5mm\" height=\"25mm\"\n",
        "     shape-rendering=\"crispEdges\">\n",
        "<rect x=\"0.0mm\" width=\"0.5mm\" height=\"100%\"\n",
        "      fill=\"#FF0000\" stroke=\"none\" />\n",
        "<rect x=\"0.5mm\" width=\"0.5mm\" height=\"100%\"\n",
        "      fill=\"#FF0000\" stroke=\"none\" />\n",
        "<rect x=\"1.0mm\" width=\"0.5mm\" height=\"100%\"\n",
        "      fill=\"#FF0000\" stroke=\"none\" />\n",
        "<rect x=\"1.5mm\" width=\"0.5mm\" height=\"100%\"\n",
        "      fill=\"#FF0000\" stroke=\"none\" />\n",
        "<rect x=\"2.0mm\" width=\"0.5mm\" height=\"100%\"\n",
        "      fill=\"#FF0000\" stroke=\"none\" />\n",
        "<rect x=\"2.5mm\" width=\"0.5mm\" height=\"100%\"\n",
        "      fill=\"#FF0000\" stroke=\"none\" />\n",
        "<rect x=\"3.0mm\" width=\"0.5mm\" height=\"100%\"\n",
        "      fill=\"#FF0000\" stroke=\"none\" />\n",
        "<rect x=\"3.5mm\" width=\"0.5mm\" height=\"100%\"\n",
        "      fill=\"#FF0000\" stroke=\"none\" />\n",
        "<rect x=\"4.0mm\" width=\"0.5mm\" height=\"100%\"\n",
        "      fill=\"#FF0000\" stroke=\"none\" />\n",
        "<rect x=\"4.5mm\" width=\"0.5mm\" height=\"100%\"\n",
        "      fill=\"#FF0000\" stroke=\"none\" />\n",
        "<rect x=\"5.0mm\" width=\"0.5mm\" height=\"100%\"\n",
        "      fill=\"#FF0000\" stroke=\"none\" />\n",
        "<rect x=\"5.5mm\" width=\"0.5mm\" height=\"100%\"\n",
        "      fill=\"#FF0000\" stroke=\"none\" />\n",
        "<rect x=\"6.0mm\" width=\"0.5mm\" height=\"100%\"\n",
        "      fill=\"#FF0000\" stroke=\"none\" />\n",
        "<rect x=\"6.5mm\" width=\"0.5mm\" height=\"100%\"\n",
        "      fill=\"#FF0000\" stroke=\"none\" />\n",
        "<rect x=\"7.0mm\" width=\"0.5mm\" height=\"100%\"\n",
        "      fill=\"#FF0000\" stroke=\"none\" />\n",
        "<rect x=\"7.5mm\" width=\"0.5mm\" height=\"100%\"\n",
        "      fill=\"#FF0000\" stroke=\"none\" />\n",
        "<rect x=\"8.0mm\" width=\"0.5mm\" height=\"100%\"\n",
        "      fill=\"#FF0000\" stroke=\"none\" />\n",
        "<rect x=\"8.5mm\" width=\"0.5mm\" height=\"100%\"\n",
        "      fill=\"#FF0000\" stroke=\"none\" />\n",
        "<rect x=\"9.0mm\" width=\"0.5mm\" height=\"100%\"\n",
        "      fill=\"#FF0000\" stroke=\"none\" />\n",
        "<rect x=\"9.5mm\" width=\"0.5mm\" height=\"100%\"\n",
        "      fill=\"#FF0000\" stroke=\"none\" />\n",
        "<rect x=\"10.0mm\" width=\"0.5mm\" height=\"100%\"\n",
        "      fill=\"#FF0000\" stroke=\"none\" />\n",
        "<rect x=\"10.5mm\" width=\"0.5mm\" height=\"100%\"\n",
        "      fill=\"#FF0000\" stroke=\"none\" />\n",
        "<rect x=\"11.0mm\" width=\"0.5mm\" height=\"100%\"\n",
        "      fill=\"#FF0000\" stroke=\"none\" />\n",
        "<rect x=\"11.5mm\" width=\"0.5mm\" height=\"100%\"\n",
        "      fill=\"#FF0000\" stroke=\"none\" />\n",
        "<rect x=\"12.0mm\" width=\"0.5mm\" height=\"100%\"\n",
        "      fill=\"#FF0000\" stroke=\"none\" />\n",
        "<rect x=\"12.5mm\" width=\"0.5mm\" height=\"100%\"\n",
        "      fill=\"#FF0000\" stroke=\"none\" />\n",
        "<rect x=\"13.0mm\" width=\"0.5mm\" height=\"100%\"\n",
        "      fill=\"#FF0000\" stroke=\"none\" />\n",
        "<rect x=\"13.5mm\" width=\"0.5mm\" height=\"100%\"\n",
        "      fill=\"#FF0000\" stroke=\"none\" />\n",
        "<rect x=\"14.0mm\" width=\"0.5mm\" height=\"100%\"\n",
        "      fill=\"#FF0000\" stroke=\"none\" />\n",
        "<rect x=\"14.5mm\" width=\"0.5mm\" height=\"100%\"\n",
        "      fill=\"#FF0000\" stroke=\"none\" />\n",
        "<rect x=\"15.0mm\" width=\"0.5mm\" height=\"100%\"\n",
        "      fill=\"#FF0000\" stroke=\"none\" />\n",
        "<rect x=\"15.5mm\" width=\"0.5mm\" height=\"100%\"\n",
        "      fill=\"#FF0000\" stroke=\"none\" />\n",
        "<rect x=\"16.0mm\" width=\"0.5mm\" height=\"100%\"\n",
        "      fill=\"#FF3000\" stroke=\"none\" />\n",
        "<rect x=\"16.5mm\" width=\"0.5mm\" height=\"100%\"\n",
        "      fill=\"#FF4600\" stroke=\"none\" />\n",
        "<rect x=\"17.0mm\" width=\"0.5mm\" height=\"100%\"\n",
        "      fill=\"#FF5500\" stroke=\"none\" />\n",
        "<rect x=\"17.5mm\" width=\"0.5mm\" height=\"100%\"\n",
        "      fill=\"#FF6200\" stroke=\"none\" />\n",
        "<rect x=\"18.0mm\" width=\"0.5mm\" height=\"100%\"\n",
        "      fill=\"#FF6C00\" stroke=\"none\" />\n",
        "<rect x=\"18.5mm\" width=\"0.5mm\" height=\"100%\"\n",
        "      fill=\"#FF7500\" stroke=\"none\" />\n",
        "<rect x=\"19.0mm\" width=\"0.5mm\" height=\"100%\"\n",
        "      fill=\"#FF7C00\" stroke=\"none\" />\n",
        "<rect x=\"19.5mm\" width=\"0.5mm\" height=\"100%\"\n",
        "      fill=\"#FF8300\" stroke=\"none\" />\n",
        "<rect x=\"20.0mm\" width=\"0.5mm\" height=\"100%\"\n",
        "      fill=\"#FF8A00\" stroke=\"none\" />\n",
        "<rect x=\"20.5mm\" width=\"0.5mm\" height=\"100%\"\n",
        "      fill=\"#FF8F00\" stroke=\"none\" />\n",
        "<rect x=\"21.0mm\" width=\"0.5mm\" height=\"100%\"\n",
        "      fill=\"#FF9500\" stroke=\"none\" />\n",
        "<rect x=\"21.5mm\" width=\"0.5mm\" height=\"100%\"\n",
        "      fill=\"#FF9900\" stroke=\"none\" />\n",
        "<rect x=\"22.0mm\" width=\"0.5mm\" height=\"100%\"\n",
        "      fill=\"#FF9E00\" stroke=\"none\" />\n",
        "<rect x=\"22.5mm\" width=\"0.5mm\" height=\"100%\"\n",
        "      fill=\"#FFA200\" stroke=\"none\" />\n",
        "<rect x=\"23.0mm\" width=\"0.5mm\" height=\"100%\"\n",
        "      fill=\"#FFA600\" stroke=\"none\" />\n",
        "<rect x=\"23.5mm\" width=\"0.5mm\" height=\"100%\"\n",
        "      fill=\"#FFA900\" stroke=\"none\" />\n",
        "<rect x=\"24.0mm\" width=\"0.5mm\" height=\"100%\"\n",
        "      fill=\"#FFAD00\" stroke=\"none\" />\n",
        "<rect x=\"24.5mm\" width=\"0.5mm\" height=\"100%\"\n",
        "      fill=\"#FFB000\" stroke=\"none\" />\n",
        "<rect x=\"25.0mm\" width=\"0.5mm\" height=\"100%\"\n",
        "      fill=\"#FFB300\" stroke=\"none\" />\n",
        "<rect x=\"25.5mm\" width=\"0.5mm\" height=\"100%\"\n",
        "      fill=\"#FFB600\" stroke=\"none\" />\n",
        "<rect x=\"26.0mm\" width=\"0.5mm\" height=\"100%\"\n",
        "      fill=\"#FFB900\" stroke=\"none\" />\n",
        "<rect x=\"26.5mm\" width=\"0.5mm\" height=\"100%\"\n",
        "      fill=\"#FFBB00\" stroke=\"none\" />\n",
        "<rect x=\"27.0mm\" width=\"0.5mm\" height=\"100%\"\n",
        "      fill=\"#FFBD00\" stroke=\"none\" />\n",
        "<rect x=\"27.5mm\" width=\"0.5mm\" height=\"100%\"\n",
        "      fill=\"#FFC000\" stroke=\"none\" />\n",
        "<rect x=\"28.0mm\" width=\"0.5mm\" height=\"100%\"\n",
        "      fill=\"#FFC200\" stroke=\"none\" />\n",
        "<rect x=\"28.5mm\" width=\"0.5mm\" height=\"100%\"\n",
        "      fill=\"#FFC400\" stroke=\"none\" />\n",
        "<rect x=\"29.0mm\" width=\"0.5mm\" height=\"100%\"\n",
        "      fill=\"#FFC600\" stroke=\"none\" />\n",
        "<rect x=\"29.5mm\" width=\"0.5mm\" height=\"100%\"\n",
        "      fill=\"#FFC800\" stroke=\"none\" />\n",
        "<rect x=\"30.0mm\" width=\"0.5mm\" height=\"100%\"\n",
        "      fill=\"#FFCA00\" stroke=\"none\" />\n",
        "<rect x=\"30.5mm\" width=\"0.5mm\" height=\"100%\"\n",
        "      fill=\"#FFCB00\" stroke=\"none\" />\n",
        "<rect x=\"31.0mm\" width=\"0.5mm\" height=\"100%\"\n",
        "      fill=\"#FFCD00\" stroke=\"none\" />\n",
        "<rect x=\"31.5mm\" width=\"0.5mm\" height=\"100%\"\n",
        "      fill=\"#FFCE0D\" stroke=\"none\" />\n",
        "<rect x=\"32.0mm\" width=\"0.5mm\" height=\"100%\"\n",
        "      fill=\"#FFD019\" stroke=\"none\" />\n",
        "<rect x=\"32.5mm\" width=\"0.5mm\" height=\"100%\"\n",
        "      fill=\"#FFD122\" stroke=\"none\" />\n",
        "<rect x=\"33.0mm\" width=\"0.5mm\" height=\"100%\"\n",
        "      fill=\"#FFD329\" stroke=\"none\" />\n",
        "<rect x=\"33.5mm\" width=\"0.5mm\" height=\"100%\"\n",
        "      fill=\"#FFD430\" stroke=\"none\" />\n",
        "<rect x=\"34.0mm\" width=\"0.5mm\" height=\"100%\"\n",
        "      fill=\"#FFD535\" stroke=\"none\" />\n",
        "<rect x=\"34.5mm\" width=\"0.5mm\" height=\"100%\"\n",
        "      fill=\"#FFD73A\" stroke=\"none\" />\n",
        "<rect x=\"35.0mm\" width=\"0.5mm\" height=\"100%\"\n",
        "      fill=\"#FFD83F\" stroke=\"none\" />\n",
        "<rect x=\"35.5mm\" width=\"0.5mm\" height=\"100%\"\n",
        "      fill=\"#FFD943\" stroke=\"none\" />\n",
        "<rect x=\"36.0mm\" width=\"0.5mm\" height=\"100%\"\n",
        "      fill=\"#FFDA47\" stroke=\"none\" />\n",
        "<rect x=\"36.5mm\" width=\"0.5mm\" height=\"100%\"\n",
        "      fill=\"#FFDB4B\" stroke=\"none\" />\n",
        "<rect x=\"37.0mm\" width=\"0.5mm\" height=\"100%\"\n",
        "      fill=\"#FFDC4F\" stroke=\"none\" />\n",
        "<rect x=\"37.5mm\" width=\"0.5mm\" height=\"100%\"\n",
        "      fill=\"#FFDD52\" stroke=\"none\" />\n",
        "<rect x=\"38.0mm\" width=\"0.5mm\" height=\"100%\"\n",
        "      fill=\"#FFDE55\" stroke=\"none\" />\n",
        "<rect x=\"38.5mm\" width=\"0.5mm\" height=\"100%\"\n",
        "      fill=\"#FFDF59\" stroke=\"none\" />\n",
        "<rect x=\"39.0mm\" width=\"0.5mm\" height=\"100%\"\n",
        "      fill=\"#FFE05C\" stroke=\"none\" />\n",
        "<rect x=\"39.5mm\" width=\"0.5mm\" height=\"100%\"\n",
        "      fill=\"#FFE15F\" stroke=\"none\" />\n",
        "<rect x=\"40.0mm\" width=\"0.5mm\" height=\"100%\"\n",
        "      fill=\"#FFE162\" stroke=\"none\" />\n",
        "<rect x=\"40.5mm\" width=\"0.5mm\" height=\"100%\"\n",
        "      fill=\"#FFE265\" stroke=\"none\" />\n",
        "<rect x=\"41.0mm\" width=\"0.5mm\" height=\"100%\"\n",
        "      fill=\"#FFE367\" stroke=\"none\" />\n",
        "<rect x=\"41.5mm\" width=\"0.5mm\" height=\"100%\"\n",
        "      fill=\"#FFE46A\" stroke=\"none\" />\n",
        "<rect x=\"42.0mm\" width=\"0.5mm\" height=\"100%\"\n",
        "      fill=\"#FFE46D\" stroke=\"none\" />\n",
        "<rect x=\"42.5mm\" width=\"0.5mm\" height=\"100%\"\n",
        "      fill=\"#FFE56F\" stroke=\"none\" />\n",
        "<rect x=\"43.0mm\" width=\"0.5mm\" height=\"100%\"\n",
        "      fill=\"#FFE672\" stroke=\"none\" />\n",
        "<rect x=\"43.5mm\" width=\"0.5mm\" height=\"100%\"\n",
        "      fill=\"#FFE674\" stroke=\"none\" />\n",
        "<rect x=\"44.0mm\" width=\"0.5mm\" height=\"100%\"\n",
        "      fill=\"#FFE777\" stroke=\"none\" />\n",
        "<rect x=\"44.5mm\" width=\"0.5mm\" height=\"100%\"\n",
        "      fill=\"#FFE879\" stroke=\"none\" />\n",
        "<rect x=\"45.0mm\" width=\"0.5mm\" height=\"100%\"\n",
        "      fill=\"#FFE87B\" stroke=\"none\" />\n",
        "<rect x=\"45.5mm\" width=\"0.5mm\" height=\"100%\"\n",
        "      fill=\"#FFE97E\" stroke=\"none\" />\n",
        "<rect x=\"46.0mm\" width=\"0.5mm\" height=\"100%\"\n",
        "      fill=\"#FFE980\" stroke=\"none\" />\n",
        "<rect x=\"46.5mm\" width=\"0.5mm\" height=\"100%\"\n",
        "      fill=\"#FFEA82\" stroke=\"none\" />\n",
        "<rect x=\"47.0mm\" width=\"0.5mm\" height=\"100%\"\n",
        "      fill=\"#FFEA84\" stroke=\"none\" />\n",
        "<rect x=\"47.5mm\" width=\"0.5mm\" height=\"100%\"\n",
        "      fill=\"#FFEB86\" stroke=\"none\" />\n",
        "<rect x=\"48.0mm\" width=\"0.5mm\" height=\"100%\"\n",
        "      fill=\"#FFEB88\" stroke=\"none\" />\n",
        "<rect x=\"48.5mm\" width=\"0.5mm\" height=\"100%\"\n",
        "      fill=\"#FFEC8A\" stroke=\"none\" />\n",
        "<rect x=\"49.0mm\" width=\"0.5mm\" height=\"100%\"\n",
        "      fill=\"#FFEC8C\" stroke=\"none\" />\n",
        "<rect x=\"49.5mm\" width=\"0.5mm\" height=\"100%\"\n",
        "      fill=\"#FFED8E\" stroke=\"none\" />\n",
        "<rect x=\"50.0mm\" width=\"0.5mm\" height=\"100%\"\n",
        "      fill=\"#FFED90\" stroke=\"none\" />\n",
        "<rect x=\"50.5mm\" width=\"0.5mm\" height=\"100%\"\n",
        "      fill=\"#FFEE92\" stroke=\"none\" />\n",
        "<rect x=\"51.0mm\" width=\"0.5mm\" height=\"100%\"\n",
        "      fill=\"#FFEE94\" stroke=\"none\" />\n",
        "<rect x=\"51.5mm\" width=\"0.5mm\" height=\"100%\"\n",
        "      fill=\"#FFEE96\" stroke=\"none\" />\n",
        "<rect x=\"52.0mm\" width=\"0.5mm\" height=\"100%\"\n",
        "      fill=\"#FFEF98\" stroke=\"none\" />\n",
        "<rect x=\"52.5mm\" width=\"0.5mm\" height=\"100%\"\n",
        "      fill=\"#FFEF99\" stroke=\"none\" />\n",
        "<rect x=\"53.0mm\" width=\"0.5mm\" height=\"100%\"\n",
        "      fill=\"#FFEF9B\" stroke=\"none\" />\n",
        "<rect x=\"53.5mm\" width=\"0.5mm\" height=\"100%\"\n",
        "      fill=\"#FFF09D\" stroke=\"none\" />\n",
        "<rect x=\"54.0mm\" width=\"0.5mm\" height=\"100%\"\n",
        "      fill=\"#FFF09F\" stroke=\"none\" />\n",
        "<rect x=\"54.5mm\" width=\"0.5mm\" height=\"100%\"\n",
        "      fill=\"#FFF0A0\" stroke=\"none\" />\n",
        "<rect x=\"55.0mm\" width=\"0.5mm\" height=\"100%\"\n",
        "      fill=\"#FFF1A2\" stroke=\"none\" />\n",
        "<rect x=\"55.5mm\" width=\"0.5mm\" height=\"100%\"\n",
        "      fill=\"#FFF1A3\" stroke=\"none\" />\n",
        "<rect x=\"56.0mm\" width=\"0.5mm\" height=\"100%\"\n",
        "      fill=\"#FFF1A5\" stroke=\"none\" />\n",
        "<rect x=\"56.5mm\" width=\"0.5mm\" height=\"100%\"\n",
        "      fill=\"#FFF2A7\" stroke=\"none\" />\n",
        "<rect x=\"57.0mm\" width=\"0.5mm\" height=\"100%\"\n",
        "      fill=\"#FFF2A8\" stroke=\"none\" />\n",
        "<rect x=\"57.5mm\" width=\"0.5mm\" height=\"100%\"\n",
        "      fill=\"#FFF2AA\" stroke=\"none\" />\n",
        "<rect x=\"58.0mm\" width=\"0.5mm\" height=\"100%\"\n",
        "      fill=\"#FFF3AB\" stroke=\"none\" />\n",
        "<rect x=\"58.5mm\" width=\"0.5mm\" height=\"100%\"\n",
        "      fill=\"#FFF3AD\" stroke=\"none\" />\n",
        "<rect x=\"59.0mm\" width=\"0.5mm\" height=\"100%\"\n",
        "      fill=\"#FFF3AE\" stroke=\"none\" />\n",
        "<rect x=\"59.5mm\" width=\"0.5mm\" height=\"100%\"\n",
        "      fill=\"#FFF3B0\" stroke=\"none\" />\n",
        "<rect x=\"60.0mm\" width=\"0.5mm\" height=\"100%\"\n",
        "      fill=\"#FFF4B1\" stroke=\"none\" />\n",
        "<rect x=\"60.5mm\" width=\"0.5mm\" height=\"100%\"\n",
        "      fill=\"#FFF4B2\" stroke=\"none\" />\n",
        "<rect x=\"61.0mm\" width=\"0.5mm\" height=\"100%\"\n",
        "      fill=\"#FFF4B4\" stroke=\"none\" />\n",
        "<rect x=\"61.5mm\" width=\"0.5mm\" height=\"100%\"\n",
        "      fill=\"#FFF4B5\" stroke=\"none\" />\n",
        "<rect x=\"62.0mm\" width=\"0.5mm\" height=\"100%\"\n",
        "      fill=\"#FFF5B6\" stroke=\"none\" />\n",
        "<rect x=\"62.5mm\" width=\"0.5mm\" height=\"100%\"\n",
        "      fill=\"#FFF5B8\" stroke=\"none\" />\n",
        "<rect x=\"63.0mm\" width=\"0.5mm\" height=\"100%\"\n",
        "      fill=\"#FFF5B9\" stroke=\"none\" />\n",
        "<rect x=\"63.5mm\" width=\"0.5mm\" height=\"100%\"\n",
        "      fill=\"#FFF5BA\" stroke=\"none\" />\n",
        "<rect x=\"64.0mm\" width=\"0.5mm\" height=\"100%\"\n",
        "      fill=\"#FFF5BC\" stroke=\"none\" />\n",
        "<rect x=\"64.5mm\" width=\"0.5mm\" height=\"100%\"\n",
        "      fill=\"#FFF6BD\" stroke=\"none\" />\n",
        "<rect x=\"65.0mm\" width=\"0.5mm\" height=\"100%\"\n",
        "      fill=\"#FFF6BE\" stroke=\"none\" />\n",
        "<rect x=\"65.5mm\" width=\"0.5mm\" height=\"100%\"\n",
        "      fill=\"#FFF6BF\" stroke=\"none\" />\n",
        "<rect x=\"66.0mm\" width=\"0.5mm\" height=\"100%\"\n",
        "      fill=\"#FFF6C1\" stroke=\"none\" />\n",
        "<rect x=\"66.5mm\" width=\"0.5mm\" height=\"100%\"\n",
        "      fill=\"#FFF6C2\" stroke=\"none\" />\n",
        "<rect x=\"67.0mm\" width=\"0.5mm\" height=\"100%\"\n",
        "      fill=\"#FFF7C3\" stroke=\"none\" />\n",
        "<rect x=\"67.5mm\" width=\"0.5mm\" height=\"100%\"\n",
        "      fill=\"#FFF7C4\" stroke=\"none\" />\n",
        "<rect x=\"68.0mm\" width=\"0.5mm\" height=\"100%\"\n",
        "      fill=\"#FFF7C5\" stroke=\"none\" />\n",
        "<rect x=\"68.5mm\" width=\"0.5mm\" height=\"100%\"\n",
        "      fill=\"#FFF7C6\" stroke=\"none\" />\n",
        "<rect x=\"69.0mm\" width=\"0.5mm\" height=\"100%\"\n",
        "      fill=\"#FFF7C8\" stroke=\"none\" />\n",
        "<rect x=\"69.5mm\" width=\"0.5mm\" height=\"100%\"\n",
        "      fill=\"#FFF7C9\" stroke=\"none\" />\n",
        "<rect x=\"70.0mm\" width=\"0.5mm\" height=\"100%\"\n",
        "      fill=\"#FFF8CA\" stroke=\"none\" />\n",
        "<rect x=\"70.5mm\" width=\"0.5mm\" height=\"100%\"\n",
        "      fill=\"#FFF8CB\" stroke=\"none\" />\n",
        "<rect x=\"71.0mm\" width=\"0.5mm\" height=\"100%\"\n",
        "      fill=\"#FFF8CC\" stroke=\"none\" />\n",
        "<rect x=\"71.5mm\" width=\"0.5mm\" height=\"100%\"\n",
        "      fill=\"#FFF8CD\" stroke=\"none\" />\n",
        "<rect x=\"72.0mm\" width=\"0.5mm\" height=\"100%\"\n",
        "      fill=\"#FFF8CE\" stroke=\"none\" />\n",
        "<rect x=\"72.5mm\" width=\"0.5mm\" height=\"100%\"\n",
        "      fill=\"#FFF8CF\" stroke=\"none\" />\n",
        "<rect x=\"73.0mm\" width=\"0.5mm\" height=\"100%\"\n",
        "      fill=\"#FFF8D0\" stroke=\"none\" />\n",
        "<rect x=\"73.5mm\" width=\"0.5mm\" height=\"100%\"\n",
        "      fill=\"#FFF9D1\" stroke=\"none\" />\n",
        "<rect x=\"74.0mm\" width=\"0.5mm\" height=\"100%\"\n",
        "      fill=\"#FFF9D2\" stroke=\"none\" />\n",
        "<rect x=\"74.5mm\" width=\"0.5mm\" height=\"100%\"\n",
        "      fill=\"#FFF9D3\" stroke=\"none\" />\n",
        "<rect x=\"75.0mm\" width=\"0.5mm\" height=\"100%\"\n",
        "      fill=\"#FFF9D4\" stroke=\"none\" />\n",
        "<rect x=\"75.5mm\" width=\"0.5mm\" height=\"100%\"\n",
        "      fill=\"#FFF9D5\" stroke=\"none\" />\n",
        "<rect x=\"76.0mm\" width=\"0.5mm\" height=\"100%\"\n",
        "      fill=\"#FFF9D6\" stroke=\"none\" />\n",
        "<rect x=\"76.5mm\" width=\"0.5mm\" height=\"100%\"\n",
        "      fill=\"#FFF9D7\" stroke=\"none\" />\n",
        "<rect x=\"77.0mm\" width=\"0.5mm\" height=\"100%\"\n",
        "      fill=\"#FFF9D8\" stroke=\"none\" />\n",
        "<rect x=\"77.5mm\" width=\"0.5mm\" height=\"100%\"\n",
        "      fill=\"#FFFAD9\" stroke=\"none\" />\n",
        "<rect x=\"78.0mm\" width=\"0.5mm\" height=\"100%\"\n",
        "      fill=\"#FFFADA\" stroke=\"none\" />\n",
        "<rect x=\"78.5mm\" width=\"0.5mm\" height=\"100%\"\n",
        "      fill=\"#FFFADB\" stroke=\"none\" />\n",
        "<rect x=\"79.0mm\" width=\"0.5mm\" height=\"100%\"\n",
        "      fill=\"#FFFADC\" stroke=\"none\" />\n",
        "<rect x=\"79.5mm\" width=\"0.5mm\" height=\"100%\"\n",
        "      fill=\"#FFFADD\" stroke=\"none\" />\n",
        "<rect x=\"80.0mm\" width=\"0.5mm\" height=\"100%\"\n",
        "      fill=\"#FFFADD\" stroke=\"none\" />\n",
        "<rect x=\"80.5mm\" width=\"0.5mm\" height=\"100%\"\n",
        "      fill=\"#FFFADE\" stroke=\"none\" />\n",
        "<rect x=\"81.0mm\" width=\"0.5mm\" height=\"100%\"\n",
        "      fill=\"#FFFADF\" stroke=\"none\" />\n",
        "<rect x=\"81.5mm\" width=\"0.5mm\" height=\"100%\"\n",
        "      fill=\"#FFFAE0\" stroke=\"none\" />\n",
        "<rect x=\"82.0mm\" width=\"0.5mm\" height=\"100%\"\n",
        "      fill=\"#FFFAE1\" stroke=\"none\" />\n",
        "<rect x=\"82.5mm\" width=\"0.5mm\" height=\"100%\"\n",
        "      fill=\"#FFFAE2\" stroke=\"none\" />\n",
        "<rect x=\"83.0mm\" width=\"0.5mm\" height=\"100%\"\n",
        "      fill=\"#FFFBE3\" stroke=\"none\" />\n",
        "<rect x=\"83.5mm\" width=\"0.5mm\" height=\"100%\"\n",
        "      fill=\"#FFFBE3\" stroke=\"none\" />\n",
        "<rect x=\"84.0mm\" width=\"0.5mm\" height=\"100%\"\n",
        "      fill=\"#FFFBE4\" stroke=\"none\" />\n",
        "<rect x=\"84.5mm\" width=\"0.5mm\" height=\"100%\"\n",
        "      fill=\"#FFFBE5\" stroke=\"none\" />\n",
        "<rect x=\"85.0mm\" width=\"0.5mm\" height=\"100%\"\n",
        "      fill=\"#FFFBE6\" stroke=\"none\" />\n",
        "<rect x=\"85.5mm\" width=\"0.5mm\" height=\"100%\"\n",
        "      fill=\"#FFFBE7\" stroke=\"none\" />\n",
        "<rect x=\"86.0mm\" width=\"0.5mm\" height=\"100%\"\n",
        "      fill=\"#FFFBE7\" stroke=\"none\" />\n",
        "<rect x=\"86.5mm\" width=\"0.5mm\" height=\"100%\"\n",
        "      fill=\"#FFFBE8\" stroke=\"none\" />\n",
        "<rect x=\"87.0mm\" width=\"0.5mm\" height=\"100%\"\n",
        "      fill=\"#FFFBE9\" stroke=\"none\" />\n",
        "<rect x=\"87.5mm\" width=\"0.5mm\" height=\"100%\"\n",
        "      fill=\"#FFFBEA\" stroke=\"none\" />\n",
        "<rect x=\"88.0mm\" width=\"0.5mm\" height=\"100%\"\n",
        "      fill=\"#FFFBEA\" stroke=\"none\" />\n",
        "<rect x=\"88.5mm\" width=\"0.5mm\" height=\"100%\"\n",
        "      fill=\"#FFFBEB\" stroke=\"none\" />\n",
        "<rect x=\"89.0mm\" width=\"0.5mm\" height=\"100%\"\n",
        "      fill=\"#FFFBEC\" stroke=\"none\" />\n",
        "<rect x=\"89.5mm\" width=\"0.5mm\" height=\"100%\"\n",
        "      fill=\"#FFFCED\" stroke=\"none\" />\n",
        "<rect x=\"90.0mm\" width=\"0.5mm\" height=\"100%\"\n",
        "      fill=\"#FFFCED\" stroke=\"none\" />\n",
        "<rect x=\"90.5mm\" width=\"0.5mm\" height=\"100%\"\n",
        "      fill=\"#FFFCEE\" stroke=\"none\" />\n",
        "<rect x=\"91.0mm\" width=\"0.5mm\" height=\"100%\"\n",
        "      fill=\"#FFFCEF\" stroke=\"none\" />\n",
        "<rect x=\"91.5mm\" width=\"0.5mm\" height=\"100%\"\n",
        "      fill=\"#FFFCEF\" stroke=\"none\" />\n",
        "<rect x=\"92.0mm\" width=\"0.5mm\" height=\"100%\"\n",
        "      fill=\"#FFFCF0\" stroke=\"none\" />\n",
        "<rect x=\"92.5mm\" width=\"0.5mm\" height=\"100%\"\n",
        "      fill=\"#FFFCF1\" stroke=\"none\" />\n",
        "<rect x=\"93.0mm\" width=\"0.5mm\" height=\"100%\"\n",
        "      fill=\"#FFFCF1\" stroke=\"none\" />\n",
        "<rect x=\"93.5mm\" width=\"0.5mm\" height=\"100%\"\n",
        "      fill=\"#FFFCF2\" stroke=\"none\" />\n",
        "<rect x=\"94.0mm\" width=\"0.5mm\" height=\"100%\"\n",
        "      fill=\"#FFFCF3\" stroke=\"none\" />\n",
        "<rect x=\"94.5mm\" width=\"0.5mm\" height=\"100%\"\n",
        "      fill=\"#FFFCF3\" stroke=\"none\" />\n",
        "<rect x=\"95.0mm\" width=\"0.5mm\" height=\"100%\"\n",
        "      fill=\"#FFFCF4\" stroke=\"none\" />\n",
        "<rect x=\"95.5mm\" width=\"0.5mm\" height=\"100%\"\n",
        "      fill=\"#FFFCF5\" stroke=\"none\" />\n",
        "<rect x=\"96.0mm\" width=\"0.5mm\" height=\"100%\"\n",
        "      fill=\"#FFFCF5\" stroke=\"none\" />\n",
        "<rect x=\"96.5mm\" width=\"0.5mm\" height=\"100%\"\n",
        "      fill=\"#FFFCF6\" stroke=\"none\" />\n",
        "<rect x=\"97.0mm\" width=\"0.5mm\" height=\"100%\"\n",
        "      fill=\"#FFFCF7\" stroke=\"none\" />\n",
        "<rect x=\"97.5mm\" width=\"0.5mm\" height=\"100%\"\n",
        "      fill=\"#FFFCF7\" stroke=\"none\" />\n",
        "<rect x=\"98.0mm\" width=\"0.5mm\" height=\"100%\"\n",
        "      fill=\"#FFFCF8\" stroke=\"none\" />\n",
        "<rect x=\"98.5mm\" width=\"0.5mm\" height=\"100%\"\n",
        "      fill=\"#FFFCF8\" stroke=\"none\" />\n",
        "<rect x=\"99.0mm\" width=\"0.5mm\" height=\"100%\"\n",
        "      fill=\"#FFFDF9\" stroke=\"none\" />\n",
        "<rect x=\"99.5mm\" width=\"0.5mm\" height=\"100%\"\n",
        "      fill=\"#FFFDFA\" stroke=\"none\" />\n",
        "<rect x=\"100.0mm\" width=\"0.5mm\" height=\"100%\"\n",
        "      fill=\"#FFFDFA\" stroke=\"none\" />\n",
        "<rect x=\"100.5mm\" width=\"0.5mm\" height=\"100%\"\n",
        "      fill=\"#FFFDFB\" stroke=\"none\" />\n",
        "<rect x=\"101.0mm\" width=\"0.5mm\" height=\"100%\"\n",
        "      fill=\"#FFFDFB\" stroke=\"none\" />\n",
        "<rect x=\"101.5mm\" width=\"0.5mm\" height=\"100%\"\n",
        "      fill=\"#FFFDFC\" stroke=\"none\" />\n",
        "<rect x=\"102.0mm\" width=\"0.5mm\" height=\"100%\"\n",
        "      fill=\"#FFFDFD\" stroke=\"none\" />\n",
        "<rect x=\"102.5mm\" width=\"0.5mm\" height=\"100%\"\n",
        "      fill=\"#FFFDFD\" stroke=\"none\" />\n",
        "<rect x=\"103.0mm\" width=\"0.5mm\" height=\"100%\"\n",
        "      fill=\"#FFFDFE\" stroke=\"none\" />\n",
        "<rect x=\"103.5mm\" width=\"0.5mm\" height=\"100%\"\n",
        "      fill=\"#FFFDFE\" stroke=\"none\" />\n",
        "<rect x=\"104.0mm\" width=\"0.5mm\" height=\"100%\"\n",
        "      fill=\"#FFFDFF\" stroke=\"none\" />\n",
        "<rect x=\"104.5mm\" width=\"0.5mm\" height=\"100%\"\n",
        "      fill=\"#FFFDFF\" stroke=\"none\" />\n",
        "<rect x=\"105.0mm\" width=\"0.5mm\" height=\"100%\"\n",
        "      fill=\"#FFFDFF\" stroke=\"none\" />\n",
        "<rect x=\"105.5mm\" width=\"0.5mm\" height=\"100%\"\n",
        "      fill=\"#FFFDFF\" stroke=\"none\" />\n",
        "<rect x=\"106.0mm\" width=\"0.5mm\" height=\"100%\"\n",
        "      fill=\"#FFFDFF\" stroke=\"none\" />\n",
        "<rect x=\"106.5mm\" width=\"0.5mm\" height=\"100%\"\n",
        "      fill=\"#FFFDFF\" stroke=\"none\" />\n",
        "<rect x=\"107.0mm\" width=\"0.5mm\" height=\"100%\"\n",
        "      fill=\"#FFFDFF\" stroke=\"none\" />\n",
        "<rect x=\"107.5mm\" width=\"0.5mm\" height=\"100%\"\n",
        "      fill=\"#FFFDFF\" stroke=\"none\" />\n",
        "<rect x=\"108.0mm\" width=\"0.5mm\" height=\"100%\"\n",
        "      fill=\"#FFFDFF\" stroke=\"none\" />\n",
        "<rect x=\"108.5mm\" width=\"0.5mm\" height=\"100%\"\n",
        "      fill=\"#FFFDFF\" stroke=\"none\" />\n",
        "<rect x=\"109.0mm\" width=\"0.5mm\" height=\"100%\"\n",
        "      fill=\"#FFFDFF\" stroke=\"none\" />\n",
        "<rect x=\"109.5mm\" width=\"0.5mm\" height=\"100%\"\n",
        "      fill=\"#FFFDFF\" stroke=\"none\" />\n",
        "<rect x=\"110.0mm\" width=\"0.5mm\" height=\"100%\"\n",
        "      fill=\"#FFFDFF\" stroke=\"none\" />\n",
        "<rect x=\"110.5mm\" width=\"0.5mm\" height=\"100%\"\n",
        "      fill=\"#FFFDFF\" stroke=\"none\" />\n",
        "<rect x=\"111.0mm\" width=\"0.5mm\" height=\"100%\"\n",
        "      fill=\"#FFFDFF\" stroke=\"none\" />\n",
        "<rect x=\"111.5mm\" width=\"0.5mm\" height=\"100%\"\n",
        "      fill=\"#FFFDFF\" stroke=\"none\" />\n",
        "<rect x=\"112.0mm\" width=\"0.5mm\" height=\"100%\"\n",
        "      fill=\"#FFFDFF\" stroke=\"none\" />\n",
        "<rect x=\"112.5mm\" width=\"0.5mm\" height=\"100%\"\n",
        "      fill=\"#FFFDFF\" stroke=\"none\" />\n",
        "<rect x=\"113.0mm\" width=\"0.5mm\" height=\"100%\"\n",
        "      fill=\"#FFFDFF\" stroke=\"none\" />\n",
        "<rect x=\"113.5mm\" width=\"0.5mm\" height=\"100%\"\n",
        "      fill=\"#FFFDFF\" stroke=\"none\" />\n",
        "<rect x=\"114.0mm\" width=\"0.5mm\" height=\"100%\"\n",
        "      fill=\"#FFFDFF\" stroke=\"none\" />\n",
        "<rect x=\"114.5mm\" width=\"0.5mm\" height=\"100%\"\n",
        "      fill=\"#FFFEFF\" stroke=\"none\" />\n",
        "<rect x=\"115.0mm\" width=\"0.5mm\" height=\"100%\"\n",
        "      fill=\"#FFFEFF\" stroke=\"none\" />\n",
        "<rect x=\"115.5mm\" width=\"0.5mm\" height=\"100%\"\n",
        "      fill=\"#FFFEFF\" stroke=\"none\" />\n",
        "<rect x=\"116.0mm\" width=\"0.5mm\" height=\"100%\"\n",
        "      fill=\"#FFFEFF\" stroke=\"none\" />\n",
        "<rect x=\"116.5mm\" width=\"0.5mm\" height=\"100%\"\n",
        "      fill=\"#FFFEFF\" stroke=\"none\" />\n",
        "<rect x=\"117.0mm\" width=\"0.5mm\" height=\"100%\"\n",
        "      fill=\"#FFFEFF\" stroke=\"none\" />\n",
        "<rect x=\"117.5mm\" width=\"0.5mm\" height=\"100%\"\n",
        "      fill=\"#FFFEFF\" stroke=\"none\" />\n",
        "<rect x=\"118.0mm\" width=\"0.5mm\" height=\"100%\"\n",
        "      fill=\"#FFFEFF\" stroke=\"none\" />\n",
        "<rect x=\"118.5mm\" width=\"0.5mm\" height=\"100%\"\n",
        "      fill=\"#FFFEFF\" stroke=\"none\" />\n",
        "<rect x=\"119.0mm\" width=\"0.5mm\" height=\"100%\"\n",
        "      fill=\"#FEFEFF\" stroke=\"none\" />\n",
        "<rect x=\"119.5mm\" width=\"0.5mm\" height=\"100%\"\n",
        "      fill=\"#FEFEFF\" stroke=\"none\" />\n",
        "<rect x=\"120.0mm\" width=\"0.5mm\" height=\"100%\"\n",
        "      fill=\"#FEFEFF\" stroke=\"none\" />\n",
        "<rect x=\"120.5mm\" width=\"0.5mm\" height=\"100%\"\n",
        "      fill=\"#FEFEFF\" stroke=\"none\" />\n",
        "<rect x=\"121.0mm\" width=\"0.5mm\" height=\"100%\"\n",
        "      fill=\"#FDFEFF\" stroke=\"none\" />\n",
        "<rect x=\"121.5mm\" width=\"0.5mm\" height=\"100%\"\n",
        "      fill=\"#FDFEFF\" stroke=\"none\" />\n",
        "<rect x=\"122.0mm\" width=\"0.5mm\" height=\"100%\"\n",
        "      fill=\"#FDFEFF\" stroke=\"none\" />\n",
        "<rect x=\"122.5mm\" width=\"0.5mm\" height=\"100%\"\n",
        "      fill=\"#FDFEFF\" stroke=\"none\" />\n",
        "<rect x=\"123.0mm\" width=\"0.5mm\" height=\"100%\"\n",
        "      fill=\"#FDFEFF\" stroke=\"none\" />\n",
        "<rect x=\"123.5mm\" width=\"0.5mm\" height=\"100%\"\n",
        "      fill=\"#FCFEFF\" stroke=\"none\" />\n",
        "<rect x=\"124.0mm\" width=\"0.5mm\" height=\"100%\"\n",
        "      fill=\"#FCFEFF\" stroke=\"none\" />\n",
        "<rect x=\"124.5mm\" width=\"0.5mm\" height=\"100%\"\n",
        "      fill=\"#FCFEFF\" stroke=\"none\" />\n",
        "<rect x=\"125.0mm\" width=\"0.5mm\" height=\"100%\"\n",
        "      fill=\"#FCFEFF\" stroke=\"none\" />\n",
        "<rect x=\"125.5mm\" width=\"0.5mm\" height=\"100%\"\n",
        "      fill=\"#FCFEFF\" stroke=\"none\" />\n",
        "<rect x=\"126.0mm\" width=\"0.5mm\" height=\"100%\"\n",
        "      fill=\"#FBFEFF\" stroke=\"none\" />\n",
        "<rect x=\"126.5mm\" width=\"0.5mm\" height=\"100%\"\n",
        "      fill=\"#FBFEFF\" stroke=\"none\" />\n",
        "<rect x=\"127.0mm\" width=\"0.5mm\" height=\"100%\"\n",
        "      fill=\"#FBFEFF\" stroke=\"none\" />\n",
        "<rect x=\"127.5mm\" width=\"0.5mm\" height=\"100%\"\n",
        "      fill=\"#FBFEFF\" stroke=\"none\" />\n",
        "<rect x=\"128.0mm\" width=\"0.5mm\" height=\"100%\"\n",
        "      fill=\"#FBFEFF\" stroke=\"none\" />\n",
        "<rect x=\"128.5mm\" width=\"0.5mm\" height=\"100%\"\n",
        "      fill=\"#FBFEFF\" stroke=\"none\" />\n",
        "<rect x=\"129.0mm\" width=\"0.5mm\" height=\"100%\"\n",
        "      fill=\"#FAFEFF\" stroke=\"none\" />\n",
        "<rect x=\"129.5mm\" width=\"0.5mm\" height=\"100%\"\n",
        "      fill=\"#FAFEFF\" stroke=\"none\" />\n",
        "<rect x=\"130.0mm\" width=\"0.5mm\" height=\"100%\"\n",
        "      fill=\"#FAFEFF\" stroke=\"none\" />\n",
        "<rect x=\"130.5mm\" width=\"0.5mm\" height=\"100%\"\n",
        "      fill=\"#FAFEFF\" stroke=\"none\" />\n",
        "<rect x=\"131.0mm\" width=\"0.5mm\" height=\"100%\"\n",
        "      fill=\"#FAFEFF\" stroke=\"none\" />\n",
        "<rect x=\"131.5mm\" width=\"0.5mm\" height=\"100%\"\n",
        "      fill=\"#F9FEFF\" stroke=\"none\" />\n",
        "<rect x=\"132.0mm\" width=\"0.5mm\" height=\"100%\"\n",
        "      fill=\"#F9FEFF\" stroke=\"none\" />\n",
        "<rect x=\"132.5mm\" width=\"0.5mm\" height=\"100%\"\n",
        "      fill=\"#F9FEFF\" stroke=\"none\" />\n",
        "<rect x=\"133.0mm\" width=\"0.5mm\" height=\"100%\"\n",
        "      fill=\"#F9FEFF\" stroke=\"none\" />\n",
        "<rect x=\"133.5mm\" width=\"0.5mm\" height=\"100%\"\n",
        "      fill=\"#F9FEFF\" stroke=\"none\" />\n",
        "<rect x=\"134.0mm\" width=\"0.5mm\" height=\"100%\"\n",
        "      fill=\"#F9FEFF\" stroke=\"none\" />\n",
        "<rect x=\"134.5mm\" width=\"0.5mm\" height=\"100%\"\n",
        "      fill=\"#F8FEFF\" stroke=\"none\" />\n",
        "<rect x=\"135.0mm\" width=\"0.5mm\" height=\"100%\"\n",
        "      fill=\"#F8FEFF\" stroke=\"none\" />\n",
        "<rect x=\"135.5mm\" width=\"0.5mm\" height=\"100%\"\n",
        "      fill=\"#F8FEFF\" stroke=\"none\" />\n",
        "<rect x=\"136.0mm\" width=\"0.5mm\" height=\"100%\"\n",
        "      fill=\"#F8FEFF\" stroke=\"none\" />\n",
        "<rect x=\"136.5mm\" width=\"0.5mm\" height=\"100%\"\n",
        "      fill=\"#F8FEFF\" stroke=\"none\" />\n",
        "<rect x=\"137.0mm\" width=\"0.5mm\" height=\"100%\"\n",
        "      fill=\"#F8FEFF\" stroke=\"none\" />\n",
        "<rect x=\"137.5mm\" width=\"0.5mm\" height=\"100%\"\n",
        "      fill=\"#F7FEFF\" stroke=\"none\" />\n",
        "<rect x=\"138.0mm\" width=\"0.5mm\" height=\"100%\"\n",
        "      fill=\"#F7FEFF\" stroke=\"none\" />\n",
        "<rect x=\"138.5mm\" width=\"0.5mm\" height=\"100%\"\n",
        "      fill=\"#F7FEFF\" stroke=\"none\" />\n",
        "<rect x=\"139.0mm\" width=\"0.5mm\" height=\"100%\"\n",
        "      fill=\"#F7FEFF\" stroke=\"none\" />\n",
        "<rect x=\"139.5mm\" width=\"0.5mm\" height=\"100%\"\n",
        "      fill=\"#F7FEFF\" stroke=\"none\" />\n",
        "<rect x=\"140.0mm\" width=\"0.5mm\" height=\"100%\"\n",
        "      fill=\"#F7FEFF\" stroke=\"none\" />\n",
        "<rect x=\"140.5mm\" width=\"0.5mm\" height=\"100%\"\n",
        "      fill=\"#F6FEFF\" stroke=\"none\" />\n",
        "<rect x=\"141.0mm\" width=\"0.5mm\" height=\"100%\"\n",
        "      fill=\"#F6FEFF\" stroke=\"none\" />\n",
        "<rect x=\"141.5mm\" width=\"0.5mm\" height=\"100%\"\n",
        "      fill=\"#F6FEFF\" stroke=\"none\" />\n",
        "<rect x=\"142.0mm\" width=\"0.5mm\" height=\"100%\"\n",
        "      fill=\"#F6FEFF\" stroke=\"none\" />\n",
        "<rect x=\"142.5mm\" width=\"0.5mm\" height=\"100%\"\n",
        "      fill=\"#F6FEFF\" stroke=\"none\" />\n",
        "<rect x=\"143.0mm\" width=\"0.5mm\" height=\"100%\"\n",
        "      fill=\"#F6FEFF\" stroke=\"none\" />\n",
        "<rect x=\"143.5mm\" width=\"0.5mm\" height=\"100%\"\n",
        "      fill=\"#F6FEFF\" stroke=\"none\" />\n",
        "<rect x=\"144.0mm\" width=\"0.5mm\" height=\"100%\"\n",
        "      fill=\"#F5FEFF\" stroke=\"none\" />\n",
        "<rect x=\"144.5mm\" width=\"0.5mm\" height=\"100%\"\n",
        "      fill=\"#F5FEFF\" stroke=\"none\" />\n",
        "<rect x=\"145.0mm\" width=\"0.5mm\" height=\"100%\"\n",
        "      fill=\"#F5FEFF\" stroke=\"none\" />\n",
        "<rect x=\"145.5mm\" width=\"0.5mm\" height=\"100%\"\n",
        "      fill=\"#F5FEFF\" stroke=\"none\" />\n",
        "<rect x=\"146.0mm\" width=\"0.5mm\" height=\"100%\"\n",
        "      fill=\"#F5FEFF\" stroke=\"none\" />\n",
        "<rect x=\"146.5mm\" width=\"0.5mm\" height=\"100%\"\n",
        "      fill=\"#F5FEFF\" stroke=\"none\" />\n",
        "<rect x=\"147.0mm\" width=\"0.5mm\" height=\"100%\"\n",
        "      fill=\"#F5FEFF\" stroke=\"none\" />\n",
        "<rect x=\"147.5mm\" width=\"0.5mm\" height=\"100%\"\n",
        "      fill=\"#F4FEFF\" stroke=\"none\" />\n",
        "<rect x=\"148.0mm\" width=\"0.5mm\" height=\"100%\"\n",
        "      fill=\"#F4FEFF\" stroke=\"none\" />\n",
        "<rect x=\"148.5mm\" width=\"0.5mm\" height=\"100%\"\n",
        "      fill=\"#F4FEFF\" stroke=\"none\" />\n",
        "<rect x=\"149.0mm\" width=\"0.5mm\" height=\"100%\"\n",
        "      fill=\"#F4FEFF\" stroke=\"none\" />\n",
        "<rect x=\"149.5mm\" width=\"0.5mm\" height=\"100%\"\n",
        "      fill=\"#F4FEFF\" stroke=\"none\" />\n",
        "<rect x=\"150.0mm\" width=\"0.5mm\" height=\"100%\"\n",
        "      fill=\"#F4FEFF\" stroke=\"none\" />\n",
        "<rect x=\"150.5mm\" width=\"0.5mm\" height=\"100%\"\n",
        "      fill=\"#F4FEFF\" stroke=\"none\" />\n",
        "<rect x=\"151.0mm\" width=\"0.5mm\" height=\"100%\"\n",
        "      fill=\"#F4FEFF\" stroke=\"none\" />\n",
        "<rect x=\"151.5mm\" width=\"0.5mm\" height=\"100%\"\n",
        "      fill=\"#F3FEFF\" stroke=\"none\" />\n",
        "<rect x=\"152.0mm\" width=\"0.5mm\" height=\"100%\"\n",
        "      fill=\"#F3FEFF\" stroke=\"none\" />\n",
        "<rect x=\"152.5mm\" width=\"0.5mm\" height=\"100%\"\n",
        "      fill=\"#F3FEFF\" stroke=\"none\" />\n",
        "<rect x=\"153.0mm\" width=\"0.5mm\" height=\"100%\"\n",
        "      fill=\"#F3FEFF\" stroke=\"none\" />\n",
        "<rect x=\"153.5mm\" width=\"0.5mm\" height=\"100%\"\n",
        "      fill=\"#F3FEFF\" stroke=\"none\" />\n",
        "<rect x=\"154.0mm\" width=\"0.5mm\" height=\"100%\"\n",
        "      fill=\"#F3FEFF\" stroke=\"none\" />\n",
        "<rect x=\"154.5mm\" width=\"0.5mm\" height=\"100%\"\n",
        "      fill=\"#F3FEFF\" stroke=\"none\" />\n",
        "<rect x=\"155.0mm\" width=\"0.5mm\" height=\"100%\"\n",
        "      fill=\"#F3FEFF\" stroke=\"none\" />\n",
        "<rect x=\"155.5mm\" width=\"0.5mm\" height=\"100%\"\n",
        "      fill=\"#F2FEFF\" stroke=\"none\" />\n",
        "<rect x=\"156.0mm\" width=\"0.5mm\" height=\"100%\"\n",
        "      fill=\"#F2FEFF\" stroke=\"none\" />\n",
        "<rect x=\"156.5mm\" width=\"0.5mm\" height=\"100%\"\n",
        "      fill=\"#F2FEFF\" stroke=\"none\" />\n",
        "<rect x=\"157.0mm\" width=\"0.5mm\" height=\"100%\"\n",
        "      fill=\"#F2FEFF\" stroke=\"none\" />\n",
        "<rect x=\"157.5mm\" width=\"0.5mm\" height=\"100%\"\n",
        "      fill=\"#F2FEFF\" stroke=\"none\" />\n",
        "<rect x=\"158.0mm\" width=\"0.5mm\" height=\"100%\"\n",
        "      fill=\"#F2FEFF\" stroke=\"none\" />\n",
        "<rect x=\"158.5mm\" width=\"0.5mm\" height=\"100%\"\n",
        "      fill=\"#F2FEFF\" stroke=\"none\" />\n",
        "<rect x=\"159.0mm\" width=\"0.5mm\" height=\"100%\"\n",
        "      fill=\"#F2FEFF\" stroke=\"none\" />\n",
        "<rect x=\"159.5mm\" width=\"0.5mm\" height=\"100%\"\n",
        "      fill=\"#F1FEFF\" stroke=\"none\" />\n",
        "<rect x=\"160.0mm\" width=\"0.5mm\" height=\"100%\"\n",
        "      fill=\"#F1FEFF\" stroke=\"none\" />\n",
        "<rect x=\"160.5mm\" width=\"0.5mm\" height=\"100%\"\n",
        "      fill=\"#F1FEFF\" stroke=\"none\" />\n",
        "<rect x=\"161.0mm\" width=\"0.5mm\" height=\"100%\"\n",
        "      fill=\"#F1FEFF\" stroke=\"none\" />\n",
        "<rect x=\"161.5mm\" width=\"0.5mm\" height=\"100%\"\n",
        "      fill=\"#F1FEFF\" stroke=\"none\" />\n",
        "<rect x=\"162.0mm\" width=\"0.5mm\" height=\"100%\"\n",
        "      fill=\"#F1FEFF\" stroke=\"none\" />\n",
        "<rect x=\"162.5mm\" width=\"0.5mm\" height=\"100%\"\n",
        "      fill=\"#F1FEFF\" stroke=\"none\" />\n",
        "<rect x=\"163.0mm\" width=\"0.5mm\" height=\"100%\"\n",
        "      fill=\"#F1FEFF\" stroke=\"none\" />\n",
        "<rect x=\"163.5mm\" width=\"0.5mm\" height=\"100%\"\n",
        "      fill=\"#F1FEFF\" stroke=\"none\" />\n",
        "<rect x=\"164.0mm\" width=\"0.5mm\" height=\"100%\"\n",
        "      fill=\"#F0FEFF\" stroke=\"none\" />\n",
        "<rect x=\"164.5mm\" width=\"0.5mm\" height=\"100%\"\n",
        "      fill=\"#F0FEFF\" stroke=\"none\" />\n",
        "<rect x=\"165.0mm\" width=\"0.5mm\" height=\"100%\"\n",
        "      fill=\"#F0FEFF\" stroke=\"none\" />\n",
        "<rect x=\"165.5mm\" width=\"0.5mm\" height=\"100%\"\n",
        "      fill=\"#F0FEFF\" stroke=\"none\" />\n",
        "<rect x=\"166.0mm\" width=\"0.5mm\" height=\"100%\"\n",
        "      fill=\"#F0FEFF\" stroke=\"none\" />\n",
        "</svg>"
       ],
       "text": [
        "333-element ColorVector{xyY}:\n",
        " #undef\n",
        " #undef\n",
        " #undef\n",
        " #undef\n",
        " #undef\n",
        " #undef\n",
        " #undef\n",
        " #undef\n",
        " #undef\n",
        " #undef\n",
        " #undef\n",
        " #undef\n",
        " #undef\n",
        "   \u22ee   \n",
        " #undef\n",
        " #undef\n",
        " #undef\n",
        " #undef\n",
        " #undef\n",
        " #undef\n",
        " #undef\n",
        " #undef\n",
        " #undef\n",
        " #undef\n",
        " #undef\n",
        " #undef"
       ]
      }
     ],
     "prompt_number": 10
    },
    {
     "cell_type": "code",
     "collapsed": false,
     "input": [
      "T\u2609=5778K #Temperature of the sun\n",
      "@show convert(xyY, T\u2609) "
     ],
     "language": "python",
     "metadata": {},
     "outputs": [
      {
       "output_type": "stream",
       "stream": "stdout",
       "text": [
        "convert(xyY,T\u2609) => "
       ]
      },
      {
       "output_type": "stream",
       "stream": "stdout",
       "text": [
        "xyY(0.3264516712528168,0.33577118553819607,1.0)\n"
       ]
      },
      {
       "metadata": {},
       "output_type": "pyout",
       "prompt_number": 11,
       "svg": [
        "<?xml version\"1.0\" encoding=\"UTF-8\"?>\n",
        "<!DOCTYPE svg PUBLIC \"-//W3C//DTD SVG 1.1//EN\"\n",
        " \"http://www.w3.org/Graphics/SVG/1.1/DTD/svg11.dtd\">\n",
        "<svg xmlns=\"http://www.w3.org/2000/svg\" version=\"1.1\"\n",
        "     width=\"25mm\" height=\"25mm\" viewBox=\"0 0 1 1\">\n",
        "     <rect width=\"1\" height=\"1\"\n",
        "           fill=\"#FFFCF5\" stroke=\"none\"/>\n",
        "</svg>\n"
       ],
       "text": [
        "xyY(0.3264516712528168,0.33577118553819607,1.0)"
       ]
      }
     ],
     "prompt_number": 11
    },
    {
     "cell_type": "markdown",
     "metadata": {},
     "source": [
      "To check the computed color, we can compare our computed color against what is called the [Planckian locus](http://en.wikipedia.org/wiki/Planckian_locus), which is the trajectory in the chromaticity space $(x, y)$. There are known approximations using cubic splines as a function of the reciprocal temperature $1/T$.\n",
      "\n",
      "`Color.jl` also provides a `colordiff` function which quantifies the distance between two colors using the CIEDE2000 color-difference formula [(pdf)](http://www.ece.rochester.edu/~gsharma/ciede2000/ciede2000noteCRNA.pdf). (I'm not sure what the units are though.)"
     ]
    },
    {
     "cell_type": "code",
     "collapsed": false,
     "input": [
      "#Use cubic spline formula from Wikipedia\n",
      "function planckian_locus{S<:Real}(T::quantity(S, K))\n",
      "    T=T/K#Strip out the unit\n",
      "    x = 1667<=T<=4000 ? -0.2661239e9/T^3-0.2343580e6/T^2+0.8776956e3/T+0.179910 :\n",
      "        4000<=T<=25000? -3.0258469e9/T^3+2.1070379e6/T^2+0.2226347e3/T+0.230390 :\n",
      "        error(\"Temperature T=$T exceeds allowed limits of 1667<=T<=25000\")\n",
      "    y = 1667<=T<=2222 ? -1.1063814x^3-1.34811020x^2+2.18555832x-0.20219683 :\n",
      "        2222<=T<=4000 ? -0.9549476x^3-1.37418593x^2+2.09137015x-0.16748867 :\n",
      "        4000<=T<=25000?  3.0817580x^3-5.87338670x^2+3.75112997x-0.37001483 :\n",
      "        error(\"Temperature T=$T exceeds allowed limits of 1667<=T<=25000\")\n",
      "    xyY(x, y, 1.0)\n",
      "end\n",
      "\n",
      "sun_approx = planckian_locus(T\u2609)\n",
      "sun        = convert(xyY, T\u2609)\n",
      "\n",
      "display([sun_approx, sun])\n",
      "println(sun_approx)\n",
      "println(sun)\n",
      "println(colordiff(sun_approx, sun))"
     ],
     "language": "python",
     "metadata": {},
     "outputs": [
      {
       "metadata": {},
       "output_type": "display_data",
       "svg": [
        "<?xml version=\"1.0\" encoding=\"UTF-8\"?>\n",
        "<!DOCTYPE svg PUBLIC \"-//W3C//DTD SVG 1.1//EN\"\n",
        " \"http://www.w3.org/Graphics/SVG/1.1/DTD/svg11.dtd\">\n",
        "<svg xmlns=\"http://www.w3.org/2000/svg\" version=\"1.1\"\n",
        "     width=\"30mm\" height=\"25mm\"\n",
        "     shape-rendering=\"crispEdges\">\n",
        "<rect x=\"0mm\" width=\"14mm\" height=\"100%\"\n",
        "      fill=\"#FFFDFF\" stroke=\"none\" />\n",
        "<rect x=\"15mm\" width=\"14mm\" height=\"100%\"\n",
        "      fill=\"#FFFCF5\" stroke=\"none\" />\n",
        "</svg>"
       ],
       "text": [
        "2-element Array{xyY,1}:\n",
        " xyY(0.3163481445268952,0.32642733641049293,1.0)\n",
        " xyY(0.3264516712528168,0.33577118553819607,1.0)"
       ]
      },
      {
       "output_type": "stream",
       "stream": "stdout",
       "text": [
        "xyY"
       ]
      },
      {
       "output_type": "stream",
       "stream": "stdout",
       "text": [
        "(0.3163481445268952,0.32642733641049293,1.0)\n",
        "xyY(0.3264516712528168,0.33577118553819607,1.0)\n",
        "4.95075118545415\n"
       ]
      }
     ],
     "prompt_number": 12
    },
    {
     "cell_type": "markdown",
     "metadata": {},
     "source": [
      "As a final check, overlay the approximate Planckian locus with the computed one from the blackbody spectrum. Close enough, maybe?"
     ]
    },
    {
     "cell_type": "code",
     "collapsed": false,
     "input": [
      "locus = map(T->planckian_locus(T*K), 1667:30:25000)\n",
      "\n",
      "#XXX plotting issue https://github.com/dcjones/Gadfly.jl/issues/317\n",
      "plot(Guide.xlabel(\"x\"), Guide.ylabel(\"y\"),\n",
      "  layer(Geom.line, x=[c.x for c in blackbodies], y=[c.y for c in blackbodies], Theme(default_color=color(\"red\"))), \n",
      "  layer(Geom.point, x=repmat([sun.x], 2), y=repmat([sun.y], 2), Theme(default_color=color(\"red\"))),\n",
      "  layer(Geom.label, x=[sun.x], y=[sun.y], label=[\"\u2609\"]),\n",
      "\n",
      "  layer(Geom.line, x=[c.x for c in locus], y=[c.y for c in locus], Theme(default_color=color(\"purple\"))),\n",
      "  layer(Geom.point, x=repmat([sun_approx.x], 2), y=repmat([sun_approx.y], 2), Theme(default_color=color(\"purple\"))),\n",
      "  layer(Geom.label, x=[sun_approx.x], y=[sun_approx.y], label=[\"\u2609 (approx)\"]),\n",
      ")"
     ],
     "language": "python",
     "metadata": {},
     "outputs": [
      {
       "html": [
        "<div id=\"gadflyplot-QYnwtiU6WFvyGiim9VkL\"></div>\n",
        "<script>\n",
        "(function (module) {\n",
        "function draw_with_data(data, parent_id) {\n",
        "  var g = d3.select(parent_id)\n",
        "            .append(\"svg\")\n",
        "              .attr(\"width\", \"120mm\")\n",
        "              .attr(\"height\", \"80mm\")\n",
        "              .attr(\"viewBox\", \"0 0 120 80\")\n",
        "              .attr(\"stroke-width\", \"0.5\")\n",
        "              .attr(\"style\", \"stroke:black;fill:black\");\n",
        "  g.append(\"defs\");\n",
        "  var ctx = {\n",
        "      \"scale\": 1.0,\n",
        "      \"tx\": 0.0,\n",
        "      \"ty\": 0.0\n",
        "  };\n",
        "(function (g) {\n",
        "  g.attr(\"stroke\", \"none\")\n",
        "   .attr(\"fill\", \"#000000\")\n",
        "   .attr(\"stroke-width\", 0.3)\n",
        "   .attr(\"font-family\", \"Helvetic,Arial,sans\")\n",
        "   .style(\"font-size\", \"3.88px\");\n",
        "  (function (g) {\n",
        "    g.attr(\"class\", \"plotroot xscalable yscalable\");\n",
        "    (function (g) {\n",
        "      g.attr(\"stroke\", \"none\")\n",
        "       .attr(\"fill\", \"#4C404B\")\n",
        "       .attr(\"font-family\", \"'PT Sans','Helvetica Neue','Helvetica',sans-serif\")\n",
        "       .style(\"font-size\", \"3.18px\")\n",
        "       .attr(\"class\", \"guide ylabels\");\n",
        "      (function (g) {\n",
        "        g.attr(\"visibility\", \"hidden\");\n",
        "        g.append(\"svg:text\")\n",
        "           .attr(\"x\", 19.91)\n",
        "           .attr(\"y\", -56.58)\n",
        "           .attr(\"text-anchor\", \"end\")\n",
        "           .style(\"dominant-baseline\", \"central\")\n",
        "            .call(function(text) {\n",
        "      text.text(\"0.75\");\n",
        "    })\n",
        ";\n",
        "      }(g.append(\"g\")));\n",
        "      (function (g) {\n",
        "        g.attr(\"visibility\", \"hidden\");\n",
        "        g.append(\"svg:text\")\n",
        "           .attr(\"x\", 19.91)\n",
        "           .attr(\"y\", 69.73)\n",
        "           .attr(\"text-anchor\", \"end\")\n",
        "           .style(\"dominant-baseline\", \"central\")\n",
        "            .call(function(text) {\n",
        "      text.text(\"0.15\");\n",
        "    })\n",
        ";\n",
        "      }(g.append(\"g\")));\n",
        "      g.append(\"svg:text\")\n",
        "         .attr(\"x\", 19.91)\n",
        "         .attr(\"y\", 17.1)\n",
        "         .attr(\"text-anchor\", \"end\")\n",
        "         .style(\"dominant-baseline\", \"central\")\n",
        "         .call(function(text) {\n",
        "     text.text(\"0.40\");\n",
        "   })\n",
        ";\n",
        "      (function (g) {\n",
        "        g.attr(\"visibility\", \"hidden\");\n",
        "        g.append(\"svg:text\")\n",
        "           .attr(\"x\", 19.91)\n",
        "           .attr(\"y\", 80.26)\n",
        "           .attr(\"text-anchor\", \"end\")\n",
        "           .style(\"dominant-baseline\", \"central\")\n",
        "            .call(function(text) {\n",
        "      text.text(\"0.10\");\n",
        "    })\n",
        ";\n",
        "      }(g.append(\"g\")));\n",
        "      (function (g) {\n",
        "        g.attr(\"visibility\", \"hidden\");\n",
        "        g.append(\"svg:text\")\n",
        "           .attr(\"x\", 19.91)\n",
        "           .attr(\"y\", -14.47)\n",
        "           .attr(\"text-anchor\", \"end\")\n",
        "           .style(\"dominant-baseline\", \"central\")\n",
        "            .call(function(text) {\n",
        "      text.text(\"0.55\");\n",
        "    })\n",
        ";\n",
        "      }(g.append(\"g\")));\n",
        "      (function (g) {\n",
        "        g.attr(\"visibility\", \"hidden\");\n",
        "        g.append(\"svg:text\")\n",
        "           .attr(\"x\", 19.91)\n",
        "           .attr(\"y\", -3.95)\n",
        "           .attr(\"text-anchor\", \"end\")\n",
        "           .style(\"dominant-baseline\", \"central\")\n",
        "            .call(function(text) {\n",
        "      text.text(\"0.50\");\n",
        "    })\n",
        ";\n",
        "      }(g.append(\"g\")));\n",
        "      (function (g) {\n",
        "        g.attr(\"visibility\", \"hidden\");\n",
        "        g.append(\"svg:text\")\n",
        "           .attr(\"x\", 19.91)\n",
        "           .attr(\"y\", 111.84)\n",
        "           .attr(\"text-anchor\", \"end\")\n",
        "           .style(\"dominant-baseline\", \"central\")\n",
        "            .call(function(text) {\n",
        "      text.text(\"-0.05\");\n",
        "    })\n",
        ";\n",
        "      }(g.append(\"g\")));\n",
        "      (function (g) {\n",
        "        g.attr(\"visibility\", \"hidden\");\n",
        "        g.append(\"svg:text\")\n",
        "           .attr(\"x\", 19.91)\n",
        "           .attr(\"y\", 90.79)\n",
        "           .attr(\"text-anchor\", \"end\")\n",
        "           .style(\"dominant-baseline\", \"central\")\n",
        "            .call(function(text) {\n",
        "      text.text(\"0.05\");\n",
        "    })\n",
        ";\n",
        "      }(g.append(\"g\")));\n",
        "      (function (g) {\n",
        "        g.attr(\"visibility\", \"hidden\");\n",
        "        g.append(\"svg:text\")\n",
        "           .attr(\"x\", 19.91)\n",
        "           .attr(\"y\", -35.52)\n",
        "           .attr(\"text-anchor\", \"end\")\n",
        "           .style(\"dominant-baseline\", \"central\")\n",
        "            .call(function(text) {\n",
        "      text.text(\"0.65\");\n",
        "    })\n",
        ";\n",
        "      }(g.append(\"g\")));\n",
        "      (function (g) {\n",
        "        g.attr(\"visibility\", \"hidden\");\n",
        "        g.append(\"svg:text\")\n",
        "           .attr(\"x\", 19.91)\n",
        "           .attr(\"y\", 122.36)\n",
        "           .attr(\"text-anchor\", \"end\")\n",
        "           .style(\"dominant-baseline\", \"central\")\n",
        "            .call(function(text) {\n",
        "      text.text(\"-0.10\");\n",
        "    })\n",
        ";\n",
        "      }(g.append(\"g\")));\n",
        "      g.append(\"svg:text\")\n",
        "         .attr(\"x\", 19.91)\n",
        "         .attr(\"y\", 59.21)\n",
        "         .attr(\"text-anchor\", \"end\")\n",
        "         .style(\"dominant-baseline\", \"central\")\n",
        "         .call(function(text) {\n",
        "     text.text(\"0.20\");\n",
        "   })\n",
        ";\n",
        "      (function (g) {\n",
        "        g.attr(\"visibility\", \"hidden\");\n",
        "        g.append(\"svg:text\")\n",
        "           .attr(\"x\", 19.91)\n",
        "           .attr(\"y\", -25)\n",
        "           .attr(\"text-anchor\", \"end\")\n",
        "           .style(\"dominant-baseline\", \"central\")\n",
        "            .call(function(text) {\n",
        "      text.text(\"0.60\");\n",
        "    })\n",
        ";\n",
        "      }(g.append(\"g\")));\n",
        "      (function (g) {\n",
        "        g.attr(\"visibility\", \"hidden\");\n",
        "        g.append(\"svg:text\")\n",
        "           .attr(\"x\", 19.91)\n",
        "           .attr(\"y\", 101.31)\n",
        "           .attr(\"text-anchor\", \"end\")\n",
        "           .style(\"dominant-baseline\", \"central\")\n",
        "            .call(function(text) {\n",
        "      text.text(\"0.00\");\n",
        "    })\n",
        ";\n",
        "      }(g.append(\"g\")));\n",
        "      g.append(\"svg:text\")\n",
        "         .attr(\"x\", 19.91)\n",
        "         .attr(\"y\", 48.68)\n",
        "         .attr(\"text-anchor\", \"end\")\n",
        "         .style(\"dominant-baseline\", \"central\")\n",
        "         .call(function(text) {\n",
        "     text.text(\"0.25\");\n",
        "   })\n",
        ";\n",
        "      g.append(\"svg:text\")\n",
        "         .attr(\"x\", 19.91)\n",
        "         .attr(\"y\", 6.58)\n",
        "         .attr(\"text-anchor\", \"end\")\n",
        "         .style(\"dominant-baseline\", \"central\")\n",
        "         .call(function(text) {\n",
        "     text.text(\"0.45\");\n",
        "   })\n",
        ";\n",
        "      (function (g) {\n",
        "        g.attr(\"visibility\", \"hidden\");\n",
        "        g.append(\"svg:text\")\n",
        "           .attr(\"x\", 19.91)\n",
        "           .attr(\"y\", -46.05)\n",
        "           .attr(\"text-anchor\", \"end\")\n",
        "           .style(\"dominant-baseline\", \"central\")\n",
        "            .call(function(text) {\n",
        "      text.text(\"0.70\");\n",
        "    })\n",
        ";\n",
        "      }(g.append(\"g\")));\n",
        "      g.append(\"svg:text\")\n",
        "         .attr(\"x\", 19.91)\n",
        "         .attr(\"y\", 38.16)\n",
        "         .attr(\"text-anchor\", \"end\")\n",
        "         .style(\"dominant-baseline\", \"central\")\n",
        "         .call(function(text) {\n",
        "     text.text(\"0.30\");\n",
        "   })\n",
        ";\n",
        "      g.append(\"svg:text\")\n",
        "         .attr(\"x\", 19.91)\n",
        "         .attr(\"y\", 27.63)\n",
        "         .attr(\"text-anchor\", \"end\")\n",
        "         .style(\"dominant-baseline\", \"central\")\n",
        "         .call(function(text) {\n",
        "     text.text(\"0.35\");\n",
        "   })\n",
        ";\n",
        "    }(g.append(\"g\")));\n",
        "    (function (g) {\n",
        "      g.attr(\"stroke\", \"none\")\n",
        "       .attr(\"fill\", \"#362A35\")\n",
        "       .attr(\"font-family\", \"'PT Sans','Helvetica Neue','Helvetica',sans-serif\")\n",
        "       .style(\"font-size\", \"3.88px\");\n",
        "      g.append(\"svg:text\")\n",
        "         .attr(\"x\", 8.26)\n",
        "         .attr(\"y\", 32.89)\n",
        "         .attr(\"text-anchor\", \"middle\")\n",
        "         .style(\"dominant-baseline\", \"central\")\n",
        "         .attr(\"transform\", \"rotate(-90, 8.26, 32.89)\")\n",
        "         .call(function(text) {\n",
        "     text.text(\"y\");\n",
        "   })\n",
        ";\n",
        "    }(g.append(\"g\")));\n",
        "    (function (g) {\n",
        "      g.attr(\"stroke\", \"none\")\n",
        "       .attr(\"fill\", \"#4C404B\")\n",
        "       .attr(\"font-family\", \"'PT Sans','Helvetica Neue','Helvetica',sans-serif\")\n",
        "       .style(\"font-size\", \"3.18px\")\n",
        "       .attr(\"class\", \"guide xlabels\");\n",
        "      (function (g) {\n",
        "        g.attr(\"visibility\", \"hidden\");\n",
        "        g.append(\"svg:text\")\n",
        "           .attr(\"x\", 134.53)\n",
        "           .attr(\"y\", 65.48)\n",
        "           .attr(\"text-anchor\", \"middle\")\n",
        "            .call(function(text) {\n",
        "      text.text(\"1.0\");\n",
        "    })\n",
        ";\n",
        "      }(g.append(\"g\")));\n",
        "      (function (g) {\n",
        "        g.attr(\"visibility\", \"hidden\");\n",
        "        g.append(\"svg:text\")\n",
        "           .attr(\"x\", 178.91)\n",
        "           .attr(\"y\", 65.48)\n",
        "           .attr(\"text-anchor\", \"middle\")\n",
        "            .call(function(text) {\n",
        "      text.text(\"1.4\");\n",
        "    })\n",
        ";\n",
        "      }(g.append(\"g\")));\n",
        "      (function (g) {\n",
        "        g.attr(\"visibility\", \"hidden\");\n",
        "        g.append(\"svg:text\")\n",
        "           .attr(\"x\", 223.3)\n",
        "           .attr(\"y\", 65.48)\n",
        "           .attr(\"text-anchor\", \"middle\")\n",
        "            .call(function(text) {\n",
        "      text.text(\"1.8\");\n",
        "    })\n",
        ";\n",
        "      }(g.append(\"g\")));\n",
        "      (function (g) {\n",
        "        g.attr(\"visibility\", \"hidden\");\n",
        "        g.append(\"svg:text\")\n",
        "           .attr(\"x\", -20.81)\n",
        "           .attr(\"y\", 65.48)\n",
        "           .attr(\"text-anchor\", \"middle\")\n",
        "            .call(function(text) {\n",
        "      text.text(\"-0.4\");\n",
        "    })\n",
        ";\n",
        "      }(g.append(\"g\")));\n",
        "      g.append(\"svg:text\")\n",
        "         .attr(\"x\", 67.95)\n",
        "         .attr(\"y\", 65.48)\n",
        "         .attr(\"text-anchor\", \"middle\")\n",
        "         .call(function(text) {\n",
        "     text.text(\"0.4\");\n",
        "   })\n",
        ";\n",
        "      (function (g) {\n",
        "        g.attr(\"visibility\", \"hidden\");\n",
        "        g.append(\"svg:text\")\n",
        "           .attr(\"x\", 201.1)\n",
        "           .attr(\"y\", 65.48)\n",
        "           .attr(\"text-anchor\", \"middle\")\n",
        "            .call(function(text) {\n",
        "      text.text(\"1.6\");\n",
        "    })\n",
        ";\n",
        "      }(g.append(\"g\")));\n",
        "      (function (g) {\n",
        "        g.attr(\"visibility\", \"hidden\");\n",
        "        g.append(\"svg:text\")\n",
        "           .attr(\"x\", -87.39)\n",
        "           .attr(\"y\", 65.48)\n",
        "           .attr(\"text-anchor\", \"middle\")\n",
        "            .call(function(text) {\n",
        "      text.text(\"-1.0\");\n",
        "    })\n",
        ";\n",
        "      }(g.append(\"g\")));\n",
        "      (function (g) {\n",
        "        g.attr(\"visibility\", \"hidden\");\n",
        "        g.append(\"svg:text\")\n",
        "           .attr(\"x\", -65.2)\n",
        "           .attr(\"y\", 65.48)\n",
        "           .attr(\"text-anchor\", \"middle\")\n",
        "            .call(function(text) {\n",
        "      text.text(\"-0.8\");\n",
        "    })\n",
        ";\n",
        "      }(g.append(\"g\")));\n",
        "      g.append(\"svg:text\")\n",
        "         .attr(\"x\", 112.34)\n",
        "         .attr(\"y\", 65.48)\n",
        "         .attr(\"text-anchor\", \"middle\")\n",
        "         .call(function(text) {\n",
        "     text.text(\"0.8\");\n",
        "   })\n",
        ";\n",
        "      (function (g) {\n",
        "        g.attr(\"visibility\", \"hidden\");\n",
        "        g.append(\"svg:text\")\n",
        "           .attr(\"x\", -43.01)\n",
        "           .attr(\"y\", 65.48)\n",
        "           .attr(\"text-anchor\", \"middle\")\n",
        "            .call(function(text) {\n",
        "      text.text(\"-0.6\");\n",
        "    })\n",
        ";\n",
        "      }(g.append(\"g\")));\n",
        "      (function (g) {\n",
        "        g.attr(\"visibility\", \"hidden\");\n",
        "        g.append(\"svg:text\")\n",
        "           .attr(\"x\", 156.72)\n",
        "           .attr(\"y\", 65.48)\n",
        "           .attr(\"text-anchor\", \"middle\")\n",
        "            .call(function(text) {\n",
        "      text.text(\"1.2\");\n",
        "    })\n",
        ";\n",
        "      }(g.append(\"g\")));\n",
        "      g.append(\"svg:text\")\n",
        "         .attr(\"x\", 45.76)\n",
        "         .attr(\"y\", 65.48)\n",
        "         .attr(\"text-anchor\", \"middle\")\n",
        "         .call(function(text) {\n",
        "     text.text(\"0.2\");\n",
        "   })\n",
        ";\n",
        "      g.append(\"svg:text\")\n",
        "         .attr(\"x\", 90.15)\n",
        "         .attr(\"y\", 65.48)\n",
        "         .attr(\"text-anchor\", \"middle\")\n",
        "         .call(function(text) {\n",
        "     text.text(\"0.6\");\n",
        "   })\n",
        ";\n",
        "      g.append(\"svg:text\")\n",
        "         .attr(\"x\", 23.57)\n",
        "         .attr(\"y\", 65.48)\n",
        "         .attr(\"text-anchor\", \"middle\")\n",
        "         .call(function(text) {\n",
        "     text.text(\"0.0\");\n",
        "   })\n",
        ";\n",
        "      (function (g) {\n",
        "        g.attr(\"visibility\", \"hidden\");\n",
        "        g.append(\"svg:text\")\n",
        "           .attr(\"x\", 1.38)\n",
        "           .attr(\"y\", 65.48)\n",
        "           .attr(\"text-anchor\", \"middle\")\n",
        "            .call(function(text) {\n",
        "      text.text(\"-0.2\");\n",
        "    })\n",
        ";\n",
        "      }(g.append(\"g\")));\n",
        "    }(g.append(\"g\")));\n",
        "    (function (g) {\n",
        "      g.attr(\"stroke\", \"none\")\n",
        "       .attr(\"fill\", \"#362A35\")\n",
        "       .attr(\"font-family\", \"'PT Sans','Helvetica Neue','Helvetica',sans-serif\")\n",
        "       .style(\"font-size\", \"3.88px\");\n",
        "      g.append(\"svg:text\")\n",
        "         .attr(\"x\", 67.95)\n",
        "         .attr(\"y\", 73)\n",
        "         .attr(\"text-anchor\", \"middle\")\n",
        "         .call(function(text) {\n",
        "     text.text(\"x\");\n",
        "   })\n",
        ";\n",
        "    }(g.append(\"g\")));\n",
        "    (function (g) {\n",
        "      g.on(\"mouseover\", guide_background_mouseover(\"#C6C6C9\"))\n",
        "       .on(\"mouseout\", guide_background_mouseout(\"#F0F0F3\"))\n",
        "       .call(zoom_behavior(ctx))\n",
        ";\n",
        "      (function (g) {\n",
        "        d3.select(\"defs\")\n",
        "  .append(\"svg:clipPath\")\n",
        "    .attr(\"id\", parent_id + \"_clippath0\")\n",
        "    .append(\"svg:path\")\n",
        "      .attr(\"d\", \" M20.91,5 L 115 5 115 60.79 20.91 60.79 z\");g.attr(\"clip-path\", \"url(#\" + parent_id + \"_clippath0)\");\n",
        "        (function (g) {\n",
        "          g.attr(\"class\", \"guide background\")\n",
        "           .attr(\"stroke\", \"#F1F1F5\")\n",
        "           .attr(\"fill\", \"#FAFAFA\")\n",
        "           .attr(\"opacity\", 1.00);\n",
        "          g.append(\"svg:path\")\n",
        "             .attr(\"d\", \"M20.91,5 L 115 5 115 60.79 20.91 60.79 z\");\n",
        "        }(g.append(\"g\")));\n",
        "        (function (g) {\n",
        "          g.attr(\"stroke\", \"#F0F0F3\")\n",
        "           .attr(\"stroke-width\", 0.2)\n",
        "           .attr(\"class\", \"guide ygridlines xfixed\");\n",
        "          g.append(\"svg:path\")\n",
        "             .attr(\"d\", \"M20.91,69.73 L 115 69.73\");\n",
        "          g.append(\"svg:path\")\n",
        "             .attr(\"d\", \"M20.91,80.26 L 115 80.26\");\n",
        "          g.append(\"svg:path\")\n",
        "             .attr(\"d\", \"M20.91,-3.95 L 115 -3.95\");\n",
        "          g.append(\"svg:path\")\n",
        "             .attr(\"d\", \"M20.91,90.79 L 115 90.79\");\n",
        "          g.append(\"svg:path\")\n",
        "             .attr(\"d\", \"M20.91,122.36 L 115 122.36\");\n",
        "          g.append(\"svg:path\")\n",
        "             .attr(\"d\", \"M20.91,-25 L 115 -25\");\n",
        "          g.append(\"svg:path\")\n",
        "             .attr(\"d\", \"M20.91,48.68 L 115 48.68\");\n",
        "          g.append(\"svg:path\")\n",
        "             .attr(\"d\", \"M20.91,-46.05 L 115 -46.05\");\n",
        "          g.append(\"svg:path\")\n",
        "             .attr(\"d\", \"M20.91,27.63 L 115 27.63\");\n",
        "          g.append(\"svg:path\")\n",
        "             .attr(\"d\", \"M20.91,38.16 L 115 38.16\");\n",
        "          g.append(\"svg:path\")\n",
        "             .attr(\"d\", \"M20.91,6.58 L 115 6.58\");\n",
        "          g.append(\"svg:path\")\n",
        "             .attr(\"d\", \"M20.91,101.31 L 115 101.31\");\n",
        "          g.append(\"svg:path\")\n",
        "             .attr(\"d\", \"M20.91,59.21 L 115 59.21\");\n",
        "          g.append(\"svg:path\")\n",
        "             .attr(\"d\", \"M20.91,-35.52 L 115 -35.52\");\n",
        "          g.append(\"svg:path\")\n",
        "             .attr(\"d\", \"M20.91,111.84 L 115 111.84\");\n",
        "          g.append(\"svg:path\")\n",
        "             .attr(\"d\", \"M20.91,-14.47 L 115 -14.47\");\n",
        "          g.append(\"svg:path\")\n",
        "             .attr(\"d\", \"M20.91,17.1 L 115 17.1\");\n",
        "          g.append(\"svg:path\")\n",
        "             .attr(\"d\", \"M20.91,-56.58 L 115 -56.58\");\n",
        "        }(g.append(\"g\")));\n",
        "        (function (g) {\n",
        "          g.attr(\"stroke\", \"#F0F0F3\")\n",
        "           .attr(\"stroke-width\", 0.2)\n",
        "           .attr(\"class\", \"guide xgridlines yfixed\");\n",
        "          g.append(\"svg:path\")\n",
        "             .attr(\"d\", \"M178.91,5 L 178.91 60.79\");\n",
        "          g.append(\"svg:path\")\n",
        "             .attr(\"d\", \"M-20.81,5 L -20.81 60.79\");\n",
        "          g.append(\"svg:path\")\n",
        "             .attr(\"d\", \"M201.1,5 L 201.1 60.79\");\n",
        "          g.append(\"svg:path\")\n",
        "             .attr(\"d\", \"M-65.2,5 L -65.2 60.79\");\n",
        "          g.append(\"svg:path\")\n",
        "             .attr(\"d\", \"M-43.01,5 L -43.01 60.79\");\n",
        "          g.append(\"svg:path\")\n",
        "             .attr(\"d\", \"M45.76,5 L 45.76 60.79\");\n",
        "          g.append(\"svg:path\")\n",
        "             .attr(\"d\", \"M23.57,5 L 23.57 60.79\");\n",
        "          g.append(\"svg:path\")\n",
        "             .attr(\"d\", \"M1.38,5 L 1.38 60.79\");\n",
        "          g.append(\"svg:path\")\n",
        "             .attr(\"d\", \"M90.15,5 L 90.15 60.79\");\n",
        "          g.append(\"svg:path\")\n",
        "             .attr(\"d\", \"M156.72,5 L 156.72 60.79\");\n",
        "          g.append(\"svg:path\")\n",
        "             .attr(\"d\", \"M112.34,5 L 112.34 60.79\");\n",
        "          g.append(\"svg:path\")\n",
        "             .attr(\"d\", \"M-87.39,5 L -87.39 60.79\");\n",
        "          g.append(\"svg:path\")\n",
        "             .attr(\"d\", \"M67.95,5 L 67.95 60.79\");\n",
        "          g.append(\"svg:path\")\n",
        "             .attr(\"d\", \"M223.3,5 L 223.3 60.79\");\n",
        "          g.append(\"svg:path\")\n",
        "             .attr(\"d\", \"M134.53,5 L 134.53 60.79\");\n",
        "        }(g.append(\"g\")));\n",
        "      }(g.append(\"g\")));\n",
        "      (function (g) {\n",
        "        d3.select(\"defs\")\n",
        "  .append(\"svg:clipPath\")\n",
        "    .attr(\"id\", parent_id + \"_clippath1\")\n",
        "    .append(\"svg:path\")\n",
        "      .attr(\"d\", \" M20.91,5 L 115 5 115 60.79 20.91 60.79 z\");g.attr(\"clip-path\", \"url(#\" + parent_id + \"_clippath1)\");\n",
        "        (function (g) {\n",
        "          g.attr(\"class\", \"plotpanel\");\n",
        "          (function (g) {\n",
        "            g.attr(\"stroke-width\", 0.3);\n",
        "            (function (g) {\n",
        "              g.attr(\"stroke-width\", 0.3);\n",
        "g.selectAll(\"form0\")\n",
        "                  .data(d3.zip(data[0],data[1]))\n",
        "                  .enter()\n",
        "                  .append(\"circle\")\n",
        ".attr(\"cx\", function(d) { return d[0]; })\n",
        ".attr(\"cy\", function(d) { return d[1]; })\n",
        ".attr(\"r\", 0.6)\n",
        ".attr(\"class\", \"geometry color_RGB(1.0,0.0,0.0)\")\n",
        ".on(\"mouseout\", geom_point_mouseout(10.00, 0.50), false)\n",
        ".on(\"mouseover\", geom_point_mouseover(10.00, 0.50), false)\n",
        ".attr(\"stroke\", \"#CC0000\")\n",
        ".attr(\"fill\", \"#FF0000\")\n",
        ";\n",
        "            }(g.append(\"g\")));\n",
        "          }(g.append(\"g\")));\n",
        "          (function (g) {\n",
        "            g.attr(\"stroke-width\", 0.3);\n",
        "            (function (g) {\n",
        "              g.attr(\"stroke-width\", 0.3);\n",
        "g.selectAll(\"form1\")\n",
        "                  .data(d3.zip(data[2],data[3]))\n",
        "                  .enter()\n",
        "                  .append(\"circle\")\n",
        ".attr(\"cx\", function(d) { return d[0]; })\n",
        ".attr(\"cy\", function(d) { return d[1]; })\n",
        ".attr(\"r\", 0.6)\n",
        ".attr(\"class\", \"geometry color_RGB(0.5019607843137255,0.0,0.5019607843137255)\")\n",
        ".on(\"mouseout\", geom_point_mouseout(10.00, 0.50), false)\n",
        ".on(\"mouseover\", geom_point_mouseover(10.00, 0.50), false)\n",
        ".attr(\"stroke\", \"#57005A\")\n",
        ".attr(\"fill\", \"#800080\")\n",
        ";\n",
        "            }(g.append(\"g\")));\n",
        "          }(g.append(\"g\")));\n",
        "          (function (g) {\n",
        "            g.attr(\"font-family\", \"'PT Sans','Helvetica Neue','Helvetica',sans-serif\")\n",
        "             .style(\"font-size\", \"2.82px\")\n",
        "             .attr(\"fill\", \"#4C404B\")\n",
        "             .attr(\"stroke\", \"none\");\n",
        "            (function (g) {\n",
        "              g.attr(\"class\", \"geometry\");\n",
        "              g.append(\"svg:text\")\n",
        "                 .attr(\"x\", 67.14)\n",
        "                 .attr(\"y\", 35.74)\n",
        "                 .attr(\"text-anchor\", \"middle\")\n",
        "                 .style(\"dominant-baseline\", \"central\")\n",
        "                     .call(function(text) {\n",
        "         text.text(\"\u2609 (approx)\");\n",
        "       })\n",
        ";\n",
        "            }(g.append(\"g\")));\n",
        "          }(g.append(\"g\")));\n",
        "          (function (g) {\n",
        "            g.attr(\"font-family\", \"'PT Sans','Helvetica Neue','Helvetica',sans-serif\")\n",
        "             .style(\"font-size\", \"2.82px\")\n",
        "             .attr(\"fill\", \"#4C404B\")\n",
        "             .attr(\"stroke\", \"none\");\n",
        "            (function (g) {\n",
        "              g.attr(\"class\", \"geometry\");\n",
        "              g.append(\"svg:text\")\n",
        "                 .attr(\"x\", 62.43)\n",
        "                 .attr(\"y\", 33.77)\n",
        "                 .attr(\"text-anchor\", \"middle\")\n",
        "                 .style(\"dominant-baseline\", \"central\")\n",
        "                     .call(function(text) {\n",
        "         text.text(\"\u2609\");\n",
        "       })\n",
        ";\n",
        "            }(g.append(\"g\")));\n",
        "          }(g.append(\"g\")));\n",
        "          (function (g) {\n",
        "            g.attr(\"fill\", \"none\")\n",
        "             .attr(\"stroke-width\", 0.3);\n",
        "            (function (g) {\n",
        "              g.attr(\"stroke\", \"#800080\")\n",
        "               .attr(\"class\", \"geometry\");\n",
        "              g.append(\"svg:path\")\n",
        "                 .attr(\"d\", \"M50.48,51.17 L 50.48 51.17 50.48 51.16 50.48 51.16 50.48 51.15 50.49 51.14 50.49 51.14 50.49 51.13 50.49 51.13 50.49 51.12 50.5 51.12 50.5 51.11 50.5 51.11 50.5 51.1 50.5 51.09 50.51 51.09 50.51 51.08 50.51 51.08 50.51 51.07 50.51 51.06 50.52 51.06 50.52 51.05 50.52 51.05 50.52 51.04 50.53 51.04 50.53 51.03 50.53 51.02 50.53 51.02 50.53 51.01 50.54 51.01 50.54 51 50.54 50.99 50.54 50.99 50.55 50.98 50.55 50.98 50.55 50.97 50.55 50.96 50.55 50.96 50.56 50.95 50.56 50.95 50.56 50.94 50.56 50.93 50.57 50.93 50.57 50.92 50.57 50.91 50.57 50.91 50.57 50.9 50.58 50.9 50.58 50.89 50.58 50.88 50.58 50.88 50.59 50.87 50.59 50.86 50.59 50.86 50.59 50.85 50.6 50.84 50.6 50.84 50.6 50.83 50.6 50.82 50.6 50.82 50.61 50.81 50.61 50.81 50.61 50.8 50.61 50.79 50.62 50.79 50.62 50.78 50.62 50.77 50.62 50.77 50.63 50.76 50.63 50.75 50.63 50.75 50.63 50.74 50.64 50.73 50.64 50.72 50.64 50.72 50.64 50.71 50.65 50.7 50.65 50.7 50.65 50.69 50.65 50.68 50.66 50.68 50.66 50.67 50.66 50.66 50.66 50.66 50.67 50.65 50.67 50.64 50.67 50.63 50.68 50.63 50.68 50.62 50.68 50.61 50.68 50.61 50.69 50.6 50.69 50.59 50.69 50.58 50.69 50.58 50.7 50.57 50.7 50.56 50.7 50.56 50.7 50.55 50.71 50.54 50.71 50.53 50.71 50.53 50.72 50.52 50.72 50.51 50.72 50.5 50.72 50.5 50.73 50.49 50.73 50.48 50.73 50.47 50.73 50.47 50.74 50.46 50.74 50.45 50.74 50.44 50.75 50.43 50.75 50.43 50.75 50.42 50.75 50.41 50.76 50.4 50.76 50.4 50.76 50.39 50.77 50.38 50.77 50.37 50.77 50.36 50.77 50.36 50.78 50.35 50.78 50.34 50.78 50.33 50.79 50.32 50.79 50.32 50.79 50.31 50.8 50.3 50.8 50.29 50.8 50.28 50.8 50.28 50.81 50.27 50.81 50.26 50.81 50.25 50.82 50.24 50.82 50.23 50.82 50.23 50.83 50.22 50.83 50.21 50.83 50.2 50.84 50.19 50.84 50.18 50.84 50.17 50.85 50.17 50.85 50.16 50.85 50.15 50.85 50.14 50.86 50.13 50.86 50.12 50.86 50.11 50.87 50.11 50.87 50.1 50.87 50.09 50.88 50.08 50.88 50.07 50.88 50.06 50.89 50.05 50.89 50.04 50.89 50.03 50.9 50.02 50.9 50.02 50.9 50.01 50.91 50 50.91 49.99 50.91 49.98 50.92 49.97 50.92 49.96 50.93 49.95 50.93 49.94 50.93 49.93 50.94 49.92 50.94 49.91 50.94 49.9 50.95 49.89 50.95 49.89 50.95 49.88 50.96 49.87 50.96 49.86 50.96 49.85 50.97 49.84 50.97 49.83 50.97 49.82 50.98 49.81 50.98 49.8 50.99 49.79 50.99 49.78 50.99 49.77 51 49.76 51 49.75 51 49.74 51.01 49.73 51.01 49.72 51.02 49.71 51.02 49.7 51.02 49.69 51.03 49.68 51.03 49.67 51.04 49.66 51.04 49.65 51.04 49.64 51.05 49.63 51.05 49.61 51.05 49.6 51.06 49.59 51.06 49.58 51.07 49.57 51.07 49.56 51.07 49.55 51.08 49.54 51.08 49.53 51.09 49.52 51.09 49.51 51.09 49.5 51.1 49.49 51.1 49.47 51.11 49.46 51.11 49.45 51.12 49.44 51.12 49.43 51.12 49.42 51.13 49.41 51.13 49.4 51.14 49.38 51.14 49.37 51.15 49.36 51.15 49.35 51.15 49.34 51.16 49.33 51.16 49.32 51.17 49.3 51.17 49.29 51.18 49.28 51.18 49.27 51.18 49.26 51.19 49.25 51.19 49.23 51.2 49.22 51.2 49.21 51.21 49.2 51.21 49.18 51.22 49.17 51.22 49.16 51.23 49.15 51.23 49.14 51.24 49.12 51.24 49.11 51.24 49.1 51.25 49.09 51.25 49.07 51.26 49.06 51.26 49.05 51.27 49.04 51.27 49.02 51.28 49.01 51.28 49 51.29 48.98 51.29 48.97 51.3 48.96 51.3 48.95 51.31 48.93 51.31 48.92 51.32 48.91 51.32 48.89 51.33 48.88 51.33 48.87 51.34 48.85 51.34 48.84 51.35 48.83 51.35 48.81 51.36 48.8 51.36 48.78 51.37 48.77 51.37 48.76 51.38 48.74 51.38 48.73 51.39 48.72 51.4 48.7 51.4 48.69 51.41 48.67 51.41 48.66 51.42 48.64 51.42 48.63 51.43 48.62 51.43 48.6 51.44 48.59 51.44 48.57 51.45 48.56 51.46 48.54 51.46 48.53 51.47 48.51 51.47 48.5 51.48 48.48 51.48 48.47 51.49 48.45 51.5 48.44 51.5 48.42 51.51 48.41 51.51 48.39 51.52 48.38 51.52 48.36 51.53 48.35 51.54 48.33 51.54 48.31 51.55 48.3 51.55 48.28 51.56 48.27 51.57 48.25 51.57 48.23 51.58 48.22 51.59 48.2 51.59 48.19 51.6 48.17 51.6 48.15 51.61 48.14 51.62 48.12 51.62 48.1 51.63 48.09 51.64 48.07 51.64 48.05 51.65 48.04 51.66 48.02 51.66 48 51.67 47.99 51.68 47.97 51.68 47.95 51.69 47.93 51.7 47.92 51.7 47.9 51.71 47.88 51.72 47.86 51.72 47.85 51.73 47.83 51.74 47.81 51.74 47.79 51.75 47.77 51.76 47.76 51.76 47.74 51.77 47.72 51.78 47.7 51.79 47.68 51.79 47.66 51.8 47.64 51.81 47.63 51.81 47.61 51.82 47.59 51.83 47.57 51.84 47.55 51.84 47.53 51.85 47.51 51.86 47.49 51.87 47.47 51.87 47.45 51.88 47.43 51.89 47.41 51.9 47.39 51.91 47.37 51.91 47.35 51.92 47.33 51.93 47.31 51.94 47.29 51.94 47.27 51.95 47.25 51.96 47.23 51.97 47.21 51.98 47.19 51.99 47.17 51.99 47.15 52 47.13 52.01 47.11 52.02 47.08 52.03 47.06 52.04 47.04 52.04 47.02 52.05 47 52.06 46.98 52.07 46.95 52.08 46.93 52.09 46.91 52.1 46.89 52.1 46.87 52.11 46.84 52.12 46.82 52.13 46.8 52.14 46.77 52.15 46.75 52.16 46.73 52.17 46.71 52.18 46.68 52.19 46.66 52.2 46.63 52.2 46.61 52.21 46.59 52.22 46.56 52.23 46.54 52.24 46.51 52.25 46.49 52.26 46.47 52.27 46.44 52.28 46.42 52.29 46.39 52.3 46.37 52.31 46.34 52.32 46.32 52.33 46.29 52.34 46.27 52.35 46.24 52.36 46.21 52.37 46.19 52.38 46.16 52.39 46.14 52.4 46.11 52.41 46.08 52.42 46.06 52.44 46.03 52.45 46 52.46 45.98 52.47 45.95 52.48 45.92 52.49 45.89 52.5 45.87 52.51 45.84 52.52 45.81 52.53 45.78 52.55 45.76 52.56 45.73 52.57 45.7 52.58 45.67 52.59 45.64 52.6 45.61 52.61 45.58 52.63 45.55 52.64 45.52 52.65 45.49 52.66 45.46 52.67 45.43 52.69 45.4 52.7 45.37 52.71 45.34 52.72 45.31 52.74 45.28 52.75 45.25 52.76 45.22 52.77 45.19 52.79 45.16 52.8 45.13 52.81 45.09 52.83 45.06 52.84 45.03 52.85 45 52.87 44.96 52.88 44.93 52.89 44.9 52.91 44.86 52.92 44.83 52.93 44.8 52.95 44.76 52.96 44.73 52.97 44.7 52.99 44.66 53 44.63 53.02 44.59 53.03 44.56 53.05 44.52 53.06 44.49 53.08 44.45 53.09 44.41 53.1 44.38 53.12 44.34 53.13 44.31 53.15 44.27 53.17 44.23 53.18 44.19 53.2 44.16 53.21 44.12 53.23 44.08 53.24 44.04 53.26 44.01 53.27 43.97 53.29 43.93 53.31 43.89 53.32 43.85 53.34 43.81 53.36 43.77 53.37 43.73 53.39 43.69 53.41 43.65 53.42 43.61 53.44 43.57 53.46 43.53 53.48 43.49 53.49 43.44 53.51 43.4 53.53 43.36 53.55 43.32 53.57 43.27 53.58 43.23 53.6 43.19 53.62 43.14 53.64 43.1 53.66 43.05 53.68 43.01 53.7 42.97 53.71 42.92 53.73 42.87 53.75 42.83 53.77 42.78 53.79 42.74 53.81 42.69 53.83 42.64 53.85 42.6 53.87 42.55 53.89 42.5 53.91 42.45 53.93 42.4 53.96 42.36 53.98 42.31 54 42.26 54.02 42.21 54.04 42.16 54.06 42.11 54.08 42.06 54.11 42 54.13 41.95 54.15 41.9 54.17 41.85 54.2 41.8 54.22 41.74 54.24 41.69 54.27 41.64 54.29 41.58 54.31 41.53 54.34 41.47 54.36 41.42 54.39 41.36 54.41 41.31 54.44 41.25 54.46 41.19 54.49 41.14 54.51 41.08 54.54 41.02 54.56 40.96 54.59 40.9 54.62 40.84 54.64 40.78 54.67 40.72 54.7 40.66 54.72 40.6 54.75 40.54 54.78 40.48 54.81 40.42 54.83 40.35 54.86 40.29 54.89 40.23 54.92 40.16 54.95 40.1 54.98 40.03 55.01 39.97 55.04 39.9 55.07 39.84 55.1 39.77 55.13 39.7 55.16 39.63 55.19 39.57 55.22 39.5 55.25 39.43 55.29 39.36 55.32 39.29 55.35 39.22 55.38 39.14 55.42 39.07 55.45 39 55.48 38.93 55.52 38.85 55.55 38.78 55.59 38.7 55.62 38.63 55.66 38.55 55.69 38.48 55.73 38.4 55.77 38.32 55.8 38.24 55.84 38.16 55.88 38.08 55.92 38 55.95 37.92 55.99 37.84 56.03 37.76 56.07 37.68 56.11 37.59 56.15 37.51 56.19 37.43 56.23 37.34 56.27 37.25 56.32 37.17 56.36 37.08 56.4 36.99 56.44 36.9 56.49 36.82 56.53 36.73 56.58 36.63 56.62 36.54 56.67 36.45 56.71 36.36 56.76 36.26 56.81 36.17 56.85 36.07 56.9 35.98 56.95 35.88 57 35.78 57.05 35.69 57.1 35.59 57.15 35.49 57.2 35.39 57.25 35.29 57.3 35.18 57.35 35.08 57.41 34.98 57.46 34.87 57.52 34.77 57.57 34.66 57.63 34.55 57.68 34.44 57.74 34.33 57.8 34.22 57.85 34.11 57.91 34 57.97 33.89 58.03 33.78 58.09 33.66 58.16 33.55 58.22 33.43 58.28 33.31 58.34 33.19 58.41 33.08 58.47 32.96 58.54 32.83 58.61 32.71 58.67 32.59 58.74 32.46 58.81 32.34 58.88 32.21 58.95 32.09 59.02 31.96 59.1 31.83 59.17 31.7 59.24 31.57 59.32 31.44 59.39 31.3 59.47 31.17 59.55 31.03 59.63 30.9 59.71 30.76 59.79 30.62 59.87 30.48 59.95 30.34 60.04 30.2 60.12 30.05 60.21 29.91 60.3 29.76 60.38 29.62 60.47 29.47 60.56 29.32 60.66 29.17 60.75 29.02 60.84 28.87 60.94 28.72 61.04 28.56 61.13 28.41 61.23 28.25 61.33 28.09 61.44 27.93 61.54 27.77 61.64 27.61 61.75 27.45 61.86 27.28 61.97 27.12 62.08 26.95 62.19 26.79 62.3 26.62 62.42 26.45 62.53 26.28 62.65 26.11 62.77 25.94 62.89 25.76 63.02 25.59 63.14 25.41 63.27 25.23 63.4 25.06 63.53 24.88 63.66 24.7 63.8 24.52 63.93 24.34 64.07 24.15 64.21 23.97 64.35 23.78 64.5 23.6 64.64 23.41 65.91 21.87 66.06 21.69 66.21 21.51 66.36 21.33 66.52 21.16 66.68 20.98 66.84 20.8 67 20.62 67.16 20.44 67.33 20.26 67.5 20.08 67.67 19.9 67.85 19.72 68.02 19.55 68.2 19.37 68.38 19.19 68.56 19.01 68.75 18.84 68.94 18.66 69.13 18.48 69.32 18.31 69.52 18.14 69.72 17.96 69.92 17.79 70.13 17.62 70.34 17.45 70.55 17.28 70.76 17.12 70.98 16.95 71.2 16.79 71.42 16.63 71.65 16.47 71.88 16.31 72.11 16.16 72.35 16.01 72.59 15.86 72.84 15.72 73.08 15.57 73.34 15.44 73.59 15.3 73.85 15.17 74.11 15.05 74.38 14.93 74.65 14.81 74.93 14.7 75.21 14.59 75.49 14.5 75.78 14.4 76.07 14.31 76.37 14.23 76.67 14.16 76.97 14.1 77.28 14.04 77.6 13.99 77.91 13.95 78.24 13.92 78.57 13.9 78.9 13.89 79.23 13.89 79.57 13.9 79.92 13.92 80.27 13.95 80.62 14 80.98 14.06 81.34 14.13 81.7 14.22 82.07 14.32 82.44 14.44 82.82 14.58 83.19 14.73 83.57 14.89 83.95 15.08 84.33 15.28 84.71 15.49 85.09 15.72 85.47 15.97 85.85 16.23 86.22 16.5\");\n",
        "            }(g.append(\"g\")));\n",
        "          }(g.append(\"g\")));\n",
        "          (function (g) {\n",
        "            g.attr(\"fill\", \"none\")\n",
        "             .attr(\"stroke-width\", 0.3);\n",
        "            (function (g) {\n",
        "              g.attr(\"stroke\", \"#FF0000\")\n",
        "               .attr(\"class\", \"geometry\");\n",
        "              g.append(\"svg:path\")\n",
        "                 .attr(\"d\", \"M54.72,40.59 L 54.74 40.55 54.76 40.51 54.77 40.47 54.79 40.42 54.81 40.38 54.83 40.34 54.85 40.29 54.87 40.25 54.89 40.21 54.91 40.16 54.93 40.12 54.95 40.08 54.97 40.03 54.99 39.99 55.01 39.94 55.03 39.89 55.05 39.85 55.07 39.8 55.09 39.76 55.12 39.71 55.14 39.66 55.16 39.61 55.18 39.57 55.2 39.52 55.23 39.47 55.25 39.42 55.27 39.37 55.29 39.32 55.32 39.27 55.34 39.22 55.36 39.17 55.39 39.12 55.41 39.07 55.43 39.02 55.46 38.97 55.48 38.91 55.51 38.86 55.53 38.81 55.56 38.75 55.58 38.7 55.61 38.65 55.63 38.59 55.66 38.54 55.68 38.48 55.71 38.43 55.74 38.37 55.76 38.31 55.79 38.26 55.82 38.2 55.84 38.14 55.87 38.08 55.9 38.03 55.93 37.97 55.96 37.91 55.98 37.85 56.01 37.79 56.04 37.73 56.07 37.67 56.1 37.6 56.13 37.54 56.16 37.48 56.19 37.42 56.22 37.35 56.25 37.29 56.28 37.22 56.32 37.16 56.35 37.09 56.38 37.03 56.41 36.96 56.44 36.9 56.48 36.83 56.51 36.76 56.54 36.69 56.58 36.62 56.61 36.55 56.65 36.48 56.68 36.41 56.72 36.34 56.75 36.27 56.79 36.2 56.82 36.13 56.86 36.05 56.9 35.98 56.93 35.91 56.97 35.83 57.01 35.76 57.05 35.68 57.09 35.6 57.13 35.53 57.17 35.45 57.21 35.37 57.25 35.29 57.29 35.21 57.33 35.13 57.37 35.05 57.41 34.97 57.45 34.89 57.5 34.81 57.54 34.72 57.58 34.64 57.63 34.55 57.67 34.47 57.72 34.38 57.76 34.3 57.81 34.21 57.85 34.12 57.9 34.03 57.95 33.94 57.99 33.85 58.04 33.76 58.09 33.67 58.14 33.58 58.19 33.49 58.24 33.39 58.29 33.3 58.34 33.2 58.4 33.11 58.45 33.01 58.5 32.91 58.55 32.81 58.61 32.71 58.66 32.61 58.72 32.51 58.78 32.41 58.83 32.31 58.89 32.21 58.95 32.1 59.01 32 59.07 31.89 59.13 31.79 59.19 31.68 59.25 31.57 59.31 31.46 59.37 31.35 59.44 31.24 59.5 31.13 59.57 31.02 59.63 30.9 59.7 30.79 59.77 30.67 59.83 30.56 59.9 30.44 59.97 30.32 60.04 30.2 60.11 30.08 60.19 29.96 60.26 29.84 60.33 29.72 60.41 29.59 60.48 29.47 60.56 29.34 60.64 29.21 60.72 29.09 60.8 28.96 60.88 28.83 60.96 28.7 61.04 28.56 61.12 28.43 61.21 28.3 61.29 28.16 61.38 28.03 61.47 27.89 61.56 27.75 61.65 27.61 61.74 27.47 61.83 27.33 61.93 27.19 62.02 27.05 62.12 26.9 62.21 26.76 62.31 26.61 62.41 26.46 62.51 26.31 62.62 26.16 62.72 26.01 62.83 25.86 62.93 25.71 63.04 25.56 63.15 25.4 63.26 25.25 63.37 25.09 63.49 24.93 63.6 24.77 63.72 24.61 63.84 24.45 63.96 24.29 64.08 24.13 64.21 23.96 64.33 23.8 64.46 23.64 64.59 23.47 64.72 23.3 64.85 23.13 64.99 22.97 65.12 22.8 65.26 22.63 65.4 22.45 65.54 22.28 65.69 22.11 65.83 21.94 65.98 21.76 66.13 21.59 66.28 21.41 66.44 21.24 66.6 21.06 66.76 20.89 66.92 20.71 67.08 20.53 67.25 20.36 67.42 20.18 67.59 20 67.76 19.82 67.94 19.65 68.12 19.47 68.3 19.29 68.48 19.11 68.67 18.94 68.86 18.76 69.05 18.59 69.24 18.41 69.44 18.24 69.64 18.06 69.85 17.89 70.05 17.72 70.26 17.55 70.47 17.38 70.69 17.21 70.91 17.05 71.13 16.88 71.36 16.72 71.58 16.56 71.82 16.4 72.05 16.25 72.29 16.09 72.53 15.94 72.78 15.8 73.03 15.65 73.28 15.51 73.53 15.38 73.79 15.24 74.06 15.11 74.32 14.99 74.6 14.87 74.87 14.76 75.15 14.65 75.43 14.55 75.72 14.45 76.01 14.36 76.3 14.28 76.6 14.2 76.9 14.13 77.2 14.07 77.51 14.02 77.82 13.97 78.14 13.94 78.46 13.91 78.79 13.89 79.12 13.89 79.45 13.89 79.79 13.91 80.13 13.94 80.47 13.98 80.82 14.03 81.17 14.1 81.53 14.18 81.89 14.27 82.25 14.38 82.62 14.5 82.99 14.64 83.37 14.8 83.74 14.97 84.13 15.16 84.51 15.37 84.9 15.6 85.3 15.85 85.69 16.11 86.09 16.4 86.49 16.7 86.9 17.03 87.31 17.38 87.72 17.75 88.14 18.14 88.56 18.55 88.98 18.99 89.41 19.45 89.84 19.93 90.27 20.43 90.7 20.96 91.14 21.51 91.58 22.09 92.03 22.69 92.47 23.31 92.92 23.95 93.38 24.62 93.83 25.31 94.29 26.02 94.75 26.75 95.22 27.5 95.68 28.27 96.15 29.06 96.62 29.86 97.1 30.68 97.57 31.51 98.05 32.36 98.53 33.22 99 34.08 99.48 34.95 99.96 35.82 100.43 36.69 100.89 37.56 101.35 38.42 101.8 39.26 102.24 40.09 102.67 40.89 103.07 41.65 103.46 42.37 103.81 43.04 104.13 43.65 104.41 44.18 104.64 44.61 104.82 44.95 104.95 45.19 105.03 45.34 105.07 45.41 105.08 45.45 105.09 45.46 105.09 45.46 105.09 45.46 105.09 45.46 105.09 45.46 105.09 45.46 105.09 45.46\");\n",
        "            }(g.append(\"g\")));\n",
        "          }(g.append(\"g\")));\n",
        "        }(g.append(\"g\")));\n",
        "      }(g.append(\"g\")));\n",
        "      (function (g) {\n",
        "        d3.select(\"defs\")\n",
        "  .append(\"svg:clipPath\")\n",
        "    .attr(\"id\", parent_id + \"_clippath2\")\n",
        "    .append(\"svg:path\")\n",
        "      .attr(\"d\", \" M20.91,5 L 115 5 115 60.79 20.91 60.79 z\");g.attr(\"clip-path\", \"url(#\" + parent_id + \"_clippath2)\");\n",
        "        (function (g) {\n",
        "          g.attr(\"stroke\", \"none\")\n",
        "           .attr(\"class\", \"guide zoomslider\")\n",
        "           .attr(\"opacity\", 0.00);\n",
        "          (function (g) {\n",
        "            g.attr(\"stroke\", \"#6A6A6A\")\n",
        "             .attr(\"stroke-opacity\", 0.00)\n",
        "             .attr(\"stroke-width\", 0.3)\n",
        "             .attr(\"fill\", \"#EAEAEA\")\n",
        "             .on(\"click\", zoomin_behavior(ctx))\n",
        ".on(\"dblclick\", function() { d3.event.stopPropagation(); })\n",
        ".on(\"mouseover\", zoomslider_button_mouseover(\"#cd5c5c\"))\n",
        ".on(\"mouseout\", zoomslider_button_mouseover(\"#6a6a6a\"))\n",
        ";\n",
        "            g.append(\"svg:path\")\n",
        "               .attr(\"d\", \"M108,8 L 112 8 112 12 108 12 z\");\n",
        "            (function (g) {\n",
        "              g.attr(\"fill\", \"#6A6A6A\")\n",
        "               .attr(\"class\", \"button_logo\");\n",
        "              g.append(\"svg:path\")\n",
        "                 .attr(\"d\", \"M108.8,9.6 L 109.6 9.6 109.6 8.8 110.4 8.8 110.4 9.6 111.2 9.6 111.2 10.4 110.4 10.4 110.4 11.2 109.6 11.2 109.6 10.4 108.8 10.4 z\");\n",
        "            }(g.append(\"g\")));\n",
        "          }(g.append(\"g\")));\n",
        "          (function (g) {\n",
        "            g.attr(\"fill\", \"#EAEAEA\")\n",
        "             .on(\"click\", zoomslider_track_behavior(ctx, 82, 99));\n",
        "            g.append(\"svg:path\")\n",
        "               .attr(\"d\", \"M88.5,8 L 107.5 8 107.5 12 88.5 12 z\");\n",
        "          }(g.append(\"g\")));\n",
        "          (function (g) {\n",
        "            g.attr(\"fill\", \"#6A6A6A\")\n",
        "             .attr(\"class\", \"zoomslider_thumb\")\n",
        "             .call(zoomslider_behavior(ctx, 82, 99))\n",
        ".on(\"mouseover\", zoomslider_thumb_mouseover(\"#cd5c5c\"))\n",
        ".on(\"mouseout\", zoomslider_thumb_mouseover(\"#6a6a6a\"))\n",
        ";\n",
        "            g.append(\"svg:path\")\n",
        "               .attr(\"d\", \"M97,8 L 99 8 99 12 97 12 z\");\n",
        "          }(g.append(\"g\")));\n",
        "          (function (g) {\n",
        "            g.attr(\"stroke\", \"#6A6A6A\")\n",
        "             .attr(\"stroke-opacity\", 0.00)\n",
        "             .attr(\"stroke-width\", 0.3)\n",
        "             .attr(\"fill\", \"#EAEAEA\")\n",
        "             .on(\"click\", zoomout_behavior(ctx))\n",
        ".on(\"dblclick\", function() { d3.event.stopPropagation(); })\n",
        ".on(\"mouseover\", zoomslider_button_mouseover(\"#cd5c5c\"))\n",
        ".on(\"mouseout\", zoomslider_button_mouseover(\"#6a6a6a\"))\n",
        ";\n",
        "            g.append(\"svg:path\")\n",
        "               .attr(\"d\", \"M84,8 L 88 8 88 12 84 12 z\");\n",
        "            (function (g) {\n",
        "              g.attr(\"fill\", \"#6A6A6A\")\n",
        "               .attr(\"class\", \"button_logo\");\n",
        "              g.append(\"svg:path\")\n",
        "                 .attr(\"d\", \"M84.8,9.6 L 87.2 9.6 87.2 10.4 84.8 10.4 z\");\n",
        "            }(g.append(\"g\")));\n",
        "          }(g.append(\"g\")));\n",
        "        }(g.append(\"g\")));\n",
        "      }(g.append(\"g\")));\n",
        "    }(g.append(\"g\")));\n",
        "  }(g.append(\"g\")));\n",
        "}(g.append(\"g\")));\n",
        "    d3.select(parent_id)\n",
        "      .selectAll(\"path\")\n",
        "      .each(function() {\n",
        "          var sw = parseFloat(window.getComputedStyle(this).getPropertyValue(\"stroke-width\"));\n",
        "          d3.select(this)\n",
        "            .attr(\"vector-effect\", \"non-scaling-stroke\")\n",
        "            .style(\"stroke-width\", sw + \"mm\");\n",
        "      });\n",
        "}\n",
        "\n",
        "var data = [\n",
        "  [59.79223106361407,59.79223106361407],\n",
        "  [30.625933092929518,30.625933092929518],\n",
        "  [58.671147669902766,58.671147669902766],\n",
        "  [32.5929682081206,32.5929682081206]];\n",
        "\n",
        "var draw = function(parent_id) {\n",
        "    draw_with_data(data, parent_id);\n",
        "};\n",
        "\n",
        "if ('undefined' !== typeof module) {\n",
        "    module.exports = draw;\n",
        "} else if ('undefined' !== typeof window) {\n",
        "    window.draw = draw\n",
        "}\n",
        "\n",
        "return module;\n",
        "})({}).exports(\"#gadflyplot-QYnwtiU6WFvyGiim9VkL\");\n",
        "//@ sourceURL=gadflyplot-QYnwtiU6WFvyGiim9VkL.js\n",
        "</script>\n"
       ],
       "metadata": {},
       "output_type": "pyout",
       "png": "[encoded data removed]",
       "prompt_number": 13,
       "svg": [
        "<?xml version=\"1.0\" encoding=\"UTF-8\"?>\n",
        "<svg xmlns=\"http://www.w3.org/2000/svg\" xmlns:xlink=\"http://www.w3.org/1999/xlink\" version=\"1.1\" width=\"120mm\" height=\"80mm\" viewBox=\"0 0 120 80\" style=\"stroke:black;fill:black\" stroke-width=\"0.5\">\n",
        "<g font-family=\"Helvetic,Arial,sans\" stroke-width=\"0.3\" font-size=\"3.88\" stroke=\"none\" fill=\"#000000\">\n",
        "  <g class=\"plotroot xscalable yscalable\">\n",
        "    <g font-family=\"'PT Sans','Helvetica Neue','Helvetica',sans-serif\" font-size=\"3.18\" stroke=\"none\" class=\"guide ylabels\" fill=\"#4C404B\">\n",
        "      <text x=\"19.91\" y=\"17.1\" text-anchor=\"end\" style=\"dominant-baseline:central\">0.40</text>\n",
        "      <text x=\"19.91\" y=\"59.21\" text-anchor=\"end\" style=\"dominant-baseline:central\">0.20</text>\n",
        "      <text x=\"19.91\" y=\"48.68\" text-anchor=\"end\" style=\"dominant-baseline:central\">0.25</text>\n",
        "      <text x=\"19.91\" y=\"6.58\" text-anchor=\"end\" style=\"dominant-baseline:central\">0.45</text>\n",
        "      <text x=\"19.91\" y=\"38.16\" text-anchor=\"end\" style=\"dominant-baseline:central\">0.30</text>\n",
        "      <text x=\"19.91\" y=\"27.63\" text-anchor=\"end\" style=\"dominant-baseline:central\">0.35</text>\n",
        "    </g>\n",
        "    <g font-family=\"'PT Sans','Helvetica Neue','Helvetica',sans-serif\" font-size=\"3.88\" stroke=\"none\" fill=\"#362A35\">\n",
        "      <text x=\"8.26\" y=\"32.89\" text-anchor=\"middle\" style=\"dominant-baseline:central\" transform=\"rotate(-90, 8.26, 32.89)\">y</text>\n",
        "    </g>\n",
        "    <g font-family=\"'PT Sans','Helvetica Neue','Helvetica',sans-serif\" font-size=\"3.18\" stroke=\"none\" class=\"guide xlabels\" fill=\"#4C404B\">\n",
        "      <text x=\"67.95\" y=\"65.48\" text-anchor=\"middle\">0.4</text>\n",
        "      <text x=\"112.34\" y=\"65.48\" text-anchor=\"middle\">0.8</text>\n",
        "      <text x=\"45.76\" y=\"65.48\" text-anchor=\"middle\">0.2</text>\n",
        "      <text x=\"90.15\" y=\"65.48\" text-anchor=\"middle\">0.6</text>\n",
        "      <text x=\"23.57\" y=\"65.48\" text-anchor=\"middle\">0.0</text>\n",
        "    </g>\n",
        "    <g font-family=\"'PT Sans','Helvetica Neue','Helvetica',sans-serif\" font-size=\"3.88\" stroke=\"none\" fill=\"#362A35\">\n",
        "      <text x=\"67.95\" y=\"73\" text-anchor=\"middle\">x</text>\n",
        "    </g>\n",
        "    <g>\n",
        "      <g clip-path=\"url(#clippath1)\">\n",
        "        <g stroke=\"#F1F1F5\" class=\"guide background\" fill=\"#FAFAFA\" opacity=\"1\">\n",
        "          <path d=\"M20.91,5 L 115 5 115 60.79 20.91 60.79 z\" />\n",
        "        </g>\n",
        "        <g stroke-width=\"0.2\" stroke=\"#F0F0F3\" class=\"guide ygridlines xfixed\">\n",
        "          <path d=\"M20.91,69.73 L 115 69.73\" />\n",
        "          <path d=\"M20.91,80.26 L 115 80.26\" />\n",
        "          <path d=\"M20.91,-3.95 L 115 -3.95\" />\n",
        "          <path d=\"M20.91,90.79 L 115 90.79\" />\n",
        "          <path d=\"M20.91,122.36 L 115 122.36\" />\n",
        "          <path d=\"M20.91,-25 L 115 -25\" />\n",
        "          <path d=\"M20.91,48.68 L 115 48.68\" />\n",
        "          <path d=\"M20.91,-46.05 L 115 -46.05\" />\n",
        "          <path d=\"M20.91,27.63 L 115 27.63\" />\n",
        "          <path d=\"M20.91,38.16 L 115 38.16\" />\n",
        "          <path d=\"M20.91,6.58 L 115 6.58\" />\n",
        "          <path d=\"M20.91,101.31 L 115 101.31\" />\n",
        "          <path d=\"M20.91,59.21 L 115 59.21\" />\n",
        "          <path d=\"M20.91,-35.52 L 115 -35.52\" />\n",
        "          <path d=\"M20.91,111.84 L 115 111.84\" />\n",
        "          <path d=\"M20.91,-14.47 L 115 -14.47\" />\n",
        "          <path d=\"M20.91,17.1 L 115 17.1\" />\n",
        "          <path d=\"M20.91,-56.58 L 115 -56.58\" />\n",
        "        </g>\n",
        "        <g stroke-width=\"0.2\" stroke=\"#F0F0F3\" class=\"guide xgridlines yfixed\">\n",
        "          <path d=\"M178.91,5 L 178.91 60.79\" />\n",
        "          <path d=\"M-20.81,5 L -20.81 60.79\" />\n",
        "          <path d=\"M201.1,5 L 201.1 60.79\" />\n",
        "          <path d=\"M-65.2,5 L -65.2 60.79\" />\n",
        "          <path d=\"M-43.01,5 L -43.01 60.79\" />\n",
        "          <path d=\"M45.76,5 L 45.76 60.79\" />\n",
        "          <path d=\"M23.57,5 L 23.57 60.79\" />\n",
        "          <path d=\"M1.38,5 L 1.38 60.79\" />\n",
        "          <path d=\"M90.15,5 L 90.15 60.79\" />\n",
        "          <path d=\"M156.72,5 L 156.72 60.79\" />\n",
        "          <path d=\"M112.34,5 L 112.34 60.79\" />\n",
        "          <path d=\"M-87.39,5 L -87.39 60.79\" />\n",
        "          <path d=\"M67.95,5 L 67.95 60.79\" />\n",
        "          <path d=\"M223.3,5 L 223.3 60.79\" />\n",
        "          <path d=\"M134.53,5 L 134.53 60.79\" />\n",
        "        </g>\n",
        "      </g>\n",
        "      <g clip-path=\"url(#clippath2)\">\n",
        "        <g class=\"plotpanel\">\n",
        "          <g stroke-width=\"0.3\">\n",
        "            <g stroke-width=\"0.3\" stroke=\"#CC0000\" class=\"geometry color_RGB(1.0,0.0,0.0)\" fill=\"#FF0000\">\n",
        "              <circle cx=\"59.79\" cy=\"30.63\" r=\"0.6\" />\n",
        "            </g>\n",
        "            <g stroke-width=\"0.3\" stroke=\"#CC0000\" class=\"geometry color_RGB(1.0,0.0,0.0)\" fill=\"#FF0000\">\n",
        "              <circle cx=\"59.79\" cy=\"30.63\" r=\"0.6\" />\n",
        "            </g>\n",
        "          </g>\n",
        "          <g stroke-width=\"0.3\">\n",
        "            <g stroke-width=\"0.3\" stroke=\"#57005A\" class=\"geometry color_RGB(0.5019607843137255,0.0,0.5019607843137255)\" fill=\"#800080\">\n",
        "              <circle cx=\"58.67\" cy=\"32.59\" r=\"0.6\" />\n",
        "            </g>\n",
        "            <g stroke-width=\"0.3\" stroke=\"#57005A\" class=\"geometry color_RGB(0.5019607843137255,0.0,0.5019607843137255)\" fill=\"#800080\">\n",
        "              <circle cx=\"58.67\" cy=\"32.59\" r=\"0.6\" />\n",
        "            </g>\n",
        "          </g>\n",
        "          <g font-family=\"'PT Sans','Helvetica Neue','Helvetica',sans-serif\" font-size=\"2.82\" stroke=\"none\" fill=\"#4C404B\">\n",
        "            <g class=\"geometry\">\n",
        "              <text x=\"67.14\" y=\"35.74\" text-anchor=\"middle\" style=\"dominant-baseline:central\">\u2609 (approx)</text>\n",
        "            </g>\n",
        "          </g>\n",
        "          <g font-family=\"'PT Sans','Helvetica Neue','Helvetica',sans-serif\" font-size=\"2.82\" stroke=\"none\" fill=\"#4C404B\">\n",
        "            <g class=\"geometry\">\n",
        "              <text x=\"62.43\" y=\"33.77\" text-anchor=\"middle\" style=\"dominant-baseline:central\">\u2609</text>\n",
        "            </g>\n",
        "          </g>\n",
        "          <g stroke-width=\"0.3\" fill=\"none\">\n",
        "            <g stroke=\"#800080\" class=\"geometry\">\n",
        "              <path d=\"M50.48,51.17 L 50.48 51.17 50.48 51.16 50.48 51.16 50.48 51.15 50.49 51.14 50.49 51.14 50.49 51.13 50.49 51.13 50.49 51.12 50.5 51.12 50.5 51.11 50.5 51.11 50.5 51.1 50.5 51.09 50.51 51.09 50.51 51.08 50.51 51.08 50.51 51.07 50.51 51.06 50.52 51.06 50.52 51.05 50.52 51.05 50.52 51.04 50.53 51.04 50.53 51.03 50.53 51.02 50.53 51.02 50.53 51.01 50.54 51.01 50.54 51 50.54 50.99 50.54 50.99 50.55 50.98 50.55 50.98 50.55 50.97 50.55 50.96 50.55 50.96 50.56 50.95 50.56 50.95 50.56 50.94 50.56 50.93 50.57 50.93 50.57 50.92 50.57 50.91 50.57 50.91 50.57 50.9 50.58 50.9 50.58 50.89 50.58 50.88 50.58 50.88 50.59 50.87 50.59 50.86 50.59 50.86 50.59 50.85 50.6 50.84 50.6 50.84 50.6 50.83 50.6 50.82 50.6 50.82 50.61 50.81 50.61 50.81 50.61 50.8 50.61 50.79 50.62 50.79 50.62 50.78 50.62 50.77 50.62 50.77 50.63 50.76 50.63 50.75 50.63 50.75 50.63 50.74 50.64 50.73 50.64 50.72 50.64 50.72 50.64 50.71 50.65 50.7 50.65 50.7 50.65 50.69 50.65 50.68 50.66 50.68 50.66 50.67 50.66 50.66 50.66 50.66 50.67 50.65 50.67 50.64 50.67 50.63 50.68 50.63 50.68 50.62 50.68 50.61 50.68 50.61 50.69 50.6 50.69 50.59 50.69 50.58 50.69 50.58 50.7 50.57 50.7 50.56 50.7 50.56 50.7 50.55 50.71 50.54 50.71 50.53 50.71 50.53 50.72 50.52 50.72 50.51 50.72 50.5 50.72 50.5 50.73 50.49 50.73 50.48 50.73 50.47 50.73 50.47 50.74 50.46 50.74 50.45 50.74 50.44 50.75 50.43 50.75 50.43 50.75 50.42 50.75 50.41 50.76 50.4 50.76 50.4 50.76 50.39 50.77 50.38 50.77 50.37 50.77 50.36 50.77 50.36 50.78 50.35 50.78 50.34 50.78 50.33 50.79 50.32 50.79 50.32 50.79 50.31 50.8 50.3 50.8 50.29 50.8 50.28 50.8 50.28 50.81 50.27 50.81 50.26 50.81 50.25 50.82 50.24 50.82 50.23 50.82 50.23 50.83 50.22 50.83 50.21 50.83 50.2 50.84 50.19 50.84 50.18 50.84 50.17 50.85 50.17 50.85 50.16 50.85 50.15 50.85 50.14 50.86 50.13 50.86 50.12 50.86 50.11 50.87 50.11 50.87 50.1 50.87 50.09 50.88 50.08 50.88 50.07 50.88 50.06 50.89 50.05 50.89 50.04 50.89 50.03 50.9 50.02 50.9 50.02 50.9 50.01 50.91 50 50.91 49.99 50.91 49.98 50.92 49.97 50.92 49.96 50.93 49.95 50.93 49.94 50.93 49.93 50.94 49.92 50.94 49.91 50.94 49.9 50.95 49.89 50.95 49.89 50.95 49.88 50.96 49.87 50.96 49.86 50.96 49.85 50.97 49.84 50.97 49.83 50.97 49.82 50.98 49.81 50.98 49.8 50.99 49.79 50.99 49.78 50.99 49.77 51 49.76 51 49.75 51 49.74 51.01 49.73 51.01 49.72 51.02 49.71 51.02 49.7 51.02 49.69 51.03 49.68 51.03 49.67 51.04 49.66 51.04 49.65 51.04 49.64 51.05 49.63 51.05 49.61 51.05 49.6 51.06 49.59 51.06 49.58 51.07 49.57 51.07 49.56 51.07 49.55 51.08 49.54 51.08 49.53 51.09 49.52 51.09 49.51 51.09 49.5 51.1 49.49 51.1 49.47 51.11 49.46 51.11 49.45 51.12 49.44 51.12 49.43 51.12 49.42 51.13 49.41 51.13 49.4 51.14 49.38 51.14 49.37 51.15 49.36 51.15 49.35 51.15 49.34 51.16 49.33 51.16 49.32 51.17 49.3 51.17 49.29 51.18 49.28 51.18 49.27 51.18 49.26 51.19 49.25 51.19 49.23 51.2 49.22 51.2 49.21 51.21 49.2 51.21 49.18 51.22 49.17 51.22 49.16 51.23 49.15 51.23 49.14 51.24 49.12 51.24 49.11 51.24 49.1 51.25 49.09 51.25 49.07 51.26 49.06 51.26 49.05 51.27 49.04 51.27 49.02 51.28 49.01 51.28 49 51.29 48.98 51.29 48.97 51.3 48.96 51.3 48.95 51.31 48.93 51.31 48.92 51.32 48.91 51.32 48.89 51.33 48.88 51.33 48.87 51.34 48.85 51.34 48.84 51.35 48.83 51.35 48.81 51.36 48.8 51.36 48.78 51.37 48.77 51.37 48.76 51.38 48.74 51.38 48.73 51.39 48.72 51.4 48.7 51.4 48.69 51.41 48.67 51.41 48.66 51.42 48.64 51.42 48.63 51.43 48.62 51.43 48.6 51.44 48.59 51.44 48.57 51.45 48.56 51.46 48.54 51.46 48.53 51.47 48.51 51.47 48.5 51.48 48.48 51.48 48.47 51.49 48.45 51.5 48.44 51.5 48.42 51.51 48.41 51.51 48.39 51.52 48.38 51.52 48.36 51.53 48.35 51.54 48.33 51.54 48.31 51.55 48.3 51.55 48.28 51.56 48.27 51.57 48.25 51.57 48.23 51.58 48.22 51.59 48.2 51.59 48.19 51.6 48.17 51.6 48.15 51.61 48.14 51.62 48.12 51.62 48.1 51.63 48.09 51.64 48.07 51.64 48.05 51.65 48.04 51.66 48.02 51.66 48 51.67 47.99 51.68 47.97 51.68 47.95 51.69 47.93 51.7 47.92 51.7 47.9 51.71 47.88 51.72 47.86 51.72 47.85 51.73 47.83 51.74 47.81 51.74 47.79 51.75 47.77 51.76 47.76 51.76 47.74 51.77 47.72 51.78 47.7 51.79 47.68 51.79 47.66 51.8 47.64 51.81 47.63 51.81 47.61 51.82 47.59 51.83 47.57 51.84 47.55 51.84 47.53 51.85 47.51 51.86 47.49 51.87 47.47 51.87 47.45 51.88 47.43 51.89 47.41 51.9 47.39 51.91 47.37 51.91 47.35 51.92 47.33 51.93 47.31 51.94 47.29 51.94 47.27 51.95 47.25 51.96 47.23 51.97 47.21 51.98 47.19 51.99 47.17 51.99 47.15 52 47.13 52.01 47.11 52.02 47.08 52.03 47.06 52.04 47.04 52.04 47.02 52.05 47 52.06 46.98 52.07 46.95 52.08 46.93 52.09 46.91 52.1 46.89 52.1 46.87 52.11 46.84 52.12 46.82 52.13 46.8 52.14 46.77 52.15 46.75 52.16 46.73 52.17 46.71 52.18 46.68 52.19 46.66 52.2 46.63 52.2 46.61 52.21 46.59 52.22 46.56 52.23 46.54 52.24 46.51 52.25 46.49 52.26 46.47 52.27 46.44 52.28 46.42 52.29 46.39 52.3 46.37 52.31 46.34 52.32 46.32 52.33 46.29 52.34 46.27 52.35 46.24 52.36 46.21 52.37 46.19 52.38 46.16 52.39 46.14 52.4 46.11 52.41 46.08 52.42 46.06 52.44 46.03 52.45 46 52.46 45.98 52.47 45.95 52.48 45.92 52.49 45.89 52.5 45.87 52.51 45.84 52.52 45.81 52.53 45.78 52.55 45.76 52.56 45.73 52.57 45.7 52.58 45.67 52.59 45.64 52.6 45.61 52.61 45.58 52.63 45.55 52.64 45.52 52.65 45.49 52.66 45.46 52.67 45.43 52.69 45.4 52.7 45.37 52.71 45.34 52.72 45.31 52.74 45.28 52.75 45.25 52.76 45.22 52.77 45.19 52.79 45.16 52.8 45.13 52.81 45.09 52.83 45.06 52.84 45.03 52.85 45 52.87 44.96 52.88 44.93 52.89 44.9 52.91 44.86 52.92 44.83 52.93 44.8 52.95 44.76 52.96 44.73 52.97 44.7 52.99 44.66 53 44.63 53.02 44.59 53.03 44.56 53.05 44.52 53.06 44.49 53.08 44.45 53.09 44.41 53.1 44.38 53.12 44.34 53.13 44.31 53.15 44.27 53.17 44.23 53.18 44.19 53.2 44.16 53.21 44.12 53.23 44.08 53.24 44.04 53.26 44.01 53.27 43.97 53.29 43.93 53.31 43.89 53.32 43.85 53.34 43.81 53.36 43.77 53.37 43.73 53.39 43.69 53.41 43.65 53.42 43.61 53.44 43.57 53.46 43.53 53.48 43.49 53.49 43.44 53.51 43.4 53.53 43.36 53.55 43.32 53.57 43.27 53.58 43.23 53.6 43.19 53.62 43.14 53.64 43.1 53.66 43.05 53.68 43.01 53.7 42.97 53.71 42.92 53.73 42.87 53.75 42.83 53.77 42.78 53.79 42.74 53.81 42.69 53.83 42.64 53.85 42.6 53.87 42.55 53.89 42.5 53.91 42.45 53.93 42.4 53.96 42.36 53.98 42.31 54 42.26 54.02 42.21 54.04 42.16 54.06 42.11 54.08 42.06 54.11 42 54.13 41.95 54.15 41.9 54.17 41.85 54.2 41.8 54.22 41.74 54.24 41.69 54.27 41.64 54.29 41.58 54.31 41.53 54.34 41.47 54.36 41.42 54.39 41.36 54.41 41.31 54.44 41.25 54.46 41.19 54.49 41.14 54.51 41.08 54.54 41.02 54.56 40.96 54.59 40.9 54.62 40.84 54.64 40.78 54.67 40.72 54.7 40.66 54.72 40.6 54.75 40.54 54.78 40.48 54.81 40.42 54.83 40.35 54.86 40.29 54.89 40.23 54.92 40.16 54.95 40.1 54.98 40.03 55.01 39.97 55.04 39.9 55.07 39.84 55.1 39.77 55.13 39.7 55.16 39.63 55.19 39.57 55.22 39.5 55.25 39.43 55.29 39.36 55.32 39.29 55.35 39.22 55.38 39.14 55.42 39.07 55.45 39 55.48 38.93 55.52 38.85 55.55 38.78 55.59 38.7 55.62 38.63 55.66 38.55 55.69 38.48 55.73 38.4 55.77 38.32 55.8 38.24 55.84 38.16 55.88 38.08 55.92 38 55.95 37.92 55.99 37.84 56.03 37.76 56.07 37.68 56.11 37.59 56.15 37.51 56.19 37.43 56.23 37.34 56.27 37.25 56.32 37.17 56.36 37.08 56.4 36.99 56.44 36.9 56.49 36.82 56.53 36.73 56.58 36.63 56.62 36.54 56.67 36.45 56.71 36.36 56.76 36.26 56.81 36.17 56.85 36.07 56.9 35.98 56.95 35.88 57 35.78 57.05 35.69 57.1 35.59 57.15 35.49 57.2 35.39 57.25 35.29 57.3 35.18 57.35 35.08 57.41 34.98 57.46 34.87 57.52 34.77 57.57 34.66 57.63 34.55 57.68 34.44 57.74 34.33 57.8 34.22 57.85 34.11 57.91 34 57.97 33.89 58.03 33.78 58.09 33.66 58.16 33.55 58.22 33.43 58.28 33.31 58.34 33.19 58.41 33.08 58.47 32.96 58.54 32.83 58.61 32.71 58.67 32.59 58.74 32.46 58.81 32.34 58.88 32.21 58.95 32.09 59.02 31.96 59.1 31.83 59.17 31.7 59.24 31.57 59.32 31.44 59.39 31.3 59.47 31.17 59.55 31.03 59.63 30.9 59.71 30.76 59.79 30.62 59.87 30.48 59.95 30.34 60.04 30.2 60.12 30.05 60.21 29.91 60.3 29.76 60.38 29.62 60.47 29.47 60.56 29.32 60.66 29.17 60.75 29.02 60.84 28.87 60.94 28.72 61.04 28.56 61.13 28.41 61.23 28.25 61.33 28.09 61.44 27.93 61.54 27.77 61.64 27.61 61.75 27.45 61.86 27.28 61.97 27.12 62.08 26.95 62.19 26.79 62.3 26.62 62.42 26.45 62.53 26.28 62.65 26.11 62.77 25.94 62.89 25.76 63.02 25.59 63.14 25.41 63.27 25.23 63.4 25.06 63.53 24.88 63.66 24.7 63.8 24.52 63.93 24.34 64.07 24.15 64.21 23.97 64.35 23.78 64.5 23.6 64.64 23.41 65.91 21.87 66.06 21.69 66.21 21.51 66.36 21.33 66.52 21.16 66.68 20.98 66.84 20.8 67 20.62 67.16 20.44 67.33 20.26 67.5 20.08 67.67 19.9 67.85 19.72 68.02 19.55 68.2 19.37 68.38 19.19 68.56 19.01 68.75 18.84 68.94 18.66 69.13 18.48 69.32 18.31 69.52 18.14 69.72 17.96 69.92 17.79 70.13 17.62 70.34 17.45 70.55 17.28 70.76 17.12 70.98 16.95 71.2 16.79 71.42 16.63 71.65 16.47 71.88 16.31 72.11 16.16 72.35 16.01 72.59 15.86 72.84 15.72 73.08 15.57 73.34 15.44 73.59 15.3 73.85 15.17 74.11 15.05 74.38 14.93 74.65 14.81 74.93 14.7 75.21 14.59 75.49 14.5 75.78 14.4 76.07 14.31 76.37 14.23 76.67 14.16 76.97 14.1 77.28 14.04 77.6 13.99 77.91 13.95 78.24 13.92 78.57 13.9 78.9 13.89 79.23 13.89 79.57 13.9 79.92 13.92 80.27 13.95 80.62 14 80.98 14.06 81.34 14.13 81.7 14.22 82.07 14.32 82.44 14.44 82.82 14.58 83.19 14.73 83.57 14.89 83.95 15.08 84.33 15.28 84.71 15.49 85.09 15.72 85.47 15.97 85.85 16.23 86.22 16.5\" />\n",
        "            </g>\n",
        "          </g>\n",
        "          <g stroke-width=\"0.3\" fill=\"none\">\n",
        "            <g stroke=\"#FF0000\" class=\"geometry\">\n",
        "              <path d=\"M54.72,40.59 L 54.74 40.55 54.76 40.51 54.77 40.47 54.79 40.42 54.81 40.38 54.83 40.34 54.85 40.29 54.87 40.25 54.89 40.21 54.91 40.16 54.93 40.12 54.95 40.08 54.97 40.03 54.99 39.99 55.01 39.94 55.03 39.89 55.05 39.85 55.07 39.8 55.09 39.76 55.12 39.71 55.14 39.66 55.16 39.61 55.18 39.57 55.2 39.52 55.23 39.47 55.25 39.42 55.27 39.37 55.29 39.32 55.32 39.27 55.34 39.22 55.36 39.17 55.39 39.12 55.41 39.07 55.43 39.02 55.46 38.97 55.48 38.91 55.51 38.86 55.53 38.81 55.56 38.75 55.58 38.7 55.61 38.65 55.63 38.59 55.66 38.54 55.68 38.48 55.71 38.43 55.74 38.37 55.76 38.31 55.79 38.26 55.82 38.2 55.84 38.14 55.87 38.08 55.9 38.03 55.93 37.97 55.96 37.91 55.98 37.85 56.01 37.79 56.04 37.73 56.07 37.67 56.1 37.6 56.13 37.54 56.16 37.48 56.19 37.42 56.22 37.35 56.25 37.29 56.28 37.22 56.32 37.16 56.35 37.09 56.38 37.03 56.41 36.96 56.44 36.9 56.48 36.83 56.51 36.76 56.54 36.69 56.58 36.62 56.61 36.55 56.65 36.48 56.68 36.41 56.72 36.34 56.75 36.27 56.79 36.2 56.82 36.13 56.86 36.05 56.9 35.98 56.93 35.91 56.97 35.83 57.01 35.76 57.05 35.68 57.09 35.6 57.13 35.53 57.17 35.45 57.21 35.37 57.25 35.29 57.29 35.21 57.33 35.13 57.37 35.05 57.41 34.97 57.45 34.89 57.5 34.81 57.54 34.72 57.58 34.64 57.63 34.55 57.67 34.47 57.72 34.38 57.76 34.3 57.81 34.21 57.85 34.12 57.9 34.03 57.95 33.94 57.99 33.85 58.04 33.76 58.09 33.67 58.14 33.58 58.19 33.49 58.24 33.39 58.29 33.3 58.34 33.2 58.4 33.11 58.45 33.01 58.5 32.91 58.55 32.81 58.61 32.71 58.66 32.61 58.72 32.51 58.78 32.41 58.83 32.31 58.89 32.21 58.95 32.1 59.01 32 59.07 31.89 59.13 31.79 59.19 31.68 59.25 31.57 59.31 31.46 59.37 31.35 59.44 31.24 59.5 31.13 59.57 31.02 59.63 30.9 59.7 30.79 59.77 30.67 59.83 30.56 59.9 30.44 59.97 30.32 60.04 30.2 60.11 30.08 60.19 29.96 60.26 29.84 60.33 29.72 60.41 29.59 60.48 29.47 60.56 29.34 60.64 29.21 60.72 29.09 60.8 28.96 60.88 28.83 60.96 28.7 61.04 28.56 61.12 28.43 61.21 28.3 61.29 28.16 61.38 28.03 61.47 27.89 61.56 27.75 61.65 27.61 61.74 27.47 61.83 27.33 61.93 27.19 62.02 27.05 62.12 26.9 62.21 26.76 62.31 26.61 62.41 26.46 62.51 26.31 62.62 26.16 62.72 26.01 62.83 25.86 62.93 25.71 63.04 25.56 63.15 25.4 63.26 25.25 63.37 25.09 63.49 24.93 63.6 24.77 63.72 24.61 63.84 24.45 63.96 24.29 64.08 24.13 64.21 23.96 64.33 23.8 64.46 23.64 64.59 23.47 64.72 23.3 64.85 23.13 64.99 22.97 65.12 22.8 65.26 22.63 65.4 22.45 65.54 22.28 65.69 22.11 65.83 21.94 65.98 21.76 66.13 21.59 66.28 21.41 66.44 21.24 66.6 21.06 66.76 20.89 66.92 20.71 67.08 20.53 67.25 20.36 67.42 20.18 67.59 20 67.76 19.82 67.94 19.65 68.12 19.47 68.3 19.29 68.48 19.11 68.67 18.94 68.86 18.76 69.05 18.59 69.24 18.41 69.44 18.24 69.64 18.06 69.85 17.89 70.05 17.72 70.26 17.55 70.47 17.38 70.69 17.21 70.91 17.05 71.13 16.88 71.36 16.72 71.58 16.56 71.82 16.4 72.05 16.25 72.29 16.09 72.53 15.94 72.78 15.8 73.03 15.65 73.28 15.51 73.53 15.38 73.79 15.24 74.06 15.11 74.32 14.99 74.6 14.87 74.87 14.76 75.15 14.65 75.43 14.55 75.72 14.45 76.01 14.36 76.3 14.28 76.6 14.2 76.9 14.13 77.2 14.07 77.51 14.02 77.82 13.97 78.14 13.94 78.46 13.91 78.79 13.89 79.12 13.89 79.45 13.89 79.79 13.91 80.13 13.94 80.47 13.98 80.82 14.03 81.17 14.1 81.53 14.18 81.89 14.27 82.25 14.38 82.62 14.5 82.99 14.64 83.37 14.8 83.74 14.97 84.13 15.16 84.51 15.37 84.9 15.6 85.3 15.85 85.69 16.11 86.09 16.4 86.49 16.7 86.9 17.03 87.31 17.38 87.72 17.75 88.14 18.14 88.56 18.55 88.98 18.99 89.41 19.45 89.84 19.93 90.27 20.43 90.7 20.96 91.14 21.51 91.58 22.09 92.03 22.69 92.47 23.31 92.92 23.95 93.38 24.62 93.83 25.31 94.29 26.02 94.75 26.75 95.22 27.5 95.68 28.27 96.15 29.06 96.62 29.86 97.1 30.68 97.57 31.51 98.05 32.36 98.53 33.22 99 34.08 99.48 34.95 99.96 35.82 100.43 36.69 100.89 37.56 101.35 38.42 101.8 39.26 102.24 40.09 102.67 40.89 103.07 41.65 103.46 42.37 103.81 43.04 104.13 43.65 104.41 44.18 104.64 44.61 104.82 44.95 104.95 45.19 105.03 45.34 105.07 45.41 105.08 45.45 105.09 45.46 105.09 45.46 105.09 45.46 105.09 45.46 105.09 45.46 105.09 45.46 105.09 45.46\" />\n",
        "            </g>\n",
        "          </g>\n",
        "        </g>\n",
        "      </g>\n",
        "      <g clip-path=\"url(#clippath3)\">\n",
        "      </g>\n",
        "    </g>\n",
        "  </g>\n",
        "</g>\n",
        "<defs>\n",
        "<clipPath id=\"clippath1\">\n",
        "  <path d=\"M20.91,5 L 115 5 115 60.79 20.91 60.79\" />\n",
        "</clipPath\n",
        "><clipPath id=\"clippath2\">\n",
        "  <path d=\"M20.91,5 L 115 5 115 60.79 20.91 60.79\" />\n",
        "</clipPath\n",
        "><clipPath id=\"clippath3\">\n",
        "  <path d=\"M20.91,5 L 115 5 115 60.79 20.91 60.79\" />\n",
        "</clipPath\n",
        "></defs>\n",
        "</svg>\n"
       ],
       "text": [
        "Plot(...)"
       ]
      }
     ],
     "prompt_number": 13
    },
    {
     "cell_type": "markdown",
     "metadata": {},
     "source": [
      "##The chemistry of color\n",
      "\n",
      "With all this machinery in place to process power spectra, we can start to work with some really interesting data from the field of photochemistry. Chemists have measured the spectra of light [absorbed](http://en.wikipedia.org/wiki/Absorption_spectroscopy) and [emitted](http://en.wikipedia.org/wiki/Emission_spectrum) from a large variety of molecules. From this data, it is possible to compute the perceived color of a given molecule.\n",
      "\n",
      "The spectral data come in several formats which require further processing. The light absorption properties of molecules can be reported in terms of [absorbance](http://en.wikipedia.org/wiki/Absorbance), optical density, [optical cross section](http://en.wikipedia.org/wiki/Optical_cross_section), [molar extinction coefficient](http://en.wikipedia.org/wiki/Molar_absorptivity), complex [refractive index](http://en.wikipedia.org/wiki/Complex_index_of_refraction#Complex_index_of_refraction_and_absorption), etc., which are essentially the logarithm of a normalized [transmittance](http://en.wikipedia.org/wiki/Transmittance), the ratio of light intensities going through a sample vs. the intensity going in."
     ]
    },
    {
     "cell_type": "code",
     "collapsed": false,
     "input": [
      "abstract Spectrum{T<:Real}\n",
      "\n",
      "immutable AbsorbanceSpectrum{T<:Real} <: Spectrum{T}\n",
      "    \u03bb :: Vector{T}\n",
      "    \u03f5 :: Vector{T} #Extinction coefficent, absorption cross-section or the like\n",
      "end\n",
      "AbsorbanceSpectrum(\u03bb::Vector, \u03f5::Vector) = AbsorbanceSpectrum(float(\u03bb), float(\u03f5))\n",
      "\n",
      "immutable TransmissionSpectrum{T<:Real} <: Spectrum{T}\n",
      "    \u03bb :: Vector{T}\n",
      "    T :: Vector{T} #Transmission coefficent\n",
      "end\n",
      "\n",
      "import Base.show\n",
      "function show(S::AbsorbanceSpectrum)\n",
      "    plot(Geom.line, Guide.xlabel(\"\u03bb (nm)\"), Guide.ylabel(\"Absorbance\"),\n",
      "      x=S.\u03bb, y=S.\u03f5)\n",
      "end\n",
      "\n",
      "function show(S::TransmissionSpectrum)\n",
      "    plot(Geom.line, Guide.xlabel(\"\u03bb (nm)\"), Guide.ylabel(\"Transmittance\"),\n",
      "      x=S.\u03bb, y=S.T)\n",
      "end\n",
      "\n",
      "function show(Ss::Vector{TransmissionSpectrum})\n",
      "    plot(Guide.xlabel(\"\u03bb (nm)\"), Guide.ylabel(\"Transmittance\"),\n",
      "    [layer(Geom.line, x=S.\u03bb, y=S.T) for S in Ss]...)\n",
      "end"
     ],
     "language": "python",
     "metadata": {},
     "outputs": [
      {
       "metadata": {},
       "output_type": "pyout",
       "prompt_number": 14,
       "text": [
        "show (generic function with 139 methods)"
       ]
      }
     ],
     "prompt_number": 14
    },
    {
     "cell_type": "markdown",
     "metadata": {},
     "source": [
      "We can reconstruct the transmittance spectrum from the corresponding absorbance spectrum using the [Beer-Lambert law](http://en.wikipedia.org/wiki/Beer-Lambert_law):\n",
      "\n",
      "$$T = {10}^{-c l \\epsilon} = e^{-\\sigma l N}$$\n",
      "\n",
      "where $T$ is the transmittance, $\\epsilon$ is the (decadic) molar extinction coefficent, $c$ is the molar concentration of the sample, $l$ is the optical path length, the distance light travels in the sample, $\\sigma$ is the optical cross-section, and $N$ is the number concentration of the sample."
     ]
    },
    {
     "cell_type": "code",
     "collapsed": false,
     "input": [
      "convert(::Type{TransmissionSpectrum}, S::AbsorbanceSpectrum; cl::Real=0.0001) =\n",
      "TransmissionSpectrum(S.\u03bb, exp10(-S.\u03f5*cl)) #Beer-Lambert Law"
     ],
     "language": "python",
     "metadata": {},
     "outputs": [
      {
       "metadata": {},
       "output_type": "pyout",
       "prompt_number": 15,
       "text": [
        "convert (generic function with 639 methods)"
       ]
      }
     ],
     "prompt_number": 15
    },
    {
     "cell_type": "markdown",
     "metadata": {},
     "source": [
      "The transmission spectrum is a function of light intensity over wavelength, and can therefore be projected directly into the XYZ color space as described in the previous section. (In the code snippet below, I've also included some heuristics to cover possible missing data in the transmission spectrum.)"
     ]
    },
    {
     "cell_type": "code",
     "collapsed": false,
     "input": [
      "function convert(::Type{xyY}, S::TransmissionSpectrum)\n",
      "    #Calculate convolution of spectrum with XYZ color transfer functions\n",
      "    color = reduce(+, [0.0; map(abs, diff(S.\u03bb))].*S.T.*map(cie_color_match, S.\u03bb))\n",
      "    #Add in any missing parts of the spectrum (extrapolate spectrum from its endpoints)\n",
      "    if (lolim=floor(minimum(S.\u03bb))) > 380\n",
      "        color += S.T[1]*reduce(+, map(cie_color_match, 380:lolim))\n",
      "    end\n",
      "    if (hilim=ceil(maximum(S.\u03bb))) < 780\n",
      "        color += S.T[end]*reduce(+, map(cie_color_match, hilim:780))\n",
      "    end\n",
      "    convert(xyY, color)\n",
      "end\n",
      "\n",
      "convert(::Type{xyY}, S::AbsorbanceSpectrum) = convert(xyY, convert(TransmissionSpectrum, S))"
     ],
     "language": "python",
     "metadata": {},
     "outputs": [
      {
       "metadata": {},
       "output_type": "pyout",
       "prompt_number": 16,
       "text": [
        "convert (generic function with 641 methods)"
       ]
      }
     ],
     "prompt_number": 16
    },
    {
     "cell_type": "markdown",
     "metadata": {},
     "source": [
      "However, this reconstruction requires information about the concentration and thickness of the sample, which is normalized out in most reported data. What we can do here is to explore how the perceived color depends on the concentration. Here I've chosen to vary the concentration factor $cl=\\sigma N$ by sweeping over the maximal transmittance $T_{max}$ in the visible spectrum:\n",
      "\n",
      "$$cl = - \\frac{log_{10}(T_{max})}{\\epsilon}$$\n",
      "\n",
      "and the computed color can be plotted in the $xy$ chromaticity plane as a function of the concentration factor."
     ]
    },
    {
     "cell_type": "code",
     "collapsed": false,
     "input": [
      "#Compute a series of transmission spectra scaled to a desired maximum transmission\n",
      "function calc_transmission(A::AbsorbanceSpectrum; maxTs=1.0:-0.0025:0.0)\n",
      "    colors = xyY[]\n",
      "    spectra = TransmissionSpectrum[]\n",
      "    for maxT in maxTs\n",
      "        scalefactor = -log10(maxT)/minimum(A.\u03f5[A.\u03f5.>0])\n",
      "        T = convert(TransmissionSpectrum, A, cl=scalefactor)\n",
      "        push!(spectra, T)\n",
      "        push!(colors, convert(xyY, T))\n",
      "    end\n",
      "    colors, spectra\n",
      "end\n",
      "\n",
      "#Plot trajectory in chromaticity plane\n",
      "plot_xy(C::AbstractVector{xyY}) = plot(x=[c.x for c in C],\n",
      "    y=[c.y for c in C], color=[1:length(C)],\n",
      "    Scale.discrete_color_manual(C...),\n",
      "    Geom.point, Theme(key_position=:none))"
     ],
     "language": "python",
     "metadata": {},
     "outputs": [
      {
       "metadata": {},
       "output_type": "pyout",
       "prompt_number": 17,
       "text": [
        "plot_xy (generic function with 1 method)"
       ]
      }
     ],
     "prompt_number": 17
    },
    {
     "cell_type": "markdown",
     "metadata": {},
     "source": [
      "Finally, here are some short routines for parsing spectral data."
     ]
    },
    {
     "cell_type": "code",
     "collapsed": false,
     "input": [
      "function parse_jcampdx(filename)\n",
      "    #This supports only the uncompressed JCAMP-DX file format\n",
      "    #which is essentially CSV with a header\n",
      "    rawspectrum=readcsv(filename, skipstart=20)\n",
      "    #The columns are wavelength (nm) and log10 of molar extinction coefficient (M-1 cm-1)\n",
      "    AbsorbanceSpectrum(rawspectrum[:,1], exp10(rawspectrum[:,2]))\n",
      "end\n",
      "\n",
      "function parse_photochemcad(filename)\n",
      "    rawspectrum=readdlm(filename, '\\t')\n",
      "    rawspectrum=reshape(rawspectrum, (length(rawspectrum)\u00f72,2))\n",
      "\n",
      "    #The columns are wavelength (nm) and molar extinction coefficient (M-1 cm-1)\n",
      "    AbsorbanceSpectrum(rawspectrum[:,1],\n",
      "      max(rawspectrum[:,2], 0.0)) #truncate negative extinctions\n",
      "end"
     ],
     "language": "python",
     "metadata": {},
     "outputs": [
      {
       "metadata": {},
       "output_type": "pyout",
       "prompt_number": 18,
       "text": [
        "parse_photochemcad (generic function with 1 method)"
       ]
      }
     ],
     "prompt_number": 18
    },
    {
     "cell_type": "markdown",
     "metadata": {},
     "source": [
      "We are finally ready to start computing colors of molecules! The examples given below reflect (so to speak) a broad spectrum (ha) of molecular species, whose data are available online in several different formats.\n",
      "\n",
      "I've also included some images of the compounds in question to compare the computed color swatches with pictures of the actual solutions or samples. Again, the color swatches show the entire gamut of colors possible from the given spectra, so each a picture should match a color in the range. (There's also a question about the white balance in each reference picture, which is somewhat of a wildcard.)\n",
      "\n",
      "### Titanium (III) aqua ion"
     ]
    },
    {
     "cell_type": "code",
     "collapsed": false,
     "input": [
      "filename=download(\"http://wwwchem.uwimona.edu.jm/spectra/ti3aq.jdx\")\n",
      "rawspectrum=readdlm(filename, skipstart=30)\n",
      "#The columns are wavelength (nm) and absorbance (arbitrary units)\n",
      "A=AbsorbanceSpectrum(rawspectrum[:,1], rawspectrum[:,2])\n",
      "\n",
      "function showcolors(A::AbsorbanceSpectrum)\n",
      "    colors, Ts=calc_transmission(A)\n",
      "    display(show(A))\n",
      "    display(show(Ts[1:20:end]))\n",
      "    display(plot_xy(colors))\n",
      "    display(ColorVector(colors))\n",
      "end\n",
      "showcolors(A)"
     ],
     "language": "python",
     "metadata": {},
     "outputs": [
      {
       "output_type": "stream",
       "stream": "stderr",
       "text": [
        "  % Total    % Received % Xferd  Average Speed   Time    Time     Time  Current\n",
        "                                 Dl"
       ]
      },
      {
       "output_type": "stream",
       "stream": "stderr",
       "text": [
        "oad  Upload   Total   Spent    Left  Speed\n",
        "\r",
        "  0     0    0     0    0     0      0      0 --:--:-- --:--:-- --:--:--     0"
       ]
      },
      {
       "output_type": "stream",
       "stream": "stderr",
       "text": [
        "\r",
        "  0     0    0     0    0     0      0      0 --:--:-- --:--:-- --:--:--     0"
       ]
      },
      {
       "output_type": "stream",
       "stream": "stderr",
       "text": [
        "\r",
        "  0     0    0     0    0  "
       ]
      },
      {
       "output_type": "stream",
       "stream": "stderr",
       "text": [
        "   0      0      0 --:--:--  0:00:01 --:--:--     0"
       ]
      },
      {
       "output_type": "stream",
       "stream": "stderr",
       "text": [
        "\r",
        "  0     0    0     0    0   "
       ]
      },
      {
       "output_type": "stream",
       "stream": "stderr",
       "text": [
        "  0      0      0 --:--:--  0:00:02 --:--:--     0"
       ]
      },
      {
       "output_type": "stream",
       "stream": "stderr",
       "text": [
        "\r",
        "  0     0    0     0    0    "
       ]
      },
      {
       "output_type": "stream",
       "stream": "stderr",
       "text": [
        " 0      0      0 --:--:--  0:00:03 --:--:--     0"
       ]
      },
      {
       "output_type": "stream",
       "stream": "stderr",
       "text": [
        "\r",
        "  0     0    0     0    0     0"
       ]
      },
      {
       "output_type": "stream",
       "stream": "stderr",
       "text": [
        "      0      0 --:--:--  0:00:04 --:--:--     0"
       ]
      },
      {
       "output_type": "stream",
       "stream": "stderr",
       "text": [
        "\r",
        "  0     0    0     0    0     0      0 "
       ]
      },
      {
       "output_type": "stream",
       "stream": "stderr",
       "text": [
        "     0 --:--:--  0:00:05 --:--:--     0"
       ]
      },
      {
       "output_type": "stream",
       "stream": "stderr",
       "text": [
        "\r",
        "  0     0    0     0    0     0"
       ]
      },
      {
       "output_type": "stream",
       "stream": "stderr",
       "text": [
        "      0      0 --:--:--  0:00:06 --:--:--     0"
       ]
      },
      {
       "output_type": "stream",
       "stream": "stderr",
       "text": [
        "\r",
        "  0     0    0     0    0     0      "
       ]
      },
      {
       "output_type": "stream",
       "stream": "stderr",
       "text": [
        "0      0 --:--:--  0:00:07 --:--:--     0"
       ]
      },
      {
       "output_type": "stream",
       "stream": "stderr",
       "text": [
        "\r",
        "  0     0    0     0    0"
       ]
      },
      {
       "output_type": "stream",
       "stream": "stderr",
       "text": [
        "     0      0      0 --:--:--  0:00:08 --:--:--     0"
       ]
      },
      {
       "output_type": "stream",
       "stream": "stderr",
       "text": [
        "\r",
        "  0     0    0     0    0     0 "
       ]
      },
      {
       "output_type": "stream",
       "stream": "stderr",
       "text": [
        "     0      0 --:--:--  0:00:09 --:--:--     0"
       ]
      },
      {
       "output_type": "stream",
       "stream": "stderr",
       "text": [
        "\r",
        "  0     0    0     0    0     0"
       ]
      },
      {
       "output_type": "stream",
       "stream": "stderr",
       "text": [
        "      0      0 --:--:--  0:00:10 --:--:--     0"
       ]
      },
      {
       "output_type": "stream",
       "stream": "stderr",
       "text": [
        "\r",
        "  0     0    0     0    0     0   "
       ]
      },
      {
       "output_type": "stream",
       "stream": "stderr",
       "text": [
        "   0      0 --:--:--  0:00:11 --:--:--     0"
       ]
      },
      {
       "output_type": "stream",
       "stream": "stderr",
       "text": [
        "\r",
        "  0     0    0     0    0"
       ]
      },
      {
       "output_type": "stream",
       "stream": "stderr",
       "text": [
        "     0      0      0 --:--:--  0:00:12 --:--:--     0"
       ]
      },
      {
       "output_type": "stream",
       "stream": "stderr",
       "text": [
        "\r",
        "  0     0    0     0    0     0      0      0 --:--:--  0:00:13 --:--:--     0"
       ]
      },
      {
       "output_type": "stream",
       "stream": "stderr",
       "text": [
        "\r",
        "  0     0    0     0    0  "
       ]
      },
      {
       "output_type": "stream",
       "stream": "stderr",
       "text": [
        "   0      0      0 --:--:--  0:00:14 --:--:--     0"
       ]
      },
      {
       "output_type": "stream",
       "stream": "stderr",
       "text": [
        "\r",
        "  0     0    0 "
       ]
      },
      {
       "output_type": "stream",
       "stream": "stderr",
       "text": [
        "    0    0     0      0      0 --:--:--  0:00:15 --:--:--     0"
       ]
      },
      {
       "output_type": "stream",
       "stream": "stderr",
       "text": [
        "\r",
        "  0     0    0     0    0     0      0      0 --:--:--  0:00:16 --:--:--     0"
       ]
      },
      {
       "output_type": "stream",
       "stream": "stderr",
       "text": [
        "\r",
        "  0     0    0     0    0     0      0      0 --:-"
       ]
      },
      {
       "output_type": "stream",
       "stream": "stderr",
       "text": [
        "-:--  0:00:17 --:--:--     0"
       ]
      },
      {
       "output_type": "stream",
       "stream": "stderr",
       "text": [
        "\r",
        "  0     0    0     0    0     0      0"
       ]
      },
      {
       "output_type": "stream",
       "stream": "stderr",
       "text": [
        "      0 --:--:--  0:00:18 --:--:--     0"
       ]
      },
      {
       "output_type": "stream",
       "stream": "stderr",
       "text": [
        "\r",
        "  0     0    0     0    0     0  "
       ]
      },
      {
       "output_type": "stream",
       "stream": "stderr",
       "text": [
        "    0      0 --:--:--  0:00:19 --:--:--     0"
       ]
      },
      {
       "output_type": "stream",
       "stream": "stderr",
       "text": [
        "\r",
        "  0     0    0     "
       ]
      },
      {
       "output_type": "stream",
       "stream": "stderr",
       "text": [
        "0    0     0      0      0 --:--:--  0:00:20 --:--:--     0"
       ]
      },
      {
       "output_type": "stream",
       "stream": "stderr",
       "text": [
        "\r",
        "  0     0    0     0    0     0      0 "
       ]
      },
      {
       "output_type": "stream",
       "stream": "stderr",
       "text": [
        "     0 --:--:--  0:00:21 --:--:--     0"
       ]
      },
      {
       "output_type": "stream",
       "stream": "stderr",
       "text": [
        "\r",
        "  0     0    0     0    0     0      0     "
       ]
      },
      {
       "output_type": "stream",
       "stream": "stderr",
       "text": [
        " 0 --:--:--  0:00:22 --:--:--     0"
       ]
      },
      {
       "output_type": "stream",
       "stream": "stderr",
       "text": [
        "\r",
        "  0     0    0     0    0     "
       ]
      },
      {
       "output_type": "stream",
       "stream": "stderr",
       "text": [
        "0      0      0 --:--:--  0:00:23 --:--:--     0"
       ]
      },
      {
       "output_type": "stream",
       "stream": "stderr",
       "text": [
        "\r",
        "  0     0    0     0    0     0      0 "
       ]
      },
      {
       "output_type": "stream",
       "stream": "stderr",
       "text": [
        "     0 --:--:--  0:00:24 --:--:--     0"
       ]
      },
      {
       "output_type": "stream",
       "stream": "stderr",
       "text": [
        "\r",
        "  0     0    0   "
       ]
      },
      {
       "output_type": "stream",
       "stream": "stderr",
       "text": [
        "  0    0     0      0      0 --:--:--  0:00:25 --:--:--     0"
       ]
      },
      {
       "output_type": "stream",
       "stream": "stderr",
       "text": [
        "\r",
        "  0     0    0     0    0  "
       ]
      },
      {
       "output_type": "stream",
       "stream": "stderr",
       "text": [
        "   0      0      0 --:--:--  0:00:26 --:--:--     0"
       ]
      },
      {
       "output_type": "stream",
       "stream": "stderr",
       "text": [
        "\r",
        "  0     0    0     0    0    "
       ]
      },
      {
       "output_type": "stream",
       "stream": "stderr",
       "text": [
        " 0      0      0 --:--:--  0:00:27 --:--:--     0"
       ]
      },
      {
       "output_type": "stream",
       "stream": "stderr",
       "text": [
        "\r",
        "  0     0    0     0    0     "
       ]
      },
      {
       "output_type": "stream",
       "stream": "stderr",
       "text": [
        "0      0      0 --:--:--  0:00:28 --:--:--     0"
       ]
      },
      {
       "output_type": "stream",
       "stream": "stderr",
       "text": [
        "\r",
        "  0     0    0   "
       ]
      },
      {
       "output_type": "stream",
       "stream": "stderr",
       "text": [
        "  0    0     0      0      0 --:--:--  0:00:29 --:--:--     0"
       ]
      },
      {
       "output_type": "stream",
       "stream": "stderr",
       "text": [
        "\r",
        "  0     0    0     0    0     "
       ]
      },
      {
       "output_type": "stream",
       "stream": "stderr",
       "text": [
        "0      0      0 --:--:--  0:00:30 --:--:--     0"
       ]
      },
      {
       "output_type": "stream",
       "stream": "stderr",
       "text": [
        "\r",
        "  0     0    0     0    0     0      0      "
       ]
      },
      {
       "output_type": "stream",
       "stream": "stderr",
       "text": [
        "0 --:--:--  0:00:31 --:--:--     0"
       ]
      },
      {
       "output_type": "stream",
       "stream": "stderr",
       "text": [
        "\r",
        "  0     0    0     0    0   "
       ]
      },
      {
       "output_type": "stream",
       "stream": "stderr",
       "text": [
        "  0      0      0 --:--:--  0:00:32 --:--:--     0"
       ]
      },
      {
       "output_type": "stream",
       "stream": "stderr",
       "text": [
        "\r",
        "  0     0    0     0    0     0      0  "
       ]
      },
      {
       "output_type": "stream",
       "stream": "stderr",
       "text": [
        "    0 --:--:--  0:00:33 --:--:--     0"
       ]
      },
      {
       "output_type": "stream",
       "stream": "stderr",
       "text": [
        "\r",
        "  0     0    0     0    0     "
       ]
      },
      {
       "output_type": "stream",
       "stream": "stderr",
       "text": [
        "0      0      0 --:--:--  0:00:34 --:--:--     0"
       ]
      },
      {
       "output_type": "stream",
       "stream": "stderr",
       "text": [
        "\r",
        "  0     0    0     0    0    "
       ]
      },
      {
       "output_type": "stream",
       "stream": "stderr",
       "text": [
        " 0      0      0 --:--:--  0:00:35 --:--:--     0"
       ]
      },
      {
       "output_type": "stream",
       "stream": "stderr",
       "text": [
        "\r",
        "  0     0    0     0    0     "
       ]
      },
      {
       "output_type": "stream",
       "stream": "stderr",
       "text": [
        "0      0      0 --:--:--  0:00:36 --:--:--     0"
       ]
      },
      {
       "output_type": "stream",
       "stream": "stderr",
       "text": [
        "\r",
        "  0     0    0     0    0     0"
       ]
      },
      {
       "output_type": "stream",
       "stream": "stderr",
       "text": [
        "      0      0 --:--:--  0:00:37 --:--:--     0"
       ]
      },
      {
       "output_type": "stream",
       "stream": "stderr",
       "text": [
        "\r",
        "  0     0    0     0    0   "
       ]
      },
      {
       "output_type": "stream",
       "stream": "stderr",
       "text": [
        "  0      0      0 --:--:--  0:00:38 --:--:--     0"
       ]
      },
      {
       "output_type": "stream",
       "stream": "stderr",
       "text": [
        "\r",
        "  0     0    0     0    0     0      0   "
       ]
      },
      {
       "output_type": "stream",
       "stream": "stderr",
       "text": [
        "   0 --:--:--  0:00:39 --:--:--     0"
       ]
      },
      {
       "output_type": "stream",
       "stream": "stderr",
       "text": [
        "\r",
        "  0     0    0     0    0     0    "
       ]
      },
      {
       "output_type": "stream",
       "stream": "stderr",
       "text": [
        "  0      0 --:--:--  0:00:40 --:--:--     0"
       ]
      },
      {
       "output_type": "stream",
       "stream": "stderr",
       "text": [
        "\r",
        "  0     0    0     0    0     0      0    "
       ]
      },
      {
       "output_type": "stream",
       "stream": "stderr",
       "text": [
        "  0 --:--:--  0:00:41 --:--:--     0"
       ]
      },
      {
       "output_type": "stream",
       "stream": "stderr",
       "text": [
        "\r",
        "  0     0    0     0    0     "
       ]
      },
      {
       "output_type": "stream",
       "stream": "stderr",
       "text": [
        "0      0      0 --:--:--  0:00:42 --:--:--     0"
       ]
      },
      {
       "output_type": "stream",
       "stream": "stderr",
       "text": [
        "\r",
        "  0     0    0     0    0     0      0     "
       ]
      },
      {
       "output_type": "stream",
       "stream": "stderr",
       "text": [
        " 0 --:--:--  0:00:43 --:--:--     0"
       ]
      },
      {
       "output_type": "stream",
       "stream": "stderr",
       "text": [
        "\r",
        "  0     0    0     0    0     0    "
       ]
      },
      {
       "output_type": "stream",
       "stream": "stderr",
       "text": [
        "  0      0 --:--:--  0:00:44 --:--:--     0"
       ]
      },
      {
       "output_type": "stream",
       "stream": "stderr",
       "text": [
        "\r",
        "  0     0    0     0    0     0  "
       ]
      },
      {
       "output_type": "stream",
       "stream": "stderr",
       "text": [
        "    0      0 --:--:--  0:00:45 --:--:--     0"
       ]
      },
      {
       "output_type": "stream",
       "stream": "stderr",
       "text": [
        "\r",
        "  0     0    0     0    0     0      0 "
       ]
      },
      {
       "output_type": "stream",
       "stream": "stderr",
       "text": [
        "     0 --:--:--  0:00:46 --:--:--     0"
       ]
      },
      {
       "output_type": "stream",
       "stream": "stderr",
       "text": [
        "\r",
        "  0     0    0     0   "
       ]
      },
      {
       "output_type": "stream",
       "stream": "stderr",
       "text": [
        " 0     0      0      0 --:--:--  0:00:47 --:--:--     0"
       ]
      },
      {
       "output_type": "stream",
       "stream": "stderr",
       "text": [
        "\r",
        "  0     0    0     0    0     0      0      0 --"
       ]
      },
      {
       "output_type": "stream",
       "stream": "stderr",
       "text": [
        ":--:--  0:00:48 --:--:--     0"
       ]
      },
      {
       "output_type": "stream",
       "stream": "stderr",
       "text": [
        "\r",
        "  0     0    0     0    0     0   "
       ]
      },
      {
       "output_type": "stream",
       "stream": "stderr",
       "text": [
        "   0      0 --:--:--  0:00:49 --:--:--     0"
       ]
      },
      {
       "output_type": "stream",
       "stream": "stderr",
       "text": [
        "\r",
        "  0     0    0     0    0     0      0      0 --:--:--  0:00:50 --:--:--     0"
       ]
      },
      {
       "output_type": "stream",
       "stream": "stderr",
       "text": [
        "\r",
        "  0     0    0     0    0     0      0      0 --:--:--  0:00:51 --:--:--     0"
       ]
      },
      {
       "output_type": "stream",
       "stream": "stderr",
       "text": [
        "\r",
        "  0     0    0     0    0     0      0      0 --:--:--  0:00:52 --:--:--     0"
       ]
      },
      {
       "output_type": "stream",
       "stream": "stderr",
       "text": [
        "\r",
        "  0     0    0     0    0     0      0      0 --:--:-"
       ]
      },
      {
       "output_type": "stream",
       "stream": "stderr",
       "text": [
        "-  0:00:53 --:--:--     0"
       ]
      },
      {
       "output_type": "stream",
       "stream": "stderr",
       "text": [
        "\r",
        "  0     0    0     0    0     0      0      0 --:--:"
       ]
      },
      {
       "output_type": "stream",
       "stream": "stderr",
       "text": [
        "--  0:00:54 --:--:--     0"
       ]
      },
      {
       "output_type": "stream",
       "stream": "stderr",
       "text": [
        "\r",
        "  0     0    0     0    0     "
       ]
      },
      {
       "output_type": "stream",
       "stream": "stderr",
       "text": [
        "0      0      0 --:--:--  0:00:55 --:--:--     0"
       ]
      },
      {
       "output_type": "stream",
       "stream": "stderr",
       "text": [
        "\r",
        "  0     0    0     0    0     0      0"
       ]
      },
      {
       "output_type": "stream",
       "stream": "stderr",
       "text": [
        "      0 --:--:--  0:00:56 --:--:--     0"
       ]
      },
      {
       "output_type": "stream",
       "stream": "stderr",
       "text": [
        "\r",
        "  0     0    0     0    0    "
       ]
      },
      {
       "output_type": "stream",
       "stream": "stderr",
       "text": [
        " 0      0      0 --:--:--  0:00:57 --:--:--     0"
       ]
      },
      {
       "output_type": "stream",
       "stream": "stderr",
       "text": [
        "\r",
        "  0     0    0     0    0     0"
       ]
      },
      {
       "output_type": "stream",
       "stream": "stderr",
       "text": [
        "      0      0 --:--:--  0:00:58 --:--:--     0"
       ]
      },
      {
       "output_type": "stream",
       "stream": "stderr",
       "text": [
        "\r",
        "  0     0    0     0    0     0      0 "
       ]
      },
      {
       "output_type": "stream",
       "stream": "stderr",
       "text": [
        "     0 --:--:--  0:00:59 --:--:--     0"
       ]
      },
      {
       "output_type": "stream",
       "stream": "stderr",
       "text": [
        "\r",
        "  0     0    0     0    0     0      0      0 --:--:--  0:01:00 --:--:--     0"
       ]
      },
      {
       "output_type": "stream",
       "stream": "stderr",
       "text": [
        "\r",
        "  0     0    0     0    0     0      0      0 --:--:--  0:01:01 --:--:--     0"
       ]
      },
      {
       "output_type": "stream",
       "stream": "stderr",
       "text": [
        "\r",
        "  0     0    0     0    0     0      0      0 --:--:--  "
       ]
      },
      {
       "output_type": "stream",
       "stream": "stderr",
       "text": [
        "0:01:02 --:--:--     0"
       ]
      },
      {
       "output_type": "stream",
       "stream": "stderr",
       "text": [
        "\r",
        "  0     0    0     0    0     0      0      0 -"
       ]
      },
      {
       "output_type": "stream",
       "stream": "stderr",
       "text": [
        "-:--:--  0:01:03 --:--:--     0"
       ]
      },
      {
       "output_type": "stream",
       "stream": "stderr",
       "text": [
        "\r",
        "  0     0    0     0    0     "
       ]
      },
      {
       "output_type": "stream",
       "stream": "stderr",
       "text": [
        "0      0      0 --:--:--  0:01:04 --:--:--     0"
       ]
      },
      {
       "output_type": "stream",
       "stream": "stderr",
       "text": [
        "\r",
        "  0     0    0     0    0     0   "
       ]
      },
      {
       "output_type": "stream",
       "stream": "stderr",
       "text": [
        "   0      0 --:--:--  0:01:05 --:--:--     0"
       ]
      },
      {
       "output_type": "stream",
       "stream": "stderr",
       "text": [
        "\r",
        "  0     0    0     0    0     0      0"
       ]
      },
      {
       "output_type": "stream",
       "stream": "stderr",
       "text": [
        "      0 --:--:--  0:01:06 --:--:--     0"
       ]
      },
      {
       "output_type": "stream",
       "stream": "stderr",
       "text": [
        "\r",
        "  0     0    0     0    0    "
       ]
      },
      {
       "output_type": "stream",
       "stream": "stderr",
       "text": [
        " 0      0      0 --:--:--  0:01:07 --:--:--     0"
       ]
      },
      {
       "output_type": "stream",
       "stream": "stderr",
       "text": [
        "\r",
        "  0     0    0     0    0     0      "
       ]
      },
      {
       "output_type": "stream",
       "stream": "stderr",
       "text": [
        "0      0 --:--:--  0:01:08 --:--:--     0"
       ]
      },
      {
       "output_type": "stream",
       "stream": "stderr",
       "text": [
        "\r",
        "  0     0    0     0    0     0    "
       ]
      },
      {
       "output_type": "stream",
       "stream": "stderr",
       "text": [
        "  0      0 --:--:--  0:01:09 --:--:--     0"
       ]
      },
      {
       "output_type": "stream",
       "stream": "stderr",
       "text": [
        "\r",
        "  0     0    0     0    0     0      0      0 --:--:--  "
       ]
      },
      {
       "output_type": "stream",
       "stream": "stderr",
       "text": [
        "0:01:10 --:--:--     0"
       ]
      },
      {
       "output_type": "stream",
       "stream": "stderr",
       "text": [
        "\r",
        "  0     0    0     0    0   "
       ]
      },
      {
       "output_type": "stream",
       "stream": "stderr",
       "text": [
        "  0      0      0 --:--:--  0:01:11 --:--:--     0"
       ]
      },
      {
       "output_type": "stream",
       "stream": "stderr",
       "text": [
        "\r",
        "  0     0    0     0    0     0      0    "
       ]
      },
      {
       "output_type": "stream",
       "stream": "stderr",
       "text": [
        "  0 --:--:--  0:01:12 --:--:--     0"
       ]
      },
      {
       "output_type": "stream",
       "stream": "stderr",
       "text": [
        "\r",
        "  0     0    0     0    0     "
       ]
      },
      {
       "output_type": "stream",
       "stream": "stderr",
       "text": [
        "0      0      0 --:--:--  0:01:13 --:--:--     0"
       ]
      },
      {
       "output_type": "stream",
       "stream": "stderr",
       "text": [
        "\r",
        "  0     0    0     0    0     0"
       ]
      },
      {
       "output_type": "stream",
       "stream": "stderr",
       "text": [
        "      0      0 --:--:--  0:01:14 --:--:--     0"
       ]
      },
      {
       "output_type": "stream",
       "stream": "stderr",
       "text": [
        "\r",
        "  0     0    0     0    0     0      0      0 --:--:--  0:01:15 --:--:--     0"
       ]
      },
      {
       "output_type": "stream",
       "stream": "stderr",
       "text": [
        "\r",
        "  0     0    0     0    0     0      0      0 --:--:--  0:01:16 --:--:--     0"
       ]
      },
      {
       "output_type": "stream",
       "stream": "stderr",
       "text": [
        "\r",
        "  0     0    0     0    0     0      0      0"
       ]
      },
      {
       "output_type": "stream",
       "stream": "stderr",
       "text": [
        " --:--:--  0:01:17 --:--:--     0"
       ]
      },
      {
       "output_type": "stream",
       "stream": "stderr",
       "text": [
        "\r",
        "  0     0    0     0    0     0      0  "
       ]
      },
      {
       "output_type": "stream",
       "stream": "stderr",
       "text": [
        "    0 --:--:--  0:01:18 --:--:--     0"
       ]
      },
      {
       "output_type": "stream",
       "stream": "stderr",
       "text": [
        "\r",
        "  0     0    0     0    0     "
       ]
      },
      {
       "output_type": "stream",
       "stream": "stderr",
       "text": [
        "0      0      0 --:--:--  0:01:19 --:--:--     0"
       ]
      },
      {
       "output_type": "stream",
       "stream": "stderr",
       "text": [
        "\r",
        "  0     0    0     0    0     0      0      0 --:--:--  0:01:20 --:-"
       ]
      },
      {
       "output_type": "stream",
       "stream": "stderr",
       "text": [
        "-:--     0"
       ]
      },
      {
       "output_type": "stream",
       "stream": "stderr",
       "text": [
        "\r",
        "  0     0    0     0    0     0      0   "
       ]
      },
      {
       "output_type": "stream",
       "stream": "stderr",
       "text": [
        "   0 --:--:--  0:01:21 --:--:--     0"
       ]
      },
      {
       "output_type": "stream",
       "stream": "stderr",
       "text": [
        "\r",
        "  0     0    0     0    0     0      0      0 --:--:--  0:01:22 --:--:--     0"
       ]
      },
      {
       "output_type": "stream",
       "stream": "stderr",
       "text": [
        "\r",
        "  0     0    0     0    0     0      0      0 --"
       ]
      },
      {
       "output_type": "stream",
       "stream": "stderr",
       "text": [
        ":--:--  0:01:23 --:--:--     0"
       ]
      },
      {
       "output_type": "stream",
       "stream": "stderr",
       "text": [
        "\r",
        "  0     0    0     0    0     0      0      0 --:--:--  0:01:24 --:--:--     0"
       ]
      },
      {
       "output_type": "stream",
       "stream": "stderr",
       "text": [
        "\r",
        "  0     0    0     0    0     0    "
       ]
      },
      {
       "output_type": "stream",
       "stream": "stderr",
       "text": [
        "  0      0 --:--:--  0:01:25 --:--:--     0"
       ]
      },
      {
       "output_type": "stream",
       "stream": "stderr",
       "text": [
        "\r",
        "  0     0    0     0    0     0    "
       ]
      },
      {
       "output_type": "stream",
       "stream": "stderr",
       "text": [
        "  0      0 --:--:--  0:01:26 --:--:--     0"
       ]
      },
      {
       "output_type": "stream",
       "stream": "stderr",
       "text": [
        "\r",
        "  0     0    0     0    0     0 "
       ]
      },
      {
       "output_type": "stream",
       "stream": "stderr",
       "text": [
        "     0      0 --:--:--  0:01:27 --:--:--     0"
       ]
      },
      {
       "output_type": "stream",
       "stream": "stderr",
       "text": [
        "\r",
        "  0     0    0     0    0     0    "
       ]
      },
      {
       "output_type": "stream",
       "stream": "stderr",
       "text": [
        "  0      0 --:--:--  0:01:28 --:--:--     0"
       ]
      },
      {
       "output_type": "stream",
       "stream": "stderr",
       "text": [
        "\r",
        "  0     0    0     0    0     0"
       ]
      },
      {
       "output_type": "stream",
       "stream": "stderr",
       "text": [
        "      0      0 --:--:--  0:01:29 --:--:--     0"
       ]
      },
      {
       "output_type": "stream",
       "stream": "stderr",
       "text": [
        "\r",
        "  0     0    0     0    0    "
       ]
      },
      {
       "output_type": "stream",
       "stream": "stderr",
       "text": [
        " 0      0      0 --:--:--  0:01:30 --:--:--     0"
       ]
      },
      {
       "output_type": "stream",
       "stream": "stderr",
       "text": [
        "\r",
        "  0     0    0     0    0     0"
       ]
      },
      {
       "output_type": "stream",
       "stream": "stderr",
       "text": [
        "      0      0 --:--:--  0:01:31 --:--:--     0"
       ]
      },
      {
       "output_type": "stream",
       "stream": "stderr",
       "text": [
        "\r",
        "  0     0    0     0    0     "
       ]
      },
      {
       "output_type": "stream",
       "stream": "stderr",
       "text": [
        "0      0      0 --:--:--  0:01:32 --:--:--     0"
       ]
      },
      {
       "output_type": "stream",
       "stream": "stderr",
       "text": [
        "\r",
        "  0     0    0     0    0     0"
       ]
      },
      {
       "output_type": "stream",
       "stream": "stderr",
       "text": [
        "      0      0 --:--:--  0:01:33 --:--:--     0"
       ]
      },
      {
       "output_type": "stream",
       "stream": "stderr",
       "text": [
        "\r",
        "  0     0    0     0    0     0      0"
       ]
      },
      {
       "output_type": "stream",
       "stream": "stderr",
       "text": [
        "      0 --:--:--  0:01:34 --:--:--     0"
       ]
      },
      {
       "output_type": "stream",
       "stream": "stderr",
       "text": [
        "\r",
        "  0     0    0     0    0     "
       ]
      },
      {
       "output_type": "stream",
       "stream": "stderr",
       "text": [
        "0      0      0 --:--:--  0:01:35 --:--:--     0"
       ]
      },
      {
       "output_type": "stream",
       "stream": "stderr",
       "text": [
        "\r",
        "  0     0    0     0    0     0 "
       ]
      },
      {
       "output_type": "stream",
       "stream": "stderr",
       "text": [
        "     0      0 --:--:--  0:01:36 --:--:--     0"
       ]
      },
      {
       "output_type": "stream",
       "stream": "stderr",
       "text": [
        "\r",
        "  0     0    0     0    0     0"
       ]
      },
      {
       "output_type": "stream",
       "stream": "stderr",
       "text": [
        "      0      0 --:--:--  0:01:37 --:--:--     0"
       ]
      },
      {
       "output_type": "stream",
       "stream": "stderr",
       "text": [
        "\r",
        "  0     0    0     0    0    "
       ]
      },
      {
       "output_type": "stream",
       "stream": "stderr",
       "text": [
        " 0      0      0 --:--:--  0:01:38 --:--:--     0"
       ]
      },
      {
       "output_type": "stream",
       "stream": "stderr",
       "text": [
        "\r",
        "  0     0    0     0    0     0      0"
       ]
      },
      {
       "output_type": "stream",
       "stream": "stderr",
       "text": [
        "      0 --:--:--  0:01:39 --:--:--     0"
       ]
      },
      {
       "output_type": "stream",
       "stream": "stderr",
       "text": [
        "\r",
        "  0     0    0     0    0   "
       ]
      },
      {
       "output_type": "stream",
       "stream": "stderr",
       "text": [
        "  0      0      0 --:--:--  0:01:40 --:--:--     0"
       ]
      },
      {
       "output_type": "stream",
       "stream": "stderr",
       "text": [
        "\r",
        "  0     0    0     0    0     0    "
       ]
      },
      {
       "output_type": "stream",
       "stream": "stderr",
       "text": [
        "  0      0 --:--:--  0:01:41 --:--:--     0"
       ]
      },
      {
       "output_type": "stream",
       "stream": "stderr",
       "text": [
        "\r",
        "  0     0    0     0    0  "
       ]
      },
      {
       "output_type": "stream",
       "stream": "stderr",
       "text": [
        "   0      0      0 --:--:--  0:01:42 --:--:--     0"
       ]
      },
      {
       "output_type": "stream",
       "stream": "stderr",
       "text": [
        "\r",
        "  0     0    0  "
       ]
      },
      {
       "output_type": "stream",
       "stream": "stderr",
       "text": [
        "   0    0     0      0      0 --:--:--  0:01:43 --:--:--     0"
       ]
      },
      {
       "output_type": "stream",
       "stream": "stderr",
       "text": [
        "\r",
        "  0     0    0     0    0"
       ]
      },
      {
       "output_type": "stream",
       "stream": "stderr",
       "text": [
        "     0      0      0 --:--:--  0:01:44 --:--:--     0"
       ]
      },
      {
       "output_type": "stream",
       "stream": "stderr",
       "text": [
        "\r",
        "  0     0    0     0    0     0      "
       ]
      },
      {
       "output_type": "stream",
       "stream": "stderr",
       "text": [
        "0      0 --:--:--  0:01:45 --:--:--     0"
       ]
      },
      {
       "output_type": "stream",
       "stream": "stderr",
       "text": [
        "\r",
        "  0     0    0     0    0    "
       ]
      },
      {
       "output_type": "stream",
       "stream": "stderr",
       "text": [
        " 0      0      0 --:--:--  0:01:46 --:--:--     0"
       ]
      },
      {
       "output_type": "stream",
       "stream": "stderr",
       "text": [
        "\r",
        "  0     0    0     0    0   "
       ]
      },
      {
       "output_type": "stream",
       "stream": "stderr",
       "text": [
        "  0      0      0 --:--:--  0:01:47 --:--:--     0"
       ]
      },
      {
       "output_type": "stream",
       "stream": "stderr",
       "text": [
        "\r",
        "  0     0    0     0    0     0     "
       ]
      },
      {
       "output_type": "stream",
       "stream": "stderr",
       "text": [
        " 0      0 --:--:--  0:01:48 --:--:--     0"
       ]
      },
      {
       "output_type": "stream",
       "stream": "stderr",
       "text": [
        "\r",
        "  0     0    0     0    0    "
       ]
      },
      {
       "output_type": "stream",
       "stream": "stderr",
       "text": [
        " 0      0      0 --:--:--  0:01:49 --:--:--     0"
       ]
      },
      {
       "output_type": "stream",
       "stream": "stderr",
       "text": [
        "\r",
        "  0     0    0     0    0   "
       ]
      },
      {
       "output_type": "stream",
       "stream": "stderr",
       "text": [
        "  0      0      0 --:--:--  0:01:50 --:--:--     0"
       ]
      },
      {
       "output_type": "stream",
       "stream": "stderr",
       "text": [
        "\r",
        "  0     0    0     0    0     0    "
       ]
      },
      {
       "output_type": "stream",
       "stream": "stderr",
       "text": [
        "  0      0 --:--:--  0:01:51 --:--:--     0"
       ]
      },
      {
       "output_type": "stream",
       "stream": "stderr",
       "text": [
        "\r",
        "  0     0    0     0    0     0      0      0 --:"
       ]
      },
      {
       "output_type": "stream",
       "stream": "stderr",
       "text": [
        "--:--  0:01:52 --:--:--     0"
       ]
      },
      {
       "output_type": "stream",
       "stream": "stderr",
       "text": [
        "\r",
        "  0     0    0     0    0     0"
       ]
      },
      {
       "output_type": "stream",
       "stream": "stderr",
       "text": [
        "      0      0 --:--:--  0:01:53 --:--:--     0"
       ]
      },
      {
       "output_type": "stream",
       "stream": "stderr",
       "text": [
        "\r",
        "  0     0    0     0    0   "
       ]
      },
      {
       "output_type": "stream",
       "stream": "stderr",
       "text": [
        "  0      0      0 --:--:--  0:01:54 --:--:--     0"
       ]
      },
      {
       "output_type": "stream",
       "stream": "stderr",
       "text": [
        "\r",
        "  0     0    0     0    0   "
       ]
      },
      {
       "output_type": "stream",
       "stream": "stderr",
       "text": [
        "  0      0      0 --:--:--  0:01:55 --:--:--     0"
       ]
      },
      {
       "output_type": "stream",
       "stream": "stderr",
       "text": [
        "\r",
        "  0     0    0     0    0     0      0 "
       ]
      },
      {
       "output_type": "stream",
       "stream": "stderr",
       "text": [
        "     0 --:--:--  0:01:56 --:--:--     0"
       ]
      },
      {
       "output_type": "stream",
       "stream": "stderr",
       "text": [
        "\r",
        "  0     0    0     0    0     0 "
       ]
      },
      {
       "output_type": "stream",
       "stream": "stderr",
       "text": [
        "     0      0 --:--:--  0:01:57 --:--:--     0"
       ]
      },
      {
       "output_type": "stream",
       "stream": "stderr",
       "text": [
        "\r",
        "  0     0    0     0    0     0    "
       ]
      },
      {
       "output_type": "stream",
       "stream": "stderr",
       "text": [
        "  0      0 --:--:--  0:01:58 --:--:--     0"
       ]
      },
      {
       "output_type": "stream",
       "stream": "stderr",
       "text": [
        "\r",
        "  0     0    0     0    0     0"
       ]
      },
      {
       "output_type": "stream",
       "stream": "stderr",
       "text": [
        "      0      0 --:--:--  0:01:59 --:--:--     0"
       ]
      },
      {
       "output_type": "stream",
       "stream": "stderr",
       "text": [
        "\r",
        "  0     0    0     0    0"
       ]
      },
      {
       "output_type": "stream",
       "stream": "stderr",
       "text": [
        "     0      0      0 --:--:--  0:02:00 --:--:--     0"
       ]
      },
      {
       "output_type": "stream",
       "stream": "stderr",
       "text": [
        "\r",
        "  0     0    0     0    0     "
       ]
      },
      {
       "output_type": "stream",
       "stream": "stderr",
       "text": [
        "0      0      0 --:--:--  0:02:01 --:--:--     0"
       ]
      },
      {
       "output_type": "stream",
       "stream": "stderr",
       "text": [
        "\r",
        "  0     0    0     0    0    "
       ]
      },
      {
       "output_type": "stream",
       "stream": "stderr",
       "text": [
        " 0      0      0 --:--:--  0:02:02 --:--:--     0"
       ]
      },
      {
       "output_type": "stream",
       "stream": "stderr",
       "text": [
        "\r",
        "  0     0    0     0    0     0   "
       ]
      },
      {
       "output_type": "stream",
       "stream": "stderr",
       "text": [
        "   0      0 --:--:--  0:02:03 --:--:--     0"
       ]
      },
      {
       "output_type": "stream",
       "stream": "stderr",
       "text": [
        "\r",
        "  0     0    0     0    0     0      0      0 --:--:--  0:02:04 -"
       ]
      },
      {
       "output_type": "stream",
       "stream": "stderr",
       "text": [
        "-:--:--     0"
       ]
      },
      {
       "output_type": "stream",
       "stream": "stderr",
       "text": [
        "\r",
        "  0     0    0     0    0    "
       ]
      },
      {
       "output_type": "stream",
       "stream": "stderr",
       "text": [
        " 0      0      0 --:--:--  0:02:05 --:--:--     0"
       ]
      },
      {
       "output_type": "stream",
       "stream": "stderr",
       "text": [
        "\r",
        "  0     0    0     0    0     0      0 "
       ]
      },
      {
       "output_type": "stream",
       "stream": "stderr",
       "text": [
        "     0 --:--:--  0:02:06 --:--:--     0"
       ]
      },
      {
       "output_type": "stream",
       "stream": "stderr",
       "text": [
        "\r",
        "  0     0    0     0    0  "
       ]
      },
      {
       "output_type": "stream",
       "stream": "stderr",
       "text": [
        "   0      0      0 --:--:--  0:02:07 --:--:--     0"
       ]
      },
      {
       "output_type": "stream",
       "stream": "stderr",
       "text": [
        "\r",
        "  0     0    0     0    0  "
       ]
      },
      {
       "output_type": "stream",
       "stream": "stderr",
       "text": [
        "   0      0      0 --:--:--  0:02:08 --:--:--     0"
       ]
      },
      {
       "output_type": "stream",
       "stream": "stderr",
       "text": [
        "\r",
        "  0     0    0     0    0     0      0      0 --:-"
       ]
      },
      {
       "output_type": "stream",
       "stream": "stderr",
       "text": [
        "-:--  0:02:09 --:--:--     0"
       ]
      },
      {
       "output_type": "stream",
       "stream": "stderr",
       "text": [
        "\r",
        "  0     0    0     0    0     0      0  "
       ]
      },
      {
       "output_type": "stream",
       "stream": "stderr",
       "text": [
        "    0 --:--:--  0:02:10 --:--:--     0"
       ]
      },
      {
       "output_type": "stream",
       "stream": "stderr",
       "text": [
        "\r",
        "  0     0    0 "
       ]
      },
      {
       "output_type": "stream",
       "stream": "stderr",
       "text": [
        "    0    0     0      0      0 --:--:--  0:02:11 --:--:--     0"
       ]
      },
      {
       "output_type": "stream",
       "stream": "stderr",
       "text": [
        "\r",
        "  0     0    0     0    0    "
       ]
      },
      {
       "output_type": "stream",
       "stream": "stderr",
       "text": [
        " 0      0      0 --:--:--  0:02:12 --:--:--     0"
       ]
      },
      {
       "output_type": "stream",
       "stream": "stderr",
       "text": [
        "\r",
        "  0     0    0     0    0    "
       ]
      },
      {
       "output_type": "stream",
       "stream": "stderr",
       "text": [
        " 0      0      0 --:--:--  0:02:13 --:--:--     0"
       ]
      },
      {
       "output_type": "stream",
       "stream": "stderr",
       "text": [
        "\r",
        "  0     0    0     0    0     0"
       ]
      },
      {
       "output_type": "stream",
       "stream": "stderr",
       "text": [
        "      0      0 --:--:--  0:02:14 --:--:--     0"
       ]
      },
      {
       "output_type": "stream",
       "stream": "stderr",
       "text": [
        "\r",
        "  0     0    0     0    0     0      0      0"
       ]
      },
      {
       "output_type": "stream",
       "stream": "stderr",
       "text": [
        " --:--:--  0:02:15 --:--:--     0"
       ]
      },
      {
       "output_type": "stream",
       "stream": "stderr",
       "text": [
        "\r",
        "  0     0    0     0    0     "
       ]
      },
      {
       "output_type": "stream",
       "stream": "stderr",
       "text": [
        "0      0      0 --:--:--  0:02:16 --:--:--     0"
       ]
      },
      {
       "output_type": "stream",
       "stream": "stderr",
       "text": [
        "\r",
        "  0     0    0     0    0     0      0 "
       ]
      },
      {
       "output_type": "stream",
       "stream": "stderr",
       "text": [
        "     0 --:--:--  0:02:17 --:--:--     0"
       ]
      },
      {
       "output_type": "stream",
       "stream": "stderr",
       "text": [
        "\r",
        "  0     0    0     0    0     0"
       ]
      },
      {
       "output_type": "stream",
       "stream": "stderr",
       "text": [
        "      0      0 --:--:--  0:02:18 --:--:--     0"
       ]
      },
      {
       "output_type": "stream",
       "stream": "stderr",
       "text": [
        "\r",
        "  0     0    0     0    "
       ]
      },
      {
       "output_type": "stream",
       "stream": "stderr",
       "text": [
        "0     0      0      0 --:--:--  0:02:19 --:--:--     0"
       ]
      },
      {
       "output_type": "stream",
       "stream": "stderr",
       "text": [
        "\r",
        "  0     0    0     0    0  "
       ]
      },
      {
       "output_type": "stream",
       "stream": "stderr",
       "text": [
        "   0      0      0 --:--:--  0:02:20 --:--:--     0"
       ]
      },
      {
       "output_type": "stream",
       "stream": "stderr",
       "text": [
        "\r",
        "  0     0    0     0    0     0      0  "
       ]
      },
      {
       "output_type": "stream",
       "stream": "stderr",
       "text": [
        "    0 --:--:--  0:02:21 --:--:--     0"
       ]
      },
      {
       "output_type": "stream",
       "stream": "stderr",
       "text": [
        "\r",
        "  0     0    0     0    0     0      0      0 --:--:--  0:02:22 --:--:--     0"
       ]
      },
      {
       "output_type": "stream",
       "stream": "stderr",
       "text": [
        "\r",
        "  0     0    0     0    0     0      0      0 --:--:-"
       ]
      },
      {
       "output_type": "stream",
       "stream": "stderr",
       "text": [
        "-  0:02:23 --:--:--     0"
       ]
      },
      {
       "output_type": "stream",
       "stream": "stderr",
       "text": [
        "\r",
        "  0     0    0     0    0     0      0"
       ]
      },
      {
       "output_type": "stream",
       "stream": "stderr",
       "text": [
        "      0 --:--:--  0:02:24 --:--:--     0"
       ]
      },
      {
       "output_type": "stream",
       "stream": "stderr",
       "text": [
        "\r",
        "  0     0    0     0    0     0      0    "
       ]
      },
      {
       "output_type": "stream",
       "stream": "stderr",
       "text": [
        "  0 --:--:--  0:02:25 --:--:--     0"
       ]
      },
      {
       "output_type": "stream",
       "stream": "stderr",
       "text": [
        "\r",
        "  0     0    0     0    0     0      "
       ]
      },
      {
       "output_type": "stream",
       "stream": "stderr",
       "text": [
        "0      0 --:--:--  0:02:26 --:--:--     0"
       ]
      },
      {
       "output_type": "stream",
       "stream": "stderr",
       "text": [
        "\r",
        "  0     0    0     0    0     "
       ]
      },
      {
       "output_type": "stream",
       "stream": "stderr",
       "text": [
        "0      0      0 --:--:--  0:02:27 --:--:--     0"
       ]
      },
      {
       "output_type": "stream",
       "stream": "stderr",
       "text": [
        "\r",
        "  0     0    0     0    0 "
       ]
      },
      {
       "output_type": "stream",
       "stream": "stderr",
       "text": [
        "    0      0      0 --:--:--  0:02:28 --:--:--     0"
       ]
      },
      {
       "output_type": "stream",
       "stream": "stderr",
       "text": [
        "\r",
        "  0     0    0     0    0     0      0      0 --:--"
       ]
      },
      {
       "output_type": "stream",
       "stream": "stderr",
       "text": [
        ":--  0:02:29 --:--:--     0"
       ]
      },
      {
       "output_type": "stream",
       "stream": "stderr",
       "text": [
        "\r",
        "  0     0    0     0    0     0      0      0 --:--:-"
       ]
      },
      {
       "output_type": "stream",
       "stream": "stderr",
       "text": [
        "-  0:02:30 --:--:--     0"
       ]
      },
      {
       "output_type": "stream",
       "stream": "stderr",
       "text": [
        "\r",
        "100  1183  100  1183    0     0      7      0  0:02:49  0:02:31  0"
       ]
      },
      {
       "output_type": "stream",
       "stream": "stderr",
       "text": [
        ":00:18   267\r",
        "100  1183  100  1183    0     0      7      0  0:02:49  0:02:31  0:00:18   345\n"
       ]
      },
      {
       "ename": "LoadError",
       "evalue": "unexpected character '<' after quoted field at row 2 column 6\nwhile loading In[19], in expression starting on line 2",
       "output_type": "pyerr",
       "traceback": [
        "unexpected character '<' after quoted field at row 2 column 6\nwhile loading In[19], in expression starting on line 2",
        " in error at error.jl:21",
        " in dlm_parse at datafmt.jl:482",
        " in dlm_parse at datafmt.jl:329",
        " in readdlm_string at datafmt.jl:259",
        " in readdlm_auto at datafmt.jl:59",
        " in readdlm at datafmt.jl:49",
        " in readdlm at datafmt.jl:46"
       ]
      }
     ],
     "prompt_number": 19
    },
    {
     "cell_type": "markdown",
     "metadata": {},
     "source": [
      "Here is a picture of titanium (III) chloride solution from Wikipedia.\n",
      "\n",
      "![titanium(iii) chloride solution](http://upload.wikimedia.org/wikipedia/commons/c/cd/TiCl3.jpg)"
     ]
    },
    {
     "cell_type": "markdown",
     "metadata": {},
     "source": [
      "### Copper (II) aqua ion"
     ]
    },
    {
     "cell_type": "code",
     "collapsed": false,
     "input": [
      "filename=download(\"http://wwwchem.uwimona.edu.jm/spectra/cu2aq.jdx\")\n",
      "rawspectrum=readdlm(filename, skipstart=30)\n",
      "#The columns are wavelength (nm) and absorbance (arbitrary units)\n",
      "A=AbsorbanceSpectrum(rawspectrum[:,1], rawspectrum[:,2])\n",
      "showcolors(A)"
     ],
     "language": "python",
     "metadata": {},
     "outputs": [
      {
       "output_type": "stream",
       "stream": "stderr",
       "text": [
        "  % Total    % Received % Xferd  Average Speed   Time    Time     Time  Current\n",
        "                                 Dload  Upload   Total   Spent    Left  Speed\n",
        "\r",
        "  0     0    0     0    0     0      0      0 --:--:-- --:--:-- --:--:--     0"
       ]
      },
      {
       "output_type": "stream",
       "stream": "stderr",
       "text": [
        "\r",
        "  0     0    0     0    0     0      0      0 --:--:-- --:--:-- --:--:--     0"
       ]
      },
      {
       "output_type": "stream",
       "stream": "stderr",
       "text": [
        "\r",
        "  0     0    0     0    0     0      0      0 --:--:--  0:00:01 --:--:--     0"
       ]
      },
      {
       "output_type": "stream",
       "stream": "stderr",
       "text": [
        "\r",
        "  0     0    0     0    0     0      0    "
       ]
      },
      {
       "output_type": "stream",
       "stream": "stderr",
       "text": [
        "  0 --:--:--  0:00:02 --:--:--     0"
       ]
      },
      {
       "output_type": "stream",
       "stream": "stderr",
       "text": [
        "\r",
        "  0     0    0     0  "
       ]
      },
      {
       "output_type": "stream",
       "stream": "stderr",
       "text": [
        "  0     0      0      0 --:--:--  0:00:03 --:--:--     0"
       ]
      },
      {
       "output_type": "stream",
       "stream": "stderr",
       "text": [
        "\r",
        "  0     0    0     0    0     0      0      0 --:-"
       ]
      },
      {
       "output_type": "stream",
       "stream": "stderr",
       "text": [
        "-:--  0:00:04 --:--:--     0"
       ]
      },
      {
       "output_type": "stream",
       "stream": "stderr",
       "text": [
        "\r",
        "  0     0    0     0    0     0      0      0 --:--:--  0:00:05 --:--:--     0"
       ]
      },
      {
       "output_type": "stream",
       "stream": "stderr",
       "text": [
        "\r",
        "  0     0    0     0    0     0      0      0 --:--:--  0:00"
       ]
      },
      {
       "output_type": "stream",
       "stream": "stderr",
       "text": [
        ":06 --:--:--     0"
       ]
      },
      {
       "output_type": "stream",
       "stream": "stderr",
       "text": [
        "\r",
        "  0     0    0     0    0     0      "
       ]
      },
      {
       "output_type": "stream",
       "stream": "stderr",
       "text": [
        "0      0 --:--:--  0:00:07 --:--:--     0"
       ]
      },
      {
       "output_type": "stream",
       "stream": "stderr",
       "text": [
        "\r",
        "  0     0    0     0    0    "
       ]
      },
      {
       "output_type": "stream",
       "stream": "stderr",
       "text": [
        " 0      0      0 --:--:--  0:00:08 --:--:--     0"
       ]
      },
      {
       "output_type": "stream",
       "stream": "stderr",
       "text": [
        "\r",
        "  0     0    0     0  "
       ]
      },
      {
       "output_type": "stream",
       "stream": "stderr",
       "text": [
        "  0     0      0      0 --:--:--  0:00:09 --:--:--     0"
       ]
      },
      {
       "output_type": "stream",
       "stream": "stderr",
       "text": [
        "\r",
        "  0     0    0     0    0     0      0      0 --:--:--  0:00:10 --:--:--     0"
       ]
      },
      {
       "output_type": "stream",
       "stream": "stderr",
       "text": [
        "\r",
        "  0     0    0     0    0  "
       ]
      },
      {
       "output_type": "stream",
       "stream": "stderr",
       "text": [
        "   0      0      0 --:--:--  0:00:11 --:--:--     0"
       ]
      },
      {
       "output_type": "stream",
       "stream": "stderr",
       "text": [
        "\r",
        "  0     0    0     0    0     0      "
       ]
      },
      {
       "output_type": "stream",
       "stream": "stderr",
       "text": [
        "0      0 --:--:--  0:00:12 --:--:--     0"
       ]
      },
      {
       "output_type": "stream",
       "stream": "stderr",
       "text": [
        "\r",
        "  0     0    0     0    0     0      0    "
       ]
      },
      {
       "output_type": "stream",
       "stream": "stderr",
       "text": [
        "  0 --:--:--  0:00:13 --:--:--     0"
       ]
      },
      {
       "output_type": "stream",
       "stream": "stderr",
       "text": [
        "\r",
        "  0     0    0     0    0  "
       ]
      },
      {
       "output_type": "stream",
       "stream": "stderr",
       "text": [
        "   0      0      0 --:--:--  0:00:14 --:--:--     0"
       ]
      },
      {
       "output_type": "stream",
       "stream": "stderr",
       "text": [
        "\r",
        "  0     0    0     0    0    "
       ]
      },
      {
       "output_type": "stream",
       "stream": "stderr",
       "text": [
        " 0      0      0 --:--:--  0:00:15 --:--:--     0"
       ]
      },
      {
       "output_type": "stream",
       "stream": "stderr",
       "text": [
        "\r",
        "  0     0    0     0    0 "
       ]
      },
      {
       "output_type": "stream",
       "stream": "stderr",
       "text": [
        "    0      0      0 --:--:--  0:00:16 --:--:--     0"
       ]
      },
      {
       "output_type": "stream",
       "stream": "stderr",
       "text": [
        "\r",
        "  0     0    0     0    0     0  "
       ]
      },
      {
       "output_type": "stream",
       "stream": "stderr",
       "text": [
        "    0      0 --:--:--  0:00:17 --:--:--     0"
       ]
      },
      {
       "output_type": "stream",
       "stream": "stderr",
       "text": [
        "\r",
        "  0     0    0     0    0     0     "
       ]
      },
      {
       "output_type": "stream",
       "stream": "stderr",
       "text": [
        " 0      0 --:--:--  0:00:18 --:--:--     0"
       ]
      },
      {
       "output_type": "stream",
       "stream": "stderr",
       "text": [
        "\r",
        "  0     0    0     0    0     "
       ]
      },
      {
       "output_type": "stream",
       "stream": "stderr",
       "text": [
        "0      0      0 --:--:--  0:00:19 --:--:--     0"
       ]
      },
      {
       "output_type": "stream",
       "stream": "stderr",
       "text": [
        "\r",
        "  0     0    0     0    0     0      0"
       ]
      },
      {
       "output_type": "stream",
       "stream": "stderr",
       "text": [
        "      0 --:--:--  0:00:20 --:--:--     0"
       ]
      },
      {
       "output_type": "stream",
       "stream": "stderr",
       "text": [
        "\r",
        "  0     0    0     0    0     0      0      0 --:--:-- "
       ]
      },
      {
       "output_type": "stream",
       "stream": "stderr",
       "text": [
        " 0:00:21 --:--:--     0"
       ]
      },
      {
       "output_type": "stream",
       "stream": "stderr",
       "text": [
        "\r",
        "  0     0    0     0    0     0      0      0 --:--:--  0:00:22 --:--:--     0"
       ]
      },
      {
       "output_type": "stream",
       "stream": "stderr",
       "text": [
        "\r",
        "  0     0    0     0    0     0      0      0 --:--:--  0:00:23 --:--:--     0"
       ]
      },
      {
       "output_type": "stream",
       "stream": "stderr",
       "text": [
        "\r",
        "  0     0    0     0    0     0      0      0 --:--:--  0:00:24 --:--:--     0"
       ]
      },
      {
       "output_type": "stream",
       "stream": "stderr",
       "text": [
        "\r",
        "  0     0    0     0    0     0      "
       ]
      },
      {
       "output_type": "stream",
       "stream": "stderr",
       "text": [
        "0      0 --:--:--  0:00:25 --:--:--     0"
       ]
      },
      {
       "output_type": "stream",
       "stream": "stderr",
       "text": [
        "\r",
        "  0     0    0     0    0     "
       ]
      },
      {
       "output_type": "stream",
       "stream": "stderr",
       "text": [
        "0      0      0 --:--:--  0:00:26 --:--:--     0"
       ]
      },
      {
       "output_type": "stream",
       "stream": "stderr",
       "text": [
        "\r",
        "  0     0    0     0    0     0      0      0 --:"
       ]
      },
      {
       "output_type": "stream",
       "stream": "stderr",
       "text": [
        "--:--  0:00:27 --:--:--     0"
       ]
      },
      {
       "output_type": "stream",
       "stream": "stderr",
       "text": [
        "\r",
        "  0     0    0     0    0     0      0      0 --:--:"
       ]
      },
      {
       "output_type": "stream",
       "stream": "stderr",
       "text": [
        "--  0:00:28 --:--:--     0"
       ]
      },
      {
       "output_type": "stream",
       "stream": "stderr",
       "text": [
        "\r",
        "  0     0    0"
       ]
      },
      {
       "output_type": "stream",
       "stream": "stderr",
       "text": [
        "     0    0     0      0      0 --:--:--  0:00:29 --:--:--     0"
       ]
      },
      {
       "output_type": "stream",
       "stream": "stderr",
       "text": [
        "\r",
        "  0     0    0     0    0     0      0"
       ]
      },
      {
       "output_type": "stream",
       "stream": "stderr",
       "text": [
        "      0 --:--:--  0:00:30 --:--:--     0"
       ]
      },
      {
       "output_type": "stream",
       "stream": "stderr",
       "text": [
        "\r",
        "  0     0    0     0    0     0      0      0 --:"
       ]
      },
      {
       "output_type": "stream",
       "stream": "stderr",
       "text": [
        "--:--  0:00:31 --:--:--     0"
       ]
      },
      {
       "output_type": "stream",
       "stream": "stderr",
       "text": [
        "\r",
        "  0     0    0     0    0 "
       ]
      },
      {
       "output_type": "stream",
       "stream": "stderr",
       "text": [
        "    0      0      0 --:--:--  0:00:32 --:--:--     0"
       ]
      },
      {
       "output_type": "stream",
       "stream": "stderr",
       "text": [
        "\r",
        "  0     0    0     0    0   "
       ]
      },
      {
       "output_type": "stream",
       "stream": "stderr",
       "text": [
        "  0      0      0 --:--:--  0:00:33 --:--:--     0"
       ]
      },
      {
       "output_type": "stream",
       "stream": "stderr",
       "text": [
        "\r",
        "  0     0    0     0    0     "
       ]
      },
      {
       "output_type": "stream",
       "stream": "stderr",
       "text": [
        "0      0      0 --:--:--  0:00:34 --:--:--     0"
       ]
      },
      {
       "output_type": "stream",
       "stream": "stderr",
       "text": [
        "\r",
        "  0     0    0     0    0     0      "
       ]
      },
      {
       "output_type": "stream",
       "stream": "stderr",
       "text": [
        "0      0 --:--:--  0:00:35 --:--:--     0"
       ]
      },
      {
       "output_type": "stream",
       "stream": "stderr",
       "text": [
        "\r",
        "  0     0    0     0    0     0      0      0 --:"
       ]
      },
      {
       "output_type": "stream",
       "stream": "stderr",
       "text": [
        "--:--  0:00:36 --:--:--     0"
       ]
      },
      {
       "output_type": "stream",
       "stream": "stderr",
       "text": [
        "\r",
        "  0     0    0     0    0  "
       ]
      },
      {
       "output_type": "stream",
       "stream": "stderr",
       "text": [
        "   0      0      0 --:--:--  0:00:37 --:--:--     0"
       ]
      },
      {
       "output_type": "stream",
       "stream": "stderr",
       "text": [
        "\r",
        "  0     0    0     0    0     0      0      0 --:--:--  0:00:38 --:--:--     0"
       ]
      },
      {
       "output_type": "stream",
       "stream": "stderr",
       "text": [
        "\r",
        "  0     0    0     0    0     0      0"
       ]
      },
      {
       "output_type": "stream",
       "stream": "stderr",
       "text": [
        "      0 --:--:--  0:00:39 --:--:--     0"
       ]
      },
      {
       "output_type": "stream",
       "stream": "stderr",
       "text": [
        "\r",
        "  0     0    0     0    0     0     "
       ]
      },
      {
       "output_type": "stream",
       "stream": "stderr",
       "text": [
        " 0      0 --:--:--  0:00:40 --:--:--     0"
       ]
      },
      {
       "output_type": "stream",
       "stream": "stderr",
       "text": [
        "\r",
        "  0     0    0     0    0     0      "
       ]
      },
      {
       "output_type": "stream",
       "stream": "stderr",
       "text": [
        "0      0 --:--:--  0:00:41 --:--:--     0"
       ]
      },
      {
       "output_type": "stream",
       "stream": "stderr",
       "text": [
        "\r",
        "  0     0    0     0    0     0      0      "
       ]
      },
      {
       "output_type": "stream",
       "stream": "stderr",
       "text": [
        "0 --:--:--  0:00:42 --:--:--     0"
       ]
      },
      {
       "output_type": "stream",
       "stream": "stderr",
       "text": [
        "\r",
        "  0     0    0     0    0    "
       ]
      },
      {
       "output_type": "stream",
       "stream": "stderr",
       "text": [
        " 0      0      0 --:--:--  0:00:43 --:--:--     0"
       ]
      },
      {
       "output_type": "stream",
       "stream": "stderr",
       "text": [
        "\r",
        "  0     0    0     0    0     "
       ]
      },
      {
       "output_type": "stream",
       "stream": "stderr",
       "text": [
        "0      0      0 --:--:--  0:00:44 --:--:--     0"
       ]
      },
      {
       "output_type": "stream",
       "stream": "stderr",
       "text": [
        "\r",
        "  0     0    0   "
       ]
      },
      {
       "output_type": "stream",
       "stream": "stderr",
       "text": [
        "  0    0     0      0      0 --:--:--  0:00:45 --:--:--     0"
       ]
      },
      {
       "output_type": "stream",
       "stream": "stderr",
       "text": [
        "\r",
        "  0     0    0     0    0 "
       ]
      },
      {
       "output_type": "stream",
       "stream": "stderr",
       "text": [
        "    0      0      0 --:--:--  0:00:46 --:--:--     0"
       ]
      },
      {
       "output_type": "stream",
       "stream": "stderr",
       "text": [
        "\r",
        "  0     0    0     0    0   "
       ]
      },
      {
       "output_type": "stream",
       "stream": "stderr",
       "text": [
        "  0      0      0 --:--:--  0:00:47 --:--:--     0"
       ]
      },
      {
       "output_type": "stream",
       "stream": "stderr",
       "text": [
        "\r",
        "  0     0    0     0    0     0      0   "
       ]
      },
      {
       "output_type": "stream",
       "stream": "stderr",
       "text": [
        "   0 --:--:--  0:00:48 --:--:--     0"
       ]
      },
      {
       "output_type": "stream",
       "stream": "stderr",
       "text": [
        "\r",
        "  0     0    0     0    0    "
       ]
      },
      {
       "output_type": "stream",
       "stream": "stderr",
       "text": [
        " 0      0      0 --:--:--  0:00:49 --:--:--     0"
       ]
      },
      {
       "output_type": "stream",
       "stream": "stderr",
       "text": [
        "\r",
        "  0     0    0     0    0  "
       ]
      },
      {
       "output_type": "stream",
       "stream": "stderr",
       "text": [
        "   0      0      0 --:--:--  0:00:50 --:--:--     0"
       ]
      },
      {
       "output_type": "stream",
       "stream": "stderr",
       "text": [
        "\r",
        "  0     0    0     0    0     0      0      0"
       ]
      },
      {
       "output_type": "stream",
       "stream": "stderr",
       "text": [
        " --:--:--  0:00:51 --:--:--     0"
       ]
      },
      {
       "output_type": "stream",
       "stream": "stderr",
       "text": [
        "\r",
        "  0     0    0     0    0     0      "
       ]
      },
      {
       "output_type": "stream",
       "stream": "stderr",
       "text": [
        "0      0 --:--:--  0:00:52 --:--:--     0"
       ]
      },
      {
       "output_type": "stream",
       "stream": "stderr",
       "text": [
        "\r",
        "  0     0    0     0    0     0      0 "
       ]
      },
      {
       "output_type": "stream",
       "stream": "stderr",
       "text": [
        "     0 --:--:--  0:00:53 --:--:--     0"
       ]
      },
      {
       "output_type": "stream",
       "stream": "stderr",
       "text": [
        "\r",
        "  0     0    0     0    0     0      0   "
       ]
      },
      {
       "output_type": "stream",
       "stream": "stderr",
       "text": [
        "   0 --:--:--  0:00:54 --:--:--     0"
       ]
      },
      {
       "output_type": "stream",
       "stream": "stderr",
       "text": [
        "\r",
        "  0     0    0     0    0    "
       ]
      },
      {
       "output_type": "stream",
       "stream": "stderr",
       "text": [
        " 0      0      0 --:--:--  0:00:55 --:--:--     0"
       ]
      },
      {
       "output_type": "stream",
       "stream": "stderr",
       "text": [
        "\r",
        "  0     0    0     0    0     0      "
       ]
      },
      {
       "output_type": "stream",
       "stream": "stderr",
       "text": [
        "0      0 --:--:--  0:00:56 --:--:--     0"
       ]
      },
      {
       "output_type": "stream",
       "stream": "stderr",
       "text": [
        "\r",
        "  0     0    0     0    0     0  "
       ]
      },
      {
       "output_type": "stream",
       "stream": "stderr",
       "text": [
        "    0      0 --:--:--  0:00:57 --:--:--     0"
       ]
      },
      {
       "output_type": "stream",
       "stream": "stderr",
       "text": [
        "\r",
        "  0     0    0     0    0   "
       ]
      },
      {
       "output_type": "stream",
       "stream": "stderr",
       "text": [
        "  0      0      0 --:--:--  0:00:58 --:--:--     0"
       ]
      },
      {
       "output_type": "stream",
       "stream": "stderr",
       "text": [
        "\r",
        "  0     0    0    "
       ]
      },
      {
       "output_type": "stream",
       "stream": "stderr",
       "text": [
        " 0    0     0      0      0 --:--:--  0:00:59 --:--:--     0"
       ]
      },
      {
       "output_type": "stream",
       "stream": "stderr",
       "text": [
        "\r",
        "  0     0    0     0    0 "
       ]
      },
      {
       "output_type": "stream",
       "stream": "stderr",
       "text": [
        "    0      0      0 --:--:--  0:01:00 --:--:--     0"
       ]
      },
      {
       "output_type": "stream",
       "stream": "stderr",
       "text": [
        "\r",
        "  0     0    0     0    0   "
       ]
      },
      {
       "output_type": "stream",
       "stream": "stderr",
       "text": [
        "  0      0      0 --:--:--  0:01:01 --:--:--     0"
       ]
      },
      {
       "output_type": "stream",
       "stream": "stderr",
       "text": [
        "\r",
        "  0     0    0     0    0     0      0 "
       ]
      },
      {
       "output_type": "stream",
       "stream": "stderr",
       "text": [
        "     0 --:--:--  0:01:02 --:--:--     0"
       ]
      },
      {
       "output_type": "stream",
       "stream": "stderr",
       "text": [
        "\r",
        "  0     0    0     0  "
       ]
      },
      {
       "output_type": "stream",
       "stream": "stderr",
       "text": [
        "  0     0      0      0 --:--:--  0:01:03 --:--:--     0"
       ]
      },
      {
       "output_type": "stream",
       "stream": "stderr",
       "text": [
        "\r",
        "  0     0    0     0    0   "
       ]
      },
      {
       "output_type": "stream",
       "stream": "stderr",
       "text": [
        "  0      0      0 --:--:--  0:01:04 --:--:--     0"
       ]
      },
      {
       "output_type": "stream",
       "stream": "stderr",
       "text": [
        "\r",
        "  0     0    0     0    0   "
       ]
      },
      {
       "output_type": "stream",
       "stream": "stderr",
       "text": [
        "  0      0      0 --:--:--  0:01:05 --:--:--     0"
       ]
      },
      {
       "output_type": "stream",
       "stream": "stderr",
       "text": [
        "\r",
        "  0     0    0     0    0 "
       ]
      },
      {
       "output_type": "stream",
       "stream": "stderr",
       "text": [
        "    0      0      0 --:--:--  0:01:06 --:--:--     0"
       ]
      },
      {
       "output_type": "stream",
       "stream": "stderr",
       "text": [
        "\r",
        "  0     0    0     0    0  "
       ]
      },
      {
       "output_type": "stream",
       "stream": "stderr",
       "text": [
        "   0      0      0 --:--:--  0:01:07 --:--:--     0"
       ]
      },
      {
       "output_type": "stream",
       "stream": "stderr",
       "text": [
        "\r",
        "  0     0    0     0    0   "
       ]
      },
      {
       "output_type": "stream",
       "stream": "stderr",
       "text": [
        "  0      0      0 --:--:--  0:01:08 --:--:--     0"
       ]
      },
      {
       "output_type": "stream",
       "stream": "stderr",
       "text": [
        "\r",
        "  0     0    0     0    0   "
       ]
      },
      {
       "output_type": "stream",
       "stream": "stderr",
       "text": [
        "  0      0      0 --:--:--  0:01:09 --:--:--     0"
       ]
      },
      {
       "output_type": "stream",
       "stream": "stderr",
       "text": [
        "\r",
        "  0     0    0     0    0     "
       ]
      },
      {
       "output_type": "stream",
       "stream": "stderr",
       "text": [
        "0      0      0 --:--:--  0:01:10 --:--:--     0"
       ]
      },
      {
       "output_type": "stream",
       "stream": "stderr",
       "text": [
        "\r",
        "  0     0    0     0    0  "
       ]
      },
      {
       "output_type": "stream",
       "stream": "stderr",
       "text": [
        "   0      0      0 --:--:--  0:01:11 --:--:--     0"
       ]
      },
      {
       "output_type": "stream",
       "stream": "stderr",
       "text": [
        "\r",
        "  0     0    0     0    0   "
       ]
      },
      {
       "output_type": "stream",
       "stream": "stderr",
       "text": [
        "  0      0      0 --:--:--  0:01:12 --:--:--     0"
       ]
      },
      {
       "output_type": "stream",
       "stream": "stderr",
       "text": [
        "\r",
        "  0     0    0     0    0     "
       ]
      },
      {
       "output_type": "stream",
       "stream": "stderr",
       "text": [
        "0      0      0 --:--:--  0:01:13 --:--:--     0"
       ]
      },
      {
       "output_type": "stream",
       "stream": "stderr",
       "text": [
        "\r",
        "  0     0    0     0    0     0      0      0 -"
       ]
      },
      {
       "output_type": "stream",
       "stream": "stderr",
       "text": [
        "-:--:--  0:01:14 --:--:--     0"
       ]
      },
      {
       "output_type": "stream",
       "stream": "stderr",
       "text": [
        "\r",
        "  0     0    0     0    0   "
       ]
      },
      {
       "output_type": "stream",
       "stream": "stderr",
       "text": [
        "  0      0      0 --:--:--  0:01:15 --:--:--     0"
       ]
      },
      {
       "output_type": "stream",
       "stream": "stderr",
       "text": [
        "\r",
        "  0     0    0     0    0     0      0      0 --"
       ]
      },
      {
       "output_type": "stream",
       "stream": "stderr",
       "text": [
        ":--:--  0:01:16 --:--:--     0"
       ]
      },
      {
       "output_type": "stream",
       "stream": "stderr",
       "text": [
        "\r",
        "  0     0    0     0    0     0      0      0 -"
       ]
      },
      {
       "output_type": "stream",
       "stream": "stderr",
       "text": [
        "-:--:--  0:01:17 --:--:--     0"
       ]
      },
      {
       "output_type": "stream",
       "stream": "stderr",
       "text": [
        "\r",
        "  0     0    0     0    0     0      0 "
       ]
      },
      {
       "output_type": "stream",
       "stream": "stderr",
       "text": [
        "     0 --:--:--  0:01:18 --:--:--     0"
       ]
      },
      {
       "output_type": "stream",
       "stream": "stderr",
       "text": [
        "\r",
        "  0     0    0     0    0     0      0      0 --:--:--  0:01:19 --:--:--     0"
       ]
      },
      {
       "output_type": "stream",
       "stream": "stderr",
       "text": [
        "\r",
        "  0     0    0     0    0    "
       ]
      },
      {
       "output_type": "stream",
       "stream": "stderr",
       "text": [
        " 0      0      0 --:--:--  0:01:20 --:--:--     0"
       ]
      },
      {
       "output_type": "stream",
       "stream": "stderr",
       "text": [
        "\r",
        "  0     0    0     0    0     0      0 "
       ]
      },
      {
       "output_type": "stream",
       "stream": "stderr",
       "text": [
        "     0 --:--:--  0:01:21 --:--:--     0"
       ]
      },
      {
       "output_type": "stream",
       "stream": "stderr",
       "text": [
        "\r",
        "  0     0    0     0    0    "
       ]
      },
      {
       "output_type": "stream",
       "stream": "stderr",
       "text": [
        " 0      0      0 --:--:--  0:01:22 --:--:--     0"
       ]
      },
      {
       "output_type": "stream",
       "stream": "stderr",
       "text": [
        "\r",
        "  0     0    0     0    0     "
       ]
      },
      {
       "output_type": "stream",
       "stream": "stderr",
       "text": [
        "0      0      0 --:--:--  0:01:23 --:--:--     0"
       ]
      },
      {
       "output_type": "stream",
       "stream": "stderr",
       "text": [
        "\r",
        "  0     0    0     0"
       ]
      },
      {
       "output_type": "stream",
       "stream": "stderr",
       "text": [
        "    0     0      0      0 --:--:--  0:01:24 --:--:--     0"
       ]
      },
      {
       "output_type": "stream",
       "stream": "stderr",
       "text": [
        "\r",
        "  0     0    0  "
       ]
      },
      {
       "output_type": "stream",
       "stream": "stderr",
       "text": [
        "   0    0     0      0      0 --:--:--  0:01:25 --:--:--     0"
       ]
      },
      {
       "output_type": "stream",
       "stream": "stderr",
       "text": [
        "\r",
        "  0     0    0     0    0     0      0  "
       ]
      },
      {
       "output_type": "stream",
       "stream": "stderr",
       "text": [
        "    0 --:--:--  0:01:26 --:--:--     0"
       ]
      },
      {
       "output_type": "stream",
       "stream": "stderr",
       "text": [
        "\r",
        "  0     0    0     0    0     0      0      0 --:--:--  0:01:"
       ]
      },
      {
       "output_type": "stream",
       "stream": "stderr",
       "text": [
        "27 --:--:--     0"
       ]
      },
      {
       "output_type": "stream",
       "stream": "stderr",
       "text": [
        "\r",
        "  0     0    0     0    0     0      0      0 --:-"
       ]
      },
      {
       "output_type": "stream",
       "stream": "stderr",
       "text": [
        "-:--  0:01:28 --:--:--     0"
       ]
      },
      {
       "output_type": "stream",
       "stream": "stderr",
       "text": [
        "\r",
        "  0     0    0     0    0     "
       ]
      },
      {
       "output_type": "stream",
       "stream": "stderr",
       "text": [
        "0      0      0 --:--:--  0:01:29 --:--:--     0"
       ]
      },
      {
       "output_type": "stream",
       "stream": "stderr",
       "text": [
        "\r",
        "  0     0  "
       ]
      },
      {
       "output_type": "stream",
       "stream": "stderr",
       "text": [
        "  0     0    0     0      0      0 --:--:--  0:01:30 --:--:--     0"
       ]
      },
      {
       "output_type": "stream",
       "stream": "stderr",
       "text": [
        "\r",
        "  0     0    0     0    0     0      0      0 --:"
       ]
      },
      {
       "output_type": "stream",
       "stream": "stderr",
       "text": [
        "--:--  0:01:31 --:--:--     0"
       ]
      },
      {
       "output_type": "stream",
       "stream": "stderr",
       "text": [
        "\r",
        "  0     0    0     0   "
       ]
      },
      {
       "output_type": "stream",
       "stream": "stderr",
       "text": [
        " 0     0      0      0 --:--:--  0:01:32 --:--:--     0"
       ]
      },
      {
       "output_type": "stream",
       "stream": "stderr",
       "text": [
        "\r",
        "  0     0    0     0    0     0      0      0 --:--:--"
       ]
      },
      {
       "output_type": "stream",
       "stream": "stderr",
       "text": [
        "  0:01:33 --:--:--     0"
       ]
      },
      {
       "output_type": "stream",
       "stream": "stderr",
       "text": [
        "\r",
        "  0     0    0     0    0     0      0      0 --:--:--  0:01:34 --:--:--     0"
       ]
      },
      {
       "output_type": "stream",
       "stream": "stderr",
       "text": [
        "\r",
        "  0     0    0     0    0     0      0     "
       ]
      },
      {
       "output_type": "stream",
       "stream": "stderr",
       "text": [
        " 0 --:--:--  0:01:35 --:--:--     0"
       ]
      },
      {
       "output_type": "stream",
       "stream": "stderr",
       "text": [
        "\r",
        "  0     0    0     0    0     0      0      0 "
       ]
      },
      {
       "output_type": "stream",
       "stream": "stderr",
       "text": [
        "--:--:--  0:01:36 --:--:--     0"
       ]
      },
      {
       "output_type": "stream",
       "stream": "stderr",
       "text": [
        "\r",
        "  0     0    0     0    0     0"
       ]
      },
      {
       "output_type": "stream",
       "stream": "stderr",
       "text": [
        "      0      0 --:--:--  0:01:37 --:--:--     0"
       ]
      },
      {
       "output_type": "stream",
       "stream": "stderr",
       "text": [
        "\r",
        "  0     0    0     0    0     0  "
       ]
      },
      {
       "output_type": "stream",
       "stream": "stderr",
       "text": [
        "    0      0 --:--:--  0:01:38 --:--:--     0"
       ]
      },
      {
       "output_type": "stream",
       "stream": "stderr",
       "text": [
        "\r",
        "  0     0   "
       ]
      },
      {
       "output_type": "stream",
       "stream": "stderr",
       "text": [
        " 0     0    0     0      0      0 --:--:--  0:01:39 --:--:--     0"
       ]
      },
      {
       "output_type": "stream",
       "stream": "stderr",
       "text": [
        "\r",
        "  0     0    0     0    0     0  "
       ]
      },
      {
       "output_type": "stream",
       "stream": "stderr",
       "text": [
        "    0      0 --:--:--  0:01:40 --:--:--     0"
       ]
      },
      {
       "output_type": "stream",
       "stream": "stderr",
       "text": [
        "\r",
        "  0     0    0     0    0     0      0      0 --:--:--"
       ]
      },
      {
       "output_type": "stream",
       "stream": "stderr",
       "text": [
        "  0:01:41 --:--:--     0"
       ]
      },
      {
       "output_type": "stream",
       "stream": "stderr",
       "text": [
        "\r",
        "  0     0    0     0    0     0      0      0 --:--:--  0:01:42 --:--:--     0"
       ]
      },
      {
       "output_type": "stream",
       "stream": "stderr",
       "text": [
        "\r",
        "  0     0    0     0    0     0      0      0 --:--:--  0"
       ]
      },
      {
       "output_type": "stream",
       "stream": "stderr",
       "text": [
        ":01:43 --:--:--     0"
       ]
      },
      {
       "output_type": "stream",
       "stream": "stderr",
       "text": [
        "\r",
        "  0     0    0     0  "
       ]
      },
      {
       "output_type": "stream",
       "stream": "stderr",
       "text": [
        "  0     0      0      0 --:--:--  0:01:44 --:--:--     0"
       ]
      },
      {
       "output_type": "stream",
       "stream": "stderr",
       "text": [
        "\r",
        "  0     0    0  "
       ]
      },
      {
       "output_type": "stream",
       "stream": "stderr",
       "text": [
        "   0    0     0      0      0 --:--:--  0:01:45 --:--:--     0"
       ]
      },
      {
       "output_type": "stream",
       "stream": "stderr",
       "text": [
        "\r",
        "  0     0  "
       ]
      },
      {
       "output_type": "stream",
       "stream": "stderr",
       "text": [
        "  0     0    0     0      0      0 --:--:--  0:01:46 --:--:--     0"
       ]
      },
      {
       "output_type": "stream",
       "stream": "stderr",
       "text": [
        "\r",
        "  0     0    0     0    0     0      0      0 --:--:--  0:01:47 --:--:--     0"
       ]
      },
      {
       "output_type": "stream",
       "stream": "stderr",
       "text": [
        "\r",
        "  0     0    0     0    0  "
       ]
      },
      {
       "output_type": "stream",
       "stream": "stderr",
       "text": [
        "   0      0      0 --:--:--  0:01:48 --:--:--     0"
       ]
      },
      {
       "output_type": "stream",
       "stream": "stderr",
       "text": [
        "\r",
        "  0     0    0     0    0 "
       ]
      },
      {
       "output_type": "stream",
       "stream": "stderr",
       "text": [
        "    0      0      0 --:--:--  0:01:49 --:--:--     0"
       ]
      },
      {
       "output_type": "stream",
       "stream": "stderr",
       "text": [
        "\r",
        "  0     0    0     0    0     0      0      0 --:--:--  0:01:50 --:"
       ]
      },
      {
       "output_type": "stream",
       "stream": "stderr",
       "text": [
        "--:--     0"
       ]
      },
      {
       "output_type": "stream",
       "stream": "stderr",
       "text": [
        "\r",
        "  0     0    0     0    "
       ]
      },
      {
       "output_type": "stream",
       "stream": "stderr",
       "text": [
        "0     0      0      0 --:--:--  0:01:51 --:--:--     0"
       ]
      },
      {
       "output_type": "stream",
       "stream": "stderr",
       "text": [
        "\r",
        "  0     0    0     0    0     0      0      0 --:--:--  0:01:52 "
       ]
      },
      {
       "output_type": "stream",
       "stream": "stderr",
       "text": [
        "--:--:--     0"
       ]
      },
      {
       "output_type": "stream",
       "stream": "stderr",
       "text": [
        "\r",
        "  0     0    0     0    0   "
       ]
      },
      {
       "output_type": "stream",
       "stream": "stderr",
       "text": [
        "  0      0      0 --:--:--  0:01:53 --:--:--     0"
       ]
      },
      {
       "output_type": "stream",
       "stream": "stderr",
       "text": [
        "\r",
        "  0     0    0     0    0  "
       ]
      },
      {
       "output_type": "stream",
       "stream": "stderr",
       "text": [
        "   0      0      0 --:--:--  0:01:54 --:--:--     0"
       ]
      },
      {
       "output_type": "stream",
       "stream": "stderr",
       "text": [
        "\r",
        "  0     0    0     0    0  "
       ]
      },
      {
       "output_type": "stream",
       "stream": "stderr",
       "text": [
        "   0      0      0 --:--:--  0:01:55 --:--:--     0"
       ]
      },
      {
       "output_type": "stream",
       "stream": "stderr",
       "text": [
        "\r",
        "  0     0    0     0    0     0      0      0 --:--:--"
       ]
      },
      {
       "output_type": "stream",
       "stream": "stderr",
       "text": [
        "  0:01:56 --:--:--     0"
       ]
      },
      {
       "output_type": "stream",
       "stream": "stderr",
       "text": [
        "\r",
        "  0     0    0     0    0   "
       ]
      },
      {
       "output_type": "stream",
       "stream": "stderr",
       "text": [
        "  0      0      0 --:--:--  0:01:57 --:--:--     0"
       ]
      },
      {
       "output_type": "stream",
       "stream": "stderr",
       "text": [
        "\r",
        "  0     0    0     0    0     0 "
       ]
      },
      {
       "output_type": "stream",
       "stream": "stderr",
       "text": [
        "     0      0 --:--:--  0:01:58 --:--:--     0"
       ]
      },
      {
       "output_type": "stream",
       "stream": "stderr",
       "text": [
        "\r",
        "  0     0    0     0    0     0"
       ]
      },
      {
       "output_type": "stream",
       "stream": "stderr",
       "text": [
        "      0      0 --:--:--  0:01:59 --:--:--     0"
       ]
      },
      {
       "output_type": "stream",
       "stream": "stderr",
       "text": [
        "\r",
        "  0     0    0     0    "
       ]
      },
      {
       "output_type": "stream",
       "stream": "stderr",
       "text": [
        "0     0      0      0 --:--:--  0:02:00 --:--:--     0"
       ]
      },
      {
       "output_type": "stream",
       "stream": "stderr",
       "text": [
        "\r",
        "  0     0    0     0    0     0      0      0 --:--:--  0:02:01 --:--:--     0"
       ]
      },
      {
       "output_type": "stream",
       "stream": "stderr",
       "text": [
        "\r",
        "  0     0    0     0    0  "
       ]
      },
      {
       "output_type": "stream",
       "stream": "stderr",
       "text": [
        "   0      0      0 --:--:--  0:02:02 --:--:--     0"
       ]
      },
      {
       "output_type": "stream",
       "stream": "stderr",
       "text": [
        "\r",
        "  0     0    0     0    0    "
       ]
      },
      {
       "output_type": "stream",
       "stream": "stderr",
       "text": [
        " 0      0      0 --:--:--  0:02:03 --:--:--     0"
       ]
      },
      {
       "output_type": "stream",
       "stream": "stderr",
       "text": [
        "\r",
        "  0     0    0     0    0     0 "
       ]
      },
      {
       "output_type": "stream",
       "stream": "stderr",
       "text": [
        "     0      0 --:--:--  0:02:04 --:--:--     0"
       ]
      },
      {
       "output_type": "stream",
       "stream": "stderr",
       "text": [
        "\r",
        "  0     0    0     0    0    "
       ]
      },
      {
       "output_type": "stream",
       "stream": "stderr",
       "text": [
        " 0      0      0 --:--:--  0:02:05 --:--:--     0"
       ]
      },
      {
       "output_type": "stream",
       "stream": "stderr",
       "text": [
        "\r",
        "  0     0    0     0    "
       ]
      },
      {
       "output_type": "stream",
       "stream": "stderr",
       "text": [
        "0     0      0      0 --:--:--  0:02:06 --:--:--     0"
       ]
      },
      {
       "output_type": "stream",
       "stream": "stderr",
       "text": [
        "\r",
        "  0     0    0"
       ]
      },
      {
       "output_type": "stream",
       "stream": "stderr",
       "text": [
        "     0    0     0      0      0 --:--:--  0:02:07 --:--:--     0"
       ]
      },
      {
       "output_type": "stream",
       "stream": "stderr",
       "text": [
        "\r",
        "  0     0    0     0    0     0      0      0 --:--:--  0:02"
       ]
      },
      {
       "output_type": "stream",
       "stream": "stderr",
       "text": [
        ":08 --:--:--     0"
       ]
      },
      {
       "output_type": "stream",
       "stream": "stderr",
       "text": [
        "\r",
        "  0     0    0     0  "
       ]
      },
      {
       "output_type": "stream",
       "stream": "stderr",
       "text": [
        "  0     0      0      0 --:--:--  0:02:09 --:--:--     0"
       ]
      },
      {
       "output_type": "stream",
       "stream": "stderr",
       "text": [
        "\r",
        "  0     0    0     0    0     0      0  "
       ]
      },
      {
       "output_type": "stream",
       "stream": "stderr",
       "text": [
        "    0 --:--:--  0:02:10 --:--:--     0"
       ]
      },
      {
       "output_type": "stream",
       "stream": "stderr",
       "text": [
        "\r",
        "  0     0    0    "
       ]
      },
      {
       "output_type": "stream",
       "stream": "stderr",
       "text": [
        " 0    0     0      0      0 --:--:--  0:02:11 --:--:--     0"
       ]
      },
      {
       "output_type": "stream",
       "stream": "stderr",
       "text": [
        "\r",
        "  0     0    0     0    0     "
       ]
      },
      {
       "output_type": "stream",
       "stream": "stderr",
       "text": [
        "0      0      0 --:--:--  0:02:12 --:--:--     0"
       ]
      },
      {
       "output_type": "stream",
       "stream": "stderr",
       "text": [
        "\r",
        "  0     0    0     0    0     0      0      0 --:--:--"
       ]
      },
      {
       "output_type": "stream",
       "stream": "stderr",
       "text": [
        "  0:02:13 --:--:--     0"
       ]
      },
      {
       "output_type": "stream",
       "stream": "stderr",
       "text": [
        "\r",
        "  0     0    0     0    0 "
       ]
      },
      {
       "output_type": "stream",
       "stream": "stderr",
       "text": [
        "    0      0      0 --:--:--  0:02:14 --:--:--     0"
       ]
      },
      {
       "output_type": "stream",
       "stream": "stderr",
       "text": [
        "\r",
        "  0     0    0     0    0     0      0     "
       ]
      },
      {
       "output_type": "stream",
       "stream": "stderr",
       "text": [
        " 0 --:--:--  0:02:15 --:--:--     0"
       ]
      },
      {
       "output_type": "stream",
       "stream": "stderr",
       "text": [
        "\r",
        "  0     0    0     0    0     0 "
       ]
      },
      {
       "output_type": "stream",
       "stream": "stderr",
       "text": [
        "     0      0 --:--:--  0:02:16 --:--:--     0"
       ]
      },
      {
       "output_type": "stream",
       "stream": "stderr",
       "text": [
        "\r",
        "  0     0    0     0   "
       ]
      },
      {
       "output_type": "stream",
       "stream": "stderr",
       "text": [
        " 0     0      0      0 --:--:--  0:02:17 --:--:--     0"
       ]
      },
      {
       "output_type": "stream",
       "stream": "stderr",
       "text": [
        "\r",
        "  0     0    0     0    0     0      0      0 --:--:--  0:02:18 --:--:--     0"
       ]
      },
      {
       "output_type": "stream",
       "stream": "stderr",
       "text": [
        "\r",
        "  0     0    0     0    "
       ]
      },
      {
       "output_type": "stream",
       "stream": "stderr",
       "text": [
        "0     0      0      0 --:--:--  0:02:19 --:--:--     0"
       ]
      },
      {
       "output_type": "stream",
       "stream": "stderr",
       "text": [
        "\r",
        "  0     0    0 "
       ]
      },
      {
       "output_type": "stream",
       "stream": "stderr",
       "text": [
        "    0    0     0      0      0 --:--:--  0:02:20 --:--:--     0"
       ]
      },
      {
       "output_type": "stream",
       "stream": "stderr",
       "text": [
        "\r",
        "  0     0    0     0    0  "
       ]
      },
      {
       "output_type": "stream",
       "stream": "stderr",
       "text": [
        "   0      0      0 --:--:--  0:02:21 --:--:--     0"
       ]
      },
      {
       "output_type": "stream",
       "stream": "stderr",
       "text": [
        "\r",
        "  0     0    0     0    0     0      0      0 --:--:--  0:02:22"
       ]
      },
      {
       "output_type": "stream",
       "stream": "stderr",
       "text": [
        " --:--:--     0"
       ]
      },
      {
       "output_type": "stream",
       "stream": "stderr",
       "text": [
        "\r",
        "  0     0    0     0    0     0      0      0 --:--:--  0:02:23 --:-"
       ]
      },
      {
       "output_type": "stream",
       "stream": "stderr",
       "text": [
        "-:--     0"
       ]
      },
      {
       "output_type": "stream",
       "stream": "stderr",
       "text": [
        "\r",
        "  0     0    0     0    0   "
       ]
      },
      {
       "output_type": "stream",
       "stream": "stderr",
       "text": [
        "  0      0      0 --:--:--  0:02:24 --:--:--     0"
       ]
      },
      {
       "output_type": "stream",
       "stream": "stderr",
       "text": [
        "\r",
        "  0     0    0     0    0     0      0      0 --:--:--  0:02:25 --:--:--  "
       ]
      },
      {
       "output_type": "stream",
       "stream": "stderr",
       "text": [
        "   0"
       ]
      },
      {
       "output_type": "stream",
       "stream": "stderr",
       "text": [
        "\r",
        "  0     0    0     0   "
       ]
      },
      {
       "output_type": "stream",
       "stream": "stderr",
       "text": [
        " 0     0      0      0 --:--:--  0:02:26 --:--:--     0"
       ]
      },
      {
       "output_type": "stream",
       "stream": "stderr",
       "text": [
        "\r",
        "  0     0    0     0    0 "
       ]
      },
      {
       "output_type": "stream",
       "stream": "stderr",
       "text": [
        "    0      0      0 --:--:--  0:02:27 --:--:--     0"
       ]
      },
      {
       "output_type": "stream",
       "stream": "stderr",
       "text": [
        "\r",
        "  0     0    0     0    0   "
       ]
      },
      {
       "output_type": "stream",
       "stream": "stderr",
       "text": [
        "  0      0      0 --:--:--  0:02:28 --:--:--     0"
       ]
      },
      {
       "output_type": "stream",
       "stream": "stderr",
       "text": [
        "\r",
        "  0     0    0     0  "
       ]
      },
      {
       "output_type": "stream",
       "stream": "stderr",
       "text": [
        "  0     0      0      0 --:--:--  0:02:29 --:--:--     0"
       ]
      },
      {
       "output_type": "stream",
       "stream": "stderr",
       "text": [
        "\r",
        "100  1183  100  1183    0"
       ]
      },
      {
       "output_type": "stream",
       "stream": "stderr",
       "text": [
        "     0      7      0  0:02:49  0:02:30  0:00:19   243\r",
        "100  1183  100  1183    0     0      7      0  0:02:49  0:02:30  0:00:19   306\n"
       ]
      },
      {
       "ename": "LoadError",
       "evalue": "unexpected character '<' after quoted field at row 2 column 6\nwhile loading In[20], in expression starting on line 2",
       "output_type": "pyerr",
       "traceback": [
        "unexpected character '<' after quoted field at row 2 column 6\nwhile loading In[20], in expression starting on line 2",
        " in error at error.jl:21",
        " in dlm_parse at datafmt.jl:482",
        " in dlm_parse at datafmt.jl:329",
        " in readdlm_string at datafmt.jl:259",
        " in readdlm_auto at datafmt.jl:59",
        " in readdlm at datafmt.jl:49",
        " in readdlm at datafmt.jl:46"
       ]
      }
     ],
     "prompt_number": 20
    },
    {
     "cell_type": "markdown",
     "metadata": {},
     "source": [
      "I found a particularly nice picture showing the diffusion of copper sulfate through an aqueous solution, showing a color gradient which corresponds very neatly with the gradient shown in the gamut!\n",
      "\n",
      "![Copper sulfate diffusion in solution](http://www.nuffieldfoundation.org/sites/default/files/images/Diffusion%20of%20copper%20sulfate%20solution%20in%20water2_2262.jpg)"
     ]
    },
    {
     "cell_type": "markdown",
     "metadata": {},
     "source": [
      "### Copper(II) chlorophyllin\n",
      "\n",
      "This chlorophyll derivative is used as an edible dye (food additive E141) to give food the color of fresh leaves. So one would expect this to be a nice shade of green."
     ]
    },
    {
     "cell_type": "code",
     "collapsed": false,
     "input": [
      "filename=download(\"http://wwwchem.uwimona.edu.jm/spectra/e141.jdx\")\n",
      "rawspectrum=readdlm(filename, skipstart=30)\n",
      "#The columns are wavelength (nm) and molar extinction coefficient (M-1 cm-1)\n",
      "\n",
      "A=AbsorbanceSpectrum(rawspectrum[:,1], rawspectrum[:,2])\n",
      "showcolors(A)"
     ],
     "language": "python",
     "metadata": {},
     "outputs": [
      {
       "output_type": "stream",
       "stream": "stderr",
       "text": [
        "  % Total    % Received % Xferd  Average Speed   Time    Time     Time  Current\n",
        "                                 Dload  Upload   Total   Spent    Left  Speed\n",
        "\r",
        "  0     0    0     0    0     0      0      0 --:--:-- --:--:-- --:--:--     0"
       ]
      },
      {
       "output_type": "stream",
       "stream": "stderr",
       "text": [
        "\r",
        "  0     0    0     0    "
       ]
      },
      {
       "output_type": "stream",
       "stream": "stderr",
       "text": [
        "0     0      0      0 --:--:--  0:00:01 --:--:--     0"
       ]
      },
      {
       "output_type": "stream",
       "stream": "stderr",
       "text": [
        "\r",
        "  0     0    0"
       ]
      },
      {
       "output_type": "stream",
       "stream": "stderr",
       "text": [
        "     0    0     0      0      0 --:--:--  0:00:02 --:--:--     0"
       ]
      },
      {
       "output_type": "stream",
       "stream": "stderr",
       "text": [
        "\r",
        "  0     0    0     0    0     0   "
       ]
      },
      {
       "output_type": "stream",
       "stream": "stderr",
       "text": [
        "   0      0 --:--:--  0:00:03 --:--:--     0"
       ]
      },
      {
       "output_type": "stream",
       "stream": "stderr",
       "text": [
        "\r",
        "  0     0    0     0    0  "
       ]
      },
      {
       "output_type": "stream",
       "stream": "stderr",
       "text": [
        "   0      0      0 --:--:--  0:00:04 --:--:--     0"
       ]
      },
      {
       "output_type": "stream",
       "stream": "stderr",
       "text": [
        "\r",
        "  0     0    0     0    0     0      0"
       ]
      },
      {
       "output_type": "stream",
       "stream": "stderr",
       "text": [
        "      0 --:--:--  0:00:05 --:--:--     0"
       ]
      },
      {
       "output_type": "stream",
       "stream": "stderr",
       "text": [
        "\r",
        "  0     0    0     0    0     0      0  "
       ]
      },
      {
       "output_type": "stream",
       "stream": "stderr",
       "text": [
        "    0 --:--:--  0:00:06 --:--:--     0"
       ]
      },
      {
       "output_type": "stream",
       "stream": "stderr",
       "text": [
        "\r",
        "  0     0    0     0    0     "
       ]
      },
      {
       "output_type": "stream",
       "stream": "stderr",
       "text": [
        "0      0      0 --:--:--  0:00:07 --:--:--     0"
       ]
      },
      {
       "output_type": "stream",
       "stream": "stderr",
       "text": [
        "\r",
        "  0     0    0     0    "
       ]
      },
      {
       "output_type": "stream",
       "stream": "stderr",
       "text": [
        "0     0      0      0 --:--:--  0:00:08 --:--:--     0"
       ]
      },
      {
       "output_type": "stream",
       "stream": "stderr",
       "text": [
        "\r",
        "  0     0    0     0    0  "
       ]
      },
      {
       "output_type": "stream",
       "stream": "stderr",
       "text": [
        "   0      0      0 --:--:--  0:00:09 --:--:--     0"
       ]
      },
      {
       "output_type": "stream",
       "stream": "stderr",
       "text": [
        "\r",
        "  0     0    0     0    0   "
       ]
      },
      {
       "output_type": "stream",
       "stream": "stderr",
       "text": [
        "  0      0      0 --:--:--  0:00:10 --:--:--     0"
       ]
      },
      {
       "output_type": "stream",
       "stream": "stderr",
       "text": [
        "\r",
        "  0     0    0     0    0     0  "
       ]
      },
      {
       "output_type": "stream",
       "stream": "stderr",
       "text": [
        "    0      0 --:--:--  0:00:11 --:--:--     0"
       ]
      },
      {
       "output_type": "stream",
       "stream": "stderr",
       "text": [
        "\r",
        "  0     0    0     0    0    "
       ]
      },
      {
       "output_type": "stream",
       "stream": "stderr",
       "text": [
        " 0      0      0 --:--:--  0:00:12 --:--:--     0"
       ]
      },
      {
       "output_type": "stream",
       "stream": "stderr",
       "text": [
        "\r",
        "  0     0    0     0    0  "
       ]
      },
      {
       "output_type": "stream",
       "stream": "stderr",
       "text": [
        "   0      0      0 --:--:--  0:00:13 --:--:--     0"
       ]
      },
      {
       "output_type": "stream",
       "stream": "stderr",
       "text": [
        "\r",
        "  0     0    0     0    0 "
       ]
      },
      {
       "output_type": "stream",
       "stream": "stderr",
       "text": [
        "    0      0      0 --:--:--  0:00:14 --:--:--     0"
       ]
      },
      {
       "output_type": "stream",
       "stream": "stderr",
       "text": [
        "\r",
        "  0     0    0     0    0     0    "
       ]
      },
      {
       "output_type": "stream",
       "stream": "stderr",
       "text": [
        "  0      0 --:--:--  0:00:15 --:--:--     0"
       ]
      },
      {
       "output_type": "stream",
       "stream": "stderr",
       "text": [
        "\r",
        "  0     0    0     0    0  "
       ]
      },
      {
       "output_type": "stream",
       "stream": "stderr",
       "text": [
        "   0      0      0 --:--:--  0:00:16 --:--:--     0"
       ]
      },
      {
       "output_type": "stream",
       "stream": "stderr",
       "text": [
        "\r",
        "  0     0    0     0    0    "
       ]
      },
      {
       "output_type": "stream",
       "stream": "stderr",
       "text": [
        " 0      0      0 --:--:--  0:00:17 --:--:--     0"
       ]
      },
      {
       "output_type": "stream",
       "stream": "stderr",
       "text": [
        "\r",
        "  0     0    0     0    0  "
       ]
      },
      {
       "output_type": "stream",
       "stream": "stderr",
       "text": [
        "   0      0      0 --:--:--  0:00:18 --:--:--     0"
       ]
      },
      {
       "output_type": "stream",
       "stream": "stderr",
       "text": [
        "\r",
        "  0     0    0     0    0  "
       ]
      },
      {
       "output_type": "stream",
       "stream": "stderr",
       "text": [
        "   0      0      0 --:--:--  0:00:19 --:--:--     0"
       ]
      },
      {
       "output_type": "stream",
       "stream": "stderr",
       "text": [
        "\r",
        "  0     0    0     0    0     0      0      "
       ]
      },
      {
       "output_type": "stream",
       "stream": "stderr",
       "text": [
        "0 --:--:--  0:00:20 --:--:--     0"
       ]
      },
      {
       "output_type": "stream",
       "stream": "stderr",
       "text": [
        "\r",
        "  0     0    0     0    0     0  "
       ]
      },
      {
       "output_type": "stream",
       "stream": "stderr",
       "text": [
        "    0      0 --:--:--  0:00:21 --:--:--     0"
       ]
      },
      {
       "output_type": "stream",
       "stream": "stderr",
       "text": [
        "\r",
        "  0     0    0     0    0    "
       ]
      },
      {
       "output_type": "stream",
       "stream": "stderr",
       "text": [
        " 0      0      0 --:--:--  0:00:22 --:--:--     0"
       ]
      },
      {
       "output_type": "stream",
       "stream": "stderr",
       "text": [
        "\r",
        "  0     0    0     0    0    "
       ]
      },
      {
       "output_type": "stream",
       "stream": "stderr",
       "text": [
        " 0      0      0 --:--:--  0:00:23 --:--:--     0"
       ]
      },
      {
       "output_type": "stream",
       "stream": "stderr",
       "text": [
        "\r",
        "  0     0    0     0    0     0      0    "
       ]
      },
      {
       "output_type": "stream",
       "stream": "stderr",
       "text": [
        "  0 --:--:--  0:00:24 --:--:--     0"
       ]
      },
      {
       "output_type": "stream",
       "stream": "stderr",
       "text": [
        "\r",
        "  0     0    0     0    0     0      0      0 --:--:-"
       ]
      },
      {
       "output_type": "stream",
       "stream": "stderr",
       "text": [
        "-  0:00:25 --:--:--     0"
       ]
      },
      {
       "output_type": "stream",
       "stream": "stderr",
       "text": [
        "\r",
        "  0     0    0     0    0     0      "
       ]
      },
      {
       "output_type": "stream",
       "stream": "stderr",
       "text": [
        "0      0 --:--:--  0:00:26 --:--:--     0"
       ]
      },
      {
       "output_type": "stream",
       "stream": "stderr",
       "text": [
        "\r",
        "  0     0    0     0    0     0      0      0 --:"
       ]
      },
      {
       "output_type": "stream",
       "stream": "stderr",
       "text": [
        "--:--  0:00:27 --:--:--     0"
       ]
      },
      {
       "output_type": "stream",
       "stream": "stderr",
       "text": [
        "\r",
        "  0     0    0     0    0   "
       ]
      },
      {
       "output_type": "stream",
       "stream": "stderr",
       "text": [
        "  0      0      0 --:--:--  0:00:28 --:--:--     0"
       ]
      },
      {
       "output_type": "stream",
       "stream": "stderr",
       "text": [
        "\r",
        "  0     0    0     0    0   "
       ]
      },
      {
       "output_type": "stream",
       "stream": "stderr",
       "text": [
        "  0      0      0 --:--:--  0:00:29 --:--:--     0"
       ]
      },
      {
       "output_type": "stream",
       "stream": "stderr",
       "text": [
        "\r",
        "  0     0    0     0    0   "
       ]
      },
      {
       "output_type": "stream",
       "stream": "stderr",
       "text": [
        "  0      0      0 --:--:--  0:00:30 --:--:--     0"
       ]
      },
      {
       "output_type": "stream",
       "stream": "stderr",
       "text": [
        "\r",
        "  0     0    0     0    0   "
       ]
      },
      {
       "output_type": "stream",
       "stream": "stderr",
       "text": [
        "  0      0      0 --:--:--  0:00:31 --:--:--     0"
       ]
      },
      {
       "output_type": "stream",
       "stream": "stderr",
       "text": [
        "\r",
        "  0     0    0     0    0     0     "
       ]
      },
      {
       "output_type": "stream",
       "stream": "stderr",
       "text": [
        " 0      0 --:--:--  0:00:32 --:--:--     0"
       ]
      },
      {
       "output_type": "stream",
       "stream": "stderr",
       "text": [
        "\r",
        "  0    "
       ]
      },
      {
       "output_type": "stream",
       "stream": "stderr",
       "text": [
        " 0    0     0    0     0      0      0 --:--:--  0:00:33 --:--:--     0"
       ]
      },
      {
       "output_type": "stream",
       "stream": "stderr",
       "text": [
        "\r",
        "  0     0    0     0    0    "
       ]
      },
      {
       "output_type": "stream",
       "stream": "stderr",
       "text": [
        " 0      0      0 --:--:--  0:00:34 --:--:--     0"
       ]
      },
      {
       "output_type": "stream",
       "stream": "stderr",
       "text": [
        "\r",
        "  0     0    0     0    0     "
       ]
      },
      {
       "output_type": "stream",
       "stream": "stderr",
       "text": [
        "0      0      0 --:--:--  0:00:35 --:--:--     0"
       ]
      },
      {
       "output_type": "stream",
       "stream": "stderr",
       "text": [
        "\r",
        "  0     0    0     0    0     0  "
       ]
      },
      {
       "output_type": "stream",
       "stream": "stderr",
       "text": [
        "    0      0 --:--:--  0:00:36 --:--:--     0"
       ]
      },
      {
       "output_type": "stream",
       "stream": "stderr",
       "text": [
        "\r",
        "  0     0    0     0    0     0   "
       ]
      },
      {
       "output_type": "stream",
       "stream": "stderr",
       "text": [
        "   0      0 --:--:--  0:00:37 --:--:--     0"
       ]
      },
      {
       "output_type": "stream",
       "stream": "stderr",
       "text": [
        "\r",
        "  0     0    0     0    0     0"
       ]
      },
      {
       "output_type": "stream",
       "stream": "stderr",
       "text": [
        "      0      0 --:--:--  0:00:38 --:--:--     0"
       ]
      },
      {
       "output_type": "stream",
       "stream": "stderr",
       "text": [
        "\r",
        "  0     0    0     0    0  "
       ]
      },
      {
       "output_type": "stream",
       "stream": "stderr",
       "text": [
        "   0      0      0 --:--:--  0:00:39 --:--:--     0"
       ]
      },
      {
       "output_type": "stream",
       "stream": "stderr",
       "text": [
        "\r",
        "  0     0 "
       ]
      },
      {
       "output_type": "stream",
       "stream": "stderr",
       "text": [
        "   0     0    0     0      0      0 --:--:--  0:00:40 --:--:--     0"
       ]
      },
      {
       "output_type": "stream",
       "stream": "stderr",
       "text": [
        "\r",
        "  0     0    0     0    "
       ]
      },
      {
       "output_type": "stream",
       "stream": "stderr",
       "text": [
        "0     0      0      0 --:--:--  0:00:41 --:--:--     0"
       ]
      },
      {
       "output_type": "stream",
       "stream": "stderr",
       "text": [
        "\r",
        "  0     0    0     0    0     0      "
       ]
      },
      {
       "output_type": "stream",
       "stream": "stderr",
       "text": [
        "0      0 --:--:--  0:00:42 --:--:--     0"
       ]
      },
      {
       "output_type": "stream",
       "stream": "stderr",
       "text": [
        "\r",
        "  0     0    0     0"
       ]
      },
      {
       "output_type": "stream",
       "stream": "stderr",
       "text": [
        "    0     0      0      0 --:--:--  0:00:43 --:--:--     0"
       ]
      },
      {
       "output_type": "stream",
       "stream": "stderr",
       "text": [
        "\r",
        "  0     0    0     0    0   "
       ]
      },
      {
       "output_type": "stream",
       "stream": "stderr",
       "text": [
        "  0      0      0 --:--:--  0:00:44 --:--:--     0"
       ]
      },
      {
       "output_type": "stream",
       "stream": "stderr",
       "text": [
        "\r",
        "  0     0    0     0    0     0      0      "
       ]
      },
      {
       "output_type": "stream",
       "stream": "stderr",
       "text": [
        "0 --:--:--  0:00:45 --:--:--     0"
       ]
      },
      {
       "output_type": "stream",
       "stream": "stderr",
       "text": [
        "\r",
        "  0     0    0     0    0     0      0     "
       ]
      },
      {
       "output_type": "stream",
       "stream": "stderr",
       "text": [
        " 0 --:--:--  0:00:46 --:--:--     0"
       ]
      },
      {
       "output_type": "stream",
       "stream": "stderr",
       "text": [
        "\r",
        "  0     0    0     0    0     0      0      "
       ]
      },
      {
       "output_type": "stream",
       "stream": "stderr",
       "text": [
        "0 --:--:--  0:02:47 --:--:--     0"
       ]
      },
      {
       "output_type": "stream",
       "stream": "stderr",
       "text": [
        "\r",
        "  0     0    0     0    0     0      0     "
       ]
      },
      {
       "output_type": "stream",
       "stream": "stderr",
       "text": [
        " 0 --:--:--  0:02:48 --:--:--     0"
       ]
      },
      {
       "output_type": "stream",
       "stream": "stderr",
       "text": [
        "\r",
        "  0     0    0     0    0     0   "
       ]
      },
      {
       "output_type": "stream",
       "stream": "stderr",
       "text": [
        "   0      0 --:--:--  0:02:49 --:--:--     0"
       ]
      },
      {
       "output_type": "stream",
       "stream": "stderr",
       "text": [
        "\r",
        "  0     0    0     0    0     0 "
       ]
      },
      {
       "output_type": "stream",
       "stream": "stderr",
       "text": [
        "     0      0 --:--:--  0:02:50 --:--:--     0"
       ]
      },
      {
       "output_type": "stream",
       "stream": "stderr",
       "text": [
        "\r",
        "  0     0    0     0    0     0   "
       ]
      },
      {
       "output_type": "stream",
       "stream": "stderr",
       "text": [
        "   0      0 --:--:--  0:02:51 --:--:--     0"
       ]
      },
      {
       "output_type": "stream",
       "stream": "stderr",
       "text": [
        "\r",
        "  0     0    0     0    0     0      0      0 --:--:--  0:02:52 --:--:--     0"
       ]
      },
      {
       "output_type": "stream",
       "stream": "stderr",
       "text": [
        "\r",
        "  0     0    0     0    0     0  "
       ]
      },
      {
       "output_type": "stream",
       "stream": "stderr",
       "text": [
        "    0      0 --:--:--  0:02:53 --:--:--     0"
       ]
      },
      {
       "output_type": "stream",
       "stream": "stderr",
       "text": [
        "\r",
        "  0     0    0     0    0     0      0      0 --:-"
       ]
      },
      {
       "output_type": "stream",
       "stream": "stderr",
       "text": [
        "-:--  0:02:54 --:--:--     0"
       ]
      },
      {
       "output_type": "stream",
       "stream": "stderr",
       "text": [
        "\r",
        "  0     0    0     0    0     0      0      0"
       ]
      },
      {
       "output_type": "stream",
       "stream": "stderr",
       "text": [
        " --:--:--  0:02:55 --:--:--     0"
       ]
      },
      {
       "output_type": "stream",
       "stream": "stderr",
       "text": [
        "\r",
        "  0     0    0     0    0     0      0    "
       ]
      },
      {
       "output_type": "stream",
       "stream": "stderr",
       "text": [
        "  0 --:--:--  0:02:56 --:--:--     0"
       ]
      },
      {
       "output_type": "stream",
       "stream": "stderr",
       "text": [
        "\r",
        "  0     0    0     0    0     0      0      0 --:--:--  0:02:57 --:--:--     0"
       ]
      },
      {
       "output_type": "stream",
       "stream": "stderr",
       "text": [
        "\r",
        "  0     0    0     0    0     0 "
       ]
      },
      {
       "output_type": "stream",
       "stream": "stderr",
       "text": [
        "     0      0 --:--:--  0:02:58 --:--:--     0"
       ]
      },
      {
       "output_type": "stream",
       "stream": "stderr",
       "text": [
        "\r",
        "  0     0    0     0    0     0      0      0 --:--:--  0:02:59 --:--:--     0"
       ]
      },
      {
       "output_type": "stream",
       "stream": "stderr",
       "text": [
        "\r",
        "100  1183  100  1183    0     0      6      0  0:03:17  "
       ]
      },
      {
       "output_type": "stream",
       "stream": "stderr",
       "text": [
        "0:02:59  0:00:18   275\n"
       ]
      },
      {
       "ename": "LoadError",
       "evalue": "unexpected character '<' after quoted field at row 2 column 6\nwhile loading In[21], in expression starting on line 2",
       "output_type": "pyerr",
       "traceback": [
        "unexpected character '<' after quoted field at row 2 column 6\nwhile loading In[21], in expression starting on line 2",
        " in error at error.jl:21",
        " in dlm_parse at datafmt.jl:482",
        " in dlm_parse at datafmt.jl:329",
        " in readdlm_string at datafmt.jl:259",
        " in readdlm_auto at datafmt.jl:59",
        " in readdlm at datafmt.jl:49",
        " in readdlm at datafmt.jl:46"
       ]
      }
     ],
     "prompt_number": 21
    },
    {
     "cell_type": "markdown",
     "metadata": {},
     "source": [
      "![E141 food dye](http://i00.i.aliimg.com/photo/v0/270778768/vitamins_sodium_copper_chlorophyllin.jpg)"
     ]
    },
    {
     "cell_type": "markdown",
     "metadata": {},
     "source": [
      "### Azobenzene\n",
      "\n",
      "[Azobenzene](http://en.wikipedia.org/wiki/Azobenzene) is an azo compound which demonstrates a particular chemical reaction known as [photoisomerization](http://en.wikipedia.org/wiki/Photoisomerization)."
     ]
    },
    {
     "cell_type": "code",
     "collapsed": false,
     "input": [
      "#Download UV-vis spectrum from NIST Chemistry Webbook\n",
      "jcampid = \"C103333\"    #azobenzene\n",
      "\n",
      "A=parse_jcampdx(download(\"http://webbook.nist.gov/cgi/cbook.cgi?JCAMP=$(jcampid)&Index=0&Type=UVVis\"))\n",
      "showcolors(A)"
     ],
     "language": "python",
     "metadata": {},
     "outputs": [
      {
       "output_type": "stream",
       "stream": "stderr",
       "text": [
        "  % Total    % Received % Xferd  Average Speed   Time    Time     Time  Current\n",
        "                                 Dload  Upload   Total   Spent    Left  Speed\n",
        "\r",
        "  0     0    0     0    0     0      0      0 --:--:-- --:--:-- --:--:--     0"
       ]
      },
      {
       "output_type": "stream",
       "stream": "stderr",
       "text": [
        "\r"
       ]
      },
      {
       "output_type": "stream",
       "stream": "stderr",
       "text": [
        "100  1072    0  1072    0     0   2668      0 --:--:-- --:--:-- --:--:--  2666"
       ]
      },
      {
       "output_type": "stream",
       "stream": "stderr",
       "text": [
        "\r",
        "100 20890    0 20890    0     0  31585      0 --:--:-- --:--:-- --:--:-- 31555\n"
       ]
      },
      {
       "ename": "LoadError",
       "evalue": "showcolors not defined\nwhile loading In[22], in expression starting on line 5",
       "output_type": "pyerr",
       "traceback": [
        "showcolors not defined\nwhile loading In[22], in expression starting on line 5"
       ]
      }
     ],
     "prompt_number": 22
    },
    {
     "cell_type": "markdown",
     "metadata": {},
     "source": [
      "Here is a picture of a thin film made from azobenzene.\n",
      "\n",
      "![Azobenzene thin film](http://www.per-forms.net/wp-content/uploads/2010/11/Cliffffffboard-1.jpg)"
     ]
    },
    {
     "cell_type": "markdown",
     "metadata": {},
     "source": [
      "### Dichromate [Cr$_2$O$_7$]$^{2-}$"
     ]
    },
    {
     "cell_type": "code",
     "collapsed": false,
     "input": [
      "filename=download(\"http://wwwchem.uwimona.edu.jm/spectra/cr2o7.jdx\")\n",
      "rawspectrum=readdlm(filename, skipstart=30)\n",
      "#The columns are wavelength (nm) and absorbance (arbitrary units)\n",
      "A=AbsorbanceSpectrum(rawspectrum[:,1], rawspectrum[:,2])\n",
      "showcolors(A)"
     ],
     "language": "python",
     "metadata": {},
     "outputs": [
      {
       "output_type": "stream",
       "stream": "stderr",
       "text": [
        "  % Total    % Received % Xferd  Average Speed   Time    Time     Time  Current\n",
        "                                 Dload  Upload   Total   Spent    Left  Speed\n",
        "\r",
        "  0     0    0     0    0     0      0      0 --:--:-- --:--:-- --:--:--     0\r",
        "  0     0    0     0    0     0      0      0 --:--:-- --:--:-- --:--:--     0"
       ]
      },
      {
       "output_type": "stream",
       "stream": "stderr",
       "text": [
        "\r",
        "  0     0    0     0    0     0      0"
       ]
      },
      {
       "output_type": "stream",
       "stream": "stderr",
       "text": [
        "      0 --:--:--  0:00:01 --:--:--     0"
       ]
      },
      {
       "output_type": "stream",
       "stream": "stderr",
       "text": [
        "\r",
        "  0     0    0     0    0     0      0     "
       ]
      },
      {
       "output_type": "stream",
       "stream": "stderr",
       "text": [
        " 0 --:--:--  0:00:02 --:--:--     0"
       ]
      },
      {
       "output_type": "stream",
       "stream": "stderr",
       "text": [
        "\r",
        "  0     0    0     0    0     0   "
       ]
      },
      {
       "output_type": "stream",
       "stream": "stderr",
       "text": [
        "   0      0 --:--:--  0:00:03 --:--:--     0"
       ]
      },
      {
       "output_type": "stream",
       "stream": "stderr",
       "text": [
        "\r",
        "  0     0    0     0    0     0      0      0 --:--:--  0:00:04 --:--:--     0"
       ]
      },
      {
       "output_type": "stream",
       "stream": "stderr",
       "text": [
        "\r",
        "  0     0    0     0    0     "
       ]
      },
      {
       "output_type": "stream",
       "stream": "stderr",
       "text": [
        "0      0      0 --:--:--  0:00:05 --:--:--     0"
       ]
      },
      {
       "output_type": "stream",
       "stream": "stderr",
       "text": [
        "\r",
        "  0     0    0     0    0     0      0      0 --:--:--  0:00:06 --:--:--     0"
       ]
      },
      {
       "output_type": "stream",
       "stream": "stderr",
       "text": [
        "\r",
        "  0     0    0     0    0     0      0      0 --:--:--  0:00:07 --:--:--     0"
       ]
      },
      {
       "output_type": "stream",
       "stream": "stderr",
       "text": [
        "\r",
        "  0     0    0 "
       ]
      },
      {
       "output_type": "stream",
       "stream": "stderr",
       "text": [
        "    0    0     0      0      0 --:--:--  0:00:08 --:--:--     0"
       ]
      },
      {
       "output_type": "stream",
       "stream": "stderr",
       "text": [
        "\r",
        "  0     0    0     0    0     0      0      0 --:--:-"
       ]
      },
      {
       "output_type": "stream",
       "stream": "stderr",
       "text": [
        "-  0:00:09 --:--:--     0"
       ]
      },
      {
       "output_type": "stream",
       "stream": "stderr",
       "text": [
        "\r",
        "  0     0    0     0    0     0      0      0 --:--:--  0:00:10 --:--:--     0"
       ]
      },
      {
       "output_type": "stream",
       "stream": "stderr",
       "text": [
        "\r",
        "  0     0    0     0    0     0      0      0 --:--:--  0:00:11 --:--:--     0"
       ]
      },
      {
       "output_type": "stream",
       "stream": "stderr",
       "text": [
        "\r",
        "  0     0    0     0    0     0      0      0 --:--:--  0:00:12 --:--:--     0"
       ]
      },
      {
       "output_type": "stream",
       "stream": "stderr",
       "text": [
        "\r",
        "  0     0    0     0    0     0      0      0 --:-"
       ]
      },
      {
       "output_type": "stream",
       "stream": "stderr",
       "text": [
        "-:--  0:00:13 --:--:--     0"
       ]
      },
      {
       "output_type": "stream",
       "stream": "stderr",
       "text": [
        "\r",
        "  0     0    0     0    0     0      0      0"
       ]
      },
      {
       "output_type": "stream",
       "stream": "stderr",
       "text": [
        " --:--:--  0:00:14 --:--:--     0"
       ]
      },
      {
       "output_type": "stream",
       "stream": "stderr",
       "text": [
        "\r",
        "  0     0    0     0    0     0      0      0 --:--:--  0:00:15 --:--:-- "
       ]
      },
      {
       "output_type": "stream",
       "stream": "stderr",
       "text": [
        "    0"
       ]
      },
      {
       "output_type": "stream",
       "stream": "stderr",
       "text": [
        "\r",
        "  0     0    0     0    0     0      0      0 --:--:--  0:00:16 --:--:--     0"
       ]
      },
      {
       "output_type": "stream",
       "stream": "stderr",
       "text": [
        "\r",
        "  0     0    0     0    0     0      0      0 --:--:--  0:00:17 --:--:--     0"
       ]
      },
      {
       "output_type": "stream",
       "stream": "stderr",
       "text": [
        "\r",
        "  0     0    0     0    0     0      0      0 --:--:--  0:00:18 --:--:"
       ]
      },
      {
       "output_type": "stream",
       "stream": "stderr",
       "text": [
        "--     0"
       ]
      },
      {
       "output_type": "stream",
       "stream": "stderr",
       "text": [
        "\r",
        "  0     0    0     0    0     0  "
       ]
      },
      {
       "output_type": "stream",
       "stream": "stderr",
       "text": [
        "    0      0 --:--:--  0:00:19 --:--:--     0"
       ]
      },
      {
       "output_type": "stream",
       "stream": "stderr",
       "text": [
        "\r",
        "  0     0    0     0    0     0      0      0 --:--:--  0:00:20 --:--:--     0"
       ]
      },
      {
       "output_type": "stream",
       "stream": "stderr",
       "text": [
        "\r",
        "  0     0    0     0    0     0      0     "
       ]
      },
      {
       "output_type": "stream",
       "stream": "stderr",
       "text": [
        " 0 --:--:--  0:00:21 --:--:--     0"
       ]
      },
      {
       "output_type": "stream",
       "stream": "stderr",
       "text": [
        "\r",
        "  0     0    0     0    0     0      0    "
       ]
      },
      {
       "output_type": "stream",
       "stream": "stderr",
       "text": [
        "  0 --:--:--  0:00:22 --:--:--     0"
       ]
      },
      {
       "output_type": "stream",
       "stream": "stderr",
       "text": [
        "\r",
        "  0     0    0     0    0     0      0      0"
       ]
      },
      {
       "output_type": "stream",
       "stream": "stderr",
       "text": [
        " --:--:--  0:00:23 --:--:--     0"
       ]
      },
      {
       "output_type": "stream",
       "stream": "stderr",
       "text": [
        "\r",
        "  0     0    0     0    0     0      0 "
       ]
      },
      {
       "output_type": "stream",
       "stream": "stderr",
       "text": [
        "     0 --:--:--  0:00:24 --:--:--     0"
       ]
      },
      {
       "output_type": "stream",
       "stream": "stderr",
       "text": [
        "\r",
        "  0     0    0     0    0  "
       ]
      },
      {
       "output_type": "stream",
       "stream": "stderr",
       "text": [
        "   0      0      0 --:--:--  0:00:25 --:--:--     0"
       ]
      },
      {
       "output_type": "stream",
       "stream": "stderr",
       "text": [
        "\r",
        "  0     0    0     0    0   "
       ]
      },
      {
       "output_type": "stream",
       "stream": "stderr",
       "text": [
        "  0      0      0 --:--:--  0:00:26 --:--:--     0"
       ]
      },
      {
       "output_type": "stream",
       "stream": "stderr",
       "text": [
        "\r",
        "  0     0    0     0    0    "
       ]
      },
      {
       "output_type": "stream",
       "stream": "stderr",
       "text": [
        " 0      0      0 --:--:--  0:00:27 --:--:--     0"
       ]
      },
      {
       "output_type": "stream",
       "stream": "stderr",
       "text": [
        "\r",
        "  0     0    0     0    0     0      0  "
       ]
      },
      {
       "output_type": "stream",
       "stream": "stderr",
       "text": [
        "    0 --:--:--  0:00:28 --:--:--     0"
       ]
      },
      {
       "output_type": "stream",
       "stream": "stderr",
       "text": [
        "\r",
        "  0     0    0 "
       ]
      },
      {
       "output_type": "stream",
       "stream": "stderr",
       "text": [
        "    0    0     0      0      0 --:--:--  0:00:29 --:--:--     0"
       ]
      },
      {
       "output_type": "stream",
       "stream": "stderr",
       "text": [
        "\r",
        "  0     0    0     0    0     "
       ]
      },
      {
       "output_type": "stream",
       "stream": "stderr",
       "text": [
        "0      0      0 --:--:--  0:00:30 --:--:--     0"
       ]
      },
      {
       "output_type": "stream",
       "stream": "stderr",
       "text": [
        "\r",
        "  0     0    0     0    0     0      0  "
       ]
      },
      {
       "output_type": "stream",
       "stream": "stderr",
       "text": [
        "    0 --:--:--  0:00:31 --:--:--     0"
       ]
      },
      {
       "output_type": "stream",
       "stream": "stderr",
       "text": [
        "\r",
        "  0     0    0     0    0     0      0    "
       ]
      },
      {
       "output_type": "stream",
       "stream": "stderr",
       "text": [
        "  0 --:--:--  0:00:32 --:--:--     0"
       ]
      },
      {
       "output_type": "stream",
       "stream": "stderr",
       "text": [
        "\r",
        "  0     0    0     0    0     0      0      0 --:--:--  "
       ]
      },
      {
       "output_type": "stream",
       "stream": "stderr",
       "text": [
        "0:00:33 --:--:--     0"
       ]
      },
      {
       "output_type": "stream",
       "stream": "stderr",
       "text": [
        "\r",
        "  0     0    0     0    0     0      0 "
       ]
      },
      {
       "output_type": "stream",
       "stream": "stderr",
       "text": [
        "     0 --:--:--  0:00:34 --:--:--     0"
       ]
      },
      {
       "output_type": "stream",
       "stream": "stderr",
       "text": [
        "\r",
        "  0     0    0  "
       ]
      },
      {
       "output_type": "stream",
       "stream": "stderr",
       "text": [
        "   0    0     0      0      0 --:--:--  0:00:35 --:--:--     0"
       ]
      },
      {
       "output_type": "stream",
       "stream": "stderr",
       "text": [
        "\r",
        "  0     0    0     0  "
       ]
      },
      {
       "output_type": "stream",
       "stream": "stderr",
       "text": [
        "  0     0      0      0 --:--:--  0:00:36 --:--:--     0"
       ]
      },
      {
       "output_type": "stream",
       "stream": "stderr",
       "text": [
        "\r",
        "  0     0    0     0    0     0      0      0 --:--:--  0:00:37 --:--:--     0"
       ]
      },
      {
       "output_type": "stream",
       "stream": "stderr",
       "text": [
        "\r",
        "  0     0    0     0    0     0      0      0 --:--:--  0:00:38 --:--:--     0"
       ]
      },
      {
       "output_type": "stream",
       "stream": "stderr",
       "text": [
        "\r",
        "  0     0    0     0    0     0      0      0 --:"
       ]
      },
      {
       "output_type": "stream",
       "stream": "stderr",
       "text": [
        "--:--  0:00:39 --:--:--     0"
       ]
      },
      {
       "output_type": "stream",
       "stream": "stderr",
       "text": [
        "\r",
        "  0     0    0     0    0     0      0      0 --:--:--  0:00:40 --:--:--     0"
       ]
      },
      {
       "output_type": "stream",
       "stream": "stderr",
       "text": [
        "\r",
        "  0     0    0     0    0     "
       ]
      },
      {
       "output_type": "stream",
       "stream": "stderr",
       "text": [
        "0      0      0 --:--:--  0:00:41 --:--:--     0"
       ]
      },
      {
       "output_type": "stream",
       "stream": "stderr",
       "text": [
        "\r",
        "  0     0    0     0    0"
       ]
      },
      {
       "output_type": "stream",
       "stream": "stderr",
       "text": [
        "     0      0      0 --:--:--  0:00:42 --:--:--     0"
       ]
      },
      {
       "output_type": "stream",
       "stream": "stderr",
       "text": [
        "\r",
        "  0     0    0     0    0     0"
       ]
      },
      {
       "output_type": "stream",
       "stream": "stderr",
       "text": [
        "      0      0 --:--:--  0:00:43 --:--:--     0"
       ]
      },
      {
       "output_type": "stream",
       "stream": "stderr",
       "text": [
        "\r",
        "  0     0    0     0    0     0      0      0 --:--:--  0:00:44 --:--:--     0"
       ]
      },
      {
       "output_type": "stream",
       "stream": "stderr",
       "text": [
        "\r",
        "  0     0    0     0    0"
       ]
      },
      {
       "output_type": "stream",
       "stream": "stderr",
       "text": [
        "     0      0      0 --:--:--  0:00:45 --:--:--     0"
       ]
      },
      {
       "output_type": "stream",
       "stream": "stderr",
       "text": [
        "\r",
        "  0     0    0     0    0    "
       ]
      },
      {
       "output_type": "stream",
       "stream": "stderr",
       "text": [
        " 0      0      0 --:--:--  0:00:46 --:--:--     0"
       ]
      },
      {
       "output_type": "stream",
       "stream": "stderr",
       "text": [
        "\r",
        "  0     0    0     0    0     0  "
       ]
      },
      {
       "output_type": "stream",
       "stream": "stderr",
       "text": [
        "    0      0 --:--:--  0:00:47 --:--:--     0"
       ]
      },
      {
       "output_type": "stream",
       "stream": "stderr",
       "text": [
        "\r",
        "  0     0    0     0    0     0      0      0 --:--:"
       ]
      },
      {
       "output_type": "stream",
       "stream": "stderr",
       "text": [
        "--  0:00:48 --:--:--     0"
       ]
      },
      {
       "output_type": "stream",
       "stream": "stderr",
       "text": [
        "\r",
        "  0     0    0     0    0     0"
       ]
      },
      {
       "output_type": "stream",
       "stream": "stderr",
       "text": [
        "      0      0 --:--:--  0:00:49 --:--:--     0"
       ]
      },
      {
       "output_type": "stream",
       "stream": "stderr",
       "text": [
        "\r",
        "  0     0    0     0    0     0      0      0 "
       ]
      },
      {
       "output_type": "stream",
       "stream": "stderr",
       "text": [
        "--:--:--  0:00:50 --:--:--     0"
       ]
      },
      {
       "output_type": "stream",
       "stream": "stderr",
       "text": [
        "\r",
        "  0     0    0     0    0     0      0     "
       ]
      },
      {
       "output_type": "stream",
       "stream": "stderr",
       "text": [
        " 0 --:--:--  0:00:51 --:--:--     0"
       ]
      },
      {
       "output_type": "stream",
       "stream": "stderr",
       "text": [
        "\r",
        "  0     0    0     0    0     0      0      0 --:--:--  0:00:52 --:--:--     0"
       ]
      },
      {
       "output_type": "stream",
       "stream": "stderr",
       "text": [
        "\r",
        "  0     0    0     0    0     0      0      0 --:--:-"
       ]
      },
      {
       "output_type": "stream",
       "stream": "stderr",
       "text": [
        "-  0:00:53 --:--:--     0"
       ]
      },
      {
       "output_type": "stream",
       "stream": "stderr",
       "text": [
        "\r",
        "  0     0    0     0    "
       ]
      },
      {
       "output_type": "stream",
       "stream": "stderr",
       "text": [
        "0     0      0      0 --:--:--  0:00:54 --:--:--     0"
       ]
      },
      {
       "output_type": "stream",
       "stream": "stderr",
       "text": [
        "\r",
        "  0     0    0     0    0     0      0   "
       ]
      },
      {
       "output_type": "stream",
       "stream": "stderr",
       "text": [
        "   0 --:--:--  0:00:55 --:--:--     0"
       ]
      },
      {
       "output_type": "stream",
       "stream": "stderr",
       "text": [
        "\r",
        "  0     0    0     0    0     0      0      0 --:--:--  0:00:56 --:--:-- "
       ]
      },
      {
       "output_type": "stream",
       "stream": "stderr",
       "text": [
        "    0"
       ]
      },
      {
       "output_type": "stream",
       "stream": "stderr",
       "text": [
        "\r",
        "  0     0    0   "
       ]
      },
      {
       "output_type": "stream",
       "stream": "stderr",
       "text": [
        "  0    0     0      0      0 --:--:--  0:00:57 --:--:--     0"
       ]
      },
      {
       "output_type": "stream",
       "stream": "stderr",
       "text": [
        "\r",
        "  0     0    0     0    0     0      0      0 --:--:--  0:00:58 --:--:--     0"
       ]
      },
      {
       "output_type": "stream",
       "stream": "stderr",
       "text": [
        "\r",
        "  0     0    0     0    0    "
       ]
      },
      {
       "output_type": "stream",
       "stream": "stderr",
       "text": [
        " 0      0      0 --:--:--  0:00:59 --:--:--     0"
       ]
      },
      {
       "output_type": "stream",
       "stream": "stderr",
       "text": [
        "\r",
        "  0     0    0     0    0     0    "
       ]
      },
      {
       "output_type": "stream",
       "stream": "stderr",
       "text": [
        "  0      0 --:--:--  0:01:00 --:--:--     0"
       ]
      },
      {
       "output_type": "stream",
       "stream": "stderr",
       "text": [
        "\r",
        "  0     0    0     0    0     0      0      0 --"
       ]
      },
      {
       "output_type": "stream",
       "stream": "stderr",
       "text": [
        ":--:--  0:01:01 --:--:--     0"
       ]
      },
      {
       "output_type": "stream",
       "stream": "stderr",
       "text": [
        "\r",
        "  0     0    0     0    0     0      0      0 "
       ]
      },
      {
       "output_type": "stream",
       "stream": "stderr",
       "text": [
        "--:--:--  0:01:02 --:--:--     0"
       ]
      },
      {
       "output_type": "stream",
       "stream": "stderr",
       "text": [
        "\r",
        "  0     0    0     0    0     0      0      0 --:--:--  0:01:03 --:--:--     0"
       ]
      },
      {
       "output_type": "stream",
       "stream": "stderr",
       "text": [
        "\r",
        "  0     0    0     0    0     0      0      0 --:--:--  0:01:04 --:--:--     0"
       ]
      },
      {
       "output_type": "stream",
       "stream": "stderr",
       "text": [
        "\r",
        "  0     0    0     0    0     0      0      0 --:--:--  0:01:0"
       ]
      },
      {
       "output_type": "stream",
       "stream": "stderr",
       "text": [
        "5 --:--:--     0"
       ]
      },
      {
       "output_type": "stream",
       "stream": "stderr",
       "text": [
        "\r",
        "  0     0    0     0    0     0      0 "
       ]
      },
      {
       "output_type": "stream",
       "stream": "stderr",
       "text": [
        "     0 --:--:--  0:01:06 --:--:--     0"
       ]
      },
      {
       "output_type": "stream",
       "stream": "stderr",
       "text": [
        "\r",
        "  0     0    0     0    0     0      0      0 --:--:--  0:01:07 --:--:--     0"
       ]
      },
      {
       "output_type": "stream",
       "stream": "stderr",
       "text": [
        "\r",
        "  0     0    0     0    0     0      0      0 --:--:--  0:"
       ]
      },
      {
       "output_type": "stream",
       "stream": "stderr",
       "text": [
        "01:08 --:--:--     0"
       ]
      },
      {
       "output_type": "stream",
       "stream": "stderr",
       "text": [
        "\r",
        "  0     0    0     0    0     0      0      0 --:--:--  0:01:09 --:--:--     0"
       ]
      },
      {
       "output_type": "stream",
       "stream": "stderr",
       "text": [
        "\r",
        "  0     0    0     0    0     0      0      0 "
       ]
      },
      {
       "output_type": "stream",
       "stream": "stderr",
       "text": [
        "--:--:--  0:01:10 --:--:--     0"
       ]
      },
      {
       "output_type": "stream",
       "stream": "stderr",
       "text": [
        "\r",
        "  0     0    0     0    0     0      0      0 --:--:--  0:0"
       ]
      },
      {
       "output_type": "stream",
       "stream": "stderr",
       "text": [
        "1:11 --:--:--     0"
       ]
      },
      {
       "output_type": "stream",
       "stream": "stderr",
       "text": [
        "\r",
        "  0     0    0     0    0     0 "
       ]
      },
      {
       "output_type": "stream",
       "stream": "stderr",
       "text": [
        "     0      0 --:--:--  0:01:12 --:--:--     0"
       ]
      },
      {
       "output_type": "stream",
       "stream": "stderr",
       "text": [
        "\r",
        "  0     0    0     0    0    "
       ]
      },
      {
       "output_type": "stream",
       "stream": "stderr",
       "text": [
        " 0      0      0 --:--:--  0:01:13 --:--:--     0"
       ]
      },
      {
       "output_type": "stream",
       "stream": "stderr",
       "text": [
        "\r",
        "  0     0    0     0    0  "
       ]
      },
      {
       "output_type": "stream",
       "stream": "stderr",
       "text": [
        "   0      0      0 --:--:--  0:01:14 --:--:--     0"
       ]
      },
      {
       "output_type": "stream",
       "stream": "stderr",
       "text": [
        "\r",
        "  0     0    0     0    0  "
       ]
      },
      {
       "output_type": "stream",
       "stream": "stderr",
       "text": [
        "   0      0      0 --:--:--  0:01:15 --:--:--     0"
       ]
      },
      {
       "output_type": "stream",
       "stream": "stderr",
       "text": [
        "\r",
        "  0     0    0     0    0     0      0  "
       ]
      },
      {
       "output_type": "stream",
       "stream": "stderr",
       "text": [
        "    0 --:--:--  0:01:16 --:--:--     0"
       ]
      },
      {
       "output_type": "stream",
       "stream": "stderr",
       "text": [
        "\r",
        "  0     0    0     0    0     0    "
       ]
      },
      {
       "output_type": "stream",
       "stream": "stderr",
       "text": [
        "  0      0 --:--:--  0:01:17 --:--:--     0"
       ]
      },
      {
       "output_type": "stream",
       "stream": "stderr",
       "text": [
        "\r",
        "  0     0    0     0"
       ]
      },
      {
       "output_type": "stream",
       "stream": "stderr",
       "text": [
        "    0     0      0      0 --:--:--  0:01:18 --:--:--     0"
       ]
      },
      {
       "output_type": "stream",
       "stream": "stderr",
       "text": [
        "\r",
        "  0     0    0     0    0     0      0 "
       ]
      },
      {
       "output_type": "stream",
       "stream": "stderr",
       "text": [
        "     0 --:--:--  0:01:19 --:--:--     0"
       ]
      },
      {
       "output_type": "stream",
       "stream": "stderr",
       "text": [
        "\r",
        "  0     0    0     0    0     0      "
       ]
      },
      {
       "output_type": "stream",
       "stream": "stderr",
       "text": [
        "0      0 --:--:--  0:01:20 --:--:--     0"
       ]
      },
      {
       "output_type": "stream",
       "stream": "stderr",
       "text": [
        "\r",
        "  0     0    0     0    0     0     "
       ]
      },
      {
       "output_type": "stream",
       "stream": "stderr",
       "text": [
        " 0      0 --:--:--  0:01:21 --:--:--     0"
       ]
      },
      {
       "output_type": "stream",
       "stream": "stderr",
       "text": [
        "\r",
        "  0     0    0     0    0    "
       ]
      },
      {
       "output_type": "stream",
       "stream": "stderr",
       "text": [
        " 0      0      0 --:--:--  0:01:22 --:--:--     0"
       ]
      },
      {
       "output_type": "stream",
       "stream": "stderr",
       "text": [
        "\r",
        "  0     0    0     0    0     0      0      0 "
       ]
      },
      {
       "output_type": "stream",
       "stream": "stderr",
       "text": [
        "--:--:--  0:01:23 --:--:--     0"
       ]
      },
      {
       "output_type": "stream",
       "stream": "stderr",
       "text": [
        "\r",
        "  0     0    0     0    0     0      0      0 --:--:--  0:01:24 --:--:--     0"
       ]
      },
      {
       "output_type": "stream",
       "stream": "stderr",
       "text": [
        "\r",
        "  0     0    0     0    "
       ]
      },
      {
       "output_type": "stream",
       "stream": "stderr",
       "text": [
        "0     0      0      0 --:--:--  0:01:25 --:--:--     0"
       ]
      },
      {
       "output_type": "stream",
       "stream": "stderr",
       "text": [
        "\r",
        "  0     0    0     0    0     0      0      0 -"
       ]
      },
      {
       "output_type": "stream",
       "stream": "stderr",
       "text": [
        "-:--:--  0:01:26 --:--:--     0"
       ]
      },
      {
       "output_type": "stream",
       "stream": "stderr",
       "text": [
        "\r",
        "  0     0    0     0    0     0      "
       ]
      },
      {
       "output_type": "stream",
       "stream": "stderr",
       "text": [
        "0      0 --:--:--  0:01:27 --:--:--     0"
       ]
      },
      {
       "output_type": "stream",
       "stream": "stderr",
       "text": [
        "\r",
        "  0     0    0     0    0     0"
       ]
      },
      {
       "output_type": "stream",
       "stream": "stderr",
       "text": [
        "      0      0 --:--:--  0:01:28 --:--:--     0"
       ]
      },
      {
       "output_type": "stream",
       "stream": "stderr",
       "text": [
        "\r",
        "  0     0    0     0    0    "
       ]
      },
      {
       "output_type": "stream",
       "stream": "stderr",
       "text": [
        " 0      0      0 --:--:--  0:01:29 --:--:--     0"
       ]
      },
      {
       "output_type": "stream",
       "stream": "stderr",
       "text": [
        "\r",
        "  0     0    0     0    "
       ]
      },
      {
       "output_type": "stream",
       "stream": "stderr",
       "text": [
        "0     0      0      0 --:--:--  0:01:30 --:--:--     0"
       ]
      },
      {
       "output_type": "stream",
       "stream": "stderr",
       "text": [
        "\r",
        "  0     0    0     0    0    "
       ]
      },
      {
       "output_type": "stream",
       "stream": "stderr",
       "text": [
        " 0      0      0 --:--:--  0:01:31 --:--:--     0"
       ]
      },
      {
       "output_type": "stream",
       "stream": "stderr",
       "text": [
        "\r",
        "  0     0    0     0    0     0      0      0 "
       ]
      },
      {
       "output_type": "stream",
       "stream": "stderr",
       "text": [
        "--:--:--  0:01:32 --:--:--     0"
       ]
      },
      {
       "output_type": "stream",
       "stream": "stderr",
       "text": [
        "\r",
        "  0     0    0     0    0     0      0      0 --:--:--  0:01:33 --:--:--     0"
       ]
      },
      {
       "output_type": "stream",
       "stream": "stderr",
       "text": [
        "\r",
        "  0     0    0     0    0     0      0      0 "
       ]
      },
      {
       "output_type": "stream",
       "stream": "stderr",
       "text": [
        "--:--:--  0:01:34 --:--:--     0"
       ]
      },
      {
       "output_type": "stream",
       "stream": "stderr",
       "text": [
        "\r",
        "  0     0  "
       ]
      },
      {
       "output_type": "stream",
       "stream": "stderr",
       "text": [
        "  0     0    0     0      0      0 --:--:--  0:01:35 --:--:--     0"
       ]
      },
      {
       "output_type": "stream",
       "stream": "stderr",
       "text": [
        "\r",
        "  0     0    0     0    0     0      0     "
       ]
      },
      {
       "output_type": "stream",
       "stream": "stderr",
       "text": [
        " 0 --:--:--  0:01:36 --:--:--     0"
       ]
      },
      {
       "output_type": "stream",
       "stream": "stderr",
       "text": [
        "\r",
        "  0     0    0     0    "
       ]
      },
      {
       "output_type": "stream",
       "stream": "stderr",
       "text": [
        "0     0      0      0 --:--:--  0:01:37 --:--:--     0"
       ]
      },
      {
       "output_type": "stream",
       "stream": "stderr",
       "text": [
        "\r",
        "  0     0    0     0    0"
       ]
      },
      {
       "output_type": "stream",
       "stream": "stderr",
       "text": [
        "     0      0      0 --:--:--  0:01:38 --:--:--     0"
       ]
      },
      {
       "output_type": "stream",
       "stream": "stderr",
       "text": [
        "\r",
        "  0     0    0     0    0     0      0    "
       ]
      },
      {
       "output_type": "stream",
       "stream": "stderr",
       "text": [
        "  0 --:--:--  0:01:39 --:--:--     0"
       ]
      },
      {
       "output_type": "stream",
       "stream": "stderr",
       "text": [
        "\r",
        "  0     0    0     0    0     0      0      0 --:--:--  0:0"
       ]
      },
      {
       "output_type": "stream",
       "stream": "stderr",
       "text": [
        "1:40 --:--:--     0"
       ]
      },
      {
       "output_type": "stream",
       "stream": "stderr",
       "text": [
        "\r",
        "  0     0    0     0    0     0      0      0 "
       ]
      },
      {
       "output_type": "stream",
       "stream": "stderr",
       "text": [
        "--:--:--  0:01:41 --:--:--     0"
       ]
      },
      {
       "output_type": "stream",
       "stream": "stderr",
       "text": [
        "\r",
        "  0     0    0     0    0     0    "
       ]
      },
      {
       "output_type": "stream",
       "stream": "stderr",
       "text": [
        "  0      0 --:--:--  0:01:42 --:--:--     0"
       ]
      },
      {
       "output_type": "stream",
       "stream": "stderr",
       "text": [
        "\r",
        "  0     0    0     0    0     0      0      0 --"
       ]
      },
      {
       "output_type": "stream",
       "stream": "stderr",
       "text": [
        ":--:--  0:01:43 --:--:--     0"
       ]
      },
      {
       "output_type": "stream",
       "stream": "stderr",
       "text": [
        "\r",
        "  0     0    0"
       ]
      },
      {
       "output_type": "stream",
       "stream": "stderr",
       "text": [
        "     0    0     0      0      0 --:--:--  0:01:44 --:--:--     0"
       ]
      },
      {
       "output_type": "stream",
       "stream": "stderr",
       "text": [
        "\r",
        "  0     0    0     0    0     0      0   "
       ]
      },
      {
       "output_type": "stream",
       "stream": "stderr",
       "text": [
        "   0 --:--:--  0:01:45 --:--:--     0"
       ]
      },
      {
       "output_type": "stream",
       "stream": "stderr",
       "text": [
        "\r",
        "  0     0    0     0"
       ]
      },
      {
       "output_type": "stream",
       "stream": "stderr",
       "text": [
        "    0     0      0      0 --:--:--  0:01:46 --:--:--     0"
       ]
      },
      {
       "output_type": "stream",
       "stream": "stderr",
       "text": [
        "\r",
        "  0     0    0     0    0     0      0      0"
       ]
      },
      {
       "output_type": "stream",
       "stream": "stderr",
       "text": [
        " --:--:--  0:01:47 --:--:--     0"
       ]
      },
      {
       "output_type": "stream",
       "stream": "stderr",
       "text": [
        "\r",
        "  0     0    0     0    0     0    "
       ]
      },
      {
       "output_type": "stream",
       "stream": "stderr",
       "text": [
        "  0      0 --:--:--  0:01:48 --:--:--     0"
       ]
      },
      {
       "output_type": "stream",
       "stream": "stderr",
       "text": [
        "\r",
        "  0     0    0   "
       ]
      },
      {
       "output_type": "stream",
       "stream": "stderr",
       "text": [
        "  0    0     0      0      0 --:--:--  0:01:49 --:--:--     0"
       ]
      },
      {
       "output_type": "stream",
       "stream": "stderr",
       "text": [
        "\r",
        "  0     0    0     0    0     0   "
       ]
      },
      {
       "output_type": "stream",
       "stream": "stderr",
       "text": [
        "   0      0 --:--:--  0:01:50 --:--:--     0"
       ]
      },
      {
       "output_type": "stream",
       "stream": "stderr",
       "text": [
        "\r",
        "  0     0    0     0    0     0      0      0 --:--:--  0:01:51 --:--:--     0"
       ]
      },
      {
       "output_type": "stream",
       "stream": "stderr",
       "text": [
        "\r",
        "  0     0    0     0    "
       ]
      },
      {
       "output_type": "stream",
       "stream": "stderr",
       "text": [
        "0     0      0      0 --:--:--  0:01:52 --:--:--     0"
       ]
      },
      {
       "output_type": "stream",
       "stream": "stderr",
       "text": [
        "\r",
        "  0     0    0     0    0     0      0      0 --:--:--  0:01:53 --:--:--     0"
       ]
      },
      {
       "output_type": "stream",
       "stream": "stderr",
       "text": [
        "\r",
        "  0     0    0     0    0    "
       ]
      },
      {
       "output_type": "stream",
       "stream": "stderr",
       "text": [
        " 0      0      0 --:--:--  0:01:54 --:--:--     0"
       ]
      },
      {
       "output_type": "stream",
       "stream": "stderr",
       "text": [
        "\r",
        "  0     0    0     0    0 "
       ]
      },
      {
       "output_type": "stream",
       "stream": "stderr",
       "text": [
        "    0      0      0 --:--:--  0:01:55 --:--:--     0"
       ]
      },
      {
       "output_type": "stream",
       "stream": "stderr",
       "text": [
        "\r",
        "  0     0    0     0    0     0      0      0 --:--:--  0:01:56 --:--:--     0"
       ]
      },
      {
       "output_type": "stream",
       "stream": "stderr",
       "text": [
        "\r",
        "  0     0    0     0    0     0      0      0 --:--:--  0:01:57 --:--:"
       ]
      },
      {
       "output_type": "stream",
       "stream": "stderr",
       "text": [
        "--     0"
       ]
      },
      {
       "output_type": "stream",
       "stream": "stderr",
       "text": [
        "\r",
        "  0     0    0   "
       ]
      },
      {
       "output_type": "stream",
       "stream": "stderr",
       "text": [
        "  0    0     0      0      0 --:--:--  0:01:58 --:--:--     0"
       ]
      },
      {
       "output_type": "stream",
       "stream": "stderr",
       "text": [
        "\r",
        "  0     0    0     0    0     0      0      0 --:--:--  0:01:59"
       ]
      },
      {
       "output_type": "stream",
       "stream": "stderr",
       "text": [
        " --:--:--     0"
       ]
      },
      {
       "output_type": "stream",
       "stream": "stderr",
       "text": [
        "\r",
        "  0     0    0     0    0     0      "
       ]
      },
      {
       "output_type": "stream",
       "stream": "stderr",
       "text": [
        "0      0 --:--:--  0:02:00 --:--:--     0"
       ]
      },
      {
       "output_type": "stream",
       "stream": "stderr",
       "text": [
        "\r",
        "  0     0    0     0    0     0      0    "
       ]
      },
      {
       "output_type": "stream",
       "stream": "stderr",
       "text": [
        "  0 --:--:--  0:02:01 --:--:--     0"
       ]
      },
      {
       "output_type": "stream",
       "stream": "stderr",
       "text": [
        "\r",
        "  0     0 "
       ]
      },
      {
       "output_type": "stream",
       "stream": "stderr",
       "text": [
        "   0     0    0     0      0      0 --:--:--  0:02:02 --:--:--     0"
       ]
      },
      {
       "output_type": "stream",
       "stream": "stderr",
       "text": [
        "\r",
        "  0     0    0     0    0     0      0      0 --:--:--  0:02:03 --:--:--     0"
       ]
      },
      {
       "output_type": "stream",
       "stream": "stderr",
       "text": [
        "\r",
        "  0     0    0     0    0     0  "
       ]
      },
      {
       "output_type": "stream",
       "stream": "stderr",
       "text": [
        "    0      0 --:--:--  0:02:04 --:--:--     0"
       ]
      },
      {
       "output_type": "stream",
       "stream": "stderr",
       "text": [
        "\r",
        "  0     0    0     0    0     0      0      0 --:--:--  0:02:05 --:--:--     0"
       ]
      },
      {
       "output_type": "stream",
       "stream": "stderr",
       "text": [
        "\r",
        "  0     0    0     0    0     0      0      0 --:--:--  0:02:06 --:--:--     0"
       ]
      },
      {
       "output_type": "stream",
       "stream": "stderr",
       "text": [
        "\r",
        "  0     0    0     0    0     0      0  "
       ]
      },
      {
       "output_type": "stream",
       "stream": "stderr",
       "text": [
        "    0 --:--:--  0:02:07 --:--:--     0"
       ]
      },
      {
       "output_type": "stream",
       "stream": "stderr",
       "text": [
        "\r",
        "  0     0    0     0    0     0      0      0 --:--:--  0:02:08 --:-"
       ]
      },
      {
       "output_type": "stream",
       "stream": "stderr",
       "text": [
        "-:--     0"
       ]
      },
      {
       "output_type": "stream",
       "stream": "stderr",
       "text": [
        "\r",
        "  0     0    0     0    0     0     "
       ]
      },
      {
       "output_type": "stream",
       "stream": "stderr",
       "text": [
        " 0      0 --:--:--  0:02:09 --:--:--     0"
       ]
      },
      {
       "output_type": "stream",
       "stream": "stderr",
       "text": [
        "\r",
        "  0     0    0     0    0     0      0      0 --:--:--  0:02:10 --:--:--     0"
       ]
      },
      {
       "output_type": "stream",
       "stream": "stderr",
       "text": [
        "\r",
        "  0     0    0     0    0     0      0      0 --:--:--  0:02:11 --:--:--     0"
       ]
      },
      {
       "output_type": "stream",
       "stream": "stderr",
       "text": [
        "\r",
        "  0     0    0     0    0     0      0 "
       ]
      },
      {
       "output_type": "stream",
       "stream": "stderr",
       "text": [
        "     0 --:--:--  0:02:12 --:--:--     0"
       ]
      },
      {
       "output_type": "stream",
       "stream": "stderr",
       "text": [
        "\r",
        "  0     0    0     0    0     0      0      0 --:--:--  0:02:1"
       ]
      },
      {
       "output_type": "stream",
       "stream": "stderr",
       "text": [
        "3 --:--:--     0"
       ]
      },
      {
       "output_type": "stream",
       "stream": "stderr",
       "text": [
        "\r",
        "  0     0    0     0    0     0      0  "
       ]
      },
      {
       "output_type": "stream",
       "stream": "stderr",
       "text": [
        "    0 --:--:--  0:02:14 --:--:--     0"
       ]
      },
      {
       "output_type": "stream",
       "stream": "stderr",
       "text": [
        "\r",
        "  0     0    0     0    0     0      0  "
       ]
      },
      {
       "output_type": "stream",
       "stream": "stderr",
       "text": [
        "    0 --:--:--  0:02:15 --:--:--     0"
       ]
      },
      {
       "output_type": "stream",
       "stream": "stderr",
       "text": [
        "\r",
        "  0     0    0     0    0    "
       ]
      },
      {
       "output_type": "stream",
       "stream": "stderr",
       "text": [
        " 0      0      0 --:--:--  0:02:16 --:--:--     0"
       ]
      },
      {
       "output_type": "stream",
       "stream": "stderr",
       "text": [
        "\r",
        "  0     0    0     0    0  "
       ]
      },
      {
       "output_type": "stream",
       "stream": "stderr",
       "text": [
        "   0      0      0 --:--:--  0:02:17 --:--:--     0"
       ]
      },
      {
       "output_type": "stream",
       "stream": "stderr",
       "text": [
        "\r",
        "  0     0    0     0    0   "
       ]
      },
      {
       "output_type": "stream",
       "stream": "stderr",
       "text": [
        "  0      0      0 --:--:--  0:02:18 --:--:--     0"
       ]
      },
      {
       "output_type": "stream",
       "stream": "stderr",
       "text": [
        "\r",
        "  0     0    0     0    0     0      0 "
       ]
      },
      {
       "output_type": "stream",
       "stream": "stderr",
       "text": [
        "     0 --:--:--  0:02:19 --:--:--     0"
       ]
      },
      {
       "output_type": "stream",
       "stream": "stderr",
       "text": [
        "\r",
        "  0     0    0     0    0     0      0  "
       ]
      },
      {
       "output_type": "stream",
       "stream": "stderr",
       "text": [
        "    0 --:--:--  0:02:20 --:--:--     0"
       ]
      },
      {
       "output_type": "stream",
       "stream": "stderr",
       "text": [
        "\r",
        "  0     0    0     0    0 "
       ]
      },
      {
       "output_type": "stream",
       "stream": "stderr",
       "text": [
        "    0      0      0 --:--:--  0:02:21 --:--:--     0"
       ]
      },
      {
       "output_type": "stream",
       "stream": "stderr",
       "text": [
        "\r",
        "  0     0    0     0    0     0      0 "
       ]
      },
      {
       "output_type": "stream",
       "stream": "stderr",
       "text": [
        "     0 --:--:--  0:02:22 --:--:--     0"
       ]
      },
      {
       "output_type": "stream",
       "stream": "stderr",
       "text": [
        "\r",
        "  0     0    0     0    0     0      "
       ]
      },
      {
       "output_type": "stream",
       "stream": "stderr",
       "text": [
        "0      0 --:--:--  0:02:23 --:--:--     0"
       ]
      },
      {
       "output_type": "stream",
       "stream": "stderr",
       "text": [
        "\r",
        "  0     0    0     0    0     "
       ]
      },
      {
       "output_type": "stream",
       "stream": "stderr",
       "text": [
        "0      0      0 --:--:--  0:02:24 --:--:--     0"
       ]
      },
      {
       "output_type": "stream",
       "stream": "stderr",
       "text": [
        "\r",
        "  0     0    0     0    0   "
       ]
      },
      {
       "output_type": "stream",
       "stream": "stderr",
       "text": [
        "  0      0      0 --:--:--  0:02:25 --:--:--     0"
       ]
      },
      {
       "output_type": "stream",
       "stream": "stderr",
       "text": [
        "\r",
        "  0     0    0     0    0     0      0 "
       ]
      },
      {
       "output_type": "stream",
       "stream": "stderr",
       "text": [
        "     0 --:--:--  0:02:26 --:--:--     0"
       ]
      },
      {
       "output_type": "stream",
       "stream": "stderr",
       "text": [
        "\r",
        "  0     0    0     0    0 "
       ]
      },
      {
       "output_type": "stream",
       "stream": "stderr",
       "text": [
        "    0      0      0 --:--:--  0:02:27 --:--:--     0"
       ]
      },
      {
       "output_type": "stream",
       "stream": "stderr",
       "text": [
        "\r",
        "  0     0    0     0    0     0      0  "
       ]
      },
      {
       "output_type": "stream",
       "stream": "stderr",
       "text": [
        "    0 --:--:--  0:02:28 --:--:--     0"
       ]
      },
      {
       "output_type": "stream",
       "stream": "stderr",
       "text": [
        "\r",
        "  0     0    0     0  "
       ]
      },
      {
       "output_type": "stream",
       "stream": "stderr",
       "text": [
        "  0     0      0      0 --:--:--  0:02:29 --:--:--     0"
       ]
      },
      {
       "output_type": "stream",
       "stream": "stderr",
       "text": [
        "\r",
        " 98  1183   98  1168    0     0      7   "
       ]
      },
      {
       "output_type": "stream",
       "stream": "stderr",
       "text": [
        "   0  0:02:49  0:02:30  0:00:19   236\r",
        "100  1183  100  1183    0     0      7      0  0:02:49  0:02:30  0:00:19   299\n"
       ]
      },
      {
       "ename": "LoadError",
       "evalue": "unexpected character '<' after quoted field at row 2 column 6\nwhile loading In[23], in expression starting on line 2",
       "output_type": "pyerr",
       "traceback": [
        "unexpected character '<' after quoted field at row 2 column 6\nwhile loading In[23], in expression starting on line 2",
        " in error at error.jl:21",
        " in dlm_parse at datafmt.jl:482",
        " in dlm_parse at datafmt.jl:329",
        " in readdlm_string at datafmt.jl:259",
        " in readdlm_auto at datafmt.jl:59",
        " in readdlm at datafmt.jl:49",
        " in readdlm at datafmt.jl:46"
       ]
      }
     ],
     "prompt_number": 23
    },
    {
     "cell_type": "markdown",
     "metadata": {},
     "source": [
      "![Ammonium dichromate crystals in watchglass](http://upload.wikimedia.org/wikipedia/commons/b/b6/Ammonium-dichromate-sample.jpg)"
     ]
    },
    {
     "cell_type": "markdown",
     "metadata": {},
     "source": [
      "### Pentacene"
     ]
    },
    {
     "cell_type": "code",
     "collapsed": false,
     "input": [
      "#Download UV-vis spectrum from NIST Chemistry Webbook\n",
      "#jcampid = \"C196203\"    #9,10-Dibromoanthracene\n",
      "jcampid = \"C135488\"     #pentacene\n",
      "\n",
      "A=parse_jcampdx(download(\"http://webbook.nist.gov/cgi/cbook.cgi?JCAMP=$(jcampid)&Index=0&Type=UVVis\"))\n",
      "showcolors(A)"
     ],
     "language": "python",
     "metadata": {},
     "outputs": [
      {
       "output_type": "stream",
       "stream": "stderr",
       "text": [
        "  % Total    % Received % Xferd  Average Speed   Time    Time     Time  Current\n",
        "                                 Dload  Upload   Total   Spent    Left  Speed\n",
        "\r",
        "  0     0    0     0    0     0      0      0 --:--:-- --:--:-- --:--:--     0"
       ]
      },
      {
       "output_type": "stream",
       "stream": "stderr",
       "text": [
        "\r",
        "100  6200    0  6200    0     0  13001      0 --:--:-- "
       ]
      },
      {
       "output_type": "stream",
       "stream": "stderr",
       "text": [
        "--:--:-- --:--:-- 13025\n"
       ]
      },
      {
       "ename": "LoadError",
       "evalue": "showcolors not defined\nwhile loading In[24], in expression starting on line 6",
       "output_type": "pyerr",
       "traceback": [
        "showcolors not defined\nwhile loading In[24], in expression starting on line 6"
       ]
      }
     ],
     "prompt_number": 24
    },
    {
     "cell_type": "markdown",
     "metadata": {},
     "source": [
      "![pentacene thin film](http://www.sigmaaldrich.com/content/dam/sigma-aldrich/articles/material-matters/material-matters-volume5/figure4.gif)"
     ]
    },
    {
     "cell_type": "markdown",
     "metadata": {},
     "source": [
      "### Rhodamine B"
     ]
    },
    {
     "cell_type": "code",
     "collapsed": false,
     "input": [
      "#A=parse_photochemcad(download(\"http://omlc.ogi.edu/spectra/PhotochemCAD/data/009-abs.txt\"))\n",
      "\n",
      "#Smooth out A with a simple moving average\n",
      "function sma{T}(A::AbstractVector{T}, n=8)\n",
      "    B=copy(A)\n",
      "    avg=sum(A[1:n])/n\n",
      "    for i=n+1:length(A)\n",
      "        avg += (A[i] - A[i-n])/n\n",
      "        B[i] = avg\n",
      "    end\n",
      "    B\n",
      "end\n",
      "B=copy(A.\u03f5)\n",
      "B[A.\u03bb .> 600] = 0 #Zero out some noise\n",
      "B=sma(B)\n",
      "showcolors(AbsorbanceSpectrum(A.\u03bb, B))"
     ],
     "language": "python",
     "metadata": {},
     "outputs": [
      {
       "ename": "LoadError",
       "evalue": "showcolors not defined\nwhile loading In[25], in expression starting on line 16",
       "output_type": "pyerr",
       "traceback": [
        "showcolors not defined\nwhile loading In[25], in expression starting on line 16"
       ]
      }
     ],
     "prompt_number": 25
    },
    {
     "cell_type": "markdown",
     "metadata": {},
     "source": [
      "![rhodamine b](http://image.made-in-china.com/43f34j00kZOTfIJYhtqc/Solvent-Red-49-Rhodamine-B-Base-.jpg)"
     ]
    },
    {
     "cell_type": "markdown",
     "metadata": {},
     "source": [
      "### Iodine"
     ]
    },
    {
     "cell_type": "code",
     "collapsed": false,
     "input": [
      "#Data source:\n",
      "#The MPI-Mainz UV/VIS Spectral Atlas\n",
      "#of Gaseous Molecules of Atmospheric Interest\n",
      "filename=download(\"http://joseba.mpch-mainz.mpg.de/spectral_atlas_data/cross_sections/Halogens+mixed%20halogens/I2_Tellinghuisen(2011)_308K_390-900nm.txt\")\n",
      "S=readdlm(filename, skipstart=2)\n",
      "A=AbsorbanceSpectrum(S[:,1], S[:,2])\n",
      "showcolors(A)"
     ],
     "language": "python",
     "metadata": {},
     "outputs": [
      {
       "output_type": "stream",
       "stream": "stderr",
       "text": [
        "  % Total    % Received % Xferd  Average Speed   Time    Time     Time  Current\n",
        "                                 Dload  Upload   Total   Spent    Left  Speed\n",
        "\r",
        "  0     0    0     0    0     0      0      0 --:--:-- --:--:-- --:--:--     0"
       ]
      },
      {
       "output_type": "stream",
       "stream": "stderr",
       "text": [
        "\r",
        "  0     0    0     0    0     0      0      0 --:--:-- --:-"
       ]
      },
      {
       "output_type": "stream",
       "stream": "stderr",
       "text": [
        "-:-- --:--:--     0"
       ]
      },
      {
       "output_type": "stream",
       "stream": "stderr",
       "text": [
        "\r",
        "100  1845  100  1845    0     0   4481      0 --:--:-- --:--:-- --:--:--  4478\n"
       ]
      },
      {
       "ename": "LoadError",
       "evalue": "showcolors not defined\nwhile loading In[26], in expression starting on line 7",
       "output_type": "pyerr",
       "traceback": [
        "showcolors not defined\nwhile loading In[26], in expression starting on line 7"
       ]
      }
     ],
     "prompt_number": 26
    },
    {
     "cell_type": "markdown",
     "metadata": {},
     "source": [
      "Here is an image of sublimed elemental iodine, showing off its famous purple color.\n",
      "\n",
      "![Iodine in watchglass](http://farm9.staticflickr.com/8372/8457016550_9ee1584914_n.jpg)"
     ]
    },
    {
     "cell_type": "markdown",
     "metadata": {},
     "source": [
      "(It's interesting to see how to perceived colors change as a function of concentration - it's common knowledge in photochemistry that perceptual colors may change in this way, and that looking for new structure in the spectrum is the only sure way to detect further chemical reactions which may cause colors to change even more drastically.)"
     ]
    }
   ],
   "metadata": {}
  }
 ]
}